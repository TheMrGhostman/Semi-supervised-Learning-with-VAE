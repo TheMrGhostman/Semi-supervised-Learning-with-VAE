{
 "cells": [
  {
   "cell_type": "code",
   "execution_count": 1,
   "metadata": {},
   "outputs": [],
   "source": [
    "import numpy as np\n",
    "import pandas as pd\n",
    "import os \n",
    "import time\n",
    "import deepdish.io as dd\n",
    "import matplotlib.pyplot as plt\n",
    "from mpl_toolkits.mplot3d import Axes3D\n",
    "\n",
    "import torch\n",
    "import torch.nn as nn\n",
    "import torchvision\n",
    "import torch.nn.functional as F\n",
    "\n",
    "from sklearn.model_selection import train_test_split\n",
    "from sklearn.preprocessing import RobustScaler, StandardScaler\n",
    "from sklearn.svm import SVC\n",
    "from sklearn.metrics import confusion_matrix, accuracy_score\n",
    "\n",
    "from svi import SVI\n",
    "import models as m\n",
    "import datasets as d"
   ]
  },
  {
   "cell_type": "code",
   "execution_count": 2,
   "metadata": {},
   "outputs": [
    {
     "name": "stdout",
     "output_type": "stream",
     "text": [
      "cuda:0\n"
     ]
    }
   ],
   "source": [
    "device = torch.device(\"cuda:0\" if torch.cuda.is_available() else \"cpu\")\n",
    "print(device)"
   ]
  },
  {
   "cell_type": "code",
   "execution_count": 3,
   "metadata": {},
   "outputs": [],
   "source": [
    "data = dd.load(\"sequenced_data_for_VAE_lenght-160_stride-10.h5\")"
   ]
  },
  {
   "cell_type": "code",
   "execution_count": 4,
   "metadata": {},
   "outputs": [],
   "source": [
    "X,y = data[\"X\"], data[\"y\"]"
   ]
  },
  {
   "cell_type": "code",
   "execution_count": 5,
   "metadata": {},
   "outputs": [
    {
     "data": {
      "text/plain": [
       "tensor([[0.1872, 0.1890, 0.1805,  ..., 0.1791, 0.1756, 0.1754],\n",
       "        [0.1980, 0.1989, 0.1974,  ..., 0.1850, 0.1930, 0.1860],\n",
       "        [0.2103, 0.2107, 0.2080,  ..., 0.1960, 0.2044, 0.2041],\n",
       "        ...,\n",
       "        [0.4694, 0.4644, 0.4707,  ..., 0.4877, 0.4774, 0.4771],\n",
       "        [0.5260, 0.5163, 0.5141,  ..., 0.4935, 0.5005, 0.5110],\n",
       "        [0.5704, 0.5643, 0.5629,  ..., 0.5024, 0.4991, 0.5269]],\n",
       "       dtype=torch.float64)"
      ]
     },
     "execution_count": 5,
     "metadata": {},
     "output_type": "execute_result"
    }
   ],
   "source": [
    "X"
   ]
  },
  {
   "cell_type": "code",
   "execution_count": 6,
   "metadata": {},
   "outputs": [],
   "source": [
    "X_train, X_test, y_train, y_test = train_test_split(np.array(X), np.array(y), test_size=0.2, random_state=666, shuffle=True)"
   ]
  },
  {
   "cell_type": "code",
   "execution_count": 7,
   "metadata": {},
   "outputs": [],
   "source": [
    "scaler = StandardScaler()\n",
    "X_train = scaler.fit_transform(X_train)\n",
    "X_test = scaler.transform(X_test)"
   ]
  },
  {
   "cell_type": "code",
   "execution_count": 8,
   "metadata": {},
   "outputs": [],
   "source": [
    "X_train = torch.tensor(X_train.astype('float32'))\n",
    "X_test = torch.tensor(X_test.astype('float32'))"
   ]
  },
  {
   "cell_type": "code",
   "execution_count": 9,
   "metadata": {},
   "outputs": [],
   "source": [
    "X_train = X_train.to(device)\n",
    "X_test = X_test.to(device)"
   ]
  },
  {
   "cell_type": "markdown",
   "metadata": {},
   "source": [
    "# standartní VAE"
   ]
  },
  {
   "cell_type": "code",
   "execution_count": 21,
   "metadata": {},
   "outputs": [],
   "source": [
    "VAE = torch.load(\"VAE-saved_model_and_losses/DeepDenseVAE_mark_V_[160-256-128-15]_VDO_GNLL_400ep_lr-1e-4.pt\")"
   ]
  },
  {
   "cell_type": "code",
   "execution_count": 22,
   "metadata": {},
   "outputs": [
    {
     "data": {
      "text/plain": [
       "DeepDenseVAE_mark_V(\n",
       "  (encoder): Sequential(\n",
       "    (0): Linear(in_features=160, out_features=256, bias=True)\n",
       "    (1): ELU(alpha=1.0)\n",
       "    (2): Linear(in_features=256, out_features=128, bias=True)\n",
       "    (3): ELU(alpha=1.0)\n",
       "    (4): VariationalLayer(\n",
       "      (mu): Linear(in_features=128, out_features=15, bias=True)\n",
       "      (rho): Linear(in_features=128, out_features=15, bias=True)\n",
       "      (softplus): Softplus(beta=1, threshold=20)\n",
       "    )\n",
       "  )\n",
       "  (decoder): Sequential(\n",
       "    (0): Linear(in_features=15, out_features=128, bias=True)\n",
       "    (1): ELU(alpha=1.0)\n",
       "    (2): Linear(in_features=128, out_features=256, bias=True)\n",
       "    (3): ELU(alpha=1.0)\n",
       "    (4): VariationalDecoderOutput(\n",
       "      (mu): Linear(in_features=256, out_features=160, bias=True)\n",
       "      (rho): Linear(in_features=256, out_features=1, bias=True)\n",
       "      (softplus): Softplus(beta=1, threshold=20)\n",
       "    )\n",
       "  )\n",
       ")"
      ]
     },
     "execution_count": 22,
     "metadata": {},
     "output_type": "execute_result"
    }
   ],
   "source": [
    "VAE.eval()"
   ]
  },
  {
   "cell_type": "code",
   "execution_count": 35,
   "metadata": {},
   "outputs": [],
   "source": [
    "Z_hat, mu_tr, sigma_tr = VAE.encoder(X_train.to(device))\n",
    "mu_train = mu_tr.cpu().detach().numpy()\n",
    "\n",
    "Z_hat, mu_te, sigma_te = VAE.encoder(X_test.to(device))\n",
    "mu_test = mu_te.cpu().detach().numpy()"
   ]
  },
  {
   "cell_type": "code",
   "execution_count": 42,
   "metadata": {},
   "outputs": [],
   "source": [
    "clf = SVC(kernel=\"rbf\", C=100, gamma=0.1, verbose=True)"
   ]
  },
  {
   "cell_type": "code",
   "execution_count": 43,
   "metadata": {},
   "outputs": [
    {
     "name": "stdout",
     "output_type": "stream",
     "text": [
      "[LibSVM]"
     ]
    },
    {
     "data": {
      "text/plain": [
       "SVC(C=100, cache_size=200, class_weight=None, coef0=0.0,\n",
       "    decision_function_shape='ovr', degree=3, gamma=0.1, kernel='rbf',\n",
       "    max_iter=-1, probability=False, random_state=None, shrinking=True,\n",
       "    tol=0.001, verbose=True)"
      ]
     },
     "execution_count": 43,
     "metadata": {},
     "output_type": "execute_result"
    }
   ],
   "source": [
    "clf.fit(mu_train, y_train)"
   ]
  },
  {
   "cell_type": "code",
   "execution_count": 44,
   "metadata": {},
   "outputs": [],
   "source": [
    "y_pred = clf.predict(mu_test)"
   ]
  },
  {
   "cell_type": "code",
   "execution_count": 46,
   "metadata": {},
   "outputs": [
    {
     "data": {
      "text/plain": [
       "array([[2767, 1329,   26,  113],\n",
       "       [ 543, 9704,   46,  152],\n",
       "       [  35,   67,  355,   22],\n",
       "       [ 248,  210,   13, 1106]], dtype=int64)"
      ]
     },
     "execution_count": 46,
     "metadata": {},
     "output_type": "execute_result"
    }
   ],
   "source": [
    "confusion_matrix(y_true=y_test, y_pred=y_pred)"
   ]
  },
  {
   "cell_type": "code",
   "execution_count": 49,
   "metadata": {},
   "outputs": [
    {
     "data": {
      "text/plain": [
       "0.8324569789674953"
      ]
     },
     "execution_count": 49,
     "metadata": {},
     "output_type": "execute_result"
    }
   ],
   "source": [
    "accuracy_score(y_true=y_test, y_pred=y_pred)"
   ]
  },
  {
   "cell_type": "code",
   "execution_count": 1,
   "metadata": {
    "collapsed": true
   },
   "outputs": [
    {
     "ename": "NameError",
     "evalue": "name 'dd' is not defined",
     "output_type": "error",
     "traceback": [
      "\u001b[1;31m---------------------------------------------------------------------------\u001b[0m",
      "\u001b[1;31mNameError\u001b[0m                                 Traceback (most recent call last)",
      "\u001b[1;32m<ipython-input-1-14e5b69bc860>\u001b[0m in \u001b[0;36m<module>\u001b[1;34m\u001b[0m\n\u001b[1;32m----> 1\u001b[1;33m \u001b[0mdd\u001b[0m\u001b[1;33m.\u001b[0m\u001b[0msave\u001b[0m\u001b[1;33m(\u001b[0m\u001b[1;34m\"VAE-saved_model_and_losses/SVM-rbf_on_VAE_latent_space.h5\"\u001b[0m\u001b[1;33m,\u001b[0m \u001b[0mclf\u001b[0m\u001b[1;33m)\u001b[0m\u001b[1;33m\u001b[0m\u001b[1;33m\u001b[0m\u001b[0m\n\u001b[0m",
      "\u001b[1;31mNameError\u001b[0m: name 'dd' is not defined"
     ]
    }
   ],
   "source": [
    "dd.save(\"VAE-saved_model_and_losses/SVM-rbf_on_VAE_latent_space.h5\", clf)"
   ]
  },
  {
   "cell_type": "code",
   "execution_count": 50,
   "metadata": {},
   "outputs": [],
   "source": [
    "clf_linear = SVC(kernel=\"linear\", C=100, verbose=True)"
   ]
  },
  {
   "cell_type": "code",
   "execution_count": null,
   "metadata": {},
   "outputs": [
    {
     "name": "stdout",
     "output_type": "stream",
     "text": [
      "[LibSVM]"
     ]
    }
   ],
   "source": [
    "clf_linear.fit(mu_train, y_train)"
   ]
  },
  {
   "cell_type": "markdown",
   "metadata": {},
   "source": [
    "# CNN-VAE (elu)"
   ]
  },
  {
   "cell_type": "code",
   "execution_count": 10,
   "metadata": {},
   "outputs": [],
   "source": [
    "CNNVAE1 = torch.load(\"VAE-saved_model_and_losses/DeepConvVAE_ELU_NLL_250ep_lr-{1e-3, 1e-4}_bs-300.pt\")"
   ]
  },
  {
   "cell_type": "code",
   "execution_count": 11,
   "metadata": {},
   "outputs": [
    {
     "data": {
      "text/plain": [
       "DeepConvVAE_ELU(\n",
       "  (encoder): Sequential(\n",
       "    (0): Reshape()\n",
       "    (1): Conv1d(1, 16, kernel_size=(6,), stride=(2,))\n",
       "    (2): ELU(alpha=1.0)\n",
       "    (3): Conv1d(16, 32, kernel_size=(4,), stride=(2,))\n",
       "    (4): ELU(alpha=1.0)\n",
       "    (5): Conv1d(32, 64, kernel_size=(4,), stride=(2,))\n",
       "    (6): ELU(alpha=1.0)\n",
       "    (7): Flatten()\n",
       "    (8): VariationalLayer(\n",
       "      (mu): Linear(in_features=1152, out_features=15, bias=True)\n",
       "      (rho): Linear(in_features=1152, out_features=15, bias=True)\n",
       "      (softplus): Softplus(beta=1, threshold=20)\n",
       "    )\n",
       "  )\n",
       "  (decoder): Sequential(\n",
       "    (0): Linear(in_features=15, out_features=1152, bias=True)\n",
       "    (1): ELU(alpha=1.0)\n",
       "    (2): Reshape()\n",
       "    (3): ConvTranspose1d(64, 32, kernel_size=(4,), stride=(2,))\n",
       "    (4): ELU(alpha=1.0)\n",
       "    (5): ConvTranspose1d(32, 16, kernel_size=(4,), stride=(2,))\n",
       "    (6): ELU(alpha=1.0)\n",
       "    (7): ConvTransposeDecoderOutput(\n",
       "      (mu): ConvTranspose1d(16, 1, kernel_size=(6,), stride=(2,))\n",
       "      (rho): Linear(in_features=1248, out_features=1, bias=True)\n",
       "      (flatten): Flatten()\n",
       "      (flatten_mu): Flatten()\n",
       "      (softplus): Softplus(beta=1, threshold=20)\n",
       "    )\n",
       "  )\n",
       ")"
      ]
     },
     "execution_count": 11,
     "metadata": {},
     "output_type": "execute_result"
    }
   ],
   "source": [
    "CNNVAE1.eval()"
   ]
  },
  {
   "cell_type": "code",
   "execution_count": 12,
   "metadata": {},
   "outputs": [],
   "source": [
    "Z_hat, mu_tr, sigma_tr = CNNVAE1.encoder(X_train)\n",
    "mu_train = mu_tr.cpu().detach().numpy()\n",
    "\n",
    "Z_hat, mu_te, sigma_te = CNNVAE1.encoder(X_test)\n",
    "mu_test = mu_te.cpu().detach().numpy()"
   ]
  },
  {
   "cell_type": "code",
   "execution_count": 13,
   "metadata": {},
   "outputs": [],
   "source": [
    "CNNVAE1clf_rbf = SVC(kernel=\"rbf\", C=100, gamma=0.1, verbose=True)"
   ]
  },
  {
   "cell_type": "code",
   "execution_count": 14,
   "metadata": {},
   "outputs": [
    {
     "name": "stdout",
     "output_type": "stream",
     "text": [
      "[LibSVM]"
     ]
    },
    {
     "data": {
      "text/plain": [
       "SVC(C=100, cache_size=200, class_weight=None, coef0=0.0,\n",
       "    decision_function_shape='ovr', degree=3, gamma=0.1, kernel='rbf',\n",
       "    max_iter=-1, probability=False, random_state=None, shrinking=True,\n",
       "    tol=0.001, verbose=True)"
      ]
     },
     "execution_count": 14,
     "metadata": {},
     "output_type": "execute_result"
    }
   ],
   "source": [
    "CNNVAE1clf_rbf.fit(mu_train, y_train)"
   ]
  },
  {
   "cell_type": "code",
   "execution_count": 15,
   "metadata": {},
   "outputs": [],
   "source": [
    "y_pred = CNNVAE1clf_rbf.predict(mu_test)"
   ]
  },
  {
   "cell_type": "code",
   "execution_count": 16,
   "metadata": {},
   "outputs": [
    {
     "data": {
      "text/plain": [
       "array([[2673, 1398,   30,  134],\n",
       "       [ 383, 9878,   39,  145],\n",
       "       [  36,   57,  364,   22],\n",
       "       [ 234,  174,   17, 1152]], dtype=int64)"
      ]
     },
     "execution_count": 16,
     "metadata": {},
     "output_type": "execute_result"
    }
   ],
   "source": [
    "confusion_matrix(y_true=y_test, y_pred=y_pred)"
   ]
  },
  {
   "cell_type": "code",
   "execution_count": 17,
   "metadata": {},
   "outputs": [
    {
     "data": {
      "text/plain": [
       "0.8405234225621415"
      ]
     },
     "execution_count": 17,
     "metadata": {},
     "output_type": "execute_result"
    }
   ],
   "source": [
    "accuracy_score(y_true=y_test, y_pred=y_pred)"
   ]
  },
  {
   "cell_type": "code",
   "execution_count": 18,
   "metadata": {},
   "outputs": [],
   "source": [
    "dd.save(\"VAE-saved_model_and_losses/SVM-rbf_on_CNNVAE-elu_latent_space.h5\", CNNVAE1clf_rbf)"
   ]
  },
  {
   "cell_type": "markdown",
   "metadata": {},
   "source": [
    "# CNN-VAE (relu)"
   ]
  },
  {
   "cell_type": "code",
   "execution_count": 10,
   "metadata": {},
   "outputs": [],
   "source": [
    "CNNVAE2 = torch.load(\"VAE-saved_model_and_losses/DeepConvVAE_ReLU_NLL_200ep_lr-1e-4_bs-100.pt\")"
   ]
  },
  {
   "cell_type": "code",
   "execution_count": 11,
   "metadata": {},
   "outputs": [
    {
     "data": {
      "text/plain": [
       "DeepConvVAE(\n",
       "  (encoder): Sequential(\n",
       "    (0): Reshape()\n",
       "    (1): Conv1d(1, 16, kernel_size=(6,), stride=(2,))\n",
       "    (2): ReLU()\n",
       "    (3): Conv1d(16, 32, kernel_size=(4,), stride=(2,))\n",
       "    (4): ReLU()\n",
       "    (5): Conv1d(32, 64, kernel_size=(4,), stride=(2,))\n",
       "    (6): ReLU()\n",
       "    (7): Flatten()\n",
       "    (8): VariationalLayer(\n",
       "      (mu): Linear(in_features=1152, out_features=15, bias=True)\n",
       "      (rho): Linear(in_features=1152, out_features=15, bias=True)\n",
       "      (softplus): Softplus(beta=1, threshold=20)\n",
       "    )\n",
       "  )\n",
       "  (decoder): Sequential(\n",
       "    (0): Linear(in_features=15, out_features=1152, bias=True)\n",
       "    (1): ReLU()\n",
       "    (2): Reshape()\n",
       "    (3): ConvTranspose1d(64, 32, kernel_size=(4,), stride=(2,))\n",
       "    (4): ReLU()\n",
       "    (5): ConvTranspose1d(32, 16, kernel_size=(4,), stride=(2,))\n",
       "    (6): ReLU()\n",
       "    (7): ConvTransposeDecoderOutput(\n",
       "      (mu): ConvTranspose1d(16, 1, kernel_size=(6,), stride=(2,))\n",
       "      (rho): Linear(in_features=1248, out_features=1, bias=True)\n",
       "      (flatten): Flatten()\n",
       "      (flatten_mu): Flatten()\n",
       "      (softplus): Softplus(beta=1, threshold=20)\n",
       "    )\n",
       "  )\n",
       ")"
      ]
     },
     "execution_count": 11,
     "metadata": {},
     "output_type": "execute_result"
    }
   ],
   "source": [
    "CNNVAE2.eval()"
   ]
  },
  {
   "cell_type": "code",
   "execution_count": 12,
   "metadata": {},
   "outputs": [],
   "source": [
    "Z_hat, mu_tr, sigma_tr = CNNVAE2.encoder(X_train)\n",
    "mu_train = mu_tr.cpu().detach().numpy()\n",
    "\n",
    "Z_hat, mu_te, sigma_te = CNNVAE2.encoder(X_test)\n",
    "mu_test = mu_te.cpu().detach().numpy()"
   ]
  },
  {
   "cell_type": "code",
   "execution_count": 13,
   "metadata": {},
   "outputs": [],
   "source": [
    "CNNVAE2clf_rbf = SVC(kernel=\"rbf\", C=100, gamma=0.1, verbose=True)"
   ]
  },
  {
   "cell_type": "code",
   "execution_count": 14,
   "metadata": {},
   "outputs": [
    {
     "name": "stdout",
     "output_type": "stream",
     "text": [
      "[LibSVM]"
     ]
    },
    {
     "data": {
      "text/plain": [
       "SVC(C=100, cache_size=200, class_weight=None, coef0=0.0,\n",
       "    decision_function_shape='ovr', degree=3, gamma=0.1, kernel='rbf',\n",
       "    max_iter=-1, probability=False, random_state=None, shrinking=True,\n",
       "    tol=0.001, verbose=True)"
      ]
     },
     "execution_count": 14,
     "metadata": {},
     "output_type": "execute_result"
    }
   ],
   "source": [
    "CNNVAE2clf_rbf.fit(mu_train, y_train)"
   ]
  },
  {
   "cell_type": "code",
   "execution_count": 15,
   "metadata": {},
   "outputs": [],
   "source": [
    "y_pred = CNNVAE2clf_rbf.predict(mu_test)"
   ]
  },
  {
   "cell_type": "code",
   "execution_count": 16,
   "metadata": {},
   "outputs": [
    {
     "data": {
      "text/plain": [
       "array([[2651, 1435,   25,  124],\n",
       "       [ 335, 9933,   38,  139],\n",
       "       [  41,   53,  367,   18],\n",
       "       [ 218,  158,   11, 1190]], dtype=int64)"
      ]
     },
     "execution_count": 16,
     "metadata": {},
     "output_type": "execute_result"
    }
   ],
   "source": [
    "confusion_matrix(y_true=y_test, y_pred=y_pred)"
   ]
  },
  {
   "cell_type": "code",
   "execution_count": 17,
   "metadata": {},
   "outputs": [
    {
     "data": {
      "text/plain": [
       "0.8449450286806883"
      ]
     },
     "execution_count": 17,
     "metadata": {},
     "output_type": "execute_result"
    }
   ],
   "source": [
    "accuracy_score(y_true=y_test, y_pred=y_pred)"
   ]
  },
  {
   "cell_type": "code",
   "execution_count": 18,
   "metadata": {},
   "outputs": [],
   "source": [
    "dd.save(\"VAE-saved_model_and_losses/SVM-rbf_on_CNNVAE-relu_latent_space.h5\", CNNVAE2clf_rbf)"
   ]
  },
  {
   "cell_type": "markdown",
   "metadata": {},
   "source": [
    "# LSTM VAE"
   ]
  },
  {
   "cell_type": "code",
   "execution_count": 19,
   "metadata": {},
   "outputs": [],
   "source": [
    "mu_1 = np.load(\"VAE_saves_and_logs/mu_lstm1.npy\")\n",
    "mu_2 = np.load(\"VAE_saves_and_logs/mu_lstm2.npy\")\n",
    "mu_3 = np.load(\"VAE_saves_and_logs/mu_lstm3.npy\")\n",
    "mu_test = np.load(\"VAE_saves_and_logs/mu_lstm_test.npy\")"
   ]
  },
  {
   "cell_type": "code",
   "execution_count": 21,
   "metadata": {},
   "outputs": [],
   "source": [
    "mu_train = np.concatenate((mu_1, mu_2, mu_3))"
   ]
  },
  {
   "cell_type": "code",
   "execution_count": 22,
   "metadata": {},
   "outputs": [],
   "source": [
    "LSTMVAEclf_rbf = SVC(kernel=\"rbf\", C=100, gamma=0.1, verbose=True)"
   ]
  },
  {
   "cell_type": "code",
   "execution_count": 23,
   "metadata": {},
   "outputs": [
    {
     "name": "stdout",
     "output_type": "stream",
     "text": [
      "[LibSVM]"
     ]
    },
    {
     "data": {
      "text/plain": [
       "SVC(C=100, cache_size=200, class_weight=None, coef0=0.0,\n",
       "    decision_function_shape='ovr', degree=3, gamma=0.1, kernel='rbf',\n",
       "    max_iter=-1, probability=False, random_state=None, shrinking=True,\n",
       "    tol=0.001, verbose=True)"
      ]
     },
     "execution_count": 23,
     "metadata": {},
     "output_type": "execute_result"
    }
   ],
   "source": [
    "LSTMVAEclf_rbf.fit(mu_train, y_train)"
   ]
  },
  {
   "cell_type": "code",
   "execution_count": 24,
   "metadata": {},
   "outputs": [],
   "source": [
    "y_pred = LSTMVAEclf_rbf.predict(mu_test)"
   ]
  },
  {
   "cell_type": "code",
   "execution_count": 25,
   "metadata": {},
   "outputs": [
    {
     "data": {
      "text/plain": [
       "array([[ 2306,  1785,    26,   118],\n",
       "       [  298, 10010,    39,    98],\n",
       "       [   24,    35,   401,    19],\n",
       "       [  184,   152,    18,  1223]], dtype=int64)"
      ]
     },
     "execution_count": 25,
     "metadata": {},
     "output_type": "execute_result"
    }
   ],
   "source": [
    "confusion_matrix(y_true=y_test, y_pred=y_pred)"
   ]
  },
  {
   "cell_type": "code",
   "execution_count": 26,
   "metadata": {},
   "outputs": [
    {
     "data": {
      "text/plain": [
       "0.8329349904397706"
      ]
     },
     "execution_count": 26,
     "metadata": {},
     "output_type": "execute_result"
    }
   ],
   "source": [
    "accuracy_score(y_true=y_test, y_pred=y_pred)"
   ]
  },
  {
   "cell_type": "code",
   "execution_count": 27,
   "metadata": {},
   "outputs": [],
   "source": [
    "dd.save(\"VAE-saved_model_and_losses/SVM-rbf_on_LSTM-VAE_latent_space.h5\", LSTMVAEclf_rbf)"
   ]
  },
  {
   "cell_type": "code",
   "execution_count": null,
   "metadata": {},
   "outputs": [],
   "source": []
  }
 ],
 "metadata": {
  "kernelspec": {
   "display_name": "Pytorch",
   "language": "python",
   "name": "pytorch"
  },
  "language_info": {
   "codemirror_mode": {
    "name": "ipython",
    "version": 3
   },
   "file_extension": ".py",
   "mimetype": "text/x-python",
   "name": "python",
   "nbconvert_exporter": "python",
   "pygments_lexer": "ipython3",
   "version": "3.7.4"
  }
 },
 "nbformat": 4,
 "nbformat_minor": 2
}
