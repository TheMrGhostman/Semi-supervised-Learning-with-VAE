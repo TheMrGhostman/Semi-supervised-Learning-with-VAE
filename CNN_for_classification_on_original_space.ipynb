{
 "cells": [
  {
   "cell_type": "code",
   "execution_count": 1,
   "metadata": {},
   "outputs": [],
   "source": [
    "import numpy as np \n",
    "import time\n",
    "import os\n",
    "\n",
    "import torch \n",
    "import torch.nn as nn\n",
    "import torch.nn.functional as F \n",
    "\n",
    "import matplotlib.pyplot as plt\n",
    "from collections import OrderedDict\n",
    "\n",
    "from sklearn.model_selection import train_test_split\n",
    "from sklearn.preprocessing import RobustScaler, StandardScaler\n",
    "from sklearn.metrics import confusion_matrix, accuracy_score, f1_score"
   ]
  },
  {
   "cell_type": "code",
   "execution_count": 2,
   "metadata": {},
   "outputs": [],
   "source": [
    "from utils.inference import Trainer, plot_loss\n",
    "from utils.models import DNN\n",
    "import utils.datasets as d\n",
    "import utils.layers as layers"
   ]
  },
  {
   "cell_type": "code",
   "execution_count": 3,
   "metadata": {},
   "outputs": [],
   "source": [
    "X = np.vstack((np.load(\"data/sequenced_data_for_VAE_length-160_stride-10_pt1.npy\"),\n",
    "               np.load(\"data/sequenced_data_for_VAE_length-160_stride-10_pt2.npy\")))\n",
    "y = np.load(\"data/sequenced_data_for_VAE_length-160_stride-10_targets.npy\")"
   ]
  },
  {
   "cell_type": "code",
   "execution_count": 4,
   "metadata": {},
   "outputs": [
    {
     "name": "stdout",
     "output_type": "stream",
     "text": [
      "(83680, 160) (83680,)\n"
     ]
    }
   ],
   "source": [
    "print(X.shape, y.shape)"
   ]
  },
  {
   "cell_type": "code",
   "execution_count": 5,
   "metadata": {},
   "outputs": [],
   "source": [
    "X_train, X_test, y_train, y_test = train_test_split(X, y, test_size=0.2, random_state=666)"
   ]
  },
  {
   "cell_type": "code",
   "execution_count": 6,
   "metadata": {},
   "outputs": [],
   "source": [
    "scaler = RobustScaler()\n",
    "X_train = scaler.fit_transform(X_train)\n",
    "X_test = scaler.transform(X_test)"
   ]
  },
  {
   "cell_type": "code",
   "execution_count": 7,
   "metadata": {},
   "outputs": [],
   "source": [
    "X_train, X_validation, y_train, y_validation = train_test_split(X_train, y_train, test_size=0.2, random_state=666)"
   ]
  },
  {
   "cell_type": "code",
   "execution_count": 8,
   "metadata": {},
   "outputs": [],
   "source": [
    "train = d.H_alphaSequences(X_train, y_train)\n",
    "valid = d.H_alphaSequences(X_validation, y_validation)\n",
    "test = d.H_alphaSequences(X_test, y_test)"
   ]
  },
  {
   "cell_type": "markdown",
   "metadata": {},
   "source": [
    "# CNN, bs=100, lr=1e-3, ReLU"
   ]
  },
  {
   "cell_type": "code",
   "execution_count": 9,
   "metadata": {},
   "outputs": [],
   "source": [
    "CNN_1 = nn.Sequential(\n",
    "            layers.Reshape(out_shape=(1,160)),\n",
    "            nn.Conv1d(in_channels=1, out_channels=16, kernel_size=6, stride=2, padding=0, bias=False), # n*1*160 -> n*16*78\n",
    "            nn.ReLU(inplace=True),\n",
    "            layers.CBD1dBlock(in_channels=16, out_channels=32, kernel_size=4, stride=2, bias=False, activation=nn.ReLU(), dropout=0.3),#n*16*78->n*32*38\n",
    "            layers.CBD1dBlock(in_channels=32, out_channels=64, kernel_size=4, stride=2, bias=False, activation=nn.ReLU(), dropout=0.3),#n*32*38->n*64*18\n",
    "            layers.Flatten(out_features=64*18),\n",
    "            nn.Linear(in_features=64*18, out_features=256),\n",
    "            nn.ReLU(inplace=True),\n",
    "            nn.Dropout(p=0.3),\n",
    "            nn.Linear(in_features=256, out_features=4)\n",
    ")"
   ]
  },
  {
   "cell_type": "code",
   "execution_count": 10,
   "metadata": {},
   "outputs": [
    {
     "data": {
      "text/plain": [
       "Sequential(\n",
       "  (0): Reshape()\n",
       "  (1): Conv1d(1, 16, kernel_size=(6,), stride=(2,), bias=False)\n",
       "  (2): ReLU(inplace=True)\n",
       "  (3): CBD1dBlock(\n",
       "    (layer): Conv1d(16, 32, kernel_size=(4,), stride=(2,), bias=False)\n",
       "    (batch_norm): BatchNorm1d(32, eps=1e-05, momentum=0.1, affine=True, track_running_stats=True)\n",
       "    (activation): ReLU()\n",
       "    (dropout): Dropout(p=0.3, inplace=False)\n",
       "  )\n",
       "  (4): CBD1dBlock(\n",
       "    (layer): Conv1d(32, 64, kernel_size=(4,), stride=(2,), bias=False)\n",
       "    (batch_norm): BatchNorm1d(64, eps=1e-05, momentum=0.1, affine=True, track_running_stats=True)\n",
       "    (activation): ReLU()\n",
       "    (dropout): Dropout(p=0.3, inplace=False)\n",
       "  )\n",
       "  (5): Flatten()\n",
       "  (6): Linear(in_features=1152, out_features=256, bias=True)\n",
       "  (7): ReLU(inplace=True)\n",
       "  (8): Dropout(p=0.3, inplace=False)\n",
       "  (9): Linear(in_features=256, out_features=4, bias=True)\n",
       ")"
      ]
     },
     "execution_count": 10,
     "metadata": {},
     "output_type": "execute_result"
    }
   ],
   "source": [
    "CNN_1.eval()"
   ]
  },
  {
   "cell_type": "code",
   "execution_count": 11,
   "metadata": {},
   "outputs": [],
   "source": [
    "train_loader = torch.utils.data.DataLoader(dataset = train, batch_size=100, shuffle=True)\n",
    "valid_loader = torch.utils.data.DataLoader(dataset = valid, batch_size=100, shuffle=True)"
   ]
  },
  {
   "cell_type": "code",
   "execution_count": 12,
   "metadata": {},
   "outputs": [],
   "source": [
    "optimizer= torch.optim.Adam(CNN_1.parameters(), lr=1e-3)"
   ]
  },
  {
   "cell_type": "code",
   "execution_count": 13,
   "metadata": {},
   "outputs": [
    {
     "name": "stdout",
     "output_type": "stream",
     "text": [
      "cuda:0\n"
     ]
    }
   ],
   "source": [
    "m1 = Trainer(\n",
    "        model=CNN_1,\n",
    "        optimizer=optimizer,\n",
    "        loss_function=nn.CrossEntropyLoss(),\n",
    "        #scheduler=torch.optim.lr_scheduler.MultiStepLR(optimizer, milestones=[100], gamma=0.1),\n",
    "        tensorboard=True,\n",
    "        model_name=\"CNN-m.III-Conv1-BN-Drop-0.3_lr-1e-3_bs-100\",\n",
    "        verbose=True\n",
    "        )"
   ]
  },
  {
   "cell_type": "code",
   "execution_count": 14,
   "metadata": {
    "collapsed": true
   },
   "outputs": [
    {
     "name": "stdout",
     "output_type": "stream",
     "text": [
      "Epoch [1/range(0, 200)], average_loss:0.5374, validation_loss:0.4251, val_accuracy:0.7865\n",
      "Epoch [2/range(0, 200)], average_loss:0.4036, validation_loss:0.3762, val_accuracy:0.8764\n",
      "Epoch [3/range(0, 200)], average_loss:0.3689, validation_loss:0.3678, val_accuracy:0.8427\n",
      "Epoch [4/range(0, 200)], average_loss:0.3444, validation_loss:0.3304, val_accuracy:0.8652\n",
      "Epoch [5/range(0, 200)], average_loss:0.3283, validation_loss:0.3454, val_accuracy:0.8876\n",
      "Epoch [6/range(0, 200)], average_loss:0.3151, validation_loss:0.3198, val_accuracy:0.8652\n",
      "Epoch [7/range(0, 200)], average_loss:0.3058, validation_loss:0.3105, val_accuracy:0.8652\n",
      "Epoch [8/range(0, 200)], average_loss:0.3016, validation_loss:0.3023, val_accuracy:0.8539\n",
      "Epoch [9/range(0, 200)], average_loss:0.2870, validation_loss:0.3217, val_accuracy:0.9101\n",
      "Epoch [10/range(0, 200)], average_loss:0.2848, validation_loss:0.2907, val_accuracy:0.8427\n",
      "Epoch [11/range(0, 200)], average_loss:0.2771, validation_loss:0.3105, val_accuracy:0.8989\n",
      "Epoch [12/range(0, 200)], average_loss:0.2734, validation_loss:0.2917, val_accuracy:0.8989\n",
      "Epoch [13/range(0, 200)], average_loss:0.2722, validation_loss:0.2964, val_accuracy:0.9326\n",
      "Epoch [14/range(0, 200)], average_loss:0.2680, validation_loss:0.2786, val_accuracy:0.9213\n",
      "Epoch [15/range(0, 200)], average_loss:0.2634, validation_loss:0.2819, val_accuracy:0.9101\n",
      "Epoch [16/range(0, 200)], average_loss:0.2617, validation_loss:0.2788, val_accuracy:0.9213\n",
      "Epoch [17/range(0, 200)], average_loss:0.2588, validation_loss:0.2746, val_accuracy:0.8539\n",
      "Epoch [18/range(0, 200)], average_loss:0.2552, validation_loss:0.2906, val_accuracy:0.8652\n",
      "Epoch [19/range(0, 200)], average_loss:0.2523, validation_loss:0.2821, val_accuracy:0.9101\n",
      "Epoch [20/range(0, 200)], average_loss:0.2493, validation_loss:0.2823, val_accuracy:0.9438\n",
      "Epoch [21/range(0, 200)], average_loss:0.2452, validation_loss:0.2657, val_accuracy:0.9326\n",
      "Epoch [22/range(0, 200)], average_loss:0.2437, validation_loss:0.2704, val_accuracy:0.8876\n",
      "Epoch [23/range(0, 200)], average_loss:0.2399, validation_loss:0.2808, val_accuracy:0.9213\n",
      "Epoch [24/range(0, 200)], average_loss:0.2452, validation_loss:0.2557, val_accuracy:0.9213\n",
      "Epoch [25/range(0, 200)], average_loss:0.2352, validation_loss:0.2760, val_accuracy:0.8989\n",
      "Epoch [26/range(0, 200)], average_loss:0.2339, validation_loss:0.2632, val_accuracy:0.9213\n",
      "Epoch [27/range(0, 200)], average_loss:0.2355, validation_loss:0.2969, val_accuracy:0.9101\n",
      "Epoch [28/range(0, 200)], average_loss:0.2271, validation_loss:0.2684, val_accuracy:0.8876\n",
      "Epoch [29/range(0, 200)], average_loss:0.2282, validation_loss:0.2680, val_accuracy:0.8764\n",
      "Epoch [30/range(0, 200)], average_loss:0.2270, validation_loss:0.2536, val_accuracy:0.9213\n",
      "Epoch [31/range(0, 200)], average_loss:0.2254, validation_loss:0.2627, val_accuracy:0.8427\n",
      "Epoch [32/range(0, 200)], average_loss:0.2210, validation_loss:0.2584, val_accuracy:0.8539\n",
      "Epoch [33/range(0, 200)], average_loss:0.2208, validation_loss:0.2555, val_accuracy:0.8876\n",
      "Epoch [34/range(0, 200)], average_loss:0.2164, validation_loss:0.2460, val_accuracy:0.9551\n",
      "Epoch [35/range(0, 200)], average_loss:0.2200, validation_loss:0.2554, val_accuracy:0.8876\n",
      "Epoch [36/range(0, 200)], average_loss:0.2167, validation_loss:0.2578, val_accuracy:0.8764\n",
      "Epoch [37/range(0, 200)], average_loss:0.2163, validation_loss:0.2616, val_accuracy:0.9326\n",
      "Epoch [38/range(0, 200)], average_loss:0.2159, validation_loss:0.2546, val_accuracy:0.8989\n",
      "Epoch [39/range(0, 200)], average_loss:0.2134, validation_loss:0.2570, val_accuracy:0.8539\n",
      "Epoch [40/range(0, 200)], average_loss:0.2139, validation_loss:0.2732, val_accuracy:0.9326\n"
     ]
    },
    {
     "ename": "KeyboardInterrupt",
     "evalue": "",
     "output_type": "error",
     "traceback": [
      "\u001b[1;31m---------------------------------------------------------------------------\u001b[0m",
      "\u001b[1;31mKeyboardInterrupt\u001b[0m                         Traceback (most recent call last)",
      "\u001b[1;32m<ipython-input-14-7655ae92e495>\u001b[0m in \u001b[0;36m<module>\u001b[1;34m\u001b[0m\n\u001b[1;32m----> 1\u001b[1;33m \u001b[0mlh\u001b[0m \u001b[1;33m=\u001b[0m \u001b[0mm1\u001b[0m\u001b[1;33m(\u001b[0m\u001b[0mepochs\u001b[0m\u001b[1;33m=\u001b[0m\u001b[0mrange\u001b[0m\u001b[1;33m(\u001b[0m\u001b[1;36m200\u001b[0m\u001b[1;33m)\u001b[0m\u001b[1;33m,\u001b[0m \u001b[0mtrain_loader\u001b[0m\u001b[1;33m=\u001b[0m\u001b[0mtrain_loader\u001b[0m\u001b[1;33m,\u001b[0m \u001b[0mvalidation_loader\u001b[0m\u001b[1;33m=\u001b[0m\u001b[0mvalid_loader\u001b[0m\u001b[1;33m)\u001b[0m\u001b[1;33m\u001b[0m\u001b[1;33m\u001b[0m\u001b[0m\n\u001b[0m",
      "\u001b[1;32m~\\Miniconda3\\envs\\Pytorch\\lib\\site-packages\\torch\\nn\\modules\\module.py\u001b[0m in \u001b[0;36m__call__\u001b[1;34m(self, *input, **kwargs)\u001b[0m\n\u001b[0;32m    539\u001b[0m             \u001b[0mresult\u001b[0m \u001b[1;33m=\u001b[0m \u001b[0mself\u001b[0m\u001b[1;33m.\u001b[0m\u001b[0m_slow_forward\u001b[0m\u001b[1;33m(\u001b[0m\u001b[1;33m*\u001b[0m\u001b[0minput\u001b[0m\u001b[1;33m,\u001b[0m \u001b[1;33m**\u001b[0m\u001b[0mkwargs\u001b[0m\u001b[1;33m)\u001b[0m\u001b[1;33m\u001b[0m\u001b[1;33m\u001b[0m\u001b[0m\n\u001b[0;32m    540\u001b[0m         \u001b[1;32melse\u001b[0m\u001b[1;33m:\u001b[0m\u001b[1;33m\u001b[0m\u001b[1;33m\u001b[0m\u001b[0m\n\u001b[1;32m--> 541\u001b[1;33m             \u001b[0mresult\u001b[0m \u001b[1;33m=\u001b[0m \u001b[0mself\u001b[0m\u001b[1;33m.\u001b[0m\u001b[0mforward\u001b[0m\u001b[1;33m(\u001b[0m\u001b[1;33m*\u001b[0m\u001b[0minput\u001b[0m\u001b[1;33m,\u001b[0m \u001b[1;33m**\u001b[0m\u001b[0mkwargs\u001b[0m\u001b[1;33m)\u001b[0m\u001b[1;33m\u001b[0m\u001b[1;33m\u001b[0m\u001b[0m\n\u001b[0m\u001b[0;32m    542\u001b[0m         \u001b[1;32mfor\u001b[0m \u001b[0mhook\u001b[0m \u001b[1;32min\u001b[0m \u001b[0mself\u001b[0m\u001b[1;33m.\u001b[0m\u001b[0m_forward_hooks\u001b[0m\u001b[1;33m.\u001b[0m\u001b[0mvalues\u001b[0m\u001b[1;33m(\u001b[0m\u001b[1;33m)\u001b[0m\u001b[1;33m:\u001b[0m\u001b[1;33m\u001b[0m\u001b[1;33m\u001b[0m\u001b[0m\n\u001b[0;32m    543\u001b[0m             \u001b[0mhook_result\u001b[0m \u001b[1;33m=\u001b[0m \u001b[0mhook\u001b[0m\u001b[1;33m(\u001b[0m\u001b[0mself\u001b[0m\u001b[1;33m,\u001b[0m \u001b[0minput\u001b[0m\u001b[1;33m,\u001b[0m \u001b[0mresult\u001b[0m\u001b[1;33m)\u001b[0m\u001b[1;33m\u001b[0m\u001b[1;33m\u001b[0m\u001b[0m\n",
      "\u001b[1;32mZ:\\Semi-supervised-Learning-with-VAE\\utils\\inference.py\u001b[0m in \u001b[0;36mforward\u001b[1;34m(self, epochs, train_loader, validation_loader)\u001b[0m\n\u001b[0;32m    297\u001b[0m                                 \u001b[0mself\u001b[0m\u001b[1;33m.\u001b[0m\u001b[0moptimizer\u001b[0m\u001b[1;33m.\u001b[0m\u001b[0mzero_grad\u001b[0m\u001b[1;33m(\u001b[0m\u001b[1;33m)\u001b[0m\u001b[1;33m\u001b[0m\u001b[1;33m\u001b[0m\u001b[0m\n\u001b[0;32m    298\u001b[0m                                 \u001b[0mloss\u001b[0m\u001b[1;33m.\u001b[0m\u001b[0mbackward\u001b[0m\u001b[1;33m(\u001b[0m\u001b[1;33m)\u001b[0m\u001b[1;33m\u001b[0m\u001b[1;33m\u001b[0m\u001b[0m\n\u001b[1;32m--> 299\u001b[1;33m                                 \u001b[0mself\u001b[0m\u001b[1;33m.\u001b[0m\u001b[0moptimizer\u001b[0m\u001b[1;33m.\u001b[0m\u001b[0mstep\u001b[0m\u001b[1;33m(\u001b[0m\u001b[1;33m)\u001b[0m\u001b[1;33m\u001b[0m\u001b[1;33m\u001b[0m\u001b[0m\n\u001b[0m\u001b[0;32m    300\u001b[0m                                 \u001b[1;31m#=================log====================\u001b[0m\u001b[1;33m\u001b[0m\u001b[1;33m\u001b[0m\u001b[1;33m\u001b[0m\u001b[0m\n\u001b[0;32m    301\u001b[0m                                 \u001b[1;32mif\u001b[0m \u001b[1;33m(\u001b[0m\u001b[1;33m(\u001b[0m\u001b[0mi\u001b[0m \u001b[1;33m+\u001b[0m \u001b[1;36m1\u001b[0m\u001b[1;33m)\u001b[0m \u001b[1;33m%\u001b[0m \u001b[0mprint_every\u001b[0m \u001b[1;33m==\u001b[0m \u001b[1;36m0\u001b[0m\u001b[1;33m)\u001b[0m\u001b[1;33m:\u001b[0m \u001b[1;31m# and isinstance(history_train_loss, list)\u001b[0m\u001b[1;33m\u001b[0m\u001b[1;33m\u001b[0m\u001b[0m\n",
      "\u001b[1;32m~\\Miniconda3\\envs\\Pytorch\\lib\\site-packages\\torch\\optim\\adam.py\u001b[0m in \u001b[0;36mstep\u001b[1;34m(self, closure)\u001b[0m\n\u001b[0;32m    101\u001b[0m                     \u001b[0mdenom\u001b[0m \u001b[1;33m=\u001b[0m \u001b[1;33m(\u001b[0m\u001b[0mmax_exp_avg_sq\u001b[0m\u001b[1;33m.\u001b[0m\u001b[0msqrt\u001b[0m\u001b[1;33m(\u001b[0m\u001b[1;33m)\u001b[0m \u001b[1;33m/\u001b[0m \u001b[0mmath\u001b[0m\u001b[1;33m.\u001b[0m\u001b[0msqrt\u001b[0m\u001b[1;33m(\u001b[0m\u001b[0mbias_correction2\u001b[0m\u001b[1;33m)\u001b[0m\u001b[1;33m)\u001b[0m\u001b[1;33m.\u001b[0m\u001b[0madd_\u001b[0m\u001b[1;33m(\u001b[0m\u001b[0mgroup\u001b[0m\u001b[1;33m[\u001b[0m\u001b[1;34m'eps'\u001b[0m\u001b[1;33m]\u001b[0m\u001b[1;33m)\u001b[0m\u001b[1;33m\u001b[0m\u001b[1;33m\u001b[0m\u001b[0m\n\u001b[0;32m    102\u001b[0m                 \u001b[1;32melse\u001b[0m\u001b[1;33m:\u001b[0m\u001b[1;33m\u001b[0m\u001b[1;33m\u001b[0m\u001b[0m\n\u001b[1;32m--> 103\u001b[1;33m                     \u001b[0mdenom\u001b[0m \u001b[1;33m=\u001b[0m \u001b[1;33m(\u001b[0m\u001b[0mexp_avg_sq\u001b[0m\u001b[1;33m.\u001b[0m\u001b[0msqrt\u001b[0m\u001b[1;33m(\u001b[0m\u001b[1;33m)\u001b[0m \u001b[1;33m/\u001b[0m \u001b[0mmath\u001b[0m\u001b[1;33m.\u001b[0m\u001b[0msqrt\u001b[0m\u001b[1;33m(\u001b[0m\u001b[0mbias_correction2\u001b[0m\u001b[1;33m)\u001b[0m\u001b[1;33m)\u001b[0m\u001b[1;33m.\u001b[0m\u001b[0madd_\u001b[0m\u001b[1;33m(\u001b[0m\u001b[0mgroup\u001b[0m\u001b[1;33m[\u001b[0m\u001b[1;34m'eps'\u001b[0m\u001b[1;33m]\u001b[0m\u001b[1;33m)\u001b[0m\u001b[1;33m\u001b[0m\u001b[1;33m\u001b[0m\u001b[0m\n\u001b[0m\u001b[0;32m    104\u001b[0m \u001b[1;33m\u001b[0m\u001b[0m\n\u001b[0;32m    105\u001b[0m                 \u001b[0mstep_size\u001b[0m \u001b[1;33m=\u001b[0m \u001b[0mgroup\u001b[0m\u001b[1;33m[\u001b[0m\u001b[1;34m'lr'\u001b[0m\u001b[1;33m]\u001b[0m \u001b[1;33m/\u001b[0m \u001b[0mbias_correction1\u001b[0m\u001b[1;33m\u001b[0m\u001b[1;33m\u001b[0m\u001b[0m\n",
      "\u001b[1;31mKeyboardInterrupt\u001b[0m: "
     ]
    }
   ],
   "source": [
    "lh = m1(epochs=range(200), train_loader=train_loader, validation_loader=valid_loader)"
   ]
  },
  {
   "cell_type": "markdown",
   "metadata": {},
   "source": [
    "## =>  early stopped"
   ]
  },
  {
   "cell_type": "code",
   "execution_count": 15,
   "metadata": {},
   "outputs": [],
   "source": [
    "m1.tb.close()"
   ]
  },
  {
   "cell_type": "code",
   "execution_count": 284,
   "metadata": {},
   "outputs": [],
   "source": [
    "m1.model.eval()\n",
    "with torch.no_grad():\n",
    "    x_pred = np.argmax(m1.model(torch.tensor(X_test).float().to(m1.device)).cpu().detach(), axis=1)"
   ]
  },
  {
   "cell_type": "code",
   "execution_count": 285,
   "metadata": {},
   "outputs": [
    {
     "data": {
      "text/plain": [
       "tensor([1, 1, 1,  ..., 3, 1, 0])"
      ]
     },
     "execution_count": 285,
     "metadata": {},
     "output_type": "execute_result"
    }
   ],
   "source": [
    "x_pred"
   ]
  },
  {
   "cell_type": "code",
   "execution_count": 286,
   "metadata": {},
   "outputs": [
    {
     "data": {
      "text/plain": [
       "0.8824922913281428"
      ]
     },
     "execution_count": 286,
     "metadata": {},
     "output_type": "execute_result"
    }
   ],
   "source": [
    "f1_score(y_true=y_test, y_pred=x_pred,average=\"macro\")"
   ]
  },
  {
   "cell_type": "code",
   "execution_count": 287,
   "metadata": {},
   "outputs": [
    {
     "data": {
      "text/plain": [
       "0.9275215105162524"
      ]
     },
     "execution_count": 287,
     "metadata": {},
     "output_type": "execute_result"
    }
   ],
   "source": [
    "accuracy_score(y_true=y_test, y_pred=x_pred)"
   ]
  },
  {
   "cell_type": "code",
   "execution_count": 288,
   "metadata": {},
   "outputs": [
    {
     "data": {
      "text/plain": [
       "array([[3848,  219,   30,  138],\n",
       "       [ 323, 9981,   34,  107],\n",
       "       [  16,   31,  411,   21],\n",
       "       [ 190,   96,    8, 1283]], dtype=int64)"
      ]
     },
     "execution_count": 288,
     "metadata": {},
     "output_type": "execute_result"
    }
   ],
   "source": [
    "confusion_matrix(y_true=y_test, y_pred=x_pred)"
   ]
  },
  {
   "cell_type": "code",
   "execution_count": 36,
   "metadata": {
    "collapsed": true
   },
   "outputs": [
    {
     "name": "stderr",
     "output_type": "stream",
     "text": [
      "C:\\Users\\ghost_000\\Miniconda3\\envs\\Pytorch\\lib\\site-packages\\torch\\serialization.py:292: UserWarning: Couldn't retrieve source code for container of type Sequential. It won't be checked for correctness upon loading.\n",
      "  \"type \" + obj.__name__ + \". It won't be checked \"\n",
      "C:\\Users\\ghost_000\\Miniconda3\\envs\\Pytorch\\lib\\site-packages\\torch\\serialization.py:292: UserWarning: Couldn't retrieve source code for container of type Reshape. It won't be checked for correctness upon loading.\n",
      "  \"type \" + obj.__name__ + \". It won't be checked \"\n",
      "C:\\Users\\ghost_000\\Miniconda3\\envs\\Pytorch\\lib\\site-packages\\torch\\serialization.py:292: UserWarning: Couldn't retrieve source code for container of type Conv1d. It won't be checked for correctness upon loading.\n",
      "  \"type \" + obj.__name__ + \". It won't be checked \"\n",
      "C:\\Users\\ghost_000\\Miniconda3\\envs\\Pytorch\\lib\\site-packages\\torch\\serialization.py:292: UserWarning: Couldn't retrieve source code for container of type ReLU. It won't be checked for correctness upon loading.\n",
      "  \"type \" + obj.__name__ + \". It won't be checked \"\n",
      "C:\\Users\\ghost_000\\Miniconda3\\envs\\Pytorch\\lib\\site-packages\\torch\\serialization.py:292: UserWarning: Couldn't retrieve source code for container of type CBD1dBlock. It won't be checked for correctness upon loading.\n",
      "  \"type \" + obj.__name__ + \". It won't be checked \"\n",
      "C:\\Users\\ghost_000\\Miniconda3\\envs\\Pytorch\\lib\\site-packages\\torch\\serialization.py:292: UserWarning: Couldn't retrieve source code for container of type BatchNorm1d. It won't be checked for correctness upon loading.\n",
      "  \"type \" + obj.__name__ + \". It won't be checked \"\n",
      "C:\\Users\\ghost_000\\Miniconda3\\envs\\Pytorch\\lib\\site-packages\\torch\\serialization.py:292: UserWarning: Couldn't retrieve source code for container of type Dropout. It won't be checked for correctness upon loading.\n",
      "  \"type \" + obj.__name__ + \". It won't be checked \"\n",
      "C:\\Users\\ghost_000\\Miniconda3\\envs\\Pytorch\\lib\\site-packages\\torch\\serialization.py:292: UserWarning: Couldn't retrieve source code for container of type Flatten. It won't be checked for correctness upon loading.\n",
      "  \"type \" + obj.__name__ + \". It won't be checked \"\n",
      "C:\\Users\\ghost_000\\Miniconda3\\envs\\Pytorch\\lib\\site-packages\\torch\\serialization.py:292: UserWarning: Couldn't retrieve source code for container of type Linear. It won't be checked for correctness upon loading.\n",
      "  \"type \" + obj.__name__ + \". It won't be checked \"\n"
     ]
    }
   ],
   "source": [
    "#torch.save(m1.model, \"models_and_losses/CNN-m.III-Conv1-BN-Drop-0.3_lr-1e-3_bs-100_early_stopped.pt\")"
   ]
  },
  {
   "cell_type": "markdown",
   "metadata": {},
   "source": [
    "## lower lr"
   ]
  },
  {
   "cell_type": "code",
   "execution_count": 38,
   "metadata": {},
   "outputs": [],
   "source": [
    "CNN_2 = nn.Sequential(\n",
    "            layers.Reshape(out_shape=(1,160)),\n",
    "            nn.Conv1d(in_channels=1, out_channels=16, kernel_size=6, stride=2, padding=0, bias=False), # n*1*160 -> n*16*78\n",
    "            nn.ReLU(inplace=True),\n",
    "            layers.CBD1dBlock(in_channels=16, out_channels=32, kernel_size=4, stride=2, bias=False, activation=nn.ReLU(), dropout=0.3),#n*16*78->n*32*38\n",
    "            layers.CBD1dBlock(in_channels=32, out_channels=64, kernel_size=4, stride=2, bias=False, activation=nn.ReLU(), dropout=0.3),#n*32*38->n*64*18\n",
    "            layers.Flatten(out_features=64*18),\n",
    "            nn.Linear(in_features=64*18, out_features=256),\n",
    "            nn.ReLU(inplace=True),\n",
    "            nn.Dropout(p=0.3),\n",
    "            nn.Linear(in_features=256, out_features=4)\n",
    ")"
   ]
  },
  {
   "cell_type": "code",
   "execution_count": 39,
   "metadata": {},
   "outputs": [
    {
     "name": "stdout",
     "output_type": "stream",
     "text": [
      "cuda:0\n"
     ]
    }
   ],
   "source": [
    "train_loader = torch.utils.data.DataLoader(dataset = train, batch_size=100, shuffle=True)\n",
    "valid_loader = torch.utils.data.DataLoader(dataset = valid, batch_size=100, shuffle=True)\n",
    "\n",
    "optimizer= torch.optim.Adam(CNN_2.parameters(), lr=1e-4)\n",
    "\n",
    "m2 = Trainer(\n",
    "        model=CNN_2,\n",
    "        optimizer=optimizer,\n",
    "        loss_function=nn.CrossEntropyLoss(),\n",
    "        #scheduler=torch.optim.lr_scheduler.MultiStepLR(optimizer, milestones=[100], gamma=0.1),\n",
    "        tensorboard=True,\n",
    "        model_name=\"CNN-Conv1-BN-Drop-0.3_lr-1e-4_bs-100\",\n",
    "        verbose=True\n",
    "        )"
   ]
  },
  {
   "cell_type": "code",
   "execution_count": 41,
   "metadata": {
    "collapsed": true
   },
   "outputs": [
    {
     "name": "stdout",
     "output_type": "stream",
     "text": [
      "Epoch [1/range(0, 100)], average_loss:0.6440, validation_loss:0.5266, val_accuracy:0.7303\n",
      "Epoch [2/range(0, 100)], average_loss:0.4912, validation_loss:0.4698, val_accuracy:0.7978\n",
      "Epoch [3/range(0, 100)], average_loss:0.4423, validation_loss:0.4218, val_accuracy:0.8315\n",
      "Epoch [4/range(0, 100)], average_loss:0.4107, validation_loss:0.4013, val_accuracy:0.8764\n",
      "Epoch [5/range(0, 100)], average_loss:0.3823, validation_loss:0.3727, val_accuracy:0.8427\n",
      "Epoch [6/range(0, 100)], average_loss:0.3643, validation_loss:0.3613, val_accuracy:0.8202\n",
      "Epoch [7/range(0, 100)], average_loss:0.3501, validation_loss:0.3476, val_accuracy:0.9101\n",
      "Epoch [8/range(0, 100)], average_loss:0.3382, validation_loss:0.3392, val_accuracy:0.8764\n",
      "Epoch [9/range(0, 100)], average_loss:0.3304, validation_loss:0.3318, val_accuracy:0.8090\n",
      "Epoch [10/range(0, 100)], average_loss:0.3259, validation_loss:0.3218, val_accuracy:0.8427\n",
      "Epoch [11/range(0, 100)], average_loss:0.3165, validation_loss:0.3167, val_accuracy:0.9213\n",
      "Epoch [12/range(0, 100)], average_loss:0.3110, validation_loss:0.3335, val_accuracy:0.8876\n",
      "Epoch [13/range(0, 100)], average_loss:0.3096, validation_loss:0.3146, val_accuracy:0.9326\n",
      "Epoch [14/range(0, 100)], average_loss:0.3027, validation_loss:0.3095, val_accuracy:0.8989\n",
      "Epoch [15/range(0, 100)], average_loss:0.2962, validation_loss:0.3131, val_accuracy:0.8315\n",
      "Epoch [16/range(0, 100)], average_loss:0.2945, validation_loss:0.3164, val_accuracy:0.8876\n",
      "Epoch [17/range(0, 100)], average_loss:0.2910, validation_loss:0.3054, val_accuracy:0.8764\n",
      "Epoch [18/range(0, 100)], average_loss:0.2849, validation_loss:0.2945, val_accuracy:0.8989\n",
      "Epoch [19/range(0, 100)], average_loss:0.2850, validation_loss:0.3164, val_accuracy:0.8202\n",
      "Epoch [20/range(0, 100)], average_loss:0.2835, validation_loss:0.3031, val_accuracy:0.8090\n",
      "Epoch [21/range(0, 100)], average_loss:0.2809, validation_loss:0.3043, val_accuracy:0.8876\n",
      "Epoch [22/range(0, 100)], average_loss:0.2796, validation_loss:0.3055, val_accuracy:0.7865\n",
      "Epoch [23/range(0, 100)], average_loss:0.2781, validation_loss:0.2957, val_accuracy:0.9213\n",
      "Epoch [24/range(0, 100)], average_loss:0.2743, validation_loss:0.2980, val_accuracy:0.9101\n",
      "Epoch [25/range(0, 100)], average_loss:0.2732, validation_loss:0.2854, val_accuracy:0.9326\n",
      "Epoch [26/range(0, 100)], average_loss:0.2723, validation_loss:0.2937, val_accuracy:0.8539\n",
      "Epoch [27/range(0, 100)], average_loss:0.2711, validation_loss:0.2872, val_accuracy:0.8539\n",
      "Epoch [28/range(0, 100)], average_loss:0.2674, validation_loss:0.2843, val_accuracy:0.8989\n",
      "Epoch [29/range(0, 100)], average_loss:0.2661, validation_loss:0.2801, val_accuracy:0.8315\n",
      "Epoch [30/range(0, 100)], average_loss:0.2667, validation_loss:0.2879, val_accuracy:0.8989\n",
      "Epoch [31/range(0, 100)], average_loss:0.2647, validation_loss:0.2845, val_accuracy:0.9326\n",
      "Epoch [32/range(0, 100)], average_loss:0.2612, validation_loss:0.2783, val_accuracy:0.9101\n",
      "Epoch [33/range(0, 100)], average_loss:0.2610, validation_loss:0.2850, val_accuracy:0.9663\n",
      "Epoch [34/range(0, 100)], average_loss:0.2601, validation_loss:0.2862, val_accuracy:0.8427\n",
      "Epoch [35/range(0, 100)], average_loss:0.2565, validation_loss:0.2841, val_accuracy:0.8764\n",
      "Epoch [36/range(0, 100)], average_loss:0.2570, validation_loss:0.2812, val_accuracy:0.9101\n",
      "Epoch [37/range(0, 100)], average_loss:0.2574, validation_loss:0.2806, val_accuracy:0.9438\n",
      "Epoch [38/range(0, 100)], average_loss:0.2542, validation_loss:0.2886, val_accuracy:0.8652\n",
      "Epoch [39/range(0, 100)], average_loss:0.2539, validation_loss:0.2741, val_accuracy:0.8989\n",
      "Epoch [40/range(0, 100)], average_loss:0.2541, validation_loss:0.2795, val_accuracy:0.8539\n",
      "Epoch [41/range(0, 100)], average_loss:0.2508, validation_loss:0.2730, val_accuracy:0.9438\n",
      "Epoch [42/range(0, 100)], average_loss:0.2507, validation_loss:0.2759, val_accuracy:0.9101\n",
      "Epoch [43/range(0, 100)], average_loss:0.2490, validation_loss:0.2713, val_accuracy:0.8427\n",
      "Epoch [44/range(0, 100)], average_loss:0.2523, validation_loss:0.2693, val_accuracy:0.8989\n",
      "Epoch [45/range(0, 100)], average_loss:0.2493, validation_loss:0.2713, val_accuracy:0.8989\n",
      "Epoch [46/range(0, 100)], average_loss:0.2478, validation_loss:0.2698, val_accuracy:0.9213\n",
      "Epoch [47/range(0, 100)], average_loss:0.2478, validation_loss:0.2805, val_accuracy:0.8315\n",
      "Epoch [48/range(0, 100)], average_loss:0.2473, validation_loss:0.2730, val_accuracy:0.8315\n",
      "Epoch [49/range(0, 100)], average_loss:0.2483, validation_loss:0.2684, val_accuracy:0.9663\n",
      "Epoch [50/range(0, 100)], average_loss:0.2458, validation_loss:0.2722, val_accuracy:0.8876\n",
      "Epoch [51/range(0, 100)], average_loss:0.2412, validation_loss:0.2693, val_accuracy:0.8652\n",
      "Epoch [52/range(0, 100)], average_loss:0.2441, validation_loss:0.2709, val_accuracy:0.9213\n",
      "Epoch [53/range(0, 100)], average_loss:0.2389, validation_loss:0.2838, val_accuracy:0.8876\n",
      "Epoch [54/range(0, 100)], average_loss:0.2429, validation_loss:0.2765, val_accuracy:0.8427\n",
      "Epoch [55/range(0, 100)], average_loss:0.2416, validation_loss:0.2745, val_accuracy:0.9326\n",
      "Epoch [56/range(0, 100)], average_loss:0.2393, validation_loss:0.2706, val_accuracy:0.8539\n",
      "Epoch [57/range(0, 100)], average_loss:0.2379, validation_loss:0.2692, val_accuracy:0.8876\n",
      "Epoch [58/range(0, 100)], average_loss:0.2382, validation_loss:0.2653, val_accuracy:0.9101\n",
      "Epoch [59/range(0, 100)], average_loss:0.2365, validation_loss:0.2831, val_accuracy:0.8876\n",
      "Epoch [60/range(0, 100)], average_loss:0.2370, validation_loss:0.2684, val_accuracy:0.8989\n",
      "Epoch [61/range(0, 100)], average_loss:0.2344, validation_loss:0.2764, val_accuracy:0.8989\n",
      "Epoch [62/range(0, 100)], average_loss:0.2342, validation_loss:0.2702, val_accuracy:0.9213\n",
      "Epoch [63/range(0, 100)], average_loss:0.2341, validation_loss:0.2778, val_accuracy:0.8876\n",
      "Epoch [64/range(0, 100)], average_loss:0.2326, validation_loss:0.2773, val_accuracy:0.9326\n",
      "Epoch [65/range(0, 100)], average_loss:0.2330, validation_loss:0.2666, val_accuracy:0.9213\n",
      "Epoch [66/range(0, 100)], average_loss:0.2316, validation_loss:0.2691, val_accuracy:0.9326\n",
      "Epoch [67/range(0, 100)], average_loss:0.2312, validation_loss:0.2745, val_accuracy:0.8652\n",
      "Epoch [68/range(0, 100)], average_loss:0.2321, validation_loss:0.2646, val_accuracy:0.8989\n",
      "Epoch [69/range(0, 100)], average_loss:0.2306, validation_loss:0.2688, val_accuracy:0.8989\n",
      "Epoch [70/range(0, 100)], average_loss:0.2306, validation_loss:0.2689, val_accuracy:0.8764\n",
      "Epoch [71/range(0, 100)], average_loss:0.2290, validation_loss:0.2670, val_accuracy:0.9551\n",
      "Epoch [72/range(0, 100)], average_loss:0.2270, validation_loss:0.2753, val_accuracy:0.8876\n",
      "Epoch [73/range(0, 100)], average_loss:0.2265, validation_loss:0.2665, val_accuracy:0.8989\n",
      "Epoch [74/range(0, 100)], average_loss:0.2267, validation_loss:0.2708, val_accuracy:0.8876\n",
      "Epoch [75/range(0, 100)], average_loss:0.2251, validation_loss:0.2710, val_accuracy:0.9213\n",
      "Epoch [76/range(0, 100)], average_loss:0.2271, validation_loss:0.2632, val_accuracy:0.9438\n",
      "Epoch [77/range(0, 100)], average_loss:0.2226, validation_loss:0.2654, val_accuracy:0.8427\n",
      "Epoch [78/range(0, 100)], average_loss:0.2246, validation_loss:0.2655, val_accuracy:0.9326\n",
      "Epoch [79/range(0, 100)], average_loss:0.2223, validation_loss:0.2618, val_accuracy:0.9213\n",
      "Epoch [80/range(0, 100)], average_loss:0.2218, validation_loss:0.2630, val_accuracy:0.9213\n",
      "Epoch [81/range(0, 100)], average_loss:0.2243, validation_loss:0.2685, val_accuracy:0.8989\n",
      "Epoch [82/range(0, 100)], average_loss:0.2228, validation_loss:0.2680, val_accuracy:0.9438\n",
      "Epoch [83/range(0, 100)], average_loss:0.2195, validation_loss:0.2615, val_accuracy:0.8764\n",
      "Epoch [84/range(0, 100)], average_loss:0.2204, validation_loss:0.2688, val_accuracy:0.8652\n",
      "Epoch [85/range(0, 100)], average_loss:0.2180, validation_loss:0.2595, val_accuracy:0.8539\n",
      "Epoch [86/range(0, 100)], average_loss:0.2177, validation_loss:0.2705, val_accuracy:0.9101\n",
      "Epoch [87/range(0, 100)], average_loss:0.2173, validation_loss:0.2659, val_accuracy:0.8876\n",
      "Epoch [88/range(0, 100)], average_loss:0.2175, validation_loss:0.2700, val_accuracy:0.9663\n",
      "Epoch [89/range(0, 100)], average_loss:0.2171, validation_loss:0.2608, val_accuracy:0.8764\n",
      "Epoch [90/range(0, 100)], average_loss:0.2153, validation_loss:0.2611, val_accuracy:0.8652\n",
      "Epoch [91/range(0, 100)], average_loss:0.2153, validation_loss:0.2553, val_accuracy:0.8764\n"
     ]
    },
    {
     "name": "stdout",
     "output_type": "stream",
     "text": [
      "Epoch [92/range(0, 100)], average_loss:0.2139, validation_loss:0.2585, val_accuracy:0.9326\n",
      "Epoch [93/range(0, 100)], average_loss:0.2124, validation_loss:0.2680, val_accuracy:0.8764\n",
      "Epoch [94/range(0, 100)], average_loss:0.2133, validation_loss:0.2644, val_accuracy:0.8764\n",
      "Epoch [95/range(0, 100)], average_loss:0.2140, validation_loss:0.2703, val_accuracy:0.8315\n",
      "Epoch [96/range(0, 100)], average_loss:0.2124, validation_loss:0.2744, val_accuracy:0.9438\n"
     ]
    },
    {
     "ename": "KeyboardInterrupt",
     "evalue": "",
     "output_type": "error",
     "traceback": [
      "\u001b[1;31m---------------------------------------------------------------------------\u001b[0m",
      "\u001b[1;31mKeyboardInterrupt\u001b[0m                         Traceback (most recent call last)",
      "\u001b[1;32m<ipython-input-41-f3c22d73d50a>\u001b[0m in \u001b[0;36m<module>\u001b[1;34m\u001b[0m\n\u001b[1;32m----> 1\u001b[1;33m \u001b[0mlh\u001b[0m \u001b[1;33m=\u001b[0m \u001b[0mm2\u001b[0m\u001b[1;33m(\u001b[0m\u001b[0mepochs\u001b[0m\u001b[1;33m=\u001b[0m\u001b[0mrange\u001b[0m\u001b[1;33m(\u001b[0m\u001b[1;36m100\u001b[0m\u001b[1;33m)\u001b[0m\u001b[1;33m,\u001b[0m \u001b[0mtrain_loader\u001b[0m\u001b[1;33m=\u001b[0m\u001b[0mtrain_loader\u001b[0m\u001b[1;33m,\u001b[0m \u001b[0mvalidation_loader\u001b[0m\u001b[1;33m=\u001b[0m\u001b[0mvalid_loader\u001b[0m\u001b[1;33m)\u001b[0m\u001b[1;33m\u001b[0m\u001b[1;33m\u001b[0m\u001b[0m\n\u001b[0m",
      "\u001b[1;32m~\\Miniconda3\\envs\\Pytorch\\lib\\site-packages\\torch\\nn\\modules\\module.py\u001b[0m in \u001b[0;36m__call__\u001b[1;34m(self, *input, **kwargs)\u001b[0m\n\u001b[0;32m    539\u001b[0m             \u001b[0mresult\u001b[0m \u001b[1;33m=\u001b[0m \u001b[0mself\u001b[0m\u001b[1;33m.\u001b[0m\u001b[0m_slow_forward\u001b[0m\u001b[1;33m(\u001b[0m\u001b[1;33m*\u001b[0m\u001b[0minput\u001b[0m\u001b[1;33m,\u001b[0m \u001b[1;33m**\u001b[0m\u001b[0mkwargs\u001b[0m\u001b[1;33m)\u001b[0m\u001b[1;33m\u001b[0m\u001b[1;33m\u001b[0m\u001b[0m\n\u001b[0;32m    540\u001b[0m         \u001b[1;32melse\u001b[0m\u001b[1;33m:\u001b[0m\u001b[1;33m\u001b[0m\u001b[1;33m\u001b[0m\u001b[0m\n\u001b[1;32m--> 541\u001b[1;33m             \u001b[0mresult\u001b[0m \u001b[1;33m=\u001b[0m \u001b[0mself\u001b[0m\u001b[1;33m.\u001b[0m\u001b[0mforward\u001b[0m\u001b[1;33m(\u001b[0m\u001b[1;33m*\u001b[0m\u001b[0minput\u001b[0m\u001b[1;33m,\u001b[0m \u001b[1;33m**\u001b[0m\u001b[0mkwargs\u001b[0m\u001b[1;33m)\u001b[0m\u001b[1;33m\u001b[0m\u001b[1;33m\u001b[0m\u001b[0m\n\u001b[0m\u001b[0;32m    542\u001b[0m         \u001b[1;32mfor\u001b[0m \u001b[0mhook\u001b[0m \u001b[1;32min\u001b[0m \u001b[0mself\u001b[0m\u001b[1;33m.\u001b[0m\u001b[0m_forward_hooks\u001b[0m\u001b[1;33m.\u001b[0m\u001b[0mvalues\u001b[0m\u001b[1;33m(\u001b[0m\u001b[1;33m)\u001b[0m\u001b[1;33m:\u001b[0m\u001b[1;33m\u001b[0m\u001b[1;33m\u001b[0m\u001b[0m\n\u001b[0;32m    543\u001b[0m             \u001b[0mhook_result\u001b[0m \u001b[1;33m=\u001b[0m \u001b[0mhook\u001b[0m\u001b[1;33m(\u001b[0m\u001b[0mself\u001b[0m\u001b[1;33m,\u001b[0m \u001b[0minput\u001b[0m\u001b[1;33m,\u001b[0m \u001b[0mresult\u001b[0m\u001b[1;33m)\u001b[0m\u001b[1;33m\u001b[0m\u001b[1;33m\u001b[0m\u001b[0m\n",
      "\u001b[1;32mZ:\\Semi-supervised-Learning-with-VAE\\utils\\inference.py\u001b[0m in \u001b[0;36mforward\u001b[1;34m(self, epochs, train_loader, validation_loader)\u001b[0m\n\u001b[0;32m    297\u001b[0m                                 \u001b[1;31m#=================backward===============\u001b[0m\u001b[1;33m\u001b[0m\u001b[1;33m\u001b[0m\u001b[1;33m\u001b[0m\u001b[0m\n\u001b[0;32m    298\u001b[0m                                 \u001b[0mself\u001b[0m\u001b[1;33m.\u001b[0m\u001b[0moptimizer\u001b[0m\u001b[1;33m.\u001b[0m\u001b[0mzero_grad\u001b[0m\u001b[1;33m(\u001b[0m\u001b[1;33m)\u001b[0m\u001b[1;33m\u001b[0m\u001b[1;33m\u001b[0m\u001b[0m\n\u001b[1;32m--> 299\u001b[1;33m                                 \u001b[0mloss\u001b[0m\u001b[1;33m.\u001b[0m\u001b[0mbackward\u001b[0m\u001b[1;33m(\u001b[0m\u001b[1;33m)\u001b[0m\u001b[1;33m\u001b[0m\u001b[1;33m\u001b[0m\u001b[0m\n\u001b[0m\u001b[0;32m    300\u001b[0m                                 \u001b[0mself\u001b[0m\u001b[1;33m.\u001b[0m\u001b[0moptimizer\u001b[0m\u001b[1;33m.\u001b[0m\u001b[0mstep\u001b[0m\u001b[1;33m(\u001b[0m\u001b[1;33m)\u001b[0m\u001b[1;33m\u001b[0m\u001b[1;33m\u001b[0m\u001b[0m\n\u001b[0;32m    301\u001b[0m                                 \u001b[1;31m#=================log====================\u001b[0m\u001b[1;33m\u001b[0m\u001b[1;33m\u001b[0m\u001b[1;33m\u001b[0m\u001b[0m\n",
      "\u001b[1;32m~\\Miniconda3\\envs\\Pytorch\\lib\\site-packages\\torch\\optim\\adam.py\u001b[0m in \u001b[0;36mstep\u001b[1;34m(self, closure)\u001b[0m\n\u001b[0;32m    101\u001b[0m                     \u001b[0mdenom\u001b[0m \u001b[1;33m=\u001b[0m \u001b[1;33m(\u001b[0m\u001b[0mmax_exp_avg_sq\u001b[0m\u001b[1;33m.\u001b[0m\u001b[0msqrt\u001b[0m\u001b[1;33m(\u001b[0m\u001b[1;33m)\u001b[0m \u001b[1;33m/\u001b[0m \u001b[0mmath\u001b[0m\u001b[1;33m.\u001b[0m\u001b[0msqrt\u001b[0m\u001b[1;33m(\u001b[0m\u001b[0mbias_correction2\u001b[0m\u001b[1;33m)\u001b[0m\u001b[1;33m)\u001b[0m\u001b[1;33m.\u001b[0m\u001b[0madd_\u001b[0m\u001b[1;33m(\u001b[0m\u001b[0mgroup\u001b[0m\u001b[1;33m[\u001b[0m\u001b[1;34m'eps'\u001b[0m\u001b[1;33m]\u001b[0m\u001b[1;33m)\u001b[0m\u001b[1;33m\u001b[0m\u001b[1;33m\u001b[0m\u001b[0m\n\u001b[0;32m    102\u001b[0m                 \u001b[1;32melse\u001b[0m\u001b[1;33m:\u001b[0m\u001b[1;33m\u001b[0m\u001b[1;33m\u001b[0m\u001b[0m\n\u001b[1;32m--> 103\u001b[1;33m                     \u001b[0mdenom\u001b[0m \u001b[1;33m=\u001b[0m \u001b[1;33m(\u001b[0m\u001b[0mexp_avg_sq\u001b[0m\u001b[1;33m.\u001b[0m\u001b[0msqrt\u001b[0m\u001b[1;33m(\u001b[0m\u001b[1;33m)\u001b[0m \u001b[1;33m/\u001b[0m \u001b[0mmath\u001b[0m\u001b[1;33m.\u001b[0m\u001b[0msqrt\u001b[0m\u001b[1;33m(\u001b[0m\u001b[0mbias_correction2\u001b[0m\u001b[1;33m)\u001b[0m\u001b[1;33m)\u001b[0m\u001b[1;33m.\u001b[0m\u001b[0madd_\u001b[0m\u001b[1;33m(\u001b[0m\u001b[0mgroup\u001b[0m\u001b[1;33m[\u001b[0m\u001b[1;34m'eps'\u001b[0m\u001b[1;33m]\u001b[0m\u001b[1;33m)\u001b[0m\u001b[1;33m\u001b[0m\u001b[1;33m\u001b[0m\u001b[0m\n\u001b[0m\u001b[0;32m    104\u001b[0m \u001b[1;33m\u001b[0m\u001b[0m\n\u001b[0;32m    105\u001b[0m                 \u001b[0mstep_size\u001b[0m \u001b[1;33m=\u001b[0m \u001b[0mgroup\u001b[0m\u001b[1;33m[\u001b[0m\u001b[1;34m'lr'\u001b[0m\u001b[1;33m]\u001b[0m \u001b[1;33m/\u001b[0m \u001b[0mbias_correction1\u001b[0m\u001b[1;33m\u001b[0m\u001b[1;33m\u001b[0m\u001b[0m\n",
      "\u001b[1;31mKeyboardInterrupt\u001b[0m: "
     ]
    }
   ],
   "source": [
    "lh = m2(epochs=range(100), train_loader=train_loader, validation_loader=valid_loader)"
   ]
  },
  {
   "cell_type": "code",
   "execution_count": 43,
   "metadata": {},
   "outputs": [],
   "source": [
    "m2.tb.close()"
   ]
  },
  {
   "cell_type": "code",
   "execution_count": 289,
   "metadata": {},
   "outputs": [],
   "source": [
    "m2.model.eval()\n",
    "with torch.no_grad():\n",
    "    x_pred = np.argmax(m2.model(torch.tensor(X_test).float().to(m2.device)).cpu().detach(), axis=1)"
   ]
  },
  {
   "cell_type": "code",
   "execution_count": 290,
   "metadata": {},
   "outputs": [
    {
     "data": {
      "text/plain": [
       "tensor([1, 1, 1,  ..., 3, 1, 0])"
      ]
     },
     "execution_count": 290,
     "metadata": {},
     "output_type": "execute_result"
    }
   ],
   "source": [
    "x_pred"
   ]
  },
  {
   "cell_type": "code",
   "execution_count": 291,
   "metadata": {},
   "outputs": [
    {
     "data": {
      "text/plain": [
       "0.8550999939767723"
      ]
     },
     "execution_count": 291,
     "metadata": {},
     "output_type": "execute_result"
    }
   ],
   "source": [
    "f1_score(y_true=y_test, y_pred=x_pred,average=\"macro\")"
   ]
  },
  {
   "cell_type": "code",
   "execution_count": 292,
   "metadata": {},
   "outputs": [
    {
     "data": {
      "text/plain": [
       "0.9128824091778203"
      ]
     },
     "execution_count": 292,
     "metadata": {},
     "output_type": "execute_result"
    }
   ],
   "source": [
    "accuracy_score(y_true=y_test, y_pred=x_pred)"
   ]
  },
  {
   "cell_type": "code",
   "execution_count": 293,
   "metadata": {},
   "outputs": [
    {
     "data": {
      "text/plain": [
       "array([[3792,  325,   18,  100],\n",
       "       [ 364, 9978,   31,   72],\n",
       "       [  26,   76,  365,   12],\n",
       "       [ 246,  177,   11, 1143]], dtype=int64)"
      ]
     },
     "execution_count": 293,
     "metadata": {},
     "output_type": "execute_result"
    }
   ],
   "source": [
    "confusion_matrix(y_true=y_test, y_pred=x_pred)"
   ]
  },
  {
   "cell_type": "code",
   "execution_count": 50,
   "metadata": {},
   "outputs": [],
   "source": [
    "#torch.save(m2.model,\"models_and_losses/CNN-m.III-Conv1-BN-Drop-0.3_lr-1e-4_bs-100_early_stopped.pt\")"
   ]
  },
  {
   "cell_type": "markdown",
   "metadata": {},
   "source": [
    "## bs = 32"
   ]
  },
  {
   "cell_type": "code",
   "execution_count": 51,
   "metadata": {},
   "outputs": [],
   "source": [
    "CNN_3 = nn.Sequential(\n",
    "            layers.Reshape(out_shape=(1,160)),\n",
    "            nn.Conv1d(in_channels=1, out_channels=16, kernel_size=6, stride=2, padding=0, bias=False), # n*1*160 -> n*16*78\n",
    "            nn.ReLU(inplace=True),\n",
    "            layers.CBD1dBlock(in_channels=16, out_channels=32, kernel_size=4, stride=2, bias=False, activation=nn.ReLU(), dropout=0.3),#n*16*78->n*32*38\n",
    "            layers.CBD1dBlock(in_channels=32, out_channels=64, kernel_size=4, stride=2, bias=False, activation=nn.ReLU(), dropout=0.3),#n*32*38->n*64*18\n",
    "            layers.Flatten(out_features=64*18),\n",
    "            nn.Linear(in_features=64*18, out_features=256),\n",
    "            nn.ReLU(inplace=True),\n",
    "            nn.Dropout(p=0.3),\n",
    "            nn.Linear(in_features=256, out_features=4)\n",
    ")"
   ]
  },
  {
   "cell_type": "code",
   "execution_count": 53,
   "metadata": {},
   "outputs": [
    {
     "name": "stdout",
     "output_type": "stream",
     "text": [
      "cuda:0\n"
     ]
    }
   ],
   "source": [
    "train_loader = torch.utils.data.DataLoader(dataset = train, batch_size=32, shuffle=True)\n",
    "valid_loader = torch.utils.data.DataLoader(dataset = valid, batch_size=32, shuffle=True)\n",
    "\n",
    "optimizer= torch.optim.Adam(CNN_3.parameters(), lr=1e-3)\n",
    "\n",
    "m3 = Trainer(\n",
    "        model=CNN_3,\n",
    "        optimizer=optimizer,\n",
    "        loss_function=nn.CrossEntropyLoss(),\n",
    "        #scheduler=torch.optim.lr_scheduler.MultiStepLR(optimizer, milestones=[100], gamma=0.1),\n",
    "        tensorboard=True,\n",
    "        model_name=\"CNN-Conv1-BN-Drop-0.3_lr-1e-3_bs-32\",\n",
    "        verbose=True\n",
    "        )"
   ]
  },
  {
   "cell_type": "code",
   "execution_count": 54,
   "metadata": {
    "collapsed": true
   },
   "outputs": [
    {
     "name": "stdout",
     "output_type": "stream",
     "text": [
      "Epoch [1/range(0, 100)], average_loss:0.5452, validation_loss:0.4540, val_accuracy:0.8462\n",
      "Epoch [2/range(0, 100)], average_loss:0.4278, validation_loss:0.3929, val_accuracy:0.6923\n",
      "Epoch [3/range(0, 100)], average_loss:0.3842, validation_loss:0.3652, val_accuracy:0.7692\n",
      "Epoch [4/range(0, 100)], average_loss:0.3551, validation_loss:0.3412, val_accuracy:0.8462\n",
      "Epoch [5/range(0, 100)], average_loss:0.3374, validation_loss:0.3424, val_accuracy:0.9231\n",
      "Epoch [6/range(0, 100)], average_loss:0.3241, validation_loss:0.3233, val_accuracy:0.7692\n",
      "Epoch [7/range(0, 100)], average_loss:0.3131, validation_loss:0.3736, val_accuracy:0.9231\n",
      "Epoch [8/range(0, 100)], average_loss:0.3098, validation_loss:0.3128, val_accuracy:1.0000\n",
      "Epoch [9/range(0, 100)], average_loss:0.2993, validation_loss:0.3142, val_accuracy:0.6154\n",
      "Epoch [10/range(0, 100)], average_loss:0.2978, validation_loss:0.3103, val_accuracy:0.9231\n",
      "Epoch [11/range(0, 100)], average_loss:0.2927, validation_loss:0.3003, val_accuracy:0.6923\n",
      "Epoch [12/range(0, 100)], average_loss:0.2885, validation_loss:0.2907, val_accuracy:0.8462\n",
      "Epoch [13/range(0, 100)], average_loss:0.2837, validation_loss:0.2920, val_accuracy:0.9231\n",
      "Epoch [14/range(0, 100)], average_loss:0.2829, validation_loss:0.2964, val_accuracy:1.0000\n",
      "Epoch [15/range(0, 100)], average_loss:0.2760, validation_loss:0.2862, val_accuracy:1.0000\n",
      "Epoch [16/range(0, 100)], average_loss:0.2742, validation_loss:0.2874, val_accuracy:0.7692\n",
      "Epoch [17/range(0, 100)], average_loss:0.2698, validation_loss:0.3119, val_accuracy:0.9231\n",
      "Epoch [18/range(0, 100)], average_loss:0.2690, validation_loss:0.2796, val_accuracy:1.0000\n",
      "Epoch [19/range(0, 100)], average_loss:0.2668, validation_loss:0.2886, val_accuracy:0.7692\n",
      "Epoch [20/range(0, 100)], average_loss:0.2619, validation_loss:0.2784, val_accuracy:0.8462\n",
      "Epoch [21/range(0, 100)], average_loss:0.2558, validation_loss:0.2747, val_accuracy:0.8462\n",
      "Epoch [22/range(0, 100)], average_loss:0.2590, validation_loss:0.2907, val_accuracy:0.9231\n",
      "Epoch [23/range(0, 100)], average_loss:0.2554, validation_loss:0.2831, val_accuracy:1.0000\n",
      "Epoch [24/range(0, 100)], average_loss:0.2555, validation_loss:0.2913, val_accuracy:1.0000\n",
      "Epoch [25/range(0, 100)], average_loss:0.2521, validation_loss:0.2930, val_accuracy:0.8462\n",
      "Epoch [26/range(0, 100)], average_loss:0.2534, validation_loss:0.2836, val_accuracy:0.9231\n",
      "Epoch [27/range(0, 100)], average_loss:0.2477, validation_loss:0.2761, val_accuracy:0.9231\n",
      "Epoch [28/range(0, 100)], average_loss:0.2483, validation_loss:0.2922, val_accuracy:0.9231\n",
      "Epoch [29/range(0, 100)], average_loss:0.2445, validation_loss:0.2773, val_accuracy:0.8462\n",
      "Epoch [30/range(0, 100)], average_loss:0.2444, validation_loss:0.2749, val_accuracy:0.9231\n",
      "Epoch [31/range(0, 100)], average_loss:0.2440, validation_loss:0.2841, val_accuracy:1.0000\n"
     ]
    },
    {
     "ename": "KeyboardInterrupt",
     "evalue": "",
     "output_type": "error",
     "traceback": [
      "\u001b[1;31m---------------------------------------------------------------------------\u001b[0m",
      "\u001b[1;31mKeyboardInterrupt\u001b[0m                         Traceback (most recent call last)",
      "\u001b[1;32m<ipython-input-54-557e57cf7eb8>\u001b[0m in \u001b[0;36m<module>\u001b[1;34m\u001b[0m\n\u001b[1;32m----> 1\u001b[1;33m \u001b[0mlh\u001b[0m \u001b[1;33m=\u001b[0m \u001b[0mm3\u001b[0m\u001b[1;33m(\u001b[0m\u001b[0mepochs\u001b[0m\u001b[1;33m=\u001b[0m\u001b[0mrange\u001b[0m\u001b[1;33m(\u001b[0m\u001b[1;36m100\u001b[0m\u001b[1;33m)\u001b[0m\u001b[1;33m,\u001b[0m \u001b[0mtrain_loader\u001b[0m\u001b[1;33m=\u001b[0m\u001b[0mtrain_loader\u001b[0m\u001b[1;33m,\u001b[0m \u001b[0mvalidation_loader\u001b[0m\u001b[1;33m=\u001b[0m\u001b[0mvalid_loader\u001b[0m\u001b[1;33m)\u001b[0m\u001b[1;33m\u001b[0m\u001b[1;33m\u001b[0m\u001b[0m\n\u001b[0m",
      "\u001b[1;32m~\\Miniconda3\\envs\\Pytorch\\lib\\site-packages\\torch\\nn\\modules\\module.py\u001b[0m in \u001b[0;36m__call__\u001b[1;34m(self, *input, **kwargs)\u001b[0m\n\u001b[0;32m    539\u001b[0m             \u001b[0mresult\u001b[0m \u001b[1;33m=\u001b[0m \u001b[0mself\u001b[0m\u001b[1;33m.\u001b[0m\u001b[0m_slow_forward\u001b[0m\u001b[1;33m(\u001b[0m\u001b[1;33m*\u001b[0m\u001b[0minput\u001b[0m\u001b[1;33m,\u001b[0m \u001b[1;33m**\u001b[0m\u001b[0mkwargs\u001b[0m\u001b[1;33m)\u001b[0m\u001b[1;33m\u001b[0m\u001b[1;33m\u001b[0m\u001b[0m\n\u001b[0;32m    540\u001b[0m         \u001b[1;32melse\u001b[0m\u001b[1;33m:\u001b[0m\u001b[1;33m\u001b[0m\u001b[1;33m\u001b[0m\u001b[0m\n\u001b[1;32m--> 541\u001b[1;33m             \u001b[0mresult\u001b[0m \u001b[1;33m=\u001b[0m \u001b[0mself\u001b[0m\u001b[1;33m.\u001b[0m\u001b[0mforward\u001b[0m\u001b[1;33m(\u001b[0m\u001b[1;33m*\u001b[0m\u001b[0minput\u001b[0m\u001b[1;33m,\u001b[0m \u001b[1;33m**\u001b[0m\u001b[0mkwargs\u001b[0m\u001b[1;33m)\u001b[0m\u001b[1;33m\u001b[0m\u001b[1;33m\u001b[0m\u001b[0m\n\u001b[0m\u001b[0;32m    542\u001b[0m         \u001b[1;32mfor\u001b[0m \u001b[0mhook\u001b[0m \u001b[1;32min\u001b[0m \u001b[0mself\u001b[0m\u001b[1;33m.\u001b[0m\u001b[0m_forward_hooks\u001b[0m\u001b[1;33m.\u001b[0m\u001b[0mvalues\u001b[0m\u001b[1;33m(\u001b[0m\u001b[1;33m)\u001b[0m\u001b[1;33m:\u001b[0m\u001b[1;33m\u001b[0m\u001b[1;33m\u001b[0m\u001b[0m\n\u001b[0;32m    543\u001b[0m             \u001b[0mhook_result\u001b[0m \u001b[1;33m=\u001b[0m \u001b[0mhook\u001b[0m\u001b[1;33m(\u001b[0m\u001b[0mself\u001b[0m\u001b[1;33m,\u001b[0m \u001b[0minput\u001b[0m\u001b[1;33m,\u001b[0m \u001b[0mresult\u001b[0m\u001b[1;33m)\u001b[0m\u001b[1;33m\u001b[0m\u001b[1;33m\u001b[0m\u001b[0m\n",
      "\u001b[1;32mZ:\\Semi-supervised-Learning-with-VAE\\utils\\inference.py\u001b[0m in \u001b[0;36mforward\u001b[1;34m(self, epochs, train_loader, validation_loader)\u001b[0m\n\u001b[0;32m    297\u001b[0m                                 \u001b[1;31m#=================backward===============\u001b[0m\u001b[1;33m\u001b[0m\u001b[1;33m\u001b[0m\u001b[1;33m\u001b[0m\u001b[0m\n\u001b[0;32m    298\u001b[0m                                 \u001b[0mself\u001b[0m\u001b[1;33m.\u001b[0m\u001b[0moptimizer\u001b[0m\u001b[1;33m.\u001b[0m\u001b[0mzero_grad\u001b[0m\u001b[1;33m(\u001b[0m\u001b[1;33m)\u001b[0m\u001b[1;33m\u001b[0m\u001b[1;33m\u001b[0m\u001b[0m\n\u001b[1;32m--> 299\u001b[1;33m                                 \u001b[0mloss\u001b[0m\u001b[1;33m.\u001b[0m\u001b[0mbackward\u001b[0m\u001b[1;33m(\u001b[0m\u001b[1;33m)\u001b[0m\u001b[1;33m\u001b[0m\u001b[1;33m\u001b[0m\u001b[0m\n\u001b[0m\u001b[0;32m    300\u001b[0m                                 \u001b[0mself\u001b[0m\u001b[1;33m.\u001b[0m\u001b[0moptimizer\u001b[0m\u001b[1;33m.\u001b[0m\u001b[0mstep\u001b[0m\u001b[1;33m(\u001b[0m\u001b[1;33m)\u001b[0m\u001b[1;33m\u001b[0m\u001b[1;33m\u001b[0m\u001b[0m\n\u001b[0;32m    301\u001b[0m                                 \u001b[1;31m#=================log====================\u001b[0m\u001b[1;33m\u001b[0m\u001b[1;33m\u001b[0m\u001b[1;33m\u001b[0m\u001b[0m\n",
      "\u001b[1;32m~\\Miniconda3\\envs\\Pytorch\\lib\\site-packages\\torch\\optim\\adam.py\u001b[0m in \u001b[0;36mstep\u001b[1;34m(self, closure)\u001b[0m\n\u001b[0;32m     94\u001b[0m                 \u001b[1;31m# Decay the first and second moment running average coefficient\u001b[0m\u001b[1;33m\u001b[0m\u001b[1;33m\u001b[0m\u001b[1;33m\u001b[0m\u001b[0m\n\u001b[0;32m     95\u001b[0m                 \u001b[0mexp_avg\u001b[0m\u001b[1;33m.\u001b[0m\u001b[0mmul_\u001b[0m\u001b[1;33m(\u001b[0m\u001b[0mbeta1\u001b[0m\u001b[1;33m)\u001b[0m\u001b[1;33m.\u001b[0m\u001b[0madd_\u001b[0m\u001b[1;33m(\u001b[0m\u001b[1;36m1\u001b[0m \u001b[1;33m-\u001b[0m \u001b[0mbeta1\u001b[0m\u001b[1;33m,\u001b[0m \u001b[0mgrad\u001b[0m\u001b[1;33m)\u001b[0m\u001b[1;33m\u001b[0m\u001b[1;33m\u001b[0m\u001b[0m\n\u001b[1;32m---> 96\u001b[1;33m                 \u001b[0mexp_avg_sq\u001b[0m\u001b[1;33m.\u001b[0m\u001b[0mmul_\u001b[0m\u001b[1;33m(\u001b[0m\u001b[0mbeta2\u001b[0m\u001b[1;33m)\u001b[0m\u001b[1;33m.\u001b[0m\u001b[0maddcmul_\u001b[0m\u001b[1;33m(\u001b[0m\u001b[1;36m1\u001b[0m \u001b[1;33m-\u001b[0m \u001b[0mbeta2\u001b[0m\u001b[1;33m,\u001b[0m \u001b[0mgrad\u001b[0m\u001b[1;33m,\u001b[0m \u001b[0mgrad\u001b[0m\u001b[1;33m)\u001b[0m\u001b[1;33m\u001b[0m\u001b[1;33m\u001b[0m\u001b[0m\n\u001b[0m\u001b[0;32m     97\u001b[0m                 \u001b[1;32mif\u001b[0m \u001b[0mamsgrad\u001b[0m\u001b[1;33m:\u001b[0m\u001b[1;33m\u001b[0m\u001b[1;33m\u001b[0m\u001b[0m\n\u001b[0;32m     98\u001b[0m                     \u001b[1;31m# Maintains the maximum of all 2nd moment running avg. till now\u001b[0m\u001b[1;33m\u001b[0m\u001b[1;33m\u001b[0m\u001b[1;33m\u001b[0m\u001b[0m\n",
      "\u001b[1;31mKeyboardInterrupt\u001b[0m: "
     ]
    }
   ],
   "source": [
    "lh = m3(epochs=range(100), train_loader=train_loader, validation_loader=valid_loader)"
   ]
  },
  {
   "cell_type": "code",
   "execution_count": 55,
   "metadata": {},
   "outputs": [],
   "source": [
    "m3.tb.close()"
   ]
  },
  {
   "cell_type": "code",
   "execution_count": 302,
   "metadata": {},
   "outputs": [],
   "source": [
    "m3.model.train()\n",
    "with torch.no_grad():\n",
    "    x_pred = np.argmax(m3.model(torch.tensor(X_test).float().to(m3.device)).cpu().detach(), axis=1)"
   ]
  },
  {
   "cell_type": "code",
   "execution_count": 303,
   "metadata": {},
   "outputs": [
    {
     "data": {
      "text/plain": [
       "tensor([1, 1, 1,  ..., 0, 1, 0])"
      ]
     },
     "execution_count": 303,
     "metadata": {},
     "output_type": "execute_result"
    }
   ],
   "source": [
    "x_pred"
   ]
  },
  {
   "cell_type": "code",
   "execution_count": 304,
   "metadata": {},
   "outputs": [
    {
     "data": {
      "text/plain": [
       "0.8634819654555002"
      ]
     },
     "execution_count": 304,
     "metadata": {},
     "output_type": "execute_result"
    }
   ],
   "source": [
    "f1_score(y_true=y_test, y_pred=x_pred,average=\"macro\")"
   ]
  },
  {
   "cell_type": "code",
   "execution_count": 305,
   "metadata": {},
   "outputs": [
    {
     "data": {
      "text/plain": [
       "0.9144956978967496"
      ]
     },
     "execution_count": 305,
     "metadata": {},
     "output_type": "execute_result"
    }
   ],
   "source": [
    "accuracy_score(y_true=y_test, y_pred=x_pred)"
   ]
  },
  {
   "cell_type": "code",
   "execution_count": 306,
   "metadata": {},
   "outputs": [
    {
     "data": {
      "text/plain": [
       "array([[3765,  344,   32,   94],\n",
       "       [ 373, 9961,   34,   77],\n",
       "       [  22,   34,  394,   29],\n",
       "       [ 251,  131,   10, 1185]], dtype=int64)"
      ]
     },
     "execution_count": 306,
     "metadata": {},
     "output_type": "execute_result"
    }
   ],
   "source": [
    "confusion_matrix(y_true=y_test, y_pred=x_pred)"
   ]
  },
  {
   "cell_type": "code",
   "execution_count": 61,
   "metadata": {},
   "outputs": [],
   "source": [
    "#torch.save(m3.model,\"models_and_losses/CNN-m.III-Conv1-BN-Drop-0.3_lr-1e-3_bs-32_early_stopped.pt\")"
   ]
  },
  {
   "cell_type": "markdown",
   "metadata": {},
   "source": [
    "# Mark II"
   ]
  },
  {
   "cell_type": "code",
   "execution_count": 64,
   "metadata": {},
   "outputs": [],
   "source": [
    "CNN_4 = nn.Sequential(\n",
    "            layers.Reshape(out_shape=(1,160)),\n",
    "            nn.Conv1d(in_channels=1, out_channels=16, kernel_size=6, stride=2, padding=0, bias=False), # n*1*160 -> n*16*78\n",
    "            nn.ReLU(inplace=True),\n",
    "            layers.CBD1dBlock(in_channels=16, out_channels=32, kernel_size=4, stride=2, bias=False, activation=nn.ReLU(), dropout=0.3),#n*16*78->n*32*38\n",
    "            layers.Flatten(out_features=32*38),\n",
    "            nn.Linear(in_features=32*38, out_features=256),\n",
    "            nn.ReLU(inplace=True),\n",
    "            nn.Dropout(p=0.3),\n",
    "            nn.Linear(in_features=256, out_features=4)\n",
    ")"
   ]
  },
  {
   "cell_type": "code",
   "execution_count": 65,
   "metadata": {},
   "outputs": [
    {
     "data": {
      "text/plain": [
       "Sequential(\n",
       "  (0): Reshape()\n",
       "  (1): Conv1d(1, 16, kernel_size=(6,), stride=(2,), bias=False)\n",
       "  (2): ReLU(inplace=True)\n",
       "  (3): CBD1dBlock(\n",
       "    (layer): Conv1d(16, 32, kernel_size=(4,), stride=(2,), bias=False)\n",
       "    (batch_norm): BatchNorm1d(32, eps=1e-05, momentum=0.1, affine=True, track_running_stats=True)\n",
       "    (activation): ReLU()\n",
       "    (dropout): Dropout(p=0.3, inplace=False)\n",
       "  )\n",
       "  (4): Flatten()\n",
       "  (5): Linear(in_features=1216, out_features=256, bias=True)\n",
       "  (6): ReLU(inplace=True)\n",
       "  (7): Dropout(p=0.3, inplace=False)\n",
       "  (8): Linear(in_features=256, out_features=4, bias=True)\n",
       ")"
      ]
     },
     "execution_count": 65,
     "metadata": {},
     "output_type": "execute_result"
    }
   ],
   "source": [
    "CNN_4.eval()"
   ]
  },
  {
   "cell_type": "code",
   "execution_count": 66,
   "metadata": {},
   "outputs": [],
   "source": [
    "optimizer= torch.optim.Adam(CNN_4.parameters(), lr=1e-3)"
   ]
  },
  {
   "cell_type": "code",
   "execution_count": 68,
   "metadata": {},
   "outputs": [],
   "source": [
    "train_loader = torch.utils.data.DataLoader(dataset = train, batch_size=32, shuffle=True)\n",
    "valid_loader = torch.utils.data.DataLoader(dataset = valid, batch_size=32, shuffle=True)"
   ]
  },
  {
   "cell_type": "code",
   "execution_count": 69,
   "metadata": {},
   "outputs": [
    {
     "name": "stdout",
     "output_type": "stream",
     "text": [
      "cuda:0\n"
     ]
    }
   ],
   "source": [
    "m4 = Trainer(\n",
    "        model=CNN_4,\n",
    "        optimizer=optimizer,\n",
    "        loss_function=nn.CrossEntropyLoss(),\n",
    "        #scheduler=torch.optim.lr_scheduler.MultiStepLR(optimizer, milestones=[100], gamma=0.1),\n",
    "        tensorboard=True,\n",
    "        model_name=\"CNN-m.II-Conv1-BN-Drop-0.3_lr-1e-3_bs-32\",\n",
    "        verbose=True\n",
    "        )"
   ]
  },
  {
   "cell_type": "code",
   "execution_count": 70,
   "metadata": {
    "collapsed": true
   },
   "outputs": [
    {
     "name": "stdout",
     "output_type": "stream",
     "text": [
      "Epoch [1/range(0, 75)], average_loss:0.5174, validation_loss:0.4507, val_accuracy:0.8462\n",
      "Epoch [2/range(0, 75)], average_loss:0.4247, validation_loss:0.4369, val_accuracy:0.8462\n",
      "Epoch [3/range(0, 75)], average_loss:0.3887, validation_loss:0.3783, val_accuracy:0.9231\n",
      "Epoch [4/range(0, 75)], average_loss:0.3629, validation_loss:0.3936, val_accuracy:0.7692\n",
      "Epoch [5/range(0, 75)], average_loss:0.3518, validation_loss:0.3554, val_accuracy:0.9231\n",
      "Epoch [6/range(0, 75)], average_loss:0.3395, validation_loss:0.3745, val_accuracy:0.7692\n",
      "Epoch [7/range(0, 75)], average_loss:0.3283, validation_loss:0.3444, val_accuracy:0.9231\n",
      "Epoch [8/range(0, 75)], average_loss:0.3214, validation_loss:0.3267, val_accuracy:0.8462\n",
      "Epoch [9/range(0, 75)], average_loss:0.3153, validation_loss:0.3502, val_accuracy:0.7692\n",
      "Epoch [10/range(0, 75)], average_loss:0.3128, validation_loss:0.3277, val_accuracy:0.7692\n",
      "Epoch [11/range(0, 75)], average_loss:0.3039, validation_loss:0.3458, val_accuracy:0.6923\n",
      "Epoch [12/range(0, 75)], average_loss:0.2976, validation_loss:0.3237, val_accuracy:0.8462\n",
      "Epoch [13/range(0, 75)], average_loss:0.2935, validation_loss:0.3170, val_accuracy:0.6923\n",
      "Epoch [14/range(0, 75)], average_loss:0.2931, validation_loss:0.3224, val_accuracy:0.9231\n",
      "Epoch [15/range(0, 75)], average_loss:0.2864, validation_loss:0.3195, val_accuracy:0.9231\n",
      "Epoch [16/range(0, 75)], average_loss:0.2858, validation_loss:0.3250, val_accuracy:0.6154\n",
      "Epoch [17/range(0, 75)], average_loss:0.2817, validation_loss:0.3151, val_accuracy:0.9231\n",
      "Epoch [18/range(0, 75)], average_loss:0.2797, validation_loss:0.3156, val_accuracy:0.6923\n",
      "Epoch [19/range(0, 75)], average_loss:0.2766, validation_loss:0.3045, val_accuracy:0.9231\n",
      "Epoch [20/range(0, 75)], average_loss:0.2715, validation_loss:0.3176, val_accuracy:1.0000\n",
      "Epoch [21/range(0, 75)], average_loss:0.2687, validation_loss:0.3281, val_accuracy:0.9231\n",
      "Epoch [22/range(0, 75)], average_loss:0.2670, validation_loss:0.3443, val_accuracy:0.8462\n",
      "Epoch [23/range(0, 75)], average_loss:0.2708, validation_loss:0.3152, val_accuracy:0.8462\n",
      "Epoch [24/range(0, 75)], average_loss:0.2611, validation_loss:0.3057, val_accuracy:0.9231\n",
      "Epoch [25/range(0, 75)], average_loss:0.2589, validation_loss:0.3254, val_accuracy:0.8462\n",
      "Epoch [26/range(0, 75)], average_loss:0.2577, validation_loss:0.3220, val_accuracy:0.7692\n",
      "Epoch [27/range(0, 75)], average_loss:0.2543, validation_loss:0.3333, val_accuracy:0.9231\n",
      "Epoch [28/range(0, 75)], average_loss:0.2532, validation_loss:0.3166, val_accuracy:0.9231\n",
      "Epoch [29/range(0, 75)], average_loss:0.2512, validation_loss:0.3276, val_accuracy:0.9231\n",
      "Epoch [30/range(0, 75)], average_loss:0.2480, validation_loss:0.3389, val_accuracy:0.9231\n",
      "Epoch [31/range(0, 75)], average_loss:0.2457, validation_loss:0.3076, val_accuracy:0.9231\n",
      "Epoch [32/range(0, 75)], average_loss:0.2494, validation_loss:0.3169, val_accuracy:0.7692\n",
      "Epoch [33/range(0, 75)], average_loss:0.2404, validation_loss:0.3115, val_accuracy:0.8462\n",
      "Epoch [34/range(0, 75)], average_loss:0.2472, validation_loss:0.3184, val_accuracy:1.0000\n",
      "Epoch [35/range(0, 75)], average_loss:0.2391, validation_loss:0.3213, val_accuracy:1.0000\n",
      "Epoch [36/range(0, 75)], average_loss:0.2341, validation_loss:0.3284, val_accuracy:0.8462\n",
      "Epoch [37/range(0, 75)], average_loss:0.2363, validation_loss:0.3327, val_accuracy:1.0000\n",
      "Epoch [38/range(0, 75)], average_loss:0.2323, validation_loss:0.3303, val_accuracy:0.8462\n",
      "Epoch [39/range(0, 75)], average_loss:0.2289, validation_loss:0.3360, val_accuracy:0.9231\n",
      "Epoch [40/range(0, 75)], average_loss:0.2279, validation_loss:0.3259, val_accuracy:0.6923\n",
      "Epoch [41/range(0, 75)], average_loss:0.2291, validation_loss:0.3704, val_accuracy:0.8462\n",
      "Epoch [42/range(0, 75)], average_loss:0.2258, validation_loss:0.3322, val_accuracy:1.0000\n",
      "Epoch [43/range(0, 75)], average_loss:0.2244, validation_loss:0.3189, val_accuracy:0.8462\n",
      "Epoch [44/range(0, 75)], average_loss:0.2238, validation_loss:0.3303, val_accuracy:0.9231\n",
      "Epoch [45/range(0, 75)], average_loss:0.2194, validation_loss:0.3215, val_accuracy:0.9231\n",
      "Epoch [46/range(0, 75)], average_loss:0.2216, validation_loss:0.3333, val_accuracy:0.7692\n",
      "Epoch [47/range(0, 75)], average_loss:0.2167, validation_loss:0.3655, val_accuracy:0.6923\n",
      "Epoch [48/range(0, 75)], average_loss:0.2188, validation_loss:0.3260, val_accuracy:0.9231\n",
      "Epoch [49/range(0, 75)], average_loss:0.2188, validation_loss:0.3405, val_accuracy:0.9231\n",
      "Epoch [50/range(0, 75)], average_loss:0.2157, validation_loss:0.3313, val_accuracy:0.9231\n",
      "Epoch [51/range(0, 75)], average_loss:0.2081, validation_loss:0.3379, val_accuracy:1.0000\n",
      "Epoch [52/range(0, 75)], average_loss:0.2102, validation_loss:0.3600, val_accuracy:0.7692\n",
      "Epoch [53/range(0, 75)], average_loss:0.2116, validation_loss:0.3379, val_accuracy:0.9231\n",
      "Epoch [54/range(0, 75)], average_loss:0.2073, validation_loss:0.3391, val_accuracy:0.8462\n",
      "Epoch [55/range(0, 75)], average_loss:0.2069, validation_loss:0.3342, val_accuracy:0.8462\n",
      "Epoch [56/range(0, 75)], average_loss:0.2053, validation_loss:0.3520, val_accuracy:0.7692\n",
      "Epoch [57/range(0, 75)], average_loss:0.2080, validation_loss:0.3611, val_accuracy:0.6923\n",
      "Epoch [58/range(0, 75)], average_loss:0.1993, validation_loss:0.3511, val_accuracy:0.8462\n",
      "Epoch [59/range(0, 75)], average_loss:0.2001, validation_loss:0.3615, val_accuracy:0.8462\n",
      "Epoch [60/range(0, 75)], average_loss:0.2070, validation_loss:0.3580, val_accuracy:0.6923\n",
      "Epoch [61/range(0, 75)], average_loss:0.1976, validation_loss:0.3567, val_accuracy:0.8462\n",
      "Epoch [62/range(0, 75)], average_loss:0.2018, validation_loss:0.3578, val_accuracy:0.9231\n"
     ]
    },
    {
     "ename": "KeyboardInterrupt",
     "evalue": "",
     "output_type": "error",
     "traceback": [
      "\u001b[1;31m---------------------------------------------------------------------------\u001b[0m",
      "\u001b[1;31mKeyboardInterrupt\u001b[0m                         Traceback (most recent call last)",
      "\u001b[1;32m<ipython-input-70-181d9f1438e6>\u001b[0m in \u001b[0;36m<module>\u001b[1;34m\u001b[0m\n\u001b[1;32m----> 1\u001b[1;33m \u001b[0mlh\u001b[0m \u001b[1;33m=\u001b[0m \u001b[0mm4\u001b[0m\u001b[1;33m(\u001b[0m\u001b[0mepochs\u001b[0m\u001b[1;33m=\u001b[0m\u001b[1;36m75\u001b[0m\u001b[1;33m,\u001b[0m \u001b[0mtrain_loader\u001b[0m\u001b[1;33m=\u001b[0m\u001b[0mtrain_loader\u001b[0m\u001b[1;33m,\u001b[0m \u001b[0mvalidation_loader\u001b[0m\u001b[1;33m=\u001b[0m\u001b[0mvalid_loader\u001b[0m\u001b[1;33m)\u001b[0m\u001b[1;33m\u001b[0m\u001b[1;33m\u001b[0m\u001b[0m\n\u001b[0m",
      "\u001b[1;32m~\\Miniconda3\\envs\\Pytorch\\lib\\site-packages\\torch\\nn\\modules\\module.py\u001b[0m in \u001b[0;36m__call__\u001b[1;34m(self, *input, **kwargs)\u001b[0m\n\u001b[0;32m    539\u001b[0m             \u001b[0mresult\u001b[0m \u001b[1;33m=\u001b[0m \u001b[0mself\u001b[0m\u001b[1;33m.\u001b[0m\u001b[0m_slow_forward\u001b[0m\u001b[1;33m(\u001b[0m\u001b[1;33m*\u001b[0m\u001b[0minput\u001b[0m\u001b[1;33m,\u001b[0m \u001b[1;33m**\u001b[0m\u001b[0mkwargs\u001b[0m\u001b[1;33m)\u001b[0m\u001b[1;33m\u001b[0m\u001b[1;33m\u001b[0m\u001b[0m\n\u001b[0;32m    540\u001b[0m         \u001b[1;32melse\u001b[0m\u001b[1;33m:\u001b[0m\u001b[1;33m\u001b[0m\u001b[1;33m\u001b[0m\u001b[0m\n\u001b[1;32m--> 541\u001b[1;33m             \u001b[0mresult\u001b[0m \u001b[1;33m=\u001b[0m \u001b[0mself\u001b[0m\u001b[1;33m.\u001b[0m\u001b[0mforward\u001b[0m\u001b[1;33m(\u001b[0m\u001b[1;33m*\u001b[0m\u001b[0minput\u001b[0m\u001b[1;33m,\u001b[0m \u001b[1;33m**\u001b[0m\u001b[0mkwargs\u001b[0m\u001b[1;33m)\u001b[0m\u001b[1;33m\u001b[0m\u001b[1;33m\u001b[0m\u001b[0m\n\u001b[0m\u001b[0;32m    542\u001b[0m         \u001b[1;32mfor\u001b[0m \u001b[0mhook\u001b[0m \u001b[1;32min\u001b[0m \u001b[0mself\u001b[0m\u001b[1;33m.\u001b[0m\u001b[0m_forward_hooks\u001b[0m\u001b[1;33m.\u001b[0m\u001b[0mvalues\u001b[0m\u001b[1;33m(\u001b[0m\u001b[1;33m)\u001b[0m\u001b[1;33m:\u001b[0m\u001b[1;33m\u001b[0m\u001b[1;33m\u001b[0m\u001b[0m\n\u001b[0;32m    543\u001b[0m             \u001b[0mhook_result\u001b[0m \u001b[1;33m=\u001b[0m \u001b[0mhook\u001b[0m\u001b[1;33m(\u001b[0m\u001b[0mself\u001b[0m\u001b[1;33m,\u001b[0m \u001b[0minput\u001b[0m\u001b[1;33m,\u001b[0m \u001b[0mresult\u001b[0m\u001b[1;33m)\u001b[0m\u001b[1;33m\u001b[0m\u001b[1;33m\u001b[0m\u001b[0m\n",
      "\u001b[1;32mZ:\\Semi-supervised-Learning-with-VAE\\utils\\inference.py\u001b[0m in \u001b[0;36mforward\u001b[1;34m(self, epochs, train_loader, validation_loader)\u001b[0m\n\u001b[0;32m    297\u001b[0m \u001b[1;33m\u001b[0m\u001b[0m\n\u001b[0;32m    298\u001b[0m                                 \u001b[0mtrain_loss\u001b[0m \u001b[1;33m+=\u001b[0m \u001b[0mloss\u001b[0m\u001b[1;33m.\u001b[0m\u001b[0mitem\u001b[0m\u001b[1;33m(\u001b[0m\u001b[1;33m)\u001b[0m\u001b[1;33m\u001b[0m\u001b[1;33m\u001b[0m\u001b[0m\n\u001b[1;32m--> 299\u001b[1;33m                                 \u001b[1;31m#=================backward===============\u001b[0m\u001b[1;33m\u001b[0m\u001b[1;33m\u001b[0m\u001b[1;33m\u001b[0m\u001b[0m\n\u001b[0m\u001b[0;32m    300\u001b[0m                                 \u001b[0mself\u001b[0m\u001b[1;33m.\u001b[0m\u001b[0moptimizer\u001b[0m\u001b[1;33m.\u001b[0m\u001b[0mzero_grad\u001b[0m\u001b[1;33m(\u001b[0m\u001b[1;33m)\u001b[0m\u001b[1;33m\u001b[0m\u001b[1;33m\u001b[0m\u001b[0m\n\u001b[0;32m    301\u001b[0m                                 \u001b[0mloss\u001b[0m\u001b[1;33m.\u001b[0m\u001b[0mbackward\u001b[0m\u001b[1;33m(\u001b[0m\u001b[1;33m)\u001b[0m\u001b[1;33m\u001b[0m\u001b[1;33m\u001b[0m\u001b[0m\n",
      "\u001b[1;32m~\\Miniconda3\\envs\\Pytorch\\lib\\site-packages\\torch\\optim\\adam.py\u001b[0m in \u001b[0;36mstep\u001b[1;34m(self, closure)\u001b[0m\n\u001b[0;32m    101\u001b[0m                     \u001b[0mdenom\u001b[0m \u001b[1;33m=\u001b[0m \u001b[1;33m(\u001b[0m\u001b[0mmax_exp_avg_sq\u001b[0m\u001b[1;33m.\u001b[0m\u001b[0msqrt\u001b[0m\u001b[1;33m(\u001b[0m\u001b[1;33m)\u001b[0m \u001b[1;33m/\u001b[0m \u001b[0mmath\u001b[0m\u001b[1;33m.\u001b[0m\u001b[0msqrt\u001b[0m\u001b[1;33m(\u001b[0m\u001b[0mbias_correction2\u001b[0m\u001b[1;33m)\u001b[0m\u001b[1;33m)\u001b[0m\u001b[1;33m.\u001b[0m\u001b[0madd_\u001b[0m\u001b[1;33m(\u001b[0m\u001b[0mgroup\u001b[0m\u001b[1;33m[\u001b[0m\u001b[1;34m'eps'\u001b[0m\u001b[1;33m]\u001b[0m\u001b[1;33m)\u001b[0m\u001b[1;33m\u001b[0m\u001b[1;33m\u001b[0m\u001b[0m\n\u001b[0;32m    102\u001b[0m                 \u001b[1;32melse\u001b[0m\u001b[1;33m:\u001b[0m\u001b[1;33m\u001b[0m\u001b[1;33m\u001b[0m\u001b[0m\n\u001b[1;32m--> 103\u001b[1;33m                     \u001b[0mdenom\u001b[0m \u001b[1;33m=\u001b[0m \u001b[1;33m(\u001b[0m\u001b[0mexp_avg_sq\u001b[0m\u001b[1;33m.\u001b[0m\u001b[0msqrt\u001b[0m\u001b[1;33m(\u001b[0m\u001b[1;33m)\u001b[0m \u001b[1;33m/\u001b[0m \u001b[0mmath\u001b[0m\u001b[1;33m.\u001b[0m\u001b[0msqrt\u001b[0m\u001b[1;33m(\u001b[0m\u001b[0mbias_correction2\u001b[0m\u001b[1;33m)\u001b[0m\u001b[1;33m)\u001b[0m\u001b[1;33m.\u001b[0m\u001b[0madd_\u001b[0m\u001b[1;33m(\u001b[0m\u001b[0mgroup\u001b[0m\u001b[1;33m[\u001b[0m\u001b[1;34m'eps'\u001b[0m\u001b[1;33m]\u001b[0m\u001b[1;33m)\u001b[0m\u001b[1;33m\u001b[0m\u001b[1;33m\u001b[0m\u001b[0m\n\u001b[0m\u001b[0;32m    104\u001b[0m \u001b[1;33m\u001b[0m\u001b[0m\n\u001b[0;32m    105\u001b[0m                 \u001b[0mstep_size\u001b[0m \u001b[1;33m=\u001b[0m \u001b[0mgroup\u001b[0m\u001b[1;33m[\u001b[0m\u001b[1;34m'lr'\u001b[0m\u001b[1;33m]\u001b[0m \u001b[1;33m/\u001b[0m \u001b[0mbias_correction1\u001b[0m\u001b[1;33m\u001b[0m\u001b[1;33m\u001b[0m\u001b[0m\n",
      "\u001b[1;31mKeyboardInterrupt\u001b[0m: "
     ]
    }
   ],
   "source": [
    "lh = m4(epochs=75, train_loader=train_loader, validation_loader=valid_loader)"
   ]
  },
  {
   "cell_type": "markdown",
   "metadata": {},
   "source": [
    "# bigger dropout prob"
   ]
  },
  {
   "cell_type": "code",
   "execution_count": 71,
   "metadata": {},
   "outputs": [],
   "source": [
    "CNN_5 = nn.Sequential(\n",
    "            layers.Reshape(out_shape=(1,160)),\n",
    "            nn.Conv1d(in_channels=1, out_channels=16, kernel_size=6, stride=2, padding=0, bias=False), # n*1*160 -> n*16*78\n",
    "            nn.Dropout(p=0.2),\n",
    "            nn.ReLU(inplace=True),\n",
    "            layers.CBD1dBlock(in_channels=16, out_channels=32, kernel_size=4, stride=2, bias=False, activation=nn.ReLU(), dropout=0.5),#n*16*78->n*32*38\n",
    "            layers.CBD1dBlock(in_channels=32, out_channels=64, kernel_size=4, stride=2, bias=False, activation=nn.ReLU(), dropout=0.5),#n*32*38->n*64*18\n",
    "            layers.Flatten(out_features=64*18),\n",
    "            nn.Linear(in_features=64*18, out_features=256),\n",
    "            nn.ReLU(inplace=True),\n",
    "            nn.Dropout(p=0.5),\n",
    "            nn.Linear(in_features=256, out_features=4)\n",
    ")"
   ]
  },
  {
   "cell_type": "code",
   "execution_count": 72,
   "metadata": {},
   "outputs": [
    {
     "data": {
      "text/plain": [
       "Sequential(\n",
       "  (0): Reshape()\n",
       "  (1): Conv1d(1, 16, kernel_size=(6,), stride=(2,), bias=False)\n",
       "  (2): Dropout(p=0.2, inplace=False)\n",
       "  (3): ReLU(inplace=True)\n",
       "  (4): CBD1dBlock(\n",
       "    (layer): Conv1d(16, 32, kernel_size=(4,), stride=(2,), bias=False)\n",
       "    (batch_norm): BatchNorm1d(32, eps=1e-05, momentum=0.1, affine=True, track_running_stats=True)\n",
       "    (activation): ReLU()\n",
       "    (dropout): Dropout(p=0.5, inplace=False)\n",
       "  )\n",
       "  (5): CBD1dBlock(\n",
       "    (layer): Conv1d(32, 64, kernel_size=(4,), stride=(2,), bias=False)\n",
       "    (batch_norm): BatchNorm1d(64, eps=1e-05, momentum=0.1, affine=True, track_running_stats=True)\n",
       "    (activation): ReLU()\n",
       "    (dropout): Dropout(p=0.5, inplace=False)\n",
       "  )\n",
       "  (6): Flatten()\n",
       "  (7): Linear(in_features=1152, out_features=256, bias=True)\n",
       "  (8): ReLU(inplace=True)\n",
       "  (9): Dropout(p=0.5, inplace=False)\n",
       "  (10): Linear(in_features=256, out_features=4, bias=True)\n",
       ")"
      ]
     },
     "execution_count": 72,
     "metadata": {},
     "output_type": "execute_result"
    }
   ],
   "source": [
    "CNN_5.eval()"
   ]
  },
  {
   "cell_type": "code",
   "execution_count": 93,
   "metadata": {},
   "outputs": [],
   "source": [
    "optimizer= torch.optim.Adam(CNN_5.parameters(), lr=1e-3)"
   ]
  },
  {
   "cell_type": "code",
   "execution_count": 94,
   "metadata": {},
   "outputs": [],
   "source": [
    "train_loader = torch.utils.data.DataLoader(dataset = train, batch_size=100, shuffle=True)\n",
    "valid_loader = torch.utils.data.DataLoader(dataset = valid, batch_size=100, shuffle=True)"
   ]
  },
  {
   "cell_type": "code",
   "execution_count": 95,
   "metadata": {},
   "outputs": [
    {
     "name": "stdout",
     "output_type": "stream",
     "text": [
      "cuda:0\n"
     ]
    }
   ],
   "source": [
    "m5 = Trainer(\n",
    "        model=CNN_5,\n",
    "        optimizer=optimizer,\n",
    "        loss_function=nn.CrossEntropyLoss(),\n",
    "        #scheduler=torch.optim.lr_scheduler.MultiStepLR(optimizer, milestones=[100], gamma=0.1),\n",
    "        tensorboard=True,\n",
    "        model_name=\"CNN-Conv1-BN-Drop-0.5_lr-1e-3_bs-100\",\n",
    "        verbose=True\n",
    "        )"
   ]
  },
  {
   "cell_type": "code",
   "execution_count": 96,
   "metadata": {},
   "outputs": [
    {
     "name": "stdout",
     "output_type": "stream",
     "text": [
      "Epoch [1/range(0, 75)], average_loss:0.6236, validation_loss:0.5448, val_accuracy:0.7865\n",
      "Epoch [2/range(0, 75)], average_loss:0.5172, validation_loss:0.5010, val_accuracy:0.8539\n",
      "Epoch [3/range(0, 75)], average_loss:0.4793, validation_loss:0.4666, val_accuracy:0.8090\n",
      "Epoch [4/range(0, 75)], average_loss:0.4537, validation_loss:0.4433, val_accuracy:0.8539\n",
      "Epoch [5/range(0, 75)], average_loss:0.4406, validation_loss:0.4461, val_accuracy:0.8652\n",
      "Epoch [6/range(0, 75)], average_loss:0.4266, validation_loss:0.4307, val_accuracy:0.8989\n",
      "Epoch [7/range(0, 75)], average_loss:0.4128, validation_loss:0.4170, val_accuracy:0.8764\n",
      "Epoch [8/range(0, 75)], average_loss:0.4080, validation_loss:0.4101, val_accuracy:0.8876\n",
      "Epoch [9/range(0, 75)], average_loss:0.3981, validation_loss:0.3932, val_accuracy:0.8876\n",
      "Epoch [10/range(0, 75)], average_loss:0.3894, validation_loss:0.3896, val_accuracy:0.8202\n",
      "Epoch [11/range(0, 75)], average_loss:0.3866, validation_loss:0.4056, val_accuracy:0.8315\n",
      "Epoch [12/range(0, 75)], average_loss:0.3808, validation_loss:0.3787, val_accuracy:0.8427\n",
      "Epoch [13/range(0, 75)], average_loss:0.3733, validation_loss:0.3807, val_accuracy:0.8652\n",
      "Epoch [14/range(0, 75)], average_loss:0.3687, validation_loss:0.3853, val_accuracy:0.8652\n",
      "Epoch [15/range(0, 75)], average_loss:0.3626, validation_loss:0.3696, val_accuracy:0.9438\n",
      "Epoch [16/range(0, 75)], average_loss:0.3576, validation_loss:0.3602, val_accuracy:0.7978\n",
      "Epoch [17/range(0, 75)], average_loss:0.3565, validation_loss:0.3596, val_accuracy:0.8427\n",
      "Epoch [18/range(0, 75)], average_loss:0.3500, validation_loss:0.3650, val_accuracy:0.9101\n",
      "Epoch [19/range(0, 75)], average_loss:0.3461, validation_loss:0.3555, val_accuracy:0.8876\n",
      "Epoch [20/range(0, 75)], average_loss:0.3386, validation_loss:0.3484, val_accuracy:0.8652\n",
      "Epoch [21/range(0, 75)], average_loss:0.3389, validation_loss:0.3544, val_accuracy:0.8876\n",
      "Epoch [22/range(0, 75)], average_loss:0.3374, validation_loss:0.3528, val_accuracy:0.9101\n",
      "Epoch [23/range(0, 75)], average_loss:0.3328, validation_loss:0.3395, val_accuracy:0.8989\n",
      "Epoch [24/range(0, 75)], average_loss:0.3310, validation_loss:0.3547, val_accuracy:0.8427\n",
      "Epoch [25/range(0, 75)], average_loss:0.3290, validation_loss:0.3262, val_accuracy:0.8202\n",
      "Epoch [26/range(0, 75)], average_loss:0.3260, validation_loss:0.3456, val_accuracy:0.8989\n",
      "Epoch [27/range(0, 75)], average_loss:0.3266, validation_loss:0.3492, val_accuracy:0.7978\n",
      "Epoch [28/range(0, 75)], average_loss:0.3231, validation_loss:0.3482, val_accuracy:0.8764\n",
      "Epoch [29/range(0, 75)], average_loss:0.3218, validation_loss:0.3306, val_accuracy:0.9213\n",
      "Epoch [30/range(0, 75)], average_loss:0.3229, validation_loss:0.3278, val_accuracy:0.8989\n",
      "Epoch [31/range(0, 75)], average_loss:0.3153, validation_loss:0.3193, val_accuracy:0.8876\n",
      "Epoch [32/range(0, 75)], average_loss:0.3224, validation_loss:0.3535, val_accuracy:0.9213\n",
      "Epoch [33/range(0, 75)], average_loss:0.3202, validation_loss:0.3375, val_accuracy:0.8202\n",
      "Epoch [34/range(0, 75)], average_loss:0.3136, validation_loss:0.3211, val_accuracy:0.8764\n",
      "Epoch [35/range(0, 75)], average_loss:0.3136, validation_loss:0.3371, val_accuracy:0.8876\n",
      "Epoch [36/range(0, 75)], average_loss:0.3107, validation_loss:0.3221, val_accuracy:0.9213\n",
      "Epoch [37/range(0, 75)], average_loss:0.3115, validation_loss:0.3344, val_accuracy:0.8427\n",
      "Epoch [38/range(0, 75)], average_loss:0.3069, validation_loss:0.3162, val_accuracy:0.8764\n",
      "Epoch [39/range(0, 75)], average_loss:0.3061, validation_loss:0.3118, val_accuracy:0.8764\n",
      "Epoch [40/range(0, 75)], average_loss:0.3082, validation_loss:0.3445, val_accuracy:0.8652\n",
      "Epoch [41/range(0, 75)], average_loss:0.3045, validation_loss:0.3324, val_accuracy:0.8652\n",
      "Epoch [42/range(0, 75)], average_loss:0.3095, validation_loss:0.3371, val_accuracy:0.8315\n",
      "Epoch [43/range(0, 75)], average_loss:0.3045, validation_loss:0.3316, val_accuracy:0.8539\n",
      "Epoch [44/range(0, 75)], average_loss:0.3016, validation_loss:0.3423, val_accuracy:0.8876\n",
      "Epoch [45/range(0, 75)], average_loss:0.3034, validation_loss:0.3364, val_accuracy:0.9213\n",
      "Epoch [46/range(0, 75)], average_loss:0.2991, validation_loss:0.3274, val_accuracy:0.8876\n",
      "Epoch [47/range(0, 75)], average_loss:0.3043, validation_loss:0.3230, val_accuracy:0.9101\n",
      "Epoch [48/range(0, 75)], average_loss:0.2988, validation_loss:0.3141, val_accuracy:0.8652\n",
      "Epoch [49/range(0, 75)], average_loss:0.2981, validation_loss:0.3114, val_accuracy:0.8539\n",
      "Epoch [50/range(0, 75)], average_loss:0.2993, validation_loss:0.3103, val_accuracy:0.8764\n",
      "Epoch [51/range(0, 75)], average_loss:0.2980, validation_loss:0.3257, val_accuracy:0.8876\n",
      "Epoch [52/range(0, 75)], average_loss:0.2954, validation_loss:0.3136, val_accuracy:0.8989\n",
      "Epoch [53/range(0, 75)], average_loss:0.2984, validation_loss:0.3122, val_accuracy:0.8989\n",
      "Epoch [54/range(0, 75)], average_loss:0.2961, validation_loss:0.3178, val_accuracy:0.8764\n",
      "Epoch [55/range(0, 75)], average_loss:0.2932, validation_loss:0.3102, val_accuracy:0.9213\n",
      "Epoch [56/range(0, 75)], average_loss:0.2944, validation_loss:0.3071, val_accuracy:0.9213\n",
      "Epoch [57/range(0, 75)], average_loss:0.2922, validation_loss:0.3139, val_accuracy:0.9101\n",
      "Epoch [58/range(0, 75)], average_loss:0.2933, validation_loss:0.3103, val_accuracy:0.8764\n",
      "Epoch [59/range(0, 75)], average_loss:0.2942, validation_loss:0.3050, val_accuracy:0.9213\n",
      "Epoch [60/range(0, 75)], average_loss:0.2930, validation_loss:0.3017, val_accuracy:0.9438\n",
      "Epoch [61/range(0, 75)], average_loss:0.2899, validation_loss:0.3009, val_accuracy:0.8764\n",
      "Epoch [62/range(0, 75)], average_loss:0.2913, validation_loss:0.3077, val_accuracy:0.8876\n",
      "Epoch [63/range(0, 75)], average_loss:0.2883, validation_loss:0.3024, val_accuracy:0.8652\n",
      "Epoch [64/range(0, 75)], average_loss:0.2894, validation_loss:0.3124, val_accuracy:0.8764\n",
      "Epoch [65/range(0, 75)], average_loss:0.2879, validation_loss:0.3068, val_accuracy:0.8989\n",
      "Epoch [66/range(0, 75)], average_loss:0.2907, validation_loss:0.3112, val_accuracy:0.8989\n",
      "Epoch [67/range(0, 75)], average_loss:0.2876, validation_loss:0.3075, val_accuracy:0.9101\n",
      "Epoch [68/range(0, 75)], average_loss:0.2871, validation_loss:0.3027, val_accuracy:0.8427\n",
      "Epoch [69/range(0, 75)], average_loss:0.2868, validation_loss:0.3053, val_accuracy:0.8539\n",
      "Epoch [70/range(0, 75)], average_loss:0.2843, validation_loss:0.3089, val_accuracy:0.9213\n",
      "Epoch [71/range(0, 75)], average_loss:0.2819, validation_loss:0.3098, val_accuracy:0.8764\n",
      "Epoch [72/range(0, 75)], average_loss:0.2853, validation_loss:0.3014, val_accuracy:0.9213\n",
      "Epoch [73/range(0, 75)], average_loss:0.2845, validation_loss:0.3143, val_accuracy:0.8315\n",
      "Epoch [74/range(0, 75)], average_loss:0.2838, validation_loss:0.3159, val_accuracy:0.8764\n",
      "Epoch [75/range(0, 75)], average_loss:0.2818, validation_loss:0.3047, val_accuracy:0.8989\n"
     ]
    }
   ],
   "source": [
    "lh = m5(epochs=75, train_loader=train_loader, validation_loader=valid_loader)"
   ]
  },
  {
   "cell_type": "code",
   "execution_count": 98,
   "metadata": {},
   "outputs": [],
   "source": [
    "m5.tb.close()"
   ]
  },
  {
   "cell_type": "code",
   "execution_count": 311,
   "metadata": {},
   "outputs": [],
   "source": [
    "m5.model.eval()\n",
    "with torch.no_grad():\n",
    "    x_pred = np.argmax(m5.model(torch.tensor(X_test).float().to(m5.device)).cpu().detach(), axis=1)"
   ]
  },
  {
   "cell_type": "code",
   "execution_count": 312,
   "metadata": {},
   "outputs": [
    {
     "data": {
      "text/plain": [
       "tensor([1, 1, 1,  ..., 0, 1, 0])"
      ]
     },
     "execution_count": 312,
     "metadata": {},
     "output_type": "execute_result"
    }
   ],
   "source": [
    "x_pred"
   ]
  },
  {
   "cell_type": "code",
   "execution_count": 313,
   "metadata": {},
   "outputs": [
    {
     "data": {
      "text/plain": [
       "0.8639913837998829"
      ]
     },
     "execution_count": 313,
     "metadata": {},
     "output_type": "execute_result"
    }
   ],
   "source": [
    "f1_score(y_true=y_test, y_pred=x_pred,average=\"macro\")"
   ]
  },
  {
   "cell_type": "code",
   "execution_count": 314,
   "metadata": {},
   "outputs": [
    {
     "data": {
      "text/plain": [
       "0.9030831739961759"
      ]
     },
     "execution_count": 314,
     "metadata": {},
     "output_type": "execute_result"
    }
   ],
   "source": [
    "accuracy_score(y_true=y_test, y_pred=x_pred)"
   ]
  },
  {
   "cell_type": "code",
   "execution_count": 315,
   "metadata": {},
   "outputs": [
    {
     "data": {
      "text/plain": [
       "array([[3902,  207,   22,  104],\n",
       "       [ 733, 9592,   31,   89],\n",
       "       [  26,   35,  402,   16],\n",
       "       [ 260,   88,   11, 1218]], dtype=int64)"
      ]
     },
     "execution_count": 315,
     "metadata": {},
     "output_type": "execute_result"
    }
   ],
   "source": [
    "confusion_matrix(y_true=y_test, y_pred=x_pred)"
   ]
  },
  {
   "cell_type": "code",
   "execution_count": null,
   "metadata": {},
   "outputs": [],
   "source": []
  },
  {
   "cell_type": "code",
   "execution_count": null,
   "metadata": {},
   "outputs": [],
   "source": []
  },
  {
   "cell_type": "markdown",
   "metadata": {},
   "source": [
    "# Mark IV"
   ]
  },
  {
   "cell_type": "code",
   "execution_count": 115,
   "metadata": {},
   "outputs": [],
   "source": [
    "CNN_6 = nn.Sequential(\n",
    "            layers.Reshape(out_shape=(1,160)),\n",
    "            nn.Conv1d(in_channels=1, out_channels=16, kernel_size=5, stride=1, padding=0, bias=False), # n*1*160 -> n*16*156\n",
    "            nn.ReLU(inplace=True),\n",
    "            nn.MaxPool1d(kernel_size=2), #n*16*156 -> n*16*78\n",
    "    \n",
    "            nn.Conv1d(in_channels=16, out_channels=32, kernel_size=5, stride=1, padding=0, bias=False),# n*16*78->n*32*74\n",
    "            nn.ReLU(inplace=True),\n",
    "            nn.MaxPool1d(kernel_size=2),#n*32*74->n*32*37\n",
    "    \n",
    "            nn.Conv1d(in_channels=32, out_channels=64, kernel_size=5, stride=2, padding=0, bias=False), # n*32*37 -> n*64*17\n",
    "            nn.ReLU(inplace=True),\n",
    "            layers.Flatten(out_features=64*17),\n",
    "            nn.Dropout(p=0.3),\n",
    "    \n",
    "            nn.Linear(in_features=64*17, out_features=256),\n",
    "            nn.ReLU(inplace=True),\n",
    "            nn.Dropout(p=0.3),\n",
    "    \n",
    "            nn.Linear(in_features=256, out_features=4)\n",
    ")"
   ]
  },
  {
   "cell_type": "code",
   "execution_count": 116,
   "metadata": {},
   "outputs": [],
   "source": [
    "optimizer= torch.optim.Adam(CNN_6.parameters(), lr=1e-3)"
   ]
  },
  {
   "cell_type": "code",
   "execution_count": 117,
   "metadata": {},
   "outputs": [],
   "source": [
    "train_loader = torch.utils.data.DataLoader(dataset = train, batch_size=100, shuffle=True)\n",
    "valid_loader = torch.utils.data.DataLoader(dataset = valid, batch_size=100, shuffle=True)"
   ]
  },
  {
   "cell_type": "code",
   "execution_count": 118,
   "metadata": {},
   "outputs": [
    {
     "name": "stdout",
     "output_type": "stream",
     "text": [
      "cuda:0\n"
     ]
    }
   ],
   "source": [
    "m6 = Trainer(\n",
    "        model=CNN_6,\n",
    "        optimizer=optimizer,\n",
    "        loss_function=nn.CrossEntropyLoss(),\n",
    "        #scheduler=torch.optim.lr_scheduler.MultiStepLR(optimizer, milestones=[100], gamma=0.1),\n",
    "        tensorboard=True,\n",
    "        model_name=\"CNN-Conv1-MaxP-2_lr-1e-3_bs-100\",\n",
    "        verbose=True\n",
    "        )"
   ]
  },
  {
   "cell_type": "code",
   "execution_count": 119,
   "metadata": {},
   "outputs": [
    {
     "name": "stdout",
     "output_type": "stream",
     "text": [
      "Epoch [1/range(0, 75)], average_loss:0.5998, validation_loss:0.4857, val_accuracy:0.7978\n",
      "Epoch [2/range(0, 75)], average_loss:0.4409, validation_loss:0.4053, val_accuracy:0.8652\n",
      "Epoch [3/range(0, 75)], average_loss:0.3910, validation_loss:0.3752, val_accuracy:0.8876\n",
      "Epoch [4/range(0, 75)], average_loss:0.3522, validation_loss:0.3342, val_accuracy:0.8764\n",
      "Epoch [5/range(0, 75)], average_loss:0.3243, validation_loss:0.3279, val_accuracy:0.9101\n",
      "Epoch [6/range(0, 75)], average_loss:0.3082, validation_loss:0.3139, val_accuracy:0.8315\n",
      "Epoch [7/range(0, 75)], average_loss:0.2967, validation_loss:0.2950, val_accuracy:0.8764\n",
      "Epoch [8/range(0, 75)], average_loss:0.2872, validation_loss:0.2841, val_accuracy:0.8876\n",
      "Epoch [9/range(0, 75)], average_loss:0.2767, validation_loss:0.2885, val_accuracy:0.9438\n",
      "Epoch [10/range(0, 75)], average_loss:0.2741, validation_loss:0.2889, val_accuracy:0.9101\n",
      "Epoch [11/range(0, 75)], average_loss:0.2655, validation_loss:0.2753, val_accuracy:0.8989\n",
      "Epoch [12/range(0, 75)], average_loss:0.2571, validation_loss:0.2729, val_accuracy:0.8764\n",
      "Epoch [13/range(0, 75)], average_loss:0.2557, validation_loss:0.2689, val_accuracy:0.9101\n",
      "Epoch [14/range(0, 75)], average_loss:0.2445, validation_loss:0.2636, val_accuracy:0.9213\n",
      "Epoch [15/range(0, 75)], average_loss:0.2432, validation_loss:0.2739, val_accuracy:0.9326\n",
      "Epoch [16/range(0, 75)], average_loss:0.2373, validation_loss:0.2634, val_accuracy:0.8764\n",
      "Epoch [17/range(0, 75)], average_loss:0.2310, validation_loss:0.2500, val_accuracy:0.8876\n",
      "Epoch [18/range(0, 75)], average_loss:0.2324, validation_loss:0.2539, val_accuracy:0.9101\n",
      "Epoch [19/range(0, 75)], average_loss:0.2247, validation_loss:0.2526, val_accuracy:0.8876\n",
      "Epoch [20/range(0, 75)], average_loss:0.2229, validation_loss:0.2604, val_accuracy:0.8989\n",
      "Epoch [21/range(0, 75)], average_loss:0.2253, validation_loss:0.2486, val_accuracy:0.9213\n",
      "Epoch [22/range(0, 75)], average_loss:0.2173, validation_loss:0.2561, val_accuracy:0.8652\n",
      "Epoch [23/range(0, 75)], average_loss:0.2137, validation_loss:0.2515, val_accuracy:0.9101\n",
      "Epoch [24/range(0, 75)], average_loss:0.2147, validation_loss:0.2398, val_accuracy:0.9101\n",
      "Epoch [25/range(0, 75)], average_loss:0.2069, validation_loss:0.2393, val_accuracy:0.8652\n",
      "Epoch [26/range(0, 75)], average_loss:0.2045, validation_loss:0.2553, val_accuracy:0.9101\n",
      "Epoch [27/range(0, 75)], average_loss:0.2058, validation_loss:0.2518, val_accuracy:0.8652\n",
      "Epoch [28/range(0, 75)], average_loss:0.1993, validation_loss:0.2529, val_accuracy:0.8764\n",
      "Epoch [29/range(0, 75)], average_loss:0.2026, validation_loss:0.2475, val_accuracy:0.8989\n",
      "Epoch [30/range(0, 75)], average_loss:0.1934, validation_loss:0.2391, val_accuracy:0.8764\n",
      "Epoch [31/range(0, 75)], average_loss:0.1921, validation_loss:0.2492, val_accuracy:0.9551\n",
      "Epoch [32/range(0, 75)], average_loss:0.1878, validation_loss:0.2454, val_accuracy:0.9438\n",
      "Epoch [33/range(0, 75)], average_loss:0.1892, validation_loss:0.3387, val_accuracy:0.8764\n",
      "Epoch [34/range(0, 75)], average_loss:0.1856, validation_loss:0.2516, val_accuracy:0.8764\n",
      "Epoch [35/range(0, 75)], average_loss:0.1798, validation_loss:0.2570, val_accuracy:0.8764\n",
      "Epoch [36/range(0, 75)], average_loss:0.1812, validation_loss:0.2444, val_accuracy:0.9551\n",
      "Epoch [37/range(0, 75)], average_loss:0.1732, validation_loss:0.2584, val_accuracy:0.9101\n",
      "Epoch [38/range(0, 75)], average_loss:0.1763, validation_loss:0.2448, val_accuracy:0.9101\n",
      "Epoch [39/range(0, 75)], average_loss:0.1750, validation_loss:0.2528, val_accuracy:0.9326\n",
      "Epoch [40/range(0, 75)], average_loss:0.1725, validation_loss:0.2408, val_accuracy:0.9326\n",
      "Epoch [41/range(0, 75)], average_loss:0.1680, validation_loss:0.2560, val_accuracy:0.9551\n",
      "Epoch [42/range(0, 75)], average_loss:0.1671, validation_loss:0.2601, val_accuracy:0.9438\n",
      "Epoch [43/range(0, 75)], average_loss:0.1643, validation_loss:0.2942, val_accuracy:0.9213\n",
      "Epoch [44/range(0, 75)], average_loss:0.1605, validation_loss:0.2571, val_accuracy:0.8876\n",
      "Epoch [45/range(0, 75)], average_loss:0.1600, validation_loss:0.2509, val_accuracy:0.8989\n",
      "Epoch [46/range(0, 75)], average_loss:0.1603, validation_loss:0.2829, val_accuracy:0.9101\n",
      "Epoch [47/range(0, 75)], average_loss:0.1561, validation_loss:0.2497, val_accuracy:0.9326\n",
      "Epoch [48/range(0, 75)], average_loss:0.1583, validation_loss:0.2541, val_accuracy:0.8989\n",
      "Epoch [49/range(0, 75)], average_loss:0.1533, validation_loss:0.2996, val_accuracy:0.9101\n",
      "Epoch [50/range(0, 75)], average_loss:0.1562, validation_loss:0.2627, val_accuracy:0.8652\n",
      "Epoch [51/range(0, 75)], average_loss:0.1468, validation_loss:0.2668, val_accuracy:0.9438\n",
      "Epoch [52/range(0, 75)], average_loss:0.1466, validation_loss:0.2568, val_accuracy:0.8202\n",
      "Epoch [53/range(0, 75)], average_loss:0.1430, validation_loss:0.2594, val_accuracy:0.8876\n",
      "Epoch [54/range(0, 75)], average_loss:0.1395, validation_loss:0.2620, val_accuracy:0.9213\n",
      "Epoch [55/range(0, 75)], average_loss:0.1421, validation_loss:0.2785, val_accuracy:0.8764\n",
      "Epoch [56/range(0, 75)], average_loss:0.1392, validation_loss:0.2716, val_accuracy:0.9101\n",
      "Epoch [57/range(0, 75)], average_loss:0.1378, validation_loss:0.2922, val_accuracy:0.8427\n",
      "Epoch [58/range(0, 75)], average_loss:0.1355, validation_loss:0.2793, val_accuracy:0.9101\n",
      "Epoch [59/range(0, 75)], average_loss:0.1320, validation_loss:0.2735, val_accuracy:0.9213\n",
      "Epoch [60/range(0, 75)], average_loss:0.1326, validation_loss:0.2803, val_accuracy:0.9326\n",
      "Epoch [61/range(0, 75)], average_loss:0.1312, validation_loss:0.2721, val_accuracy:0.9101\n",
      "Epoch [62/range(0, 75)], average_loss:0.1250, validation_loss:0.2728, val_accuracy:0.8876\n",
      "Epoch [63/range(0, 75)], average_loss:0.1291, validation_loss:0.2788, val_accuracy:0.8876\n",
      "Epoch [64/range(0, 75)], average_loss:0.1305, validation_loss:0.2786, val_accuracy:0.9213\n",
      "Epoch [65/range(0, 75)], average_loss:0.1237, validation_loss:0.2927, val_accuracy:0.9326\n",
      "Epoch [66/range(0, 75)], average_loss:0.1242, validation_loss:0.3190, val_accuracy:0.8764\n",
      "Epoch [67/range(0, 75)], average_loss:0.1211, validation_loss:0.2938, val_accuracy:0.9438\n",
      "Epoch [68/range(0, 75)], average_loss:0.1188, validation_loss:0.2859, val_accuracy:0.8989\n",
      "Epoch [69/range(0, 75)], average_loss:0.1199, validation_loss:0.3051, val_accuracy:0.8764\n",
      "Epoch [70/range(0, 75)], average_loss:0.1167, validation_loss:0.2908, val_accuracy:0.8652\n",
      "Epoch [71/range(0, 75)], average_loss:0.1192, validation_loss:0.3029, val_accuracy:0.9663\n",
      "Epoch [72/range(0, 75)], average_loss:0.1167, validation_loss:0.3088, val_accuracy:0.9326\n",
      "Epoch [73/range(0, 75)], average_loss:0.1167, validation_loss:0.2944, val_accuracy:0.8989\n",
      "Epoch [74/range(0, 75)], average_loss:0.1120, validation_loss:0.3041, val_accuracy:0.9326\n",
      "Epoch [75/range(0, 75)], average_loss:0.1129, validation_loss:0.3040, val_accuracy:0.8876\n"
     ]
    }
   ],
   "source": [
    "lh = m6(epochs=75, train_loader=train_loader, validation_loader=valid_loader)"
   ]
  },
  {
   "cell_type": "markdown",
   "metadata": {},
   "source": [
    "# Mark V"
   ]
  },
  {
   "cell_type": "code",
   "execution_count": 125,
   "metadata": {},
   "outputs": [],
   "source": [
    "CNN_7 = nn.Sequential(\n",
    "            layers.Reshape(out_shape=(1,160)),\n",
    "            nn.Conv1d(in_channels=1, out_channels=32, kernel_size=5, stride=1, padding=0, bias=False), # n*1*160 -> n*32*156\n",
    "            nn.ELU(inplace=True),\n",
    "            nn.MaxPool1d(kernel_size=3), #n*32*156 -> n*32*52\n",
    "    \n",
    "            nn.Conv1d(in_channels=32, out_channels=64, kernel_size=5, stride=1, padding=0, bias=False),# n*32*52->n*64*48\n",
    "            nn.ELU(inplace=True),\n",
    "            layers.Flatten(out_features=48*64),\n",
    "\n",
    "            nn.Linear(in_features=48*64, out_features=126),\n",
    "            nn.ELU(inplace=True),\n",
    "            nn.Dropout(p=0.3),\n",
    "    \n",
    "            nn.Linear(in_features=126, out_features=4)\n",
    ")"
   ]
  },
  {
   "cell_type": "code",
   "execution_count": 126,
   "metadata": {},
   "outputs": [],
   "source": [
    "optimizer= torch.optim.Adam(CNN_7.parameters(), lr=1e-4)"
   ]
  },
  {
   "cell_type": "code",
   "execution_count": 127,
   "metadata": {},
   "outputs": [],
   "source": [
    "train_loader = torch.utils.data.DataLoader(dataset = train, batch_size=50, shuffle=True)\n",
    "valid_loader = torch.utils.data.DataLoader(dataset = valid, batch_size=50, shuffle=True)"
   ]
  },
  {
   "cell_type": "code",
   "execution_count": 128,
   "metadata": {},
   "outputs": [
    {
     "name": "stdout",
     "output_type": "stream",
     "text": [
      "cuda:0\n"
     ]
    }
   ],
   "source": [
    "m7 = Trainer(\n",
    "        model=CNN_7,\n",
    "        optimizer=optimizer,\n",
    "        loss_function=nn.CrossEntropyLoss(),\n",
    "        #scheduler=torch.optim.lr_scheduler.MultiStepLR(optimizer, milestones=[100], gamma=0.1),\n",
    "        tensorboard=True,\n",
    "        model_name=\"CNN-m.V_Conv1-MaxP-3_lr-1e-4_bs-50\",\n",
    "        verbose=True\n",
    "        )"
   ]
  },
  {
   "cell_type": "code",
   "execution_count": 129,
   "metadata": {},
   "outputs": [
    {
     "name": "stdout",
     "output_type": "stream",
     "text": [
      "Epoch [1/range(0, 75)], average_loss:0.7459, validation_loss:0.6490, val_accuracy:0.7949\n",
      "Epoch [2/range(0, 75)], average_loss:0.6120, validation_loss:0.5867, val_accuracy:0.7692\n",
      "Epoch [3/range(0, 75)], average_loss:0.5626, validation_loss:0.5539, val_accuracy:0.7949\n",
      "Epoch [4/range(0, 75)], average_loss:0.5280, validation_loss:0.5318, val_accuracy:0.8462\n",
      "Epoch [5/range(0, 75)], average_loss:0.5090, validation_loss:0.4936, val_accuracy:0.8205\n",
      "Epoch [6/range(0, 75)], average_loss:0.4914, validation_loss:0.4978, val_accuracy:0.8974\n",
      "Epoch [7/range(0, 75)], average_loss:0.4798, validation_loss:0.4967, val_accuracy:0.8205\n",
      "Epoch [8/range(0, 75)], average_loss:0.4680, validation_loss:0.4703, val_accuracy:0.8974\n",
      "Epoch [9/range(0, 75)], average_loss:0.4592, validation_loss:0.4584, val_accuracy:0.9487\n",
      "Epoch [10/range(0, 75)], average_loss:0.4481, validation_loss:0.4514, val_accuracy:0.7949\n",
      "Epoch [11/range(0, 75)], average_loss:0.4441, validation_loss:0.4345, val_accuracy:0.8974\n",
      "Epoch [12/range(0, 75)], average_loss:0.4328, validation_loss:0.4269, val_accuracy:0.9744\n",
      "Epoch [13/range(0, 75)], average_loss:0.4279, validation_loss:0.4234, val_accuracy:0.9231\n",
      "Epoch [14/range(0, 75)], average_loss:0.4186, validation_loss:0.4442, val_accuracy:0.7179\n",
      "Epoch [15/range(0, 75)], average_loss:0.4168, validation_loss:0.4172, val_accuracy:0.8462\n",
      "Epoch [16/range(0, 75)], average_loss:0.4074, validation_loss:0.4290, val_accuracy:0.8718\n",
      "Epoch [17/range(0, 75)], average_loss:0.4033, validation_loss:0.4008, val_accuracy:0.7692\n",
      "Epoch [18/range(0, 75)], average_loss:0.4027, validation_loss:0.4052, val_accuracy:0.8205\n",
      "Epoch [19/range(0, 75)], average_loss:0.3974, validation_loss:0.3980, val_accuracy:0.8462\n",
      "Epoch [20/range(0, 75)], average_loss:0.3909, validation_loss:0.3920, val_accuracy:0.8974\n",
      "Epoch [21/range(0, 75)], average_loss:0.3886, validation_loss:0.3916, val_accuracy:0.7692\n",
      "Epoch [22/range(0, 75)], average_loss:0.3843, validation_loss:0.3959, val_accuracy:0.9231\n",
      "Epoch [23/range(0, 75)], average_loss:0.3804, validation_loss:0.3817, val_accuracy:0.8974\n",
      "Epoch [24/range(0, 75)], average_loss:0.3802, validation_loss:0.3872, val_accuracy:0.8205\n",
      "Epoch [25/range(0, 75)], average_loss:0.3769, validation_loss:0.3822, val_accuracy:0.9487\n",
      "Epoch [26/range(0, 75)], average_loss:0.3725, validation_loss:0.4015, val_accuracy:0.9231\n",
      "Epoch [27/range(0, 75)], average_loss:0.3709, validation_loss:0.4020, val_accuracy:0.8205\n",
      "Epoch [28/range(0, 75)], average_loss:0.3699, validation_loss:0.3750, val_accuracy:0.8718\n",
      "Epoch [29/range(0, 75)], average_loss:0.3677, validation_loss:0.3724, val_accuracy:0.8974\n",
      "Epoch [30/range(0, 75)], average_loss:0.3654, validation_loss:0.3709, val_accuracy:0.7436\n",
      "Epoch [31/range(0, 75)], average_loss:0.3665, validation_loss:0.3696, val_accuracy:0.7436\n",
      "Epoch [32/range(0, 75)], average_loss:0.3610, validation_loss:0.3877, val_accuracy:0.8462\n",
      "Epoch [33/range(0, 75)], average_loss:0.3585, validation_loss:0.3623, val_accuracy:0.8462\n",
      "Epoch [34/range(0, 75)], average_loss:0.3556, validation_loss:0.3843, val_accuracy:0.9487\n",
      "Epoch [35/range(0, 75)], average_loss:0.3554, validation_loss:0.3795, val_accuracy:0.8205\n",
      "Epoch [36/range(0, 75)], average_loss:0.3544, validation_loss:0.3534, val_accuracy:0.8974\n",
      "Epoch [37/range(0, 75)], average_loss:0.3552, validation_loss:0.3877, val_accuracy:0.9231\n",
      "Epoch [38/range(0, 75)], average_loss:0.3521, validation_loss:0.3614, val_accuracy:0.8205\n",
      "Epoch [39/range(0, 75)], average_loss:0.3502, validation_loss:0.3563, val_accuracy:0.7949\n",
      "Epoch [40/range(0, 75)], average_loss:0.3477, validation_loss:0.4099, val_accuracy:0.8205\n",
      "Epoch [41/range(0, 75)], average_loss:0.3453, validation_loss:0.3677, val_accuracy:0.8718\n",
      "Epoch [42/range(0, 75)], average_loss:0.3433, validation_loss:0.3557, val_accuracy:0.8718\n",
      "Epoch [43/range(0, 75)], average_loss:0.3446, validation_loss:0.3492, val_accuracy:0.8462\n",
      "Epoch [44/range(0, 75)], average_loss:0.3414, validation_loss:0.3531, val_accuracy:0.8974\n",
      "Epoch [45/range(0, 75)], average_loss:0.3391, validation_loss:0.3634, val_accuracy:0.8462\n",
      "Epoch [46/range(0, 75)], average_loss:0.3401, validation_loss:0.3426, val_accuracy:0.8718\n",
      "Epoch [47/range(0, 75)], average_loss:0.3369, validation_loss:0.3530, val_accuracy:0.9744\n",
      "Epoch [48/range(0, 75)], average_loss:0.3347, validation_loss:0.3451, val_accuracy:0.9231\n",
      "Epoch [49/range(0, 75)], average_loss:0.3332, validation_loss:0.3649, val_accuracy:0.8974\n",
      "Epoch [50/range(0, 75)], average_loss:0.3359, validation_loss:0.3891, val_accuracy:0.8462\n",
      "Epoch [51/range(0, 75)], average_loss:0.3307, validation_loss:0.3677, val_accuracy:0.7949\n",
      "Epoch [52/range(0, 75)], average_loss:0.3304, validation_loss:0.3683, val_accuracy:0.8718\n",
      "Epoch [53/range(0, 75)], average_loss:0.3286, validation_loss:0.3392, val_accuracy:0.8462\n",
      "Epoch [54/range(0, 75)], average_loss:0.3290, validation_loss:0.3360, val_accuracy:0.8718\n",
      "Epoch [55/range(0, 75)], average_loss:0.3265, validation_loss:0.3509, val_accuracy:0.8718\n",
      "Epoch [56/range(0, 75)], average_loss:0.3250, validation_loss:0.3331, val_accuracy:0.9231\n",
      "Epoch [57/range(0, 75)], average_loss:0.3237, validation_loss:0.3410, val_accuracy:0.8974\n",
      "Epoch [58/range(0, 75)], average_loss:0.3229, validation_loss:0.3385, val_accuracy:0.9231\n",
      "Epoch [59/range(0, 75)], average_loss:0.3203, validation_loss:0.3376, val_accuracy:0.9231\n",
      "Epoch [60/range(0, 75)], average_loss:0.3262, validation_loss:0.3431, val_accuracy:0.9487\n",
      "Epoch [61/range(0, 75)], average_loss:0.3196, validation_loss:0.3292, val_accuracy:0.8462\n",
      "Epoch [62/range(0, 75)], average_loss:0.3217, validation_loss:0.3392, val_accuracy:0.9231\n",
      "Epoch [63/range(0, 75)], average_loss:0.3181, validation_loss:0.3424, val_accuracy:0.9487\n",
      "Epoch [64/range(0, 75)], average_loss:0.3194, validation_loss:0.3358, val_accuracy:0.8205\n",
      "Epoch [65/range(0, 75)], average_loss:0.3181, validation_loss:0.3699, val_accuracy:0.8462\n",
      "Epoch [66/range(0, 75)], average_loss:0.3148, validation_loss:0.3331, val_accuracy:0.7179\n",
      "Epoch [67/range(0, 75)], average_loss:0.3129, validation_loss:0.3381, val_accuracy:0.8205\n",
      "Epoch [68/range(0, 75)], average_loss:0.3142, validation_loss:0.3622, val_accuracy:0.9231\n",
      "Epoch [69/range(0, 75)], average_loss:0.3134, validation_loss:0.3299, val_accuracy:0.8462\n",
      "Epoch [70/range(0, 75)], average_loss:0.3142, validation_loss:0.3367, val_accuracy:0.8718\n",
      "Epoch [71/range(0, 75)], average_loss:0.3134, validation_loss:0.3523, val_accuracy:0.8718\n",
      "Epoch [72/range(0, 75)], average_loss:0.3141, validation_loss:0.3387, val_accuracy:0.8718\n",
      "Epoch [73/range(0, 75)], average_loss:0.3089, validation_loss:0.3187, val_accuracy:0.8974\n",
      "Epoch [74/range(0, 75)], average_loss:0.3089, validation_loss:0.3183, val_accuracy:0.8718\n",
      "Epoch [75/range(0, 75)], average_loss:0.3088, validation_loss:0.3354, val_accuracy:0.7949\n"
     ]
    }
   ],
   "source": [
    "lh = m7(epochs=75, train_loader=train_loader, validation_loader=valid_loader)"
   ]
  },
  {
   "cell_type": "code",
   "execution_count": 130,
   "metadata": {},
   "outputs": [],
   "source": [
    "m7.tb.close()"
   ]
  },
  {
   "cell_type": "code",
   "execution_count": 131,
   "metadata": {},
   "outputs": [],
   "source": [
    "with torch.no_grad():\n",
    "    x_pred = np.argmax(m7.model(torch.tensor(X_test).float().to(m7.device)).cpu().detach(), axis=1)"
   ]
  },
  {
   "cell_type": "code",
   "execution_count": 132,
   "metadata": {},
   "outputs": [
    {
     "data": {
      "text/plain": [
       "tensor([1, 1, 1,  ..., 0, 1, 0])"
      ]
     },
     "execution_count": 132,
     "metadata": {},
     "output_type": "execute_result"
    }
   ],
   "source": [
    "x_pred"
   ]
  },
  {
   "cell_type": "code",
   "execution_count": 133,
   "metadata": {},
   "outputs": [
    {
     "data": {
      "text/plain": [
       "0.830646179354908"
      ]
     },
     "execution_count": 133,
     "metadata": {},
     "output_type": "execute_result"
    }
   ],
   "source": [
    "f1_score(y_true=y_test, y_pred=x_pred,average=\"macro\")"
   ]
  },
  {
   "cell_type": "code",
   "execution_count": 134,
   "metadata": {},
   "outputs": [
    {
     "data": {
      "text/plain": [
       "0.8822299235181644"
      ]
     },
     "execution_count": 134,
     "metadata": {},
     "output_type": "execute_result"
    }
   ],
   "source": [
    "accuracy_score(y_true=y_test, y_pred=x_pred)"
   ]
  },
  {
   "cell_type": "code",
   "execution_count": 135,
   "metadata": {},
   "outputs": [
    {
     "data": {
      "text/plain": [
       "array([[3385,  692,   36,  122],\n",
       "       [ 423, 9803,   60,  159],\n",
       "       [  22,   29,  410,   18],\n",
       "       [ 227,  157,   26, 1167]], dtype=int64)"
      ]
     },
     "execution_count": 135,
     "metadata": {},
     "output_type": "execute_result"
    }
   ],
   "source": [
    "confusion_matrix(y_true=y_test, y_pred=x_pred)"
   ]
  },
  {
   "cell_type": "markdown",
   "metadata": {},
   "source": [
    "# LeNet"
   ]
  },
  {
   "cell_type": "code",
   "execution_count": 146,
   "metadata": {},
   "outputs": [],
   "source": [
    "CNN_8 = nn.Sequential(\n",
    "            layers.Reshape(out_shape=(1,160)),\n",
    "            nn.Conv1d(in_channels=1, out_channels=6, kernel_size=5, stride=1, padding=0, bias=True), # n*1*160 -> n*6*156\n",
    "            nn.Tanh(),\n",
    "            nn.AvgPool1d(kernel_size=2), #n*32*156 -> n*32*78\n",
    "    \n",
    "            nn.Conv1d(in_channels=6, out_channels=16, kernel_size=5, stride=1, padding=0, bias=True),# n*6*78->n*16*74\n",
    "            nn.Tanh(),\n",
    "            nn.AvgPool1d(kernel_size=2), #n*16*74 -> n*16*37\n",
    "    \n",
    "            layers.Flatten(out_features=16*37),\n",
    "\n",
    "            nn.Linear(in_features=16*37, out_features=120),\n",
    "            nn.Tanh(),\n",
    "            \n",
    "            nn.Linear(in_features=120, out_features=84),\n",
    "            nn.Tanh(),\n",
    "\n",
    "    \n",
    "            nn.Linear(in_features=84, out_features=4)\n",
    ")"
   ]
  },
  {
   "cell_type": "code",
   "execution_count": 147,
   "metadata": {},
   "outputs": [],
   "source": [
    "optimizer= torch.optim.Adam(CNN_8.parameters(), lr=1e-3)"
   ]
  },
  {
   "cell_type": "code",
   "execution_count": 143,
   "metadata": {},
   "outputs": [],
   "source": [
    "train_loader = torch.utils.data.DataLoader(dataset = train, batch_size=50, shuffle=True)\n",
    "valid_loader = torch.utils.data.DataLoader(dataset = valid, batch_size=50, shuffle=True)"
   ]
  },
  {
   "cell_type": "code",
   "execution_count": 144,
   "metadata": {},
   "outputs": [
    {
     "name": "stdout",
     "output_type": "stream",
     "text": [
      "cuda:0\n"
     ]
    }
   ],
   "source": [
    "m8 = Trainer(\n",
    "        model=CNN_8,\n",
    "        optimizer=optimizer,\n",
    "        loss_function=nn.CrossEntropyLoss(),\n",
    "        #scheduler=torch.optim.lr_scheduler.MultiStepLR(optimizer, milestones=[100], gamma=0.1),\n",
    "        tensorboard=True,\n",
    "        model_name=\"CNN-LeNet_lr-1e-3_bs-50\",\n",
    "        verbose=True\n",
    "        )"
   ]
  },
  {
   "cell_type": "code",
   "execution_count": 152,
   "metadata": {
    "collapsed": true
   },
   "outputs": [
    {
     "name": "stdout",
     "output_type": "stream",
     "text": [
      "Epoch [1/range(0, 75)], average_loss:0.5597, validation_loss:0.4871, val_accuracy:0.7436\n",
      "Epoch [2/range(0, 75)], average_loss:0.4787, validation_loss:0.4659, val_accuracy:0.7436\n",
      "Epoch [3/range(0, 75)], average_loss:0.4548, validation_loss:0.4620, val_accuracy:0.8205\n",
      "Epoch [4/range(0, 75)], average_loss:0.4379, validation_loss:0.4613, val_accuracy:0.7692\n",
      "Epoch [5/range(0, 75)], average_loss:0.4292, validation_loss:0.4319, val_accuracy:0.8205\n",
      "Epoch [6/range(0, 75)], average_loss:0.4232, validation_loss:0.4205, val_accuracy:0.8974\n",
      "Epoch [7/range(0, 75)], average_loss:0.4156, validation_loss:0.4193, val_accuracy:0.8462\n",
      "Epoch [8/range(0, 75)], average_loss:0.4113, validation_loss:0.4171, val_accuracy:0.7436\n",
      "Epoch [9/range(0, 75)], average_loss:0.4077, validation_loss:0.4116, val_accuracy:0.8462\n",
      "Epoch [10/range(0, 75)], average_loss:0.4053, validation_loss:0.4222, val_accuracy:0.7949\n",
      "Epoch [11/range(0, 75)], average_loss:0.4036, validation_loss:0.4099, val_accuracy:0.8718\n",
      "Epoch [12/range(0, 75)], average_loss:0.3989, validation_loss:0.4110, val_accuracy:0.9487\n",
      "Epoch [13/range(0, 75)], average_loss:0.3971, validation_loss:0.4155, val_accuracy:0.9231\n",
      "Epoch [14/range(0, 75)], average_loss:0.3928, validation_loss:0.4163, val_accuracy:0.8462\n",
      "Epoch [15/range(0, 75)], average_loss:0.3888, validation_loss:0.4174, val_accuracy:0.7436\n"
     ]
    },
    {
     "ename": "KeyboardInterrupt",
     "evalue": "",
     "output_type": "error",
     "traceback": [
      "\u001b[1;31m---------------------------------------------------------------------------\u001b[0m",
      "\u001b[1;31mKeyboardInterrupt\u001b[0m                         Traceback (most recent call last)",
      "\u001b[1;32m<ipython-input-152-981642e37060>\u001b[0m in \u001b[0;36m<module>\u001b[1;34m\u001b[0m\n\u001b[1;32m----> 1\u001b[1;33m \u001b[0mlh\u001b[0m \u001b[1;33m=\u001b[0m \u001b[0mm8\u001b[0m\u001b[1;33m(\u001b[0m\u001b[0mepochs\u001b[0m\u001b[1;33m=\u001b[0m\u001b[1;36m75\u001b[0m\u001b[1;33m,\u001b[0m \u001b[0mtrain_loader\u001b[0m\u001b[1;33m=\u001b[0m\u001b[0mtrain_loader\u001b[0m\u001b[1;33m,\u001b[0m \u001b[0mvalidation_loader\u001b[0m\u001b[1;33m=\u001b[0m\u001b[0mvalid_loader\u001b[0m\u001b[1;33m)\u001b[0m\u001b[1;33m\u001b[0m\u001b[1;33m\u001b[0m\u001b[0m\n\u001b[0m",
      "\u001b[1;32m~\\Miniconda3\\envs\\Pytorch\\lib\\site-packages\\torch\\nn\\modules\\module.py\u001b[0m in \u001b[0;36m__call__\u001b[1;34m(self, *input, **kwargs)\u001b[0m\n\u001b[0;32m    539\u001b[0m             \u001b[0mresult\u001b[0m \u001b[1;33m=\u001b[0m \u001b[0mself\u001b[0m\u001b[1;33m.\u001b[0m\u001b[0m_slow_forward\u001b[0m\u001b[1;33m(\u001b[0m\u001b[1;33m*\u001b[0m\u001b[0minput\u001b[0m\u001b[1;33m,\u001b[0m \u001b[1;33m**\u001b[0m\u001b[0mkwargs\u001b[0m\u001b[1;33m)\u001b[0m\u001b[1;33m\u001b[0m\u001b[1;33m\u001b[0m\u001b[0m\n\u001b[0;32m    540\u001b[0m         \u001b[1;32melse\u001b[0m\u001b[1;33m:\u001b[0m\u001b[1;33m\u001b[0m\u001b[1;33m\u001b[0m\u001b[0m\n\u001b[1;32m--> 541\u001b[1;33m             \u001b[0mresult\u001b[0m \u001b[1;33m=\u001b[0m \u001b[0mself\u001b[0m\u001b[1;33m.\u001b[0m\u001b[0mforward\u001b[0m\u001b[1;33m(\u001b[0m\u001b[1;33m*\u001b[0m\u001b[0minput\u001b[0m\u001b[1;33m,\u001b[0m \u001b[1;33m**\u001b[0m\u001b[0mkwargs\u001b[0m\u001b[1;33m)\u001b[0m\u001b[1;33m\u001b[0m\u001b[1;33m\u001b[0m\u001b[0m\n\u001b[0m\u001b[0;32m    542\u001b[0m         \u001b[1;32mfor\u001b[0m \u001b[0mhook\u001b[0m \u001b[1;32min\u001b[0m \u001b[0mself\u001b[0m\u001b[1;33m.\u001b[0m\u001b[0m_forward_hooks\u001b[0m\u001b[1;33m.\u001b[0m\u001b[0mvalues\u001b[0m\u001b[1;33m(\u001b[0m\u001b[1;33m)\u001b[0m\u001b[1;33m:\u001b[0m\u001b[1;33m\u001b[0m\u001b[1;33m\u001b[0m\u001b[0m\n\u001b[0;32m    543\u001b[0m             \u001b[0mhook_result\u001b[0m \u001b[1;33m=\u001b[0m \u001b[0mhook\u001b[0m\u001b[1;33m(\u001b[0m\u001b[0mself\u001b[0m\u001b[1;33m,\u001b[0m \u001b[0minput\u001b[0m\u001b[1;33m,\u001b[0m \u001b[0mresult\u001b[0m\u001b[1;33m)\u001b[0m\u001b[1;33m\u001b[0m\u001b[1;33m\u001b[0m\u001b[0m\n",
      "\u001b[1;32mZ:\\Semi-supervised-Learning-with-VAE\\utils\\inference.py\u001b[0m in \u001b[0;36mforward\u001b[1;34m(self, epochs, train_loader, validation_loader)\u001b[0m\n\u001b[0;32m    289\u001b[0m                         \u001b[0mtrain_loss\u001b[0m \u001b[1;33m=\u001b[0m \u001b[1;36m0\u001b[0m\u001b[1;33m\u001b[0m\u001b[1;33m\u001b[0m\u001b[0m\n\u001b[0;32m    290\u001b[0m                         \u001b[1;32mfor\u001b[0m \u001b[0mi\u001b[0m\u001b[1;33m,\u001b[0m \u001b[1;33m(\u001b[0m\u001b[0mtrain_sample\u001b[0m\u001b[1;33m,\u001b[0m \u001b[0my_true\u001b[0m\u001b[1;33m)\u001b[0m \u001b[1;32min\u001b[0m \u001b[0menumerate\u001b[0m\u001b[1;33m(\u001b[0m\u001b[0mtrain_loader\u001b[0m\u001b[1;33m,\u001b[0m \u001b[1;36m0\u001b[0m\u001b[1;33m)\u001b[0m\u001b[1;33m:\u001b[0m\u001b[1;33m\u001b[0m\u001b[1;33m\u001b[0m\u001b[0m\n\u001b[1;32m--> 291\u001b[1;33m                                 \u001b[0mtrain_sample\u001b[0m \u001b[1;33m=\u001b[0m \u001b[0mtrain_sample\u001b[0m\u001b[1;33m.\u001b[0m\u001b[0mto\u001b[0m\u001b[1;33m(\u001b[0m\u001b[0mself\u001b[0m\u001b[1;33m.\u001b[0m\u001b[0mdevice\u001b[0m\u001b[1;33m)\u001b[0m\u001b[1;33m\u001b[0m\u001b[1;33m\u001b[0m\u001b[0m\n\u001b[0m\u001b[0;32m    292\u001b[0m                                 \u001b[0my_true\u001b[0m \u001b[1;33m=\u001b[0m \u001b[0my_true\u001b[0m\u001b[1;33m.\u001b[0m\u001b[0mto\u001b[0m\u001b[1;33m(\u001b[0m\u001b[0mself\u001b[0m\u001b[1;33m.\u001b[0m\u001b[0mdevice\u001b[0m\u001b[1;33m)\u001b[0m\u001b[1;33m\u001b[0m\u001b[1;33m\u001b[0m\u001b[0m\n\u001b[0;32m    293\u001b[0m                                 \u001b[1;31m#=================forward================\u001b[0m\u001b[1;33m\u001b[0m\u001b[1;33m\u001b[0m\u001b[1;33m\u001b[0m\u001b[0m\n",
      "\u001b[1;32m~\\Miniconda3\\envs\\Pytorch\\lib\\site-packages\\torch\\nn\\modules\\container.py\u001b[0m in \u001b[0;36mforward\u001b[1;34m(self, input)\u001b[0m\n\u001b[0;32m     90\u001b[0m     \u001b[1;32mdef\u001b[0m \u001b[0mforward\u001b[0m\u001b[1;33m(\u001b[0m\u001b[0mself\u001b[0m\u001b[1;33m,\u001b[0m \u001b[0minput\u001b[0m\u001b[1;33m)\u001b[0m\u001b[1;33m:\u001b[0m\u001b[1;33m\u001b[0m\u001b[1;33m\u001b[0m\u001b[0m\n\u001b[0;32m     91\u001b[0m         \u001b[1;32mfor\u001b[0m \u001b[0mmodule\u001b[0m \u001b[1;32min\u001b[0m \u001b[0mself\u001b[0m\u001b[1;33m.\u001b[0m\u001b[0m_modules\u001b[0m\u001b[1;33m.\u001b[0m\u001b[0mvalues\u001b[0m\u001b[1;33m(\u001b[0m\u001b[1;33m)\u001b[0m\u001b[1;33m:\u001b[0m\u001b[1;33m\u001b[0m\u001b[1;33m\u001b[0m\u001b[0m\n\u001b[1;32m---> 92\u001b[1;33m             \u001b[0minput\u001b[0m \u001b[1;33m=\u001b[0m \u001b[0mmodule\u001b[0m\u001b[1;33m(\u001b[0m\u001b[0minput\u001b[0m\u001b[1;33m)\u001b[0m\u001b[1;33m\u001b[0m\u001b[1;33m\u001b[0m\u001b[0m\n\u001b[0m\u001b[0;32m     93\u001b[0m         \u001b[1;32mreturn\u001b[0m \u001b[0minput\u001b[0m\u001b[1;33m\u001b[0m\u001b[1;33m\u001b[0m\u001b[0m\n\u001b[0;32m     94\u001b[0m \u001b[1;33m\u001b[0m\u001b[0m\n",
      "\u001b[1;32m~\\Miniconda3\\envs\\Pytorch\\lib\\site-packages\\torch\\nn\\modules\\module.py\u001b[0m in \u001b[0;36m__call__\u001b[1;34m(self, *input, **kwargs)\u001b[0m\n\u001b[0;32m    539\u001b[0m             \u001b[0mresult\u001b[0m \u001b[1;33m=\u001b[0m \u001b[0mself\u001b[0m\u001b[1;33m.\u001b[0m\u001b[0m_slow_forward\u001b[0m\u001b[1;33m(\u001b[0m\u001b[1;33m*\u001b[0m\u001b[0minput\u001b[0m\u001b[1;33m,\u001b[0m \u001b[1;33m**\u001b[0m\u001b[0mkwargs\u001b[0m\u001b[1;33m)\u001b[0m\u001b[1;33m\u001b[0m\u001b[1;33m\u001b[0m\u001b[0m\n\u001b[0;32m    540\u001b[0m         \u001b[1;32melse\u001b[0m\u001b[1;33m:\u001b[0m\u001b[1;33m\u001b[0m\u001b[1;33m\u001b[0m\u001b[0m\n\u001b[1;32m--> 541\u001b[1;33m             \u001b[0mresult\u001b[0m \u001b[1;33m=\u001b[0m \u001b[0mself\u001b[0m\u001b[1;33m.\u001b[0m\u001b[0mforward\u001b[0m\u001b[1;33m(\u001b[0m\u001b[1;33m*\u001b[0m\u001b[0minput\u001b[0m\u001b[1;33m,\u001b[0m \u001b[1;33m**\u001b[0m\u001b[0mkwargs\u001b[0m\u001b[1;33m)\u001b[0m\u001b[1;33m\u001b[0m\u001b[1;33m\u001b[0m\u001b[0m\n\u001b[0m\u001b[0;32m    542\u001b[0m         \u001b[1;32mfor\u001b[0m \u001b[0mhook\u001b[0m \u001b[1;32min\u001b[0m \u001b[0mself\u001b[0m\u001b[1;33m.\u001b[0m\u001b[0m_forward_hooks\u001b[0m\u001b[1;33m.\u001b[0m\u001b[0mvalues\u001b[0m\u001b[1;33m(\u001b[0m\u001b[1;33m)\u001b[0m\u001b[1;33m:\u001b[0m\u001b[1;33m\u001b[0m\u001b[1;33m\u001b[0m\u001b[0m\n\u001b[0;32m    543\u001b[0m             \u001b[0mhook_result\u001b[0m \u001b[1;33m=\u001b[0m \u001b[0mhook\u001b[0m\u001b[1;33m(\u001b[0m\u001b[0mself\u001b[0m\u001b[1;33m,\u001b[0m \u001b[0minput\u001b[0m\u001b[1;33m,\u001b[0m \u001b[0mresult\u001b[0m\u001b[1;33m)\u001b[0m\u001b[1;33m\u001b[0m\u001b[1;33m\u001b[0m\u001b[0m\n",
      "\u001b[1;32m~\\Miniconda3\\envs\\Pytorch\\lib\\site-packages\\torch\\nn\\modules\\conv.py\u001b[0m in \u001b[0;36mforward\u001b[1;34m(self, input)\u001b[0m\n\u001b[0;32m    200\u001b[0m                             _single(0), self.dilation, self.groups)\n\u001b[0;32m    201\u001b[0m         return F.conv1d(input, self.weight, self.bias, self.stride,\n\u001b[1;32m--> 202\u001b[1;33m                         self.padding, self.dilation, self.groups)\n\u001b[0m\u001b[0;32m    203\u001b[0m \u001b[1;33m\u001b[0m\u001b[0m\n\u001b[0;32m    204\u001b[0m \u001b[1;33m\u001b[0m\u001b[0m\n",
      "\u001b[1;31mKeyboardInterrupt\u001b[0m: "
     ]
    }
   ],
   "source": [
    "lh = m8(epochs=75, train_loader=train_loader, validation_loader=valid_loader)"
   ]
  },
  {
   "cell_type": "code",
   "execution_count": 153,
   "metadata": {},
   "outputs": [],
   "source": [
    "m8.tb.close()"
   ]
  },
  {
   "cell_type": "markdown",
   "metadata": {},
   "source": [
    "# Full Conv"
   ]
  },
  {
   "cell_type": "code",
   "execution_count": 154,
   "metadata": {},
   "outputs": [],
   "source": [
    "CNN_9 = nn.Sequential(\n",
    "            layers.Reshape(out_shape=(1,160)),\n",
    "            nn.Conv1d(in_channels=1, out_channels=32, kernel_size=5, stride=1, padding=0, bias=False), # n*1*160 -> n*32*156\n",
    "            nn.ELU(inplace=True),\n",
    "            nn.MaxPool1d(kernel_size=3), #n*32*156 -> n*32*52\n",
    "    \n",
    "            nn.Conv1d(in_channels=32, out_channels=64, kernel_size=5, stride=1, padding=0, bias=False),# n*32*52->n*64*48\n",
    "            nn.ELU(inplace=True),\n",
    "    \n",
    "            layers.Flatten(out_features=48*64),\n",
    "            nn.Linear(in_features=48*64, out_features=4)\n",
    ")"
   ]
  },
  {
   "cell_type": "code",
   "execution_count": 155,
   "metadata": {},
   "outputs": [],
   "source": [
    "optimizer= torch.optim.Adam(CNN_9.parameters(), lr=1e-3)"
   ]
  },
  {
   "cell_type": "code",
   "execution_count": 156,
   "metadata": {},
   "outputs": [],
   "source": [
    "train_loader = torch.utils.data.DataLoader(dataset = train, batch_size=100, shuffle=True)\n",
    "valid_loader = torch.utils.data.DataLoader(dataset = valid, batch_size=100, shuffle=True)"
   ]
  },
  {
   "cell_type": "code",
   "execution_count": 157,
   "metadata": {},
   "outputs": [
    {
     "name": "stdout",
     "output_type": "stream",
     "text": [
      "cuda:0\n"
     ]
    }
   ],
   "source": [
    "m9 = Trainer(\n",
    "        model=CNN_9,\n",
    "        optimizer=optimizer,\n",
    "        loss_function=nn.CrossEntropyLoss(),\n",
    "        #scheduler=torch.optim.lr_scheduler.MultiStepLR(optimizer, milestones=[100], gamma=0.1),\n",
    "        tensorboard=True,\n",
    "        model_name=\"CNN-full_conv_lr-1e-3_bs-100\",\n",
    "        verbose=True\n",
    "        )"
   ]
  },
  {
   "cell_type": "code",
   "execution_count": 172,
   "metadata": {},
   "outputs": [
    {
     "name": "stdout",
     "output_type": "stream",
     "text": [
      "Epoch [101/range(100, 125)], average_loss:0.2792, validation_loss:0.3716, val_accuracy:0.8764\n",
      "Epoch [102/range(100, 125)], average_loss:0.2825, validation_loss:0.3295, val_accuracy:0.9101\n",
      "Epoch [103/range(100, 125)], average_loss:0.2789, validation_loss:0.3602, val_accuracy:0.8989\n",
      "Epoch [104/range(100, 125)], average_loss:0.2767, validation_loss:0.3288, val_accuracy:0.8652\n",
      "Epoch [105/range(100, 125)], average_loss:0.2756, validation_loss:0.3328, val_accuracy:0.8764\n",
      "Epoch [106/range(100, 125)], average_loss:0.2737, validation_loss:0.3647, val_accuracy:0.8764\n",
      "Epoch [107/range(100, 125)], average_loss:0.2756, validation_loss:0.3260, val_accuracy:0.8989\n",
      "Epoch [108/range(100, 125)], average_loss:0.2758, validation_loss:0.3294, val_accuracy:0.9101\n",
      "Epoch [109/range(100, 125)], average_loss:0.2736, validation_loss:0.3655, val_accuracy:0.8315\n",
      "Epoch [110/range(100, 125)], average_loss:0.2735, validation_loss:0.3592, val_accuracy:0.8652\n",
      "Epoch [111/range(100, 125)], average_loss:0.2732, validation_loss:0.3245, val_accuracy:0.9101\n",
      "Epoch [112/range(100, 125)], average_loss:0.2763, validation_loss:0.3477, val_accuracy:0.8539\n",
      "Epoch [113/range(100, 125)], average_loss:0.2677, validation_loss:0.3262, val_accuracy:0.9101\n",
      "Epoch [114/range(100, 125)], average_loss:0.2703, validation_loss:0.3421, val_accuracy:0.8427\n",
      "Epoch [115/range(100, 125)], average_loss:0.2700, validation_loss:0.3266, val_accuracy:0.8427\n",
      "Epoch [116/range(100, 125)], average_loss:0.2704, validation_loss:0.3453, val_accuracy:0.8652\n",
      "Epoch [117/range(100, 125)], average_loss:0.2699, validation_loss:0.3308, val_accuracy:0.8539\n",
      "Epoch [118/range(100, 125)], average_loss:0.2646, validation_loss:0.3300, val_accuracy:0.9213\n",
      "Epoch [119/range(100, 125)], average_loss:0.2658, validation_loss:0.3498, val_accuracy:0.8764\n",
      "Epoch [120/range(100, 125)], average_loss:0.2681, validation_loss:0.3356, val_accuracy:0.9101\n",
      "Epoch [121/range(100, 125)], average_loss:0.2660, validation_loss:0.3489, val_accuracy:0.8989\n",
      "Epoch [122/range(100, 125)], average_loss:0.2662, validation_loss:0.3386, val_accuracy:0.8876\n",
      "Epoch [123/range(100, 125)], average_loss:0.2654, validation_loss:0.4034, val_accuracy:0.8315\n",
      "Epoch [124/range(100, 125)], average_loss:0.2616, validation_loss:0.3403, val_accuracy:0.9101\n",
      "Epoch [125/range(100, 125)], average_loss:0.2624, validation_loss:0.3295, val_accuracy:0.9101\n"
     ]
    }
   ],
   "source": [
    "lh = m9(epochs=range(100,125), train_loader=train_loader, validation_loader=valid_loader)"
   ]
  },
  {
   "cell_type": "code",
   "execution_count": 166,
   "metadata": {},
   "outputs": [],
   "source": [
    "with torch.no_grad():\n",
    "    x_pred = np.argmax(m9.model(torch.tensor(X_test).float().to(m9.device)).cpu().detach(), axis=1)\n"
   ]
  },
  {
   "cell_type": "code",
   "execution_count": 167,
   "metadata": {},
   "outputs": [
    {
     "data": {
      "text/plain": [
       "tensor([1, 1, 1,  ..., 3, 1, 0])"
      ]
     },
     "execution_count": 167,
     "metadata": {},
     "output_type": "execute_result"
    }
   ],
   "source": [
    "x_pred"
   ]
  },
  {
   "cell_type": "code",
   "execution_count": 168,
   "metadata": {},
   "outputs": [
    {
     "data": {
      "text/plain": [
       "0.8380798067310606"
      ]
     },
     "execution_count": 168,
     "metadata": {},
     "output_type": "execute_result"
    }
   ],
   "source": [
    "f1_score(y_true=y_test, y_pred=x_pred,average=\"macro\")"
   ]
  },
  {
   "cell_type": "code",
   "execution_count": 169,
   "metadata": {},
   "outputs": [
    {
     "data": {
      "text/plain": [
       "0.8971677820267686"
      ]
     },
     "execution_count": 169,
     "metadata": {},
     "output_type": "execute_result"
    }
   ],
   "source": [
    "accuracy_score(y_true=y_test, y_pred=x_pred)"
   ]
  },
  {
   "cell_type": "code",
   "execution_count": 170,
   "metadata": {},
   "outputs": [
    {
     "data": {
      "text/plain": [
       "array([[3619,  400,   43,  173],\n",
       "       [ 378, 9800,   48,  219],\n",
       "       [  11,   56,  391,   21],\n",
       "       [ 217,  141,   14, 1205]], dtype=int64)"
      ]
     },
     "execution_count": 170,
     "metadata": {},
     "output_type": "execute_result"
    }
   ],
   "source": [
    "confusion_matrix(y_true=y_test, y_pred=x_pred)"
   ]
  },
  {
   "cell_type": "code",
   "execution_count": 171,
   "metadata": {},
   "outputs": [],
   "source": [
    "#torch.save(m9.model, \"models_and_losses/CNN-full_conv_lr-1e-3_bs-100_100epochs.pt\")"
   ]
  },
  {
   "cell_type": "code",
   "execution_count": 173,
   "metadata": {},
   "outputs": [],
   "source": [
    "with torch.no_grad():\n",
    "    x_pred = np.argmax(m9.model(torch.tensor(X_test).float().to(m9.device)).cpu().detach(), axis=1)\n"
   ]
  },
  {
   "cell_type": "code",
   "execution_count": 174,
   "metadata": {},
   "outputs": [
    {
     "data": {
      "text/plain": [
       "tensor([1, 1, 1,  ..., 3, 1, 0])"
      ]
     },
     "execution_count": 174,
     "metadata": {},
     "output_type": "execute_result"
    }
   ],
   "source": [
    "x_pred"
   ]
  },
  {
   "cell_type": "code",
   "execution_count": 175,
   "metadata": {},
   "outputs": [
    {
     "data": {
      "text/plain": [
       "0.8355944835900052"
      ]
     },
     "execution_count": 175,
     "metadata": {},
     "output_type": "execute_result"
    }
   ],
   "source": [
    "f1_score(y_true=y_test, y_pred=x_pred,average=\"macro\")"
   ]
  },
  {
   "cell_type": "code",
   "execution_count": 176,
   "metadata": {},
   "outputs": [
    {
     "data": {
      "text/plain": [
       "0.8970482791586998"
      ]
     },
     "execution_count": 176,
     "metadata": {},
     "output_type": "execute_result"
    }
   ],
   "source": [
    "accuracy_score(y_true=y_test, y_pred=x_pred)"
   ]
  },
  {
   "cell_type": "code",
   "execution_count": 177,
   "metadata": {},
   "outputs": [
    {
     "data": {
      "text/plain": [
       "array([[3566,  470,   25,  174],\n",
       "       [ 341, 9907,   38,  159],\n",
       "       [  26,   73,  373,    7],\n",
       "       [ 205,  180,   25, 1167]], dtype=int64)"
      ]
     },
     "execution_count": 177,
     "metadata": {},
     "output_type": "execute_result"
    }
   ],
   "source": [
    "confusion_matrix(y_true=y_test, y_pred=x_pred)"
   ]
  },
  {
   "cell_type": "code",
   "execution_count": 178,
   "metadata": {},
   "outputs": [],
   "source": [
    "#torch.save(m9.model, \"models_and_losses/CNN-full_conv_lr-1e-3_bs-100_125epochs.pt\")"
   ]
  },
  {
   "cell_type": "markdown",
   "metadata": {},
   "source": [
    "# big Batch\n",
    "### model 10 without scheduler"
   ]
  },
  {
   "cell_type": "code",
   "execution_count": 213,
   "metadata": {},
   "outputs": [],
   "source": [
    "with torch.no_grad():\n",
    "    x_pred = np.argmax(m10.model(torch.tensor(X_test).float().to(m10.device)).cpu().detach(), axis=1)\n"
   ]
  },
  {
   "cell_type": "code",
   "execution_count": 214,
   "metadata": {},
   "outputs": [
    {
     "data": {
      "text/plain": [
       "tensor([1, 1, 1,  ..., 3, 1, 0])"
      ]
     },
     "execution_count": 214,
     "metadata": {},
     "output_type": "execute_result"
    }
   ],
   "source": [
    "x_pred"
   ]
  },
  {
   "cell_type": "code",
   "execution_count": 215,
   "metadata": {},
   "outputs": [
    {
     "data": {
      "text/plain": [
       "0.8632828120580631"
      ]
     },
     "execution_count": 215,
     "metadata": {},
     "output_type": "execute_result"
    }
   ],
   "source": [
    "f1_score(y_true=y_test, y_pred=x_pred,average=\"macro\")"
   ]
  },
  {
   "cell_type": "code",
   "execution_count": 216,
   "metadata": {},
   "outputs": [
    {
     "data": {
      "text/plain": [
       "0.9130019120458891"
      ]
     },
     "execution_count": 216,
     "metadata": {},
     "output_type": "execute_result"
    }
   ],
   "source": [
    "accuracy_score(y_true=y_test, y_pred=x_pred)"
   ]
  },
  {
   "cell_type": "code",
   "execution_count": 217,
   "metadata": {},
   "outputs": [
    {
     "data": {
      "text/plain": [
       "array([[3707,  394,   28,  106],\n",
       "       [ 318, 9990,   35,  102],\n",
       "       [  15,   46,  400,   18],\n",
       "       [ 240,  143,   11, 1183]], dtype=int64)"
      ]
     },
     "execution_count": 217,
     "metadata": {},
     "output_type": "execute_result"
    }
   ],
   "source": [
    "confusion_matrix(y_true=y_test, y_pred=x_pred)"
   ]
  },
  {
   "cell_type": "markdown",
   "metadata": {},
   "source": [
    "### with scheduler"
   ]
  },
  {
   "cell_type": "code",
   "execution_count": 219,
   "metadata": {},
   "outputs": [],
   "source": [
    "CNN_10 = nn.Sequential(\n",
    "            layers.Reshape(out_shape=(1,160)),\n",
    "            nn.Conv1d(in_channels=1, out_channels=16, kernel_size=6, stride=2, padding=0, bias=False), # n*1*160 -> n*16*78\n",
    "            nn.ReLU(inplace=True),\n",
    "            layers.CBD1dBlock(in_channels=16, out_channels=32, kernel_size=4, stride=2, bias=False, activation=nn.ReLU(), dropout=0.3),#n*16*78->n*32*38\n",
    "            layers.CBD1dBlock(in_channels=32, out_channels=64, kernel_size=4, stride=2, bias=False, activation=nn.ReLU(), dropout=0.3),#n*32*38->n*64*18\n",
    "            layers.Flatten(out_features=64*18),\n",
    "            nn.Linear(in_features=64*18, out_features=256),\n",
    "            nn.ReLU(inplace=True),\n",
    "            nn.Dropout(p=0.3),\n",
    "            nn.Linear(in_features=256, out_features=4)\n",
    ")"
   ]
  },
  {
   "cell_type": "code",
   "execution_count": 220,
   "metadata": {},
   "outputs": [],
   "source": [
    "optimizer= torch.optim.Adam(CNN_10.parameters(), lr=1e-3)"
   ]
  },
  {
   "cell_type": "code",
   "execution_count": 221,
   "metadata": {},
   "outputs": [],
   "source": [
    "train_loader = torch.utils.data.DataLoader(dataset = train, batch_size=300, shuffle=True)\n",
    "valid_loader = torch.utils.data.DataLoader(dataset = valid, batch_size=300, shuffle=True)"
   ]
  },
  {
   "cell_type": "code",
   "execution_count": 222,
   "metadata": {},
   "outputs": [
    {
     "name": "stdout",
     "output_type": "stream",
     "text": [
      "cuda:0\n"
     ]
    }
   ],
   "source": [
    "m10 = Trainer(\n",
    "        model=CNN_10,\n",
    "        optimizer=optimizer,\n",
    "        loss_function=nn.CrossEntropyLoss(),\n",
    "        scheduler=torch.optim.lr_scheduler.MultiStepLR(optimizer, milestones=[10], gamma=0.1),\n",
    "        tensorboard=True,\n",
    "        model_name=\"CNN-m.III-Conv1-BN-Drop-0.3_lr-{1e-3,1e-4}_bs-300\",\n",
    "        verbose=True\n",
    "        )"
   ]
  },
  {
   "cell_type": "code",
   "execution_count": 223,
   "metadata": {},
   "outputs": [
    {
     "name": "stdout",
     "output_type": "stream",
     "text": [
      "Epoch [1/range(0, 75)], average_loss:0.5369, validation_loss:0.4355, val_accuracy:0.8413\n",
      "Epoch [2/range(0, 75)], average_loss:0.3980, validation_loss:0.4019, val_accuracy:0.8466\n",
      "Epoch [3/range(0, 75)], average_loss:0.3553, validation_loss:0.3661, val_accuracy:0.8836\n",
      "Epoch [4/range(0, 75)], average_loss:0.3341, validation_loss:0.3237, val_accuracy:0.8995\n",
      "Epoch [5/range(0, 75)], average_loss:0.3153, validation_loss:0.3106, val_accuracy:0.9101\n",
      "Epoch [6/range(0, 75)], average_loss:0.3026, validation_loss:0.3037, val_accuracy:0.8995\n",
      "Epoch [7/range(0, 75)], average_loss:0.2903, validation_loss:0.2971, val_accuracy:0.8942\n",
      "Epoch [8/range(0, 75)], average_loss:0.2920, validation_loss:0.3129, val_accuracy:0.8466\n",
      "Epoch [9/range(0, 75)], average_loss:0.2825, validation_loss:0.2868, val_accuracy:0.9206\n",
      "Epoch [10/range(0, 75)], average_loss:0.2722, validation_loss:0.2818, val_accuracy:0.9048\n",
      "Epoch [11/range(0, 75)], average_loss:0.2530, validation_loss:0.2674, val_accuracy:0.8677\n",
      "Epoch [12/range(0, 75)], average_loss:0.2475, validation_loss:0.2727, val_accuracy:0.8995\n",
      "Epoch [13/range(0, 75)], average_loss:0.2475, validation_loss:0.2652, val_accuracy:0.9259\n",
      "Epoch [14/range(0, 75)], average_loss:0.2477, validation_loss:0.2652, val_accuracy:0.9471\n",
      "Epoch [15/range(0, 75)], average_loss:0.2443, validation_loss:0.2638, val_accuracy:0.8889\n",
      "Epoch [16/range(0, 75)], average_loss:0.2447, validation_loss:0.2612, val_accuracy:0.9101\n",
      "Epoch [17/range(0, 75)], average_loss:0.2424, validation_loss:0.2602, val_accuracy:0.9048\n",
      "Epoch [18/range(0, 75)], average_loss:0.2432, validation_loss:0.2588, val_accuracy:0.8995\n",
      "Epoch [19/range(0, 75)], average_loss:0.2433, validation_loss:0.2668, val_accuracy:0.8730\n",
      "Epoch [20/range(0, 75)], average_loss:0.2390, validation_loss:0.2591, val_accuracy:0.9048\n",
      "Epoch [21/range(0, 75)], average_loss:0.2417, validation_loss:0.2631, val_accuracy:0.8889\n",
      "Epoch [22/range(0, 75)], average_loss:0.2377, validation_loss:0.2544, val_accuracy:0.9153\n",
      "Epoch [23/range(0, 75)], average_loss:0.2396, validation_loss:0.2571, val_accuracy:0.8942\n",
      "Epoch [24/range(0, 75)], average_loss:0.2366, validation_loss:0.2611, val_accuracy:0.9206\n",
      "Epoch [25/range(0, 75)], average_loss:0.2354, validation_loss:0.2623, val_accuracy:0.8571\n",
      "Epoch [26/range(0, 75)], average_loss:0.2355, validation_loss:0.2588, val_accuracy:0.8889\n",
      "Epoch [27/range(0, 75)], average_loss:0.2360, validation_loss:0.2568, val_accuracy:0.8836\n",
      "Epoch [28/range(0, 75)], average_loss:0.2332, validation_loss:0.2592, val_accuracy:0.8783\n",
      "Epoch [29/range(0, 75)], average_loss:0.2363, validation_loss:0.2643, val_accuracy:0.8783\n",
      "Epoch [30/range(0, 75)], average_loss:0.2325, validation_loss:0.2588, val_accuracy:0.9259\n",
      "Epoch [31/range(0, 75)], average_loss:0.2346, validation_loss:0.2586, val_accuracy:0.9101\n",
      "Epoch [32/range(0, 75)], average_loss:0.2330, validation_loss:0.2552, val_accuracy:0.8836\n",
      "Epoch [33/range(0, 75)], average_loss:0.2332, validation_loss:0.2592, val_accuracy:0.8836\n",
      "Epoch [34/range(0, 75)], average_loss:0.2310, validation_loss:0.2575, val_accuracy:0.9206\n",
      "Epoch [35/range(0, 75)], average_loss:0.2303, validation_loss:0.2508, val_accuracy:0.8889\n",
      "Epoch [36/range(0, 75)], average_loss:0.2314, validation_loss:0.2551, val_accuracy:0.9206\n",
      "Epoch [37/range(0, 75)], average_loss:0.2300, validation_loss:0.2554, val_accuracy:0.8942\n",
      "Epoch [38/range(0, 75)], average_loss:0.2295, validation_loss:0.2512, val_accuracy:0.9206\n",
      "Epoch [39/range(0, 75)], average_loss:0.2280, validation_loss:0.2520, val_accuracy:0.8995\n",
      "Epoch [40/range(0, 75)], average_loss:0.2261, validation_loss:0.2571, val_accuracy:0.9101\n",
      "Epoch [41/range(0, 75)], average_loss:0.2282, validation_loss:0.2521, val_accuracy:0.9101\n",
      "Epoch [42/range(0, 75)], average_loss:0.2251, validation_loss:0.2500, val_accuracy:0.9153\n",
      "Epoch [43/range(0, 75)], average_loss:0.2245, validation_loss:0.2541, val_accuracy:0.9259\n",
      "Epoch [44/range(0, 75)], average_loss:0.2259, validation_loss:0.2529, val_accuracy:0.9206\n",
      "Epoch [45/range(0, 75)], average_loss:0.2246, validation_loss:0.2464, val_accuracy:0.9365\n",
      "Epoch [46/range(0, 75)], average_loss:0.2249, validation_loss:0.2496, val_accuracy:0.9153\n",
      "Epoch [47/range(0, 75)], average_loss:0.2236, validation_loss:0.2543, val_accuracy:0.9312\n",
      "Epoch [48/range(0, 75)], average_loss:0.2222, validation_loss:0.2472, val_accuracy:0.9153\n",
      "Epoch [49/range(0, 75)], average_loss:0.2220, validation_loss:0.2518, val_accuracy:0.9048\n",
      "Epoch [50/range(0, 75)], average_loss:0.2225, validation_loss:0.2461, val_accuracy:0.9312\n",
      "Epoch [51/range(0, 75)], average_loss:0.2218, validation_loss:0.2549, val_accuracy:0.9048\n",
      "Epoch [52/range(0, 75)], average_loss:0.2194, validation_loss:0.2478, val_accuracy:0.9153\n",
      "Epoch [53/range(0, 75)], average_loss:0.2197, validation_loss:0.2481, val_accuracy:0.8995\n",
      "Epoch [54/range(0, 75)], average_loss:0.2191, validation_loss:0.2473, val_accuracy:0.8783\n",
      "Epoch [55/range(0, 75)], average_loss:0.2220, validation_loss:0.2524, val_accuracy:0.9259\n",
      "Epoch [56/range(0, 75)], average_loss:0.2201, validation_loss:0.2486, val_accuracy:0.8889\n",
      "Epoch [57/range(0, 75)], average_loss:0.2184, validation_loss:0.2526, val_accuracy:0.8783\n",
      "Epoch [58/range(0, 75)], average_loss:0.2213, validation_loss:0.2474, val_accuracy:0.9418\n",
      "Epoch [59/range(0, 75)], average_loss:0.2165, validation_loss:0.2497, val_accuracy:0.9259\n",
      "Epoch [60/range(0, 75)], average_loss:0.2185, validation_loss:0.2501, val_accuracy:0.9048\n",
      "Epoch [61/range(0, 75)], average_loss:0.2180, validation_loss:0.2445, val_accuracy:0.8942\n",
      "Epoch [62/range(0, 75)], average_loss:0.2167, validation_loss:0.2437, val_accuracy:0.9048\n",
      "Epoch [63/range(0, 75)], average_loss:0.2162, validation_loss:0.2478, val_accuracy:0.8836\n",
      "Epoch [64/range(0, 75)], average_loss:0.2166, validation_loss:0.2471, val_accuracy:0.8889\n",
      "Epoch [65/range(0, 75)], average_loss:0.2143, validation_loss:0.2509, val_accuracy:0.9048\n",
      "Epoch [66/range(0, 75)], average_loss:0.2143, validation_loss:0.2468, val_accuracy:0.9312\n",
      "Epoch [67/range(0, 75)], average_loss:0.2147, validation_loss:0.2478, val_accuracy:0.9048\n",
      "Epoch [68/range(0, 75)], average_loss:0.2129, validation_loss:0.2472, val_accuracy:0.8942\n",
      "Epoch [69/range(0, 75)], average_loss:0.2152, validation_loss:0.2410, val_accuracy:0.9101\n",
      "Epoch [70/range(0, 75)], average_loss:0.2111, validation_loss:0.2463, val_accuracy:0.8889\n",
      "Epoch [71/range(0, 75)], average_loss:0.2126, validation_loss:0.2471, val_accuracy:0.8889\n",
      "Epoch [72/range(0, 75)], average_loss:0.2103, validation_loss:0.2439, val_accuracy:0.9312\n",
      "Epoch [73/range(0, 75)], average_loss:0.2134, validation_loss:0.2408, val_accuracy:0.8889\n",
      "Epoch [74/range(0, 75)], average_loss:0.2126, validation_loss:0.2386, val_accuracy:0.9153\n",
      "Epoch [75/range(0, 75)], average_loss:0.2098, validation_loss:0.2451, val_accuracy:0.8571\n"
     ]
    }
   ],
   "source": [
    "lh = m10(epochs=75, train_loader=train_loader, validation_loader=valid_loader)"
   ]
  },
  {
   "cell_type": "code",
   "execution_count": 231,
   "metadata": {},
   "outputs": [
    {
     "name": "stdout",
     "output_type": "stream",
     "text": [
      "Epoch [76/range(75, 100)], average_loss:0.2110, validation_loss:0.2449, val_accuracy:0.8995\n",
      "Epoch [77/range(75, 100)], average_loss:0.2132, validation_loss:0.2475, val_accuracy:0.9312\n",
      "Epoch [78/range(75, 100)], average_loss:0.2115, validation_loss:0.2398, val_accuracy:0.8889\n",
      "Epoch [79/range(75, 100)], average_loss:0.2080, validation_loss:0.2429, val_accuracy:0.8730\n",
      "Epoch [80/range(75, 100)], average_loss:0.2082, validation_loss:0.2478, val_accuracy:0.8995\n",
      "Epoch [81/range(75, 100)], average_loss:0.2090, validation_loss:0.2456, val_accuracy:0.9471\n",
      "Epoch [82/range(75, 100)], average_loss:0.2069, validation_loss:0.2450, val_accuracy:0.8889\n",
      "Epoch [83/range(75, 100)], average_loss:0.2079, validation_loss:0.2477, val_accuracy:0.9471\n",
      "Epoch [84/range(75, 100)], average_loss:0.2069, validation_loss:0.2439, val_accuracy:0.8889\n",
      "Epoch [85/range(75, 100)], average_loss:0.2072, validation_loss:0.2424, val_accuracy:0.9206\n",
      "Epoch [86/range(75, 100)], average_loss:0.2055, validation_loss:0.2371, val_accuracy:0.9312\n",
      "Epoch [87/range(75, 100)], average_loss:0.2054, validation_loss:0.2462, val_accuracy:0.9259\n",
      "Epoch [88/range(75, 100)], average_loss:0.2072, validation_loss:0.2417, val_accuracy:0.9101\n",
      "Epoch [89/range(75, 100)], average_loss:0.2061, validation_loss:0.2452, val_accuracy:0.8836\n",
      "Epoch [90/range(75, 100)], average_loss:0.2055, validation_loss:0.2406, val_accuracy:0.9206\n",
      "Epoch [91/range(75, 100)], average_loss:0.2031, validation_loss:0.2431, val_accuracy:0.8995\n",
      "Epoch [92/range(75, 100)], average_loss:0.2037, validation_loss:0.2434, val_accuracy:0.9153\n",
      "Epoch [93/range(75, 100)], average_loss:0.2044, validation_loss:0.2401, val_accuracy:0.8942\n",
      "Epoch [94/range(75, 100)], average_loss:0.2036, validation_loss:0.2388, val_accuracy:0.8942\n",
      "Epoch [95/range(75, 100)], average_loss:0.2031, validation_loss:0.2420, val_accuracy:0.9048\n",
      "Epoch [96/range(75, 100)], average_loss:0.2028, validation_loss:0.2442, val_accuracy:0.9101\n",
      "Epoch [97/range(75, 100)], average_loss:0.2022, validation_loss:0.2447, val_accuracy:0.9153\n",
      "Epoch [98/range(75, 100)], average_loss:0.2045, validation_loss:0.2397, val_accuracy:0.9048\n",
      "Epoch [99/range(75, 100)], average_loss:0.2021, validation_loss:0.2438, val_accuracy:0.9312\n",
      "Epoch [100/range(75, 100)], average_loss:0.2004, validation_loss:0.2426, val_accuracy:0.9153\n"
     ]
    }
   ],
   "source": [
    "lh = m10(epochs=range(75,100), train_loader=train_loader, validation_loader=valid_loader)"
   ]
  },
  {
   "cell_type": "code",
   "execution_count": 238,
   "metadata": {},
   "outputs": [
    {
     "name": "stdout",
     "output_type": "stream",
     "text": [
      "Epoch [101/range(100, 120)], average_loss:0.1991, validation_loss:0.2411, val_accuracy:0.9048\n",
      "Epoch [102/range(100, 120)], average_loss:0.2008, validation_loss:0.2394, val_accuracy:0.8519\n",
      "Epoch [103/range(100, 120)], average_loss:0.1991, validation_loss:0.2361, val_accuracy:0.9153\n",
      "Epoch [104/range(100, 120)], average_loss:0.1991, validation_loss:0.2489, val_accuracy:0.9418\n",
      "Epoch [105/range(100, 120)], average_loss:0.2012, validation_loss:0.2416, val_accuracy:0.9206\n",
      "Epoch [106/range(100, 120)], average_loss:0.1978, validation_loss:0.2395, val_accuracy:0.9206\n",
      "Epoch [107/range(100, 120)], average_loss:0.1969, validation_loss:0.2397, val_accuracy:0.9048\n",
      "Epoch [108/range(100, 120)], average_loss:0.1982, validation_loss:0.2376, val_accuracy:0.8942\n",
      "Epoch [109/range(100, 120)], average_loss:0.1990, validation_loss:0.2430, val_accuracy:0.8942\n",
      "Epoch [110/range(100, 120)], average_loss:0.1979, validation_loss:0.2340, val_accuracy:0.9259\n",
      "Epoch [111/range(100, 120)], average_loss:0.1970, validation_loss:0.2419, val_accuracy:0.9048\n",
      "Epoch [112/range(100, 120)], average_loss:0.1958, validation_loss:0.2404, val_accuracy:0.9365\n",
      "Epoch [113/range(100, 120)], average_loss:0.1964, validation_loss:0.2403, val_accuracy:0.8889\n",
      "Epoch [114/range(100, 120)], average_loss:0.1959, validation_loss:0.2444, val_accuracy:0.8730\n",
      "Epoch [115/range(100, 120)], average_loss:0.1958, validation_loss:0.2398, val_accuracy:0.9471\n",
      "Epoch [116/range(100, 120)], average_loss:0.1951, validation_loss:0.2352, val_accuracy:0.8942\n",
      "Epoch [117/range(100, 120)], average_loss:0.1956, validation_loss:0.2405, val_accuracy:0.8677\n",
      "Epoch [118/range(100, 120)], average_loss:0.1928, validation_loss:0.2395, val_accuracy:0.8783\n",
      "Epoch [119/range(100, 120)], average_loss:0.1940, validation_loss:0.2458, val_accuracy:0.9048\n",
      "Epoch [120/range(100, 120)], average_loss:0.1939, validation_loss:0.2445, val_accuracy:0.8677\n"
     ]
    }
   ],
   "source": [
    "lh = m10(epochs=range(100,120), train_loader=train_loader, validation_loader=valid_loader)"
   ]
  },
  {
   "cell_type": "code",
   "execution_count": 245,
   "metadata": {},
   "outputs": [
    {
     "name": "stdout",
     "output_type": "stream",
     "text": [
      "Epoch [121/range(120, 140)], average_loss:0.1928, validation_loss:0.2370, val_accuracy:0.9153\n",
      "Epoch [122/range(120, 140)], average_loss:0.1928, validation_loss:0.2398, val_accuracy:0.9153\n",
      "Epoch [123/range(120, 140)], average_loss:0.1938, validation_loss:0.2399, val_accuracy:0.9206\n",
      "Epoch [124/range(120, 140)], average_loss:0.1929, validation_loss:0.2360, val_accuracy:0.9312\n",
      "Epoch [125/range(120, 140)], average_loss:0.1945, validation_loss:0.2401, val_accuracy:0.9365\n",
      "Epoch [126/range(120, 140)], average_loss:0.1907, validation_loss:0.2339, val_accuracy:0.9206\n",
      "Epoch [127/range(120, 140)], average_loss:0.1899, validation_loss:0.2389, val_accuracy:0.9153\n",
      "Epoch [128/range(120, 140)], average_loss:0.1919, validation_loss:0.2406, val_accuracy:0.8889\n",
      "Epoch [129/range(120, 140)], average_loss:0.1905, validation_loss:0.2394, val_accuracy:0.9048\n",
      "Epoch [130/range(120, 140)], average_loss:0.1907, validation_loss:0.2423, val_accuracy:0.8942\n",
      "Epoch [131/range(120, 140)], average_loss:0.1883, validation_loss:0.2307, val_accuracy:0.8995\n",
      "Epoch [132/range(120, 140)], average_loss:0.1902, validation_loss:0.2427, val_accuracy:0.9312\n",
      "Epoch [133/range(120, 140)], average_loss:0.1895, validation_loss:0.2394, val_accuracy:0.9312\n",
      "Epoch [134/range(120, 140)], average_loss:0.1898, validation_loss:0.2383, val_accuracy:0.9206\n",
      "Epoch [135/range(120, 140)], average_loss:0.1892, validation_loss:0.2423, val_accuracy:0.9153\n",
      "Epoch [136/range(120, 140)], average_loss:0.1860, validation_loss:0.2420, val_accuracy:0.8942\n",
      "Epoch [137/range(120, 140)], average_loss:0.1897, validation_loss:0.2437, val_accuracy:0.9153\n",
      "Epoch [138/range(120, 140)], average_loss:0.1906, validation_loss:0.2396, val_accuracy:0.9259\n",
      "Epoch [139/range(120, 140)], average_loss:0.1854, validation_loss:0.2407, val_accuracy:0.9101\n",
      "Epoch [140/range(120, 140)], average_loss:0.1878, validation_loss:0.2292, val_accuracy:0.8942\n"
     ]
    }
   ],
   "source": [
    "lh = m10(epochs=range(120,140), train_loader=train_loader, validation_loader=valid_loader)"
   ]
  },
  {
   "cell_type": "code",
   "execution_count": 251,
   "metadata": {},
   "outputs": [
    {
     "name": "stdout",
     "output_type": "stream",
     "text": [
      "Epoch [141/range(140, 160)], average_loss:0.1879, validation_loss:0.2362, val_accuracy:0.8836\n",
      "Epoch [142/range(140, 160)], average_loss:0.1866, validation_loss:0.2461, val_accuracy:0.8995\n",
      "Epoch [143/range(140, 160)], average_loss:0.1890, validation_loss:0.2363, val_accuracy:0.9365\n",
      "Epoch [144/range(140, 160)], average_loss:0.1853, validation_loss:0.2414, val_accuracy:0.8942\n",
      "Epoch [145/range(140, 160)], average_loss:0.1875, validation_loss:0.2412, val_accuracy:0.9153\n",
      "Epoch [146/range(140, 160)], average_loss:0.1859, validation_loss:0.2411, val_accuracy:0.9524\n",
      "Epoch [147/range(140, 160)], average_loss:0.1849, validation_loss:0.2403, val_accuracy:0.9101\n",
      "Epoch [148/range(140, 160)], average_loss:0.1826, validation_loss:0.2459, val_accuracy:0.8836\n",
      "Epoch [149/range(140, 160)], average_loss:0.1845, validation_loss:0.2373, val_accuracy:0.9048\n",
      "Epoch [150/range(140, 160)], average_loss:0.1825, validation_loss:0.2340, val_accuracy:0.8624\n",
      "Epoch [151/range(140, 160)], average_loss:0.1841, validation_loss:0.2297, val_accuracy:0.9259\n",
      "Epoch [152/range(140, 160)], average_loss:0.1840, validation_loss:0.2397, val_accuracy:0.8783\n",
      "Epoch [153/range(140, 160)], average_loss:0.1821, validation_loss:0.2365, val_accuracy:0.9206\n",
      "Epoch [154/range(140, 160)], average_loss:0.1822, validation_loss:0.2370, val_accuracy:0.9418\n",
      "Epoch [155/range(140, 160)], average_loss:0.1798, validation_loss:0.2324, val_accuracy:0.9048\n",
      "Epoch [156/range(140, 160)], average_loss:0.1836, validation_loss:0.2388, val_accuracy:0.8783\n",
      "Epoch [157/range(140, 160)], average_loss:0.1830, validation_loss:0.2362, val_accuracy:0.8730\n",
      "Epoch [158/range(140, 160)], average_loss:0.1837, validation_loss:0.2344, val_accuracy:0.8942\n",
      "Epoch [159/range(140, 160)], average_loss:0.1790, validation_loss:0.2345, val_accuracy:0.9153\n",
      "Epoch [160/range(140, 160)], average_loss:0.1801, validation_loss:0.2418, val_accuracy:0.8942\n"
     ]
    }
   ],
   "source": [
    "lh = m10(epochs=range(140,160), train_loader=train_loader, validation_loader=valid_loader)"
   ]
  },
  {
   "cell_type": "code",
   "execution_count": 184,
   "metadata": {},
   "outputs": [],
   "source": [
    "m10.tb.close()"
   ]
  },
  {
   "cell_type": "code",
   "execution_count": 252,
   "metadata": {},
   "outputs": [],
   "source": [
    "#m10.model.eval()\n",
    "with torch.no_grad():\n",
    "    x_pred = np.argmax(m10.model(torch.tensor(X_test).float().to(m10.device)).cpu().detach(), axis=1)\n"
   ]
  },
  {
   "cell_type": "code",
   "execution_count": 253,
   "metadata": {},
   "outputs": [
    {
     "data": {
      "text/plain": [
       "tensor([1, 1, 1,  ..., 0, 1, 0])"
      ]
     },
     "execution_count": 253,
     "metadata": {},
     "output_type": "execute_result"
    }
   ],
   "source": [
    "x_pred"
   ]
  },
  {
   "cell_type": "code",
   "execution_count": 254,
   "metadata": {},
   "outputs": [
    {
     "data": {
      "text/plain": [
       "0.8786791784976762"
      ]
     },
     "execution_count": 254,
     "metadata": {},
     "output_type": "execute_result"
    }
   ],
   "source": [
    "f1_score(y_true=y_test, y_pred=x_pred,average=\"macro\")"
   ]
  },
  {
   "cell_type": "code",
   "execution_count": 255,
   "metadata": {},
   "outputs": [
    {
     "data": {
      "text/plain": [
       "0.923876673040153"
      ]
     },
     "execution_count": 255,
     "metadata": {},
     "output_type": "execute_result"
    }
   ],
   "source": [
    "accuracy_score(y_true=y_test, y_pred=x_pred)"
   ]
  },
  {
   "cell_type": "code",
   "execution_count": 256,
   "metadata": {},
   "outputs": [
    {
     "data": {
      "text/plain": [
       "array([[ 3805,   307,    23,   100],\n",
       "       [  291, 10040,    20,    94],\n",
       "       [   18,    43,   402,    16],\n",
       "       [  228,   123,    11,  1215]], dtype=int64)"
      ]
     },
     "execution_count": 256,
     "metadata": {},
     "output_type": "execute_result"
    }
   ],
   "source": [
    "confusion_matrix(y_true=y_test, y_pred=x_pred)"
   ]
  },
  {
   "cell_type": "code",
   "execution_count": 257,
   "metadata": {},
   "outputs": [],
   "source": [
    "#torch.save(m10.model, \"models_and_losses/CNN-m.III-Conv1-BN-Drop-0.3_lr-{1e-3,1e-4}_bs-300_epoch-160.pt\")"
   ]
  },
  {
   "cell_type": "code",
   "execution_count": 263,
   "metadata": {},
   "outputs": [],
   "source": [
    "m10.model.eval()\n",
    "with torch.no_grad():\n",
    "    x_pred = np.argmax(m10.model(torch.tensor(X_test).float().to(m10.device)).cpu().detach(), axis=1)\n"
   ]
  },
  {
   "cell_type": "code",
   "execution_count": 264,
   "metadata": {},
   "outputs": [
    {
     "data": {
      "text/plain": [
       "tensor([1, 1, 1,  ..., 0, 1, 0])"
      ]
     },
     "execution_count": 264,
     "metadata": {},
     "output_type": "execute_result"
    }
   ],
   "source": [
    "x_pred"
   ]
  },
  {
   "cell_type": "code",
   "execution_count": 265,
   "metadata": {},
   "outputs": [
    {
     "data": {
      "text/plain": [
       "0.8888975901108741"
      ]
     },
     "execution_count": 265,
     "metadata": {},
     "output_type": "execute_result"
    }
   ],
   "source": [
    "f1_score(y_true=y_test, y_pred=x_pred,average=\"macro\")"
   ]
  },
  {
   "cell_type": "code",
   "execution_count": 266,
   "metadata": {},
   "outputs": [
    {
     "data": {
      "text/plain": [
       "0.9321821223709369"
      ]
     },
     "execution_count": 266,
     "metadata": {},
     "output_type": "execute_result"
    }
   ],
   "source": [
    "accuracy_score(y_true=y_test, y_pred=x_pred)"
   ]
  },
  {
   "cell_type": "code",
   "execution_count": 267,
   "metadata": {},
   "outputs": [
    {
     "data": {
      "text/plain": [
       "array([[ 3892,   206,    27,   110],\n",
       "       [  297, 10035,    27,    86],\n",
       "       [   17,    29,   414,    19],\n",
       "       [  215,    93,     9,  1260]], dtype=int64)"
      ]
     },
     "execution_count": 267,
     "metadata": {},
     "output_type": "execute_result"
    }
   ],
   "source": [
    "confusion_matrix(y_true=y_test, y_pred=x_pred)"
   ]
  },
  {
   "cell_type": "markdown",
   "metadata": {},
   "source": [
    "# Bigg batch size"
   ]
  },
  {
   "cell_type": "code",
   "execution_count": 12,
   "metadata": {},
   "outputs": [],
   "source": [
    "CNN_11 = nn.Sequential(\n",
    "            layers.Reshape(out_shape=(1,160)),\n",
    "            nn.Conv1d(in_channels=1, out_channels=16, kernel_size=6, stride=2, padding=0, bias=False), # n*1*160 -> n*16*78\n",
    "            nn.ReLU(inplace=True),\n",
    "            layers.CBD1dBlock(in_channels=16, out_channels=32, kernel_size=4, stride=2, bias=False, activation=nn.ReLU(), dropout=0.3),#n*16*78->n*32*38\n",
    "            layers.CBD1dBlock(in_channels=32, out_channels=64, kernel_size=4, stride=2, bias=False, activation=nn.ReLU(), dropout=0.3),#n*32*38->n*64*18\n",
    "            layers.Flatten(out_features=64*18),\n",
    "            nn.Linear(in_features=64*18, out_features=256),\n",
    "            nn.ReLU(inplace=True),\n",
    "            nn.Dropout(p=0.3),\n",
    "            nn.Linear(in_features=256, out_features=4)\n",
    ")"
   ]
  },
  {
   "cell_type": "code",
   "execution_count": 13,
   "metadata": {},
   "outputs": [],
   "source": [
    "optimizer= torch.optim.Adam(CNN_11.parameters(), lr=1e-3)"
   ]
  },
  {
   "cell_type": "code",
   "execution_count": 14,
   "metadata": {},
   "outputs": [],
   "source": [
    "train_loader = torch.utils.data.DataLoader(dataset = train, batch_size=512, shuffle=True)\n",
    "valid_loader = torch.utils.data.DataLoader(dataset = valid, batch_size=512, shuffle=True)"
   ]
  },
  {
   "cell_type": "code",
   "execution_count": 15,
   "metadata": {},
   "outputs": [
    {
     "name": "stdout",
     "output_type": "stream",
     "text": [
      "cuda:0\n"
     ]
    }
   ],
   "source": [
    "m11 = Trainer(\n",
    "        model=CNN_11,\n",
    "        optimizer=optimizer,\n",
    "        loss_function=nn.CrossEntropyLoss(),\n",
    "        #scheduler=torch.optim.lr_scheduler.MultiStepLR(optimizer, milestones=[10], gamma=0.1),\n",
    "        tensorboard=True,\n",
    "        model_name=\"CNN-m.III-Conv1-BN-Drop-0.3_lr-1e-3_bs-512\",\n",
    "        verbose=True\n",
    "        )"
   ]
  },
  {
   "cell_type": "code",
   "execution_count": 16,
   "metadata": {
    "scrolled": false
   },
   "outputs": [
    {
     "name": "stdout",
     "output_type": "stream",
     "text": [
      "Epoch [1/150], average_loss:0.5722, validation_loss:0.4303, val_accuracy:0.8312\n",
      "Epoch [2/150], average_loss:0.3975, validation_loss:0.3891, val_accuracy:0.8961\n",
      "Epoch [3/150], average_loss:0.3613, validation_loss:0.3532, val_accuracy:0.8312\n",
      "Epoch [4/150], average_loss:0.3263, validation_loss:0.3263, val_accuracy:0.8831\n",
      "Epoch [5/150], average_loss:0.3174, validation_loss:0.3158, val_accuracy:0.8571\n",
      "Epoch [6/150], average_loss:0.2993, validation_loss:0.3021, val_accuracy:0.8442\n",
      "Epoch [7/150], average_loss:0.2920, validation_loss:0.2896, val_accuracy:0.9351\n",
      "Epoch [8/150], average_loss:0.2811, validation_loss:0.2910, val_accuracy:0.8961\n",
      "Epoch [9/150], average_loss:0.2785, validation_loss:0.3023, val_accuracy:0.9221\n",
      "Epoch [10/150], average_loss:0.2713, validation_loss:0.2988, val_accuracy:0.9221\n",
      "Epoch [11/150], average_loss:0.2641, validation_loss:0.2785, val_accuracy:0.8442\n",
      "Epoch [12/150], average_loss:0.2643, validation_loss:0.2723, val_accuracy:0.9481\n",
      "Epoch [13/150], average_loss:0.2557, validation_loss:0.2812, val_accuracy:0.8571\n",
      "Epoch [14/150], average_loss:0.2544, validation_loss:0.3040, val_accuracy:0.8701\n",
      "Epoch [15/150], average_loss:0.2578, validation_loss:0.2658, val_accuracy:0.8312\n",
      "Epoch [16/150], average_loss:0.2488, validation_loss:0.2681, val_accuracy:0.9481\n",
      "Epoch [17/150], average_loss:0.2480, validation_loss:0.2674, val_accuracy:0.9221\n",
      "Epoch [18/150], average_loss:0.2463, validation_loss:0.2651, val_accuracy:0.8701\n",
      "Epoch [19/150], average_loss:0.2439, validation_loss:0.2858, val_accuracy:0.8701\n",
      "Epoch [20/150], average_loss:0.2407, validation_loss:0.2630, val_accuracy:0.8961\n",
      "Epoch [21/150], average_loss:0.2376, validation_loss:0.2662, val_accuracy:0.8701\n",
      "Epoch [22/150], average_loss:0.2366, validation_loss:0.2689, val_accuracy:0.9091\n",
      "Epoch [23/150], average_loss:0.2393, validation_loss:0.2579, val_accuracy:0.9351\n",
      "Epoch [24/150], average_loss:0.2347, validation_loss:0.2636, val_accuracy:0.8571\n",
      "Epoch [25/150], average_loss:0.2324, validation_loss:0.2826, val_accuracy:0.8831\n",
      "Epoch [26/150], average_loss:0.2314, validation_loss:0.2649, val_accuracy:0.9221\n",
      "Epoch [27/150], average_loss:0.2281, validation_loss:0.2598, val_accuracy:0.8701\n",
      "Epoch [28/150], average_loss:0.2267, validation_loss:0.2533, val_accuracy:0.9091\n",
      "Epoch [29/150], average_loss:0.2235, validation_loss:0.2532, val_accuracy:0.8442\n",
      "Epoch [30/150], average_loss:0.2218, validation_loss:0.2588, val_accuracy:0.8961\n",
      "Epoch [31/150], average_loss:0.2172, validation_loss:0.2478, val_accuracy:0.9091\n",
      "Epoch [32/150], average_loss:0.2180, validation_loss:0.2551, val_accuracy:0.8571\n",
      "Epoch [33/150], average_loss:0.2198, validation_loss:0.2451, val_accuracy:0.9740\n",
      "Epoch [34/150], average_loss:0.2183, validation_loss:0.2573, val_accuracy:0.9221\n",
      "Epoch [35/150], average_loss:0.2105, validation_loss:0.2827, val_accuracy:0.8312\n",
      "Epoch [36/150], average_loss:0.2141, validation_loss:0.2573, val_accuracy:0.8701\n",
      "Epoch [37/150], average_loss:0.2127, validation_loss:0.2660, val_accuracy:0.8442\n",
      "Epoch [38/150], average_loss:0.2086, validation_loss:0.2727, val_accuracy:0.8052\n",
      "Epoch [39/150], average_loss:0.2106, validation_loss:0.2439, val_accuracy:0.9351\n",
      "Epoch [40/150], average_loss:0.2096, validation_loss:0.2618, val_accuracy:0.8571\n",
      "Epoch [41/150], average_loss:0.2029, validation_loss:0.2515, val_accuracy:0.8961\n",
      "Epoch [42/150], average_loss:0.2037, validation_loss:0.2557, val_accuracy:0.8831\n",
      "Epoch [43/150], average_loss:0.1994, validation_loss:0.2529, val_accuracy:0.9221\n",
      "Epoch [44/150], average_loss:0.1967, validation_loss:0.2443, val_accuracy:0.9481\n",
      "Epoch [45/150], average_loss:0.2015, validation_loss:0.2478, val_accuracy:0.9221\n",
      "Epoch [46/150], average_loss:0.2028, validation_loss:0.2551, val_accuracy:0.9091\n",
      "Epoch [47/150], average_loss:0.1974, validation_loss:0.2468, val_accuracy:0.8701\n",
      "Epoch [48/150], average_loss:0.1940, validation_loss:0.2411, val_accuracy:0.9091\n",
      "Epoch [49/150], average_loss:0.1941, validation_loss:0.2442, val_accuracy:0.8831\n",
      "Epoch [50/150], average_loss:0.1927, validation_loss:0.2443, val_accuracy:0.8831\n",
      "Epoch [51/150], average_loss:0.1899, validation_loss:0.2417, val_accuracy:0.8701\n",
      "Epoch [52/150], average_loss:0.1923, validation_loss:0.2558, val_accuracy:0.8831\n",
      "Epoch [53/150], average_loss:0.1909, validation_loss:0.2615, val_accuracy:0.8442\n",
      "Epoch [54/150], average_loss:0.1890, validation_loss:0.2400, val_accuracy:0.9610\n",
      "Epoch [55/150], average_loss:0.1838, validation_loss:0.2735, val_accuracy:0.8312\n",
      "Epoch [56/150], average_loss:0.1867, validation_loss:0.2481, val_accuracy:0.9870\n",
      "Epoch [57/150], average_loss:0.1834, validation_loss:0.2484, val_accuracy:0.8701\n",
      "Epoch [58/150], average_loss:0.1814, validation_loss:0.2551, val_accuracy:0.8571\n",
      "Epoch [59/150], average_loss:0.1817, validation_loss:0.2545, val_accuracy:0.9221\n",
      "Epoch [60/150], average_loss:0.1808, validation_loss:0.2381, val_accuracy:0.9351\n",
      "Epoch [61/150], average_loss:0.1795, validation_loss:0.2415, val_accuracy:0.8831\n",
      "Epoch [62/150], average_loss:0.1755, validation_loss:0.2432, val_accuracy:0.9870\n",
      "Epoch [63/150], average_loss:0.1766, validation_loss:0.2426, val_accuracy:0.9351\n",
      "Epoch [64/150], average_loss:0.1756, validation_loss:0.2577, val_accuracy:0.9351\n",
      "Epoch [65/150], average_loss:0.1758, validation_loss:0.2411, val_accuracy:0.9481\n",
      "Epoch [66/150], average_loss:0.1702, validation_loss:0.2416, val_accuracy:0.9351\n",
      "Epoch [67/150], average_loss:0.1685, validation_loss:0.2545, val_accuracy:0.8961\n",
      "Epoch [68/150], average_loss:0.1728, validation_loss:0.2560, val_accuracy:0.8442\n",
      "Epoch [69/150], average_loss:0.1691, validation_loss:0.2586, val_accuracy:0.9091\n",
      "Epoch [70/150], average_loss:0.1723, validation_loss:0.2552, val_accuracy:0.9481\n",
      "Epoch [71/150], average_loss:0.1666, validation_loss:0.2561, val_accuracy:0.8961\n",
      "Epoch [72/150], average_loss:0.1677, validation_loss:0.2592, val_accuracy:0.9091\n",
      "Epoch [73/150], average_loss:0.1628, validation_loss:0.2655, val_accuracy:0.8182\n",
      "Epoch [74/150], average_loss:0.1695, validation_loss:0.2560, val_accuracy:0.8701\n",
      "Epoch [75/150], average_loss:0.1654, validation_loss:0.2653, val_accuracy:0.8571\n",
      "Epoch [76/150], average_loss:0.1626, validation_loss:0.2507, val_accuracy:0.9091\n",
      "Epoch [77/150], average_loss:0.1625, validation_loss:0.2538, val_accuracy:0.9221\n",
      "Epoch [78/150], average_loss:0.1597, validation_loss:0.2520, val_accuracy:0.8442\n",
      "Epoch [79/150], average_loss:0.1627, validation_loss:0.2612, val_accuracy:0.8831\n",
      "Epoch [80/150], average_loss:0.1624, validation_loss:0.2609, val_accuracy:0.8831\n",
      "Epoch [81/150], average_loss:0.1624, validation_loss:0.2600, val_accuracy:0.8961\n",
      "Epoch [82/150], average_loss:0.1583, validation_loss:0.2669, val_accuracy:0.8312\n",
      "Epoch [83/150], average_loss:0.1585, validation_loss:0.2562, val_accuracy:0.9091\n",
      "Epoch [84/150], average_loss:0.1627, validation_loss:0.2612, val_accuracy:0.9091\n",
      "Epoch [85/150], average_loss:0.1586, validation_loss:0.2532, val_accuracy:0.9481\n",
      "Epoch [86/150], average_loss:0.1575, validation_loss:0.2596, val_accuracy:0.8961\n",
      "Epoch [87/150], average_loss:0.1569, validation_loss:0.2578, val_accuracy:0.9351\n",
      "Epoch [88/150], average_loss:0.1536, validation_loss:0.2570, val_accuracy:0.8961\n",
      "Epoch [89/150], average_loss:0.1569, validation_loss:0.2528, val_accuracy:0.9481\n",
      "Epoch [90/150], average_loss:0.1527, validation_loss:0.2469, val_accuracy:0.9091\n",
      "Epoch [91/150], average_loss:0.1535, validation_loss:0.2610, val_accuracy:0.9221\n",
      "Epoch [92/150], average_loss:0.1552, validation_loss:0.2778, val_accuracy:0.9091\n",
      "Epoch [93/150], average_loss:0.1472, validation_loss:0.2622, val_accuracy:0.8831\n",
      "Epoch [94/150], average_loss:0.1494, validation_loss:0.2628, val_accuracy:0.9481\n",
      "Epoch [95/150], average_loss:0.1497, validation_loss:0.2642, val_accuracy:0.8961\n",
      "Epoch [96/150], average_loss:0.1499, validation_loss:0.2600, val_accuracy:0.8701\n",
      "Epoch [97/150], average_loss:0.1490, validation_loss:0.2591, val_accuracy:0.9221\n",
      "Epoch [98/150], average_loss:0.1467, validation_loss:0.2761, val_accuracy:0.8831\n",
      "Epoch [99/150], average_loss:0.1424, validation_loss:0.2755, val_accuracy:0.8571\n",
      "Epoch [100/150], average_loss:0.1477, validation_loss:0.2562, val_accuracy:0.9091\n",
      "Epoch [101/150], average_loss:0.1445, validation_loss:0.2700, val_accuracy:0.9221\n",
      "Epoch [102/150], average_loss:0.1470, validation_loss:0.2697, val_accuracy:0.8831\n"
     ]
    },
    {
     "name": "stdout",
     "output_type": "stream",
     "text": [
      "Epoch [103/150], average_loss:0.1439, validation_loss:0.2760, val_accuracy:0.8571\n",
      "Epoch [104/150], average_loss:0.1435, validation_loss:0.2586, val_accuracy:0.9481\n",
      "Epoch [105/150], average_loss:0.1458, validation_loss:0.2612, val_accuracy:0.8831\n",
      "Epoch [106/150], average_loss:0.1436, validation_loss:0.2691, val_accuracy:0.8831\n",
      "Epoch [107/150], average_loss:0.1425, validation_loss:0.2778, val_accuracy:0.8701\n",
      "Epoch [108/150], average_loss:0.1441, validation_loss:0.2555, val_accuracy:0.9351\n",
      "Epoch [109/150], average_loss:0.1423, validation_loss:0.2756, val_accuracy:0.9091\n",
      "Epoch [110/150], average_loss:0.1446, validation_loss:0.2644, val_accuracy:0.8831\n",
      "Epoch [111/150], average_loss:0.1369, validation_loss:0.2707, val_accuracy:0.8831\n",
      "Epoch [112/150], average_loss:0.1394, validation_loss:0.2728, val_accuracy:0.8571\n",
      "Epoch [113/150], average_loss:0.1372, validation_loss:0.2542, val_accuracy:0.9610\n",
      "Epoch [114/150], average_loss:0.1375, validation_loss:0.2701, val_accuracy:0.9221\n",
      "Epoch [115/150], average_loss:0.1362, validation_loss:0.2640, val_accuracy:0.9091\n",
      "Epoch [116/150], average_loss:0.1355, validation_loss:0.2671, val_accuracy:0.9091\n",
      "Epoch [117/150], average_loss:0.1369, validation_loss:0.2750, val_accuracy:0.9610\n",
      "Epoch [118/150], average_loss:0.1378, validation_loss:0.2773, val_accuracy:0.8831\n",
      "Epoch [119/150], average_loss:0.1352, validation_loss:0.2793, val_accuracy:0.9221\n",
      "Epoch [120/150], average_loss:0.1440, validation_loss:0.2701, val_accuracy:0.9481\n",
      "Epoch [121/150], average_loss:0.1360, validation_loss:0.2823, val_accuracy:0.9351\n",
      "Epoch [122/150], average_loss:0.1364, validation_loss:0.2678, val_accuracy:0.9091\n",
      "Epoch [123/150], average_loss:0.1373, validation_loss:0.2751, val_accuracy:0.9351\n",
      "Epoch [124/150], average_loss:0.1366, validation_loss:0.2959, val_accuracy:0.8442\n",
      "Epoch [125/150], average_loss:0.1306, validation_loss:0.2868, val_accuracy:0.8571\n",
      "Epoch [126/150], average_loss:0.1327, validation_loss:0.2735, val_accuracy:0.8961\n",
      "Epoch [127/150], average_loss:0.1304, validation_loss:0.2766, val_accuracy:0.9481\n",
      "Epoch [128/150], average_loss:0.1297, validation_loss:0.2871, val_accuracy:0.9481\n",
      "Epoch [129/150], average_loss:0.1304, validation_loss:0.2831, val_accuracy:0.9221\n",
      "Epoch [130/150], average_loss:0.1283, validation_loss:0.2823, val_accuracy:0.8701\n",
      "Epoch [131/150], average_loss:0.1285, validation_loss:0.2725, val_accuracy:0.9481\n",
      "Epoch [132/150], average_loss:0.1299, validation_loss:0.2833, val_accuracy:0.8831\n",
      "Epoch [133/150], average_loss:0.1272, validation_loss:0.2921, val_accuracy:0.8831\n",
      "Epoch [134/150], average_loss:0.1300, validation_loss:0.2770, val_accuracy:0.9351\n",
      "Epoch [135/150], average_loss:0.1263, validation_loss:0.2861, val_accuracy:0.8442\n",
      "Epoch [136/150], average_loss:0.1247, validation_loss:0.3149, val_accuracy:0.8831\n",
      "Epoch [137/150], average_loss:0.1276, validation_loss:0.2784, val_accuracy:0.8961\n",
      "Epoch [138/150], average_loss:0.1278, validation_loss:0.2855, val_accuracy:0.9091\n",
      "Epoch [139/150], average_loss:0.1282, validation_loss:0.2913, val_accuracy:0.9091\n",
      "Epoch [140/150], average_loss:0.1262, validation_loss:0.2739, val_accuracy:0.8961\n",
      "Epoch [141/150], average_loss:0.1275, validation_loss:0.2835, val_accuracy:0.9610\n",
      "Epoch [142/150], average_loss:0.1246, validation_loss:0.2830, val_accuracy:0.9351\n",
      "Epoch [143/150], average_loss:0.1243, validation_loss:0.2691, val_accuracy:0.9610\n",
      "Epoch [144/150], average_loss:0.1224, validation_loss:0.2945, val_accuracy:0.8961\n",
      "Epoch [145/150], average_loss:0.1245, validation_loss:0.2895, val_accuracy:0.8961\n",
      "Epoch [146/150], average_loss:0.1223, validation_loss:0.2944, val_accuracy:0.8571\n",
      "Epoch [147/150], average_loss:0.1251, validation_loss:0.2850, val_accuracy:0.9221\n",
      "Epoch [148/150], average_loss:0.1229, validation_loss:0.2835, val_accuracy:0.8831\n",
      "Epoch [149/150], average_loss:0.1196, validation_loss:0.2729, val_accuracy:0.9351\n",
      "Epoch [150/150], average_loss:0.1217, validation_loss:0.2894, val_accuracy:0.9091\n"
     ]
    }
   ],
   "source": [
    "lh = m11(epochs=150, train_loader=train_loader, validation_loader=valid_loader)"
   ]
  },
  {
   "cell_type": "markdown",
   "metadata": {},
   "source": [
    "# scheduler"
   ]
  },
  {
   "cell_type": "code",
   "execution_count": 16,
   "metadata": {},
   "outputs": [],
   "source": [
    "CNN_12 = nn.Sequential(\n",
    "            layers.Reshape(out_shape=(1,160)),\n",
    "            nn.Conv1d(in_channels=1, out_channels=16, kernel_size=6, stride=2, padding=0, bias=False), # n*1*160 -> n*16*78\n",
    "            nn.ReLU(inplace=True),\n",
    "            layers.CBD1dBlock(in_channels=16, out_channels=32, kernel_size=4, stride=2, bias=False, activation=nn.ReLU(), dropout=0.3),#n*16*78->n*32*38\n",
    "            layers.CBD1dBlock(in_channels=32, out_channels=64, kernel_size=4, stride=2, bias=False, activation=nn.ReLU(), dropout=0.3),#n*32*38->n*64*18\n",
    "            layers.Flatten(out_features=64*18),\n",
    "            nn.Linear(in_features=64*18, out_features=256),\n",
    "            nn.ReLU(inplace=True),\n",
    "            nn.Dropout(p=0.3),\n",
    "            nn.Linear(in_features=256, out_features=4)\n",
    ")"
   ]
  },
  {
   "cell_type": "code",
   "execution_count": 17,
   "metadata": {},
   "outputs": [],
   "source": [
    "optimizer12 = torch.optim.Adam(CNN_12.parameters(), lr=1e-3)"
   ]
  },
  {
   "cell_type": "code",
   "execution_count": 18,
   "metadata": {},
   "outputs": [],
   "source": [
    "train_loader = torch.utils.data.DataLoader(dataset = train, batch_size=512, shuffle=True)\n",
    "valid_loader = torch.utils.data.DataLoader(dataset = valid, batch_size=512, shuffle=True)"
   ]
  },
  {
   "cell_type": "code",
   "execution_count": 19,
   "metadata": {},
   "outputs": [
    {
     "name": "stdout",
     "output_type": "stream",
     "text": [
      "cuda:0\n"
     ]
    }
   ],
   "source": [
    "m12 = Trainer(\n",
    "        model=CNN_12,\n",
    "        optimizer=optimizer12,\n",
    "        loss_function=nn.CrossEntropyLoss(),\n",
    "        scheduler=torch.optim.lr_scheduler.MultiStepLR(optimizer12, milestones=[20], gamma=0.1),\n",
    "        tensorboard=True,\n",
    "        model_name=\"CNN-m.III-Conv1-BN-Drop-0.3_lr-{1e-3,1e-4}_bs-512\",\n",
    "        verbose=True\n",
    "        )"
   ]
  },
  {
   "cell_type": "code",
   "execution_count": 20,
   "metadata": {
    "collapsed": true
   },
   "outputs": [
    {
     "name": "stdout",
     "output_type": "stream",
     "text": [
      "Epoch [1/150], average_loss:0.6074, validation_loss:0.4843, val_accuracy:0.7532\n",
      "Epoch [2/150], average_loss:0.4492, validation_loss:0.4186, val_accuracy:0.7662\n",
      "Epoch [3/150], average_loss:0.3991, validation_loss:0.3715, val_accuracy:0.8571\n",
      "Epoch [4/150], average_loss:0.3557, validation_loss:0.3382, val_accuracy:0.8312\n",
      "Epoch [5/150], average_loss:0.3373, validation_loss:0.3291, val_accuracy:0.8312\n",
      "Epoch [6/150], average_loss:0.3216, validation_loss:0.3284, val_accuracy:0.7922\n",
      "Epoch [7/150], average_loss:0.3071, validation_loss:0.3191, val_accuracy:0.9481\n",
      "Epoch [8/150], average_loss:0.3054, validation_loss:0.2953, val_accuracy:0.8961\n",
      "Epoch [9/150], average_loss:0.2908, validation_loss:0.3100, val_accuracy:0.9091\n",
      "Epoch [10/150], average_loss:0.2860, validation_loss:0.2998, val_accuracy:0.7922\n",
      "Epoch [11/150], average_loss:0.2855, validation_loss:0.3252, val_accuracy:0.8312\n",
      "Epoch [12/150], average_loss:0.2747, validation_loss:0.2926, val_accuracy:0.8571\n",
      "Epoch [13/150], average_loss:0.2735, validation_loss:0.2807, val_accuracy:0.9221\n",
      "Epoch [14/150], average_loss:0.2672, validation_loss:0.2739, val_accuracy:0.8701\n",
      "Epoch [15/150], average_loss:0.2584, validation_loss:0.2964, val_accuracy:0.8312\n",
      "Epoch [16/150], average_loss:0.2632, validation_loss:0.2784, val_accuracy:0.8312\n",
      "Epoch [17/150], average_loss:0.2546, validation_loss:0.2725, val_accuracy:0.8701\n",
      "Epoch [18/150], average_loss:0.2513, validation_loss:0.2961, val_accuracy:0.8961\n",
      "Epoch [19/150], average_loss:0.2515, validation_loss:0.2693, val_accuracy:0.8442\n",
      "Epoch [20/150], average_loss:0.2425, validation_loss:0.2596, val_accuracy:0.9481\n",
      "Epoch [21/150], average_loss:0.2293, validation_loss:0.2506, val_accuracy:0.8831\n",
      "Epoch [22/150], average_loss:0.2265, validation_loss:0.2533, val_accuracy:0.8961\n",
      "Epoch [23/150], average_loss:0.2243, validation_loss:0.2531, val_accuracy:0.8312\n",
      "Epoch [24/150], average_loss:0.2233, validation_loss:0.2506, val_accuracy:0.8961\n",
      "Epoch [25/150], average_loss:0.2222, validation_loss:0.2544, val_accuracy:0.9351\n",
      "Epoch [26/150], average_loss:0.2228, validation_loss:0.2517, val_accuracy:0.8701\n",
      "Epoch [27/150], average_loss:0.2228, validation_loss:0.2476, val_accuracy:0.8182\n",
      "Epoch [28/150], average_loss:0.2191, validation_loss:0.2494, val_accuracy:0.9221\n",
      "Epoch [29/150], average_loss:0.2185, validation_loss:0.2451, val_accuracy:0.9091\n",
      "Epoch [30/150], average_loss:0.2188, validation_loss:0.2438, val_accuracy:0.9091\n",
      "Epoch [31/150], average_loss:0.2185, validation_loss:0.2542, val_accuracy:0.7662\n",
      "Epoch [32/150], average_loss:0.2171, validation_loss:0.2425, val_accuracy:0.9610\n",
      "Epoch [33/150], average_loss:0.2207, validation_loss:0.2422, val_accuracy:0.9221\n",
      "Epoch [34/150], average_loss:0.2180, validation_loss:0.2465, val_accuracy:0.9221\n",
      "Epoch [35/150], average_loss:0.2154, validation_loss:0.2417, val_accuracy:0.9351\n",
      "Epoch [36/150], average_loss:0.2153, validation_loss:0.2462, val_accuracy:0.8182\n",
      "Epoch [37/150], average_loss:0.2158, validation_loss:0.2437, val_accuracy:0.8442\n",
      "Epoch [38/150], average_loss:0.2159, validation_loss:0.2421, val_accuracy:0.9351\n",
      "Epoch [39/150], average_loss:0.2151, validation_loss:0.2528, val_accuracy:0.8701\n",
      "Epoch [40/150], average_loss:0.2142, validation_loss:0.2425, val_accuracy:0.9091\n",
      "Epoch [41/150], average_loss:0.2149, validation_loss:0.2398, val_accuracy:0.9221\n",
      "Epoch [42/150], average_loss:0.2141, validation_loss:0.2406, val_accuracy:0.9221\n",
      "Epoch [43/150], average_loss:0.2125, validation_loss:0.2412, val_accuracy:0.8831\n",
      "Epoch [44/150], average_loss:0.2108, validation_loss:0.2373, val_accuracy:0.9091\n",
      "Epoch [45/150], average_loss:0.2133, validation_loss:0.2494, val_accuracy:0.8961\n",
      "Epoch [46/150], average_loss:0.2118, validation_loss:0.2377, val_accuracy:0.9091\n",
      "Epoch [47/150], average_loss:0.2121, validation_loss:0.2521, val_accuracy:0.8831\n",
      "Epoch [48/150], average_loss:0.2108, validation_loss:0.2387, val_accuracy:0.9351\n",
      "Epoch [49/150], average_loss:0.2122, validation_loss:0.2432, val_accuracy:0.8312\n",
      "Epoch [50/150], average_loss:0.2091, validation_loss:0.2457, val_accuracy:0.9091\n",
      "Epoch [51/150], average_loss:0.2119, validation_loss:0.2436, val_accuracy:0.8571\n",
      "Epoch [52/150], average_loss:0.2123, validation_loss:0.2371, val_accuracy:0.9091\n",
      "Epoch [53/150], average_loss:0.2080, validation_loss:0.2492, val_accuracy:0.8831\n",
      "Epoch [54/150], average_loss:0.2095, validation_loss:0.2434, val_accuracy:0.8831\n",
      "Epoch [55/150], average_loss:0.2077, validation_loss:0.2395, val_accuracy:0.8571\n",
      "Epoch [56/150], average_loss:0.2048, validation_loss:0.2511, val_accuracy:0.8831\n",
      "Epoch [57/150], average_loss:0.2100, validation_loss:0.2351, val_accuracy:0.9091\n",
      "Epoch [58/150], average_loss:0.2089, validation_loss:0.2385, val_accuracy:0.9481\n",
      "Epoch [59/150], average_loss:0.2065, validation_loss:0.2453, val_accuracy:0.8571\n",
      "Epoch [60/150], average_loss:0.2062, validation_loss:0.2354, val_accuracy:0.9481\n",
      "Epoch [61/150], average_loss:0.2077, validation_loss:0.2350, val_accuracy:0.9221\n",
      "Epoch [62/150], average_loss:0.2072, validation_loss:0.2357, val_accuracy:0.9481\n",
      "Epoch [63/150], average_loss:0.2078, validation_loss:0.2314, val_accuracy:0.9481\n",
      "Epoch [64/150], average_loss:0.2034, validation_loss:0.2417, val_accuracy:0.9221\n",
      "Epoch [65/150], average_loss:0.2085, validation_loss:0.2419, val_accuracy:0.8831\n",
      "Epoch [66/150], average_loss:0.2060, validation_loss:0.2367, val_accuracy:0.9221\n",
      "Epoch [67/150], average_loss:0.2031, validation_loss:0.2388, val_accuracy:0.9221\n",
      "Epoch [68/150], average_loss:0.2031, validation_loss:0.2407, val_accuracy:0.7922\n",
      "Epoch [69/150], average_loss:0.2033, validation_loss:0.2396, val_accuracy:0.8831\n",
      "Epoch [70/150], average_loss:0.2016, validation_loss:0.2360, val_accuracy:0.8831\n",
      "Epoch [71/150], average_loss:0.2020, validation_loss:0.2384, val_accuracy:0.9481\n",
      "Epoch [72/150], average_loss:0.2003, validation_loss:0.2340, val_accuracy:0.9351\n",
      "Epoch [73/150], average_loss:0.2020, validation_loss:0.2437, val_accuracy:0.8701\n",
      "Epoch [74/150], average_loss:0.2021, validation_loss:0.2293, val_accuracy:0.9221\n",
      "Epoch [75/150], average_loss:0.1996, validation_loss:0.2332, val_accuracy:0.8961\n",
      "Epoch [76/150], average_loss:0.2009, validation_loss:0.2324, val_accuracy:0.9351\n",
      "Epoch [77/150], average_loss:0.2009, validation_loss:0.2403, val_accuracy:0.8442\n",
      "Epoch [78/150], average_loss:0.2004, validation_loss:0.2450, val_accuracy:0.8701\n",
      "Epoch [79/150], average_loss:0.2011, validation_loss:0.2451, val_accuracy:0.8701\n",
      "Epoch [80/150], average_loss:0.1993, validation_loss:0.2334, val_accuracy:0.8961\n",
      "Epoch [81/150], average_loss:0.2042, validation_loss:0.2391, val_accuracy:0.8961\n",
      "Epoch [82/150], average_loss:0.1986, validation_loss:0.2273, val_accuracy:0.9351\n",
      "Epoch [83/150], average_loss:0.2005, validation_loss:0.2386, val_accuracy:0.9351\n",
      "Epoch [84/150], average_loss:0.2007, validation_loss:0.2307, val_accuracy:0.9481\n",
      "Epoch [85/150], average_loss:0.1988, validation_loss:0.2335, val_accuracy:0.9351\n",
      "Epoch [86/150], average_loss:0.2001, validation_loss:0.2357, val_accuracy:0.9091\n",
      "Epoch [87/150], average_loss:0.1963, validation_loss:0.2414, val_accuracy:0.8571\n",
      "Epoch [88/150], average_loss:0.1975, validation_loss:0.2361, val_accuracy:0.8701\n",
      "Epoch [89/150], average_loss:0.1976, validation_loss:0.2368, val_accuracy:0.8961\n",
      "Epoch [90/150], average_loss:0.1952, validation_loss:0.2409, val_accuracy:0.8961\n",
      "Epoch [91/150], average_loss:0.1978, validation_loss:0.2402, val_accuracy:0.8961\n",
      "Epoch [92/150], average_loss:0.1944, validation_loss:0.2294, val_accuracy:0.8961\n",
      "Epoch [93/150], average_loss:0.1960, validation_loss:0.2365, val_accuracy:0.9351\n",
      "Epoch [94/150], average_loss:0.1959, validation_loss:0.2319, val_accuracy:0.9481\n",
      "Epoch [95/150], average_loss:0.1961, validation_loss:0.2308, val_accuracy:0.8701\n",
      "Epoch [96/150], average_loss:0.1948, validation_loss:0.2365, val_accuracy:0.8831\n",
      "Epoch [97/150], average_loss:0.1946, validation_loss:0.2356, val_accuracy:0.8701\n",
      "Epoch [98/150], average_loss:0.1946, validation_loss:0.2268, val_accuracy:0.9091\n",
      "Epoch [99/150], average_loss:0.1940, validation_loss:0.2358, val_accuracy:0.9221\n",
      "Epoch [100/150], average_loss:0.1906, validation_loss:0.2323, val_accuracy:0.9351\n",
      "Epoch [101/150], average_loss:0.1912, validation_loss:0.2320, val_accuracy:0.9091\n",
      "Epoch [102/150], average_loss:0.1943, validation_loss:0.2312, val_accuracy:0.9481\n"
     ]
    },
    {
     "name": "stdout",
     "output_type": "stream",
     "text": [
      "Epoch [103/150], average_loss:0.1903, validation_loss:0.2420, val_accuracy:0.8701\n",
      "Epoch [104/150], average_loss:0.1924, validation_loss:0.2262, val_accuracy:0.9091\n",
      "Epoch [105/150], average_loss:0.1911, validation_loss:0.2402, val_accuracy:0.8961\n",
      "Epoch [106/150], average_loss:0.1919, validation_loss:0.2419, val_accuracy:0.8831\n",
      "Epoch [107/150], average_loss:0.1911, validation_loss:0.2353, val_accuracy:0.8961\n",
      "Epoch [108/150], average_loss:0.1917, validation_loss:0.2366, val_accuracy:0.8831\n",
      "Epoch [109/150], average_loss:0.1913, validation_loss:0.2326, val_accuracy:0.9221\n",
      "Epoch [110/150], average_loss:0.1926, validation_loss:0.2397, val_accuracy:0.8701\n",
      "Epoch [111/150], average_loss:0.1892, validation_loss:0.2280, val_accuracy:0.9481\n",
      "Epoch [112/150], average_loss:0.1903, validation_loss:0.2307, val_accuracy:0.9221\n",
      "Epoch [113/150], average_loss:0.1883, validation_loss:0.2317, val_accuracy:0.8961\n",
      "Epoch [114/150], average_loss:0.1935, validation_loss:0.2375, val_accuracy:0.9091\n",
      "Epoch [115/150], average_loss:0.1904, validation_loss:0.2297, val_accuracy:0.9481\n",
      "Epoch [116/150], average_loss:0.1914, validation_loss:0.2327, val_accuracy:0.8442\n",
      "Epoch [117/150], average_loss:0.1884, validation_loss:0.2253, val_accuracy:0.9610\n",
      "Epoch [118/150], average_loss:0.1902, validation_loss:0.2230, val_accuracy:0.9351\n",
      "Epoch [119/150], average_loss:0.1894, validation_loss:0.2330, val_accuracy:0.9610\n",
      "Epoch [120/150], average_loss:0.1864, validation_loss:0.2303, val_accuracy:0.9351\n",
      "Epoch [121/150], average_loss:0.1892, validation_loss:0.2233, val_accuracy:0.9610\n",
      "Epoch [122/150], average_loss:0.1894, validation_loss:0.2326, val_accuracy:0.8831\n",
      "Epoch [123/150], average_loss:0.1869, validation_loss:0.2346, val_accuracy:0.8052\n",
      "Epoch [124/150], average_loss:0.1860, validation_loss:0.2335, val_accuracy:0.8831\n",
      "Epoch [125/150], average_loss:0.1863, validation_loss:0.2271, val_accuracy:0.9221\n",
      "Epoch [126/150], average_loss:0.1864, validation_loss:0.2279, val_accuracy:0.8831\n",
      "Epoch [127/150], average_loss:0.1862, validation_loss:0.2315, val_accuracy:0.9221\n",
      "Epoch [128/150], average_loss:0.1868, validation_loss:0.2276, val_accuracy:0.9091\n",
      "Epoch [129/150], average_loss:0.1857, validation_loss:0.2357, val_accuracy:0.8961\n",
      "Epoch [130/150], average_loss:0.1844, validation_loss:0.2323, val_accuracy:0.8831\n",
      "Epoch [131/150], average_loss:0.1846, validation_loss:0.2302, val_accuracy:0.8831\n",
      "Epoch [132/150], average_loss:0.1860, validation_loss:0.2358, val_accuracy:0.8831\n",
      "Epoch [133/150], average_loss:0.1849, validation_loss:0.2324, val_accuracy:0.9351\n",
      "Epoch [134/150], average_loss:0.1865, validation_loss:0.2389, val_accuracy:0.8312\n",
      "Epoch [135/150], average_loss:0.1838, validation_loss:0.2274, val_accuracy:0.9351\n",
      "Epoch [136/150], average_loss:0.1838, validation_loss:0.2284, val_accuracy:0.9351\n",
      "Epoch [137/150], average_loss:0.1834, validation_loss:0.2330, val_accuracy:0.8701\n",
      "Epoch [138/150], average_loss:0.1840, validation_loss:0.2271, val_accuracy:0.9610\n",
      "Epoch [139/150], average_loss:0.1840, validation_loss:0.2302, val_accuracy:0.9481\n",
      "Epoch [140/150], average_loss:0.1846, validation_loss:0.2330, val_accuracy:0.9351\n",
      "Epoch [141/150], average_loss:0.1835, validation_loss:0.2313, val_accuracy:0.9221\n",
      "Epoch [142/150], average_loss:0.1843, validation_loss:0.2303, val_accuracy:0.9091\n",
      "Epoch [143/150], average_loss:0.1837, validation_loss:0.2310, val_accuracy:0.9221\n",
      "Epoch [144/150], average_loss:0.1819, validation_loss:0.2350, val_accuracy:0.8701\n",
      "Epoch [145/150], average_loss:0.1827, validation_loss:0.2264, val_accuracy:0.9481\n",
      "Epoch [146/150], average_loss:0.1812, validation_loss:0.2338, val_accuracy:0.8831\n",
      "Epoch [147/150], average_loss:0.1814, validation_loss:0.2380, val_accuracy:0.8831\n",
      "Epoch [148/150], average_loss:0.1807, validation_loss:0.2275, val_accuracy:0.8961\n",
      "Epoch [149/150], average_loss:0.1802, validation_loss:0.2255, val_accuracy:0.8961\n",
      "Epoch [150/150], average_loss:0.1811, validation_loss:0.2316, val_accuracy:0.8831\n"
     ]
    }
   ],
   "source": [
    "lh = m12(epochs=150, train_loader=train_loader, validation_loader=valid_loader)"
   ]
  },
  {
   "cell_type": "code",
   "execution_count": 37,
   "metadata": {},
   "outputs": [],
   "source": [
    "m12.model.eval()\n",
    "with torch.no_grad():\n",
    "    x_pred = np.argmax(m12.model(torch.tensor(X_test).float().to(m12.device)).cpu().detach(), axis=1)\n"
   ]
  },
  {
   "cell_type": "code",
   "execution_count": 38,
   "metadata": {},
   "outputs": [
    {
     "data": {
      "text/plain": [
       "tensor([1, 1, 1,  ..., 0, 1, 0])"
      ]
     },
     "execution_count": 38,
     "metadata": {},
     "output_type": "execute_result"
    }
   ],
   "source": [
    "x_pred"
   ]
  },
  {
   "cell_type": "code",
   "execution_count": 39,
   "metadata": {},
   "outputs": [
    {
     "data": {
      "text/plain": [
       "0.8903114917054931"
      ]
     },
     "execution_count": 39,
     "metadata": {},
     "output_type": "execute_result"
    }
   ],
   "source": [
    "f1_score(y_true=y_test, y_pred=x_pred,average=\"macro\")"
   ]
  },
  {
   "cell_type": "code",
   "execution_count": 40,
   "metadata": {},
   "outputs": [
    {
     "data": {
      "text/plain": [
       "0.9302700764818356"
      ]
     },
     "execution_count": 40,
     "metadata": {},
     "output_type": "execute_result"
    }
   ],
   "source": [
    "accuracy_score(y_true=y_test, y_pred=x_pred)"
   ]
  },
  {
   "cell_type": "code",
   "execution_count": 41,
   "metadata": {},
   "outputs": [
    {
     "data": {
      "text/plain": [
       "array([[3957,  139,   25,  114],\n",
       "       [ 411, 9917,   30,   87],\n",
       "       [  15,   28,  420,   16],\n",
       "       [ 206,   86,   10, 1275]], dtype=int64)"
      ]
     },
     "execution_count": 41,
     "metadata": {},
     "output_type": "execute_result"
    }
   ],
   "source": [
    "confusion_matrix(y_true=y_test, y_pred=x_pred)"
   ]
  },
  {
   "cell_type": "code",
   "execution_count": 42,
   "metadata": {},
   "outputs": [
    {
     "name": "stderr",
     "output_type": "stream",
     "text": [
      "C:\\Users\\ghost_000\\Miniconda3\\envs\\Pytorch\\lib\\site-packages\\torch\\serialization.py:292: UserWarning: Couldn't retrieve source code for container of type ReLU. It won't be checked for correctness upon loading.\n",
      "  \"type \" + obj.__name__ + \". It won't be checked \"\n"
     ]
    }
   ],
   "source": [
    "#torch.save(m12.model, \"models_and_losses/CNN-m.III-Conv1-BN-Drop-0.3_lr-{1e-3,1e-4}_bs-512.pt\")"
   ]
  },
  {
   "cell_type": "markdown",
   "metadata": {},
   "source": [
    "## Scheduler 0.001 -> 0.00001"
   ]
  },
  {
   "cell_type": "code",
   "execution_count": 21,
   "metadata": {},
   "outputs": [],
   "source": [
    "CNN_13 = nn.Sequential(\n",
    "            layers.Reshape(out_shape=(1,160)),\n",
    "            nn.Conv1d(in_channels=1, out_channels=16, kernel_size=6, stride=2, padding=0, bias=False), # n*1*160 -> n*16*78\n",
    "            nn.ELU(inplace=True),\n",
    "            layers.CBD1dBlock(in_channels=16, out_channels=32, kernel_size=4, stride=2, bias=False, activation=nn.ELU(), dropout=0.3),#n*16*78->n*32*38\n",
    "            layers.CBD1dBlock(in_channels=32, out_channels=64, kernel_size=4, stride=2, bias=False, activation=nn.ELU(), dropout=0.3),#n*32*38->n*64*18\n",
    "            layers.Flatten(out_features=64*18),\n",
    "            nn.Linear(in_features=64*18, out_features=256),\n",
    "            nn.ELU(inplace=True),\n",
    "            nn.Dropout(p=0.3),\n",
    "            nn.Linear(in_features=256, out_features=4)\n",
    ")"
   ]
  },
  {
   "cell_type": "code",
   "execution_count": 22,
   "metadata": {},
   "outputs": [],
   "source": [
    "optimizer13= torch.optim.Adam(CNN_13.parameters(), lr=1e-3)"
   ]
  },
  {
   "cell_type": "code",
   "execution_count": 23,
   "metadata": {},
   "outputs": [],
   "source": [
    "train_loader = torch.utils.data.DataLoader(dataset = train, batch_size=512, shuffle=True)\n",
    "valid_loader = torch.utils.data.DataLoader(dataset = valid, batch_size=512, shuffle=True)"
   ]
  },
  {
   "cell_type": "code",
   "execution_count": 24,
   "metadata": {},
   "outputs": [
    {
     "name": "stdout",
     "output_type": "stream",
     "text": [
      "cuda:0\n"
     ]
    }
   ],
   "source": [
    "m13 = Trainer(\n",
    "        model=CNN_13,\n",
    "        optimizer=optimizer13,\n",
    "        loss_function=nn.CrossEntropyLoss(),\n",
    "        scheduler=torch.optim.lr_scheduler.MultiStepLR(optimizer13, milestones=[20,80], gamma=0.1),\n",
    "        tensorboard=True,\n",
    "        model_name=\"CNN-m.III-Conv1-BN-Drop-0.3_ELU_lr-{1e-3,1e-4,1e-5}_bs-512\",\n",
    "        verbose=True\n",
    "        )"
   ]
  },
  {
   "cell_type": "code",
   "execution_count": 25,
   "metadata": {
    "collapsed": true
   },
   "outputs": [
    {
     "name": "stdout",
     "output_type": "stream",
     "text": [
      "Epoch [1/150], average_loss:0.6481, validation_loss:0.5606, val_accuracy:0.7662\n",
      "Epoch [2/150], average_loss:0.5301, validation_loss:0.5090, val_accuracy:0.7792\n",
      "Epoch [3/150], average_loss:0.5043, validation_loss:0.4932, val_accuracy:0.7922\n",
      "Epoch [4/150], average_loss:0.4834, validation_loss:0.4685, val_accuracy:0.8961\n",
      "Epoch [5/150], average_loss:0.4631, validation_loss:0.4772, val_accuracy:0.8312\n",
      "Epoch [6/150], average_loss:0.4467, validation_loss:0.4401, val_accuracy:0.8442\n",
      "Epoch [7/150], average_loss:0.4336, validation_loss:0.4442, val_accuracy:0.7922\n",
      "Epoch [8/150], average_loss:0.4159, validation_loss:0.4197, val_accuracy:0.7792\n",
      "Epoch [9/150], average_loss:0.3907, validation_loss:0.4080, val_accuracy:0.8961\n",
      "Epoch [10/150], average_loss:0.3770, validation_loss:0.3927, val_accuracy:0.8831\n",
      "Epoch [11/150], average_loss:0.3642, validation_loss:0.3736, val_accuracy:0.8571\n",
      "Epoch [12/150], average_loss:0.3564, validation_loss:0.3712, val_accuracy:0.8052\n",
      "Epoch [13/150], average_loss:0.3569, validation_loss:0.3693, val_accuracy:0.7922\n",
      "Epoch [14/150], average_loss:0.3461, validation_loss:0.3458, val_accuracy:0.8571\n",
      "Epoch [15/150], average_loss:0.3381, validation_loss:0.4144, val_accuracy:0.8052\n",
      "Epoch [16/150], average_loss:0.3316, validation_loss:0.3384, val_accuracy:0.9221\n",
      "Epoch [17/150], average_loss:0.3341, validation_loss:0.3520, val_accuracy:0.8831\n",
      "Epoch [18/150], average_loss:0.3302, validation_loss:0.3366, val_accuracy:0.9091\n",
      "Epoch [19/150], average_loss:0.3209, validation_loss:0.3388, val_accuracy:0.8831\n",
      "Epoch [20/150], average_loss:0.3157, validation_loss:0.3325, val_accuracy:0.9091\n",
      "Epoch [21/150], average_loss:0.2953, validation_loss:0.3241, val_accuracy:0.7792\n",
      "Epoch [22/150], average_loss:0.2932, validation_loss:0.3240, val_accuracy:0.9221\n",
      "Epoch [23/150], average_loss:0.2936, validation_loss:0.3122, val_accuracy:0.9610\n",
      "Epoch [24/150], average_loss:0.2921, validation_loss:0.3198, val_accuracy:0.8442\n",
      "Epoch [25/150], average_loss:0.2917, validation_loss:0.3131, val_accuracy:0.8961\n",
      "Epoch [26/150], average_loss:0.2898, validation_loss:0.3190, val_accuracy:0.8571\n",
      "Epoch [27/150], average_loss:0.2877, validation_loss:0.3131, val_accuracy:0.9351\n",
      "Epoch [28/150], average_loss:0.2894, validation_loss:0.3100, val_accuracy:0.9221\n",
      "Epoch [29/150], average_loss:0.2888, validation_loss:0.3188, val_accuracy:0.8701\n",
      "Epoch [30/150], average_loss:0.2860, validation_loss:0.3117, val_accuracy:0.8701\n",
      "Epoch [31/150], average_loss:0.2856, validation_loss:0.3142, val_accuracy:0.8312\n",
      "Epoch [32/150], average_loss:0.2852, validation_loss:0.3091, val_accuracy:0.9091\n",
      "Epoch [33/150], average_loss:0.2878, validation_loss:0.3073, val_accuracy:0.8442\n",
      "Epoch [34/150], average_loss:0.2827, validation_loss:0.3177, val_accuracy:0.8831\n",
      "Epoch [35/150], average_loss:0.2841, validation_loss:0.3083, val_accuracy:0.9351\n",
      "Epoch [36/150], average_loss:0.2824, validation_loss:0.3163, val_accuracy:0.9091\n",
      "Epoch [37/150], average_loss:0.2841, validation_loss:0.3111, val_accuracy:0.8442\n",
      "Epoch [38/150], average_loss:0.2818, validation_loss:0.3094, val_accuracy:0.8571\n",
      "Epoch [39/150], average_loss:0.2811, validation_loss:0.3055, val_accuracy:0.8831\n",
      "Epoch [40/150], average_loss:0.2812, validation_loss:0.3132, val_accuracy:0.8701\n",
      "Epoch [41/150], average_loss:0.2800, validation_loss:0.3095, val_accuracy:0.8831\n",
      "Epoch [42/150], average_loss:0.2803, validation_loss:0.3074, val_accuracy:0.9091\n",
      "Epoch [43/150], average_loss:0.2799, validation_loss:0.3140, val_accuracy:0.8701\n",
      "Epoch [44/150], average_loss:0.2798, validation_loss:0.3045, val_accuracy:0.9351\n",
      "Epoch [45/150], average_loss:0.2783, validation_loss:0.3103, val_accuracy:0.8571\n",
      "Epoch [46/150], average_loss:0.2772, validation_loss:0.3124, val_accuracy:0.8312\n",
      "Epoch [47/150], average_loss:0.2760, validation_loss:0.3120, val_accuracy:0.8442\n",
      "Epoch [48/150], average_loss:0.2738, validation_loss:0.3040, val_accuracy:0.8961\n",
      "Epoch [49/150], average_loss:0.2764, validation_loss:0.3050, val_accuracy:0.9091\n",
      "Epoch [50/150], average_loss:0.2747, validation_loss:0.3137, val_accuracy:0.8442\n",
      "Epoch [51/150], average_loss:0.2753, validation_loss:0.3127, val_accuracy:0.8571\n",
      "Epoch [52/150], average_loss:0.2710, validation_loss:0.3125, val_accuracy:0.8182\n",
      "Epoch [53/150], average_loss:0.2750, validation_loss:0.3133, val_accuracy:0.8312\n",
      "Epoch [54/150], average_loss:0.2749, validation_loss:0.3036, val_accuracy:0.9091\n",
      "Epoch [55/150], average_loss:0.2715, validation_loss:0.2943, val_accuracy:0.9481\n",
      "Epoch [56/150], average_loss:0.2736, validation_loss:0.3069, val_accuracy:0.8571\n",
      "Epoch [57/150], average_loss:0.2709, validation_loss:0.3145, val_accuracy:0.8701\n",
      "Epoch [58/150], average_loss:0.2729, validation_loss:0.3148, val_accuracy:0.8701\n",
      "Epoch [59/150], average_loss:0.2714, validation_loss:0.3057, val_accuracy:0.8701\n",
      "Epoch [60/150], average_loss:0.2707, validation_loss:0.3041, val_accuracy:0.8442\n",
      "Epoch [61/150], average_loss:0.2709, validation_loss:0.3045, val_accuracy:0.8312\n",
      "Epoch [62/150], average_loss:0.2708, validation_loss:0.3078, val_accuracy:0.8961\n",
      "Epoch [63/150], average_loss:0.2708, validation_loss:0.3007, val_accuracy:0.9610\n",
      "Epoch [64/150], average_loss:0.2695, validation_loss:0.3052, val_accuracy:0.8571\n",
      "Epoch [65/150], average_loss:0.2700, validation_loss:0.3015, val_accuracy:0.8961\n",
      "Epoch [66/150], average_loss:0.2703, validation_loss:0.3039, val_accuracy:0.8701\n",
      "Epoch [67/150], average_loss:0.2690, validation_loss:0.2948, val_accuracy:0.9740\n",
      "Epoch [68/150], average_loss:0.2662, validation_loss:0.3072, val_accuracy:0.8442\n",
      "Epoch [69/150], average_loss:0.2650, validation_loss:0.3015, val_accuracy:0.8571\n",
      "Epoch [70/150], average_loss:0.2650, validation_loss:0.3065, val_accuracy:0.9351\n",
      "Epoch [71/150], average_loss:0.2669, validation_loss:0.3039, val_accuracy:0.8312\n",
      "Epoch [72/150], average_loss:0.2661, validation_loss:0.3097, val_accuracy:0.8961\n",
      "Epoch [73/150], average_loss:0.2628, validation_loss:0.3022, val_accuracy:0.8701\n",
      "Epoch [74/150], average_loss:0.2642, validation_loss:0.3008, val_accuracy:0.9221\n",
      "Epoch [75/150], average_loss:0.2648, validation_loss:0.2986, val_accuracy:0.9221\n",
      "Epoch [76/150], average_loss:0.2659, validation_loss:0.3041, val_accuracy:0.8961\n",
      "Epoch [77/150], average_loss:0.2624, validation_loss:0.3010, val_accuracy:0.8571\n",
      "Epoch [78/150], average_loss:0.2628, validation_loss:0.3131, val_accuracy:0.8312\n",
      "Epoch [79/150], average_loss:0.2606, validation_loss:0.2952, val_accuracy:0.8961\n",
      "Epoch [80/150], average_loss:0.2637, validation_loss:0.2966, val_accuracy:0.8312\n",
      "Epoch [81/150], average_loss:0.2597, validation_loss:0.2990, val_accuracy:0.8831\n",
      "Epoch [82/150], average_loss:0.2612, validation_loss:0.3000, val_accuracy:0.8442\n",
      "Epoch [83/150], average_loss:0.2581, validation_loss:0.3013, val_accuracy:0.8571\n",
      "Epoch [84/150], average_loss:0.2571, validation_loss:0.2908, val_accuracy:0.9351\n",
      "Epoch [85/150], average_loss:0.2588, validation_loss:0.3002, val_accuracy:0.8831\n",
      "Epoch [86/150], average_loss:0.2580, validation_loss:0.2914, val_accuracy:0.9091\n",
      "Epoch [87/150], average_loss:0.2579, validation_loss:0.2987, val_accuracy:0.8831\n",
      "Epoch [88/150], average_loss:0.2556, validation_loss:0.3026, val_accuracy:0.8571\n",
      "Epoch [89/150], average_loss:0.2571, validation_loss:0.3036, val_accuracy:0.8831\n",
      "Epoch [90/150], average_loss:0.2590, validation_loss:0.2977, val_accuracy:0.8701\n",
      "Epoch [91/150], average_loss:0.2572, validation_loss:0.2915, val_accuracy:0.8961\n",
      "Epoch [92/150], average_loss:0.2575, validation_loss:0.2930, val_accuracy:0.9351\n",
      "Epoch [93/150], average_loss:0.2566, validation_loss:0.3037, val_accuracy:0.8182\n",
      "Epoch [94/150], average_loss:0.2599, validation_loss:0.3019, val_accuracy:0.8571\n",
      "Epoch [95/150], average_loss:0.2572, validation_loss:0.3006, val_accuracy:0.9221\n",
      "Epoch [96/150], average_loss:0.2580, validation_loss:0.2918, val_accuracy:0.8961\n",
      "Epoch [97/150], average_loss:0.2585, validation_loss:0.2953, val_accuracy:0.9481\n",
      "Epoch [98/150], average_loss:0.2560, validation_loss:0.2967, val_accuracy:0.8961\n",
      "Epoch [99/150], average_loss:0.2549, validation_loss:0.3005, val_accuracy:0.8312\n",
      "Epoch [100/150], average_loss:0.2571, validation_loss:0.2962, val_accuracy:0.8571\n",
      "Epoch [101/150], average_loss:0.2582, validation_loss:0.2951, val_accuracy:0.8571\n",
      "Epoch [102/150], average_loss:0.2562, validation_loss:0.2993, val_accuracy:0.8312\n"
     ]
    },
    {
     "name": "stdout",
     "output_type": "stream",
     "text": [
      "Epoch [103/150], average_loss:0.2586, validation_loss:0.3028, val_accuracy:0.8312\n",
      "Epoch [104/150], average_loss:0.2576, validation_loss:0.3030, val_accuracy:0.8442\n",
      "Epoch [105/150], average_loss:0.2582, validation_loss:0.2954, val_accuracy:0.8312\n",
      "Epoch [106/150], average_loss:0.2560, validation_loss:0.2999, val_accuracy:0.8442\n",
      "Epoch [107/150], average_loss:0.2574, validation_loss:0.2981, val_accuracy:0.9610\n",
      "Epoch [108/150], average_loss:0.2564, validation_loss:0.3040, val_accuracy:0.8442\n",
      "Epoch [109/150], average_loss:0.2586, validation_loss:0.3031, val_accuracy:0.8701\n",
      "Epoch [110/150], average_loss:0.2564, validation_loss:0.2958, val_accuracy:0.9091\n",
      "Epoch [111/150], average_loss:0.2580, validation_loss:0.2945, val_accuracy:0.9481\n",
      "Epoch [112/150], average_loss:0.2549, validation_loss:0.2995, val_accuracy:0.8442\n",
      "Epoch [113/150], average_loss:0.2568, validation_loss:0.2986, val_accuracy:0.8571\n",
      "Epoch [114/150], average_loss:0.2596, validation_loss:0.2930, val_accuracy:0.9481\n",
      "Epoch [115/150], average_loss:0.2563, validation_loss:0.2996, val_accuracy:0.8831\n",
      "Epoch [116/150], average_loss:0.2589, validation_loss:0.3076, val_accuracy:0.7792\n",
      "Epoch [117/150], average_loss:0.2597, validation_loss:0.3007, val_accuracy:0.8701\n",
      "Epoch [118/150], average_loss:0.2571, validation_loss:0.2980, val_accuracy:0.9091\n",
      "Epoch [119/150], average_loss:0.2544, validation_loss:0.2962, val_accuracy:0.8831\n",
      "Epoch [120/150], average_loss:0.2562, validation_loss:0.2976, val_accuracy:0.8701\n",
      "Epoch [121/150], average_loss:0.2559, validation_loss:0.3054, val_accuracy:0.9091\n",
      "Epoch [122/150], average_loss:0.2567, validation_loss:0.3047, val_accuracy:0.8831\n",
      "Epoch [123/150], average_loss:0.2576, validation_loss:0.3024, val_accuracy:0.7922\n",
      "Epoch [124/150], average_loss:0.2562, validation_loss:0.2914, val_accuracy:0.8961\n",
      "Epoch [125/150], average_loss:0.2573, validation_loss:0.3027, val_accuracy:0.9091\n",
      "Epoch [126/150], average_loss:0.2568, validation_loss:0.2970, val_accuracy:0.8831\n",
      "Epoch [127/150], average_loss:0.2565, validation_loss:0.3005, val_accuracy:0.8961\n",
      "Epoch [128/150], average_loss:0.2562, validation_loss:0.3009, val_accuracy:0.8442\n",
      "Epoch [129/150], average_loss:0.2570, validation_loss:0.2991, val_accuracy:0.8831\n",
      "Epoch [130/150], average_loss:0.2558, validation_loss:0.3003, val_accuracy:0.8052\n",
      "Epoch [131/150], average_loss:0.2533, validation_loss:0.2980, val_accuracy:0.8701\n",
      "Epoch [132/150], average_loss:0.2595, validation_loss:0.3015, val_accuracy:0.9091\n",
      "Epoch [133/150], average_loss:0.2546, validation_loss:0.3043, val_accuracy:0.8182\n",
      "Epoch [134/150], average_loss:0.2582, validation_loss:0.2994, val_accuracy:0.9091\n",
      "Epoch [135/150], average_loss:0.2528, validation_loss:0.2976, val_accuracy:0.8571\n",
      "Epoch [136/150], average_loss:0.2531, validation_loss:0.2995, val_accuracy:0.8961\n",
      "Epoch [137/150], average_loss:0.2551, validation_loss:0.2941, val_accuracy:0.8312\n",
      "Epoch [138/150], average_loss:0.2543, validation_loss:0.2970, val_accuracy:0.9481\n",
      "Epoch [139/150], average_loss:0.2538, validation_loss:0.2946, val_accuracy:0.8831\n",
      "Epoch [140/150], average_loss:0.2558, validation_loss:0.2988, val_accuracy:0.8571\n",
      "Epoch [141/150], average_loss:0.2550, validation_loss:0.2924, val_accuracy:0.9351\n",
      "Epoch [142/150], average_loss:0.2554, validation_loss:0.2973, val_accuracy:0.8571\n",
      "Epoch [143/150], average_loss:0.2555, validation_loss:0.2919, val_accuracy:0.8831\n",
      "Epoch [144/150], average_loss:0.2565, validation_loss:0.2942, val_accuracy:0.9091\n",
      "Epoch [145/150], average_loss:0.2557, validation_loss:0.2994, val_accuracy:0.8312\n",
      "Epoch [146/150], average_loss:0.2558, validation_loss:0.2957, val_accuracy:0.8701\n",
      "Epoch [147/150], average_loss:0.2572, validation_loss:0.2924, val_accuracy:0.9351\n",
      "Epoch [148/150], average_loss:0.2547, validation_loss:0.2970, val_accuracy:0.8701\n",
      "Epoch [149/150], average_loss:0.2568, validation_loss:0.2938, val_accuracy:0.8571\n",
      "Epoch [150/150], average_loss:0.2561, validation_loss:0.3019, val_accuracy:0.8182\n"
     ]
    }
   ],
   "source": [
    "lh = m13(epochs=150, train_loader=train_loader, validation_loader=valid_loader)"
   ]
  },
  {
   "cell_type": "code",
   "execution_count": 26,
   "metadata": {},
   "outputs": [],
   "source": [
    "m13.model.eval()\n",
    "with torch.no_grad():\n",
    "    x_pred = np.argmax(m13.model(torch.tensor(X_test).float().to(m13.device)).cpu().detach(), axis=1)\n"
   ]
  },
  {
   "cell_type": "code",
   "execution_count": 27,
   "metadata": {},
   "outputs": [
    {
     "data": {
      "text/plain": [
       "tensor([1, 1, 1,  ..., 3, 1, 0])"
      ]
     },
     "execution_count": 27,
     "metadata": {},
     "output_type": "execute_result"
    }
   ],
   "source": [
    "x_pred"
   ]
  },
  {
   "cell_type": "code",
   "execution_count": 28,
   "metadata": {},
   "outputs": [
    {
     "data": {
      "text/plain": [
       "0.8702245340803618"
      ]
     },
     "execution_count": 28,
     "metadata": {},
     "output_type": "execute_result"
    }
   ],
   "source": [
    "f1_score(y_true=y_test, y_pred=x_pred,average=\"macro\")"
   ]
  },
  {
   "cell_type": "code",
   "execution_count": 29,
   "metadata": {},
   "outputs": [
    {
     "data": {
      "text/plain": [
       "0.9103728489483748"
      ]
     },
     "execution_count": 29,
     "metadata": {},
     "output_type": "execute_result"
    }
   ],
   "source": [
    "accuracy_score(y_true=y_test, y_pred=x_pred)"
   ]
  },
  {
   "cell_type": "code",
   "execution_count": 30,
   "metadata": {},
   "outputs": [
    {
     "data": {
      "text/plain": [
       "array([[3664,  416,   31,  124],\n",
       "       [ 400, 9908,   25,  112],\n",
       "       [  17,   34,  413,   15],\n",
       "       [ 215,  100,   11, 1251]], dtype=int64)"
      ]
     },
     "execution_count": 30,
     "metadata": {},
     "output_type": "execute_result"
    }
   ],
   "source": [
    "confusion_matrix(y_true=y_test, y_pred=x_pred)"
   ]
  },
  {
   "cell_type": "code",
   "execution_count": 31,
   "metadata": {
    "collapsed": true
   },
   "outputs": [
    {
     "name": "stderr",
     "output_type": "stream",
     "text": [
      "C:\\Users\\ghost_000\\Miniconda3\\envs\\Pytorch\\lib\\site-packages\\torch\\serialization.py:292: UserWarning: Couldn't retrieve source code for container of type Sequential. It won't be checked for correctness upon loading.\n",
      "  \"type \" + obj.__name__ + \". It won't be checked \"\n",
      "C:\\Users\\ghost_000\\Miniconda3\\envs\\Pytorch\\lib\\site-packages\\torch\\serialization.py:292: UserWarning: Couldn't retrieve source code for container of type Reshape. It won't be checked for correctness upon loading.\n",
      "  \"type \" + obj.__name__ + \". It won't be checked \"\n",
      "C:\\Users\\ghost_000\\Miniconda3\\envs\\Pytorch\\lib\\site-packages\\torch\\serialization.py:292: UserWarning: Couldn't retrieve source code for container of type Conv1d. It won't be checked for correctness upon loading.\n",
      "  \"type \" + obj.__name__ + \". It won't be checked \"\n",
      "C:\\Users\\ghost_000\\Miniconda3\\envs\\Pytorch\\lib\\site-packages\\torch\\serialization.py:292: UserWarning: Couldn't retrieve source code for container of type ELU. It won't be checked for correctness upon loading.\n",
      "  \"type \" + obj.__name__ + \". It won't be checked \"\n",
      "C:\\Users\\ghost_000\\Miniconda3\\envs\\Pytorch\\lib\\site-packages\\torch\\serialization.py:292: UserWarning: Couldn't retrieve source code for container of type CBD1dBlock. It won't be checked for correctness upon loading.\n",
      "  \"type \" + obj.__name__ + \". It won't be checked \"\n",
      "C:\\Users\\ghost_000\\Miniconda3\\envs\\Pytorch\\lib\\site-packages\\torch\\serialization.py:292: UserWarning: Couldn't retrieve source code for container of type BatchNorm1d. It won't be checked for correctness upon loading.\n",
      "  \"type \" + obj.__name__ + \". It won't be checked \"\n",
      "C:\\Users\\ghost_000\\Miniconda3\\envs\\Pytorch\\lib\\site-packages\\torch\\serialization.py:292: UserWarning: Couldn't retrieve source code for container of type Dropout. It won't be checked for correctness upon loading.\n",
      "  \"type \" + obj.__name__ + \". It won't be checked \"\n",
      "C:\\Users\\ghost_000\\Miniconda3\\envs\\Pytorch\\lib\\site-packages\\torch\\serialization.py:292: UserWarning: Couldn't retrieve source code for container of type Flatten. It won't be checked for correctness upon loading.\n",
      "  \"type \" + obj.__name__ + \". It won't be checked \"\n",
      "C:\\Users\\ghost_000\\Miniconda3\\envs\\Pytorch\\lib\\site-packages\\torch\\serialization.py:292: UserWarning: Couldn't retrieve source code for container of type Linear. It won't be checked for correctness upon loading.\n",
      "  \"type \" + obj.__name__ + \". It won't be checked \"\n"
     ]
    }
   ],
   "source": [
    "torch.save(m13.model, \"models_and_losses/CNN-m.III-Conv1-BN-Drop-0.3_ELU_lr-{1e-3,1e-4,1e-5}_bs-512.pt\")"
   ]
  },
  {
   "cell_type": "markdown",
   "metadata": {},
   "source": [
    "# scheduler 0.001->0.00001 RELU"
   ]
  },
  {
   "cell_type": "code",
   "execution_count": 9,
   "metadata": {},
   "outputs": [],
   "source": [
    "CNN_14 = nn.Sequential(\n",
    "            layers.Reshape(out_shape=(1,160)),\n",
    "            nn.Conv1d(in_channels=1, out_channels=16, kernel_size=6, stride=2, padding=0, bias=False), # n*1*160 -> n*16*78\n",
    "            nn.ReLU(inplace=True),\n",
    "            layers.CBD1dBlock(in_channels=16, out_channels=32, kernel_size=4, stride=2, bias=False, activation=nn.ReLU(), dropout=0.3),#n*16*78->n*32*38\n",
    "            layers.CBD1dBlock(in_channels=32, out_channels=64, kernel_size=4, stride=2, bias=False, activation=nn.ReLU(), dropout=0.3),#n*32*38->n*64*18\n",
    "            layers.Flatten(out_features=64*18),\n",
    "            nn.Linear(in_features=64*18, out_features=256),\n",
    "            nn.ReLU(inplace=True),\n",
    "            nn.Dropout(p=0.3),\n",
    "            nn.Linear(in_features=256, out_features=4)\n",
    ")"
   ]
  },
  {
   "cell_type": "code",
   "execution_count": 10,
   "metadata": {},
   "outputs": [],
   "source": [
    "optimizer14= torch.optim.Adam(CNN_14.parameters(), lr=1e-3)"
   ]
  },
  {
   "cell_type": "code",
   "execution_count": 11,
   "metadata": {},
   "outputs": [],
   "source": [
    "train_loader = torch.utils.data.DataLoader(dataset = train, batch_size=512, shuffle=True)\n",
    "valid_loader = torch.utils.data.DataLoader(dataset = valid, batch_size=512, shuffle=True)"
   ]
  },
  {
   "cell_type": "code",
   "execution_count": 12,
   "metadata": {},
   "outputs": [
    {
     "name": "stdout",
     "output_type": "stream",
     "text": [
      "cuda:0\n"
     ]
    }
   ],
   "source": [
    "m14 = Trainer(\n",
    "        model=CNN_14,\n",
    "        optimizer=optimizer14,\n",
    "        loss_function=nn.CrossEntropyLoss(),\n",
    "        scheduler=torch.optim.lr_scheduler.MultiStepLR(optimizer14, milestones=[20,80], gamma=0.1),\n",
    "        tensorboard=True,\n",
    "        model_name=\"CNN-m.III-Conv1-BN-Drop-0.3_ReLU_lr-{1e-3,1e-4,1e-5}_bs-512\",\n",
    "        verbose=True\n",
    "        )"
   ]
  },
  {
   "cell_type": "code",
   "execution_count": 13,
   "metadata": {
    "scrolled": false
   },
   "outputs": [
    {
     "name": "stdout",
     "output_type": "stream",
     "text": [
      "Epoch [1/150], average_loss:0.5898, validation_loss:0.4605, val_accuracy:0.7403\n",
      "Epoch [2/150], average_loss:0.4464, validation_loss:0.3857, val_accuracy:0.8961\n",
      "Epoch [3/150], average_loss:0.3963, validation_loss:0.3536, val_accuracy:0.9221\n",
      "Epoch [4/150], average_loss:0.3706, validation_loss:0.3382, val_accuracy:0.8701\n",
      "Epoch [5/150], average_loss:0.3485, validation_loss:0.3179, val_accuracy:0.8442\n",
      "Epoch [6/150], average_loss:0.3273, validation_loss:0.3709, val_accuracy:0.8701\n",
      "Epoch [7/150], average_loss:0.3222, validation_loss:0.2881, val_accuracy:0.8701\n",
      "Epoch [8/150], average_loss:0.3179, validation_loss:0.2865, val_accuracy:0.9091\n",
      "Epoch [9/150], average_loss:0.3031, validation_loss:0.2757, val_accuracy:0.8571\n",
      "Epoch [10/150], average_loss:0.2944, validation_loss:0.2782, val_accuracy:0.9221\n",
      "Epoch [11/150], average_loss:0.2950, validation_loss:0.2746, val_accuracy:0.8961\n",
      "Epoch [12/150], average_loss:0.2872, validation_loss:0.2769, val_accuracy:0.9221\n",
      "Epoch [13/150], average_loss:0.2858, validation_loss:0.2579, val_accuracy:0.9481\n",
      "Epoch [14/150], average_loss:0.2770, validation_loss:0.2767, val_accuracy:0.8701\n",
      "Epoch [15/150], average_loss:0.2711, validation_loss:0.2659, val_accuracy:0.8961\n",
      "Epoch [16/150], average_loss:0.2703, validation_loss:0.4962, val_accuracy:0.7922\n",
      "Epoch [17/150], average_loss:0.2684, validation_loss:0.2640, val_accuracy:0.9481\n",
      "Epoch [18/150], average_loss:0.2594, validation_loss:0.3015, val_accuracy:0.9481\n",
      "Epoch [19/150], average_loss:0.2618, validation_loss:0.2694, val_accuracy:0.8961\n",
      "Epoch [20/150], average_loss:0.2560, validation_loss:0.2370, val_accuracy:0.9221\n",
      "Epoch [21/150], average_loss:0.2377, validation_loss:0.2234, val_accuracy:0.9091\n",
      "Epoch [22/150], average_loss:0.2316, validation_loss:0.2250, val_accuracy:0.9221\n",
      "Epoch [23/150], average_loss:0.2315, validation_loss:0.2236, val_accuracy:0.9221\n",
      "Epoch [24/150], average_loss:0.2310, validation_loss:0.2232, val_accuracy:0.9351\n",
      "Epoch [25/150], average_loss:0.2291, validation_loss:0.2244, val_accuracy:0.9091\n",
      "Epoch [26/150], average_loss:0.2262, validation_loss:0.2264, val_accuracy:0.8831\n",
      "Epoch [27/150], average_loss:0.2277, validation_loss:0.2297, val_accuracy:0.8961\n",
      "Epoch [28/150], average_loss:0.2280, validation_loss:0.2206, val_accuracy:0.9221\n",
      "Epoch [29/150], average_loss:0.2265, validation_loss:0.2183, val_accuracy:0.9351\n",
      "Epoch [30/150], average_loss:0.2231, validation_loss:0.2182, val_accuracy:0.9091\n",
      "Epoch [31/150], average_loss:0.2261, validation_loss:0.2159, val_accuracy:0.9091\n",
      "Epoch [32/150], average_loss:0.2251, validation_loss:0.2150, val_accuracy:0.9481\n",
      "Epoch [33/150], average_loss:0.2246, validation_loss:0.2171, val_accuracy:0.9091\n",
      "Epoch [34/150], average_loss:0.2233, validation_loss:0.2160, val_accuracy:0.9351\n",
      "Epoch [35/150], average_loss:0.2239, validation_loss:0.2286, val_accuracy:0.8701\n",
      "Epoch [36/150], average_loss:0.2231, validation_loss:0.2148, val_accuracy:0.9221\n",
      "Epoch [37/150], average_loss:0.2207, validation_loss:0.2109, val_accuracy:0.9351\n",
      "Epoch [38/150], average_loss:0.2204, validation_loss:0.2190, val_accuracy:0.9091\n",
      "Epoch [39/150], average_loss:0.2196, validation_loss:0.2135, val_accuracy:0.9351\n",
      "Epoch [40/150], average_loss:0.2201, validation_loss:0.2279, val_accuracy:0.9091\n",
      "Epoch [41/150], average_loss:0.2210, validation_loss:0.2139, val_accuracy:0.9221\n",
      "Epoch [42/150], average_loss:0.2209, validation_loss:0.2167, val_accuracy:0.9481\n",
      "Epoch [43/150], average_loss:0.2178, validation_loss:0.2178, val_accuracy:0.9091\n",
      "Epoch [44/150], average_loss:0.2160, validation_loss:0.2210, val_accuracy:0.9221\n",
      "Epoch [45/150], average_loss:0.2180, validation_loss:0.2172, val_accuracy:0.9221\n",
      "Epoch [46/150], average_loss:0.2181, validation_loss:0.2170, val_accuracy:0.9481\n",
      "Epoch [47/150], average_loss:0.2179, validation_loss:0.2164, val_accuracy:0.9221\n",
      "Epoch [48/150], average_loss:0.2184, validation_loss:0.2192, val_accuracy:0.9351\n",
      "Epoch [49/150], average_loss:0.2169, validation_loss:0.2125, val_accuracy:0.9221\n",
      "Epoch [50/150], average_loss:0.2175, validation_loss:0.2124, val_accuracy:0.9221\n",
      "Epoch [51/150], average_loss:0.2168, validation_loss:0.2095, val_accuracy:0.9870\n",
      "Epoch [52/150], average_loss:0.2150, validation_loss:0.2127, val_accuracy:0.9351\n",
      "Epoch [53/150], average_loss:0.2136, validation_loss:0.2095, val_accuracy:0.9351\n",
      "Epoch [54/150], average_loss:0.2151, validation_loss:0.2125, val_accuracy:0.9221\n",
      "Epoch [55/150], average_loss:0.2112, validation_loss:0.2098, val_accuracy:0.9481\n",
      "Epoch [56/150], average_loss:0.2162, validation_loss:0.2109, val_accuracy:0.9221\n",
      "Epoch [57/150], average_loss:0.2126, validation_loss:0.2143, val_accuracy:0.9221\n",
      "Epoch [58/150], average_loss:0.2134, validation_loss:0.2166, val_accuracy:0.9740\n",
      "Epoch [59/150], average_loss:0.2135, validation_loss:0.2108, val_accuracy:0.9610\n",
      "Epoch [60/150], average_loss:0.2149, validation_loss:0.2108, val_accuracy:0.8571\n",
      "Epoch [61/150], average_loss:0.2129, validation_loss:0.2214, val_accuracy:0.8831\n",
      "Epoch [62/150], average_loss:0.2100, validation_loss:0.2213, val_accuracy:0.9221\n",
      "Epoch [63/150], average_loss:0.2108, validation_loss:0.2129, val_accuracy:0.9221\n",
      "Epoch [64/150], average_loss:0.2101, validation_loss:0.2061, val_accuracy:0.9481\n",
      "Epoch [65/150], average_loss:0.2123, validation_loss:0.2111, val_accuracy:0.9091\n",
      "Epoch [66/150], average_loss:0.2089, validation_loss:0.2106, val_accuracy:0.8961\n",
      "Epoch [67/150], average_loss:0.2101, validation_loss:0.2120, val_accuracy:0.9221\n",
      "Epoch [68/150], average_loss:0.2075, validation_loss:0.2070, val_accuracy:0.9351\n",
      "Epoch [69/150], average_loss:0.2072, validation_loss:0.2147, val_accuracy:0.8701\n",
      "Epoch [70/150], average_loss:0.2084, validation_loss:0.2139, val_accuracy:0.8961\n",
      "Epoch [71/150], average_loss:0.2086, validation_loss:0.2180, val_accuracy:0.8961\n",
      "Epoch [72/150], average_loss:0.2076, validation_loss:0.2103, val_accuracy:0.9221\n",
      "Epoch [73/150], average_loss:0.2075, validation_loss:0.2099, val_accuracy:0.8961\n",
      "Epoch [74/150], average_loss:0.2082, validation_loss:0.2102, val_accuracy:0.8701\n",
      "Epoch [75/150], average_loss:0.2052, validation_loss:0.2143, val_accuracy:0.9221\n",
      "Epoch [76/150], average_loss:0.2055, validation_loss:0.2009, val_accuracy:0.9740\n",
      "Epoch [77/150], average_loss:0.2052, validation_loss:0.2071, val_accuracy:0.9351\n",
      "Epoch [78/150], average_loss:0.2047, validation_loss:0.2102, val_accuracy:0.8961\n",
      "Epoch [79/150], average_loss:0.2055, validation_loss:0.2019, val_accuracy:0.9610\n",
      "Epoch [80/150], average_loss:0.2051, validation_loss:0.2015, val_accuracy:0.9481\n",
      "Epoch [81/150], average_loss:0.2018, validation_loss:0.2056, val_accuracy:0.9351\n",
      "Epoch [82/150], average_loss:0.2006, validation_loss:0.2092, val_accuracy:0.8701\n",
      "Epoch [83/150], average_loss:0.2017, validation_loss:0.2054, val_accuracy:0.9091\n",
      "Epoch [84/150], average_loss:0.2017, validation_loss:0.2056, val_accuracy:0.8961\n",
      "Epoch [85/150], average_loss:0.2008, validation_loss:0.2025, val_accuracy:0.9351\n",
      "Epoch [86/150], average_loss:0.2033, validation_loss:0.2117, val_accuracy:0.8701\n",
      "Epoch [87/150], average_loss:0.2049, validation_loss:0.2103, val_accuracy:0.8701\n",
      "Epoch [88/150], average_loss:0.2016, validation_loss:0.2088, val_accuracy:0.9221\n",
      "Epoch [89/150], average_loss:0.2003, validation_loss:0.2175, val_accuracy:0.9091\n",
      "Epoch [90/150], average_loss:0.2020, validation_loss:0.2117, val_accuracy:0.8701\n",
      "Epoch [91/150], average_loss:0.2001, validation_loss:0.2011, val_accuracy:0.9740\n",
      "Epoch [92/150], average_loss:0.2003, validation_loss:0.2065, val_accuracy:0.9351\n",
      "Epoch [93/150], average_loss:0.2008, validation_loss:0.2082, val_accuracy:0.9091\n",
      "Epoch [94/150], average_loss:0.2013, validation_loss:0.2043, val_accuracy:0.9221\n",
      "Epoch [95/150], average_loss:0.1991, validation_loss:0.2033, val_accuracy:0.9481\n",
      "Epoch [96/150], average_loss:0.2003, validation_loss:0.2070, val_accuracy:0.9221\n",
      "Epoch [97/150], average_loss:0.2007, validation_loss:0.2038, val_accuracy:0.9481\n",
      "Epoch [98/150], average_loss:0.2011, validation_loss:0.2017, val_accuracy:0.9870\n",
      "Epoch [99/150], average_loss:0.2038, validation_loss:0.2042, val_accuracy:0.9091\n",
      "Epoch [100/150], average_loss:0.2022, validation_loss:0.2050, val_accuracy:0.8961\n",
      "Epoch [101/150], average_loss:0.2007, validation_loss:0.2049, val_accuracy:0.9221\n",
      "Epoch [102/150], average_loss:0.2021, validation_loss:0.2022, val_accuracy:0.9481\n"
     ]
    },
    {
     "name": "stdout",
     "output_type": "stream",
     "text": [
      "Epoch [103/150], average_loss:0.1991, validation_loss:0.2058, val_accuracy:0.9091\n",
      "Epoch [104/150], average_loss:0.1985, validation_loss:0.2041, val_accuracy:0.8961\n",
      "Epoch [105/150], average_loss:0.1999, validation_loss:0.2066, val_accuracy:0.9221\n",
      "Epoch [106/150], average_loss:0.2014, validation_loss:0.2030, val_accuracy:0.9481\n",
      "Epoch [107/150], average_loss:0.2009, validation_loss:0.2050, val_accuracy:0.9221\n",
      "Epoch [108/150], average_loss:0.1997, validation_loss:0.2057, val_accuracy:0.8701\n",
      "Epoch [109/150], average_loss:0.2020, validation_loss:0.2146, val_accuracy:0.8831\n",
      "Epoch [110/150], average_loss:0.2001, validation_loss:0.2081, val_accuracy:0.8831\n",
      "Epoch [111/150], average_loss:0.2005, validation_loss:0.2021, val_accuracy:0.9610\n",
      "Epoch [112/150], average_loss:0.2008, validation_loss:0.2015, val_accuracy:0.9351\n",
      "Epoch [113/150], average_loss:0.2014, validation_loss:0.2029, val_accuracy:0.9221\n",
      "Epoch [114/150], average_loss:0.2004, validation_loss:0.2024, val_accuracy:0.9351\n",
      "Epoch [115/150], average_loss:0.1995, validation_loss:0.2059, val_accuracy:0.9221\n",
      "Epoch [116/150], average_loss:0.1969, validation_loss:0.2070, val_accuracy:0.8961\n",
      "Epoch [117/150], average_loss:0.1997, validation_loss:0.2032, val_accuracy:0.9351\n",
      "Epoch [118/150], average_loss:0.1998, validation_loss:0.2032, val_accuracy:0.8961\n",
      "Epoch [119/150], average_loss:0.2004, validation_loss:0.2044, val_accuracy:0.9221\n",
      "Epoch [120/150], average_loss:0.2007, validation_loss:0.2018, val_accuracy:0.9481\n",
      "Epoch [121/150], average_loss:0.1989, validation_loss:0.2047, val_accuracy:0.9351\n",
      "Epoch [122/150], average_loss:0.1993, validation_loss:0.2056, val_accuracy:0.9221\n",
      "Epoch [123/150], average_loss:0.2023, validation_loss:0.2010, val_accuracy:0.9351\n",
      "Epoch [124/150], average_loss:0.1971, validation_loss:0.2019, val_accuracy:0.9351\n",
      "Epoch [125/150], average_loss:0.1980, validation_loss:0.2045, val_accuracy:0.8831\n",
      "Epoch [126/150], average_loss:0.2006, validation_loss:0.2017, val_accuracy:0.9870\n",
      "Epoch [127/150], average_loss:0.2001, validation_loss:0.2053, val_accuracy:0.9091\n",
      "Epoch [128/150], average_loss:0.1975, validation_loss:0.2049, val_accuracy:0.9091\n",
      "Epoch [129/150], average_loss:0.2008, validation_loss:0.2047, val_accuracy:0.8701\n",
      "Epoch [130/150], average_loss:0.1992, validation_loss:0.2040, val_accuracy:0.9481\n",
      "Epoch [131/150], average_loss:0.2000, validation_loss:0.2036, val_accuracy:0.9481\n",
      "Epoch [132/150], average_loss:0.1993, validation_loss:0.2036, val_accuracy:0.9091\n",
      "Epoch [133/150], average_loss:0.2012, validation_loss:0.2024, val_accuracy:0.9091\n",
      "Epoch [134/150], average_loss:0.2004, validation_loss:0.2052, val_accuracy:0.8961\n",
      "Epoch [135/150], average_loss:0.2003, validation_loss:0.2113, val_accuracy:0.9221\n",
      "Epoch [136/150], average_loss:0.2004, validation_loss:0.2046, val_accuracy:0.9481\n",
      "Epoch [137/150], average_loss:0.1982, validation_loss:0.2024, val_accuracy:0.9481\n",
      "Epoch [138/150], average_loss:0.1985, validation_loss:0.2063, val_accuracy:0.9091\n",
      "Epoch [139/150], average_loss:0.1990, validation_loss:0.2026, val_accuracy:0.9481\n",
      "Epoch [140/150], average_loss:0.1975, validation_loss:0.2020, val_accuracy:0.9481\n",
      "Epoch [141/150], average_loss:0.1998, validation_loss:0.2070, val_accuracy:0.9091\n",
      "Epoch [142/150], average_loss:0.1994, validation_loss:0.2078, val_accuracy:0.8701\n",
      "Epoch [143/150], average_loss:0.2004, validation_loss:0.2073, val_accuracy:0.8961\n",
      "Epoch [144/150], average_loss:0.1987, validation_loss:0.2093, val_accuracy:0.8312\n",
      "Epoch [145/150], average_loss:0.1986, validation_loss:0.2088, val_accuracy:0.8961\n",
      "Epoch [146/150], average_loss:0.2000, validation_loss:0.2004, val_accuracy:0.9740\n",
      "Epoch [147/150], average_loss:0.1991, validation_loss:0.2075, val_accuracy:0.9091\n",
      "Epoch [148/150], average_loss:0.1984, validation_loss:0.2008, val_accuracy:0.9351\n",
      "Epoch [149/150], average_loss:0.1979, validation_loss:0.2024, val_accuracy:0.9481\n",
      "Epoch [150/150], average_loss:0.1992, validation_loss:0.2017, val_accuracy:0.9351\n"
     ]
    }
   ],
   "source": [
    "lh = m14(epochs=150, train_loader=train_loader, validation_loader=valid_loader)"
   ]
  },
  {
   "cell_type": "code",
   "execution_count": 14,
   "metadata": {},
   "outputs": [],
   "source": [
    "m14.model.eval()\n",
    "with torch.no_grad():\n",
    "    x_pred = np.argmax(m14.model(torch.tensor(X_test).float().to(m14.device)).cpu().detach(), axis=1)\n"
   ]
  },
  {
   "cell_type": "code",
   "execution_count": 15,
   "metadata": {},
   "outputs": [
    {
     "data": {
      "text/plain": [
       "tensor([1, 1, 1,  ..., 0, 1, 0])"
      ]
     },
     "execution_count": 15,
     "metadata": {},
     "output_type": "execute_result"
    }
   ],
   "source": [
    "x_pred"
   ]
  },
  {
   "cell_type": "code",
   "execution_count": 16,
   "metadata": {},
   "outputs": [
    {
     "data": {
      "text/plain": [
       "0.8893648716761628"
      ]
     },
     "execution_count": 16,
     "metadata": {},
     "output_type": "execute_result"
    }
   ],
   "source": [
    "f1_score(y_true=y_test, y_pred=x_pred, average=\"macro\")"
   ]
  },
  {
   "cell_type": "code",
   "execution_count": 17,
   "metadata": {},
   "outputs": [
    {
     "data": {
      "text/plain": [
       "0.9311065965583174"
      ]
     },
     "execution_count": 17,
     "metadata": {},
     "output_type": "execute_result"
    }
   ],
   "source": [
    "accuracy_score(y_true=y_test, y_pred=x_pred)"
   ]
  },
  {
   "cell_type": "code",
   "execution_count": 18,
   "metadata": {},
   "outputs": [
    {
     "data": {
      "text/plain": [
       "array([[3912,  200,   26,   97],\n",
       "       [ 334, 9998,   29,   84],\n",
       "       [  16,   31,  417,   15],\n",
       "       [ 224,   87,   10, 1256]], dtype=int64)"
      ]
     },
     "execution_count": 18,
     "metadata": {},
     "output_type": "execute_result"
    }
   ],
   "source": [
    "confusion_matrix(y_true=y_test, y_pred=x_pred)"
   ]
  },
  {
   "cell_type": "code",
   "execution_count": 20,
   "metadata": {
    "collapsed": true
   },
   "outputs": [
    {
     "name": "stderr",
     "output_type": "stream",
     "text": [
      "C:\\Users\\ghost_000\\Miniconda3\\envs\\Pytorch\\lib\\site-packages\\torch\\serialization.py:292: UserWarning: Couldn't retrieve source code for container of type Sequential. It won't be checked for correctness upon loading.\n",
      "  \"type \" + obj.__name__ + \". It won't be checked \"\n",
      "C:\\Users\\ghost_000\\Miniconda3\\envs\\Pytorch\\lib\\site-packages\\torch\\serialization.py:292: UserWarning: Couldn't retrieve source code for container of type Reshape. It won't be checked for correctness upon loading.\n",
      "  \"type \" + obj.__name__ + \". It won't be checked \"\n",
      "C:\\Users\\ghost_000\\Miniconda3\\envs\\Pytorch\\lib\\site-packages\\torch\\serialization.py:292: UserWarning: Couldn't retrieve source code for container of type Conv1d. It won't be checked for correctness upon loading.\n",
      "  \"type \" + obj.__name__ + \". It won't be checked \"\n",
      "C:\\Users\\ghost_000\\Miniconda3\\envs\\Pytorch\\lib\\site-packages\\torch\\serialization.py:292: UserWarning: Couldn't retrieve source code for container of type ReLU. It won't be checked for correctness upon loading.\n",
      "  \"type \" + obj.__name__ + \". It won't be checked \"\n",
      "C:\\Users\\ghost_000\\Miniconda3\\envs\\Pytorch\\lib\\site-packages\\torch\\serialization.py:292: UserWarning: Couldn't retrieve source code for container of type CBD1dBlock. It won't be checked for correctness upon loading.\n",
      "  \"type \" + obj.__name__ + \". It won't be checked \"\n",
      "C:\\Users\\ghost_000\\Miniconda3\\envs\\Pytorch\\lib\\site-packages\\torch\\serialization.py:292: UserWarning: Couldn't retrieve source code for container of type BatchNorm1d. It won't be checked for correctness upon loading.\n",
      "  \"type \" + obj.__name__ + \". It won't be checked \"\n",
      "C:\\Users\\ghost_000\\Miniconda3\\envs\\Pytorch\\lib\\site-packages\\torch\\serialization.py:292: UserWarning: Couldn't retrieve source code for container of type Dropout. It won't be checked for correctness upon loading.\n",
      "  \"type \" + obj.__name__ + \". It won't be checked \"\n",
      "C:\\Users\\ghost_000\\Miniconda3\\envs\\Pytorch\\lib\\site-packages\\torch\\serialization.py:292: UserWarning: Couldn't retrieve source code for container of type Flatten. It won't be checked for correctness upon loading.\n",
      "  \"type \" + obj.__name__ + \". It won't be checked \"\n",
      "C:\\Users\\ghost_000\\Miniconda3\\envs\\Pytorch\\lib\\site-packages\\torch\\serialization.py:292: UserWarning: Couldn't retrieve source code for container of type Linear. It won't be checked for correctness upon loading.\n",
      "  \"type \" + obj.__name__ + \". It won't be checked \"\n"
     ]
    }
   ],
   "source": [
    "#torch.save(m14.model, \"models_and_losses/CNN-m.III-Conv1-BN-Drop-0.3_ReLU_lr-{1e-3,1e-4,1e-5}_bs-512.pt\")"
   ]
  },
  {
   "cell_type": "markdown",
   "metadata": {},
   "source": [
    "# Retrain model 12"
   ]
  },
  {
   "cell_type": "code",
   "execution_count": 21,
   "metadata": {},
   "outputs": [],
   "source": [
    "CNN_15 = nn.Sequential(\n",
    "            layers.Reshape(out_shape=(1,160)),\n",
    "            nn.Conv1d(in_channels=1, out_channels=16, kernel_size=6, stride=2, padding=0, bias=False), # n*1*160 -> n*16*78\n",
    "            nn.ReLU(inplace=True),\n",
    "            layers.CBD1dBlock(in_channels=16, out_channels=32, kernel_size=4, stride=2, bias=False, activation=nn.ReLU(), dropout=0.3),#n*16*78->n*32*38\n",
    "            layers.CBD1dBlock(in_channels=32, out_channels=64, kernel_size=4, stride=2, bias=False, activation=nn.ReLU(), dropout=0.3),#n*32*38->n*64*18\n",
    "            layers.Flatten(out_features=64*18),\n",
    "            nn.Linear(in_features=64*18, out_features=256),\n",
    "            nn.ReLU(inplace=True),\n",
    "            nn.Dropout(p=0.3),\n",
    "            nn.Linear(in_features=256, out_features=4)\n",
    ")"
   ]
  },
  {
   "cell_type": "code",
   "execution_count": 22,
   "metadata": {},
   "outputs": [],
   "source": [
    "optimizer15= torch.optim.Adam(CNN_15.parameters(), lr=1e-3)"
   ]
  },
  {
   "cell_type": "code",
   "execution_count": 23,
   "metadata": {},
   "outputs": [],
   "source": [
    "train_loader = torch.utils.data.DataLoader(dataset = train, batch_size=512, shuffle=True)\n",
    "valid_loader = torch.utils.data.DataLoader(dataset = valid, batch_size=512, shuffle=True)"
   ]
  },
  {
   "cell_type": "code",
   "execution_count": 24,
   "metadata": {},
   "outputs": [
    {
     "name": "stdout",
     "output_type": "stream",
     "text": [
      "cuda:0\n"
     ]
    }
   ],
   "source": [
    "m15 = Trainer(\n",
    "        model=CNN_15,\n",
    "        optimizer=optimizer15,\n",
    "        loss_function=nn.CrossEntropyLoss(),\n",
    "        scheduler=torch.optim.lr_scheduler.MultiStepLR(optimizer15, milestones=[20], gamma=0.1),\n",
    "        tensorboard=True,\n",
    "        model_name=\"CNN-m.III-Conv1-BN-Drop-0.3_ReLU_lr-{1e-3,1e-4}_bs-512\",\n",
    "        verbose=True\n",
    "        )"
   ]
  },
  {
   "cell_type": "code",
   "execution_count": 25,
   "metadata": {
    "collapsed": true
   },
   "outputs": [
    {
     "name": "stdout",
     "output_type": "stream",
     "text": [
      "Epoch [1/200], average_loss:0.6071, validation_loss:0.4563, val_accuracy:0.8052\n",
      "Epoch [2/200], average_loss:0.4437, validation_loss:0.3644, val_accuracy:0.8571\n",
      "Epoch [3/200], average_loss:0.3947, validation_loss:0.3306, val_accuracy:0.8701\n",
      "Epoch [4/200], average_loss:0.3581, validation_loss:0.3570, val_accuracy:0.8831\n",
      "Epoch [5/200], average_loss:0.3340, validation_loss:0.3702, val_accuracy:0.9351\n",
      "Epoch [6/200], average_loss:0.3237, validation_loss:0.2840, val_accuracy:0.8831\n",
      "Epoch [7/200], average_loss:0.3064, validation_loss:0.2709, val_accuracy:0.8961\n",
      "Epoch [8/200], average_loss:0.3040, validation_loss:0.2799, val_accuracy:0.8831\n",
      "Epoch [9/200], average_loss:0.2935, validation_loss:0.2877, val_accuracy:0.8831\n",
      "Epoch [10/200], average_loss:0.2888, validation_loss:0.2802, val_accuracy:0.9221\n",
      "Epoch [11/200], average_loss:0.2860, validation_loss:0.2651, val_accuracy:0.8831\n",
      "Epoch [12/200], average_loss:0.2747, validation_loss:0.2604, val_accuracy:0.8701\n",
      "Epoch [13/200], average_loss:0.2715, validation_loss:0.2542, val_accuracy:0.8701\n",
      "Epoch [14/200], average_loss:0.2694, validation_loss:0.2440, val_accuracy:0.9351\n",
      "Epoch [15/200], average_loss:0.2630, validation_loss:0.2434, val_accuracy:0.8961\n",
      "Epoch [16/200], average_loss:0.2630, validation_loss:0.2619, val_accuracy:0.9221\n",
      "Epoch [17/200], average_loss:0.2693, validation_loss:0.2652, val_accuracy:0.8831\n",
      "Epoch [18/200], average_loss:0.2599, validation_loss:0.2709, val_accuracy:0.9351\n",
      "Epoch [19/200], average_loss:0.2651, validation_loss:0.2444, val_accuracy:0.8701\n",
      "Epoch [20/200], average_loss:0.2544, validation_loss:0.2346, val_accuracy:0.8571\n",
      "Epoch [21/200], average_loss:0.2372, validation_loss:0.2304, val_accuracy:0.8701\n",
      "Epoch [22/200], average_loss:0.2343, validation_loss:0.2262, val_accuracy:0.8831\n",
      "Epoch [23/200], average_loss:0.2332, validation_loss:0.2273, val_accuracy:0.9351\n",
      "Epoch [24/200], average_loss:0.2313, validation_loss:0.2232, val_accuracy:0.9481\n",
      "Epoch [25/200], average_loss:0.2304, validation_loss:0.2286, val_accuracy:0.8312\n",
      "Epoch [26/200], average_loss:0.2290, validation_loss:0.2326, val_accuracy:0.9091\n",
      "Epoch [27/200], average_loss:0.2275, validation_loss:0.2220, val_accuracy:0.9091\n",
      "Epoch [28/200], average_loss:0.2287, validation_loss:0.2185, val_accuracy:0.9870\n",
      "Epoch [29/200], average_loss:0.2270, validation_loss:0.2158, val_accuracy:0.9740\n",
      "Epoch [30/200], average_loss:0.2263, validation_loss:0.2226, val_accuracy:0.8831\n",
      "Epoch [31/200], average_loss:0.2249, validation_loss:0.2175, val_accuracy:0.9351\n",
      "Epoch [32/200], average_loss:0.2262, validation_loss:0.2251, val_accuracy:0.9221\n",
      "Epoch [33/200], average_loss:0.2234, validation_loss:0.2334, val_accuracy:0.8831\n",
      "Epoch [34/200], average_loss:0.2261, validation_loss:0.2282, val_accuracy:0.8182\n",
      "Epoch [35/200], average_loss:0.2227, validation_loss:0.2225, val_accuracy:0.8831\n",
      "Epoch [36/200], average_loss:0.2240, validation_loss:0.2229, val_accuracy:0.8831\n",
      "Epoch [37/200], average_loss:0.2232, validation_loss:0.2216, val_accuracy:0.8701\n",
      "Epoch [38/200], average_loss:0.2214, validation_loss:0.2234, val_accuracy:0.9091\n",
      "Epoch [39/200], average_loss:0.2233, validation_loss:0.2245, val_accuracy:0.9351\n",
      "Epoch [40/200], average_loss:0.2214, validation_loss:0.2279, val_accuracy:0.8701\n",
      "Epoch [41/200], average_loss:0.2192, validation_loss:0.2190, val_accuracy:0.9221\n",
      "Epoch [42/200], average_loss:0.2191, validation_loss:0.2135, val_accuracy:0.9740\n",
      "Epoch [43/200], average_loss:0.2215, validation_loss:0.2315, val_accuracy:0.9091\n",
      "Epoch [44/200], average_loss:0.2199, validation_loss:0.2182, val_accuracy:0.9351\n",
      "Epoch [45/200], average_loss:0.2207, validation_loss:0.2158, val_accuracy:0.9221\n",
      "Epoch [46/200], average_loss:0.2192, validation_loss:0.2156, val_accuracy:0.9221\n",
      "Epoch [47/200], average_loss:0.2192, validation_loss:0.2290, val_accuracy:0.9091\n",
      "Epoch [48/200], average_loss:0.2218, validation_loss:0.2157, val_accuracy:0.9351\n",
      "Epoch [49/200], average_loss:0.2166, validation_loss:0.2135, val_accuracy:0.8831\n",
      "Epoch [50/200], average_loss:0.2180, validation_loss:0.2145, val_accuracy:0.9351\n",
      "Epoch [51/200], average_loss:0.2167, validation_loss:0.2133, val_accuracy:0.9221\n",
      "Epoch [52/200], average_loss:0.2176, validation_loss:0.2158, val_accuracy:0.9481\n",
      "Epoch [53/200], average_loss:0.2139, validation_loss:0.2152, val_accuracy:0.9091\n",
      "Epoch [54/200], average_loss:0.2189, validation_loss:0.2086, val_accuracy:0.9481\n",
      "Epoch [55/200], average_loss:0.2138, validation_loss:0.2201, val_accuracy:0.9091\n",
      "Epoch [56/200], average_loss:0.2156, validation_loss:0.2112, val_accuracy:0.8831\n",
      "Epoch [57/200], average_loss:0.2140, validation_loss:0.2203, val_accuracy:0.8961\n",
      "Epoch [58/200], average_loss:0.2148, validation_loss:0.2205, val_accuracy:0.8571\n",
      "Epoch [59/200], average_loss:0.2138, validation_loss:0.2160, val_accuracy:0.9481\n",
      "Epoch [60/200], average_loss:0.2162, validation_loss:0.2169, val_accuracy:0.9091\n",
      "Epoch [61/200], average_loss:0.2111, validation_loss:0.2107, val_accuracy:0.9610\n",
      "Epoch [62/200], average_loss:0.2102, validation_loss:0.2159, val_accuracy:0.8831\n",
      "Epoch [63/200], average_loss:0.2115, validation_loss:0.2451, val_accuracy:0.9481\n",
      "Epoch [64/200], average_loss:0.2116, validation_loss:0.2169, val_accuracy:0.8701\n",
      "Epoch [65/200], average_loss:0.2080, validation_loss:0.2092, val_accuracy:0.9481\n",
      "Epoch [66/200], average_loss:0.2115, validation_loss:0.2085, val_accuracy:0.9481\n",
      "Epoch [67/200], average_loss:0.2110, validation_loss:0.2108, val_accuracy:0.9091\n",
      "Epoch [68/200], average_loss:0.2083, validation_loss:0.2052, val_accuracy:0.9351\n",
      "Epoch [69/200], average_loss:0.2077, validation_loss:0.2211, val_accuracy:0.9091\n",
      "Epoch [70/200], average_loss:0.2133, validation_loss:0.2164, val_accuracy:0.8961\n",
      "Epoch [71/200], average_loss:0.2108, validation_loss:0.2078, val_accuracy:0.9740\n",
      "Epoch [72/200], average_loss:0.2102, validation_loss:0.2123, val_accuracy:0.9351\n",
      "Epoch [73/200], average_loss:0.2074, validation_loss:0.2056, val_accuracy:0.9481\n",
      "Epoch [74/200], average_loss:0.2081, validation_loss:0.2165, val_accuracy:0.8961\n",
      "Epoch [75/200], average_loss:0.2059, validation_loss:0.2124, val_accuracy:0.8961\n",
      "Epoch [76/200], average_loss:0.2071, validation_loss:0.2083, val_accuracy:0.9351\n",
      "Epoch [77/200], average_loss:0.2058, validation_loss:0.2084, val_accuracy:0.9091\n",
      "Epoch [78/200], average_loss:0.2059, validation_loss:0.2060, val_accuracy:0.9221\n",
      "Epoch [79/200], average_loss:0.2055, validation_loss:0.2048, val_accuracy:0.9091\n",
      "Epoch [80/200], average_loss:0.2084, validation_loss:0.2114, val_accuracy:0.9221\n",
      "Epoch [81/200], average_loss:0.2028, validation_loss:0.2030, val_accuracy:0.9351\n",
      "Epoch [82/200], average_loss:0.2052, validation_loss:0.2049, val_accuracy:0.8961\n",
      "Epoch [83/200], average_loss:0.2057, validation_loss:0.2060, val_accuracy:0.9221\n",
      "Epoch [84/200], average_loss:0.2038, validation_loss:0.2174, val_accuracy:0.9091\n",
      "Epoch [85/200], average_loss:0.2048, validation_loss:0.2029, val_accuracy:0.9481\n",
      "Epoch [86/200], average_loss:0.2018, validation_loss:0.2019, val_accuracy:0.9481\n",
      "Epoch [87/200], average_loss:0.2027, validation_loss:0.2138, val_accuracy:0.8831\n",
      "Epoch [88/200], average_loss:0.2038, validation_loss:0.2066, val_accuracy:0.9481\n",
      "Epoch [89/200], average_loss:0.2025, validation_loss:0.2223, val_accuracy:0.9221\n",
      "Epoch [90/200], average_loss:0.2015, validation_loss:0.2105, val_accuracy:0.8961\n",
      "Epoch [91/200], average_loss:0.2024, validation_loss:0.2069, val_accuracy:0.9221\n",
      "Epoch [92/200], average_loss:0.2027, validation_loss:0.2043, val_accuracy:0.9351\n",
      "Epoch [93/200], average_loss:0.1993, validation_loss:0.2009, val_accuracy:0.9610\n",
      "Epoch [94/200], average_loss:0.1982, validation_loss:0.2088, val_accuracy:0.9351\n",
      "Epoch [95/200], average_loss:0.1994, validation_loss:0.2034, val_accuracy:0.9351\n",
      "Epoch [96/200], average_loss:0.2017, validation_loss:0.2055, val_accuracy:0.8961\n",
      "Epoch [97/200], average_loss:0.2018, validation_loss:0.2019, val_accuracy:0.9610\n",
      "Epoch [98/200], average_loss:0.1992, validation_loss:0.2057, val_accuracy:0.8831\n",
      "Epoch [99/200], average_loss:0.2009, validation_loss:0.2093, val_accuracy:0.8831\n",
      "Epoch [100/200], average_loss:0.1972, validation_loss:0.2042, val_accuracy:0.8961\n",
      "Epoch [101/200], average_loss:0.1992, validation_loss:0.2036, val_accuracy:0.9091\n",
      "Epoch [102/200], average_loss:0.1967, validation_loss:0.2041, val_accuracy:0.9221\n"
     ]
    },
    {
     "name": "stdout",
     "output_type": "stream",
     "text": [
      "Epoch [103/200], average_loss:0.1976, validation_loss:0.2023, val_accuracy:0.9221\n",
      "Epoch [104/200], average_loss:0.1980, validation_loss:0.2044, val_accuracy:0.9091\n",
      "Epoch [105/200], average_loss:0.1969, validation_loss:0.2107, val_accuracy:0.8701\n",
      "Epoch [106/200], average_loss:0.1970, validation_loss:0.1954, val_accuracy:0.9610\n",
      "Epoch [107/200], average_loss:0.1943, validation_loss:0.2038, val_accuracy:0.8961\n",
      "Epoch [108/200], average_loss:0.1978, validation_loss:0.2042, val_accuracy:0.8831\n",
      "Epoch [109/200], average_loss:0.1959, validation_loss:0.2108, val_accuracy:0.8831\n",
      "Epoch [110/200], average_loss:0.1947, validation_loss:0.2037, val_accuracy:0.8961\n",
      "Epoch [111/200], average_loss:0.1945, validation_loss:0.2213, val_accuracy:0.9351\n",
      "Epoch [112/200], average_loss:0.1938, validation_loss:0.1999, val_accuracy:0.9481\n",
      "Epoch [113/200], average_loss:0.1938, validation_loss:0.2100, val_accuracy:0.8701\n",
      "Epoch [114/200], average_loss:0.1947, validation_loss:0.2006, val_accuracy:0.9091\n",
      "Epoch [115/200], average_loss:0.1941, validation_loss:0.2016, val_accuracy:0.9221\n",
      "Epoch [116/200], average_loss:0.1930, validation_loss:0.1985, val_accuracy:0.9351\n",
      "Epoch [117/200], average_loss:0.1930, validation_loss:0.2026, val_accuracy:1.0000\n",
      "Epoch [118/200], average_loss:0.1946, validation_loss:0.2078, val_accuracy:0.9351\n",
      "Epoch [119/200], average_loss:0.1934, validation_loss:0.2069, val_accuracy:0.8961\n",
      "Epoch [120/200], average_loss:0.1910, validation_loss:0.2037, val_accuracy:0.9351\n",
      "Epoch [121/200], average_loss:0.1937, validation_loss:0.1998, val_accuracy:0.9351\n",
      "Epoch [122/200], average_loss:0.1916, validation_loss:0.1989, val_accuracy:0.9740\n",
      "Epoch [123/200], average_loss:0.1896, validation_loss:0.1962, val_accuracy:0.9610\n",
      "Epoch [124/200], average_loss:0.1912, validation_loss:0.2023, val_accuracy:0.8571\n",
      "Epoch [125/200], average_loss:0.1913, validation_loss:0.1953, val_accuracy:0.9610\n",
      "Epoch [126/200], average_loss:0.1918, validation_loss:0.1982, val_accuracy:0.9610\n",
      "Epoch [127/200], average_loss:0.1886, validation_loss:0.1967, val_accuracy:0.9481\n",
      "Epoch [128/200], average_loss:0.1891, validation_loss:0.1988, val_accuracy:0.8961\n",
      "Epoch [129/200], average_loss:0.1907, validation_loss:0.1959, val_accuracy:0.9221\n",
      "Epoch [130/200], average_loss:0.1904, validation_loss:0.2018, val_accuracy:0.9351\n",
      "Epoch [131/200], average_loss:0.1883, validation_loss:0.2018, val_accuracy:0.8961\n",
      "Epoch [132/200], average_loss:0.1860, validation_loss:0.1993, val_accuracy:0.9610\n",
      "Epoch [133/200], average_loss:0.1903, validation_loss:0.1945, val_accuracy:0.9610\n",
      "Epoch [134/200], average_loss:0.1885, validation_loss:0.2020, val_accuracy:0.9481\n",
      "Epoch [135/200], average_loss:0.1866, validation_loss:0.1962, val_accuracy:0.9351\n",
      "Epoch [136/200], average_loss:0.1871, validation_loss:0.2010, val_accuracy:0.9351\n",
      "Epoch [137/200], average_loss:0.1861, validation_loss:0.2074, val_accuracy:0.9481\n",
      "Epoch [138/200], average_loss:0.1892, validation_loss:0.1941, val_accuracy:0.9481\n",
      "Epoch [139/200], average_loss:0.1884, validation_loss:0.1998, val_accuracy:0.9091\n",
      "Epoch [140/200], average_loss:0.1891, validation_loss:0.1982, val_accuracy:0.9481\n",
      "Epoch [141/200], average_loss:0.1863, validation_loss:0.1927, val_accuracy:0.9610\n",
      "Epoch [142/200], average_loss:0.1858, validation_loss:0.1969, val_accuracy:0.9481\n",
      "Epoch [143/200], average_loss:0.1860, validation_loss:0.1934, val_accuracy:0.9740\n",
      "Epoch [144/200], average_loss:0.1859, validation_loss:0.1980, val_accuracy:0.9351\n",
      "Epoch [145/200], average_loss:0.1858, validation_loss:0.1960, val_accuracy:0.9091\n",
      "Epoch [146/200], average_loss:0.1854, validation_loss:0.2024, val_accuracy:0.8701\n",
      "Epoch [147/200], average_loss:0.1850, validation_loss:0.1955, val_accuracy:0.9481\n",
      "Epoch [148/200], average_loss:0.1859, validation_loss:0.2101, val_accuracy:0.9221\n",
      "Epoch [149/200], average_loss:0.1850, validation_loss:0.1976, val_accuracy:0.8961\n",
      "Epoch [150/200], average_loss:0.1828, validation_loss:0.2021, val_accuracy:0.9091\n",
      "Epoch [151/200], average_loss:0.1841, validation_loss:0.1940, val_accuracy:0.9221\n",
      "Epoch [152/200], average_loss:0.1813, validation_loss:0.2035, val_accuracy:0.9221\n",
      "Epoch [153/200], average_loss:0.1830, validation_loss:0.1998, val_accuracy:0.9221\n",
      "Epoch [154/200], average_loss:0.1845, validation_loss:0.1918, val_accuracy:0.9610\n",
      "Epoch [155/200], average_loss:0.1829, validation_loss:0.1972, val_accuracy:0.8701\n",
      "Epoch [156/200], average_loss:0.1840, validation_loss:0.2091, val_accuracy:0.8571\n",
      "Epoch [157/200], average_loss:0.1832, validation_loss:0.1963, val_accuracy:0.9091\n",
      "Epoch [158/200], average_loss:0.1824, validation_loss:0.2006, val_accuracy:0.9091\n",
      "Epoch [159/200], average_loss:0.1842, validation_loss:0.1962, val_accuracy:0.9221\n",
      "Epoch [160/200], average_loss:0.1826, validation_loss:0.1940, val_accuracy:0.9610\n",
      "Epoch [161/200], average_loss:0.1819, validation_loss:0.1987, val_accuracy:0.9221\n",
      "Epoch [162/200], average_loss:0.1806, validation_loss:0.1980, val_accuracy:0.8961\n",
      "Epoch [163/200], average_loss:0.1791, validation_loss:0.1986, val_accuracy:0.9221\n",
      "Epoch [164/200], average_loss:0.1802, validation_loss:0.1979, val_accuracy:0.8961\n",
      "Epoch [165/200], average_loss:0.1790, validation_loss:0.2077, val_accuracy:0.9221\n",
      "Epoch [166/200], average_loss:0.1820, validation_loss:0.1963, val_accuracy:0.9610\n",
      "Epoch [167/200], average_loss:0.1791, validation_loss:0.1980, val_accuracy:0.9221\n",
      "Epoch [168/200], average_loss:0.1812, validation_loss:0.1995, val_accuracy:0.9351\n",
      "Epoch [169/200], average_loss:0.1795, validation_loss:0.1945, val_accuracy:0.9091\n",
      "Epoch [170/200], average_loss:0.1804, validation_loss:0.1997, val_accuracy:0.9221\n",
      "Epoch [171/200], average_loss:0.1813, validation_loss:0.1973, val_accuracy:0.9610\n",
      "Epoch [172/200], average_loss:0.1802, validation_loss:0.1918, val_accuracy:0.9351\n",
      "Epoch [173/200], average_loss:0.1790, validation_loss:0.2067, val_accuracy:0.9610\n",
      "Epoch [174/200], average_loss:0.1779, validation_loss:0.1949, val_accuracy:0.9610\n",
      "Epoch [175/200], average_loss:0.1793, validation_loss:0.2030, val_accuracy:0.9221\n",
      "Epoch [176/200], average_loss:0.1783, validation_loss:0.1979, val_accuracy:0.9221\n",
      "Epoch [177/200], average_loss:0.1780, validation_loss:0.2068, val_accuracy:0.8961\n",
      "Epoch [178/200], average_loss:0.1762, validation_loss:0.1964, val_accuracy:0.9221\n",
      "Epoch [179/200], average_loss:0.1792, validation_loss:0.2048, val_accuracy:0.9610\n",
      "Epoch [180/200], average_loss:0.1782, validation_loss:0.1925, val_accuracy:0.9610\n",
      "Epoch [181/200], average_loss:0.1775, validation_loss:0.1930, val_accuracy:0.9481\n",
      "Epoch [182/200], average_loss:0.1761, validation_loss:0.1931, val_accuracy:0.9481\n",
      "Epoch [183/200], average_loss:0.1760, validation_loss:0.1958, val_accuracy:0.8831\n",
      "Epoch [184/200], average_loss:0.1771, validation_loss:0.2042, val_accuracy:0.8312\n",
      "Epoch [185/200], average_loss:0.1772, validation_loss:0.1935, val_accuracy:0.9351\n",
      "Epoch [186/200], average_loss:0.1757, validation_loss:0.1959, val_accuracy:0.8961\n",
      "Epoch [187/200], average_loss:0.1772, validation_loss:0.1972, val_accuracy:0.9610\n",
      "Epoch [188/200], average_loss:0.1758, validation_loss:0.1979, val_accuracy:0.9610\n",
      "Epoch [189/200], average_loss:0.1757, validation_loss:0.1992, val_accuracy:0.9091\n",
      "Epoch [190/200], average_loss:0.1753, validation_loss:0.1951, val_accuracy:0.9610\n",
      "Epoch [191/200], average_loss:0.1753, validation_loss:0.1956, val_accuracy:0.9481\n",
      "Epoch [192/200], average_loss:0.1734, validation_loss:0.2054, val_accuracy:0.8312\n",
      "Epoch [193/200], average_loss:0.1739, validation_loss:0.1958, val_accuracy:0.8961\n",
      "Epoch [194/200], average_loss:0.1717, validation_loss:0.1955, val_accuracy:0.9091\n",
      "Epoch [195/200], average_loss:0.1743, validation_loss:0.2002, val_accuracy:0.9610\n",
      "Epoch [196/200], average_loss:0.1767, validation_loss:0.1995, val_accuracy:0.8961\n",
      "Epoch [197/200], average_loss:0.1740, validation_loss:0.1959, val_accuracy:0.9481\n",
      "Epoch [198/200], average_loss:0.1734, validation_loss:0.1957, val_accuracy:0.9481\n",
      "Epoch [199/200], average_loss:0.1740, validation_loss:0.2055, val_accuracy:0.8831\n",
      "Epoch [200/200], average_loss:0.1728, validation_loss:0.1913, val_accuracy:0.9481\n"
     ]
    }
   ],
   "source": [
    "lh = m15(epochs=200, train_loader=train_loader, validation_loader=valid_loader)"
   ]
  },
  {
   "cell_type": "code",
   "execution_count": 26,
   "metadata": {},
   "outputs": [],
   "source": [
    "m15.model.eval()\n",
    "with torch.no_grad():\n",
    "    x_pred = np.argmax(m15.model(torch.tensor(X_test).float().to(m15.device)).cpu().detach(), axis=1)\n"
   ]
  },
  {
   "cell_type": "code",
   "execution_count": 27,
   "metadata": {},
   "outputs": [
    {
     "data": {
      "text/plain": [
       "tensor([1, 1, 1,  ..., 0, 1, 0])"
      ]
     },
     "execution_count": 27,
     "metadata": {},
     "output_type": "execute_result"
    }
   ],
   "source": [
    "x_pred"
   ]
  },
  {
   "cell_type": "code",
   "execution_count": 28,
   "metadata": {},
   "outputs": [
    {
     "data": {
      "text/plain": [
       "0.8906257967458273"
      ]
     },
     "execution_count": 28,
     "metadata": {},
     "output_type": "execute_result"
    }
   ],
   "source": [
    "f1_score(y_true=y_test, y_pred=x_pred, average=\"macro\")"
   ]
  },
  {
   "cell_type": "code",
   "execution_count": 29,
   "metadata": {},
   "outputs": [
    {
     "data": {
      "text/plain": [
       "0.933914913957935"
      ]
     },
     "execution_count": 29,
     "metadata": {},
     "output_type": "execute_result"
    }
   ],
   "source": [
    "accuracy_score(y_true=y_test, y_pred=x_pred)"
   ]
  },
  {
   "cell_type": "code",
   "execution_count": 30,
   "metadata": {},
   "outputs": [
    {
     "data": {
      "text/plain": [
       "array([[ 3942,   147,    30,   116],\n",
       "       [  321, 10002,    28,    94],\n",
       "       [   14,    32,   416,    17],\n",
       "       [  210,    90,     7,  1270]], dtype=int64)"
      ]
     },
     "execution_count": 30,
     "metadata": {},
     "output_type": "execute_result"
    }
   ],
   "source": [
    "confusion_matrix(y_true=y_test, y_pred=x_pred)"
   ]
  },
  {
   "cell_type": "code",
   "execution_count": 31,
   "metadata": {},
   "outputs": [],
   "source": [
    "#torch.save(m15.model, \"models_and_losses/CNN-m.III-Conv1-BN-Drop-0.3_ReLU_lr-{1e-3,1e-4}_bs-512_epochs_200_Jan30_13-36-38.pt\")"
   ]
  },
  {
   "cell_type": "code",
   "execution_count": 32,
   "metadata": {
    "collapsed": true
   },
   "outputs": [
    {
     "name": "stdout",
     "output_type": "stream",
     "text": [
      "Epoch [201/250], average_loss:0.1743, validation_loss:0.1956, val_accuracy:0.8961\n",
      "Epoch [202/250], average_loss:0.1720, validation_loss:0.1987, val_accuracy:0.9091\n",
      "Epoch [203/250], average_loss:0.1731, validation_loss:0.1949, val_accuracy:0.9481\n",
      "Epoch [204/250], average_loss:0.1722, validation_loss:0.1983, val_accuracy:0.9091\n",
      "Epoch [205/250], average_loss:0.1725, validation_loss:0.1986, val_accuracy:0.9091\n",
      "Epoch [206/250], average_loss:0.1721, validation_loss:0.1934, val_accuracy:0.9221\n",
      "Epoch [207/250], average_loss:0.1712, validation_loss:0.1981, val_accuracy:0.9610\n",
      "Epoch [208/250], average_loss:0.1699, validation_loss:0.1913, val_accuracy:0.9740\n",
      "Epoch [209/250], average_loss:0.1700, validation_loss:0.1894, val_accuracy:0.9610\n",
      "Epoch [210/250], average_loss:0.1698, validation_loss:0.1977, val_accuracy:0.9221\n",
      "Epoch [211/250], average_loss:0.1705, validation_loss:0.2088, val_accuracy:0.8961\n",
      "Epoch [212/250], average_loss:0.1723, validation_loss:0.2033, val_accuracy:0.9221\n",
      "Epoch [213/250], average_loss:0.1688, validation_loss:0.1931, val_accuracy:0.9221\n",
      "Epoch [214/250], average_loss:0.1719, validation_loss:0.2036, val_accuracy:0.9221\n",
      "Epoch [215/250], average_loss:0.1695, validation_loss:0.2090, val_accuracy:0.9221\n",
      "Epoch [216/250], average_loss:0.1690, validation_loss:0.1952, val_accuracy:0.9221\n",
      "Epoch [217/250], average_loss:0.1683, validation_loss:0.1931, val_accuracy:0.9481\n",
      "Epoch [218/250], average_loss:0.1699, validation_loss:0.2000, val_accuracy:0.9221\n",
      "Epoch [219/250], average_loss:0.1704, validation_loss:0.1945, val_accuracy:0.9481\n",
      "Epoch [220/250], average_loss:0.1680, validation_loss:0.1972, val_accuracy:0.9091\n",
      "Epoch [221/250], average_loss:0.1678, validation_loss:0.2022, val_accuracy:0.9481\n",
      "Epoch [222/250], average_loss:0.1672, validation_loss:0.1940, val_accuracy:0.9351\n",
      "Epoch [223/250], average_loss:0.1687, validation_loss:0.1955, val_accuracy:0.9740\n",
      "Epoch [224/250], average_loss:0.1680, validation_loss:0.2057, val_accuracy:0.9351\n",
      "Epoch [225/250], average_loss:0.1692, validation_loss:0.1942, val_accuracy:0.9221\n",
      "Epoch [226/250], average_loss:0.1696, validation_loss:0.1941, val_accuracy:0.9610\n",
      "Epoch [227/250], average_loss:0.1674, validation_loss:0.1971, val_accuracy:0.9481\n",
      "Epoch [228/250], average_loss:0.1643, validation_loss:0.1965, val_accuracy:0.9091\n",
      "Epoch [229/250], average_loss:0.1655, validation_loss:0.1955, val_accuracy:0.9221\n",
      "Epoch [230/250], average_loss:0.1663, validation_loss:0.2000, val_accuracy:0.9740\n",
      "Epoch [231/250], average_loss:0.1676, validation_loss:0.2008, val_accuracy:0.9091\n",
      "Epoch [232/250], average_loss:0.1663, validation_loss:0.2038, val_accuracy:0.9610\n",
      "Epoch [233/250], average_loss:0.1673, validation_loss:0.1942, val_accuracy:0.9351\n",
      "Epoch [234/250], average_loss:0.1687, validation_loss:0.1978, val_accuracy:0.9481\n",
      "Epoch [235/250], average_loss:0.1636, validation_loss:0.1888, val_accuracy:0.9610\n",
      "Epoch [236/250], average_loss:0.1649, validation_loss:0.1925, val_accuracy:0.9351\n",
      "Epoch [237/250], average_loss:0.1663, validation_loss:0.2011, val_accuracy:0.9221\n",
      "Epoch [238/250], average_loss:0.1648, validation_loss:0.1968, val_accuracy:0.9091\n",
      "Epoch [239/250], average_loss:0.1661, validation_loss:0.1908, val_accuracy:0.9740\n",
      "Epoch [240/250], average_loss:0.1682, validation_loss:0.2200, val_accuracy:0.8701\n",
      "Epoch [241/250], average_loss:0.1643, validation_loss:0.2008, val_accuracy:0.9351\n",
      "Epoch [242/250], average_loss:0.1655, validation_loss:0.1928, val_accuracy:0.9351\n",
      "Epoch [243/250], average_loss:0.1654, validation_loss:0.2052, val_accuracy:0.9610\n",
      "Epoch [244/250], average_loss:0.1629, validation_loss:0.1906, val_accuracy:0.9351\n",
      "Epoch [245/250], average_loss:0.1663, validation_loss:0.1995, val_accuracy:0.9351\n",
      "Epoch [246/250], average_loss:0.1656, validation_loss:0.1990, val_accuracy:0.9740\n",
      "Epoch [247/250], average_loss:0.1644, validation_loss:0.1959, val_accuracy:0.9351\n",
      "Epoch [248/250], average_loss:0.1635, validation_loss:0.1972, val_accuracy:0.8961\n",
      "Epoch [249/250], average_loss:0.1644, validation_loss:0.1921, val_accuracy:0.9481\n",
      "Epoch [250/250], average_loss:0.1665, validation_loss:0.1898, val_accuracy:0.9481\n"
     ]
    }
   ],
   "source": [
    "lh = m15(epochs=range(200,250), train_loader=train_loader, validation_loader=valid_loader)"
   ]
  },
  {
   "cell_type": "code",
   "execution_count": 33,
   "metadata": {},
   "outputs": [],
   "source": [
    "m15.model.eval()\n",
    "with torch.no_grad():\n",
    "    x_pred = np.argmax(m15.model(torch.tensor(X_test).float().to(m15.device)).cpu().detach(), axis=1)\n"
   ]
  },
  {
   "cell_type": "code",
   "execution_count": 34,
   "metadata": {},
   "outputs": [
    {
     "data": {
      "text/plain": [
       "tensor([1, 1, 1,  ..., 0, 1, 0])"
      ]
     },
     "execution_count": 34,
     "metadata": {},
     "output_type": "execute_result"
    }
   ],
   "source": [
    "x_pred"
   ]
  },
  {
   "cell_type": "code",
   "execution_count": 35,
   "metadata": {},
   "outputs": [
    {
     "data": {
      "text/plain": [
       "0.8896463543673009"
      ]
     },
     "execution_count": 35,
     "metadata": {},
     "output_type": "execute_result"
    }
   ],
   "source": [
    "f1_score(y_true=y_test, y_pred=x_pred, average=\"macro\")"
   ]
  },
  {
   "cell_type": "code",
   "execution_count": 36,
   "metadata": {},
   "outputs": [
    {
     "data": {
      "text/plain": [
       "0.9343331739961759"
      ]
     },
     "execution_count": 36,
     "metadata": {},
     "output_type": "execute_result"
    }
   ],
   "source": [
    "accuracy_score(y_true=y_test, y_pred=x_pred)"
   ]
  },
  {
   "cell_type": "code",
   "execution_count": 37,
   "metadata": {},
   "outputs": [
    {
     "data": {
      "text/plain": [
       "array([[ 3928,   175,    29,   103],\n",
       "       [  283, 10032,    35,    95],\n",
       "       [   16,    26,   418,    19],\n",
       "       [  218,    92,     8,  1259]], dtype=int64)"
      ]
     },
     "execution_count": 37,
     "metadata": {},
     "output_type": "execute_result"
    }
   ],
   "source": [
    "confusion_matrix(y_true=y_test, y_pred=x_pred)"
   ]
  },
  {
   "cell_type": "code",
   "execution_count": 38,
   "metadata": {},
   "outputs": [],
   "source": [
    "#torch.save(m15.model, \"models_and_losses/CNN-m.III-Conv1-BN-Drop-0.3_ReLU_lr-{1e-3,1e-4}_bs-512_epochs_250_Jan30_13-36-38.pt\")"
   ]
  },
  {
   "cell_type": "markdown",
   "metadata": {},
   "source": [
    "# last test with elu"
   ]
  },
  {
   "cell_type": "code",
   "execution_count": 39,
   "metadata": {},
   "outputs": [],
   "source": [
    "CNN_16 = nn.Sequential(\n",
    "            layers.Reshape(out_shape=(1,160)),\n",
    "            nn.Conv1d(in_channels=1, out_channels=16, kernel_size=6, stride=2, padding=0, bias=False), # n*1*160 -> n*16*78\n",
    "            nn.ELU(inplace=True),\n",
    "            layers.CBD1dBlock(in_channels=16, out_channels=32, kernel_size=4, stride=2, bias=False, activation=nn.ELU(), dropout=0.3),#n*16*78->n*32*38\n",
    "            layers.CBD1dBlock(in_channels=32, out_channels=64, kernel_size=4, stride=2, bias=False, activation=nn.ELU(), dropout=0.3),#n*32*38->n*64*18\n",
    "            layers.Flatten(out_features=64*18),\n",
    "            nn.Linear(in_features=64*18, out_features=256),\n",
    "            nn.ELU(inplace=True),\n",
    "            nn.Dropout(p=0.3),\n",
    "            nn.Linear(in_features=256, out_features=4)\n",
    ")"
   ]
  },
  {
   "cell_type": "code",
   "execution_count": 40,
   "metadata": {},
   "outputs": [],
   "source": [
    "optimizer16= torch.optim.Adam(CNN_16.parameters(), lr=1e-3)"
   ]
  },
  {
   "cell_type": "code",
   "execution_count": 41,
   "metadata": {},
   "outputs": [],
   "source": [
    "train_loader = torch.utils.data.DataLoader(dataset = train, batch_size=512, shuffle=True)\n",
    "valid_loader = torch.utils.data.DataLoader(dataset = valid, batch_size=512, shuffle=True)"
   ]
  },
  {
   "cell_type": "code",
   "execution_count": 42,
   "metadata": {},
   "outputs": [
    {
     "name": "stdout",
     "output_type": "stream",
     "text": [
      "cuda:0\n"
     ]
    }
   ],
   "source": [
    "m16 = Trainer(\n",
    "        model=CNN_16,\n",
    "        optimizer=optimizer16,\n",
    "        loss_function=nn.CrossEntropyLoss(),\n",
    "        scheduler=torch.optim.lr_scheduler.MultiStepLR(optimizer16, milestones=[25], gamma=0.1),\n",
    "        tensorboard=True,\n",
    "        model_name=\"CNN-m.III-Conv1-BN-Drop-0.3_ELU_lr-{1e-3,1e-4}_bs-512\",\n",
    "        verbose=True\n",
    "        )"
   ]
  },
  {
   "cell_type": "code",
   "execution_count": 43,
   "metadata": {
    "collapsed": true
   },
   "outputs": [
    {
     "name": "stdout",
     "output_type": "stream",
     "text": [
      "Epoch [1/150], average_loss:0.6387, validation_loss:0.5153, val_accuracy:0.7792\n",
      "Epoch [2/150], average_loss:0.5256, validation_loss:0.4974, val_accuracy:0.8052\n",
      "Epoch [3/150], average_loss:0.4925, validation_loss:0.4704, val_accuracy:0.7662\n",
      "Epoch [4/150], average_loss:0.4842, validation_loss:0.4385, val_accuracy:0.7532\n",
      "Epoch [5/150], average_loss:0.4582, validation_loss:0.4412, val_accuracy:0.7792\n",
      "Epoch [6/150], average_loss:0.4367, validation_loss:0.4524, val_accuracy:0.8052\n",
      "Epoch [7/150], average_loss:0.4121, validation_loss:0.3940, val_accuracy:0.8701\n",
      "Epoch [8/150], average_loss:0.3957, validation_loss:0.3731, val_accuracy:0.8701\n",
      "Epoch [9/150], average_loss:0.3841, validation_loss:0.3613, val_accuracy:0.8961\n",
      "Epoch [10/150], average_loss:0.3570, validation_loss:0.3326, val_accuracy:0.8442\n",
      "Epoch [11/150], average_loss:0.3446, validation_loss:0.3095, val_accuracy:0.8831\n",
      "Epoch [12/150], average_loss:0.3380, validation_loss:0.3369, val_accuracy:0.8571\n",
      "Epoch [13/150], average_loss:0.3365, validation_loss:0.2967, val_accuracy:0.9351\n",
      "Epoch [14/150], average_loss:0.3212, validation_loss:0.2991, val_accuracy:0.9091\n",
      "Epoch [15/150], average_loss:0.3230, validation_loss:0.3050, val_accuracy:0.8571\n",
      "Epoch [16/150], average_loss:0.3118, validation_loss:0.3099, val_accuracy:0.8961\n",
      "Epoch [17/150], average_loss:0.3108, validation_loss:0.2897, val_accuracy:0.8052\n",
      "Epoch [18/150], average_loss:0.3048, validation_loss:0.2784, val_accuracy:0.7922\n",
      "Epoch [19/150], average_loss:0.3000, validation_loss:0.3021, val_accuracy:0.8182\n",
      "Epoch [20/150], average_loss:0.2979, validation_loss:0.2959, val_accuracy:0.9091\n",
      "Epoch [21/150], average_loss:0.2934, validation_loss:0.2924, val_accuracy:0.9221\n",
      "Epoch [22/150], average_loss:0.2982, validation_loss:0.3241, val_accuracy:0.8571\n",
      "Epoch [23/150], average_loss:0.2869, validation_loss:0.2895, val_accuracy:0.8831\n",
      "Epoch [24/150], average_loss:0.2861, validation_loss:0.2719, val_accuracy:0.8961\n",
      "Epoch [25/150], average_loss:0.2803, validation_loss:0.2802, val_accuracy:0.8442\n",
      "Epoch [26/150], average_loss:0.2617, validation_loss:0.2598, val_accuracy:0.8571\n",
      "Epoch [27/150], average_loss:0.2581, validation_loss:0.2625, val_accuracy:0.8701\n",
      "Epoch [28/150], average_loss:0.2563, validation_loss:0.2551, val_accuracy:0.8701\n",
      "Epoch [29/150], average_loss:0.2543, validation_loss:0.2582, val_accuracy:0.8831\n",
      "Epoch [30/150], average_loss:0.2551, validation_loss:0.2557, val_accuracy:0.9091\n",
      "Epoch [31/150], average_loss:0.2554, validation_loss:0.2519, val_accuracy:0.8831\n",
      "Epoch [32/150], average_loss:0.2520, validation_loss:0.2498, val_accuracy:0.8831\n",
      "Epoch [33/150], average_loss:0.2536, validation_loss:0.2500, val_accuracy:0.9481\n",
      "Epoch [34/150], average_loss:0.2545, validation_loss:0.2481, val_accuracy:0.9351\n",
      "Epoch [35/150], average_loss:0.2516, validation_loss:0.2609, val_accuracy:0.8701\n",
      "Epoch [36/150], average_loss:0.2525, validation_loss:0.2542, val_accuracy:0.9091\n",
      "Epoch [37/150], average_loss:0.2515, validation_loss:0.2557, val_accuracy:0.8961\n",
      "Epoch [38/150], average_loss:0.2511, validation_loss:0.2513, val_accuracy:0.9221\n",
      "Epoch [39/150], average_loss:0.2516, validation_loss:0.2516, val_accuracy:0.8701\n",
      "Epoch [40/150], average_loss:0.2506, validation_loss:0.2509, val_accuracy:0.8831\n",
      "Epoch [41/150], average_loss:0.2486, validation_loss:0.2526, val_accuracy:0.9481\n",
      "Epoch [42/150], average_loss:0.2492, validation_loss:0.2446, val_accuracy:0.9351\n",
      "Epoch [43/150], average_loss:0.2477, validation_loss:0.2596, val_accuracy:0.8831\n",
      "Epoch [44/150], average_loss:0.2457, validation_loss:0.2453, val_accuracy:0.9221\n",
      "Epoch [45/150], average_loss:0.2454, validation_loss:0.2436, val_accuracy:0.9351\n",
      "Epoch [46/150], average_loss:0.2477, validation_loss:0.2542, val_accuracy:0.8571\n",
      "Epoch [47/150], average_loss:0.2453, validation_loss:0.2445, val_accuracy:0.9221\n",
      "Epoch [48/150], average_loss:0.2431, validation_loss:0.2489, val_accuracy:0.9351\n",
      "Epoch [49/150], average_loss:0.2444, validation_loss:0.2467, val_accuracy:0.9481\n",
      "Epoch [50/150], average_loss:0.2462, validation_loss:0.2513, val_accuracy:0.8831\n",
      "Epoch [51/150], average_loss:0.2434, validation_loss:0.2567, val_accuracy:0.8831\n",
      "Epoch [52/150], average_loss:0.2411, validation_loss:0.2501, val_accuracy:0.9221\n",
      "Epoch [53/150], average_loss:0.2423, validation_loss:0.2451, val_accuracy:0.9091\n",
      "Epoch [54/150], average_loss:0.2443, validation_loss:0.2471, val_accuracy:0.9481\n",
      "Epoch [55/150], average_loss:0.2421, validation_loss:0.2485, val_accuracy:0.8961\n",
      "Epoch [56/150], average_loss:0.2424, validation_loss:0.2425, val_accuracy:0.8961\n",
      "Epoch [57/150], average_loss:0.2414, validation_loss:0.2493, val_accuracy:0.9351\n",
      "Epoch [58/150], average_loss:0.2424, validation_loss:0.2446, val_accuracy:0.8831\n",
      "Epoch [59/150], average_loss:0.2392, validation_loss:0.2420, val_accuracy:0.9221\n",
      "Epoch [60/150], average_loss:0.2410, validation_loss:0.2388, val_accuracy:0.9221\n",
      "Epoch [61/150], average_loss:0.2393, validation_loss:0.2462, val_accuracy:0.9610\n",
      "Epoch [62/150], average_loss:0.2392, validation_loss:0.2434, val_accuracy:0.8961\n",
      "Epoch [63/150], average_loss:0.2385, validation_loss:0.2498, val_accuracy:0.9221\n",
      "Epoch [64/150], average_loss:0.2374, validation_loss:0.2464, val_accuracy:0.9091\n",
      "Epoch [65/150], average_loss:0.2376, validation_loss:0.2464, val_accuracy:0.8831\n",
      "Epoch [66/150], average_loss:0.2356, validation_loss:0.2487, val_accuracy:0.9091\n",
      "Epoch [67/150], average_loss:0.2344, validation_loss:0.2422, val_accuracy:0.9091\n",
      "Epoch [68/150], average_loss:0.2357, validation_loss:0.2419, val_accuracy:0.8831\n",
      "Epoch [69/150], average_loss:0.2332, validation_loss:0.2346, val_accuracy:0.9351\n",
      "Epoch [70/150], average_loss:0.2368, validation_loss:0.2364, val_accuracy:0.9610\n",
      "Epoch [71/150], average_loss:0.2354, validation_loss:0.2370, val_accuracy:0.9481\n",
      "Epoch [72/150], average_loss:0.2375, validation_loss:0.2373, val_accuracy:0.9221\n",
      "Epoch [73/150], average_loss:0.2341, validation_loss:0.2383, val_accuracy:0.8961\n",
      "Epoch [74/150], average_loss:0.2348, validation_loss:0.2396, val_accuracy:0.9610\n",
      "Epoch [75/150], average_loss:0.2305, validation_loss:0.2354, val_accuracy:0.9221\n",
      "Epoch [76/150], average_loss:0.2337, validation_loss:0.2410, val_accuracy:0.9221\n",
      "Epoch [77/150], average_loss:0.2314, validation_loss:0.2394, val_accuracy:0.9351\n",
      "Epoch [78/150], average_loss:0.2313, validation_loss:0.2442, val_accuracy:0.8961\n",
      "Epoch [79/150], average_loss:0.2334, validation_loss:0.2414, val_accuracy:0.9351\n",
      "Epoch [80/150], average_loss:0.2309, validation_loss:0.2364, val_accuracy:0.9221\n",
      "Epoch [81/150], average_loss:0.2320, validation_loss:0.2386, val_accuracy:0.9091\n",
      "Epoch [82/150], average_loss:0.2295, validation_loss:0.2388, val_accuracy:0.9091\n",
      "Epoch [83/150], average_loss:0.2311, validation_loss:0.2360, val_accuracy:0.9481\n",
      "Epoch [84/150], average_loss:0.2293, validation_loss:0.2472, val_accuracy:0.8831\n",
      "Epoch [85/150], average_loss:0.2314, validation_loss:0.2415, val_accuracy:0.8571\n",
      "Epoch [86/150], average_loss:0.2281, validation_loss:0.2299, val_accuracy:0.9481\n",
      "Epoch [87/150], average_loss:0.2293, validation_loss:0.2332, val_accuracy:0.8961\n",
      "Epoch [88/150], average_loss:0.2278, validation_loss:0.2381, val_accuracy:0.9221\n",
      "Epoch [89/150], average_loss:0.2282, validation_loss:0.2370, val_accuracy:0.8831\n",
      "Epoch [90/150], average_loss:0.2279, validation_loss:0.2411, val_accuracy:0.8961\n",
      "Epoch [91/150], average_loss:0.2273, validation_loss:0.2358, val_accuracy:0.9351\n",
      "Epoch [92/150], average_loss:0.2271, validation_loss:0.2336, val_accuracy:0.9351\n",
      "Epoch [93/150], average_loss:0.2269, validation_loss:0.2329, val_accuracy:0.9351\n",
      "Epoch [94/150], average_loss:0.2280, validation_loss:0.2380, val_accuracy:0.9221\n",
      "Epoch [95/150], average_loss:0.2284, validation_loss:0.2408, val_accuracy:0.8701\n",
      "Epoch [96/150], average_loss:0.2252, validation_loss:0.2361, val_accuracy:0.9351\n",
      "Epoch [97/150], average_loss:0.2277, validation_loss:0.2359, val_accuracy:0.9091\n",
      "Epoch [98/150], average_loss:0.2246, validation_loss:0.2376, val_accuracy:0.8571\n",
      "Epoch [99/150], average_loss:0.2247, validation_loss:0.2341, val_accuracy:0.9351\n",
      "Epoch [100/150], average_loss:0.2259, validation_loss:0.2382, val_accuracy:0.9740\n",
      "Epoch [101/150], average_loss:0.2239, validation_loss:0.2360, val_accuracy:0.9351\n",
      "Epoch [102/150], average_loss:0.2245, validation_loss:0.2413, val_accuracy:0.9221\n"
     ]
    },
    {
     "name": "stdout",
     "output_type": "stream",
     "text": [
      "Epoch [103/150], average_loss:0.2215, validation_loss:0.2338, val_accuracy:0.9481\n",
      "Epoch [104/150], average_loss:0.2218, validation_loss:0.2350, val_accuracy:0.8701\n",
      "Epoch [105/150], average_loss:0.2268, validation_loss:0.2397, val_accuracy:0.9221\n",
      "Epoch [106/150], average_loss:0.2238, validation_loss:0.2410, val_accuracy:0.8701\n",
      "Epoch [107/150], average_loss:0.2235, validation_loss:0.2396, val_accuracy:0.8831\n",
      "Epoch [108/150], average_loss:0.2224, validation_loss:0.2400, val_accuracy:0.8961\n",
      "Epoch [109/150], average_loss:0.2198, validation_loss:0.2427, val_accuracy:0.8961\n",
      "Epoch [110/150], average_loss:0.2219, validation_loss:0.2388, val_accuracy:0.9091\n",
      "Epoch [111/150], average_loss:0.2207, validation_loss:0.2375, val_accuracy:0.9091\n",
      "Epoch [112/150], average_loss:0.2221, validation_loss:0.2381, val_accuracy:0.9221\n",
      "Epoch [113/150], average_loss:0.2234, validation_loss:0.2416, val_accuracy:0.8961\n",
      "Epoch [114/150], average_loss:0.2198, validation_loss:0.2328, val_accuracy:0.9610\n",
      "Epoch [115/150], average_loss:0.2186, validation_loss:0.2369, val_accuracy:0.8961\n",
      "Epoch [116/150], average_loss:0.2187, validation_loss:0.2336, val_accuracy:0.8961\n",
      "Epoch [117/150], average_loss:0.2179, validation_loss:0.2287, val_accuracy:0.9481\n",
      "Epoch [118/150], average_loss:0.2189, validation_loss:0.2326, val_accuracy:0.9221\n",
      "Epoch [119/150], average_loss:0.2190, validation_loss:0.2329, val_accuracy:0.8831\n",
      "Epoch [120/150], average_loss:0.2186, validation_loss:0.2333, val_accuracy:0.9091\n",
      "Epoch [121/150], average_loss:0.2156, validation_loss:0.2468, val_accuracy:0.9481\n",
      "Epoch [122/150], average_loss:0.2194, validation_loss:0.2339, val_accuracy:0.9740\n",
      "Epoch [123/150], average_loss:0.2188, validation_loss:0.2368, val_accuracy:0.9221\n",
      "Epoch [124/150], average_loss:0.2173, validation_loss:0.2334, val_accuracy:0.9091\n",
      "Epoch [125/150], average_loss:0.2170, validation_loss:0.2382, val_accuracy:0.8961\n",
      "Epoch [126/150], average_loss:0.2174, validation_loss:0.2320, val_accuracy:0.9351\n",
      "Epoch [127/150], average_loss:0.2146, validation_loss:0.2345, val_accuracy:0.9481\n",
      "Epoch [128/150], average_loss:0.2162, validation_loss:0.2375, val_accuracy:0.9221\n",
      "Epoch [129/150], average_loss:0.2144, validation_loss:0.2325, val_accuracy:0.9610\n",
      "Epoch [130/150], average_loss:0.2174, validation_loss:0.2370, val_accuracy:0.9221\n",
      "Epoch [131/150], average_loss:0.2171, validation_loss:0.2353, val_accuracy:0.8831\n",
      "Epoch [132/150], average_loss:0.2121, validation_loss:0.2304, val_accuracy:0.9091\n",
      "Epoch [133/150], average_loss:0.2156, validation_loss:0.2355, val_accuracy:0.8961\n",
      "Epoch [134/150], average_loss:0.2150, validation_loss:0.2331, val_accuracy:0.9091\n",
      "Epoch [135/150], average_loss:0.2142, validation_loss:0.2354, val_accuracy:0.9091\n",
      "Epoch [136/150], average_loss:0.2131, validation_loss:0.2337, val_accuracy:0.9091\n",
      "Epoch [137/150], average_loss:0.2160, validation_loss:0.2399, val_accuracy:0.8571\n",
      "Epoch [138/150], average_loss:0.2104, validation_loss:0.2322, val_accuracy:0.9351\n",
      "Epoch [139/150], average_loss:0.2103, validation_loss:0.2371, val_accuracy:0.9091\n",
      "Epoch [140/150], average_loss:0.2148, validation_loss:0.2323, val_accuracy:0.9351\n",
      "Epoch [141/150], average_loss:0.2097, validation_loss:0.2341, val_accuracy:0.8961\n",
      "Epoch [142/150], average_loss:0.2113, validation_loss:0.2326, val_accuracy:0.8961\n",
      "Epoch [143/150], average_loss:0.2118, validation_loss:0.2297, val_accuracy:0.9351\n",
      "Epoch [144/150], average_loss:0.2112, validation_loss:0.2352, val_accuracy:0.9091\n",
      "Epoch [145/150], average_loss:0.2082, validation_loss:0.2305, val_accuracy:0.8831\n",
      "Epoch [146/150], average_loss:0.2116, validation_loss:0.2505, val_accuracy:0.8701\n",
      "Epoch [147/150], average_loss:0.2115, validation_loss:0.2386, val_accuracy:0.8442\n",
      "Epoch [148/150], average_loss:0.2110, validation_loss:0.2488, val_accuracy:0.9091\n",
      "Epoch [149/150], average_loss:0.2114, validation_loss:0.2303, val_accuracy:0.9351\n",
      "Epoch [150/150], average_loss:0.2095, validation_loss:0.2409, val_accuracy:0.9091\n"
     ]
    }
   ],
   "source": [
    "lh = m16(epochs=150, train_loader=train_loader, validation_loader=valid_loader)"
   ]
  },
  {
   "cell_type": "code",
   "execution_count": 44,
   "metadata": {},
   "outputs": [],
   "source": [
    "m16.model.eval()\n",
    "with torch.no_grad():\n",
    "    x_pred = np.argmax(m16.model(torch.tensor(X_test).float().to(m16.device)).cpu().detach(), axis=1)\n"
   ]
  },
  {
   "cell_type": "code",
   "execution_count": 45,
   "metadata": {},
   "outputs": [
    {
     "data": {
      "text/plain": [
       "tensor([1, 1, 1,  ..., 0, 1, 0])"
      ]
     },
     "execution_count": 45,
     "metadata": {},
     "output_type": "execute_result"
    }
   ],
   "source": [
    "x_pred"
   ]
  },
  {
   "cell_type": "code",
   "execution_count": 46,
   "metadata": {},
   "outputs": [
    {
     "data": {
      "text/plain": [
       "0.8742859351404654"
      ]
     },
     "execution_count": 46,
     "metadata": {},
     "output_type": "execute_result"
    }
   ],
   "source": [
    "f1_score(y_true=y_test, y_pred=x_pred, average=\"macro\")"
   ]
  },
  {
   "cell_type": "code",
   "execution_count": 47,
   "metadata": {},
   "outputs": [
    {
     "data": {
      "text/plain": [
       "0.9184990439770554"
      ]
     },
     "execution_count": 47,
     "metadata": {},
     "output_type": "execute_result"
    }
   ],
   "source": [
    "accuracy_score(y_true=y_test, y_pred=x_pred)"
   ]
  },
  {
   "cell_type": "code",
   "execution_count": 48,
   "metadata": {},
   "outputs": [
    {
     "data": {
      "text/plain": [
       "array([[3808,  265,   25,  137],\n",
       "       [ 414, 9883,   35,  113],\n",
       "       [  22,   34,  404,   19],\n",
       "       [ 187,  102,   11, 1277]], dtype=int64)"
      ]
     },
     "execution_count": 48,
     "metadata": {},
     "output_type": "execute_result"
    }
   ],
   "source": [
    "confusion_matrix(y_true=y_test, y_pred=x_pred)"
   ]
  },
  {
   "cell_type": "code",
   "execution_count": 49,
   "metadata": {
    "collapsed": true
   },
   "outputs": [
    {
     "name": "stdout",
     "output_type": "stream",
     "text": [
      "Epoch [151/250], average_loss:0.2070, validation_loss:0.2352, val_accuracy:0.8961\n",
      "Epoch [152/250], average_loss:0.2107, validation_loss:0.2405, val_accuracy:0.8571\n",
      "Epoch [153/250], average_loss:0.2085, validation_loss:0.2293, val_accuracy:0.9221\n",
      "Epoch [154/250], average_loss:0.2093, validation_loss:0.2256, val_accuracy:0.9481\n",
      "Epoch [155/250], average_loss:0.2064, validation_loss:0.2303, val_accuracy:0.9351\n",
      "Epoch [156/250], average_loss:0.2055, validation_loss:0.2318, val_accuracy:0.9091\n",
      "Epoch [157/250], average_loss:0.2063, validation_loss:0.2296, val_accuracy:0.9221\n",
      "Epoch [158/250], average_loss:0.2064, validation_loss:0.2278, val_accuracy:0.9221\n",
      "Epoch [159/250], average_loss:0.2068, validation_loss:0.2303, val_accuracy:0.8831\n",
      "Epoch [160/250], average_loss:0.2055, validation_loss:0.2307, val_accuracy:0.9221\n",
      "Epoch [161/250], average_loss:0.2055, validation_loss:0.2346, val_accuracy:0.9481\n",
      "Epoch [162/250], average_loss:0.2049, validation_loss:0.2288, val_accuracy:0.9481\n",
      "Epoch [163/250], average_loss:0.2062, validation_loss:0.2324, val_accuracy:0.9351\n",
      "Epoch [164/250], average_loss:0.2063, validation_loss:0.2409, val_accuracy:0.8701\n",
      "Epoch [165/250], average_loss:0.2051, validation_loss:0.2305, val_accuracy:0.8571\n",
      "Epoch [166/250], average_loss:0.2037, validation_loss:0.2286, val_accuracy:0.9610\n",
      "Epoch [167/250], average_loss:0.2056, validation_loss:0.2301, val_accuracy:0.9221\n",
      "Epoch [168/250], average_loss:0.2036, validation_loss:0.2344, val_accuracy:0.9221\n",
      "Epoch [169/250], average_loss:0.2075, validation_loss:0.2285, val_accuracy:0.9481\n",
      "Epoch [170/250], average_loss:0.2021, validation_loss:0.2365, val_accuracy:0.9221\n",
      "Epoch [171/250], average_loss:0.2046, validation_loss:0.2387, val_accuracy:0.8831\n",
      "Epoch [172/250], average_loss:0.2038, validation_loss:0.2349, val_accuracy:0.9091\n",
      "Epoch [173/250], average_loss:0.2046, validation_loss:0.2338, val_accuracy:0.8961\n",
      "Epoch [174/250], average_loss:0.2047, validation_loss:0.2294, val_accuracy:0.9481\n",
      "Epoch [175/250], average_loss:0.2029, validation_loss:0.2275, val_accuracy:0.9610\n",
      "Epoch [176/250], average_loss:0.2014, validation_loss:0.2290, val_accuracy:0.9091\n",
      "Epoch [177/250], average_loss:0.2008, validation_loss:0.2379, val_accuracy:0.9091\n",
      "Epoch [178/250], average_loss:0.2032, validation_loss:0.2312, val_accuracy:0.9091\n",
      "Epoch [179/250], average_loss:0.2021, validation_loss:0.2330, val_accuracy:0.9221\n",
      "Epoch [180/250], average_loss:0.2003, validation_loss:0.2355, val_accuracy:0.9481\n",
      "Epoch [181/250], average_loss:0.2035, validation_loss:0.2396, val_accuracy:0.9221\n",
      "Epoch [182/250], average_loss:0.2012, validation_loss:0.2356, val_accuracy:0.9481\n",
      "Epoch [183/250], average_loss:0.1984, validation_loss:0.2387, val_accuracy:0.8961\n",
      "Epoch [184/250], average_loss:0.2036, validation_loss:0.2322, val_accuracy:0.9351\n",
      "Epoch [185/250], average_loss:0.1998, validation_loss:0.2382, val_accuracy:0.8961\n",
      "Epoch [186/250], average_loss:0.2000, validation_loss:0.2364, val_accuracy:0.8961\n",
      "Epoch [187/250], average_loss:0.2006, validation_loss:0.2328, val_accuracy:0.9351\n",
      "Epoch [188/250], average_loss:0.2001, validation_loss:0.2315, val_accuracy:0.9091\n",
      "Epoch [189/250], average_loss:0.1980, validation_loss:0.2343, val_accuracy:0.8961\n",
      "Epoch [190/250], average_loss:0.1977, validation_loss:0.2359, val_accuracy:0.8701\n",
      "Epoch [191/250], average_loss:0.1990, validation_loss:0.2283, val_accuracy:0.8831\n",
      "Epoch [192/250], average_loss:0.1988, validation_loss:0.2304, val_accuracy:0.9740\n",
      "Epoch [193/250], average_loss:0.1980, validation_loss:0.2301, val_accuracy:0.9351\n",
      "Epoch [194/250], average_loss:0.1970, validation_loss:0.2365, val_accuracy:0.9091\n",
      "Epoch [195/250], average_loss:0.1973, validation_loss:0.2313, val_accuracy:0.9221\n",
      "Epoch [196/250], average_loss:0.1960, validation_loss:0.2270, val_accuracy:0.9091\n",
      "Epoch [197/250], average_loss:0.1946, validation_loss:0.2260, val_accuracy:0.9091\n",
      "Epoch [198/250], average_loss:0.1967, validation_loss:0.2404, val_accuracy:0.9091\n",
      "Epoch [199/250], average_loss:0.1960, validation_loss:0.2274, val_accuracy:0.9221\n",
      "Epoch [200/250], average_loss:0.1949, validation_loss:0.2259, val_accuracy:0.9870\n",
      "Epoch [201/250], average_loss:0.1965, validation_loss:0.2285, val_accuracy:0.9091\n",
      "Epoch [202/250], average_loss:0.1919, validation_loss:0.2323, val_accuracy:0.9481\n",
      "Epoch [203/250], average_loss:0.1972, validation_loss:0.2343, val_accuracy:0.8831\n",
      "Epoch [204/250], average_loss:0.1946, validation_loss:0.2327, val_accuracy:0.9091\n",
      "Epoch [205/250], average_loss:0.1967, validation_loss:0.2392, val_accuracy:0.9351\n",
      "Epoch [206/250], average_loss:0.1962, validation_loss:0.2363, val_accuracy:0.8701\n",
      "Epoch [207/250], average_loss:0.1938, validation_loss:0.2296, val_accuracy:0.9091\n",
      "Epoch [208/250], average_loss:0.1937, validation_loss:0.2275, val_accuracy:0.9481\n",
      "Epoch [209/250], average_loss:0.1951, validation_loss:0.2266, val_accuracy:0.9351\n",
      "Epoch [210/250], average_loss:0.1922, validation_loss:0.2357, val_accuracy:0.8961\n",
      "Epoch [211/250], average_loss:0.1956, validation_loss:0.2384, val_accuracy:0.8831\n",
      "Epoch [212/250], average_loss:0.1915, validation_loss:0.2324, val_accuracy:0.9351\n",
      "Epoch [213/250], average_loss:0.1917, validation_loss:0.2332, val_accuracy:0.9481\n",
      "Epoch [214/250], average_loss:0.1964, validation_loss:0.2298, val_accuracy:0.9481\n",
      "Epoch [215/250], average_loss:0.1928, validation_loss:0.2276, val_accuracy:0.9351\n",
      "Epoch [216/250], average_loss:0.1946, validation_loss:0.2291, val_accuracy:0.9091\n",
      "Epoch [217/250], average_loss:0.1947, validation_loss:0.2339, val_accuracy:0.9481\n",
      "Epoch [218/250], average_loss:0.1932, validation_loss:0.2375, val_accuracy:0.9091\n",
      "Epoch [219/250], average_loss:0.1913, validation_loss:0.2442, val_accuracy:0.9351\n",
      "Epoch [220/250], average_loss:0.1910, validation_loss:0.2348, val_accuracy:0.8831\n",
      "Epoch [221/250], average_loss:0.1902, validation_loss:0.2311, val_accuracy:0.8831\n",
      "Epoch [222/250], average_loss:0.1918, validation_loss:0.2367, val_accuracy:0.8701\n",
      "Epoch [223/250], average_loss:0.1894, validation_loss:0.2356, val_accuracy:0.8442\n",
      "Epoch [224/250], average_loss:0.1905, validation_loss:0.2321, val_accuracy:0.8571\n",
      "Epoch [225/250], average_loss:0.1877, validation_loss:0.2315, val_accuracy:0.9221\n",
      "Epoch [226/250], average_loss:0.1919, validation_loss:0.2321, val_accuracy:0.8701\n",
      "Epoch [227/250], average_loss:0.1884, validation_loss:0.2377, val_accuracy:0.9091\n",
      "Epoch [228/250], average_loss:0.1909, validation_loss:0.2293, val_accuracy:0.9221\n",
      "Epoch [229/250], average_loss:0.1914, validation_loss:0.2479, val_accuracy:0.8571\n",
      "Epoch [230/250], average_loss:0.1916, validation_loss:0.2301, val_accuracy:0.9351\n",
      "Epoch [231/250], average_loss:0.1906, validation_loss:0.2374, val_accuracy:0.9091\n",
      "Epoch [232/250], average_loss:0.1907, validation_loss:0.2267, val_accuracy:0.9351\n",
      "Epoch [233/250], average_loss:0.1871, validation_loss:0.2346, val_accuracy:0.8701\n",
      "Epoch [234/250], average_loss:0.1881, validation_loss:0.2375, val_accuracy:0.8571\n",
      "Epoch [235/250], average_loss:0.1886, validation_loss:0.2264, val_accuracy:0.9221\n",
      "Epoch [236/250], average_loss:0.1873, validation_loss:0.2278, val_accuracy:0.9481\n",
      "Epoch [237/250], average_loss:0.1882, validation_loss:0.2445, val_accuracy:0.9221\n",
      "Epoch [238/250], average_loss:0.1884, validation_loss:0.2307, val_accuracy:0.9610\n",
      "Epoch [239/250], average_loss:0.1844, validation_loss:0.2341, val_accuracy:0.9221\n",
      "Epoch [240/250], average_loss:0.1883, validation_loss:0.2379, val_accuracy:0.8571\n",
      "Epoch [241/250], average_loss:0.1865, validation_loss:0.2304, val_accuracy:0.9351\n",
      "Epoch [242/250], average_loss:0.1886, validation_loss:0.2304, val_accuracy:0.8831\n",
      "Epoch [243/250], average_loss:0.1893, validation_loss:0.2386, val_accuracy:0.9091\n",
      "Epoch [244/250], average_loss:0.1851, validation_loss:0.2364, val_accuracy:0.8701\n",
      "Epoch [245/250], average_loss:0.1893, validation_loss:0.2317, val_accuracy:0.9481\n",
      "Epoch [246/250], average_loss:0.1863, validation_loss:0.2336, val_accuracy:0.9091\n",
      "Epoch [247/250], average_loss:0.1859, validation_loss:0.2332, val_accuracy:0.8961\n",
      "Epoch [248/250], average_loss:0.1840, validation_loss:0.2309, val_accuracy:0.9610\n",
      "Epoch [249/250], average_loss:0.1822, validation_loss:0.2352, val_accuracy:0.9481\n",
      "Epoch [250/250], average_loss:0.1853, validation_loss:0.2352, val_accuracy:0.9091\n"
     ]
    }
   ],
   "source": [
    "lh = m16(epochs=range(150,250), train_loader=train_loader, validation_loader=valid_loader)"
   ]
  },
  {
   "cell_type": "code",
   "execution_count": 50,
   "metadata": {},
   "outputs": [],
   "source": [
    "m16.model.eval()\n",
    "with torch.no_grad():\n",
    "    x_pred = np.argmax(m16.model(torch.tensor(X_test).float().to(m16.device)).cpu().detach(), axis=1)\n"
   ]
  },
  {
   "cell_type": "code",
   "execution_count": 51,
   "metadata": {},
   "outputs": [
    {
     "data": {
      "text/plain": [
       "tensor([1, 1, 1,  ..., 0, 1, 0])"
      ]
     },
     "execution_count": 51,
     "metadata": {},
     "output_type": "execute_result"
    }
   ],
   "source": [
    "x_pred"
   ]
  },
  {
   "cell_type": "code",
   "execution_count": 52,
   "metadata": {},
   "outputs": [
    {
     "data": {
      "text/plain": [
       "0.8776778430454325"
      ]
     },
     "execution_count": 52,
     "metadata": {},
     "output_type": "execute_result"
    }
   ],
   "source": [
    "f1_score(y_true=y_test, y_pred=x_pred, average=\"macro\")"
   ]
  },
  {
   "cell_type": "code",
   "execution_count": 53,
   "metadata": {},
   "outputs": [
    {
     "data": {
      "text/plain": [
       "0.9223828871892925"
      ]
     },
     "execution_count": 53,
     "metadata": {},
     "output_type": "execute_result"
    }
   ],
   "source": [
    "accuracy_score(y_true=y_test, y_pred=x_pred)"
   ]
  },
  {
   "cell_type": "code",
   "execution_count": 54,
   "metadata": {},
   "outputs": [
    {
     "data": {
      "text/plain": [
       "array([[3821,  255,   27,  132],\n",
       "       [ 357, 9945,   32,  111],\n",
       "       [  21,   31,  408,   19],\n",
       "       [ 205,  100,    9, 1263]], dtype=int64)"
      ]
     },
     "execution_count": 54,
     "metadata": {},
     "output_type": "execute_result"
    }
   ],
   "source": [
    "confusion_matrix(y_true=y_test, y_pred=x_pred)"
   ]
  },
  {
   "cell_type": "code",
   "execution_count": 55,
   "metadata": {},
   "outputs": [
    {
     "name": "stderr",
     "output_type": "stream",
     "text": [
      "C:\\Users\\ghost_000\\Miniconda3\\envs\\Pytorch\\lib\\site-packages\\torch\\serialization.py:292: UserWarning: Couldn't retrieve source code for container of type ELU. It won't be checked for correctness upon loading.\n",
      "  \"type \" + obj.__name__ + \". It won't be checked \"\n"
     ]
    }
   ],
   "source": [
    "#torch.save(m16.model, \"models_and_losses/CNN-m.III-Conv1-BN-Drop-0.3_ELU_lr-{1e-3,1e-4}_bs-512_epochs_250_Jan30_14-37-36.pt\")"
   ]
  },
  {
   "cell_type": "code",
   "execution_count": 56,
   "metadata": {
    "collapsed": true
   },
   "outputs": [
    {
     "name": "stdout",
     "output_type": "stream",
     "text": [
      "Epoch [251/350], average_loss:0.1829, validation_loss:0.2401, val_accuracy:0.9351\n",
      "Epoch [252/350], average_loss:0.1858, validation_loss:0.2324, val_accuracy:0.9481\n",
      "Epoch [253/350], average_loss:0.1843, validation_loss:0.2382, val_accuracy:0.9091\n",
      "Epoch [254/350], average_loss:0.1854, validation_loss:0.2343, val_accuracy:0.9091\n",
      "Epoch [255/350], average_loss:0.1823, validation_loss:0.2367, val_accuracy:0.9481\n",
      "Epoch [256/350], average_loss:0.1864, validation_loss:0.2375, val_accuracy:0.8701\n",
      "Epoch [257/350], average_loss:0.1839, validation_loss:0.2348, val_accuracy:0.9221\n",
      "Epoch [258/350], average_loss:0.1838, validation_loss:0.2359, val_accuracy:0.9221\n",
      "Epoch [259/350], average_loss:0.1837, validation_loss:0.2334, val_accuracy:0.9481\n",
      "Epoch [260/350], average_loss:0.1825, validation_loss:0.2358, val_accuracy:0.9091\n",
      "Epoch [261/350], average_loss:0.1823, validation_loss:0.2377, val_accuracy:0.9091\n",
      "Epoch [262/350], average_loss:0.1824, validation_loss:0.2300, val_accuracy:0.9351\n",
      "Epoch [263/350], average_loss:0.1808, validation_loss:0.2328, val_accuracy:0.9091\n",
      "Epoch [264/350], average_loss:0.1807, validation_loss:0.2333, val_accuracy:0.9351\n",
      "Epoch [265/350], average_loss:0.1813, validation_loss:0.2325, val_accuracy:0.9351\n",
      "Epoch [266/350], average_loss:0.1820, validation_loss:0.2399, val_accuracy:0.9351\n",
      "Epoch [267/350], average_loss:0.1796, validation_loss:0.2319, val_accuracy:0.9221\n",
      "Epoch [268/350], average_loss:0.1846, validation_loss:0.2334, val_accuracy:0.8442\n",
      "Epoch [269/350], average_loss:0.1808, validation_loss:0.2330, val_accuracy:0.8961\n",
      "Epoch [270/350], average_loss:0.1855, validation_loss:0.2361, val_accuracy:0.9221\n",
      "Epoch [271/350], average_loss:0.1812, validation_loss:0.2354, val_accuracy:0.7922\n",
      "Epoch [272/350], average_loss:0.1802, validation_loss:0.2360, val_accuracy:0.9221\n",
      "Epoch [273/350], average_loss:0.1810, validation_loss:0.2282, val_accuracy:0.9610\n",
      "Epoch [274/350], average_loss:0.1787, validation_loss:0.2345, val_accuracy:0.9351\n",
      "Epoch [275/350], average_loss:0.1782, validation_loss:0.2367, val_accuracy:0.8961\n",
      "Epoch [276/350], average_loss:0.1793, validation_loss:0.2409, val_accuracy:0.8961\n",
      "Epoch [277/350], average_loss:0.1793, validation_loss:0.2371, val_accuracy:0.8571\n",
      "Epoch [278/350], average_loss:0.1785, validation_loss:0.2297, val_accuracy:0.9610\n",
      "Epoch [279/350], average_loss:0.1798, validation_loss:0.2295, val_accuracy:0.9481\n",
      "Epoch [280/350], average_loss:0.1786, validation_loss:0.2321, val_accuracy:0.8831\n",
      "Epoch [281/350], average_loss:0.1792, validation_loss:0.2405, val_accuracy:0.8831\n",
      "Epoch [282/350], average_loss:0.1772, validation_loss:0.2309, val_accuracy:0.9610\n",
      "Epoch [283/350], average_loss:0.1745, validation_loss:0.2414, val_accuracy:0.9221\n",
      "Epoch [284/350], average_loss:0.1765, validation_loss:0.2416, val_accuracy:0.9221\n",
      "Epoch [285/350], average_loss:0.1747, validation_loss:0.2322, val_accuracy:0.8961\n",
      "Epoch [286/350], average_loss:0.1782, validation_loss:0.2354, val_accuracy:0.8961\n",
      "Epoch [287/350], average_loss:0.1771, validation_loss:0.2339, val_accuracy:0.9221\n",
      "Epoch [288/350], average_loss:0.1767, validation_loss:0.2346, val_accuracy:0.8961\n",
      "Epoch [289/350], average_loss:0.1790, validation_loss:0.2261, val_accuracy:0.9221\n",
      "Epoch [290/350], average_loss:0.1799, validation_loss:0.2386, val_accuracy:0.8701\n",
      "Epoch [291/350], average_loss:0.1784, validation_loss:0.2426, val_accuracy:0.8961\n",
      "Epoch [292/350], average_loss:0.1768, validation_loss:0.2338, val_accuracy:0.9610\n",
      "Epoch [293/350], average_loss:0.1768, validation_loss:0.2424, val_accuracy:0.9221\n",
      "Epoch [294/350], average_loss:0.1779, validation_loss:0.2372, val_accuracy:0.9091\n",
      "Epoch [295/350], average_loss:0.1783, validation_loss:0.2348, val_accuracy:0.8831\n",
      "Epoch [296/350], average_loss:0.1792, validation_loss:0.2325, val_accuracy:0.9221\n",
      "Epoch [297/350], average_loss:0.1752, validation_loss:0.2319, val_accuracy:0.9740\n",
      "Epoch [298/350], average_loss:0.1777, validation_loss:0.2413, val_accuracy:0.8831\n",
      "Epoch [299/350], average_loss:0.1756, validation_loss:0.2363, val_accuracy:0.8701\n",
      "Epoch [300/350], average_loss:0.1754, validation_loss:0.2377, val_accuracy:0.8961\n",
      "Epoch [301/350], average_loss:0.1753, validation_loss:0.2380, val_accuracy:0.8831\n",
      "Epoch [302/350], average_loss:0.1738, validation_loss:0.2319, val_accuracy:0.9091\n",
      "Epoch [303/350], average_loss:0.1737, validation_loss:0.2343, val_accuracy:0.9221\n",
      "Epoch [304/350], average_loss:0.1748, validation_loss:0.2321, val_accuracy:0.9091\n",
      "Epoch [305/350], average_loss:0.1732, validation_loss:0.2432, val_accuracy:0.9091\n",
      "Epoch [306/350], average_loss:0.1737, validation_loss:0.2404, val_accuracy:0.8701\n",
      "Epoch [307/350], average_loss:0.1746, validation_loss:0.2374, val_accuracy:0.9091\n",
      "Epoch [308/350], average_loss:0.1739, validation_loss:0.2364, val_accuracy:0.8831\n",
      "Epoch [309/350], average_loss:0.1722, validation_loss:0.2449, val_accuracy:0.9091\n",
      "Epoch [310/350], average_loss:0.1730, validation_loss:0.2372, val_accuracy:0.8701\n",
      "Epoch [311/350], average_loss:0.1753, validation_loss:0.2370, val_accuracy:0.9091\n",
      "Epoch [312/350], average_loss:0.1723, validation_loss:0.2328, val_accuracy:0.9481\n",
      "Epoch [313/350], average_loss:0.1729, validation_loss:0.2393, val_accuracy:0.9351\n",
      "Epoch [314/350], average_loss:0.1716, validation_loss:0.2427, val_accuracy:0.9221\n",
      "Epoch [315/350], average_loss:0.1686, validation_loss:0.2320, val_accuracy:0.9351\n",
      "Epoch [316/350], average_loss:0.1723, validation_loss:0.2361, val_accuracy:0.9481\n",
      "Epoch [317/350], average_loss:0.1705, validation_loss:0.2408, val_accuracy:0.8701\n",
      "Epoch [318/350], average_loss:0.1739, validation_loss:0.2288, val_accuracy:0.9481\n",
      "Epoch [319/350], average_loss:0.1702, validation_loss:0.2333, val_accuracy:0.9740\n",
      "Epoch [320/350], average_loss:0.1713, validation_loss:0.2363, val_accuracy:0.9351\n",
      "Epoch [321/350], average_loss:0.1686, validation_loss:0.2416, val_accuracy:0.9610\n",
      "Epoch [322/350], average_loss:0.1708, validation_loss:0.2402, val_accuracy:0.8961\n",
      "Epoch [323/350], average_loss:0.1717, validation_loss:0.2393, val_accuracy:0.8701\n",
      "Epoch [324/350], average_loss:0.1682, validation_loss:0.2453, val_accuracy:0.8831\n",
      "Epoch [325/350], average_loss:0.1728, validation_loss:0.2371, val_accuracy:0.9610\n",
      "Epoch [326/350], average_loss:0.1700, validation_loss:0.2310, val_accuracy:0.8831\n",
      "Epoch [327/350], average_loss:0.1696, validation_loss:0.2325, val_accuracy:0.9610\n",
      "Epoch [328/350], average_loss:0.1701, validation_loss:0.2386, val_accuracy:0.9481\n",
      "Epoch [329/350], average_loss:0.1671, validation_loss:0.2430, val_accuracy:0.9481\n",
      "Epoch [330/350], average_loss:0.1676, validation_loss:0.2354, val_accuracy:0.9481\n",
      "Epoch [331/350], average_loss:0.1682, validation_loss:0.2392, val_accuracy:0.9091\n",
      "Epoch [332/350], average_loss:0.1696, validation_loss:0.2455, val_accuracy:0.8831\n",
      "Epoch [333/350], average_loss:0.1684, validation_loss:0.2401, val_accuracy:0.9481\n",
      "Epoch [334/350], average_loss:0.1696, validation_loss:0.2456, val_accuracy:0.9351\n",
      "Epoch [335/350], average_loss:0.1701, validation_loss:0.2423, val_accuracy:0.8831\n",
      "Epoch [336/350], average_loss:0.1676, validation_loss:0.2355, val_accuracy:0.9481\n",
      "Epoch [337/350], average_loss:0.1676, validation_loss:0.2458, val_accuracy:0.8961\n",
      "Epoch [338/350], average_loss:0.1651, validation_loss:0.2390, val_accuracy:0.9481\n",
      "Epoch [339/350], average_loss:0.1684, validation_loss:0.2418, val_accuracy:0.9351\n",
      "Epoch [340/350], average_loss:0.1670, validation_loss:0.2418, val_accuracy:0.8831\n",
      "Epoch [341/350], average_loss:0.1685, validation_loss:0.2429, val_accuracy:0.9481\n",
      "Epoch [342/350], average_loss:0.1673, validation_loss:0.2383, val_accuracy:0.9221\n",
      "Epoch [343/350], average_loss:0.1683, validation_loss:0.2386, val_accuracy:0.9351\n",
      "Epoch [344/350], average_loss:0.1681, validation_loss:0.2409, val_accuracy:0.8961\n",
      "Epoch [345/350], average_loss:0.1686, validation_loss:0.2422, val_accuracy:0.9091\n",
      "Epoch [346/350], average_loss:0.1650, validation_loss:0.2376, val_accuracy:0.9351\n",
      "Epoch [347/350], average_loss:0.1685, validation_loss:0.2391, val_accuracy:0.9091\n",
      "Epoch [348/350], average_loss:0.1660, validation_loss:0.2385, val_accuracy:0.9610\n",
      "Epoch [349/350], average_loss:0.1657, validation_loss:0.2414, val_accuracy:0.9221\n",
      "Epoch [350/350], average_loss:0.1700, validation_loss:0.2369, val_accuracy:0.8961\n"
     ]
    }
   ],
   "source": [
    "lh = m16(epochs=range(250,350), train_loader=train_loader, validation_loader=valid_loader)"
   ]
  },
  {
   "cell_type": "code",
   "execution_count": 57,
   "metadata": {},
   "outputs": [],
   "source": [
    "m16.model.eval()\n",
    "with torch.no_grad():\n",
    "    x_pred = np.argmax(m16.model(torch.tensor(X_test).float().to(m16.device)).cpu().detach(), axis=1)\n"
   ]
  },
  {
   "cell_type": "code",
   "execution_count": 58,
   "metadata": {},
   "outputs": [
    {
     "data": {
      "text/plain": [
       "tensor([1, 1, 1,  ..., 3, 1, 0])"
      ]
     },
     "execution_count": 58,
     "metadata": {},
     "output_type": "execute_result"
    }
   ],
   "source": [
    "x_pred"
   ]
  },
  {
   "cell_type": "code",
   "execution_count": 59,
   "metadata": {},
   "outputs": [
    {
     "data": {
      "text/plain": [
       "0.8757419907129813"
      ]
     },
     "execution_count": 59,
     "metadata": {},
     "output_type": "execute_result"
    }
   ],
   "source": [
    "f1_score(y_true=y_test, y_pred=x_pred, average=\"macro\")"
   ]
  },
  {
   "cell_type": "code",
   "execution_count": 60,
   "metadata": {},
   "outputs": [
    {
     "data": {
      "text/plain": [
       "0.9223828871892925"
      ]
     },
     "execution_count": 60,
     "metadata": {},
     "output_type": "execute_result"
    }
   ],
   "source": [
    "accuracy_score(y_true=y_test, y_pred=x_pred)"
   ]
  },
  {
   "cell_type": "code",
   "execution_count": 61,
   "metadata": {},
   "outputs": [
    {
     "data": {
      "text/plain": [
       "array([[ 3730,   345,    28,   132],\n",
       "       [  257, 10045,    35,   108],\n",
       "       [   23,    29,   407,    20],\n",
       "       [  207,   107,     8,  1255]], dtype=int64)"
      ]
     },
     "execution_count": 61,
     "metadata": {},
     "output_type": "execute_result"
    }
   ],
   "source": [
    "confusion_matrix(y_true=y_test, y_pred=x_pred)"
   ]
  },
  {
   "cell_type": "markdown",
   "metadata": {},
   "source": [
    "# Full Conv"
   ]
  },
  {
   "cell_type": "code",
   "execution_count": 9,
   "metadata": {},
   "outputs": [],
   "source": [
    "CNN_17 = nn.Sequential(\n",
    "            layers.Reshape(out_shape=(1,160)),\n",
    "            nn.Conv1d(in_channels=1, out_channels=32, kernel_size=5, stride=1, padding=0, bias=False), # n*1*160 -> n*32*156\n",
    "            nn.ReLU(inplace=True),\n",
    "            nn.MaxPool1d(kernel_size=3), #n*32*156 -> n*32*52\n",
    "    \n",
    "            nn.Conv1d(in_channels=32, out_channels=64, kernel_size=5, stride=1, padding=0, bias=False),# n*32*52->n*64*48\n",
    "            nn.ReLU(inplace=True),\n",
    "    \n",
    "            layers.Flatten(out_features=48*64),\n",
    "            nn.Linear(in_features=48*64, out_features=4)\n",
    ")"
   ]
  },
  {
   "cell_type": "code",
   "execution_count": 10,
   "metadata": {},
   "outputs": [],
   "source": [
    "optimizer17= torch.optim.Adam(CNN_17.parameters(), lr=1e-3)"
   ]
  },
  {
   "cell_type": "code",
   "execution_count": 11,
   "metadata": {},
   "outputs": [],
   "source": [
    "train_loader = torch.utils.data.DataLoader(dataset = train, batch_size=512, shuffle=True)\n",
    "valid_loader = torch.utils.data.DataLoader(dataset = valid, batch_size=512, shuffle=True)"
   ]
  },
  {
   "cell_type": "code",
   "execution_count": 12,
   "metadata": {},
   "outputs": [
    {
     "name": "stdout",
     "output_type": "stream",
     "text": [
      "cuda:0\n"
     ]
    }
   ],
   "source": [
    "m17 = Trainer(\n",
    "        model=CNN_17,\n",
    "        optimizer=optimizer17,\n",
    "        loss_function=nn.CrossEntropyLoss(),\n",
    "        scheduler=torch.optim.lr_scheduler.MultiStepLR(optimizer17, milestones=[100], gamma=0.1),\n",
    "        tensorboard=True,\n",
    "        model_name=\"CNN-full_conv_lr-{1e-3,1e-4}_bs-512\",\n",
    "        verbose=True\n",
    "        )"
   ]
  },
  {
   "cell_type": "code",
   "execution_count": 13,
   "metadata": {
    "collapsed": true
   },
   "outputs": [
    {
     "name": "stdout",
     "output_type": "stream",
     "text": [
      "Epoch [1/150], average_loss:0.8303, validation_loss:0.7244, val_accuracy:0.6753\n",
      "Epoch [2/150], average_loss:0.6474, validation_loss:0.5974, val_accuracy:0.7922\n",
      "Epoch [3/150], average_loss:0.5661, validation_loss:0.5391, val_accuracy:0.7922\n",
      "Epoch [4/150], average_loss:0.5204, validation_loss:0.5023, val_accuracy:0.8442\n",
      "Epoch [5/150], average_loss:0.4975, validation_loss:0.4832, val_accuracy:0.8961\n",
      "Epoch [6/150], average_loss:0.4753, validation_loss:0.4790, val_accuracy:0.7922\n",
      "Epoch [7/150], average_loss:0.4629, validation_loss:0.4692, val_accuracy:0.8571\n",
      "Epoch [8/150], average_loss:0.4609, validation_loss:0.4641, val_accuracy:0.8312\n",
      "Epoch [9/150], average_loss:0.4574, validation_loss:0.4450, val_accuracy:0.9091\n",
      "Epoch [10/150], average_loss:0.4429, validation_loss:0.4575, val_accuracy:0.8182\n",
      "Epoch [11/150], average_loss:0.4356, validation_loss:0.4391, val_accuracy:0.8961\n",
      "Epoch [12/150], average_loss:0.4342, validation_loss:0.4501, val_accuracy:0.7143\n",
      "Epoch [13/150], average_loss:0.4268, validation_loss:0.4246, val_accuracy:0.8182\n",
      "Epoch [14/150], average_loss:0.4205, validation_loss:0.4378, val_accuracy:0.8701\n",
      "Epoch [15/150], average_loss:0.4191, validation_loss:0.4237, val_accuracy:0.8182\n",
      "Epoch [16/150], average_loss:0.4186, validation_loss:0.4248, val_accuracy:0.7792\n",
      "Epoch [17/150], average_loss:0.4145, validation_loss:0.4244, val_accuracy:0.8571\n",
      "Epoch [18/150], average_loss:0.4043, validation_loss:0.4085, val_accuracy:0.9221\n",
      "Epoch [19/150], average_loss:0.4057, validation_loss:0.4247, val_accuracy:0.8312\n",
      "Epoch [20/150], average_loss:0.4026, validation_loss:0.4261, val_accuracy:0.7922\n",
      "Epoch [21/150], average_loss:0.3988, validation_loss:0.4138, val_accuracy:0.8571\n",
      "Epoch [22/150], average_loss:0.3977, validation_loss:0.4063, val_accuracy:0.9091\n",
      "Epoch [23/150], average_loss:0.3925, validation_loss:0.4144, val_accuracy:0.8312\n",
      "Epoch [24/150], average_loss:0.3900, validation_loss:0.3900, val_accuracy:0.9091\n",
      "Epoch [25/150], average_loss:0.3817, validation_loss:0.3952, val_accuracy:0.8182\n",
      "Epoch [26/150], average_loss:0.3833, validation_loss:0.3908, val_accuracy:0.8571\n",
      "Epoch [27/150], average_loss:0.3748, validation_loss:0.3899, val_accuracy:0.7662\n",
      "Epoch [28/150], average_loss:0.3701, validation_loss:0.3896, val_accuracy:0.8831\n",
      "Epoch [29/150], average_loss:0.3678, validation_loss:0.3877, val_accuracy:0.9091\n",
      "Epoch [30/150], average_loss:0.3665, validation_loss:0.3714, val_accuracy:0.8961\n",
      "Epoch [31/150], average_loss:0.3615, validation_loss:0.3815, val_accuracy:0.8701\n",
      "Epoch [32/150], average_loss:0.3581, validation_loss:0.3739, val_accuracy:0.8442\n",
      "Epoch [33/150], average_loss:0.3558, validation_loss:0.3901, val_accuracy:0.8312\n",
      "Epoch [34/150], average_loss:0.3579, validation_loss:0.3687, val_accuracy:0.9221\n",
      "Epoch [35/150], average_loss:0.3539, validation_loss:0.3738, val_accuracy:0.8182\n",
      "Epoch [36/150], average_loss:0.3494, validation_loss:0.3758, val_accuracy:0.8701\n",
      "Epoch [37/150], average_loss:0.3460, validation_loss:0.3599, val_accuracy:0.8571\n",
      "Epoch [38/150], average_loss:0.3469, validation_loss:0.3599, val_accuracy:0.8831\n",
      "Epoch [39/150], average_loss:0.3429, validation_loss:0.3556, val_accuracy:0.9091\n",
      "Epoch [40/150], average_loss:0.3422, validation_loss:0.3543, val_accuracy:0.9091\n",
      "Epoch [41/150], average_loss:0.3351, validation_loss:0.3626, val_accuracy:0.8701\n",
      "Epoch [42/150], average_loss:0.3382, validation_loss:0.3628, val_accuracy:0.8052\n",
      "Epoch [43/150], average_loss:0.3359, validation_loss:0.3628, val_accuracy:0.9091\n",
      "Epoch [44/150], average_loss:0.3329, validation_loss:0.3607, val_accuracy:0.8571\n",
      "Epoch [45/150], average_loss:0.3279, validation_loss:0.3523, val_accuracy:0.8571\n",
      "Epoch [46/150], average_loss:0.3280, validation_loss:0.3513, val_accuracy:0.8701\n",
      "Epoch [47/150], average_loss:0.3272, validation_loss:0.3699, val_accuracy:0.8701\n",
      "Epoch [48/150], average_loss:0.3270, validation_loss:0.3563, val_accuracy:0.8831\n",
      "Epoch [49/150], average_loss:0.3289, validation_loss:0.3380, val_accuracy:0.9221\n",
      "Epoch [50/150], average_loss:0.3212, validation_loss:0.3469, val_accuracy:0.8701\n",
      "Epoch [51/150], average_loss:0.3230, validation_loss:0.3385, val_accuracy:0.8701\n",
      "Epoch [52/150], average_loss:0.3189, validation_loss:0.3628, val_accuracy:0.7792\n",
      "Epoch [53/150], average_loss:0.3233, validation_loss:0.3482, val_accuracy:0.8701\n",
      "Epoch [54/150], average_loss:0.3161, validation_loss:0.3426, val_accuracy:0.8701\n",
      "Epoch [55/150], average_loss:0.3207, validation_loss:0.3509, val_accuracy:0.9740\n",
      "Epoch [56/150], average_loss:0.3140, validation_loss:0.3419, val_accuracy:0.8442\n",
      "Epoch [57/150], average_loss:0.3171, validation_loss:0.3429, val_accuracy:0.8312\n",
      "Epoch [58/150], average_loss:0.3128, validation_loss:0.3417, val_accuracy:0.9091\n",
      "Epoch [59/150], average_loss:0.3128, validation_loss:0.3393, val_accuracy:0.9091\n",
      "Epoch [60/150], average_loss:0.3125, validation_loss:0.3356, val_accuracy:0.9221\n",
      "Epoch [61/150], average_loss:0.3096, validation_loss:0.3465, val_accuracy:0.8831\n",
      "Epoch [62/150], average_loss:0.3073, validation_loss:0.3345, val_accuracy:0.8312\n",
      "Epoch [63/150], average_loss:0.3079, validation_loss:0.3294, val_accuracy:0.9221\n",
      "Epoch [64/150], average_loss:0.3070, validation_loss:0.3398, val_accuracy:0.8961\n",
      "Epoch [65/150], average_loss:0.3130, validation_loss:0.3485, val_accuracy:0.9091\n",
      "Epoch [66/150], average_loss:0.3040, validation_loss:0.3318, val_accuracy:0.8701\n",
      "Epoch [67/150], average_loss:0.3045, validation_loss:0.3311, val_accuracy:0.8182\n",
      "Epoch [68/150], average_loss:0.3035, validation_loss:0.3275, val_accuracy:0.9351\n",
      "Epoch [69/150], average_loss:0.3028, validation_loss:0.3320, val_accuracy:0.9221\n",
      "Epoch [70/150], average_loss:0.3010, validation_loss:0.3329, val_accuracy:0.8961\n",
      "Epoch [71/150], average_loss:0.3024, validation_loss:0.3323, val_accuracy:0.8961\n",
      "Epoch [72/150], average_loss:0.2992, validation_loss:0.3309, val_accuracy:0.8701\n",
      "Epoch [73/150], average_loss:0.2998, validation_loss:0.3297, val_accuracy:0.8961\n",
      "Epoch [74/150], average_loss:0.2969, validation_loss:0.3616, val_accuracy:0.8571\n",
      "Epoch [75/150], average_loss:0.2995, validation_loss:0.3349, val_accuracy:0.9481\n",
      "Epoch [76/150], average_loss:0.2955, validation_loss:0.3336, val_accuracy:0.8831\n",
      "Epoch [77/150], average_loss:0.2965, validation_loss:0.3319, val_accuracy:0.8961\n",
      "Epoch [78/150], average_loss:0.2931, validation_loss:0.3361, val_accuracy:0.8442\n",
      "Epoch [79/150], average_loss:0.2935, validation_loss:0.3171, val_accuracy:0.9481\n",
      "Epoch [80/150], average_loss:0.2929, validation_loss:0.3352, val_accuracy:0.8831\n",
      "Epoch [81/150], average_loss:0.2938, validation_loss:0.3402, val_accuracy:0.8701\n",
      "Epoch [82/150], average_loss:0.2945, validation_loss:0.3342, val_accuracy:0.8701\n",
      "Epoch [83/150], average_loss:0.2912, validation_loss:0.3344, val_accuracy:0.8831\n",
      "Epoch [84/150], average_loss:0.2901, validation_loss:0.3204, val_accuracy:0.8961\n",
      "Epoch [85/150], average_loss:0.2875, validation_loss:0.3300, val_accuracy:0.9091\n",
      "Epoch [86/150], average_loss:0.2870, validation_loss:0.3210, val_accuracy:0.8831\n",
      "Epoch [87/150], average_loss:0.2897, validation_loss:0.3166, val_accuracy:0.8961\n",
      "Epoch [88/150], average_loss:0.2837, validation_loss:0.3224, val_accuracy:0.8571\n",
      "Epoch [89/150], average_loss:0.2856, validation_loss:0.3198, val_accuracy:0.8831\n",
      "Epoch [90/150], average_loss:0.2870, validation_loss:0.3184, val_accuracy:0.8831\n",
      "Epoch [91/150], average_loss:0.2824, validation_loss:0.3463, val_accuracy:0.8701\n",
      "Epoch [92/150], average_loss:0.2892, validation_loss:0.3390, val_accuracy:0.8961\n",
      "Epoch [93/150], average_loss:0.2874, validation_loss:0.3219, val_accuracy:0.8701\n",
      "Epoch [94/150], average_loss:0.2837, validation_loss:0.3179, val_accuracy:0.9221\n",
      "Epoch [95/150], average_loss:0.2835, validation_loss:0.3198, val_accuracy:0.9221\n",
      "Epoch [96/150], average_loss:0.2813, validation_loss:0.3144, val_accuracy:0.9091\n",
      "Epoch [97/150], average_loss:0.2851, validation_loss:0.3153, val_accuracy:0.8831\n",
      "Epoch [98/150], average_loss:0.2812, validation_loss:0.3247, val_accuracy:0.8701\n",
      "Epoch [99/150], average_loss:0.2806, validation_loss:0.3168, val_accuracy:0.8961\n",
      "Epoch [100/150], average_loss:0.2775, validation_loss:0.3140, val_accuracy:0.8961\n",
      "Epoch [101/150], average_loss:0.2669, validation_loss:0.3052, val_accuracy:0.9221\n",
      "Epoch [102/150], average_loss:0.2653, validation_loss:0.3126, val_accuracy:0.8052\n"
     ]
    },
    {
     "name": "stdout",
     "output_type": "stream",
     "text": [
      "Epoch [103/150], average_loss:0.2651, validation_loss:0.3135, val_accuracy:0.8442\n",
      "Epoch [104/150], average_loss:0.2651, validation_loss:0.3042, val_accuracy:0.9351\n",
      "Epoch [105/150], average_loss:0.2648, validation_loss:0.3101, val_accuracy:0.8442\n",
      "Epoch [106/150], average_loss:0.2645, validation_loss:0.3056, val_accuracy:0.8961\n",
      "Epoch [107/150], average_loss:0.2649, validation_loss:0.3075, val_accuracy:0.8312\n",
      "Epoch [108/150], average_loss:0.2651, validation_loss:0.3054, val_accuracy:0.9221\n",
      "Epoch [109/150], average_loss:0.2646, validation_loss:0.3090, val_accuracy:0.8182\n",
      "Epoch [110/150], average_loss:0.2643, validation_loss:0.3059, val_accuracy:0.8701\n",
      "Epoch [111/150], average_loss:0.2647, validation_loss:0.3050, val_accuracy:0.8961\n",
      "Epoch [112/150], average_loss:0.2639, validation_loss:0.3112, val_accuracy:0.8442\n",
      "Epoch [113/150], average_loss:0.2643, validation_loss:0.3043, val_accuracy:0.9351\n",
      "Epoch [114/150], average_loss:0.2640, validation_loss:0.3122, val_accuracy:0.8442\n",
      "Epoch [115/150], average_loss:0.2632, validation_loss:0.3042, val_accuracy:0.9221\n",
      "Epoch [116/150], average_loss:0.2634, validation_loss:0.3095, val_accuracy:0.8312\n",
      "Epoch [117/150], average_loss:0.2641, validation_loss:0.3035, val_accuracy:0.9351\n",
      "Epoch [118/150], average_loss:0.2632, validation_loss:0.3083, val_accuracy:0.9351\n",
      "Epoch [119/150], average_loss:0.2641, validation_loss:0.3019, val_accuracy:0.9481\n",
      "Epoch [120/150], average_loss:0.2640, validation_loss:0.3055, val_accuracy:0.9221\n",
      "Epoch [121/150], average_loss:0.2629, validation_loss:0.3099, val_accuracy:0.8571\n",
      "Epoch [122/150], average_loss:0.2636, validation_loss:0.3055, val_accuracy:0.9481\n",
      "Epoch [123/150], average_loss:0.2630, validation_loss:0.3072, val_accuracy:0.8961\n",
      "Epoch [124/150], average_loss:0.2629, validation_loss:0.3054, val_accuracy:0.8961\n",
      "Epoch [125/150], average_loss:0.2631, validation_loss:0.3063, val_accuracy:0.8961\n",
      "Epoch [126/150], average_loss:0.2630, validation_loss:0.3073, val_accuracy:0.8701\n",
      "Epoch [127/150], average_loss:0.2630, validation_loss:0.3064, val_accuracy:0.8961\n",
      "Epoch [128/150], average_loss:0.2622, validation_loss:0.3082, val_accuracy:0.8961\n",
      "Epoch [129/150], average_loss:0.2621, validation_loss:0.3118, val_accuracy:0.8182\n",
      "Epoch [130/150], average_loss:0.2620, validation_loss:0.3091, val_accuracy:0.8701\n",
      "Epoch [131/150], average_loss:0.2624, validation_loss:0.3054, val_accuracy:0.8961\n",
      "Epoch [132/150], average_loss:0.2622, validation_loss:0.3034, val_accuracy:0.9091\n",
      "Epoch [133/150], average_loss:0.2621, validation_loss:0.3093, val_accuracy:0.8571\n",
      "Epoch [134/150], average_loss:0.2624, validation_loss:0.3139, val_accuracy:0.8312\n",
      "Epoch [135/150], average_loss:0.2626, validation_loss:0.3096, val_accuracy:0.8442\n",
      "Epoch [136/150], average_loss:0.2615, validation_loss:0.3053, val_accuracy:0.9091\n",
      "Epoch [137/150], average_loss:0.2615, validation_loss:0.3069, val_accuracy:0.8961\n",
      "Epoch [138/150], average_loss:0.2618, validation_loss:0.3116, val_accuracy:0.8831\n",
      "Epoch [139/150], average_loss:0.2613, validation_loss:0.3060, val_accuracy:0.8701\n",
      "Epoch [140/150], average_loss:0.2605, validation_loss:0.3084, val_accuracy:0.8701\n",
      "Epoch [141/150], average_loss:0.2616, validation_loss:0.3037, val_accuracy:0.9091\n",
      "Epoch [142/150], average_loss:0.2623, validation_loss:0.3065, val_accuracy:0.8831\n",
      "Epoch [143/150], average_loss:0.2610, validation_loss:0.3110, val_accuracy:0.9091\n",
      "Epoch [144/150], average_loss:0.2609, validation_loss:0.3122, val_accuracy:0.8182\n",
      "Epoch [145/150], average_loss:0.2609, validation_loss:0.3076, val_accuracy:0.8961\n",
      "Epoch [146/150], average_loss:0.2601, validation_loss:0.3077, val_accuracy:0.8831\n",
      "Epoch [147/150], average_loss:0.2607, validation_loss:0.3055, val_accuracy:0.8701\n",
      "Epoch [148/150], average_loss:0.2612, validation_loss:0.3043, val_accuracy:0.9221\n",
      "Epoch [149/150], average_loss:0.2604, validation_loss:0.3108, val_accuracy:0.8312\n",
      "Epoch [150/150], average_loss:0.2602, validation_loss:0.3035, val_accuracy:0.8831\n"
     ]
    }
   ],
   "source": [
    "lh = m17(epochs=150, train_loader=train_loader, validation_loader=valid_loader)"
   ]
  },
  {
   "cell_type": "code",
   "execution_count": 14,
   "metadata": {},
   "outputs": [
    {
     "name": "stdout",
     "output_type": "stream",
     "text": [
      "Epoch [151/200], average_loss:0.2606, validation_loss:0.3074, val_accuracy:0.8701\n",
      "Epoch [152/200], average_loss:0.2605, validation_loss:0.3098, val_accuracy:0.8571\n",
      "Epoch [153/200], average_loss:0.2599, validation_loss:0.3048, val_accuracy:0.9091\n",
      "Epoch [154/200], average_loss:0.2592, validation_loss:0.3054, val_accuracy:0.9091\n",
      "Epoch [155/200], average_loss:0.2603, validation_loss:0.3044, val_accuracy:0.8442\n",
      "Epoch [156/200], average_loss:0.2595, validation_loss:0.3011, val_accuracy:0.9481\n",
      "Epoch [157/200], average_loss:0.2596, validation_loss:0.3039, val_accuracy:0.8571\n",
      "Epoch [158/200], average_loss:0.2601, validation_loss:0.3074, val_accuracy:0.8442\n",
      "Epoch [159/200], average_loss:0.2593, validation_loss:0.3055, val_accuracy:0.9091\n",
      "Epoch [160/200], average_loss:0.2594, validation_loss:0.3057, val_accuracy:0.8831\n",
      "Epoch [161/200], average_loss:0.2593, validation_loss:0.3026, val_accuracy:0.8961\n",
      "Epoch [162/200], average_loss:0.2590, validation_loss:0.3087, val_accuracy:0.8831\n",
      "Epoch [163/200], average_loss:0.2592, validation_loss:0.3065, val_accuracy:0.8052\n",
      "Epoch [164/200], average_loss:0.2585, validation_loss:0.3043, val_accuracy:0.9091\n",
      "Epoch [165/200], average_loss:0.2584, validation_loss:0.3079, val_accuracy:0.9091\n",
      "Epoch [166/200], average_loss:0.2587, validation_loss:0.2992, val_accuracy:0.9610\n",
      "Epoch [167/200], average_loss:0.2585, validation_loss:0.3137, val_accuracy:0.8831\n",
      "Epoch [168/200], average_loss:0.2586, validation_loss:0.3000, val_accuracy:0.9091\n",
      "Epoch [169/200], average_loss:0.2586, validation_loss:0.3036, val_accuracy:0.8961\n",
      "Epoch [170/200], average_loss:0.2588, validation_loss:0.3021, val_accuracy:0.9091\n",
      "Epoch [171/200], average_loss:0.2589, validation_loss:0.2993, val_accuracy:0.9481\n",
      "Epoch [172/200], average_loss:0.2587, validation_loss:0.3073, val_accuracy:0.8442\n",
      "Epoch [173/200], average_loss:0.2580, validation_loss:0.3050, val_accuracy:0.8831\n",
      "Epoch [174/200], average_loss:0.2577, validation_loss:0.3084, val_accuracy:0.8701\n",
      "Epoch [175/200], average_loss:0.2578, validation_loss:0.3039, val_accuracy:0.8961\n",
      "Epoch [176/200], average_loss:0.2584, validation_loss:0.3033, val_accuracy:0.8831\n",
      "Epoch [177/200], average_loss:0.2575, validation_loss:0.3028, val_accuracy:0.8831\n",
      "Epoch [178/200], average_loss:0.2579, validation_loss:0.3031, val_accuracy:0.9091\n",
      "Epoch [179/200], average_loss:0.2577, validation_loss:0.3063, val_accuracy:0.8312\n",
      "Epoch [180/200], average_loss:0.2572, validation_loss:0.3026, val_accuracy:0.8961\n",
      "Epoch [181/200], average_loss:0.2579, validation_loss:0.3033, val_accuracy:0.8701\n",
      "Epoch [182/200], average_loss:0.2568, validation_loss:0.3098, val_accuracy:0.8701\n",
      "Epoch [183/200], average_loss:0.2579, validation_loss:0.3041, val_accuracy:0.8701\n",
      "Epoch [184/200], average_loss:0.2568, validation_loss:0.3023, val_accuracy:0.9351\n",
      "Epoch [185/200], average_loss:0.2573, validation_loss:0.3053, val_accuracy:0.8442\n",
      "Epoch [186/200], average_loss:0.2570, validation_loss:0.3016, val_accuracy:0.8831\n",
      "Epoch [187/200], average_loss:0.2569, validation_loss:0.3005, val_accuracy:0.9351\n",
      "Epoch [188/200], average_loss:0.2566, validation_loss:0.3044, val_accuracy:0.8571\n",
      "Epoch [189/200], average_loss:0.2567, validation_loss:0.3001, val_accuracy:0.9091\n",
      "Epoch [190/200], average_loss:0.2576, validation_loss:0.3029, val_accuracy:0.8701\n",
      "Epoch [191/200], average_loss:0.2567, validation_loss:0.3080, val_accuracy:0.8312\n",
      "Epoch [192/200], average_loss:0.2566, validation_loss:0.3030, val_accuracy:0.8571\n",
      "Epoch [193/200], average_loss:0.2563, validation_loss:0.3014, val_accuracy:0.9221\n",
      "Epoch [194/200], average_loss:0.2567, validation_loss:0.2996, val_accuracy:0.9091\n",
      "Epoch [195/200], average_loss:0.2559, validation_loss:0.3039, val_accuracy:0.8831\n",
      "Epoch [196/200], average_loss:0.2566, validation_loss:0.3021, val_accuracy:0.9351\n",
      "Epoch [197/200], average_loss:0.2564, validation_loss:0.3069, val_accuracy:0.8442\n",
      "Epoch [198/200], average_loss:0.2562, validation_loss:0.3008, val_accuracy:0.8961\n",
      "Epoch [199/200], average_loss:0.2554, validation_loss:0.3067, val_accuracy:0.8701\n",
      "Epoch [200/200], average_loss:0.2564, validation_loss:0.3023, val_accuracy:0.9221\n"
     ]
    }
   ],
   "source": [
    "lh = m17(epochs=range(150,200), train_loader=train_loader, validation_loader=valid_loader)"
   ]
  },
  {
   "cell_type": "code",
   "execution_count": 15,
   "metadata": {},
   "outputs": [],
   "source": [
    "m17.model.eval()\n",
    "with torch.no_grad():\n",
    "    x_pred = np.argmax(m17.model(torch.tensor(X_test).float().to(m17.device)).cpu().detach(), axis=1)\n"
   ]
  },
  {
   "cell_type": "code",
   "execution_count": 16,
   "metadata": {},
   "outputs": [
    {
     "data": {
      "text/plain": [
       "tensor([1, 1, 1,  ..., 3, 1, 0])"
      ]
     },
     "execution_count": 16,
     "metadata": {},
     "output_type": "execute_result"
    }
   ],
   "source": [
    "x_pred"
   ]
  },
  {
   "cell_type": "code",
   "execution_count": 17,
   "metadata": {},
   "outputs": [
    {
     "data": {
      "text/plain": [
       "0.8487120996854254"
      ]
     },
     "execution_count": 17,
     "metadata": {},
     "output_type": "execute_result"
    }
   ],
   "source": [
    "f1_score(y_true=y_test, y_pred=x_pred, average=\"macro\")"
   ]
  },
  {
   "cell_type": "code",
   "execution_count": 18,
   "metadata": {},
   "outputs": [
    {
     "data": {
      "text/plain": [
       "0.9009918738049714"
      ]
     },
     "execution_count": 18,
     "metadata": {},
     "output_type": "execute_result"
    }
   ],
   "source": [
    "accuracy_score(y_true=y_test, y_pred=x_pred)"
   ]
  },
  {
   "cell_type": "code",
   "execution_count": 19,
   "metadata": {},
   "outputs": [
    {
     "data": {
      "text/plain": [
       "array([[3610,  491,   28,  106],\n",
       "       [ 342, 9927,   28,  148],\n",
       "       [  30,   45,  389,   15],\n",
       "       [ 240,  171,   13, 1153]], dtype=int64)"
      ]
     },
     "execution_count": 19,
     "metadata": {},
     "output_type": "execute_result"
    }
   ],
   "source": [
    "confusion_matrix(y_true=y_test, y_pred=x_pred)"
   ]
  },
  {
   "cell_type": "code",
   "execution_count": 21,
   "metadata": {
    "collapsed": true
   },
   "outputs": [
    {
     "name": "stderr",
     "output_type": "stream",
     "text": [
      "C:\\Users\\ghost_000\\Miniconda3\\envs\\Pytorch\\lib\\site-packages\\torch\\serialization.py:292: UserWarning: Couldn't retrieve source code for container of type Sequential. It won't be checked for correctness upon loading.\n",
      "  \"type \" + obj.__name__ + \". It won't be checked \"\n",
      "C:\\Users\\ghost_000\\Miniconda3\\envs\\Pytorch\\lib\\site-packages\\torch\\serialization.py:292: UserWarning: Couldn't retrieve source code for container of type Reshape. It won't be checked for correctness upon loading.\n",
      "  \"type \" + obj.__name__ + \". It won't be checked \"\n",
      "C:\\Users\\ghost_000\\Miniconda3\\envs\\Pytorch\\lib\\site-packages\\torch\\serialization.py:292: UserWarning: Couldn't retrieve source code for container of type Conv1d. It won't be checked for correctness upon loading.\n",
      "  \"type \" + obj.__name__ + \". It won't be checked \"\n",
      "C:\\Users\\ghost_000\\Miniconda3\\envs\\Pytorch\\lib\\site-packages\\torch\\serialization.py:292: UserWarning: Couldn't retrieve source code for container of type ReLU. It won't be checked for correctness upon loading.\n",
      "  \"type \" + obj.__name__ + \". It won't be checked \"\n",
      "C:\\Users\\ghost_000\\Miniconda3\\envs\\Pytorch\\lib\\site-packages\\torch\\serialization.py:292: UserWarning: Couldn't retrieve source code for container of type MaxPool1d. It won't be checked for correctness upon loading.\n",
      "  \"type \" + obj.__name__ + \". It won't be checked \"\n",
      "C:\\Users\\ghost_000\\Miniconda3\\envs\\Pytorch\\lib\\site-packages\\torch\\serialization.py:292: UserWarning: Couldn't retrieve source code for container of type Flatten. It won't be checked for correctness upon loading.\n",
      "  \"type \" + obj.__name__ + \". It won't be checked \"\n",
      "C:\\Users\\ghost_000\\Miniconda3\\envs\\Pytorch\\lib\\site-packages\\torch\\serialization.py:292: UserWarning: Couldn't retrieve source code for container of type Linear. It won't be checked for correctness upon loading.\n",
      "  \"type \" + obj.__name__ + \". It won't be checked \"\n"
     ]
    }
   ],
   "source": [
    "#torch.save(m17.model, \"models_and_losses/CNN-full_conv_lr-{1e-3,1e-4}_bs-512.pt\")"
   ]
  },
  {
   "cell_type": "code",
   "execution_count": 22,
   "metadata": {},
   "outputs": [],
   "source": [
    "m17.tb.close()"
   ]
  },
  {
   "cell_type": "markdown",
   "metadata": {},
   "source": [
    "## Full conv m.II"
   ]
  },
  {
   "cell_type": "code",
   "execution_count": 23,
   "metadata": {},
   "outputs": [],
   "source": [
    "CNN_18 = nn.Sequential(\n",
    "            layers.Reshape(out_shape=(1,160)),\n",
    "            nn.Conv1d(in_channels=1, out_channels=32, kernel_size=6, stride=2, padding=0, bias=False), # n*1*160 -> n*32*78\n",
    "            nn.ReLU(inplace=True),\n",
    "            #nn.MaxPool1d(kernel_size=3), #n*32*156 -> n*32*52\n",
    "    \n",
    "            nn.Conv1d(in_channels=32, out_channels=64, kernel_size=6, stride=2, padding=0, bias=False),# n*32*78->n*64*37\n",
    "            nn.ReLU(inplace=True),\n",
    "    \n",
    "            layers.Flatten(out_features=37*64),\n",
    "            nn.Linear(in_features=37*64, out_features=4)\n",
    ")"
   ]
  },
  {
   "cell_type": "code",
   "execution_count": 24,
   "metadata": {},
   "outputs": [],
   "source": [
    "optimizer18= torch.optim.Adam(CNN_18.parameters(), lr=1e-3)"
   ]
  },
  {
   "cell_type": "code",
   "execution_count": 25,
   "metadata": {},
   "outputs": [],
   "source": [
    "train_loader = torch.utils.data.DataLoader(dataset = train, batch_size=512, shuffle=True)\n",
    "valid_loader = torch.utils.data.DataLoader(dataset = valid, batch_size=512, shuffle=True)"
   ]
  },
  {
   "cell_type": "code",
   "execution_count": 26,
   "metadata": {},
   "outputs": [
    {
     "name": "stdout",
     "output_type": "stream",
     "text": [
      "cuda:0\n"
     ]
    }
   ],
   "source": [
    "m18 = Trainer(\n",
    "        model=CNN_18,\n",
    "        optimizer=optimizer18,\n",
    "        loss_function=nn.CrossEntropyLoss(),\n",
    "        scheduler=torch.optim.lr_scheduler.MultiStepLR(optimizer18, milestones=[100], gamma=0.1),\n",
    "        tensorboard=True,\n",
    "        model_name=\"CNN-full_conv_m.II_lr-{1e-3,1e-4}_bs-512\",\n",
    "        verbose=True\n",
    "        )"
   ]
  },
  {
   "cell_type": "code",
   "execution_count": 27,
   "metadata": {
    "collapsed": true
   },
   "outputs": [
    {
     "name": "stdout",
     "output_type": "stream",
     "text": [
      "Epoch [1/150], average_loss:0.8400, validation_loss:0.6971, val_accuracy:0.7403\n",
      "Epoch [2/150], average_loss:0.6439, validation_loss:0.5874, val_accuracy:0.8442\n",
      "Epoch [3/150], average_loss:0.5813, validation_loss:0.5626, val_accuracy:0.8312\n",
      "Epoch [4/150], average_loss:0.5452, validation_loss:0.5364, val_accuracy:0.7792\n",
      "Epoch [5/150], average_loss:0.5236, validation_loss:0.5263, val_accuracy:0.8182\n",
      "Epoch [6/150], average_loss:0.5106, validation_loss:0.5031, val_accuracy:0.8571\n",
      "Epoch [7/150], average_loss:0.4905, validation_loss:0.5130, val_accuracy:0.8442\n",
      "Epoch [8/150], average_loss:0.4747, validation_loss:0.4836, val_accuracy:0.7143\n",
      "Epoch [9/150], average_loss:0.4672, validation_loss:0.4644, val_accuracy:0.8312\n",
      "Epoch [10/150], average_loss:0.4603, validation_loss:0.4612, val_accuracy:0.8571\n",
      "Epoch [11/150], average_loss:0.4514, validation_loss:0.4481, val_accuracy:0.8571\n",
      "Epoch [12/150], average_loss:0.4401, validation_loss:0.4443, val_accuracy:0.8831\n",
      "Epoch [13/150], average_loss:0.4392, validation_loss:0.4318, val_accuracy:0.8831\n",
      "Epoch [14/150], average_loss:0.4312, validation_loss:0.4330, val_accuracy:0.7792\n",
      "Epoch [15/150], average_loss:0.4258, validation_loss:0.4374, val_accuracy:0.8312\n",
      "Epoch [16/150], average_loss:0.4237, validation_loss:0.4159, val_accuracy:0.8961\n",
      "Epoch [17/150], average_loss:0.4175, validation_loss:0.4229, val_accuracy:0.8701\n",
      "Epoch [18/150], average_loss:0.4121, validation_loss:0.4226, val_accuracy:0.8831\n",
      "Epoch [19/150], average_loss:0.4119, validation_loss:0.4173, val_accuracy:0.7922\n",
      "Epoch [20/150], average_loss:0.4045, validation_loss:0.4083, val_accuracy:0.8442\n",
      "Epoch [21/150], average_loss:0.4010, validation_loss:0.4108, val_accuracy:0.8052\n",
      "Epoch [22/150], average_loss:0.3957, validation_loss:0.3982, val_accuracy:0.8701\n",
      "Epoch [23/150], average_loss:0.3919, validation_loss:0.4094, val_accuracy:0.7922\n",
      "Epoch [24/150], average_loss:0.3890, validation_loss:0.4047, val_accuracy:0.8571\n",
      "Epoch [25/150], average_loss:0.3896, validation_loss:0.3969, val_accuracy:0.9221\n",
      "Epoch [26/150], average_loss:0.3839, validation_loss:0.3940, val_accuracy:0.8701\n",
      "Epoch [27/150], average_loss:0.3809, validation_loss:0.3879, val_accuracy:0.8701\n",
      "Epoch [28/150], average_loss:0.3779, validation_loss:0.3873, val_accuracy:0.8442\n",
      "Epoch [29/150], average_loss:0.3733, validation_loss:0.3939, val_accuracy:0.8312\n",
      "Epoch [30/150], average_loss:0.3721, validation_loss:0.3824, val_accuracy:0.9221\n",
      "Epoch [31/150], average_loss:0.3686, validation_loss:0.3712, val_accuracy:0.9351\n",
      "Epoch [32/150], average_loss:0.3704, validation_loss:0.4101, val_accuracy:0.8182\n",
      "Epoch [33/150], average_loss:0.3677, validation_loss:0.3742, val_accuracy:0.8052\n",
      "Epoch [34/150], average_loss:0.3641, validation_loss:0.3777, val_accuracy:0.8571\n",
      "Epoch [35/150], average_loss:0.3580, validation_loss:0.3707, val_accuracy:0.8571\n",
      "Epoch [36/150], average_loss:0.3560, validation_loss:0.3743, val_accuracy:0.8701\n",
      "Epoch [37/150], average_loss:0.3548, validation_loss:0.3854, val_accuracy:0.8052\n",
      "Epoch [38/150], average_loss:0.3499, validation_loss:0.3589, val_accuracy:0.9351\n",
      "Epoch [39/150], average_loss:0.3497, validation_loss:0.3782, val_accuracy:0.8831\n",
      "Epoch [40/150], average_loss:0.3468, validation_loss:0.3634, val_accuracy:0.8831\n",
      "Epoch [41/150], average_loss:0.3482, validation_loss:0.3607, val_accuracy:0.8052\n",
      "Epoch [42/150], average_loss:0.3475, validation_loss:0.3534, val_accuracy:0.8701\n",
      "Epoch [43/150], average_loss:0.3381, validation_loss:0.3524, val_accuracy:0.8961\n",
      "Epoch [44/150], average_loss:0.3372, validation_loss:0.3557, val_accuracy:0.8052\n",
      "Epoch [45/150], average_loss:0.3385, validation_loss:0.3577, val_accuracy:0.8571\n",
      "Epoch [46/150], average_loss:0.3342, validation_loss:0.3509, val_accuracy:0.8442\n",
      "Epoch [47/150], average_loss:0.3371, validation_loss:0.3570, val_accuracy:0.8312\n",
      "Epoch [48/150], average_loss:0.3349, validation_loss:0.3633, val_accuracy:0.8701\n",
      "Epoch [49/150], average_loss:0.3362, validation_loss:0.3466, val_accuracy:0.9481\n",
      "Epoch [50/150], average_loss:0.3293, validation_loss:0.3435, val_accuracy:0.8701\n",
      "Epoch [51/150], average_loss:0.3307, validation_loss:0.3684, val_accuracy:0.9221\n",
      "Epoch [52/150], average_loss:0.3239, validation_loss:0.3434, val_accuracy:0.8701\n",
      "Epoch [53/150], average_loss:0.3237, validation_loss:0.3387, val_accuracy:0.9351\n",
      "Epoch [54/150], average_loss:0.3262, validation_loss:0.3366, val_accuracy:0.9221\n",
      "Epoch [55/150], average_loss:0.3195, validation_loss:0.3393, val_accuracy:0.8442\n",
      "Epoch [56/150], average_loss:0.3268, validation_loss:0.3408, val_accuracy:0.8961\n",
      "Epoch [57/150], average_loss:0.3224, validation_loss:0.3399, val_accuracy:0.9221\n",
      "Epoch [58/150], average_loss:0.3206, validation_loss:0.3445, val_accuracy:0.9091\n",
      "Epoch [59/150], average_loss:0.3162, validation_loss:0.3341, val_accuracy:0.9221\n",
      "Epoch [60/150], average_loss:0.3222, validation_loss:0.3475, val_accuracy:0.8701\n",
      "Epoch [61/150], average_loss:0.3150, validation_loss:0.3304, val_accuracy:0.9740\n",
      "Epoch [62/150], average_loss:0.3202, validation_loss:0.3443, val_accuracy:0.8701\n",
      "Epoch [63/150], average_loss:0.3181, validation_loss:0.3412, val_accuracy:0.8052\n",
      "Epoch [64/150], average_loss:0.3121, validation_loss:0.3335, val_accuracy:0.8182\n",
      "Epoch [65/150], average_loss:0.3095, validation_loss:0.3318, val_accuracy:0.8571\n",
      "Epoch [66/150], average_loss:0.3110, validation_loss:0.3387, val_accuracy:0.8701\n",
      "Epoch [67/150], average_loss:0.3094, validation_loss:0.3462, val_accuracy:0.9091\n",
      "Epoch [68/150], average_loss:0.3117, validation_loss:0.3280, val_accuracy:0.8831\n",
      "Epoch [69/150], average_loss:0.3059, validation_loss:0.3277, val_accuracy:0.8831\n",
      "Epoch [70/150], average_loss:0.3099, validation_loss:0.3295, val_accuracy:0.7922\n",
      "Epoch [71/150], average_loss:0.3090, validation_loss:0.3497, val_accuracy:0.8701\n",
      "Epoch [72/150], average_loss:0.3124, validation_loss:0.3369, val_accuracy:0.9221\n",
      "Epoch [73/150], average_loss:0.3031, validation_loss:0.3279, val_accuracy:0.8571\n",
      "Epoch [74/150], average_loss:0.3039, validation_loss:0.3257, val_accuracy:0.8961\n",
      "Epoch [75/150], average_loss:0.3030, validation_loss:0.3222, val_accuracy:0.9221\n",
      "Epoch [76/150], average_loss:0.2990, validation_loss:0.3250, val_accuracy:0.8831\n",
      "Epoch [77/150], average_loss:0.3000, validation_loss:0.3255, val_accuracy:0.8961\n",
      "Epoch [78/150], average_loss:0.2989, validation_loss:0.3257, val_accuracy:0.9091\n",
      "Epoch [79/150], average_loss:0.2982, validation_loss:0.3222, val_accuracy:0.8961\n",
      "Epoch [80/150], average_loss:0.2984, validation_loss:0.3222, val_accuracy:0.8831\n",
      "Epoch [81/150], average_loss:0.2977, validation_loss:0.3200, val_accuracy:0.8831\n",
      "Epoch [82/150], average_loss:0.2955, validation_loss:0.3305, val_accuracy:0.8701\n",
      "Epoch [83/150], average_loss:0.2961, validation_loss:0.3287, val_accuracy:0.8571\n",
      "Epoch [84/150], average_loss:0.2938, validation_loss:0.3290, val_accuracy:0.8571\n",
      "Epoch [85/150], average_loss:0.2974, validation_loss:0.3235, val_accuracy:0.8961\n",
      "Epoch [86/150], average_loss:0.2909, validation_loss:0.3222, val_accuracy:0.8571\n",
      "Epoch [87/150], average_loss:0.2899, validation_loss:0.3255, val_accuracy:0.9221\n",
      "Epoch [88/150], average_loss:0.2918, validation_loss:0.3195, val_accuracy:0.8831\n",
      "Epoch [89/150], average_loss:0.2908, validation_loss:0.3211, val_accuracy:0.8571\n",
      "Epoch [90/150], average_loss:0.2923, validation_loss:0.3118, val_accuracy:0.9221\n",
      "Epoch [91/150], average_loss:0.2862, validation_loss:0.3177, val_accuracy:0.9091\n",
      "Epoch [92/150], average_loss:0.2865, validation_loss:0.3190, val_accuracy:0.8571\n",
      "Epoch [93/150], average_loss:0.2836, validation_loss:0.3160, val_accuracy:0.8701\n",
      "Epoch [94/150], average_loss:0.2850, validation_loss:0.3159, val_accuracy:0.8961\n",
      "Epoch [95/150], average_loss:0.2853, validation_loss:0.3126, val_accuracy:0.8961\n",
      "Epoch [96/150], average_loss:0.2804, validation_loss:0.3134, val_accuracy:0.9091\n",
      "Epoch [97/150], average_loss:0.2812, validation_loss:0.3081, val_accuracy:0.9221\n",
      "Epoch [98/150], average_loss:0.2828, validation_loss:0.3140, val_accuracy:0.9221\n",
      "Epoch [99/150], average_loss:0.2767, validation_loss:0.3123, val_accuracy:0.8571\n",
      "Epoch [100/150], average_loss:0.2808, validation_loss:0.3092, val_accuracy:0.9221\n",
      "Epoch [101/150], average_loss:0.2693, validation_loss:0.3113, val_accuracy:0.8312\n",
      "Epoch [102/150], average_loss:0.2676, validation_loss:0.3047, val_accuracy:0.9221\n"
     ]
    },
    {
     "name": "stdout",
     "output_type": "stream",
     "text": [
      "Epoch [103/150], average_loss:0.2670, validation_loss:0.3060, val_accuracy:0.8831\n",
      "Epoch [104/150], average_loss:0.2670, validation_loss:0.3056, val_accuracy:0.8831\n",
      "Epoch [105/150], average_loss:0.2668, validation_loss:0.3055, val_accuracy:0.8442\n",
      "Epoch [106/150], average_loss:0.2666, validation_loss:0.3137, val_accuracy:0.9091\n",
      "Epoch [107/150], average_loss:0.2664, validation_loss:0.3026, val_accuracy:0.9091\n",
      "Epoch [108/150], average_loss:0.2663, validation_loss:0.3035, val_accuracy:0.9221\n",
      "Epoch [109/150], average_loss:0.2666, validation_loss:0.3020, val_accuracy:0.9351\n",
      "Epoch [110/150], average_loss:0.2667, validation_loss:0.3024, val_accuracy:0.8961\n",
      "Epoch [111/150], average_loss:0.2667, validation_loss:0.3057, val_accuracy:0.8831\n",
      "Epoch [112/150], average_loss:0.2661, validation_loss:0.3053, val_accuracy:0.8442\n",
      "Epoch [113/150], average_loss:0.2664, validation_loss:0.3011, val_accuracy:0.9221\n",
      "Epoch [114/150], average_loss:0.2658, validation_loss:0.3004, val_accuracy:0.8961\n",
      "Epoch [115/150], average_loss:0.2664, validation_loss:0.3012, val_accuracy:0.9221\n",
      "Epoch [116/150], average_loss:0.2658, validation_loss:0.3018, val_accuracy:0.9351\n",
      "Epoch [117/150], average_loss:0.2664, validation_loss:0.3056, val_accuracy:0.8961\n",
      "Epoch [118/150], average_loss:0.2659, validation_loss:0.3001, val_accuracy:0.9221\n",
      "Epoch [119/150], average_loss:0.2654, validation_loss:0.2979, val_accuracy:0.9351\n",
      "Epoch [120/150], average_loss:0.2654, validation_loss:0.3074, val_accuracy:0.8052\n",
      "Epoch [121/150], average_loss:0.2650, validation_loss:0.3024, val_accuracy:0.8961\n",
      "Epoch [122/150], average_loss:0.2651, validation_loss:0.3070, val_accuracy:0.8831\n",
      "Epoch [123/150], average_loss:0.2646, validation_loss:0.3037, val_accuracy:0.8442\n",
      "Epoch [124/150], average_loss:0.2649, validation_loss:0.3018, val_accuracy:0.9221\n",
      "Epoch [125/150], average_loss:0.2646, validation_loss:0.3007, val_accuracy:0.8831\n",
      "Epoch [126/150], average_loss:0.2647, validation_loss:0.3009, val_accuracy:0.8961\n",
      "Epoch [127/150], average_loss:0.2645, validation_loss:0.3027, val_accuracy:0.8961\n",
      "Epoch [128/150], average_loss:0.2644, validation_loss:0.2991, val_accuracy:0.9610\n",
      "Epoch [129/150], average_loss:0.2636, validation_loss:0.3008, val_accuracy:0.9351\n",
      "Epoch [130/150], average_loss:0.2634, validation_loss:0.2989, val_accuracy:0.8961\n",
      "Epoch [131/150], average_loss:0.2636, validation_loss:0.3007, val_accuracy:0.9091\n",
      "Epoch [132/150], average_loss:0.2637, validation_loss:0.3034, val_accuracy:0.9221\n",
      "Epoch [133/150], average_loss:0.2633, validation_loss:0.3066, val_accuracy:0.8571\n",
      "Epoch [134/150], average_loss:0.2640, validation_loss:0.3063, val_accuracy:0.8312\n",
      "Epoch [135/150], average_loss:0.2634, validation_loss:0.3014, val_accuracy:0.8831\n",
      "Epoch [136/150], average_loss:0.2632, validation_loss:0.3058, val_accuracy:0.8701\n",
      "Epoch [137/150], average_loss:0.2634, validation_loss:0.2983, val_accuracy:0.8831\n",
      "Epoch [138/150], average_loss:0.2636, validation_loss:0.2997, val_accuracy:0.9351\n",
      "Epoch [139/150], average_loss:0.2629, validation_loss:0.3024, val_accuracy:0.8831\n",
      "Epoch [140/150], average_loss:0.2627, validation_loss:0.2948, val_accuracy:0.9610\n",
      "Epoch [141/150], average_loss:0.2630, validation_loss:0.2995, val_accuracy:0.9091\n",
      "Epoch [142/150], average_loss:0.2622, validation_loss:0.3022, val_accuracy:0.8442\n",
      "Epoch [143/150], average_loss:0.2621, validation_loss:0.2987, val_accuracy:0.9351\n",
      "Epoch [144/150], average_loss:0.2629, validation_loss:0.3032, val_accuracy:0.8571\n",
      "Epoch [145/150], average_loss:0.2618, validation_loss:0.3034, val_accuracy:0.8312\n",
      "Epoch [146/150], average_loss:0.2614, validation_loss:0.3001, val_accuracy:0.8961\n",
      "Epoch [147/150], average_loss:0.2623, validation_loss:0.3034, val_accuracy:0.8701\n",
      "Epoch [148/150], average_loss:0.2617, validation_loss:0.2971, val_accuracy:0.8831\n",
      "Epoch [149/150], average_loss:0.2612, validation_loss:0.3014, val_accuracy:0.8961\n",
      "Epoch [150/150], average_loss:0.2614, validation_loss:0.2961, val_accuracy:0.9221\n"
     ]
    }
   ],
   "source": [
    "lh = m18(epochs=150, train_loader=train_loader, validation_loader=valid_loader)"
   ]
  },
  {
   "cell_type": "code",
   "execution_count": 33,
   "metadata": {
    "collapsed": true
   },
   "outputs": [
    {
     "name": "stdout",
     "output_type": "stream",
     "text": [
      "Epoch [151/200], average_loss:0.2616, validation_loss:0.2972, val_accuracy:0.8831\n",
      "Epoch [152/200], average_loss:0.2613, validation_loss:0.2964, val_accuracy:0.9610\n",
      "Epoch [153/200], average_loss:0.2612, validation_loss:0.2987, val_accuracy:0.8831\n",
      "Epoch [154/200], average_loss:0.2607, validation_loss:0.2973, val_accuracy:0.9221\n",
      "Epoch [155/200], average_loss:0.2609, validation_loss:0.2993, val_accuracy:0.8831\n",
      "Epoch [156/200], average_loss:0.2606, validation_loss:0.2993, val_accuracy:0.8961\n",
      "Epoch [157/200], average_loss:0.2615, validation_loss:0.2998, val_accuracy:0.9091\n",
      "Epoch [158/200], average_loss:0.2600, validation_loss:0.2995, val_accuracy:0.8312\n",
      "Epoch [159/200], average_loss:0.2601, validation_loss:0.2974, val_accuracy:0.9481\n",
      "Epoch [160/200], average_loss:0.2600, validation_loss:0.2980, val_accuracy:0.8961\n",
      "Epoch [161/200], average_loss:0.2608, validation_loss:0.3006, val_accuracy:0.8831\n",
      "Epoch [162/200], average_loss:0.2600, validation_loss:0.2977, val_accuracy:0.8831\n",
      "Epoch [163/200], average_loss:0.2594, validation_loss:0.2955, val_accuracy:0.9221\n",
      "Epoch [164/200], average_loss:0.2595, validation_loss:0.3015, val_accuracy:0.8182\n",
      "Epoch [165/200], average_loss:0.2595, validation_loss:0.2959, val_accuracy:0.8961\n",
      "Epoch [166/200], average_loss:0.2592, validation_loss:0.2981, val_accuracy:0.8831\n",
      "Epoch [167/200], average_loss:0.2600, validation_loss:0.3039, val_accuracy:0.8442\n",
      "Epoch [168/200], average_loss:0.2594, validation_loss:0.2990, val_accuracy:0.8831\n",
      "Epoch [169/200], average_loss:0.2601, validation_loss:0.3008, val_accuracy:0.8961\n",
      "Epoch [170/200], average_loss:0.2598, validation_loss:0.2972, val_accuracy:0.8571\n",
      "Epoch [171/200], average_loss:0.2590, validation_loss:0.3013, val_accuracy:0.8961\n",
      "Epoch [172/200], average_loss:0.2591, validation_loss:0.2971, val_accuracy:0.8961\n",
      "Epoch [173/200], average_loss:0.2589, validation_loss:0.2983, val_accuracy:0.8961\n",
      "Epoch [174/200], average_loss:0.2587, validation_loss:0.2967, val_accuracy:0.8701\n",
      "Epoch [175/200], average_loss:0.2586, validation_loss:0.2948, val_accuracy:0.9351\n",
      "Epoch [176/200], average_loss:0.2591, validation_loss:0.3067, val_accuracy:0.8312\n",
      "Epoch [177/200], average_loss:0.2582, validation_loss:0.2975, val_accuracy:0.9091\n",
      "Epoch [178/200], average_loss:0.2585, validation_loss:0.2954, val_accuracy:0.9091\n",
      "Epoch [179/200], average_loss:0.2578, validation_loss:0.3051, val_accuracy:0.8312\n",
      "Epoch [180/200], average_loss:0.2576, validation_loss:0.2977, val_accuracy:0.8961\n",
      "Epoch [181/200], average_loss:0.2580, validation_loss:0.2990, val_accuracy:0.8442\n",
      "Epoch [182/200], average_loss:0.2578, validation_loss:0.2981, val_accuracy:0.8701\n",
      "Epoch [183/200], average_loss:0.2575, validation_loss:0.2946, val_accuracy:0.9351\n",
      "Epoch [184/200], average_loss:0.2572, validation_loss:0.2923, val_accuracy:0.9221\n",
      "Epoch [185/200], average_loss:0.2578, validation_loss:0.3056, val_accuracy:0.8312\n",
      "Epoch [186/200], average_loss:0.2577, validation_loss:0.2960, val_accuracy:0.9221\n",
      "Epoch [187/200], average_loss:0.2567, validation_loss:0.3004, val_accuracy:0.8182\n",
      "Epoch [188/200], average_loss:0.2565, validation_loss:0.2960, val_accuracy:0.9091\n",
      "Epoch [189/200], average_loss:0.2576, validation_loss:0.2962, val_accuracy:0.8961\n",
      "Epoch [190/200], average_loss:0.2566, validation_loss:0.3054, val_accuracy:0.9091\n",
      "Epoch [191/200], average_loss:0.2576, validation_loss:0.2995, val_accuracy:0.8442\n",
      "Epoch [192/200], average_loss:0.2569, validation_loss:0.2934, val_accuracy:0.9221\n",
      "Epoch [193/200], average_loss:0.2566, validation_loss:0.2979, val_accuracy:0.8442\n",
      "Epoch [194/200], average_loss:0.2566, validation_loss:0.2995, val_accuracy:0.8701\n",
      "Epoch [195/200], average_loss:0.2562, validation_loss:0.2955, val_accuracy:0.8961\n",
      "Epoch [196/200], average_loss:0.2560, validation_loss:0.2954, val_accuracy:0.8442\n",
      "Epoch [197/200], average_loss:0.2564, validation_loss:0.2942, val_accuracy:0.8961\n",
      "Epoch [198/200], average_loss:0.2563, validation_loss:0.2925, val_accuracy:0.9481\n",
      "Epoch [199/200], average_loss:0.2558, validation_loss:0.2952, val_accuracy:0.8701\n",
      "Epoch [200/200], average_loss:0.2555, validation_loss:0.2962, val_accuracy:0.8961\n"
     ]
    }
   ],
   "source": [
    "lh = m18(epochs=range(150,200), train_loader=train_loader, validation_loader=valid_loader)"
   ]
  },
  {
   "cell_type": "code",
   "execution_count": 34,
   "metadata": {},
   "outputs": [],
   "source": [
    "m18.model.eval()\n",
    "with torch.no_grad():\n",
    "    x_pred = np.argmax(m18.model(torch.tensor(X_test).float().to(m18.device)).cpu().detach(), axis=1)\n"
   ]
  },
  {
   "cell_type": "code",
   "execution_count": 35,
   "metadata": {},
   "outputs": [
    {
     "data": {
      "text/plain": [
       "tensor([1, 1, 1,  ..., 3, 1, 0])"
      ]
     },
     "execution_count": 35,
     "metadata": {},
     "output_type": "execute_result"
    }
   ],
   "source": [
    "x_pred"
   ]
  },
  {
   "cell_type": "code",
   "execution_count": 36,
   "metadata": {},
   "outputs": [
    {
     "data": {
      "text/plain": [
       "0.8439657997106534"
      ]
     },
     "execution_count": 36,
     "metadata": {},
     "output_type": "execute_result"
    }
   ],
   "source": [
    "f1_score(y_true=y_test, y_pred=x_pred, average=\"macro\")"
   ]
  },
  {
   "cell_type": "code",
   "execution_count": 37,
   "metadata": {},
   "outputs": [
    {
     "data": {
      "text/plain": [
       "0.8971677820267686"
      ]
     },
     "execution_count": 37,
     "metadata": {},
     "output_type": "execute_result"
    }
   ],
   "source": [
    "accuracy_score(y_true=y_test, y_pred=x_pred)"
   ]
  },
  {
   "cell_type": "code",
   "execution_count": 38,
   "metadata": {},
   "outputs": [
    {
     "data": {
      "text/plain": [
       "array([[3551,  540,   24,  120],\n",
       "       [ 353, 9940,   25,  127],\n",
       "       [  24,   53,  380,   22],\n",
       "       [ 243,  178,   12, 1144]], dtype=int64)"
      ]
     },
     "execution_count": 38,
     "metadata": {},
     "output_type": "execute_result"
    }
   ],
   "source": [
    "confusion_matrix(y_true=y_test, y_pred=x_pred)"
   ]
  },
  {
   "cell_type": "code",
   "execution_count": 40,
   "metadata": {},
   "outputs": [],
   "source": [
    "m18.tb.close()"
   ]
  },
  {
   "cell_type": "code",
   "execution_count": 41,
   "metadata": {},
   "outputs": [],
   "source": [
    "#torch.save(m18.model, \"models_and_losses/CNN-full_conv.m-II_lr-{1e-3,1e-4}_bs-512.pt\")"
   ]
  },
  {
   "cell_type": "markdown",
   "metadata": {},
   "source": [
    "# test m.IV"
   ]
  },
  {
   "cell_type": "code",
   "execution_count": 42,
   "metadata": {},
   "outputs": [],
   "source": [
    "CNN_19 = nn.Sequential(\n",
    "            layers.Reshape(out_shape=(1,160)),\n",
    "            nn.Conv1d(in_channels=1, out_channels=16, kernel_size=6, stride=2, padding=0, bias=False), # n*1*160 -> n*16*78\n",
    "            nn.ReLU(inplace=True),\n",
    "            layers.CBD1dBlock(in_channels=16, out_channels=32, kernel_size=4, stride=2, bias=False, activation=nn.ReLU(), dropout=0.3),#n*16*78->n*32*38\n",
    "            layers.CBD1dBlock(in_channels=32, out_channels=64, kernel_size=4, stride=2, bias=False, activation=nn.ReLU(), dropout=0.3),#n*32*38->n*64*18\n",
    "            layers.Flatten(out_features=64*18),\n",
    "            nn.Dropout(p=0.3),\n",
    "            nn.Linear(in_features=64*18, out_features=4)\n",
    ")"
   ]
  },
  {
   "cell_type": "code",
   "execution_count": 43,
   "metadata": {},
   "outputs": [],
   "source": [
    "optimizer19= torch.optim.Adam(CNN_19.parameters(), lr=1e-3)"
   ]
  },
  {
   "cell_type": "code",
   "execution_count": 44,
   "metadata": {},
   "outputs": [],
   "source": [
    "train_loader = torch.utils.data.DataLoader(dataset = train, batch_size=512, shuffle=True)\n",
    "valid_loader = torch.utils.data.DataLoader(dataset = valid, batch_size=512, shuffle=True)"
   ]
  },
  {
   "cell_type": "code",
   "execution_count": 45,
   "metadata": {},
   "outputs": [
    {
     "name": "stdout",
     "output_type": "stream",
     "text": [
      "cuda:0\n"
     ]
    }
   ],
   "source": [
    "m19 = Trainer(\n",
    "        model=CNN_19,\n",
    "        optimizer=optimizer19,\n",
    "        loss_function=nn.CrossEntropyLoss(),\n",
    "        scheduler=torch.optim.lr_scheduler.MultiStepLR(optimizer19, milestones=[30], gamma=0.1),\n",
    "        tensorboard=True,\n",
    "        model_name=\"CNN-m.IV-Conv1-BN-Drop-0.3_ReLU_lr-{1e-3,1e-4}_bs-512\",\n",
    "        verbose=True\n",
    "        )"
   ]
  },
  {
   "cell_type": "code",
   "execution_count": 46,
   "metadata": {
    "scrolled": false
   },
   "outputs": [
    {
     "name": "stdout",
     "output_type": "stream",
     "text": [
      "Epoch [1/150], average_loss:0.6858, validation_loss:0.5015, val_accuracy:0.7403\n",
      "Epoch [2/150], average_loss:0.4783, validation_loss:0.4059, val_accuracy:0.8701\n",
      "Epoch [3/150], average_loss:0.4219, validation_loss:0.3731, val_accuracy:0.8442\n",
      "Epoch [4/150], average_loss:0.3981, validation_loss:0.3415, val_accuracy:0.9091\n",
      "Epoch [5/150], average_loss:0.3745, validation_loss:0.3307, val_accuracy:0.8701\n",
      "Epoch [6/150], average_loss:0.3731, validation_loss:0.3163, val_accuracy:0.9610\n",
      "Epoch [7/150], average_loss:0.3592, validation_loss:0.3173, val_accuracy:0.8571\n",
      "Epoch [8/150], average_loss:0.3524, validation_loss:0.3337, val_accuracy:0.8701\n",
      "Epoch [9/150], average_loss:0.3508, validation_loss:0.3032, val_accuracy:0.9091\n",
      "Epoch [10/150], average_loss:0.3438, validation_loss:0.3118, val_accuracy:0.9351\n",
      "Epoch [11/150], average_loss:0.3386, validation_loss:0.3153, val_accuracy:0.8571\n",
      "Epoch [12/150], average_loss:0.3324, validation_loss:0.3399, val_accuracy:0.8442\n",
      "Epoch [13/150], average_loss:0.3297, validation_loss:0.3026, val_accuracy:0.8312\n",
      "Epoch [14/150], average_loss:0.3254, validation_loss:0.3215, val_accuracy:0.9091\n",
      "Epoch [15/150], average_loss:0.3244, validation_loss:0.3035, val_accuracy:0.8961\n",
      "Epoch [16/150], average_loss:0.3194, validation_loss:0.2901, val_accuracy:0.8182\n",
      "Epoch [17/150], average_loss:0.3157, validation_loss:0.2950, val_accuracy:0.9740\n",
      "Epoch [18/150], average_loss:0.3152, validation_loss:0.3046, val_accuracy:0.9221\n",
      "Epoch [19/150], average_loss:0.3119, validation_loss:0.3023, val_accuracy:0.9351\n",
      "Epoch [20/150], average_loss:0.3095, validation_loss:0.2769, val_accuracy:0.8571\n",
      "Epoch [21/150], average_loss:0.3061, validation_loss:0.2755, val_accuracy:0.8571\n",
      "Epoch [22/150], average_loss:0.3102, validation_loss:0.2648, val_accuracy:0.9351\n",
      "Epoch [23/150], average_loss:0.3064, validation_loss:0.2727, val_accuracy:0.9091\n",
      "Epoch [24/150], average_loss:0.2998, validation_loss:0.3029, val_accuracy:0.8831\n",
      "Epoch [25/150], average_loss:0.2973, validation_loss:0.2771, val_accuracy:0.8831\n",
      "Epoch [26/150], average_loss:0.2953, validation_loss:0.2598, val_accuracy:0.9481\n",
      "Epoch [27/150], average_loss:0.2890, validation_loss:0.2775, val_accuracy:0.8831\n",
      "Epoch [28/150], average_loss:0.2898, validation_loss:0.2646, val_accuracy:0.9351\n",
      "Epoch [29/150], average_loss:0.2907, validation_loss:0.2618, val_accuracy:0.8961\n",
      "Epoch [30/150], average_loss:0.2877, validation_loss:0.2559, val_accuracy:0.9610\n",
      "Epoch [31/150], average_loss:0.2751, validation_loss:0.2481, val_accuracy:0.9221\n",
      "Epoch [32/150], average_loss:0.2706, validation_loss:0.2442, val_accuracy:0.9351\n",
      "Epoch [33/150], average_loss:0.2709, validation_loss:0.2500, val_accuracy:0.9091\n",
      "Epoch [34/150], average_loss:0.2725, validation_loss:0.2495, val_accuracy:0.8831\n",
      "Epoch [35/150], average_loss:0.2718, validation_loss:0.2524, val_accuracy:0.9091\n",
      "Epoch [36/150], average_loss:0.2684, validation_loss:0.2487, val_accuracy:0.9351\n",
      "Epoch [37/150], average_loss:0.2705, validation_loss:0.2471, val_accuracy:0.9221\n",
      "Epoch [38/150], average_loss:0.2707, validation_loss:0.2459, val_accuracy:0.8831\n",
      "Epoch [39/150], average_loss:0.2678, validation_loss:0.2469, val_accuracy:0.8442\n",
      "Epoch [40/150], average_loss:0.2681, validation_loss:0.2437, val_accuracy:0.9481\n",
      "Epoch [41/150], average_loss:0.2682, validation_loss:0.2451, val_accuracy:0.8831\n",
      "Epoch [42/150], average_loss:0.2679, validation_loss:0.2420, val_accuracy:0.9221\n",
      "Epoch [43/150], average_loss:0.2673, validation_loss:0.2433, val_accuracy:0.8831\n",
      "Epoch [44/150], average_loss:0.2699, validation_loss:0.2435, val_accuracy:0.9091\n",
      "Epoch [45/150], average_loss:0.2684, validation_loss:0.2428, val_accuracy:0.9091\n",
      "Epoch [46/150], average_loss:0.2677, validation_loss:0.2434, val_accuracy:0.9091\n",
      "Epoch [47/150], average_loss:0.2684, validation_loss:0.2479, val_accuracy:0.9221\n",
      "Epoch [48/150], average_loss:0.2658, validation_loss:0.2423, val_accuracy:0.9481\n",
      "Epoch [49/150], average_loss:0.2680, validation_loss:0.2434, val_accuracy:0.9091\n",
      "Epoch [50/150], average_loss:0.2671, validation_loss:0.2405, val_accuracy:0.9091\n",
      "Epoch [51/150], average_loss:0.2664, validation_loss:0.2412, val_accuracy:0.9221\n",
      "Epoch [52/150], average_loss:0.2659, validation_loss:0.2398, val_accuracy:0.8831\n",
      "Epoch [53/150], average_loss:0.2653, validation_loss:0.2411, val_accuracy:0.8961\n",
      "Epoch [54/150], average_loss:0.2684, validation_loss:0.2528, val_accuracy:0.9221\n",
      "Epoch [55/150], average_loss:0.2668, validation_loss:0.2387, val_accuracy:0.9740\n",
      "Epoch [56/150], average_loss:0.2652, validation_loss:0.2429, val_accuracy:0.8701\n",
      "Epoch [57/150], average_loss:0.2647, validation_loss:0.2389, val_accuracy:0.9091\n",
      "Epoch [58/150], average_loss:0.2656, validation_loss:0.2472, val_accuracy:0.8961\n",
      "Epoch [59/150], average_loss:0.2645, validation_loss:0.2374, val_accuracy:0.9351\n",
      "Epoch [60/150], average_loss:0.2640, validation_loss:0.2441, val_accuracy:0.9221\n",
      "Epoch [61/150], average_loss:0.2664, validation_loss:0.2466, val_accuracy:0.8571\n",
      "Epoch [62/150], average_loss:0.2641, validation_loss:0.2485, val_accuracy:0.8701\n",
      "Epoch [63/150], average_loss:0.2629, validation_loss:0.2438, val_accuracy:0.7922\n",
      "Epoch [64/150], average_loss:0.2649, validation_loss:0.2389, val_accuracy:0.8961\n",
      "Epoch [65/150], average_loss:0.2644, validation_loss:0.2343, val_accuracy:0.9351\n",
      "Epoch [66/150], average_loss:0.2632, validation_loss:0.2389, val_accuracy:0.9351\n",
      "Epoch [67/150], average_loss:0.2615, validation_loss:0.2381, val_accuracy:0.9221\n",
      "Epoch [68/150], average_loss:0.2606, validation_loss:0.2388, val_accuracy:0.9091\n",
      "Epoch [69/150], average_loss:0.2591, validation_loss:0.2464, val_accuracy:0.9091\n",
      "Epoch [70/150], average_loss:0.2630, validation_loss:0.2423, val_accuracy:0.9091\n",
      "Epoch [71/150], average_loss:0.2613, validation_loss:0.2431, val_accuracy:0.8961\n",
      "Epoch [72/150], average_loss:0.2612, validation_loss:0.2382, val_accuracy:0.8831\n",
      "Epoch [73/150], average_loss:0.2631, validation_loss:0.2388, val_accuracy:0.9481\n",
      "Epoch [74/150], average_loss:0.2618, validation_loss:0.2373, val_accuracy:0.9351\n",
      "Epoch [75/150], average_loss:0.2621, validation_loss:0.2449, val_accuracy:0.9091\n",
      "Epoch [76/150], average_loss:0.2605, validation_loss:0.2339, val_accuracy:0.9351\n",
      "Epoch [77/150], average_loss:0.2636, validation_loss:0.2441, val_accuracy:0.8571\n",
      "Epoch [78/150], average_loss:0.2612, validation_loss:0.2351, val_accuracy:0.8961\n",
      "Epoch [79/150], average_loss:0.2616, validation_loss:0.2331, val_accuracy:0.9610\n",
      "Epoch [80/150], average_loss:0.2601, validation_loss:0.2384, val_accuracy:0.9091\n",
      "Epoch [81/150], average_loss:0.2617, validation_loss:0.2355, val_accuracy:0.9091\n",
      "Epoch [82/150], average_loss:0.2601, validation_loss:0.2478, val_accuracy:0.8961\n",
      "Epoch [83/150], average_loss:0.2597, validation_loss:0.2385, val_accuracy:0.8961\n",
      "Epoch [84/150], average_loss:0.2576, validation_loss:0.2382, val_accuracy:0.9221\n",
      "Epoch [85/150], average_loss:0.2600, validation_loss:0.2367, val_accuracy:0.9351\n",
      "Epoch [86/150], average_loss:0.2603, validation_loss:0.2323, val_accuracy:0.9091\n",
      "Epoch [87/150], average_loss:0.2591, validation_loss:0.2388, val_accuracy:0.8701\n",
      "Epoch [88/150], average_loss:0.2590, validation_loss:0.2340, val_accuracy:0.9481\n",
      "Epoch [89/150], average_loss:0.2588, validation_loss:0.2342, val_accuracy:0.9351\n",
      "Epoch [90/150], average_loss:0.2577, validation_loss:0.2349, val_accuracy:0.9091\n",
      "Epoch [91/150], average_loss:0.2583, validation_loss:0.2338, val_accuracy:0.8831\n",
      "Epoch [92/150], average_loss:0.2586, validation_loss:0.2332, val_accuracy:0.9351\n",
      "Epoch [93/150], average_loss:0.2565, validation_loss:0.2336, val_accuracy:0.9481\n",
      "Epoch [94/150], average_loss:0.2587, validation_loss:0.2392, val_accuracy:0.9091\n",
      "Epoch [95/150], average_loss:0.2573, validation_loss:0.2415, val_accuracy:0.8961\n",
      "Epoch [96/150], average_loss:0.2586, validation_loss:0.2363, val_accuracy:0.9740\n",
      "Epoch [97/150], average_loss:0.2589, validation_loss:0.2362, val_accuracy:0.9091\n",
      "Epoch [98/150], average_loss:0.2555, validation_loss:0.2409, val_accuracy:0.9740\n",
      "Epoch [99/150], average_loss:0.2560, validation_loss:0.2315, val_accuracy:0.8831\n",
      "Epoch [100/150], average_loss:0.2562, validation_loss:0.2309, val_accuracy:0.9740\n",
      "Epoch [101/150], average_loss:0.2569, validation_loss:0.2364, val_accuracy:0.9221\n",
      "Epoch [102/150], average_loss:0.2572, validation_loss:0.2368, val_accuracy:0.8831\n"
     ]
    },
    {
     "name": "stdout",
     "output_type": "stream",
     "text": [
      "Epoch [103/150], average_loss:0.2554, validation_loss:0.2330, val_accuracy:0.9221\n",
      "Epoch [104/150], average_loss:0.2547, validation_loss:0.2304, val_accuracy:0.9481\n",
      "Epoch [105/150], average_loss:0.2546, validation_loss:0.2338, val_accuracy:0.9221\n",
      "Epoch [106/150], average_loss:0.2552, validation_loss:0.2293, val_accuracy:0.9351\n",
      "Epoch [107/150], average_loss:0.2558, validation_loss:0.2317, val_accuracy:0.9221\n",
      "Epoch [108/150], average_loss:0.2549, validation_loss:0.2313, val_accuracy:0.9351\n",
      "Epoch [109/150], average_loss:0.2562, validation_loss:0.2371, val_accuracy:0.8961\n",
      "Epoch [110/150], average_loss:0.2558, validation_loss:0.2486, val_accuracy:0.8701\n",
      "Epoch [111/150], average_loss:0.2556, validation_loss:0.2363, val_accuracy:0.8442\n",
      "Epoch [112/150], average_loss:0.2563, validation_loss:0.2284, val_accuracy:0.9351\n",
      "Epoch [113/150], average_loss:0.2569, validation_loss:0.2348, val_accuracy:0.8831\n",
      "Epoch [114/150], average_loss:0.2550, validation_loss:0.2297, val_accuracy:0.9481\n",
      "Epoch [115/150], average_loss:0.2569, validation_loss:0.2364, val_accuracy:0.8701\n",
      "Epoch [116/150], average_loss:0.2551, validation_loss:0.2324, val_accuracy:0.9351\n",
      "Epoch [117/150], average_loss:0.2554, validation_loss:0.2330, val_accuracy:0.8701\n",
      "Epoch [118/150], average_loss:0.2512, validation_loss:0.2277, val_accuracy:0.9610\n",
      "Epoch [119/150], average_loss:0.2537, validation_loss:0.2424, val_accuracy:0.8701\n",
      "Epoch [120/150], average_loss:0.2543, validation_loss:0.2366, val_accuracy:0.8831\n",
      "Epoch [121/150], average_loss:0.2536, validation_loss:0.2324, val_accuracy:0.8831\n",
      "Epoch [122/150], average_loss:0.2530, validation_loss:0.2375, val_accuracy:0.8831\n",
      "Epoch [123/150], average_loss:0.2540, validation_loss:0.2300, val_accuracy:0.9481\n",
      "Epoch [124/150], average_loss:0.2535, validation_loss:0.2403, val_accuracy:0.8442\n",
      "Epoch [125/150], average_loss:0.2543, validation_loss:0.2332, val_accuracy:0.8831\n",
      "Epoch [126/150], average_loss:0.2538, validation_loss:0.2340, val_accuracy:0.8701\n",
      "Epoch [127/150], average_loss:0.2550, validation_loss:0.2310, val_accuracy:0.9091\n",
      "Epoch [128/150], average_loss:0.2562, validation_loss:0.2293, val_accuracy:0.9351\n",
      "Epoch [129/150], average_loss:0.2524, validation_loss:0.2332, val_accuracy:0.8701\n",
      "Epoch [130/150], average_loss:0.2531, validation_loss:0.2316, val_accuracy:0.8571\n",
      "Epoch [131/150], average_loss:0.2528, validation_loss:0.2423, val_accuracy:0.8442\n",
      "Epoch [132/150], average_loss:0.2535, validation_loss:0.2291, val_accuracy:0.8831\n",
      "Epoch [133/150], average_loss:0.2529, validation_loss:0.2327, val_accuracy:0.8831\n",
      "Epoch [134/150], average_loss:0.2531, validation_loss:0.2335, val_accuracy:0.8831\n",
      "Epoch [135/150], average_loss:0.2529, validation_loss:0.2281, val_accuracy:0.9351\n",
      "Epoch [136/150], average_loss:0.2528, validation_loss:0.2303, val_accuracy:0.9351\n",
      "Epoch [137/150], average_loss:0.2504, validation_loss:0.2294, val_accuracy:0.9091\n",
      "Epoch [138/150], average_loss:0.2529, validation_loss:0.2314, val_accuracy:0.9221\n",
      "Epoch [139/150], average_loss:0.2527, validation_loss:0.2318, val_accuracy:0.8701\n",
      "Epoch [140/150], average_loss:0.2513, validation_loss:0.2249, val_accuracy:0.9091\n",
      "Epoch [141/150], average_loss:0.2519, validation_loss:0.2298, val_accuracy:0.8961\n",
      "Epoch [142/150], average_loss:0.2530, validation_loss:0.2264, val_accuracy:0.9351\n",
      "Epoch [143/150], average_loss:0.2510, validation_loss:0.2372, val_accuracy:0.9221\n",
      "Epoch [144/150], average_loss:0.2500, validation_loss:0.2287, val_accuracy:0.8831\n",
      "Epoch [145/150], average_loss:0.2514, validation_loss:0.2283, val_accuracy:0.8961\n",
      "Epoch [146/150], average_loss:0.2515, validation_loss:0.2247, val_accuracy:0.9351\n",
      "Epoch [147/150], average_loss:0.2512, validation_loss:0.2272, val_accuracy:0.9351\n",
      "Epoch [148/150], average_loss:0.2528, validation_loss:0.2245, val_accuracy:0.9610\n",
      "Epoch [149/150], average_loss:0.2507, validation_loss:0.2322, val_accuracy:0.9221\n",
      "Epoch [150/150], average_loss:0.2510, validation_loss:0.2304, val_accuracy:0.9351\n"
     ]
    }
   ],
   "source": [
    "lh = m19(epochs=150, train_loader=train_loader, validation_loader=valid_loader)"
   ]
  },
  {
   "cell_type": "code",
   "execution_count": 47,
   "metadata": {},
   "outputs": [],
   "source": [
    "m19.model.eval()\n",
    "with torch.no_grad():\n",
    "    x_pred = np.argmax(m19.model(torch.tensor(X_test).float().to(m19.device)).cpu().detach(), axis=1)\n"
   ]
  },
  {
   "cell_type": "code",
   "execution_count": 48,
   "metadata": {},
   "outputs": [
    {
     "data": {
      "text/plain": [
       "tensor([1, 1, 1,  ..., 0, 1, 0])"
      ]
     },
     "execution_count": 48,
     "metadata": {},
     "output_type": "execute_result"
    }
   ],
   "source": [
    "x_pred"
   ]
  },
  {
   "cell_type": "code",
   "execution_count": 49,
   "metadata": {},
   "outputs": [
    {
     "data": {
      "text/plain": [
       "0.8735287699438058"
      ]
     },
     "execution_count": 49,
     "metadata": {},
     "output_type": "execute_result"
    }
   ],
   "source": [
    "f1_score(y_true=y_test, y_pred=x_pred, average=\"macro\")"
   ]
  },
  {
   "cell_type": "code",
   "execution_count": 50,
   "metadata": {},
   "outputs": [
    {
     "data": {
      "text/plain": [
       "0.9167065009560229"
      ]
     },
     "execution_count": 50,
     "metadata": {},
     "output_type": "execute_result"
    }
   ],
   "source": [
    "accuracy_score(y_true=y_test, y_pred=x_pred)"
   ]
  },
  {
   "cell_type": "code",
   "execution_count": 51,
   "metadata": {
    "scrolled": true
   },
   "outputs": [
    {
     "data": {
      "text/plain": [
       "array([[3915,  194,   28,   98],\n",
       "       [ 495, 9782,   35,  133],\n",
       "       [  17,   30,  417,   15],\n",
       "       [ 252,   84,   13, 1228]], dtype=int64)"
      ]
     },
     "execution_count": 51,
     "metadata": {},
     "output_type": "execute_result"
    }
   ],
   "source": [
    "confusion_matrix(y_true=y_test, y_pred=x_pred)"
   ]
  },
  {
   "cell_type": "code",
   "execution_count": 53,
   "metadata": {},
   "outputs": [],
   "source": [
    "#torch.save(m19.model, \"models_and_losses/CNN-m.IV-Conv1-BN-Drop-0.3_ReLU_lr-{1e-3,1e-4}_bs-512_epoch-150.pt\")"
   ]
  },
  {
   "cell_type": "code",
   "execution_count": 54,
   "metadata": {
    "collapsed": true
   },
   "outputs": [
    {
     "name": "stdout",
     "output_type": "stream",
     "text": [
      "Epoch [151/250], average_loss:0.2503, validation_loss:0.2380, val_accuracy:0.8831\n",
      "Epoch [152/250], average_loss:0.2499, validation_loss:0.2282, val_accuracy:0.8701\n",
      "Epoch [153/250], average_loss:0.2520, validation_loss:0.2273, val_accuracy:0.8961\n",
      "Epoch [154/250], average_loss:0.2497, validation_loss:0.2222, val_accuracy:1.0000\n",
      "Epoch [155/250], average_loss:0.2526, validation_loss:0.2251, val_accuracy:0.9481\n",
      "Epoch [156/250], average_loss:0.2502, validation_loss:0.2299, val_accuracy:0.9481\n",
      "Epoch [157/250], average_loss:0.2502, validation_loss:0.2248, val_accuracy:0.9351\n",
      "Epoch [158/250], average_loss:0.2506, validation_loss:0.2221, val_accuracy:0.9610\n",
      "Epoch [159/250], average_loss:0.2498, validation_loss:0.2271, val_accuracy:0.8961\n",
      "Epoch [160/250], average_loss:0.2506, validation_loss:0.2317, val_accuracy:0.8701\n",
      "Epoch [161/250], average_loss:0.2482, validation_loss:0.2259, val_accuracy:0.9351\n",
      "Epoch [162/250], average_loss:0.2493, validation_loss:0.2275, val_accuracy:0.9221\n",
      "Epoch [163/250], average_loss:0.2509, validation_loss:0.2277, val_accuracy:0.8831\n",
      "Epoch [164/250], average_loss:0.2495, validation_loss:0.2276, val_accuracy:0.8961\n",
      "Epoch [165/250], average_loss:0.2489, validation_loss:0.2314, val_accuracy:0.8831\n",
      "Epoch [166/250], average_loss:0.2491, validation_loss:0.2241, val_accuracy:0.9481\n",
      "Epoch [167/250], average_loss:0.2477, validation_loss:0.2315, val_accuracy:0.9221\n",
      "Epoch [168/250], average_loss:0.2469, validation_loss:0.2266, val_accuracy:0.8831\n",
      "Epoch [169/250], average_loss:0.2488, validation_loss:0.2251, val_accuracy:0.9351\n",
      "Epoch [170/250], average_loss:0.2481, validation_loss:0.2273, val_accuracy:0.9091\n",
      "Epoch [171/250], average_loss:0.2469, validation_loss:0.2250, val_accuracy:0.9221\n",
      "Epoch [172/250], average_loss:0.2487, validation_loss:0.2247, val_accuracy:0.9481\n",
      "Epoch [173/250], average_loss:0.2493, validation_loss:0.2242, val_accuracy:0.9610\n",
      "Epoch [174/250], average_loss:0.2483, validation_loss:0.2271, val_accuracy:0.9221\n",
      "Epoch [175/250], average_loss:0.2484, validation_loss:0.2349, val_accuracy:0.9221\n",
      "Epoch [176/250], average_loss:0.2482, validation_loss:0.2256, val_accuracy:0.9740\n",
      "Epoch [177/250], average_loss:0.2494, validation_loss:0.2248, val_accuracy:0.9221\n",
      "Epoch [178/250], average_loss:0.2477, validation_loss:0.2296, val_accuracy:0.9091\n",
      "Epoch [179/250], average_loss:0.2511, validation_loss:0.2223, val_accuracy:0.9221\n",
      "Epoch [180/250], average_loss:0.2461, validation_loss:0.2279, val_accuracy:0.8961\n",
      "Epoch [181/250], average_loss:0.2501, validation_loss:0.2252, val_accuracy:0.9351\n",
      "Epoch [182/250], average_loss:0.2488, validation_loss:0.2204, val_accuracy:0.9351\n",
      "Epoch [183/250], average_loss:0.2480, validation_loss:0.2309, val_accuracy:0.9481\n",
      "Epoch [184/250], average_loss:0.2469, validation_loss:0.2286, val_accuracy:0.9091\n",
      "Epoch [185/250], average_loss:0.2467, validation_loss:0.2289, val_accuracy:0.9221\n",
      "Epoch [186/250], average_loss:0.2463, validation_loss:0.2251, val_accuracy:0.8831\n",
      "Epoch [187/250], average_loss:0.2457, validation_loss:0.2241, val_accuracy:0.9221\n",
      "Epoch [188/250], average_loss:0.2474, validation_loss:0.2234, val_accuracy:0.9091\n",
      "Epoch [189/250], average_loss:0.2476, validation_loss:0.2245, val_accuracy:0.9351\n",
      "Epoch [190/250], average_loss:0.2476, validation_loss:0.2234, val_accuracy:0.9091\n",
      "Epoch [191/250], average_loss:0.2445, validation_loss:0.2276, val_accuracy:0.9351\n",
      "Epoch [192/250], average_loss:0.2468, validation_loss:0.2225, val_accuracy:0.9091\n",
      "Epoch [193/250], average_loss:0.2483, validation_loss:0.2295, val_accuracy:0.8701\n",
      "Epoch [194/250], average_loss:0.2459, validation_loss:0.2246, val_accuracy:0.9091\n",
      "Epoch [195/250], average_loss:0.2463, validation_loss:0.2244, val_accuracy:0.9351\n",
      "Epoch [196/250], average_loss:0.2453, validation_loss:0.2243, val_accuracy:0.9221\n",
      "Epoch [197/250], average_loss:0.2468, validation_loss:0.2249, val_accuracy:0.9091\n",
      "Epoch [198/250], average_loss:0.2450, validation_loss:0.2240, val_accuracy:0.8701\n",
      "Epoch [199/250], average_loss:0.2457, validation_loss:0.2298, val_accuracy:0.8571\n",
      "Epoch [200/250], average_loss:0.2464, validation_loss:0.2243, val_accuracy:0.9221\n",
      "Epoch [201/250], average_loss:0.2450, validation_loss:0.2322, val_accuracy:0.8831\n",
      "Epoch [202/250], average_loss:0.2451, validation_loss:0.2322, val_accuracy:0.8701\n",
      "Epoch [203/250], average_loss:0.2461, validation_loss:0.2228, val_accuracy:0.9221\n",
      "Epoch [204/250], average_loss:0.2460, validation_loss:0.2225, val_accuracy:0.9481\n",
      "Epoch [205/250], average_loss:0.2455, validation_loss:0.2259, val_accuracy:0.8831\n",
      "Epoch [206/250], average_loss:0.2460, validation_loss:0.2245, val_accuracy:0.9091\n",
      "Epoch [207/250], average_loss:0.2475, validation_loss:0.2303, val_accuracy:0.9221\n",
      "Epoch [208/250], average_loss:0.2435, validation_loss:0.2218, val_accuracy:0.8961\n",
      "Epoch [209/250], average_loss:0.2448, validation_loss:0.2251, val_accuracy:0.9351\n",
      "Epoch [210/250], average_loss:0.2438, validation_loss:0.2223, val_accuracy:0.8701\n",
      "Epoch [211/250], average_loss:0.2465, validation_loss:0.2197, val_accuracy:0.9351\n",
      "Epoch [212/250], average_loss:0.2448, validation_loss:0.2241, val_accuracy:0.8831\n",
      "Epoch [213/250], average_loss:0.2443, validation_loss:0.2252, val_accuracy:0.8831\n",
      "Epoch [214/250], average_loss:0.2420, validation_loss:0.2182, val_accuracy:0.9610\n",
      "Epoch [215/250], average_loss:0.2432, validation_loss:0.2204, val_accuracy:0.9351\n",
      "Epoch [216/250], average_loss:0.2453, validation_loss:0.2257, val_accuracy:0.8701\n",
      "Epoch [217/250], average_loss:0.2420, validation_loss:0.2200, val_accuracy:0.9091\n",
      "Epoch [218/250], average_loss:0.2452, validation_loss:0.2183, val_accuracy:0.9740\n",
      "Epoch [219/250], average_loss:0.2443, validation_loss:0.2256, val_accuracy:0.8571\n",
      "Epoch [220/250], average_loss:0.2445, validation_loss:0.2223, val_accuracy:0.9091\n",
      "Epoch [221/250], average_loss:0.2464, validation_loss:0.2218, val_accuracy:0.8571\n",
      "Epoch [222/250], average_loss:0.2446, validation_loss:0.2243, val_accuracy:0.9351\n",
      "Epoch [223/250], average_loss:0.2433, validation_loss:0.2177, val_accuracy:0.9610\n",
      "Epoch [224/250], average_loss:0.2451, validation_loss:0.2224, val_accuracy:0.9221\n",
      "Epoch [225/250], average_loss:0.2424, validation_loss:0.2175, val_accuracy:0.9351\n",
      "Epoch [226/250], average_loss:0.2436, validation_loss:0.2212, val_accuracy:0.9091\n",
      "Epoch [227/250], average_loss:0.2429, validation_loss:0.2227, val_accuracy:0.8831\n",
      "Epoch [228/250], average_loss:0.2465, validation_loss:0.2199, val_accuracy:0.9351\n",
      "Epoch [229/250], average_loss:0.2439, validation_loss:0.2291, val_accuracy:0.9351\n",
      "Epoch [230/250], average_loss:0.2440, validation_loss:0.2170, val_accuracy:0.9610\n",
      "Epoch [231/250], average_loss:0.2426, validation_loss:0.2243, val_accuracy:0.9481\n",
      "Epoch [232/250], average_loss:0.2446, validation_loss:0.2243, val_accuracy:0.8312\n",
      "Epoch [233/250], average_loss:0.2432, validation_loss:0.2136, val_accuracy:0.9610\n",
      "Epoch [234/250], average_loss:0.2430, validation_loss:0.2268, val_accuracy:0.9351\n",
      "Epoch [235/250], average_loss:0.2434, validation_loss:0.2215, val_accuracy:0.8961\n",
      "Epoch [236/250], average_loss:0.2422, validation_loss:0.2191, val_accuracy:0.9610\n",
      "Epoch [237/250], average_loss:0.2412, validation_loss:0.2166, val_accuracy:0.9610\n",
      "Epoch [238/250], average_loss:0.2432, validation_loss:0.2174, val_accuracy:0.9610\n",
      "Epoch [239/250], average_loss:0.2423, validation_loss:0.2226, val_accuracy:0.8961\n",
      "Epoch [240/250], average_loss:0.2407, validation_loss:0.2228, val_accuracy:0.9221\n",
      "Epoch [241/250], average_loss:0.2401, validation_loss:0.2203, val_accuracy:0.8701\n",
      "Epoch [242/250], average_loss:0.2441, validation_loss:0.2314, val_accuracy:0.8961\n",
      "Epoch [243/250], average_loss:0.2420, validation_loss:0.2270, val_accuracy:0.9221\n",
      "Epoch [244/250], average_loss:0.2405, validation_loss:0.2176, val_accuracy:0.8961\n",
      "Epoch [245/250], average_loss:0.2421, validation_loss:0.2188, val_accuracy:0.9091\n",
      "Epoch [246/250], average_loss:0.2430, validation_loss:0.2248, val_accuracy:0.9221\n",
      "Epoch [247/250], average_loss:0.2425, validation_loss:0.2210, val_accuracy:0.9091\n",
      "Epoch [248/250], average_loss:0.2437, validation_loss:0.2272, val_accuracy:0.8961\n",
      "Epoch [249/250], average_loss:0.2434, validation_loss:0.2214, val_accuracy:0.9351\n",
      "Epoch [250/250], average_loss:0.2398, validation_loss:0.2210, val_accuracy:0.9091\n"
     ]
    }
   ],
   "source": [
    "lh = m19(epochs=range(150,250), train_loader=train_loader, validation_loader=valid_loader)"
   ]
  },
  {
   "cell_type": "code",
   "execution_count": 55,
   "metadata": {},
   "outputs": [],
   "source": [
    "m19.model.eval()\n",
    "with torch.no_grad():\n",
    "    x_pred = np.argmax(m19.model(torch.tensor(X_test).float().to(m19.device)).cpu().detach(), axis=1)\n"
   ]
  },
  {
   "cell_type": "code",
   "execution_count": 56,
   "metadata": {},
   "outputs": [
    {
     "data": {
      "text/plain": [
       "tensor([1, 1, 1,  ..., 0, 1, 0])"
      ]
     },
     "execution_count": 56,
     "metadata": {},
     "output_type": "execute_result"
    }
   ],
   "source": [
    "x_pred"
   ]
  },
  {
   "cell_type": "code",
   "execution_count": 57,
   "metadata": {},
   "outputs": [
    {
     "data": {
      "text/plain": [
       "0.8766860982688688"
      ]
     },
     "execution_count": 57,
     "metadata": {},
     "output_type": "execute_result"
    }
   ],
   "source": [
    "f1_score(y_true=y_test, y_pred=x_pred, average=\"macro\")"
   ]
  },
  {
   "cell_type": "code",
   "execution_count": 58,
   "metadata": {},
   "outputs": [
    {
     "data": {
      "text/plain": [
       "0.9202318355640535"
      ]
     },
     "execution_count": 58,
     "metadata": {},
     "output_type": "execute_result"
    }
   ],
   "source": [
    "accuracy_score(y_true=y_test, y_pred=x_pred)"
   ]
  },
  {
   "cell_type": "code",
   "execution_count": 59,
   "metadata": {
    "scrolled": true
   },
   "outputs": [
    {
     "data": {
      "text/plain": [
       "array([[3889,  207,   29,  110],\n",
       "       [ 425, 9841,   36,  143],\n",
       "       [  15,   30,  418,   16],\n",
       "       [ 228,   84,   12, 1253]], dtype=int64)"
      ]
     },
     "execution_count": 59,
     "metadata": {},
     "output_type": "execute_result"
    }
   ],
   "source": [
    "confusion_matrix(y_true=y_test, y_pred=x_pred)"
   ]
  },
  {
   "cell_type": "code",
   "execution_count": 60,
   "metadata": {},
   "outputs": [],
   "source": [
    "#torch.save(m19.model, \"models_and_losses/CNN-m.IV-Conv1-BN-Drop-0.3_ReLU_lr-{1e-3,1e-4}_bs-512_epoch-250.pt\")"
   ]
  },
  {
   "cell_type": "code",
   "execution_count": 61,
   "metadata": {
    "collapsed": true
   },
   "outputs": [
    {
     "name": "stdout",
     "output_type": "stream",
     "text": [
      "Epoch [251/350], average_loss:0.2410, validation_loss:0.2166, val_accuracy:0.9351\n",
      "Epoch [252/350], average_loss:0.2420, validation_loss:0.2193, val_accuracy:0.8701\n",
      "Epoch [253/350], average_loss:0.2428, validation_loss:0.2299, val_accuracy:0.8571\n",
      "Epoch [254/350], average_loss:0.2421, validation_loss:0.2200, val_accuracy:0.9351\n",
      "Epoch [255/350], average_loss:0.2409, validation_loss:0.2165, val_accuracy:0.9351\n",
      "Epoch [256/350], average_loss:0.2414, validation_loss:0.2229, val_accuracy:0.8961\n",
      "Epoch [257/350], average_loss:0.2409, validation_loss:0.2178, val_accuracy:0.9610\n",
      "Epoch [258/350], average_loss:0.2437, validation_loss:0.2174, val_accuracy:0.9221\n",
      "Epoch [259/350], average_loss:0.2409, validation_loss:0.2213, val_accuracy:0.8442\n",
      "Epoch [260/350], average_loss:0.2410, validation_loss:0.2140, val_accuracy:0.9740\n",
      "Epoch [261/350], average_loss:0.2398, validation_loss:0.2206, val_accuracy:0.9091\n",
      "Epoch [262/350], average_loss:0.2404, validation_loss:0.2302, val_accuracy:0.9221\n",
      "Epoch [263/350], average_loss:0.2434, validation_loss:0.2201, val_accuracy:0.9221\n",
      "Epoch [264/350], average_loss:0.2395, validation_loss:0.2187, val_accuracy:0.8831\n",
      "Epoch [265/350], average_loss:0.2404, validation_loss:0.2204, val_accuracy:0.8961\n",
      "Epoch [266/350], average_loss:0.2409, validation_loss:0.2168, val_accuracy:0.9091\n",
      "Epoch [267/350], average_loss:0.2401, validation_loss:0.2175, val_accuracy:0.9481\n",
      "Epoch [268/350], average_loss:0.2410, validation_loss:0.2299, val_accuracy:0.8831\n",
      "Epoch [269/350], average_loss:0.2402, validation_loss:0.2155, val_accuracy:0.9351\n",
      "Epoch [270/350], average_loss:0.2396, validation_loss:0.2153, val_accuracy:0.9870\n",
      "Epoch [271/350], average_loss:0.2410, validation_loss:0.2202, val_accuracy:0.9351\n",
      "Epoch [272/350], average_loss:0.2394, validation_loss:0.2137, val_accuracy:0.9351\n",
      "Epoch [273/350], average_loss:0.2405, validation_loss:0.2177, val_accuracy:0.9221\n",
      "Epoch [274/350], average_loss:0.2384, validation_loss:0.2169, val_accuracy:0.8961\n",
      "Epoch [275/350], average_loss:0.2394, validation_loss:0.2199, val_accuracy:0.8961\n",
      "Epoch [276/350], average_loss:0.2379, validation_loss:0.2173, val_accuracy:0.9091\n",
      "Epoch [277/350], average_loss:0.2404, validation_loss:0.2239, val_accuracy:0.9091\n",
      "Epoch [278/350], average_loss:0.2387, validation_loss:0.2258, val_accuracy:0.9221\n",
      "Epoch [279/350], average_loss:0.2425, validation_loss:0.2243, val_accuracy:0.8571\n",
      "Epoch [280/350], average_loss:0.2413, validation_loss:0.2176, val_accuracy:0.9351\n",
      "Epoch [281/350], average_loss:0.2391, validation_loss:0.2179, val_accuracy:0.9091\n",
      "Epoch [282/350], average_loss:0.2372, validation_loss:0.2167, val_accuracy:0.9221\n",
      "Epoch [283/350], average_loss:0.2395, validation_loss:0.2186, val_accuracy:0.9221\n",
      "Epoch [284/350], average_loss:0.2394, validation_loss:0.2182, val_accuracy:0.9610\n",
      "Epoch [285/350], average_loss:0.2419, validation_loss:0.2173, val_accuracy:0.9221\n",
      "Epoch [286/350], average_loss:0.2396, validation_loss:0.2142, val_accuracy:0.9610\n",
      "Epoch [287/350], average_loss:0.2379, validation_loss:0.2204, val_accuracy:0.9091\n",
      "Epoch [288/350], average_loss:0.2384, validation_loss:0.2175, val_accuracy:0.8182\n",
      "Epoch [289/350], average_loss:0.2377, validation_loss:0.2191, val_accuracy:0.8571\n",
      "Epoch [290/350], average_loss:0.2382, validation_loss:0.2183, val_accuracy:0.8571\n",
      "Epoch [291/350], average_loss:0.2394, validation_loss:0.2142, val_accuracy:0.9351\n",
      "Epoch [292/350], average_loss:0.2385, validation_loss:0.2134, val_accuracy:0.9740\n",
      "Epoch [293/350], average_loss:0.2385, validation_loss:0.2174, val_accuracy:0.9221\n",
      "Epoch [294/350], average_loss:0.2386, validation_loss:0.2174, val_accuracy:0.9610\n",
      "Epoch [295/350], average_loss:0.2394, validation_loss:0.2192, val_accuracy:0.9091\n",
      "Epoch [296/350], average_loss:0.2381, validation_loss:0.2201, val_accuracy:0.9221\n",
      "Epoch [297/350], average_loss:0.2383, validation_loss:0.2226, val_accuracy:0.8831\n",
      "Epoch [298/350], average_loss:0.2409, validation_loss:0.2262, val_accuracy:0.8312\n",
      "Epoch [299/350], average_loss:0.2375, validation_loss:0.2157, val_accuracy:0.9351\n",
      "Epoch [300/350], average_loss:0.2407, validation_loss:0.2143, val_accuracy:0.9221\n",
      "Epoch [301/350], average_loss:0.2384, validation_loss:0.2217, val_accuracy:0.8831\n",
      "Epoch [302/350], average_loss:0.2374, validation_loss:0.2208, val_accuracy:0.9091\n",
      "Epoch [303/350], average_loss:0.2387, validation_loss:0.2183, val_accuracy:0.9221\n",
      "Epoch [304/350], average_loss:0.2397, validation_loss:0.2126, val_accuracy:0.9870\n",
      "Epoch [305/350], average_loss:0.2367, validation_loss:0.2146, val_accuracy:0.9221\n",
      "Epoch [306/350], average_loss:0.2392, validation_loss:0.2208, val_accuracy:0.8961\n",
      "Epoch [307/350], average_loss:0.2382, validation_loss:0.2139, val_accuracy:0.9610\n",
      "Epoch [308/350], average_loss:0.2384, validation_loss:0.2174, val_accuracy:0.8961\n",
      "Epoch [309/350], average_loss:0.2365, validation_loss:0.2204, val_accuracy:0.9481\n",
      "Epoch [310/350], average_loss:0.2374, validation_loss:0.2154, val_accuracy:0.8961\n",
      "Epoch [311/350], average_loss:0.2383, validation_loss:0.2127, val_accuracy:0.9351\n",
      "Epoch [312/350], average_loss:0.2369, validation_loss:0.2120, val_accuracy:0.9740\n",
      "Epoch [313/350], average_loss:0.2360, validation_loss:0.2193, val_accuracy:0.9221\n",
      "Epoch [314/350], average_loss:0.2375, validation_loss:0.2160, val_accuracy:0.9610\n",
      "Epoch [315/350], average_loss:0.2363, validation_loss:0.2190, val_accuracy:0.9091\n",
      "Epoch [316/350], average_loss:0.2381, validation_loss:0.2261, val_accuracy:0.8701\n",
      "Epoch [317/350], average_loss:0.2375, validation_loss:0.2186, val_accuracy:0.9351\n",
      "Epoch [318/350], average_loss:0.2364, validation_loss:0.2238, val_accuracy:0.9221\n",
      "Epoch [319/350], average_loss:0.2349, validation_loss:0.2127, val_accuracy:0.9221\n",
      "Epoch [320/350], average_loss:0.2353, validation_loss:0.2198, val_accuracy:0.9481\n",
      "Epoch [321/350], average_loss:0.2386, validation_loss:0.2159, val_accuracy:0.9221\n",
      "Epoch [322/350], average_loss:0.2368, validation_loss:0.2189, val_accuracy:0.8571\n",
      "Epoch [323/350], average_loss:0.2365, validation_loss:0.2164, val_accuracy:0.8701\n",
      "Epoch [324/350], average_loss:0.2358, validation_loss:0.2150, val_accuracy:0.9351\n",
      "Epoch [325/350], average_loss:0.2391, validation_loss:0.2147, val_accuracy:0.9091\n",
      "Epoch [326/350], average_loss:0.2380, validation_loss:0.2151, val_accuracy:0.8701\n",
      "Epoch [327/350], average_loss:0.2376, validation_loss:0.2133, val_accuracy:0.9091\n",
      "Epoch [328/350], average_loss:0.2356, validation_loss:0.2162, val_accuracy:0.9740\n",
      "Epoch [329/350], average_loss:0.2367, validation_loss:0.2140, val_accuracy:0.9221\n",
      "Epoch [330/350], average_loss:0.2351, validation_loss:0.2211, val_accuracy:0.8831\n",
      "Epoch [331/350], average_loss:0.2378, validation_loss:0.2174, val_accuracy:0.8571\n",
      "Epoch [332/350], average_loss:0.2342, validation_loss:0.2138, val_accuracy:0.9481\n",
      "Epoch [333/350], average_loss:0.2358, validation_loss:0.2199, val_accuracy:0.9610\n",
      "Epoch [334/350], average_loss:0.2382, validation_loss:0.2146, val_accuracy:0.9221\n",
      "Epoch [335/350], average_loss:0.2366, validation_loss:0.2138, val_accuracy:0.9351\n",
      "Epoch [336/350], average_loss:0.2348, validation_loss:0.2169, val_accuracy:0.9351\n",
      "Epoch [337/350], average_loss:0.2353, validation_loss:0.2146, val_accuracy:0.8961\n",
      "Epoch [338/350], average_loss:0.2373, validation_loss:0.2107, val_accuracy:0.9740\n",
      "Epoch [339/350], average_loss:0.2339, validation_loss:0.2158, val_accuracy:0.8571\n",
      "Epoch [340/350], average_loss:0.2344, validation_loss:0.2180, val_accuracy:0.9221\n",
      "Epoch [341/350], average_loss:0.2338, validation_loss:0.2126, val_accuracy:0.9351\n",
      "Epoch [342/350], average_loss:0.2366, validation_loss:0.2215, val_accuracy:0.9221\n",
      "Epoch [343/350], average_loss:0.2342, validation_loss:0.2194, val_accuracy:0.8831\n",
      "Epoch [344/350], average_loss:0.2337, validation_loss:0.2147, val_accuracy:0.8831\n",
      "Epoch [345/350], average_loss:0.2351, validation_loss:0.2113, val_accuracy:0.9221\n",
      "Epoch [346/350], average_loss:0.2350, validation_loss:0.2105, val_accuracy:0.9091\n",
      "Epoch [347/350], average_loss:0.2371, validation_loss:0.2091, val_accuracy:0.9740\n",
      "Epoch [348/350], average_loss:0.2347, validation_loss:0.2119, val_accuracy:0.9221\n",
      "Epoch [349/350], average_loss:0.2361, validation_loss:0.2111, val_accuracy:0.9221\n",
      "Epoch [350/350], average_loss:0.2347, validation_loss:0.2125, val_accuracy:0.9221\n"
     ]
    }
   ],
   "source": [
    "lh = m19(epochs=range(250,350), train_loader=train_loader, validation_loader=valid_loader)"
   ]
  },
  {
   "cell_type": "code",
   "execution_count": 62,
   "metadata": {},
   "outputs": [],
   "source": [
    "m19.model.eval()\n",
    "with torch.no_grad():\n",
    "    x_pred = np.argmax(m19.model(torch.tensor(X_test).float().to(m19.device)).cpu().detach(), axis=1)\n"
   ]
  },
  {
   "cell_type": "code",
   "execution_count": 63,
   "metadata": {},
   "outputs": [
    {
     "data": {
      "text/plain": [
       "tensor([1, 1, 1,  ..., 0, 1, 0])"
      ]
     },
     "execution_count": 63,
     "metadata": {},
     "output_type": "execute_result"
    }
   ],
   "source": [
    "x_pred"
   ]
  },
  {
   "cell_type": "code",
   "execution_count": 64,
   "metadata": {},
   "outputs": [
    {
     "data": {
      "text/plain": [
       "0.8777875503329408"
      ]
     },
     "execution_count": 64,
     "metadata": {},
     "output_type": "execute_result"
    }
   ],
   "source": [
    "f1_score(y_true=y_test, y_pred=x_pred, average=\"macro\")"
   ]
  },
  {
   "cell_type": "code",
   "execution_count": 65,
   "metadata": {},
   "outputs": [
    {
     "data": {
      "text/plain": [
       "0.9248326959847036"
      ]
     },
     "execution_count": 65,
     "metadata": {},
     "output_type": "execute_result"
    }
   ],
   "source": [
    "accuracy_score(y_true=y_test, y_pred=x_pred)"
   ]
  },
  {
   "cell_type": "code",
   "execution_count": 66,
   "metadata": {
    "scrolled": true
   },
   "outputs": [
    {
     "data": {
      "text/plain": [
       "array([[3878,  237,   30,   90],\n",
       "       [ 321, 9947,   41,  136],\n",
       "       [  19,   27,  418,   15],\n",
       "       [ 248,   80,   14, 1235]], dtype=int64)"
      ]
     },
     "execution_count": 66,
     "metadata": {},
     "output_type": "execute_result"
    }
   ],
   "source": [
    "confusion_matrix(y_true=y_test, y_pred=x_pred)"
   ]
  },
  {
   "cell_type": "code",
   "execution_count": 67,
   "metadata": {},
   "outputs": [],
   "source": [
    "#torch.save(m19.model, \"models_and_losses/CNN-m.IV-Conv1-BN-Drop-0.3_ReLU_lr-{1e-3,1e-4}_bs-512_epoch-350.pt\")"
   ]
  },
  {
   "cell_type": "markdown",
   "metadata": {},
   "source": [
    "## pokus"
   ]
  },
  {
   "cell_type": "code",
   "execution_count": 68,
   "metadata": {},
   "outputs": [],
   "source": [
    "for param_group in m19.optimizer.param_groups:\n",
    "        param_group['lr'] = 1e-3"
   ]
  },
  {
   "cell_type": "code",
   "execution_count": 69,
   "metadata": {},
   "outputs": [
    {
     "name": "stdout",
     "output_type": "stream",
     "text": [
      "Epoch [351/380], average_loss:0.2589, validation_loss:0.2328, val_accuracy:0.8831\n",
      "Epoch [352/380], average_loss:0.2381, validation_loss:0.2182, val_accuracy:0.9091\n",
      "Epoch [353/380], average_loss:0.2362, validation_loss:0.2203, val_accuracy:0.9221\n",
      "Epoch [354/380], average_loss:0.2378, validation_loss:0.2156, val_accuracy:0.9481\n",
      "Epoch [355/380], average_loss:0.2380, validation_loss:0.2136, val_accuracy:0.9221\n",
      "Epoch [356/380], average_loss:0.2344, validation_loss:0.2148, val_accuracy:0.9221\n",
      "Epoch [357/380], average_loss:0.2362, validation_loss:0.2128, val_accuracy:0.9351\n",
      "Epoch [358/380], average_loss:0.2379, validation_loss:0.2149, val_accuracy:0.9091\n",
      "Epoch [359/380], average_loss:0.2331, validation_loss:0.2127, val_accuracy:0.9610\n",
      "Epoch [360/380], average_loss:0.2377, validation_loss:0.2169, val_accuracy:0.9351\n",
      "Epoch [361/380], average_loss:0.2343, validation_loss:0.2121, val_accuracy:0.9351\n",
      "Epoch [362/380], average_loss:0.2361, validation_loss:0.2209, val_accuracy:0.9221\n",
      "Epoch [363/380], average_loss:0.2367, validation_loss:0.2098, val_accuracy:0.9481\n",
      "Epoch [364/380], average_loss:0.2352, validation_loss:0.2183, val_accuracy:0.9091\n",
      "Epoch [365/380], average_loss:0.2344, validation_loss:0.2098, val_accuracy:0.9610\n",
      "Epoch [366/380], average_loss:0.2352, validation_loss:0.2164, val_accuracy:0.8571\n",
      "Epoch [367/380], average_loss:0.2323, validation_loss:0.2189, val_accuracy:0.8961\n",
      "Epoch [368/380], average_loss:0.2340, validation_loss:0.2184, val_accuracy:0.8701\n",
      "Epoch [369/380], average_loss:0.2323, validation_loss:0.2203, val_accuracy:0.8442\n",
      "Epoch [370/380], average_loss:0.2342, validation_loss:0.2140, val_accuracy:0.8831\n",
      "Epoch [371/380], average_loss:0.2333, validation_loss:0.2168, val_accuracy:0.9481\n",
      "Epoch [372/380], average_loss:0.2352, validation_loss:0.2086, val_accuracy:0.9740\n",
      "Epoch [373/380], average_loss:0.2353, validation_loss:0.2146, val_accuracy:0.9351\n",
      "Epoch [374/380], average_loss:0.2323, validation_loss:0.2141, val_accuracy:0.8831\n",
      "Epoch [375/380], average_loss:0.2350, validation_loss:0.2180, val_accuracy:0.9351\n",
      "Epoch [376/380], average_loss:0.2343, validation_loss:0.2184, val_accuracy:0.9091\n",
      "Epoch [377/380], average_loss:0.2353, validation_loss:0.2315, val_accuracy:0.8831\n",
      "Epoch [378/380], average_loss:0.2341, validation_loss:0.2218, val_accuracy:0.9091\n",
      "Epoch [379/380], average_loss:0.2342, validation_loss:0.2144, val_accuracy:0.8961\n",
      "Epoch [380/380], average_loss:0.2324, validation_loss:0.2220, val_accuracy:0.9351\n"
     ]
    }
   ],
   "source": [
    "lh = m19(epochs=range(350,380), train_loader=train_loader, validation_loader=valid_loader)"
   ]
  },
  {
   "cell_type": "code",
   "execution_count": 70,
   "metadata": {},
   "outputs": [],
   "source": [
    "m19.model.eval()\n",
    "with torch.no_grad():\n",
    "    x_pred = np.argmax(m19.model(torch.tensor(X_test).float().to(m19.device)).cpu().detach(), axis=1)\n"
   ]
  },
  {
   "cell_type": "code",
   "execution_count": 71,
   "metadata": {},
   "outputs": [
    {
     "data": {
      "text/plain": [
       "tensor([1, 1, 1,  ..., 0, 1, 0])"
      ]
     },
     "execution_count": 71,
     "metadata": {},
     "output_type": "execute_result"
    }
   ],
   "source": [
    "x_pred"
   ]
  },
  {
   "cell_type": "code",
   "execution_count": 72,
   "metadata": {},
   "outputs": [
    {
     "data": {
      "text/plain": [
       "0.877756322430652"
      ]
     },
     "execution_count": 72,
     "metadata": {},
     "output_type": "execute_result"
    }
   ],
   "source": [
    "f1_score(y_true=y_test, y_pred=x_pred, average=\"macro\")"
   ]
  },
  {
   "cell_type": "code",
   "execution_count": 73,
   "metadata": {},
   "outputs": [
    {
     "data": {
      "text/plain": [
       "0.9196343212237094"
      ]
     },
     "execution_count": 73,
     "metadata": {},
     "output_type": "execute_result"
    }
   ],
   "source": [
    "accuracy_score(y_true=y_test, y_pred=x_pred)"
   ]
  },
  {
   "cell_type": "code",
   "execution_count": 74,
   "metadata": {
    "scrolled": true
   },
   "outputs": [
    {
     "data": {
      "text/plain": [
       "array([[3924,  159,   31,  121],\n",
       "       [ 494, 9771,   35,  145],\n",
       "       [  17,   23,  424,   15],\n",
       "       [ 225,   64,   16, 1272]], dtype=int64)"
      ]
     },
     "execution_count": 74,
     "metadata": {},
     "output_type": "execute_result"
    }
   ],
   "source": [
    "confusion_matrix(y_true=y_test, y_pred=x_pred)"
   ]
  },
  {
   "cell_type": "code",
   "execution_count": 75,
   "metadata": {},
   "outputs": [],
   "source": [
    "for param_group in m19.optimizer.param_groups:\n",
    "        param_group['lr'] = 1e-4"
   ]
  },
  {
   "cell_type": "code",
   "execution_count": 76,
   "metadata": {},
   "outputs": [
    {
     "name": "stdout",
     "output_type": "stream",
     "text": [
      "Epoch [381/420], average_loss:0.2333, validation_loss:0.2125, val_accuracy:0.9351\n",
      "Epoch [382/420], average_loss:0.2334, validation_loss:0.2096, val_accuracy:0.9221\n",
      "Epoch [383/420], average_loss:0.2329, validation_loss:0.2158, val_accuracy:0.8571\n",
      "Epoch [384/420], average_loss:0.2299, validation_loss:0.2142, val_accuracy:0.8701\n",
      "Epoch [385/420], average_loss:0.2346, validation_loss:0.2153, val_accuracy:0.9221\n",
      "Epoch [386/420], average_loss:0.2348, validation_loss:0.2150, val_accuracy:0.8961\n",
      "Epoch [387/420], average_loss:0.2316, validation_loss:0.2136, val_accuracy:0.8961\n",
      "Epoch [388/420], average_loss:0.2320, validation_loss:0.2136, val_accuracy:0.8571\n",
      "Epoch [389/420], average_loss:0.2334, validation_loss:0.2113, val_accuracy:0.9221\n",
      "Epoch [390/420], average_loss:0.2319, validation_loss:0.2063, val_accuracy:0.9740\n",
      "Epoch [391/420], average_loss:0.2311, validation_loss:0.2181, val_accuracy:0.9091\n",
      "Epoch [392/420], average_loss:0.2334, validation_loss:0.2119, val_accuracy:0.9091\n",
      "Epoch [393/420], average_loss:0.2321, validation_loss:0.2078, val_accuracy:0.9351\n",
      "Epoch [394/420], average_loss:0.2345, validation_loss:0.2195, val_accuracy:0.8571\n",
      "Epoch [395/420], average_loss:0.2322, validation_loss:0.2080, val_accuracy:0.9610\n",
      "Epoch [396/420], average_loss:0.2332, validation_loss:0.2155, val_accuracy:0.8961\n",
      "Epoch [397/420], average_loss:0.2337, validation_loss:0.2216, val_accuracy:0.9610\n",
      "Epoch [398/420], average_loss:0.2340, validation_loss:0.2207, val_accuracy:0.9091\n",
      "Epoch [399/420], average_loss:0.2334, validation_loss:0.2283, val_accuracy:0.9221\n",
      "Epoch [400/420], average_loss:0.2304, validation_loss:0.2141, val_accuracy:0.8701\n",
      "Epoch [401/420], average_loss:0.2345, validation_loss:0.2125, val_accuracy:0.8831\n",
      "Epoch [402/420], average_loss:0.2312, validation_loss:0.2145, val_accuracy:0.9481\n",
      "Epoch [403/420], average_loss:0.2328, validation_loss:0.2158, val_accuracy:0.9740\n",
      "Epoch [404/420], average_loss:0.2333, validation_loss:0.2120, val_accuracy:0.9221\n",
      "Epoch [405/420], average_loss:0.2310, validation_loss:0.2106, val_accuracy:0.8961\n",
      "Epoch [406/420], average_loss:0.2319, validation_loss:0.2102, val_accuracy:0.9351\n",
      "Epoch [407/420], average_loss:0.2315, validation_loss:0.2058, val_accuracy:0.9351\n",
      "Epoch [408/420], average_loss:0.2309, validation_loss:0.2089, val_accuracy:0.8961\n",
      "Epoch [409/420], average_loss:0.2299, validation_loss:0.2075, val_accuracy:0.9610\n",
      "Epoch [410/420], average_loss:0.2328, validation_loss:0.2174, val_accuracy:0.8831\n",
      "Epoch [411/420], average_loss:0.2299, validation_loss:0.2153, val_accuracy:0.9221\n",
      "Epoch [412/420], average_loss:0.2331, validation_loss:0.2058, val_accuracy:0.9610\n",
      "Epoch [413/420], average_loss:0.2335, validation_loss:0.2120, val_accuracy:0.8961\n",
      "Epoch [414/420], average_loss:0.2298, validation_loss:0.2093, val_accuracy:0.9091\n",
      "Epoch [415/420], average_loss:0.2323, validation_loss:0.2131, val_accuracy:0.9221\n",
      "Epoch [416/420], average_loss:0.2347, validation_loss:0.2154, val_accuracy:0.8831\n",
      "Epoch [417/420], average_loss:0.2326, validation_loss:0.2076, val_accuracy:0.9610\n",
      "Epoch [418/420], average_loss:0.2322, validation_loss:0.2131, val_accuracy:0.8961\n",
      "Epoch [419/420], average_loss:0.2327, validation_loss:0.2081, val_accuracy:0.9221\n",
      "Epoch [420/420], average_loss:0.2308, validation_loss:0.2082, val_accuracy:0.9091\n"
     ]
    }
   ],
   "source": [
    "lh = m19(epochs=range(380,420), train_loader=train_loader, validation_loader=valid_loader)"
   ]
  },
  {
   "cell_type": "code",
   "execution_count": 77,
   "metadata": {},
   "outputs": [],
   "source": [
    "m19.model.eval()\n",
    "with torch.no_grad():\n",
    "    x_pred = np.argmax(m19.model(torch.tensor(X_test).float().to(m19.device)).cpu().detach(), axis=1)\n"
   ]
  },
  {
   "cell_type": "code",
   "execution_count": 78,
   "metadata": {},
   "outputs": [
    {
     "data": {
      "text/plain": [
       "tensor([1, 1, 1,  ..., 0, 1, 0])"
      ]
     },
     "execution_count": 78,
     "metadata": {},
     "output_type": "execute_result"
    }
   ],
   "source": [
    "x_pred"
   ]
  },
  {
   "cell_type": "code",
   "execution_count": 79,
   "metadata": {},
   "outputs": [
    {
     "data": {
      "text/plain": [
       "0.8769967959807636"
      ]
     },
     "execution_count": 79,
     "metadata": {},
     "output_type": "execute_result"
    }
   ],
   "source": [
    "f1_score(y_true=y_test, y_pred=x_pred, average=\"macro\")"
   ]
  },
  {
   "cell_type": "code",
   "execution_count": 80,
   "metadata": {},
   "outputs": [
    {
     "data": {
      "text/plain": [
       "0.924593690248566"
      ]
     },
     "execution_count": 80,
     "metadata": {},
     "output_type": "execute_result"
    }
   ],
   "source": [
    "accuracy_score(y_true=y_test, y_pred=x_pred)"
   ]
  },
  {
   "cell_type": "code",
   "execution_count": 81,
   "metadata": {
    "scrolled": true
   },
   "outputs": [
    {
     "data": {
      "text/plain": [
       "array([[ 3847,   276,    30,    82],\n",
       "       [  289, 10012,    32,   112],\n",
       "       [   18,    34,   414,    13],\n",
       "       [  265,    97,    14,  1201]], dtype=int64)"
      ]
     },
     "execution_count": 81,
     "metadata": {},
     "output_type": "execute_result"
    }
   ],
   "source": [
    "confusion_matrix(y_true=y_test, y_pred=x_pred)"
   ]
  },
  {
   "cell_type": "code",
   "execution_count": 82,
   "metadata": {},
   "outputs": [],
   "source": [
    "#torch.save(m19.model, \"models_and_losses/CNN-m.IV-Conv1-BN-Drop-0.3_ReLU_lr-{1e-3,1e-4}_bs-512_epoch-420.pt\")"
   ]
  },
  {
   "cell_type": "code",
   "execution_count": 83,
   "metadata": {},
   "outputs": [
    {
     "name": "stdout",
     "output_type": "stream",
     "text": [
      "Epoch [421/450], average_loss:0.2315, validation_loss:0.2072, val_accuracy:0.9221\n",
      "Epoch [422/450], average_loss:0.2293, validation_loss:0.2069, val_accuracy:0.9610\n",
      "Epoch [423/450], average_loss:0.2317, validation_loss:0.2117, val_accuracy:0.8961\n",
      "Epoch [424/450], average_loss:0.2325, validation_loss:0.2069, val_accuracy:0.9351\n",
      "Epoch [425/450], average_loss:0.2308, validation_loss:0.2100, val_accuracy:0.8961\n",
      "Epoch [426/450], average_loss:0.2309, validation_loss:0.2134, val_accuracy:0.9091\n",
      "Epoch [427/450], average_loss:0.2324, validation_loss:0.2193, val_accuracy:0.9221\n",
      "Epoch [428/450], average_loss:0.2317, validation_loss:0.2052, val_accuracy:0.9740\n",
      "Epoch [429/450], average_loss:0.2310, validation_loss:0.2125, val_accuracy:0.9351\n",
      "Epoch [430/450], average_loss:0.2293, validation_loss:0.2126, val_accuracy:0.9740\n",
      "Epoch [431/450], average_loss:0.2310, validation_loss:0.2135, val_accuracy:0.8961\n",
      "Epoch [432/450], average_loss:0.2305, validation_loss:0.2177, val_accuracy:0.8831\n",
      "Epoch [433/450], average_loss:0.2304, validation_loss:0.2084, val_accuracy:0.9351\n",
      "Epoch [434/450], average_loss:0.2306, validation_loss:0.2060, val_accuracy:0.8831\n",
      "Epoch [435/450], average_loss:0.2329, validation_loss:0.2055, val_accuracy:0.9481\n",
      "Epoch [436/450], average_loss:0.2315, validation_loss:0.2059, val_accuracy:0.9610\n",
      "Epoch [437/450], average_loss:0.2309, validation_loss:0.2078, val_accuracy:0.9481\n",
      "Epoch [438/450], average_loss:0.2309, validation_loss:0.2073, val_accuracy:0.9221\n",
      "Epoch [439/450], average_loss:0.2270, validation_loss:0.2067, val_accuracy:0.9481\n",
      "Epoch [440/450], average_loss:0.2312, validation_loss:0.2122, val_accuracy:0.8831\n",
      "Epoch [441/450], average_loss:0.2307, validation_loss:0.2160, val_accuracy:0.8961\n",
      "Epoch [442/450], average_loss:0.2308, validation_loss:0.2116, val_accuracy:0.8831\n",
      "Epoch [443/450], average_loss:0.2292, validation_loss:0.2214, val_accuracy:0.8701\n",
      "Epoch [444/450], average_loss:0.2295, validation_loss:0.2132, val_accuracy:0.9091\n",
      "Epoch [445/450], average_loss:0.2291, validation_loss:0.2073, val_accuracy:0.9481\n",
      "Epoch [446/450], average_loss:0.2292, validation_loss:0.2126, val_accuracy:0.8831\n",
      "Epoch [447/450], average_loss:0.2304, validation_loss:0.2106, val_accuracy:0.9221\n",
      "Epoch [448/450], average_loss:0.2301, validation_loss:0.2095, val_accuracy:0.9351\n",
      "Epoch [449/450], average_loss:0.2296, validation_loss:0.2166, val_accuracy:0.8831\n",
      "Epoch [450/450], average_loss:0.2315, validation_loss:0.2104, val_accuracy:0.9221\n"
     ]
    }
   ],
   "source": [
    "lh = m19(epochs=range(420,450), train_loader=train_loader, validation_loader=valid_loader)"
   ]
  },
  {
   "cell_type": "code",
   "execution_count": 84,
   "metadata": {},
   "outputs": [],
   "source": [
    "m19.model.eval()\n",
    "with torch.no_grad():\n",
    "    x_pred = np.argmax(m19.model(torch.tensor(X_test).float().to(m19.device)).cpu().detach(), axis=1)\n"
   ]
  },
  {
   "cell_type": "code",
   "execution_count": 85,
   "metadata": {},
   "outputs": [
    {
     "data": {
      "text/plain": [
       "tensor([1, 1, 1,  ..., 0, 1, 0])"
      ]
     },
     "execution_count": 85,
     "metadata": {},
     "output_type": "execute_result"
    }
   ],
   "source": [
    "x_pred"
   ]
  },
  {
   "cell_type": "code",
   "execution_count": 86,
   "metadata": {},
   "outputs": [
    {
     "data": {
      "text/plain": [
       "0.880439326282784"
      ]
     },
     "execution_count": 86,
     "metadata": {},
     "output_type": "execute_result"
    }
   ],
   "source": [
    "f1_score(y_true=y_test, y_pred=x_pred, average=\"macro\")"
   ]
  },
  {
   "cell_type": "code",
   "execution_count": 87,
   "metadata": {},
   "outputs": [
    {
     "data": {
      "text/plain": [
       "0.9228011472275335"
      ]
     },
     "execution_count": 87,
     "metadata": {},
     "output_type": "execute_result"
    }
   ],
   "source": [
    "accuracy_score(y_true=y_test, y_pred=x_pred)"
   ]
  },
  {
   "cell_type": "code",
   "execution_count": 88,
   "metadata": {
    "scrolled": true
   },
   "outputs": [
    {
     "data": {
      "text/plain": [
       "array([[3920,  172,   29,  114],\n",
       "       [ 445, 9847,   31,  122],\n",
       "       [  18,   27,  420,   14],\n",
       "       [ 221,   84,   15, 1257]], dtype=int64)"
      ]
     },
     "execution_count": 88,
     "metadata": {},
     "output_type": "execute_result"
    }
   ],
   "source": [
    "confusion_matrix(y_true=y_test, y_pred=x_pred)"
   ]
  },
  {
   "cell_type": "code",
   "execution_count": 89,
   "metadata": {},
   "outputs": [],
   "source": [
    "#torch.save(m19.model, \"models_and_losses/CNN-m.IV-Conv1-BN-Drop-0.3_ReLU_lr-{1e-3,1e-4}_bs-512_epoch-450.pt\")"
   ]
  },
  {
   "cell_type": "code",
   "execution_count": null,
   "metadata": {},
   "outputs": [],
   "source": []
  },
  {
   "cell_type": "code",
   "execution_count": null,
   "metadata": {},
   "outputs": [],
   "source": []
  },
  {
   "cell_type": "code",
   "execution_count": null,
   "metadata": {},
   "outputs": [],
   "source": []
  },
  {
   "cell_type": "code",
   "execution_count": null,
   "metadata": {},
   "outputs": [],
   "source": []
  },
  {
   "cell_type": "code",
   "execution_count": null,
   "metadata": {},
   "outputs": [],
   "source": []
  }
 ],
 "metadata": {
  "kernelspec": {
   "display_name": "Pytorch",
   "language": "python",
   "name": "pytorch"
  },
  "language_info": {
   "codemirror_mode": {
    "name": "ipython",
    "version": 3
   },
   "file_extension": ".py",
   "mimetype": "text/x-python",
   "name": "python",
   "nbconvert_exporter": "python",
   "pygments_lexer": "ipython3",
   "version": "3.6.9"
  }
 },
 "nbformat": 4,
 "nbformat_minor": 2
}
