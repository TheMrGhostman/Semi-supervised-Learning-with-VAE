{
 "cells": [
  {
   "cell_type": "code",
   "execution_count": 1,
   "metadata": {},
   "outputs": [],
   "source": [
    "import numpy as np \n",
    "import time\n",
    "import os\n",
    "\n",
    "import torch \n",
    "import torch.nn as nn\n",
    "import torch.nn.functional as F \n",
    "\n",
    "import matplotlib.pyplot as plt\n",
    "from collections import OrderedDict\n",
    "\n",
    "from sklearn.model_selection import train_test_split\n",
    "from sklearn.preprocessing import RobustScaler, StandardScaler\n",
    "from sklearn.metrics import confusion_matrix, accuracy_score, f1_score"
   ]
  },
  {
   "cell_type": "code",
   "execution_count": 2,
   "metadata": {},
   "outputs": [],
   "source": [
    "from utils.inference import Trainer, plot_loss\n",
    "from utils.models import DNN\n",
    "import utils.datasets as d\n",
    "import utils.layers as layers"
   ]
  },
  {
   "cell_type": "code",
   "execution_count": 3,
   "metadata": {},
   "outputs": [],
   "source": [
    "X = np.vstack((np.load(\"data/sequenced_data_for_VAE_length-160_stride-10_pt1.npy\"),\n",
    "               np.load(\"data/sequenced_data_for_VAE_length-160_stride-10_pt2.npy\")))\n",
    "y = np.load(\"data/sequenced_data_for_VAE_length-160_stride-10_targets.npy\")"
   ]
  },
  {
   "cell_type": "code",
   "execution_count": 4,
   "metadata": {},
   "outputs": [
    {
     "name": "stdout",
     "output_type": "stream",
     "text": [
      "(83680, 160) (83680,)\n"
     ]
    }
   ],
   "source": [
    "print(X.shape, y.shape)"
   ]
  },
  {
   "cell_type": "code",
   "execution_count": 5,
   "metadata": {},
   "outputs": [],
   "source": [
    "X_train, X_test, y_train, y_test = train_test_split(X, y, test_size=0.2, random_state=666)"
   ]
  },
  {
   "cell_type": "code",
   "execution_count": 6,
   "metadata": {},
   "outputs": [],
   "source": [
    "scaler = RobustScaler()\n",
    "X_train = scaler.fit_transform(X_train)\n",
    "X_test = scaler.transform(X_test)"
   ]
  },
  {
   "cell_type": "code",
   "execution_count": 7,
   "metadata": {},
   "outputs": [],
   "source": [
    "X_train, X_validation, y_train, y_validation = train_test_split(X_train, y_train, test_size=0.2, random_state=666)"
   ]
  },
  {
   "cell_type": "code",
   "execution_count": 8,
   "metadata": {},
   "outputs": [],
   "source": [
    "train = d.H_alphaSequences(X_train, y_train)\n",
    "valid = d.H_alphaSequences(X_validation, y_validation)\n",
    "test = d.H_alphaSequences(X_test, y_test)"
   ]
  },
  {
   "cell_type": "markdown",
   "metadata": {},
   "source": [
    "# LSTM"
   ]
  },
  {
   "cell_type": "code",
   "execution_count": 35,
   "metadata": {},
   "outputs": [],
   "source": [
    "class LSTM_cut(nn.Module):\n",
    "    def __init__(self, **kwargs):\n",
    "        super(LSTM_cut, self).__init__()\n",
    "        self.layer = nn.LSTM(**kwargs)\n",
    "    \n",
    "    def forward(self,x):\n",
    "        out, (h,c) = self.layer(x)\n",
    "        return out.reshape(-1, self.layer.hidden_size*pow(2,int(self.layer.bidirectional))*160)"
   ]
  },
  {
   "cell_type": "code",
   "execution_count": 41,
   "metadata": {},
   "outputs": [],
   "source": [
    "clf1 = nn.Sequential(\n",
    "                layers.Reshape(out_shape=(160, 1)), #(batch, seq, feature)\n",
    "                LSTM_cut(input_size=1, hidden_size=60, num_layers=1, batch_first=True, dropout=0, bidirectional=True),\n",
    "                #layers.Reshape(out_shape=(19200)),\n",
    "                nn.Linear(in_features=120*160, out_features=4)\n",
    ")"
   ]
  },
  {
   "cell_type": "code",
   "execution_count": 29,
   "metadata": {},
   "outputs": [],
   "source": [
    "#clf1(torch.tensor(X_train[:2,:]).float())"
   ]
  },
  {
   "cell_type": "code",
   "execution_count": 42,
   "metadata": {},
   "outputs": [],
   "source": [
    "optimizer= torch.optim.Adam(clf1.parameters(), lr=1e-3)"
   ]
  },
  {
   "cell_type": "code",
   "execution_count": 43,
   "metadata": {},
   "outputs": [],
   "source": [
    "train_loader = torch.utils.data.DataLoader(dataset = train, batch_size=100, shuffle=True)\n",
    "valid_loader = torch.utils.data.DataLoader(dataset = valid, batch_size=100, shuffle=True)"
   ]
  },
  {
   "cell_type": "code",
   "execution_count": 44,
   "metadata": {},
   "outputs": [
    {
     "name": "stdout",
     "output_type": "stream",
     "text": [
      "cuda:0\n"
     ]
    }
   ],
   "source": [
    "m1 = Trainer(\n",
    "        model=clf1,\n",
    "        optimizer=optimizer,\n",
    "        loss_function=nn.CrossEntropyLoss(),\n",
    "        #scheduler=torch.optim.lr_scheduler.MultiStepLR(optimizer, milestones=[10], gamma=0.1),\n",
    "        tensorboard=True,\n",
    "        model_name=\"LSTM-60x2_lr-1e-3_bs-100\",\n",
    "        verbose=True\n",
    "        )"
   ]
  },
  {
   "cell_type": "code",
   "execution_count": 45,
   "metadata": {},
   "outputs": [
    {
     "name": "stdout",
     "output_type": "stream",
     "text": [
      "Epoch [1/100], average_loss:0.6229, validation_loss:0.5487, val_accuracy:0.8539\n",
      "Epoch [2/100], average_loss:0.5369, validation_loss:0.5414, val_accuracy:0.6966\n",
      "Epoch [3/100], average_loss:0.5136, validation_loss:0.5131, val_accuracy:0.7528\n",
      "Epoch [4/100], average_loss:0.5038, validation_loss:0.4930, val_accuracy:0.8539\n",
      "Epoch [5/100], average_loss:0.4949, validation_loss:0.4857, val_accuracy:0.7528\n",
      "Epoch [6/100], average_loss:0.4853, validation_loss:0.4857, val_accuracy:0.7978\n",
      "Epoch [7/100], average_loss:0.4792, validation_loss:0.4944, val_accuracy:0.7191\n",
      "Epoch [8/100], average_loss:0.4733, validation_loss:0.4611, val_accuracy:0.8539\n",
      "Epoch [9/100], average_loss:0.4626, validation_loss:0.4542, val_accuracy:0.8090\n",
      "Epoch [10/100], average_loss:0.4560, validation_loss:0.4504, val_accuracy:0.8315\n",
      "Epoch [11/100], average_loss:0.4468, validation_loss:0.4541, val_accuracy:0.8090\n",
      "Epoch [12/100], average_loss:0.4379, validation_loss:0.4305, val_accuracy:0.8427\n",
      "Epoch [13/100], average_loss:0.4319, validation_loss:0.4258, val_accuracy:0.8539\n",
      "Epoch [14/100], average_loss:0.4259, validation_loss:0.4343, val_accuracy:0.7865\n",
      "Epoch [15/100], average_loss:0.4212, validation_loss:0.4404, val_accuracy:0.7978\n",
      "Epoch [16/100], average_loss:0.4166, validation_loss:0.4189, val_accuracy:0.8876\n",
      "Epoch [17/100], average_loss:0.4130, validation_loss:0.4144, val_accuracy:0.8315\n",
      "Epoch [18/100], average_loss:0.4123, validation_loss:0.4266, val_accuracy:0.8090\n",
      "Epoch [19/100], average_loss:0.4086, validation_loss:0.4106, val_accuracy:0.8652\n",
      "Epoch [20/100], average_loss:0.4042, validation_loss:0.4208, val_accuracy:0.7753\n",
      "Epoch [21/100], average_loss:0.4036, validation_loss:0.4185, val_accuracy:0.8202\n",
      "Epoch [22/100], average_loss:0.4029, validation_loss:0.4054, val_accuracy:0.7865\n",
      "Epoch [23/100], average_loss:0.3998, validation_loss:0.3929, val_accuracy:0.8876\n",
      "Epoch [24/100], average_loss:0.3935, validation_loss:0.4192, val_accuracy:0.7865\n",
      "Epoch [25/100], average_loss:0.3928, validation_loss:0.4005, val_accuracy:0.8539\n",
      "Epoch [26/100], average_loss:0.3859, validation_loss:0.3968, val_accuracy:0.7978\n",
      "Epoch [27/100], average_loss:0.3759, validation_loss:0.3902, val_accuracy:0.7865\n",
      "Epoch [28/100], average_loss:0.3700, validation_loss:0.3882, val_accuracy:0.8427\n",
      "Epoch [29/100], average_loss:0.3705, validation_loss:0.3798, val_accuracy:0.8202\n",
      "Epoch [30/100], average_loss:0.3679, validation_loss:0.3835, val_accuracy:0.8764\n",
      "Epoch [31/100], average_loss:0.3640, validation_loss:0.3872, val_accuracy:0.8764\n",
      "Epoch [32/100], average_loss:0.3629, validation_loss:0.3741, val_accuracy:0.8315\n",
      "Epoch [33/100], average_loss:0.3589, validation_loss:0.3960, val_accuracy:0.8989\n",
      "Epoch [34/100], average_loss:0.3568, validation_loss:0.3753, val_accuracy:0.8315\n",
      "Epoch [35/100], average_loss:0.3460, validation_loss:0.4031, val_accuracy:0.8764\n",
      "Epoch [36/100], average_loss:0.3439, validation_loss:0.3353, val_accuracy:0.8427\n",
      "Epoch [37/100], average_loss:0.3057, validation_loss:0.3562, val_accuracy:0.8539\n",
      "Epoch [38/100], average_loss:0.2889, validation_loss:0.3145, val_accuracy:0.8764\n",
      "Epoch [39/100], average_loss:0.2801, validation_loss:0.2978, val_accuracy:0.9551\n",
      "Epoch [40/100], average_loss:0.2798, validation_loss:0.2995, val_accuracy:0.8989\n",
      "Epoch [41/100], average_loss:0.2720, validation_loss:0.3038, val_accuracy:0.9101\n",
      "Epoch [42/100], average_loss:0.2714, validation_loss:0.2827, val_accuracy:0.8427\n",
      "Epoch [43/100], average_loss:0.2673, validation_loss:0.2997, val_accuracy:0.9101\n",
      "Epoch [44/100], average_loss:0.2638, validation_loss:0.2867, val_accuracy:0.9551\n",
      "Epoch [45/100], average_loss:0.2618, validation_loss:0.2814, val_accuracy:0.9326\n",
      "Epoch [46/100], average_loss:0.2543, validation_loss:0.2860, val_accuracy:0.9326\n",
      "Epoch [47/100], average_loss:0.2492, validation_loss:0.2799, val_accuracy:0.9213\n",
      "Epoch [48/100], average_loss:0.2444, validation_loss:0.2810, val_accuracy:0.8764\n",
      "Epoch [49/100], average_loss:0.2377, validation_loss:0.2580, val_accuracy:0.9438\n",
      "Epoch [50/100], average_loss:0.2336, validation_loss:0.2615, val_accuracy:0.8989\n",
      "Epoch [51/100], average_loss:0.2277, validation_loss:0.2735, val_accuracy:0.8876\n",
      "Epoch [52/100], average_loss:0.2261, validation_loss:0.2583, val_accuracy:0.9213\n",
      "Epoch [53/100], average_loss:0.2211, validation_loss:0.2607, val_accuracy:0.8876\n",
      "Epoch [54/100], average_loss:0.2177, validation_loss:0.2665, val_accuracy:0.8202\n",
      "Epoch [55/100], average_loss:0.2160, validation_loss:0.2547, val_accuracy:0.9326\n",
      "Epoch [56/100], average_loss:0.2108, validation_loss:0.2477, val_accuracy:0.9438\n",
      "Epoch [57/100], average_loss:0.2072, validation_loss:0.2456, val_accuracy:0.9213\n",
      "Epoch [58/100], average_loss:0.2036, validation_loss:0.2386, val_accuracy:0.9213\n",
      "Epoch [59/100], average_loss:0.2050, validation_loss:0.2414, val_accuracy:0.9551\n",
      "Epoch [60/100], average_loss:0.2005, validation_loss:0.2695, val_accuracy:0.8989\n",
      "Epoch [61/100], average_loss:0.1988, validation_loss:0.2425, val_accuracy:0.9438\n",
      "Epoch [62/100], average_loss:0.1971, validation_loss:0.2521, val_accuracy:0.8764\n",
      "Epoch [63/100], average_loss:0.1915, validation_loss:0.2479, val_accuracy:0.9326\n",
      "Epoch [64/100], average_loss:0.1945, validation_loss:0.2528, val_accuracy:0.9326\n",
      "Epoch [65/100], average_loss:0.1948, validation_loss:0.2378, val_accuracy:0.9551\n",
      "Epoch [66/100], average_loss:0.1872, validation_loss:0.2370, val_accuracy:0.8989\n",
      "Epoch [67/100], average_loss:0.1850, validation_loss:0.2297, val_accuracy:0.9551\n",
      "Epoch [68/100], average_loss:0.2033, validation_loss:0.3073, val_accuracy:0.9213\n",
      "Epoch [69/100], average_loss:0.2353, validation_loss:0.2755, val_accuracy:0.8652\n",
      "Epoch [70/100], average_loss:0.2220, validation_loss:0.2676, val_accuracy:0.8989\n",
      "Epoch [71/100], average_loss:0.2135, validation_loss:0.2745, val_accuracy:0.8876\n",
      "Epoch [72/100], average_loss:0.2093, validation_loss:0.2641, val_accuracy:0.8764\n",
      "Epoch [73/100], average_loss:0.2073, validation_loss:0.2555, val_accuracy:0.9438\n",
      "Epoch [74/100], average_loss:0.2029, validation_loss:0.2547, val_accuracy:0.9438\n",
      "Epoch [75/100], average_loss:0.1999, validation_loss:0.2648, val_accuracy:0.9438\n",
      "Epoch [76/100], average_loss:0.1979, validation_loss:0.2572, val_accuracy:0.9213\n",
      "Epoch [77/100], average_loss:0.1913, validation_loss:0.2425, val_accuracy:0.9101\n",
      "Epoch [78/100], average_loss:0.1885, validation_loss:0.2378, val_accuracy:0.9101\n",
      "Epoch [79/100], average_loss:0.1820, validation_loss:0.2722, val_accuracy:0.9326\n",
      "Epoch [80/100], average_loss:0.1800, validation_loss:0.2500, val_accuracy:0.8989\n",
      "Epoch [81/100], average_loss:0.1793, validation_loss:0.2656, val_accuracy:0.9438\n",
      "Epoch [82/100], average_loss:0.1754, validation_loss:0.2443, val_accuracy:0.9213\n",
      "Epoch [83/100], average_loss:0.1708, validation_loss:0.2387, val_accuracy:0.9551\n",
      "Epoch [84/100], average_loss:0.1715, validation_loss:0.2493, val_accuracy:0.9551\n",
      "Epoch [85/100], average_loss:0.1662, validation_loss:0.2692, val_accuracy:0.9663\n",
      "Epoch [86/100], average_loss:0.1697, validation_loss:0.2585, val_accuracy:0.8989\n",
      "Epoch [87/100], average_loss:0.1622, validation_loss:0.2481, val_accuracy:0.9438\n",
      "Epoch [88/100], average_loss:0.1612, validation_loss:0.2332, val_accuracy:0.9438\n",
      "Epoch [89/100], average_loss:0.1591, validation_loss:0.2427, val_accuracy:0.8989\n",
      "Epoch [90/100], average_loss:0.1550, validation_loss:0.2384, val_accuracy:0.9438\n",
      "Epoch [91/100], average_loss:0.1588, validation_loss:0.2359, val_accuracy:0.8989\n",
      "Epoch [92/100], average_loss:0.1536, validation_loss:0.2379, val_accuracy:0.9663\n",
      "Epoch [93/100], average_loss:0.1543, validation_loss:0.2347, val_accuracy:0.9101\n",
      "Epoch [94/100], average_loss:0.1495, validation_loss:0.2402, val_accuracy:0.9326\n",
      "Epoch [95/100], average_loss:0.1468, validation_loss:0.2340, val_accuracy:0.9551\n",
      "Epoch [96/100], average_loss:0.1504, validation_loss:0.2388, val_accuracy:0.8539\n",
      "Epoch [97/100], average_loss:0.1467, validation_loss:0.2516, val_accuracy:0.9213\n",
      "Epoch [98/100], average_loss:0.1413, validation_loss:0.2308, val_accuracy:0.8876\n",
      "Epoch [99/100], average_loss:0.1434, validation_loss:0.2437, val_accuracy:0.9326\n",
      "Epoch [100/100], average_loss:0.1413, validation_loss:0.2433, val_accuracy:0.8989\n"
     ]
    }
   ],
   "source": [
    "lh = m1(epochs=100, train_loader=train_loader, validation_loader=valid_loader)"
   ]
  },
  {
   "cell_type": "code",
   "execution_count": 46,
   "metadata": {},
   "outputs": [],
   "source": [
    "m1.model.eval()\n",
    "with torch.no_grad():\n",
    "    x_pred = np.argmax(m1.model(torch.tensor(X_test).float().to(m1.device)).cpu().detach(), axis=1)"
   ]
  },
  {
   "cell_type": "code",
   "execution_count": 47,
   "metadata": {},
   "outputs": [
    {
     "data": {
      "text/plain": [
       "tensor([1, 1, 1,  ..., 3, 1, 0])"
      ]
     },
     "execution_count": 47,
     "metadata": {},
     "output_type": "execute_result"
    }
   ],
   "source": [
    "x_pred"
   ]
  },
  {
   "cell_type": "code",
   "execution_count": 48,
   "metadata": {},
   "outputs": [
    {
     "data": {
      "text/plain": [
       "0.8710916766091715"
      ]
     },
     "execution_count": 48,
     "metadata": {},
     "output_type": "execute_result"
    }
   ],
   "source": [
    "f1_score(y_true=y_test, y_pred=x_pred,average=\"macro\")"
   ]
  },
  {
   "cell_type": "code",
   "execution_count": 49,
   "metadata": {},
   "outputs": [
    {
     "data": {
      "text/plain": [
       "0.923458413001912"
      ]
     },
     "execution_count": 49,
     "metadata": {},
     "output_type": "execute_result"
    }
   ],
   "source": [
    "accuracy_score(y_true=y_test, y_pred=x_pred)"
   ]
  },
  {
   "cell_type": "code",
   "execution_count": 50,
   "metadata": {},
   "outputs": [
    {
     "data": {
      "text/plain": [
       "array([[ 3814,   300,    24,    97],\n",
       "       [  257, 10058,    31,    99],\n",
       "       [   31,    23,   408,    17],\n",
       "       [  272,   106,    24,  1175]], dtype=int64)"
      ]
     },
     "execution_count": 50,
     "metadata": {},
     "output_type": "execute_result"
    }
   ],
   "source": [
    "confusion_matrix(y_true=y_test, y_pred=x_pred)"
   ]
  },
  {
   "cell_type": "code",
   "execution_count": 51,
   "metadata": {},
   "outputs": [
    {
     "name": "stdout",
     "output_type": "stream",
     "text": [
      "Epoch [101/150], average_loss:0.1420, validation_loss:0.2426, val_accuracy:0.9101\n",
      "Epoch [102/150], average_loss:0.1383, validation_loss:0.2468, val_accuracy:0.9101\n",
      "Epoch [103/150], average_loss:0.1340, validation_loss:0.2411, val_accuracy:0.9326\n",
      "Epoch [104/150], average_loss:0.1355, validation_loss:0.2373, val_accuracy:0.9663\n",
      "Epoch [105/150], average_loss:0.1306, validation_loss:0.2457, val_accuracy:0.9326\n",
      "Epoch [106/150], average_loss:0.1296, validation_loss:0.2415, val_accuracy:0.9213\n",
      "Epoch [107/150], average_loss:0.1367, validation_loss:0.2614, val_accuracy:0.9213\n",
      "Epoch [108/150], average_loss:0.1589, validation_loss:0.2308, val_accuracy:0.9551\n",
      "Epoch [109/150], average_loss:0.1369, validation_loss:0.2264, val_accuracy:0.9551\n",
      "Epoch [110/150], average_loss:0.1296, validation_loss:0.2324, val_accuracy:0.8876\n",
      "Epoch [111/150], average_loss:0.1268, validation_loss:0.2323, val_accuracy:0.9326\n",
      "Epoch [112/150], average_loss:0.1255, validation_loss:0.2351, val_accuracy:0.8876\n",
      "Epoch [113/150], average_loss:0.1256, validation_loss:0.2541, val_accuracy:0.9551\n",
      "Epoch [114/150], average_loss:0.1209, validation_loss:0.5847, val_accuracy:0.8876\n",
      "Epoch [115/150], average_loss:0.3803, validation_loss:0.3981, val_accuracy:0.8315\n",
      "Epoch [116/150], average_loss:0.2606, validation_loss:0.3380, val_accuracy:0.8652\n",
      "Epoch [117/150], average_loss:0.2287, validation_loss:0.3137, val_accuracy:0.9101\n",
      "Epoch [118/150], average_loss:0.2059, validation_loss:0.3012, val_accuracy:0.8764\n",
      "Epoch [119/150], average_loss:0.1905, validation_loss:0.2979, val_accuracy:0.8989\n",
      "Epoch [120/150], average_loss:0.1767, validation_loss:0.2880, val_accuracy:0.9213\n",
      "Epoch [121/150], average_loss:0.1720, validation_loss:0.3062, val_accuracy:0.9438\n",
      "Epoch [122/150], average_loss:0.1672, validation_loss:0.2710, val_accuracy:0.9551\n",
      "Epoch [123/150], average_loss:0.1635, validation_loss:0.2932, val_accuracy:0.8427\n",
      "Epoch [124/150], average_loss:0.1565, validation_loss:0.2913, val_accuracy:0.9438\n",
      "Epoch [125/150], average_loss:0.1632, validation_loss:0.3070, val_accuracy:0.9438\n",
      "Epoch [126/150], average_loss:0.1672, validation_loss:0.2581, val_accuracy:0.9326\n",
      "Epoch [127/150], average_loss:0.1487, validation_loss:0.2655, val_accuracy:0.9213\n",
      "Epoch [128/150], average_loss:0.1490, validation_loss:0.2739, val_accuracy:0.8989\n",
      "Epoch [129/150], average_loss:0.1419, validation_loss:0.2614, val_accuracy:0.8876\n",
      "Epoch [130/150], average_loss:0.1416, validation_loss:0.2621, val_accuracy:0.9326\n",
      "Epoch [131/150], average_loss:0.1393, validation_loss:0.2696, val_accuracy:0.9213\n",
      "Epoch [132/150], average_loss:0.1383, validation_loss:0.2528, val_accuracy:0.9101\n",
      "Epoch [133/150], average_loss:0.1364, validation_loss:0.2557, val_accuracy:0.9101\n",
      "Epoch [134/150], average_loss:0.1338, validation_loss:0.2691, val_accuracy:0.8876\n",
      "Epoch [135/150], average_loss:0.1260, validation_loss:0.2727, val_accuracy:0.8989\n",
      "Epoch [136/150], average_loss:0.1217, validation_loss:0.2672, val_accuracy:0.9213\n",
      "Epoch [137/150], average_loss:0.1272, validation_loss:0.2613, val_accuracy:0.9213\n",
      "Epoch [138/150], average_loss:0.1118, validation_loss:0.2553, val_accuracy:0.9438\n",
      "Epoch [139/150], average_loss:0.1144, validation_loss:0.2586, val_accuracy:0.8876\n",
      "Epoch [140/150], average_loss:0.1092, validation_loss:0.2741, val_accuracy:0.9438\n",
      "Epoch [141/150], average_loss:0.1054, validation_loss:0.2452, val_accuracy:0.8989\n",
      "Epoch [142/150], average_loss:0.0999, validation_loss:0.2469, val_accuracy:0.9213\n",
      "Epoch [143/150], average_loss:0.1046, validation_loss:0.2707, val_accuracy:0.8989\n",
      "Epoch [144/150], average_loss:0.0959, validation_loss:0.2428, val_accuracy:0.9213\n",
      "Epoch [145/150], average_loss:0.0948, validation_loss:0.2483, val_accuracy:0.9551\n",
      "Epoch [146/150], average_loss:0.0945, validation_loss:0.2411, val_accuracy:0.9551\n",
      "Epoch [147/150], average_loss:0.0931, validation_loss:0.2456, val_accuracy:0.9101\n",
      "Epoch [148/150], average_loss:0.0919, validation_loss:0.2432, val_accuracy:0.9213\n",
      "Epoch [149/150], average_loss:0.0893, validation_loss:0.2345, val_accuracy:0.9663\n",
      "Epoch [150/150], average_loss:0.0864, validation_loss:0.2388, val_accuracy:0.9438\n"
     ]
    }
   ],
   "source": [
    "lh = m1(epochs=range(100,150), train_loader=train_loader, validation_loader=valid_loader)"
   ]
  },
  {
   "cell_type": "code",
   "execution_count": 52,
   "metadata": {},
   "outputs": [],
   "source": [
    "m1.model.eval()\n",
    "with torch.no_grad():\n",
    "    x_pred = np.argmax(m1.model(torch.tensor(X_test).float().to(m1.device)).cpu().detach(), axis=1)"
   ]
  },
  {
   "cell_type": "code",
   "execution_count": 53,
   "metadata": {},
   "outputs": [
    {
     "data": {
      "text/plain": [
       "tensor([1, 1, 1,  ..., 3, 1, 0])"
      ]
     },
     "execution_count": 53,
     "metadata": {},
     "output_type": "execute_result"
    }
   ],
   "source": [
    "x_pred"
   ]
  },
  {
   "cell_type": "code",
   "execution_count": 54,
   "metadata": {},
   "outputs": [
    {
     "data": {
      "text/plain": [
       "0.8792134703533798"
      ]
     },
     "execution_count": 54,
     "metadata": {},
     "output_type": "execute_result"
    }
   ],
   "source": [
    "f1_score(y_true=y_test, y_pred=x_pred,average=\"macro\")"
   ]
  },
  {
   "cell_type": "code",
   "execution_count": 55,
   "metadata": {},
   "outputs": [
    {
     "data": {
      "text/plain": [
       "0.9279397705544933"
      ]
     },
     "execution_count": 55,
     "metadata": {},
     "output_type": "execute_result"
    }
   ],
   "source": [
    "accuracy_score(y_true=y_test, y_pred=x_pred)"
   ]
  },
  {
   "cell_type": "code",
   "execution_count": 56,
   "metadata": {},
   "outputs": [
    {
     "data": {
      "text/plain": [
       "array([[ 3676,   289,    27,   243],\n",
       "       [  199, 10130,    31,    85],\n",
       "       [   22,    27,   417,    13],\n",
       "       [  183,    66,    21,  1307]], dtype=int64)"
      ]
     },
     "execution_count": 56,
     "metadata": {},
     "output_type": "execute_result"
    }
   ],
   "source": [
    "confusion_matrix(y_true=y_test, y_pred=x_pred)"
   ]
  },
  {
   "cell_type": "code",
   "execution_count": 57,
   "metadata": {},
   "outputs": [],
   "source": [
    "#torch.save(m1.model.state_dict(), \"models_and_losses/LSTM-60x2_lr-1e-3_bs-100.pt\")"
   ]
  },
  {
   "cell_type": "code",
   "execution_count": 9,
   "metadata": {},
   "outputs": [
    {
     "data": {
      "image/png": "[encoded data removed]",
      "text/plain": [
       "<Figure size 432x288 with 1 Axes>"
      ]
     },
     "metadata": {
      "needs_background": "light"
     },
     "output_type": "display_data"
    }
   ],
   "source": [
    "plt.figure()\n",
    "plt.hist(y_train)\n",
    "plt.show()"
   ]
  },
  {
   "cell_type": "markdown",
   "metadata": {},
   "source": [
    "# LSTM m.II"
   ]
  },
  {
   "cell_type": "code",
   "execution_count": 14,
   "metadata": {},
   "outputs": [],
   "source": [
    "clf2 = nn.Sequential(\n",
    "                layers.Reshape(out_shape=(160, 1)), #(batch, seq, feature)\n",
    "                layers.LSTM_mod(sequence_len=160, input_size=1, hidden_size=60, num_layers=1, batch_first=True, dropout=0, bidirectional=True),\n",
    "                #layers.Reshape(out_shape=(19200)),\n",
    "                nn.Linear(in_features=120*160, out_features=4)\n",
    ")"
   ]
  },
  {
   "cell_type": "code",
   "execution_count": 15,
   "metadata": {},
   "outputs": [],
   "source": [
    "#clf1(torch.tensor(X_train[:2,:]).float())"
   ]
  },
  {
   "cell_type": "code",
   "execution_count": 16,
   "metadata": {},
   "outputs": [],
   "source": [
    "optimizer= torch.optim.Adam(clf2.parameters(), lr=1e-3)"
   ]
  },
  {
   "cell_type": "code",
   "execution_count": 17,
   "metadata": {},
   "outputs": [],
   "source": [
    "train_loader = torch.utils.data.DataLoader(dataset = train, batch_size=512, shuffle=True)\n",
    "valid_loader = torch.utils.data.DataLoader(dataset = valid, batch_size=512, shuffle=True)"
   ]
  },
  {
   "cell_type": "code",
   "execution_count": 18,
   "metadata": {},
   "outputs": [
    {
     "name": "stdout",
     "output_type": "stream",
     "text": [
      "cuda:0\n"
     ]
    }
   ],
   "source": [
    "m2 = Trainer(\n",
    "        model=clf2,\n",
    "        optimizer=optimizer,\n",
    "        loss_function=nn.CrossEntropyLoss(),\n",
    "        #scheduler=torch.optim.lr_scheduler.MultiStepLR(optimizer, milestones=[10], gamma=0.1),\n",
    "        tensorboard=True,\n",
    "        model_name=\"LSTM-60x1_lr-1e-3_bs-512\",\n",
    "        verbose=True\n",
    "        )"
   ]
  },
  {
   "cell_type": "code",
   "execution_count": 19,
   "metadata": {},
   "outputs": [
    {
     "name": "stdout",
     "output_type": "stream",
     "text": [
      "Epoch [1/100], average_loss:0.7175, validation_loss:0.6127, val_accuracy:0.8312\n",
      "Epoch [2/100], average_loss:0.5720, validation_loss:0.5494, val_accuracy:0.8312\n",
      "Epoch [3/100], average_loss:0.5375, validation_loss:0.5326, val_accuracy:0.7792\n",
      "Epoch [4/100], average_loss:0.5271, validation_loss:0.5156, val_accuracy:0.7662\n",
      "Epoch [5/100], average_loss:0.5203, validation_loss:0.5147, val_accuracy:0.7792\n",
      "Epoch [6/100], average_loss:0.5129, validation_loss:0.5086, val_accuracy:0.7922\n",
      "Epoch [7/100], average_loss:0.5060, validation_loss:0.5014, val_accuracy:0.7922\n",
      "Epoch [8/100], average_loss:0.4949, validation_loss:0.4890, val_accuracy:0.7922\n",
      "Epoch [9/100], average_loss:0.4874, validation_loss:0.4832, val_accuracy:0.7922\n",
      "Epoch [10/100], average_loss:0.4823, validation_loss:0.4812, val_accuracy:0.8052\n",
      "Epoch [11/100], average_loss:0.4719, validation_loss:0.4698, val_accuracy:0.8442\n",
      "Epoch [12/100], average_loss:0.4666, validation_loss:0.4788, val_accuracy:0.8831\n",
      "Epoch [13/100], average_loss:0.4644, validation_loss:0.4751, val_accuracy:0.7922\n",
      "Epoch [14/100], average_loss:0.4574, validation_loss:0.4443, val_accuracy:0.7532\n",
      "Epoch [15/100], average_loss:0.5113, validation_loss:0.4955, val_accuracy:0.8831\n",
      "Epoch [16/100], average_loss:0.4782, validation_loss:0.4646, val_accuracy:0.8571\n",
      "Epoch [17/100], average_loss:0.4674, validation_loss:0.4635, val_accuracy:0.8701\n",
      "Epoch [18/100], average_loss:0.4596, validation_loss:0.4522, val_accuracy:0.8312\n",
      "Epoch [19/100], average_loss:0.4487, validation_loss:0.4465, val_accuracy:0.8182\n",
      "Epoch [20/100], average_loss:0.4452, validation_loss:0.4430, val_accuracy:0.8182\n",
      "Epoch [21/100], average_loss:0.4376, validation_loss:0.4632, val_accuracy:0.8052\n",
      "Epoch [22/100], average_loss:0.4395, validation_loss:0.4464, val_accuracy:0.8442\n",
      "Epoch [23/100], average_loss:0.4313, validation_loss:0.4409, val_accuracy:0.8312\n",
      "Epoch [24/100], average_loss:0.4252, validation_loss:0.4343, val_accuracy:0.8571\n",
      "Epoch [25/100], average_loss:0.4271, validation_loss:0.4557, val_accuracy:0.7662\n",
      "Epoch [26/100], average_loss:0.4269, validation_loss:0.4416, val_accuracy:0.8831\n",
      "Epoch [27/100], average_loss:0.4254, validation_loss:0.4422, val_accuracy:0.7403\n",
      "Epoch [28/100], average_loss:0.4238, validation_loss:0.4268, val_accuracy:0.8052\n",
      "Epoch [29/100], average_loss:0.4162, validation_loss:0.4288, val_accuracy:0.8312\n",
      "Epoch [30/100], average_loss:0.4162, validation_loss:0.4209, val_accuracy:0.7922\n",
      "Epoch [31/100], average_loss:0.4156, validation_loss:0.4128, val_accuracy:0.8312\n",
      "Epoch [32/100], average_loss:0.4128, validation_loss:0.4264, val_accuracy:0.8312\n",
      "Epoch [33/100], average_loss:0.4121, validation_loss:0.4216, val_accuracy:0.7662\n",
      "Epoch [34/100], average_loss:0.4136, validation_loss:0.4154, val_accuracy:0.8961\n",
      "Epoch [35/100], average_loss:0.4098, validation_loss:0.4085, val_accuracy:0.8442\n",
      "Epoch [36/100], average_loss:0.4116, validation_loss:0.4143, val_accuracy:0.9091\n",
      "Epoch [37/100], average_loss:0.4079, validation_loss:0.4089, val_accuracy:0.7532\n",
      "Epoch [38/100], average_loss:0.4038, validation_loss:0.4230, val_accuracy:0.8312\n",
      "Epoch [39/100], average_loss:0.4028, validation_loss:0.4112, val_accuracy:0.8961\n",
      "Epoch [40/100], average_loss:0.4041, validation_loss:0.4360, val_accuracy:0.8701\n",
      "Epoch [41/100], average_loss:0.4052, validation_loss:0.4357, val_accuracy:0.8182\n",
      "Epoch [42/100], average_loss:0.3975, validation_loss:0.4110, val_accuracy:0.8442\n",
      "Epoch [43/100], average_loss:0.3981, validation_loss:0.4049, val_accuracy:0.7403\n",
      "Epoch [44/100], average_loss:0.3972, validation_loss:0.4092, val_accuracy:0.8312\n",
      "Epoch [45/100], average_loss:0.3966, validation_loss:0.4058, val_accuracy:0.8961\n",
      "Epoch [46/100], average_loss:0.3831, validation_loss:0.3887, val_accuracy:0.8701\n",
      "Epoch [47/100], average_loss:0.3846, validation_loss:0.3890, val_accuracy:0.8571\n",
      "Epoch [48/100], average_loss:0.3960, validation_loss:0.4380, val_accuracy:0.7792\n",
      "Epoch [49/100], average_loss:0.4054, validation_loss:0.4052, val_accuracy:0.8182\n",
      "Epoch [50/100], average_loss:0.3897, validation_loss:0.4170, val_accuracy:0.8571\n",
      "Epoch [51/100], average_loss:0.3960, validation_loss:0.3956, val_accuracy:0.8571\n",
      "Epoch [52/100], average_loss:0.3882, validation_loss:0.4035, val_accuracy:0.8052\n",
      "Epoch [53/100], average_loss:0.3786, validation_loss:0.4034, val_accuracy:0.8701\n",
      "Epoch [54/100], average_loss:0.3832, validation_loss:0.3946, val_accuracy:0.8312\n",
      "Epoch [55/100], average_loss:0.3787, validation_loss:0.3911, val_accuracy:0.8182\n",
      "Epoch [56/100], average_loss:0.3762, validation_loss:0.3838, val_accuracy:0.8961\n",
      "Epoch [57/100], average_loss:0.3782, validation_loss:0.4117, val_accuracy:0.8701\n",
      "Epoch [58/100], average_loss:0.3782, validation_loss:0.3926, val_accuracy:0.8701\n",
      "Epoch [59/100], average_loss:0.3746, validation_loss:0.3938, val_accuracy:0.9091\n",
      "Epoch [60/100], average_loss:0.3734, validation_loss:0.3931, val_accuracy:0.8442\n",
      "Epoch [61/100], average_loss:0.3738, validation_loss:0.3812, val_accuracy:0.8831\n",
      "Epoch [62/100], average_loss:0.3739, validation_loss:0.4018, val_accuracy:0.8182\n",
      "Epoch [63/100], average_loss:0.3730, validation_loss:0.3910, val_accuracy:0.7792\n",
      "Epoch [64/100], average_loss:0.3679, validation_loss:0.3944, val_accuracy:0.8182\n",
      "Epoch [65/100], average_loss:0.3719, validation_loss:0.3925, val_accuracy:0.7922\n",
      "Epoch [66/100], average_loss:0.3678, validation_loss:0.3832, val_accuracy:0.8701\n",
      "Epoch [67/100], average_loss:0.3698, validation_loss:0.3843, val_accuracy:0.8831\n",
      "Epoch [68/100], average_loss:0.3681, validation_loss:0.3929, val_accuracy:0.8442\n",
      "Epoch [69/100], average_loss:0.3659, validation_loss:0.3890, val_accuracy:0.7922\n",
      "Epoch [70/100], average_loss:0.3690, validation_loss:0.3844, val_accuracy:0.8701\n",
      "Epoch [71/100], average_loss:0.3653, validation_loss:0.3867, val_accuracy:0.8312\n",
      "Epoch [72/100], average_loss:0.3621, validation_loss:0.3857, val_accuracy:0.8701\n",
      "Epoch [73/100], average_loss:0.3625, validation_loss:0.3879, val_accuracy:0.8182\n",
      "Epoch [74/100], average_loss:0.3624, validation_loss:0.4038, val_accuracy:0.8701\n",
      "Epoch [75/100], average_loss:0.3642, validation_loss:0.3839, val_accuracy:0.8571\n",
      "Epoch [76/100], average_loss:0.3612, validation_loss:0.3919, val_accuracy:0.8571\n",
      "Epoch [77/100], average_loss:0.3625, validation_loss:0.3838, val_accuracy:0.8442\n",
      "Epoch [78/100], average_loss:0.3637, validation_loss:0.3826, val_accuracy:0.8701\n",
      "Epoch [79/100], average_loss:0.3587, validation_loss:0.3741, val_accuracy:0.8571\n",
      "Epoch [80/100], average_loss:0.3593, validation_loss:0.3847, val_accuracy:0.7662\n",
      "Epoch [81/100], average_loss:0.3565, validation_loss:0.3745, val_accuracy:0.8831\n",
      "Epoch [82/100], average_loss:0.3602, validation_loss:0.3933, val_accuracy:0.8701\n",
      "Epoch [83/100], average_loss:0.3601, validation_loss:0.3832, val_accuracy:0.7792\n",
      "Epoch [84/100], average_loss:0.3577, validation_loss:0.3811, val_accuracy:0.7532\n",
      "Epoch [85/100], average_loss:0.3556, validation_loss:0.3893, val_accuracy:0.8312\n",
      "Epoch [86/100], average_loss:0.3528, validation_loss:0.3799, val_accuracy:0.8831\n",
      "Epoch [87/100], average_loss:0.3527, validation_loss:0.3777, val_accuracy:0.8701\n",
      "Epoch [88/100], average_loss:0.3552, validation_loss:0.3741, val_accuracy:0.8571\n",
      "Epoch [89/100], average_loss:0.3502, validation_loss:0.3810, val_accuracy:0.8442\n",
      "Epoch [90/100], average_loss:0.3444, validation_loss:0.3824, val_accuracy:0.7922\n",
      "Epoch [91/100], average_loss:0.3458, validation_loss:0.3761, val_accuracy:0.8312\n",
      "Epoch [92/100], average_loss:0.3419, validation_loss:0.3707, val_accuracy:0.8571\n",
      "Epoch [93/100], average_loss:0.3401, validation_loss:0.3668, val_accuracy:0.8442\n",
      "Epoch [94/100], average_loss:0.3408, validation_loss:0.3971, val_accuracy:0.8312\n",
      "Epoch [95/100], average_loss:0.3419, validation_loss:0.3676, val_accuracy:0.8182\n",
      "Epoch [96/100], average_loss:0.3379, validation_loss:0.3644, val_accuracy:0.8571\n",
      "Epoch [97/100], average_loss:0.3377, validation_loss:0.3741, val_accuracy:0.8701\n",
      "Epoch [98/100], average_loss:0.4513, validation_loss:0.5567, val_accuracy:0.8831\n",
      "Epoch [99/100], average_loss:0.4563, validation_loss:0.4713, val_accuracy:0.7273\n",
      "Epoch [100/100], average_loss:0.4384, validation_loss:0.4657, val_accuracy:0.7403\n"
     ]
    }
   ],
   "source": [
    "lh = m2(epochs=100, train_loader=train_loader, validation_loader=valid_loader)"
   ]
  },
  {
   "cell_type": "code",
   "execution_count": 24,
   "metadata": {
    "scrolled": false
   },
   "outputs": [
    {
     "name": "stdout",
     "output_type": "stream",
     "text": [
      "Epoch [101/300], average_loss:0.4247, validation_loss:0.4440, val_accuracy:0.8312\n",
      "Epoch [102/300], average_loss:0.4085, validation_loss:0.4376, val_accuracy:0.7662\n",
      "Epoch [103/300], average_loss:0.3973, validation_loss:0.4433, val_accuracy:0.6753\n",
      "Epoch [104/300], average_loss:0.3904, validation_loss:0.4054, val_accuracy:0.7792\n",
      "Epoch [105/300], average_loss:0.3606, validation_loss:0.3589, val_accuracy:0.8182\n",
      "Epoch [106/300], average_loss:0.3209, validation_loss:0.3405, val_accuracy:0.8571\n",
      "Epoch [107/300], average_loss:0.3155, validation_loss:0.3317, val_accuracy:0.8701\n",
      "Epoch [108/300], average_loss:0.3095, validation_loss:0.3304, val_accuracy:0.8571\n",
      "Epoch [109/300], average_loss:0.3018, validation_loss:0.3239, val_accuracy:0.9091\n",
      "Epoch [110/300], average_loss:0.2946, validation_loss:0.3057, val_accuracy:0.8571\n",
      "Epoch [111/300], average_loss:0.2886, validation_loss:0.3179, val_accuracy:0.9091\n",
      "Epoch [112/300], average_loss:0.2827, validation_loss:0.2932, val_accuracy:0.8961\n",
      "Epoch [113/300], average_loss:0.2821, validation_loss:0.3149, val_accuracy:0.8571\n",
      "Epoch [114/300], average_loss:0.2701, validation_loss:0.2846, val_accuracy:0.9091\n",
      "Epoch [115/300], average_loss:0.2696, validation_loss:0.3000, val_accuracy:0.8961\n",
      "Epoch [116/300], average_loss:0.2626, validation_loss:0.3013, val_accuracy:0.8831\n",
      "Epoch [117/300], average_loss:0.2628, validation_loss:0.2972, val_accuracy:0.9221\n",
      "Epoch [118/300], average_loss:0.2569, validation_loss:0.2762, val_accuracy:0.9221\n",
      "Epoch [119/300], average_loss:0.2551, validation_loss:0.2677, val_accuracy:0.9481\n",
      "Epoch [120/300], average_loss:0.2592, validation_loss:0.2818, val_accuracy:0.8961\n",
      "Epoch [121/300], average_loss:0.2485, validation_loss:0.2749, val_accuracy:0.9091\n",
      "Epoch [122/300], average_loss:0.2470, validation_loss:0.2766, val_accuracy:0.9221\n",
      "Epoch [123/300], average_loss:0.2434, validation_loss:0.2865, val_accuracy:0.8442\n",
      "Epoch [124/300], average_loss:0.2415, validation_loss:0.2858, val_accuracy:0.9351\n",
      "Epoch [125/300], average_loss:0.2414, validation_loss:0.2838, val_accuracy:0.8961\n",
      "Epoch [126/300], average_loss:0.2422, validation_loss:0.2813, val_accuracy:0.8312\n",
      "Epoch [127/300], average_loss:0.2463, validation_loss:0.2728, val_accuracy:0.8701\n",
      "Epoch [128/300], average_loss:0.2371, validation_loss:0.2707, val_accuracy:0.9351\n",
      "Epoch [129/300], average_loss:0.2369, validation_loss:0.2651, val_accuracy:0.9091\n",
      "Epoch [130/300], average_loss:0.2334, validation_loss:0.2655, val_accuracy:0.8961\n",
      "Epoch [131/300], average_loss:0.2305, validation_loss:0.2783, val_accuracy:0.8831\n",
      "Epoch [132/300], average_loss:0.2287, validation_loss:0.2767, val_accuracy:0.8571\n",
      "Epoch [133/300], average_loss:0.2311, validation_loss:0.2681, val_accuracy:0.9610\n",
      "Epoch [134/300], average_loss:0.2291, validation_loss:0.2671, val_accuracy:0.8961\n",
      "Epoch [135/300], average_loss:0.2336, validation_loss:0.2883, val_accuracy:0.9740\n",
      "Epoch [136/300], average_loss:0.2319, validation_loss:0.2653, val_accuracy:0.8831\n",
      "Epoch [137/300], average_loss:0.2306, validation_loss:0.2519, val_accuracy:0.8831\n",
      "Epoch [138/300], average_loss:0.2242, validation_loss:0.2671, val_accuracy:0.9481\n",
      "Epoch [139/300], average_loss:0.2244, validation_loss:0.2543, val_accuracy:0.9351\n",
      "Epoch [140/300], average_loss:0.2206, validation_loss:0.2536, val_accuracy:0.9091\n",
      "Epoch [141/300], average_loss:0.2233, validation_loss:0.2810, val_accuracy:0.8442\n",
      "Epoch [142/300], average_loss:0.2202, validation_loss:0.2592, val_accuracy:0.9091\n",
      "Epoch [143/300], average_loss:0.2170, validation_loss:0.2685, val_accuracy:0.8961\n",
      "Epoch [144/300], average_loss:0.2196, validation_loss:0.2577, val_accuracy:0.8831\n",
      "Epoch [145/300], average_loss:0.2166, validation_loss:0.2614, val_accuracy:0.9221\n",
      "Epoch [146/300], average_loss:0.2185, validation_loss:0.2585, val_accuracy:0.9221\n",
      "Epoch [147/300], average_loss:0.2158, validation_loss:0.2518, val_accuracy:0.9351\n",
      "Epoch [148/300], average_loss:0.2159, validation_loss:0.2638, val_accuracy:0.9351\n",
      "Epoch [149/300], average_loss:0.2144, validation_loss:0.2606, val_accuracy:0.8442\n",
      "Epoch [150/300], average_loss:0.2121, validation_loss:0.2487, val_accuracy:0.9481\n",
      "Epoch [151/300], average_loss:0.2115, validation_loss:0.2636, val_accuracy:0.8442\n",
      "Epoch [152/300], average_loss:0.2115, validation_loss:0.2559, val_accuracy:0.9091\n",
      "Epoch [153/300], average_loss:0.2122, validation_loss:0.2490, val_accuracy:0.9091\n",
      "Epoch [154/300], average_loss:0.2083, validation_loss:0.2638, val_accuracy:0.8831\n",
      "Epoch [155/300], average_loss:0.2101, validation_loss:0.2591, val_accuracy:0.8442\n",
      "Epoch [156/300], average_loss:0.2081, validation_loss:0.2470, val_accuracy:0.8961\n",
      "Epoch [157/300], average_loss:0.2152, validation_loss:0.2593, val_accuracy:0.8961\n",
      "Epoch [158/300], average_loss:0.2280, validation_loss:0.2723, val_accuracy:0.9740\n",
      "Epoch [159/300], average_loss:0.2250, validation_loss:0.2634, val_accuracy:0.9221\n",
      "Epoch [160/300], average_loss:0.2298, validation_loss:0.2862, val_accuracy:0.8961\n",
      "Epoch [161/300], average_loss:0.2369, validation_loss:0.2630, val_accuracy:0.9351\n",
      "Epoch [162/300], average_loss:0.2163, validation_loss:0.2494, val_accuracy:0.9481\n",
      "Epoch [163/300], average_loss:0.2110, validation_loss:0.2517, val_accuracy:0.9351\n",
      "Epoch [164/300], average_loss:0.2043, validation_loss:0.2497, val_accuracy:0.9091\n",
      "Epoch [165/300], average_loss:0.2047, validation_loss:0.2536, val_accuracy:0.8961\n",
      "Epoch [166/300], average_loss:0.2059, validation_loss:0.2649, val_accuracy:0.9221\n",
      "Epoch [167/300], average_loss:0.2022, validation_loss:0.2541, val_accuracy:0.9091\n",
      "Epoch [168/300], average_loss:0.2011, validation_loss:0.2468, val_accuracy:0.9221\n",
      "Epoch [169/300], average_loss:0.1988, validation_loss:0.2566, val_accuracy:0.9091\n",
      "Epoch [170/300], average_loss:0.2014, validation_loss:0.2604, val_accuracy:0.8442\n",
      "Epoch [171/300], average_loss:0.1986, validation_loss:0.2448, val_accuracy:0.8961\n",
      "Epoch [172/300], average_loss:0.1926, validation_loss:0.2447, val_accuracy:0.9091\n",
      "Epoch [173/300], average_loss:0.1966, validation_loss:0.2518, val_accuracy:0.8571\n",
      "Epoch [174/300], average_loss:0.1913, validation_loss:0.2422, val_accuracy:0.9610\n",
      "Epoch [175/300], average_loss:0.1915, validation_loss:0.2544, val_accuracy:0.9481\n",
      "Epoch [176/300], average_loss:0.1905, validation_loss:0.2462, val_accuracy:0.9351\n",
      "Epoch [177/300], average_loss:0.1882, validation_loss:0.2511, val_accuracy:0.9221\n",
      "Epoch [178/300], average_loss:0.1894, validation_loss:0.2501, val_accuracy:0.8831\n",
      "Epoch [179/300], average_loss:0.1849, validation_loss:0.2527, val_accuracy:0.8831\n",
      "Epoch [180/300], average_loss:0.1859, validation_loss:0.2419, val_accuracy:0.8961\n",
      "Epoch [181/300], average_loss:0.1824, validation_loss:0.2366, val_accuracy:0.9351\n",
      "Epoch [182/300], average_loss:0.1852, validation_loss:0.2410, val_accuracy:0.9091\n",
      "Epoch [183/300], average_loss:0.1839, validation_loss:0.2445, val_accuracy:0.9221\n",
      "Epoch [184/300], average_loss:0.1845, validation_loss:0.2445, val_accuracy:0.9351\n",
      "Epoch [185/300], average_loss:0.1862, validation_loss:0.2510, val_accuracy:0.9481\n",
      "Epoch [186/300], average_loss:0.1813, validation_loss:0.2338, val_accuracy:0.9481\n",
      "Epoch [187/300], average_loss:0.1774, validation_loss:0.2577, val_accuracy:0.8961\n",
      "Epoch [188/300], average_loss:0.1771, validation_loss:0.2425, val_accuracy:0.8831\n",
      "Epoch [189/300], average_loss:0.1784, validation_loss:0.2493, val_accuracy:0.9481\n",
      "Epoch [190/300], average_loss:0.1824, validation_loss:0.2400, val_accuracy:0.9221\n",
      "Epoch [191/300], average_loss:0.1751, validation_loss:0.2457, val_accuracy:0.9221\n",
      "Epoch [192/300], average_loss:0.1790, validation_loss:0.2381, val_accuracy:0.9610\n",
      "Epoch [193/300], average_loss:0.1707, validation_loss:0.2304, val_accuracy:0.9481\n",
      "Epoch [194/300], average_loss:0.1727, validation_loss:0.2394, val_accuracy:0.9221\n",
      "Epoch [195/300], average_loss:0.1686, validation_loss:0.2440, val_accuracy:0.9481\n",
      "Epoch [196/300], average_loss:0.1693, validation_loss:0.2358, val_accuracy:0.9740\n",
      "Epoch [197/300], average_loss:0.1718, validation_loss:0.2468, val_accuracy:0.8571\n",
      "Epoch [198/300], average_loss:0.1711, validation_loss:0.2461, val_accuracy:0.8961\n",
      "Epoch [199/300], average_loss:0.1693, validation_loss:0.2440, val_accuracy:0.9870\n",
      "Epoch [200/300], average_loss:0.1673, validation_loss:0.2410, val_accuracy:0.8701\n"
     ]
    },
    {
     "name": "stdout",
     "output_type": "stream",
     "text": [
      "Epoch [201/300], average_loss:0.1670, validation_loss:0.2367, val_accuracy:0.9091\n",
      "Epoch [202/300], average_loss:0.1647, validation_loss:0.2439, val_accuracy:0.8961\n",
      "Epoch [203/300], average_loss:0.1641, validation_loss:0.2455, val_accuracy:0.8701\n",
      "Epoch [204/300], average_loss:0.1637, validation_loss:0.2514, val_accuracy:0.8831\n",
      "Epoch [205/300], average_loss:0.1625, validation_loss:0.2323, val_accuracy:0.9481\n",
      "Epoch [206/300], average_loss:0.1620, validation_loss:0.2459, val_accuracy:0.8442\n",
      "Epoch [207/300], average_loss:0.1581, validation_loss:0.2402, val_accuracy:0.8701\n",
      "Epoch [208/300], average_loss:0.1586, validation_loss:0.2349, val_accuracy:0.9610\n",
      "Epoch [209/300], average_loss:0.1587, validation_loss:0.2317, val_accuracy:0.9481\n",
      "Epoch [210/300], average_loss:0.1605, validation_loss:0.2488, val_accuracy:0.8701\n",
      "Epoch [211/300], average_loss:0.1535, validation_loss:0.2554, val_accuracy:0.9091\n",
      "Epoch [212/300], average_loss:0.1543, validation_loss:0.2344, val_accuracy:0.9610\n",
      "Epoch [213/300], average_loss:0.1593, validation_loss:0.2522, val_accuracy:0.9351\n",
      "Epoch [214/300], average_loss:0.1970, validation_loss:0.2724, val_accuracy:0.9351\n",
      "Epoch [215/300], average_loss:0.1936, validation_loss:0.2505, val_accuracy:0.9870\n",
      "Epoch [216/300], average_loss:0.1920, validation_loss:0.2508, val_accuracy:0.9091\n",
      "Epoch [217/300], average_loss:0.1800, validation_loss:0.2555, val_accuracy:0.8701\n",
      "Epoch [218/300], average_loss:0.1643, validation_loss:0.2259, val_accuracy:0.9610\n",
      "Epoch [219/300], average_loss:0.1656, validation_loss:0.2355, val_accuracy:0.9091\n",
      "Epoch [220/300], average_loss:0.1655, validation_loss:0.2514, val_accuracy:0.8442\n",
      "Epoch [221/300], average_loss:0.1690, validation_loss:0.2318, val_accuracy:0.9221\n",
      "Epoch [222/300], average_loss:0.1576, validation_loss:0.2281, val_accuracy:0.9091\n",
      "Epoch [223/300], average_loss:0.1551, validation_loss:0.2305, val_accuracy:0.8571\n",
      "Epoch [224/300], average_loss:0.1589, validation_loss:0.2248, val_accuracy:0.9481\n",
      "Epoch [225/300], average_loss:0.1524, validation_loss:0.2238, val_accuracy:0.9351\n",
      "Epoch [226/300], average_loss:0.1524, validation_loss:0.2264, val_accuracy:0.9481\n",
      "Epoch [227/300], average_loss:0.1504, validation_loss:0.2368, val_accuracy:0.9221\n",
      "Epoch [228/300], average_loss:0.1476, validation_loss:0.2346, val_accuracy:0.9221\n",
      "Epoch [229/300], average_loss:0.1434, validation_loss:0.2462, val_accuracy:0.9351\n",
      "Epoch [230/300], average_loss:0.1531, validation_loss:0.2208, val_accuracy:0.9481\n",
      "Epoch [231/300], average_loss:0.1457, validation_loss:0.2330, val_accuracy:0.8571\n",
      "Epoch [232/300], average_loss:0.1432, validation_loss:0.2244, val_accuracy:0.9481\n",
      "Epoch [233/300], average_loss:0.1410, validation_loss:0.2257, val_accuracy:0.9221\n",
      "Epoch [234/300], average_loss:0.1416, validation_loss:0.2333, val_accuracy:0.9481\n",
      "Epoch [235/300], average_loss:0.1433, validation_loss:0.2322, val_accuracy:0.9221\n",
      "Epoch [236/300], average_loss:0.1425, validation_loss:0.2257, val_accuracy:0.9221\n",
      "Epoch [237/300], average_loss:0.1378, validation_loss:0.2310, val_accuracy:0.8831\n",
      "Epoch [238/300], average_loss:0.1396, validation_loss:0.2219, val_accuracy:0.9740\n",
      "Epoch [239/300], average_loss:0.1375, validation_loss:0.2245, val_accuracy:0.8961\n",
      "Epoch [240/300], average_loss:0.1375, validation_loss:0.2136, val_accuracy:0.9870\n",
      "Epoch [241/300], average_loss:0.1377, validation_loss:0.2193, val_accuracy:0.9740\n",
      "Epoch [242/300], average_loss:0.1413, validation_loss:0.2292, val_accuracy:0.9091\n",
      "Epoch [243/300], average_loss:0.1377, validation_loss:0.2183, val_accuracy:0.9091\n",
      "Epoch [244/300], average_loss:0.1327, validation_loss:0.2271, val_accuracy:0.9221\n",
      "Epoch [245/300], average_loss:0.1369, validation_loss:0.2291, val_accuracy:0.9091\n",
      "Epoch [246/300], average_loss:0.1424, validation_loss:0.2478, val_accuracy:0.9091\n",
      "Epoch [247/300], average_loss:0.1474, validation_loss:0.2386, val_accuracy:0.9481\n",
      "Epoch [248/300], average_loss:0.1356, validation_loss:0.2346, val_accuracy:0.9351\n",
      "Epoch [249/300], average_loss:0.1404, validation_loss:0.2235, val_accuracy:0.9610\n",
      "Epoch [250/300], average_loss:0.1339, validation_loss:0.2226, val_accuracy:0.9351\n",
      "Epoch [251/300], average_loss:0.1359, validation_loss:0.2394, val_accuracy:0.9091\n",
      "Epoch [252/300], average_loss:0.1319, validation_loss:0.2181, val_accuracy:0.9091\n",
      "Epoch [253/300], average_loss:0.1289, validation_loss:0.2233, val_accuracy:0.9351\n",
      "Epoch [254/300], average_loss:0.1333, validation_loss:0.2289, val_accuracy:0.9351\n",
      "Epoch [255/300], average_loss:0.1326, validation_loss:0.2470, val_accuracy:0.8831\n",
      "Epoch [256/300], average_loss:0.1284, validation_loss:0.2269, val_accuracy:0.9091\n",
      "Epoch [257/300], average_loss:0.1208, validation_loss:0.2197, val_accuracy:0.9221\n",
      "Epoch [258/300], average_loss:0.1219, validation_loss:0.2212, val_accuracy:0.9481\n",
      "Epoch [259/300], average_loss:0.1257, validation_loss:0.2139, val_accuracy:0.9481\n",
      "Epoch [260/300], average_loss:0.1274, validation_loss:0.2204, val_accuracy:0.9740\n",
      "Epoch [261/300], average_loss:0.1357, validation_loss:0.2634, val_accuracy:0.9221\n",
      "Epoch [262/300], average_loss:0.1548, validation_loss:0.2312, val_accuracy:0.9221\n",
      "Epoch [263/300], average_loss:0.1278, validation_loss:0.2261, val_accuracy:0.9481\n",
      "Epoch [264/300], average_loss:0.1260, validation_loss:0.2171, val_accuracy:0.9610\n",
      "Epoch [265/300], average_loss:0.1179, validation_loss:0.2208, val_accuracy:0.8831\n",
      "Epoch [266/300], average_loss:0.1263, validation_loss:0.2203, val_accuracy:0.9740\n",
      "Epoch [267/300], average_loss:0.1212, validation_loss:0.2163, val_accuracy:0.9091\n",
      "Epoch [268/300], average_loss:0.1199, validation_loss:0.2317, val_accuracy:0.9091\n",
      "Epoch [269/300], average_loss:0.1212, validation_loss:0.2128, val_accuracy:0.9610\n",
      "Epoch [270/300], average_loss:0.1231, validation_loss:0.2197, val_accuracy:0.8701\n",
      "Epoch [271/300], average_loss:0.1174, validation_loss:0.2157, val_accuracy:0.9091\n",
      "Epoch [272/300], average_loss:0.1409, validation_loss:0.2600, val_accuracy:0.8831\n",
      "Epoch [273/300], average_loss:0.1377, validation_loss:0.2354, val_accuracy:0.8831\n",
      "Epoch [274/300], average_loss:0.1289, validation_loss:0.2321, val_accuracy:0.9481\n",
      "Epoch [275/300], average_loss:0.1329, validation_loss:0.2174, val_accuracy:0.9740\n",
      "Epoch [276/300], average_loss:0.1243, validation_loss:0.2752, val_accuracy:0.8961\n",
      "Epoch [277/300], average_loss:0.1491, validation_loss:0.2306, val_accuracy:0.9351\n",
      "Epoch [278/300], average_loss:0.1262, validation_loss:0.2150, val_accuracy:0.9870\n",
      "Epoch [279/300], average_loss:0.1209, validation_loss:0.2285, val_accuracy:0.8961\n",
      "Epoch [280/300], average_loss:0.1181, validation_loss:0.2176, val_accuracy:0.9740\n",
      "Epoch [281/300], average_loss:0.1277, validation_loss:0.2417, val_accuracy:0.9610\n",
      "Epoch [282/300], average_loss:0.1317, validation_loss:0.2331, val_accuracy:0.8831\n",
      "Epoch [283/300], average_loss:0.1228, validation_loss:0.2281, val_accuracy:0.9091\n",
      "Epoch [284/300], average_loss:0.1157, validation_loss:0.2346, val_accuracy:0.8961\n",
      "Epoch [285/300], average_loss:0.1175, validation_loss:0.2275, val_accuracy:0.8831\n",
      "Epoch [286/300], average_loss:0.1273, validation_loss:0.2241, val_accuracy:0.9351\n",
      "Epoch [287/300], average_loss:0.1137, validation_loss:0.2097, val_accuracy:0.9351\n",
      "Epoch [288/300], average_loss:0.1086, validation_loss:0.2116, val_accuracy:0.9221\n",
      "Epoch [289/300], average_loss:0.1115, validation_loss:0.2098, val_accuracy:0.9610\n",
      "Epoch [290/300], average_loss:0.1119, validation_loss:0.2221, val_accuracy:0.9610\n",
      "Epoch [291/300], average_loss:0.1197, validation_loss:0.2275, val_accuracy:0.9091\n",
      "Epoch [292/300], average_loss:0.1528, validation_loss:0.2411, val_accuracy:0.9221\n",
      "Epoch [293/300], average_loss:0.1169, validation_loss:0.2141, val_accuracy:0.9221\n",
      "Epoch [294/300], average_loss:0.1049, validation_loss:0.2156, val_accuracy:0.9351\n",
      "Epoch [295/300], average_loss:0.1062, validation_loss:0.2284, val_accuracy:0.9091\n",
      "Epoch [296/300], average_loss:0.1084, validation_loss:0.2089, val_accuracy:0.9351\n",
      "Epoch [297/300], average_loss:0.1077, validation_loss:0.2130, val_accuracy:0.9221\n",
      "Epoch [298/300], average_loss:0.1050, validation_loss:0.2105, val_accuracy:0.9481\n",
      "Epoch [299/300], average_loss:0.1034, validation_loss:0.2161, val_accuracy:0.9351\n",
      "Epoch [300/300], average_loss:0.1061, validation_loss:0.2182, val_accuracy:0.9351\n"
     ]
    }
   ],
   "source": [
    "lh = m2(epochs=range(100,300), train_loader=train_loader, validation_loader=valid_loader)"
   ]
  },
  {
   "cell_type": "code",
   "execution_count": 25,
   "metadata": {},
   "outputs": [],
   "source": [
    "m2.model.eval()\n",
    "with torch.no_grad():\n",
    "    x_pred = np.argmax(m2.model(torch.tensor(X_test).float().to(m2.device)).cpu().detach(), axis=1)"
   ]
  },
  {
   "cell_type": "code",
   "execution_count": 26,
   "metadata": {},
   "outputs": [
    {
     "data": {
      "text/plain": [
       "tensor([1, 1, 1,  ..., 3, 1, 0])"
      ]
     },
     "execution_count": 26,
     "metadata": {},
     "output_type": "execute_result"
    }
   ],
   "source": [
    "x_pred"
   ]
  },
  {
   "cell_type": "code",
   "execution_count": 27,
   "metadata": {},
   "outputs": [
    {
     "data": {
      "text/plain": [
       "0.8768538564045317"
      ]
     },
     "execution_count": 27,
     "metadata": {},
     "output_type": "execute_result"
    }
   ],
   "source": [
    "f1_score(y_true=y_test, y_pred=x_pred,average=\"macro\")"
   ]
  },
  {
   "cell_type": "code",
   "execution_count": 28,
   "metadata": {},
   "outputs": [
    {
     "data": {
      "text/plain": [
       "0.9294933078393881"
      ]
     },
     "execution_count": 28,
     "metadata": {},
     "output_type": "execute_result"
    }
   ],
   "source": [
    "accuracy_score(y_true=y_test, y_pred=x_pred)"
   ]
  },
  {
   "cell_type": "code",
   "execution_count": 29,
   "metadata": {},
   "outputs": [
    {
     "data": {
      "text/plain": [
       "array([[ 3846,   189,    39,   161],\n",
       "       [  276, 10040,    30,    99],\n",
       "       [   18,    17,   425,    19],\n",
       "       [  217,    79,    36,  1245]], dtype=int64)"
      ]
     },
     "execution_count": 29,
     "metadata": {},
     "output_type": "execute_result"
    }
   ],
   "source": [
    "confusion_matrix(y_true=y_test, y_pred=x_pred)"
   ]
  },
  {
   "cell_type": "code",
   "execution_count": 30,
   "metadata": {
    "collapsed": true
   },
   "outputs": [
    {
     "name": "stderr",
     "output_type": "stream",
     "text": [
      "C:\\Users\\ghost_000\\Miniconda3\\envs\\Pytorch\\lib\\site-packages\\torch\\serialization.py:292: UserWarning: Couldn't retrieve source code for container of type Sequential. It won't be checked for correctness upon loading.\n",
      "  \"type \" + obj.__name__ + \". It won't be checked \"\n",
      "C:\\Users\\ghost_000\\Miniconda3\\envs\\Pytorch\\lib\\site-packages\\torch\\serialization.py:292: UserWarning: Couldn't retrieve source code for container of type Reshape. It won't be checked for correctness upon loading.\n",
      "  \"type \" + obj.__name__ + \". It won't be checked \"\n",
      "C:\\Users\\ghost_000\\Miniconda3\\envs\\Pytorch\\lib\\site-packages\\torch\\serialization.py:292: UserWarning: Couldn't retrieve source code for container of type LSTM_mod. It won't be checked for correctness upon loading.\n",
      "  \"type \" + obj.__name__ + \". It won't be checked \"\n",
      "C:\\Users\\ghost_000\\Miniconda3\\envs\\Pytorch\\lib\\site-packages\\torch\\serialization.py:292: UserWarning: Couldn't retrieve source code for container of type LSTM. It won't be checked for correctness upon loading.\n",
      "  \"type \" + obj.__name__ + \". It won't be checked \"\n",
      "C:\\Users\\ghost_000\\Miniconda3\\envs\\Pytorch\\lib\\site-packages\\torch\\serialization.py:292: UserWarning: Couldn't retrieve source code for container of type Linear. It won't be checked for correctness upon loading.\n",
      "  \"type \" + obj.__name__ + \". It won't be checked \"\n"
     ]
    }
   ],
   "source": [
    "#torch.save(m2.model, \"models_and_losses/LSTM-60x1_lr-1e-3_bs-512_epoch-300.pt\")"
   ]
  },
  {
   "cell_type": "code",
   "execution_count": 31,
   "metadata": {},
   "outputs": [
    {
     "name": "stdout",
     "output_type": "stream",
     "text": [
      "Epoch [301/400], average_loss:0.1125, validation_loss:0.2173, val_accuracy:0.9221\n",
      "Epoch [302/400], average_loss:0.1250, validation_loss:0.2268, val_accuracy:0.9351\n",
      "Epoch [303/400], average_loss:0.1124, validation_loss:0.2214, val_accuracy:0.9221\n",
      "Epoch [304/400], average_loss:0.1084, validation_loss:0.2286, val_accuracy:0.9610\n",
      "Epoch [305/400], average_loss:0.1027, validation_loss:0.2129, val_accuracy:0.9481\n",
      "Epoch [306/400], average_loss:0.1057, validation_loss:0.2243, val_accuracy:0.9610\n",
      "Epoch [307/400], average_loss:0.1103, validation_loss:0.2280, val_accuracy:0.9221\n",
      "Epoch [308/400], average_loss:0.1046, validation_loss:0.2350, val_accuracy:0.9091\n",
      "Epoch [309/400], average_loss:0.0974, validation_loss:0.2129, val_accuracy:0.9740\n",
      "Epoch [310/400], average_loss:0.1020, validation_loss:0.2103, val_accuracy:0.9351\n",
      "Epoch [311/400], average_loss:0.0954, validation_loss:0.2091, val_accuracy:0.9221\n",
      "Epoch [312/400], average_loss:0.0982, validation_loss:0.2102, val_accuracy:0.9870\n",
      "Epoch [313/400], average_loss:0.0973, validation_loss:0.2270, val_accuracy:0.9610\n",
      "Epoch [314/400], average_loss:0.1010, validation_loss:0.2100, val_accuracy:0.9610\n",
      "Epoch [315/400], average_loss:0.1015, validation_loss:0.2118, val_accuracy:0.9610\n",
      "Epoch [316/400], average_loss:0.0943, validation_loss:0.2350, val_accuracy:0.9091\n",
      "Epoch [317/400], average_loss:0.0969, validation_loss:0.2494, val_accuracy:0.8442\n",
      "Epoch [318/400], average_loss:0.0956, validation_loss:0.2115, val_accuracy:0.9481\n",
      "Epoch [319/400], average_loss:0.0931, validation_loss:0.2271, val_accuracy:0.8961\n",
      "Epoch [320/400], average_loss:0.1031, validation_loss:0.2247, val_accuracy:0.9221\n",
      "Epoch [321/400], average_loss:0.1051, validation_loss:0.2283, val_accuracy:0.9870\n",
      "Epoch [322/400], average_loss:0.1053, validation_loss:0.2240, val_accuracy:0.9870\n",
      "Epoch [323/400], average_loss:0.0991, validation_loss:0.2208, val_accuracy:0.8961\n",
      "Epoch [324/400], average_loss:0.1048, validation_loss:0.2214, val_accuracy:0.9870\n",
      "Epoch [325/400], average_loss:0.0942, validation_loss:0.2328, val_accuracy:0.9221\n",
      "Epoch [326/400], average_loss:0.0979, validation_loss:0.2159, val_accuracy:0.9610\n",
      "Epoch [327/400], average_loss:0.0930, validation_loss:0.2252, val_accuracy:0.8961\n",
      "Epoch [328/400], average_loss:0.0925, validation_loss:0.2136, val_accuracy:0.9610\n",
      "Epoch [329/400], average_loss:0.0903, validation_loss:0.2318, val_accuracy:0.8961\n",
      "Epoch [330/400], average_loss:0.0964, validation_loss:0.2263, val_accuracy:0.9481\n",
      "Epoch [331/400], average_loss:0.0919, validation_loss:0.2054, val_accuracy:0.9740\n",
      "Epoch [332/400], average_loss:0.1043, validation_loss:0.2477, val_accuracy:0.8831\n",
      "Epoch [333/400], average_loss:0.0994, validation_loss:0.2237, val_accuracy:0.9091\n",
      "Epoch [334/400], average_loss:0.0916, validation_loss:0.2150, val_accuracy:0.9351\n",
      "Epoch [335/400], average_loss:0.0842, validation_loss:0.2100, val_accuracy:0.9610\n",
      "Epoch [336/400], average_loss:0.0877, validation_loss:0.2101, val_accuracy:0.9740\n",
      "Epoch [337/400], average_loss:0.0824, validation_loss:0.2228, val_accuracy:0.8961\n",
      "Epoch [338/400], average_loss:0.0823, validation_loss:0.2179, val_accuracy:0.9351\n",
      "Epoch [339/400], average_loss:0.0880, validation_loss:0.2154, val_accuracy:0.9740\n",
      "Epoch [340/400], average_loss:0.0830, validation_loss:0.2176, val_accuracy:0.8831\n",
      "Epoch [341/400], average_loss:0.0847, validation_loss:0.2174, val_accuracy:0.9870\n",
      "Epoch [342/400], average_loss:0.0868, validation_loss:0.2123, val_accuracy:0.9870\n",
      "Epoch [343/400], average_loss:0.0863, validation_loss:0.2196, val_accuracy:0.9870\n",
      "Epoch [344/400], average_loss:0.0910, validation_loss:0.2229, val_accuracy:0.9481\n",
      "Epoch [345/400], average_loss:0.0943, validation_loss:0.2424, val_accuracy:0.9351\n",
      "Epoch [346/400], average_loss:0.0907, validation_loss:0.2247, val_accuracy:0.9740\n",
      "Epoch [347/400], average_loss:0.0829, validation_loss:0.2202, val_accuracy:0.9091\n",
      "Epoch [348/400], average_loss:0.0805, validation_loss:0.2229, val_accuracy:0.8961\n",
      "Epoch [349/400], average_loss:0.0805, validation_loss:0.2326, val_accuracy:0.9091\n",
      "Epoch [350/400], average_loss:0.0791, validation_loss:0.2307, val_accuracy:0.9351\n",
      "Epoch [351/400], average_loss:0.0794, validation_loss:0.2210, val_accuracy:0.9351\n",
      "Epoch [352/400], average_loss:0.0849, validation_loss:0.2322, val_accuracy:0.9091\n",
      "Epoch [353/400], average_loss:0.0936, validation_loss:0.2392, val_accuracy:0.9221\n",
      "Epoch [354/400], average_loss:0.0852, validation_loss:0.2367, val_accuracy:0.9221\n",
      "Epoch [355/400], average_loss:0.0872, validation_loss:0.2275, val_accuracy:0.9610\n",
      "Epoch [356/400], average_loss:0.0951, validation_loss:0.2682, val_accuracy:0.9610\n",
      "Epoch [357/400], average_loss:0.0978, validation_loss:0.2310, val_accuracy:0.9221\n",
      "Epoch [358/400], average_loss:0.0815, validation_loss:0.2282, val_accuracy:0.9870\n",
      "Epoch [359/400], average_loss:0.0766, validation_loss:0.2416, val_accuracy:0.8961\n",
      "Epoch [360/400], average_loss:0.0762, validation_loss:0.2305, val_accuracy:0.9351\n",
      "Epoch [361/400], average_loss:0.0754, validation_loss:0.2252, val_accuracy:0.9091\n",
      "Epoch [362/400], average_loss:0.0776, validation_loss:0.2456, val_accuracy:0.9740\n",
      "Epoch [363/400], average_loss:0.0740, validation_loss:0.2253, val_accuracy:0.9351\n",
      "Epoch [364/400], average_loss:0.0721, validation_loss:0.2227, val_accuracy:0.9481\n",
      "Epoch [365/400], average_loss:0.0763, validation_loss:0.2311, val_accuracy:0.9351\n",
      "Epoch [366/400], average_loss:0.0748, validation_loss:0.2222, val_accuracy:0.9740\n",
      "Epoch [367/400], average_loss:0.0831, validation_loss:0.2320, val_accuracy:0.9091\n",
      "Epoch [368/400], average_loss:0.0827, validation_loss:0.2337, val_accuracy:0.9221\n",
      "Epoch [369/400], average_loss:0.0725, validation_loss:0.2397, val_accuracy:0.9351\n",
      "Epoch [370/400], average_loss:0.0966, validation_loss:0.2401, val_accuracy:0.9221\n",
      "Epoch [371/400], average_loss:0.0845, validation_loss:0.2405, val_accuracy:0.9351\n",
      "Epoch [372/400], average_loss:0.0760, validation_loss:0.2191, val_accuracy:0.9610\n",
      "Epoch [373/400], average_loss:0.0691, validation_loss:0.2416, val_accuracy:0.9481\n",
      "Epoch [374/400], average_loss:0.0686, validation_loss:0.2280, val_accuracy:0.9610\n",
      "Epoch [375/400], average_loss:0.0774, validation_loss:0.2276, val_accuracy:0.9870\n",
      "Epoch [376/400], average_loss:0.1031, validation_loss:0.2756, val_accuracy:0.9610\n",
      "Epoch [377/400], average_loss:0.1039, validation_loss:0.2412, val_accuracy:0.9091\n",
      "Epoch [378/400], average_loss:0.0770, validation_loss:0.2440, val_accuracy:0.9351\n",
      "Epoch [379/400], average_loss:0.0684, validation_loss:0.2254, val_accuracy:0.9351\n",
      "Epoch [380/400], average_loss:0.0708, validation_loss:0.2309, val_accuracy:0.9221\n",
      "Epoch [381/400], average_loss:0.0660, validation_loss:0.2236, val_accuracy:0.9351\n",
      "Epoch [382/400], average_loss:0.0733, validation_loss:0.2308, val_accuracy:0.9351\n",
      "Epoch [383/400], average_loss:0.0649, validation_loss:0.2123, val_accuracy:0.9351\n",
      "Epoch [384/400], average_loss:0.0646, validation_loss:0.2263, val_accuracy:0.9221\n",
      "Epoch [385/400], average_loss:0.0727, validation_loss:0.2222, val_accuracy:0.9481\n",
      "Epoch [386/400], average_loss:0.0661, validation_loss:0.2449, val_accuracy:0.9351\n",
      "Epoch [387/400], average_loss:0.0704, validation_loss:0.2223, val_accuracy:0.9351\n",
      "Epoch [388/400], average_loss:0.0635, validation_loss:0.2275, val_accuracy:0.9481\n",
      "Epoch [389/400], average_loss:0.0618, validation_loss:0.2239, val_accuracy:0.9610\n",
      "Epoch [390/400], average_loss:0.0629, validation_loss:0.2274, val_accuracy:0.9351\n",
      "Epoch [391/400], average_loss:0.0776, validation_loss:0.2881, val_accuracy:0.9221\n",
      "Epoch [392/400], average_loss:0.0779, validation_loss:0.2370, val_accuracy:0.9481\n",
      "Epoch [393/400], average_loss:0.0782, validation_loss:0.2227, val_accuracy:0.9221\n",
      "Epoch [394/400], average_loss:0.0698, validation_loss:0.2306, val_accuracy:0.9221\n",
      "Epoch [395/400], average_loss:0.0625, validation_loss:0.2331, val_accuracy:0.9740\n",
      "Epoch [396/400], average_loss:0.0638, validation_loss:0.2288, val_accuracy:0.9610\n",
      "Epoch [397/400], average_loss:0.0624, validation_loss:0.2366, val_accuracy:0.9221\n",
      "Epoch [398/400], average_loss:0.0657, validation_loss:0.2366, val_accuracy:0.9351\n",
      "Epoch [399/400], average_loss:0.0704, validation_loss:0.2507, val_accuracy:0.9610\n",
      "Epoch [400/400], average_loss:0.0719, validation_loss:0.2321, val_accuracy:0.9870\n"
     ]
    }
   ],
   "source": [
    "lh = m2(epochs=range(300,400), train_loader=train_loader, validation_loader=valid_loader)"
   ]
  },
  {
   "cell_type": "code",
   "execution_count": 32,
   "metadata": {},
   "outputs": [],
   "source": [
    "m2.model.eval()\n",
    "with torch.no_grad():\n",
    "    x_pred = np.argmax(m2.model(torch.tensor(X_test).float().to(m2.device)).cpu().detach(), axis=1)"
   ]
  },
  {
   "cell_type": "code",
   "execution_count": 33,
   "metadata": {},
   "outputs": [
    {
     "data": {
      "text/plain": [
       "tensor([1, 1, 1,  ..., 3, 1, 0])"
      ]
     },
     "execution_count": 33,
     "metadata": {},
     "output_type": "execute_result"
    }
   ],
   "source": [
    "x_pred"
   ]
  },
  {
   "cell_type": "code",
   "execution_count": 34,
   "metadata": {},
   "outputs": [
    {
     "data": {
      "text/plain": [
       "0.8842408859338318"
      ]
     },
     "execution_count": 34,
     "metadata": {},
     "output_type": "execute_result"
    }
   ],
   "source": [
    "f1_score(y_true=y_test, y_pred=x_pred,average=\"macro\")"
   ]
  },
  {
   "cell_type": "code",
   "execution_count": 35,
   "metadata": {},
   "outputs": [
    {
     "data": {
      "text/plain": [
       "0.9354684512428298"
      ]
     },
     "execution_count": 35,
     "metadata": {},
     "output_type": "execute_result"
    }
   ],
   "source": [
    "accuracy_score(y_true=y_test, y_pred=x_pred)"
   ]
  },
  {
   "cell_type": "code",
   "execution_count": 36,
   "metadata": {},
   "outputs": [
    {
     "data": {
      "text/plain": [
       "array([[ 3768,   244,    29,   194],\n",
       "       [  162, 10204,    19,    60],\n",
       "       [   24,    18,   407,    30],\n",
       "       [  198,    81,    21,  1277]], dtype=int64)"
      ]
     },
     "execution_count": 36,
     "metadata": {},
     "output_type": "execute_result"
    }
   ],
   "source": [
    "confusion_matrix(y_true=y_test, y_pred=x_pred)"
   ]
  },
  {
   "cell_type": "code",
   "execution_count": 37,
   "metadata": {},
   "outputs": [],
   "source": [
    "#torch.save(m2.model, \"models_and_losses/LSTM-60x1_lr-1e-3_bs-512_epoch-400.pt\")"
   ]
  },
  {
   "cell_type": "code",
   "execution_count": null,
   "metadata": {},
   "outputs": [],
   "source": []
  }
 ],
 "metadata": {
  "kernelspec": {
   "display_name": "Pytorch",
   "language": "python",
   "name": "pytorch"
  },
  "language_info": {
   "codemirror_mode": {
    "name": "ipython",
    "version": 3
   },
   "file_extension": ".py",
   "mimetype": "text/x-python",
   "name": "python",
   "nbconvert_exporter": "python",
   "pygments_lexer": "ipython3",
   "version": "3.7.4"
  }
 },
 "nbformat": 4,
 "nbformat_minor": 2
}
