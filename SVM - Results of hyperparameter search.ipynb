{
 "cells": [
  {
   "cell_type": "code",
   "execution_count": 3,
   "metadata": {},
   "outputs": [],
   "source": [
    "import numpy as np\n",
    "import pandas as pd\n",
    "import matplotlib.pyplot as plt\n",
    "from sklearn.svm import SVC\n",
    "from sklearn.metrics import accuracy_score, f1_score, confusion_matrix\n",
    "import joblib"
   ]
  },
  {
   "cell_type": "markdown",
   "metadata": {},
   "source": [
    "# Hyper param search results"
   ]
  },
  {
   "cell_type": "markdown",
   "metadata": {},
   "source": [
    "## Gradient Boosting"
   ]
  },
  {
   "cell_type": "code",
   "execution_count": 4,
   "metadata": {},
   "outputs": [],
   "source": [
    "dd = pd.read_csv(\"Hyperparam_search/SVM_GS_results.csv\")"
   ]
  },
  {
   "cell_type": "code",
   "execution_count": 5,
   "metadata": {},
   "outputs": [
    {
     "data": {
      "text/html": [
       "<div>\n",
       "<style scoped>\n",
       "    .dataframe tbody tr th:only-of-type {\n",
       "        vertical-align: middle;\n",
       "    }\n",
       "\n",
       "    .dataframe tbody tr th {\n",
       "        vertical-align: top;\n",
       "    }\n",
       "\n",
       "    .dataframe thead th {\n",
       "        text-align: right;\n",
       "    }\n",
       "</style>\n",
       "<table border=\"1\" class=\"dataframe\">\n",
       "  <thead>\n",
       "    <tr style=\"text-align: right;\">\n",
       "      <th></th>\n",
       "      <th>Unnamed: 0</th>\n",
       "      <th>mean_fit_time</th>\n",
       "      <th>std_fit_time</th>\n",
       "      <th>mean_score_time</th>\n",
       "      <th>std_score_time</th>\n",
       "      <th>param_C</th>\n",
       "      <th>param_gamma</th>\n",
       "      <th>param_kernel</th>\n",
       "      <th>params</th>\n",
       "      <th>split0_test_accuracy</th>\n",
       "      <th>...</th>\n",
       "      <th>std_test_accuracy</th>\n",
       "      <th>rank_test_accuracy</th>\n",
       "      <th>split0_test_F1</th>\n",
       "      <th>split1_test_F1</th>\n",
       "      <th>split2_test_F1</th>\n",
       "      <th>split3_test_F1</th>\n",
       "      <th>split4_test_F1</th>\n",
       "      <th>mean_test_F1</th>\n",
       "      <th>std_test_F1</th>\n",
       "      <th>rank_test_F1</th>\n",
       "    </tr>\n",
       "  </thead>\n",
       "  <tbody>\n",
       "    <tr>\n",
       "      <td>7</td>\n",
       "      <td>7</td>\n",
       "      <td>126.222607</td>\n",
       "      <td>1.236996</td>\n",
       "      <td>26.665054</td>\n",
       "      <td>0.145072</td>\n",
       "      <td>10</td>\n",
       "      <td>scale</td>\n",
       "      <td>rbf</td>\n",
       "      <td>{'C': 10, 'gamma': 'scale', 'kernel': 'rbf'}</td>\n",
       "      <td>0.834354</td>\n",
       "      <td>...</td>\n",
       "      <td>0.003933</td>\n",
       "      <td>1</td>\n",
       "      <td>0.786809</td>\n",
       "      <td>0.795040</td>\n",
       "      <td>0.786164</td>\n",
       "      <td>0.797157</td>\n",
       "      <td>0.776030</td>\n",
       "      <td>0.788240</td>\n",
       "      <td>0.007499</td>\n",
       "      <td>1</td>\n",
       "    </tr>\n",
       "    <tr>\n",
       "      <td>3</td>\n",
       "      <td>3</td>\n",
       "      <td>91.794349</td>\n",
       "      <td>1.023251</td>\n",
       "      <td>27.488348</td>\n",
       "      <td>0.026995</td>\n",
       "      <td>1</td>\n",
       "      <td>scale</td>\n",
       "      <td>rbf</td>\n",
       "      <td>{'C': 1, 'gamma': 'scale', 'kernel': 'rbf'}</td>\n",
       "      <td>0.831068</td>\n",
       "      <td>...</td>\n",
       "      <td>0.003721</td>\n",
       "      <td>5</td>\n",
       "      <td>0.785199</td>\n",
       "      <td>0.792571</td>\n",
       "      <td>0.787630</td>\n",
       "      <td>0.795630</td>\n",
       "      <td>0.778996</td>\n",
       "      <td>0.788005</td>\n",
       "      <td>0.005799</td>\n",
       "      <td>2</td>\n",
       "    </tr>\n",
       "    <tr>\n",
       "      <td>0</td>\n",
       "      <td>0</td>\n",
       "      <td>100.721196</td>\n",
       "      <td>1.827760</td>\n",
       "      <td>28.011370</td>\n",
       "      <td>0.149500</td>\n",
       "      <td>1</td>\n",
       "      <td>0.1</td>\n",
       "      <td>rbf</td>\n",
       "      <td>{'C': 1, 'gamma': 0.1, 'kernel': 'rbf'}</td>\n",
       "      <td>0.833981</td>\n",
       "      <td>...</td>\n",
       "      <td>0.003891</td>\n",
       "      <td>3</td>\n",
       "      <td>0.786222</td>\n",
       "      <td>0.793233</td>\n",
       "      <td>0.784677</td>\n",
       "      <td>0.790927</td>\n",
       "      <td>0.773849</td>\n",
       "      <td>0.785782</td>\n",
       "      <td>0.006720</td>\n",
       "      <td>3</td>\n",
       "    </tr>\n",
       "    <tr>\n",
       "      <td>4</td>\n",
       "      <td>4</td>\n",
       "      <td>146.870323</td>\n",
       "      <td>2.050380</td>\n",
       "      <td>26.789975</td>\n",
       "      <td>0.469019</td>\n",
       "      <td>10</td>\n",
       "      <td>0.1</td>\n",
       "      <td>rbf</td>\n",
       "      <td>{'C': 10, 'gamma': 0.1, 'kernel': 'rbf'}</td>\n",
       "      <td>0.834354</td>\n",
       "      <td>...</td>\n",
       "      <td>0.003303</td>\n",
       "      <td>2</td>\n",
       "      <td>0.784750</td>\n",
       "      <td>0.785752</td>\n",
       "      <td>0.781722</td>\n",
       "      <td>0.789547</td>\n",
       "      <td>0.773095</td>\n",
       "      <td>0.782974</td>\n",
       "      <td>0.005536</td>\n",
       "      <td>4</td>\n",
       "    </tr>\n",
       "    <tr>\n",
       "      <td>11</td>\n",
       "      <td>11</td>\n",
       "      <td>178.989075</td>\n",
       "      <td>2.780193</td>\n",
       "      <td>25.920260</td>\n",
       "      <td>0.437622</td>\n",
       "      <td>25</td>\n",
       "      <td>scale</td>\n",
       "      <td>rbf</td>\n",
       "      <td>{'C': 25, 'gamma': 'scale', 'kernel': 'rbf'}</td>\n",
       "      <td>0.832188</td>\n",
       "      <td>...</td>\n",
       "      <td>0.003310</td>\n",
       "      <td>4</td>\n",
       "      <td>0.781156</td>\n",
       "      <td>0.783828</td>\n",
       "      <td>0.782027</td>\n",
       "      <td>0.788809</td>\n",
       "      <td>0.772894</td>\n",
       "      <td>0.781743</td>\n",
       "      <td>0.005157</td>\n",
       "      <td>5</td>\n",
       "    </tr>\n",
       "  </tbody>\n",
       "</table>\n",
       "<p>5 rows × 25 columns</p>\n",
       "</div>"
      ],
      "text/plain": [
       "    Unnamed: 0  mean_fit_time  std_fit_time  mean_score_time  std_score_time  \\\n",
       "7            7     126.222607      1.236996        26.665054        0.145072   \n",
       "3            3      91.794349      1.023251        27.488348        0.026995   \n",
       "0            0     100.721196      1.827760        28.011370        0.149500   \n",
       "4            4     146.870323      2.050380        26.789975        0.469019   \n",
       "11          11     178.989075      2.780193        25.920260        0.437622   \n",
       "\n",
       "    param_C param_gamma param_kernel  \\\n",
       "7        10       scale          rbf   \n",
       "3         1       scale          rbf   \n",
       "0         1         0.1          rbf   \n",
       "4        10         0.1          rbf   \n",
       "11       25       scale          rbf   \n",
       "\n",
       "                                          params  split0_test_accuracy  ...  \\\n",
       "7   {'C': 10, 'gamma': 'scale', 'kernel': 'rbf'}              0.834354  ...   \n",
       "3    {'C': 1, 'gamma': 'scale', 'kernel': 'rbf'}              0.831068  ...   \n",
       "0        {'C': 1, 'gamma': 0.1, 'kernel': 'rbf'}              0.833981  ...   \n",
       "4       {'C': 10, 'gamma': 0.1, 'kernel': 'rbf'}              0.834354  ...   \n",
       "11  {'C': 25, 'gamma': 'scale', 'kernel': 'rbf'}              0.832188  ...   \n",
       "\n",
       "    std_test_accuracy  rank_test_accuracy  split0_test_F1  split1_test_F1  \\\n",
       "7            0.003933                   1        0.786809        0.795040   \n",
       "3            0.003721                   5        0.785199        0.792571   \n",
       "0            0.003891                   3        0.786222        0.793233   \n",
       "4            0.003303                   2        0.784750        0.785752   \n",
       "11           0.003310                   4        0.781156        0.783828   \n",
       "\n",
       "    split2_test_F1  split3_test_F1  split4_test_F1  mean_test_F1  std_test_F1  \\\n",
       "7         0.786164        0.797157        0.776030      0.788240     0.007499   \n",
       "3         0.787630        0.795630        0.778996      0.788005     0.005799   \n",
       "0         0.784677        0.790927        0.773849      0.785782     0.006720   \n",
       "4         0.781722        0.789547        0.773095      0.782974     0.005536   \n",
       "11        0.782027        0.788809        0.772894      0.781743     0.005157   \n",
       "\n",
       "    rank_test_F1  \n",
       "7              1  \n",
       "3              2  \n",
       "0              3  \n",
       "4              4  \n",
       "11             5  \n",
       "\n",
       "[5 rows x 25 columns]"
      ]
     },
     "execution_count": 5,
     "metadata": {},
     "output_type": "execute_result"
    }
   ],
   "source": [
    "dd.sort_values(by=[\"mean_test_F1\"], ascending=False).head()"
   ]
  },
  {
   "cell_type": "code",
   "execution_count": 6,
   "metadata": {},
   "outputs": [
    {
     "data": {
      "text/plain": [
       "array([  1,  10,  25,  50,  75, 100])"
      ]
     },
     "execution_count": 6,
     "metadata": {},
     "output_type": "execute_result"
    }
   ],
   "source": [
    "np.unique(dd[\"param_C\"].values)"
   ]
  },
  {
   "cell_type": "code",
   "execution_count": 7,
   "metadata": {},
   "outputs": [
    {
     "data": {
      "text/plain": [
       "array(['0.001', '0.01', '0.1', 'scale'], dtype=object)"
      ]
     },
     "execution_count": 7,
     "metadata": {},
     "output_type": "execute_result"
    }
   ],
   "source": [
    "np.unique(dd[\"param_gamma\"].values)"
   ]
  },
  {
   "cell_type": "code",
   "execution_count": 62,
   "metadata": {},
   "outputs": [],
   "source": [
    "pgamma = np.array([0.001, 0.01, 0.07, 0.1])"
   ]
  },
  {
   "cell_type": "code",
   "execution_count": 63,
   "metadata": {},
   "outputs": [],
   "source": [
    "C, G = np.meshgrid(np.unique(dd[\"param_C\"].values), pgamma)"
   ]
  },
  {
   "cell_type": "code",
   "execution_count": 64,
   "metadata": {},
   "outputs": [
    {
     "data": {
      "text/plain": [
       "array([[  1,  10,  25,  50,  75, 100],\n",
       "       [  1,  10,  25,  50,  75, 100],\n",
       "       [  1,  10,  25,  50,  75, 100],\n",
       "       [  1,  10,  25,  50,  75, 100]])"
      ]
     },
     "execution_count": 64,
     "metadata": {},
     "output_type": "execute_result"
    }
   ],
   "source": [
    "C"
   ]
  },
  {
   "cell_type": "code",
   "execution_count": 65,
   "metadata": {},
   "outputs": [
    {
     "data": {
      "text/plain": [
       "array([[0.001, 0.001, 0.001, 0.001, 0.001, 0.001],\n",
       "       [0.01 , 0.01 , 0.01 , 0.01 , 0.01 , 0.01 ],\n",
       "       [0.07 , 0.07 , 0.07 , 0.07 , 0.07 , 0.07 ],\n",
       "       [0.1  , 0.1  , 0.1  , 0.1  , 0.1  , 0.1  ]])"
      ]
     },
     "execution_count": 65,
     "metadata": {},
     "output_type": "execute_result"
    }
   ],
   "source": [
    "G"
   ]
  },
  {
   "cell_type": "code",
   "execution_count": 66,
   "metadata": {},
   "outputs": [],
   "source": [
    "grid = lambda df,lr,ne: df[df[\"param_C\"]==lr][df[\"param_gamma\"]==ne][\"mean_test_F1\"].values[0]"
   ]
  },
  {
   "cell_type": "code",
   "execution_count": 68,
   "metadata": {},
   "outputs": [
    {
     "name": "stderr",
     "output_type": "stream",
     "text": [
      "/Users/Ghosty/.local/lib/python3.7/site-packages/ipykernel_launcher.py:1: UserWarning: Boolean Series key will be reindexed to match DataFrame index.\n",
      "  \"\"\"Entry point for launching an IPython kernel.\n"
     ]
    }
   ],
   "source": [
    "Y_1 = [grid(dd,n,'0.001') for n in np.unique(dd[\"param_C\"].values)]\n",
    "Y_3 = [grid(dd,n,\"scale\") for n in np.unique(dd[\"param_C\"].values)]\n",
    "Y_2 = [grid(dd,n,'0.01') for n in np.unique(dd[\"param_C\"].values)]\n",
    "Y_4 = [grid(dd,n,'0.1') for n in np.unique(dd[\"param_C\"].values)]"
   ]
  },
  {
   "cell_type": "code",
   "execution_count": 69,
   "metadata": {},
   "outputs": [],
   "source": [
    "Z = np.vstack((Y_1, Y_2,Y_3,Y_4))"
   ]
  },
  {
   "cell_type": "code",
   "execution_count": 70,
   "metadata": {},
   "outputs": [
    {
     "data": {
      "image/png": "[encoded data removed]",
      "text/plain": [
       "<Figure size 720x504 with 2 Axes>"
      ]
     },
     "metadata": {
      "needs_background": "light"
     },
     "output_type": "display_data"
    }
   ],
   "source": [
    "plt.figure(figsize=(10,7))\n",
    "plt.contourf(C, G, Z, 20, cmap='RdGy')\n",
    "plt.colorbar()\n",
    "plt.show()"
   ]
  },
  {
   "cell_type": "code",
   "execution_count": 27,
   "metadata": {},
   "outputs": [],
   "source": [
    "dc = pd.read_csv(\"Hyperparam_search/SVM_GS_CVAE_elu_results.csv\")"
   ]
  },
  {
   "cell_type": "code",
   "execution_count": 28,
   "metadata": {},
   "outputs": [
    {
     "data": {
      "text/html": [
       "<div>\n",
       "<style scoped>\n",
       "    .dataframe tbody tr th:only-of-type {\n",
       "        vertical-align: middle;\n",
       "    }\n",
       "\n",
       "    .dataframe tbody tr th {\n",
       "        vertical-align: top;\n",
       "    }\n",
       "\n",
       "    .dataframe thead th {\n",
       "        text-align: right;\n",
       "    }\n",
       "</style>\n",
       "<table border=\"1\" class=\"dataframe\">\n",
       "  <thead>\n",
       "    <tr style=\"text-align: right;\">\n",
       "      <th></th>\n",
       "      <th>Unnamed: 0</th>\n",
       "      <th>mean_fit_time</th>\n",
       "      <th>std_fit_time</th>\n",
       "      <th>mean_score_time</th>\n",
       "      <th>std_score_time</th>\n",
       "      <th>param_C</th>\n",
       "      <th>param_gamma</th>\n",
       "      <th>param_kernel</th>\n",
       "      <th>params</th>\n",
       "      <th>split0_test_accuracy</th>\n",
       "      <th>...</th>\n",
       "      <th>std_test_accuracy</th>\n",
       "      <th>rank_test_accuracy</th>\n",
       "      <th>split0_test_F1</th>\n",
       "      <th>split1_test_F1</th>\n",
       "      <th>split2_test_F1</th>\n",
       "      <th>split3_test_F1</th>\n",
       "      <th>split4_test_F1</th>\n",
       "      <th>mean_test_F1</th>\n",
       "      <th>std_test_F1</th>\n",
       "      <th>rank_test_F1</th>\n",
       "    </tr>\n",
       "  </thead>\n",
       "  <tbody>\n",
       "    <tr>\n",
       "      <td>0</td>\n",
       "      <td>0</td>\n",
       "      <td>97.680438</td>\n",
       "      <td>5.791368</td>\n",
       "      <td>28.705295</td>\n",
       "      <td>2.223985</td>\n",
       "      <td>1</td>\n",
       "      <td>0.1</td>\n",
       "      <td>rbf</td>\n",
       "      <td>{'C': 1, 'gamma': 0.1, 'kernel': 'rbf'}</td>\n",
       "      <td>0.838237</td>\n",
       "      <td>...</td>\n",
       "      <td>0.004028</td>\n",
       "      <td>3</td>\n",
       "      <td>0.789364</td>\n",
       "      <td>0.802397</td>\n",
       "      <td>0.791160</td>\n",
       "      <td>0.802246</td>\n",
       "      <td>0.783477</td>\n",
       "      <td>0.793729</td>\n",
       "      <td>0.007462</td>\n",
       "      <td>1</td>\n",
       "    </tr>\n",
       "    <tr>\n",
       "      <td>3</td>\n",
       "      <td>3</td>\n",
       "      <td>85.976293</td>\n",
       "      <td>3.115731</td>\n",
       "      <td>26.638293</td>\n",
       "      <td>0.225740</td>\n",
       "      <td>1</td>\n",
       "      <td>scale</td>\n",
       "      <td>rbf</td>\n",
       "      <td>{'C': 1, 'gamma': 'scale', 'kernel': 'rbf'}</td>\n",
       "      <td>0.835474</td>\n",
       "      <td>...</td>\n",
       "      <td>0.003538</td>\n",
       "      <td>5</td>\n",
       "      <td>0.787857</td>\n",
       "      <td>0.800408</td>\n",
       "      <td>0.794434</td>\n",
       "      <td>0.799481</td>\n",
       "      <td>0.782970</td>\n",
       "      <td>0.793031</td>\n",
       "      <td>0.006723</td>\n",
       "      <td>2</td>\n",
       "    </tr>\n",
       "    <tr>\n",
       "      <td>7</td>\n",
       "      <td>7</td>\n",
       "      <td>128.012036</td>\n",
       "      <td>6.040978</td>\n",
       "      <td>26.609327</td>\n",
       "      <td>1.146093</td>\n",
       "      <td>10</td>\n",
       "      <td>scale</td>\n",
       "      <td>rbf</td>\n",
       "      <td>{'C': 10, 'gamma': 'scale', 'kernel': 'rbf'}</td>\n",
       "      <td>0.840179</td>\n",
       "      <td>...</td>\n",
       "      <td>0.003922</td>\n",
       "      <td>1</td>\n",
       "      <td>0.794062</td>\n",
       "      <td>0.797575</td>\n",
       "      <td>0.794132</td>\n",
       "      <td>0.794100</td>\n",
       "      <td>0.779205</td>\n",
       "      <td>0.791815</td>\n",
       "      <td>0.006447</td>\n",
       "      <td>3</td>\n",
       "    </tr>\n",
       "    <tr>\n",
       "      <td>4</td>\n",
       "      <td>4</td>\n",
       "      <td>159.802753</td>\n",
       "      <td>8.510879</td>\n",
       "      <td>26.762137</td>\n",
       "      <td>0.839174</td>\n",
       "      <td>10</td>\n",
       "      <td>0.1</td>\n",
       "      <td>rbf</td>\n",
       "      <td>{'C': 10, 'gamma': 0.1, 'kernel': 'rbf'}</td>\n",
       "      <td>0.838536</td>\n",
       "      <td>...</td>\n",
       "      <td>0.004212</td>\n",
       "      <td>2</td>\n",
       "      <td>0.786326</td>\n",
       "      <td>0.795740</td>\n",
       "      <td>0.789696</td>\n",
       "      <td>0.793142</td>\n",
       "      <td>0.778711</td>\n",
       "      <td>0.788724</td>\n",
       "      <td>0.005928</td>\n",
       "      <td>4</td>\n",
       "    </tr>\n",
       "    <tr>\n",
       "      <td>11</td>\n",
       "      <td>11</td>\n",
       "      <td>170.444028</td>\n",
       "      <td>4.143445</td>\n",
       "      <td>25.406041</td>\n",
       "      <td>0.597963</td>\n",
       "      <td>25</td>\n",
       "      <td>scale</td>\n",
       "      <td>rbf</td>\n",
       "      <td>{'C': 25, 'gamma': 'scale', 'kernel': 'rbf'}</td>\n",
       "      <td>0.836968</td>\n",
       "      <td>...</td>\n",
       "      <td>0.004475</td>\n",
       "      <td>6</td>\n",
       "      <td>0.784907</td>\n",
       "      <td>0.792570</td>\n",
       "      <td>0.785336</td>\n",
       "      <td>0.789972</td>\n",
       "      <td>0.773142</td>\n",
       "      <td>0.785186</td>\n",
       "      <td>0.006672</td>\n",
       "      <td>5</td>\n",
       "    </tr>\n",
       "  </tbody>\n",
       "</table>\n",
       "<p>5 rows × 25 columns</p>\n",
       "</div>"
      ],
      "text/plain": [
       "    Unnamed: 0  mean_fit_time  std_fit_time  mean_score_time  std_score_time  \\\n",
       "0            0      97.680438      5.791368        28.705295        2.223985   \n",
       "3            3      85.976293      3.115731        26.638293        0.225740   \n",
       "7            7     128.012036      6.040978        26.609327        1.146093   \n",
       "4            4     159.802753      8.510879        26.762137        0.839174   \n",
       "11          11     170.444028      4.143445        25.406041        0.597963   \n",
       "\n",
       "    param_C param_gamma param_kernel  \\\n",
       "0         1         0.1          rbf   \n",
       "3         1       scale          rbf   \n",
       "7        10       scale          rbf   \n",
       "4        10         0.1          rbf   \n",
       "11       25       scale          rbf   \n",
       "\n",
       "                                          params  split0_test_accuracy  ...  \\\n",
       "0        {'C': 1, 'gamma': 0.1, 'kernel': 'rbf'}              0.838237  ...   \n",
       "3    {'C': 1, 'gamma': 'scale', 'kernel': 'rbf'}              0.835474  ...   \n",
       "7   {'C': 10, 'gamma': 'scale', 'kernel': 'rbf'}              0.840179  ...   \n",
       "4       {'C': 10, 'gamma': 0.1, 'kernel': 'rbf'}              0.838536  ...   \n",
       "11  {'C': 25, 'gamma': 'scale', 'kernel': 'rbf'}              0.836968  ...   \n",
       "\n",
       "    std_test_accuracy  rank_test_accuracy  split0_test_F1  split1_test_F1  \\\n",
       "0            0.004028                   3        0.789364        0.802397   \n",
       "3            0.003538                   5        0.787857        0.800408   \n",
       "7            0.003922                   1        0.794062        0.797575   \n",
       "4            0.004212                   2        0.786326        0.795740   \n",
       "11           0.004475                   6        0.784907        0.792570   \n",
       "\n",
       "    split2_test_F1  split3_test_F1  split4_test_F1  mean_test_F1  std_test_F1  \\\n",
       "0         0.791160        0.802246        0.783477      0.793729     0.007462   \n",
       "3         0.794434        0.799481        0.782970      0.793031     0.006723   \n",
       "7         0.794132        0.794100        0.779205      0.791815     0.006447   \n",
       "4         0.789696        0.793142        0.778711      0.788724     0.005928   \n",
       "11        0.785336        0.789972        0.773142      0.785186     0.006672   \n",
       "\n",
       "    rank_test_F1  \n",
       "0              1  \n",
       "3              2  \n",
       "7              3  \n",
       "4              4  \n",
       "11             5  \n",
       "\n",
       "[5 rows x 25 columns]"
      ]
     },
     "execution_count": 28,
     "metadata": {},
     "output_type": "execute_result"
    }
   ],
   "source": [
    "dc.sort_values(by=[\"mean_test_F1\"], ascending=False).head()"
   ]
  },
  {
   "cell_type": "code",
   "execution_count": 71,
   "metadata": {},
   "outputs": [
    {
     "name": "stderr",
     "output_type": "stream",
     "text": [
      "/Users/Ghosty/.local/lib/python3.7/site-packages/ipykernel_launcher.py:1: UserWarning: Boolean Series key will be reindexed to match DataFrame index.\n",
      "  \"\"\"Entry point for launching an IPython kernel.\n"
     ]
    }
   ],
   "source": [
    "Y_1 = [grid(dc,n,'0.001') for n in np.unique(dd[\"param_C\"].values)]\n",
    "Y_3 = [grid(dc,n,\"scale\") for n in np.unique(dd[\"param_C\"].values)]\n",
    "Y_2 = [grid(dc,n,'0.01') for n in np.unique(dd[\"param_C\"].values)]\n",
    "Y_4 = [grid(dc,n,'0.1') for n in np.unique(dd[\"param_C\"].values)]\n",
    "Z1 = np.vstack((Y_1, Y_2, Y_3, Y_4))"
   ]
  },
  {
   "cell_type": "code",
   "execution_count": 72,
   "metadata": {},
   "outputs": [
    {
     "data": {
      "image/png": "[encoded data removed]",
      "text/plain": [
       "<Figure size 720x504 with 2 Axes>"
      ]
     },
     "metadata": {
      "needs_background": "light"
     },
     "output_type": "display_data"
    }
   ],
   "source": [
    "plt.figure(figsize=(10,7))\n",
    "plt.contourf(C, G, Z1, 20, cmap='RdGy')\n",
    "plt.colorbar()\n",
    "plt.show()"
   ]
  },
  {
   "cell_type": "code",
   "execution_count": 36,
   "metadata": {},
   "outputs": [],
   "source": [
    "dr = pd.read_csv(\"Hyperparam_search/SVM_GS_LSTM_results.csv\")"
   ]
  },
  {
   "cell_type": "code",
   "execution_count": 37,
   "metadata": {},
   "outputs": [
    {
     "data": {
      "text/html": [
       "<div>\n",
       "<style scoped>\n",
       "    .dataframe tbody tr th:only-of-type {\n",
       "        vertical-align: middle;\n",
       "    }\n",
       "\n",
       "    .dataframe tbody tr th {\n",
       "        vertical-align: top;\n",
       "    }\n",
       "\n",
       "    .dataframe thead th {\n",
       "        text-align: right;\n",
       "    }\n",
       "</style>\n",
       "<table border=\"1\" class=\"dataframe\">\n",
       "  <thead>\n",
       "    <tr style=\"text-align: right;\">\n",
       "      <th></th>\n",
       "      <th>Unnamed: 0</th>\n",
       "      <th>mean_fit_time</th>\n",
       "      <th>std_fit_time</th>\n",
       "      <th>mean_score_time</th>\n",
       "      <th>std_score_time</th>\n",
       "      <th>param_C</th>\n",
       "      <th>param_gamma</th>\n",
       "      <th>param_kernel</th>\n",
       "      <th>params</th>\n",
       "      <th>split0_test_accuracy</th>\n",
       "      <th>...</th>\n",
       "      <th>std_test_accuracy</th>\n",
       "      <th>rank_test_accuracy</th>\n",
       "      <th>split0_test_F1</th>\n",
       "      <th>split1_test_F1</th>\n",
       "      <th>split2_test_F1</th>\n",
       "      <th>split3_test_F1</th>\n",
       "      <th>split4_test_F1</th>\n",
       "      <th>mean_test_F1</th>\n",
       "      <th>std_test_F1</th>\n",
       "      <th>rank_test_F1</th>\n",
       "    </tr>\n",
       "  </thead>\n",
       "  <tbody>\n",
       "    <tr>\n",
       "      <td>23</td>\n",
       "      <td>23</td>\n",
       "      <td>136.975841</td>\n",
       "      <td>2.200803</td>\n",
       "      <td>22.996254</td>\n",
       "      <td>0.472610</td>\n",
       "      <td>100</td>\n",
       "      <td>scale</td>\n",
       "      <td>rbf</td>\n",
       "      <td>{'C': 100, 'gamma': 'scale', 'kernel': 'rbf'}</td>\n",
       "      <td>0.830246</td>\n",
       "      <td>...</td>\n",
       "      <td>0.003774</td>\n",
       "      <td>1</td>\n",
       "      <td>0.788064</td>\n",
       "      <td>0.799798</td>\n",
       "      <td>0.791047</td>\n",
       "      <td>0.793089</td>\n",
       "      <td>0.775469</td>\n",
       "      <td>0.789494</td>\n",
       "      <td>0.008003</td>\n",
       "      <td>1</td>\n",
       "    </tr>\n",
       "    <tr>\n",
       "      <td>19</td>\n",
       "      <td>19</td>\n",
       "      <td>120.700509</td>\n",
       "      <td>1.970945</td>\n",
       "      <td>22.701440</td>\n",
       "      <td>0.465616</td>\n",
       "      <td>75</td>\n",
       "      <td>scale</td>\n",
       "      <td>rbf</td>\n",
       "      <td>{'C': 75, 'gamma': 'scale', 'kernel': 'rbf'}</td>\n",
       "      <td>0.829500</td>\n",
       "      <td>...</td>\n",
       "      <td>0.003748</td>\n",
       "      <td>2</td>\n",
       "      <td>0.786916</td>\n",
       "      <td>0.798719</td>\n",
       "      <td>0.788953</td>\n",
       "      <td>0.792964</td>\n",
       "      <td>0.775946</td>\n",
       "      <td>0.788700</td>\n",
       "      <td>0.007543</td>\n",
       "      <td>2</td>\n",
       "    </tr>\n",
       "    <tr>\n",
       "      <td>15</td>\n",
       "      <td>15</td>\n",
       "      <td>104.998210</td>\n",
       "      <td>1.040820</td>\n",
       "      <td>23.312394</td>\n",
       "      <td>0.183782</td>\n",
       "      <td>50</td>\n",
       "      <td>scale</td>\n",
       "      <td>rbf</td>\n",
       "      <td>{'C': 50, 'gamma': 'scale', 'kernel': 'rbf'}</td>\n",
       "      <td>0.828305</td>\n",
       "      <td>...</td>\n",
       "      <td>0.003650</td>\n",
       "      <td>3</td>\n",
       "      <td>0.785875</td>\n",
       "      <td>0.797594</td>\n",
       "      <td>0.788175</td>\n",
       "      <td>0.793475</td>\n",
       "      <td>0.775783</td>\n",
       "      <td>0.788181</td>\n",
       "      <td>0.007425</td>\n",
       "      <td>3</td>\n",
       "    </tr>\n",
       "    <tr>\n",
       "      <td>11</td>\n",
       "      <td>11</td>\n",
       "      <td>88.963005</td>\n",
       "      <td>1.429340</td>\n",
       "      <td>23.226407</td>\n",
       "      <td>0.503023</td>\n",
       "      <td>25</td>\n",
       "      <td>scale</td>\n",
       "      <td>rbf</td>\n",
       "      <td>{'C': 25, 'gamma': 'scale', 'kernel': 'rbf'}</td>\n",
       "      <td>0.827035</td>\n",
       "      <td>...</td>\n",
       "      <td>0.003642</td>\n",
       "      <td>4</td>\n",
       "      <td>0.785165</td>\n",
       "      <td>0.797199</td>\n",
       "      <td>0.786614</td>\n",
       "      <td>0.794482</td>\n",
       "      <td>0.774684</td>\n",
       "      <td>0.787629</td>\n",
       "      <td>0.007915</td>\n",
       "      <td>4</td>\n",
       "    </tr>\n",
       "    <tr>\n",
       "      <td>7</td>\n",
       "      <td>7</td>\n",
       "      <td>79.162946</td>\n",
       "      <td>1.840006</td>\n",
       "      <td>23.967950</td>\n",
       "      <td>0.154458</td>\n",
       "      <td>10</td>\n",
       "      <td>scale</td>\n",
       "      <td>rbf</td>\n",
       "      <td>{'C': 10, 'gamma': 'scale', 'kernel': 'rbf'}</td>\n",
       "      <td>0.825840</td>\n",
       "      <td>...</td>\n",
       "      <td>0.003745</td>\n",
       "      <td>5</td>\n",
       "      <td>0.782990</td>\n",
       "      <td>0.795335</td>\n",
       "      <td>0.785045</td>\n",
       "      <td>0.793050</td>\n",
       "      <td>0.772895</td>\n",
       "      <td>0.785864</td>\n",
       "      <td>0.007980</td>\n",
       "      <td>5</td>\n",
       "    </tr>\n",
       "  </tbody>\n",
       "</table>\n",
       "<p>5 rows × 25 columns</p>\n",
       "</div>"
      ],
      "text/plain": [
       "    Unnamed: 0  mean_fit_time  std_fit_time  mean_score_time  std_score_time  \\\n",
       "23          23     136.975841      2.200803        22.996254        0.472610   \n",
       "19          19     120.700509      1.970945        22.701440        0.465616   \n",
       "15          15     104.998210      1.040820        23.312394        0.183782   \n",
       "11          11      88.963005      1.429340        23.226407        0.503023   \n",
       "7            7      79.162946      1.840006        23.967950        0.154458   \n",
       "\n",
       "    param_C param_gamma param_kernel  \\\n",
       "23      100       scale          rbf   \n",
       "19       75       scale          rbf   \n",
       "15       50       scale          rbf   \n",
       "11       25       scale          rbf   \n",
       "7        10       scale          rbf   \n",
       "\n",
       "                                           params  split0_test_accuracy  ...  \\\n",
       "23  {'C': 100, 'gamma': 'scale', 'kernel': 'rbf'}              0.830246  ...   \n",
       "19   {'C': 75, 'gamma': 'scale', 'kernel': 'rbf'}              0.829500  ...   \n",
       "15   {'C': 50, 'gamma': 'scale', 'kernel': 'rbf'}              0.828305  ...   \n",
       "11   {'C': 25, 'gamma': 'scale', 'kernel': 'rbf'}              0.827035  ...   \n",
       "7    {'C': 10, 'gamma': 'scale', 'kernel': 'rbf'}              0.825840  ...   \n",
       "\n",
       "    std_test_accuracy  rank_test_accuracy  split0_test_F1  split1_test_F1  \\\n",
       "23           0.003774                   1        0.788064        0.799798   \n",
       "19           0.003748                   2        0.786916        0.798719   \n",
       "15           0.003650                   3        0.785875        0.797594   \n",
       "11           0.003642                   4        0.785165        0.797199   \n",
       "7            0.003745                   5        0.782990        0.795335   \n",
       "\n",
       "    split2_test_F1  split3_test_F1  split4_test_F1  mean_test_F1  std_test_F1  \\\n",
       "23        0.791047        0.793089        0.775469      0.789494     0.008003   \n",
       "19        0.788953        0.792964        0.775946      0.788700     0.007543   \n",
       "15        0.788175        0.793475        0.775783      0.788181     0.007425   \n",
       "11        0.786614        0.794482        0.774684      0.787629     0.007915   \n",
       "7         0.785045        0.793050        0.772895      0.785864     0.007980   \n",
       "\n",
       "    rank_test_F1  \n",
       "23             1  \n",
       "19             2  \n",
       "15             3  \n",
       "11             4  \n",
       "7              5  \n",
       "\n",
       "[5 rows x 25 columns]"
      ]
     },
     "execution_count": 37,
     "metadata": {},
     "output_type": "execute_result"
    }
   ],
   "source": [
    "dr.sort_values(by=[\"mean_test_F1\"], ascending=False).head()"
   ]
  },
  {
   "cell_type": "code",
   "execution_count": 74,
   "metadata": {},
   "outputs": [
    {
     "name": "stderr",
     "output_type": "stream",
     "text": [
      "/Users/Ghosty/.local/lib/python3.7/site-packages/ipykernel_launcher.py:1: UserWarning: Boolean Series key will be reindexed to match DataFrame index.\n",
      "  \"\"\"Entry point for launching an IPython kernel.\n"
     ]
    }
   ],
   "source": [
    "Y_1 = [grid(dr,n,'0.001') for n in np.unique(dd[\"param_C\"].values)]\n",
    "Y_4 = [grid(dr,n,\"scale\") for n in np.unique(dd[\"param_C\"].values)]\n",
    "Y_2 = [grid(dr,n,'0.01') for n in np.unique(dd[\"param_C\"].values)]\n",
    "Y_3 = [grid(dr,n,'0.1') for n in np.unique(dd[\"param_C\"].values)]\n",
    "Z2 = np.vstack((Y_1, Y_2, Y_3, Y_4))"
   ]
  },
  {
   "cell_type": "code",
   "execution_count": 75,
   "metadata": {},
   "outputs": [],
   "source": [
    "pgamma = np.array([0.001, 0.01, 0.1, 0.27] )\n",
    "\n",
    "C, G = np.meshgrid(np.unique(dd[\"param_C\"].values), pgamma)"
   ]
  },
  {
   "cell_type": "code",
   "execution_count": 76,
   "metadata": {},
   "outputs": [
    {
     "data": {
      "image/png": "[encoded data removed]",
      "text/plain": [
       "<Figure size 720x504 with 2 Axes>"
      ]
     },
     "metadata": {
      "needs_background": "light"
     },
     "output_type": "display_data"
    }
   ],
   "source": [
    "plt.figure(figsize=(10,7))\n",
    "plt.contourf(C, G, Z2, 20, cmap='RdGy')\n",
    "plt.colorbar()\n",
    "plt.show()"
   ]
  },
  {
   "cell_type": "code",
   "execution_count": 10,
   "metadata": {},
   "outputs": [
    {
     "data": {
      "text/plain": [
       "0.07008767133336684"
      ]
     },
     "execution_count": 10,
     "metadata": {},
     "output_type": "execute_result"
    }
   ],
   "source": [
    "1/(np.var(X_train)*X_train.shape[1])"
   ]
  },
  {
   "cell_type": "markdown",
   "metadata": {},
   "source": [
    "# Best params \n",
    "## DeepDense VAE"
   ]
  },
  {
   "cell_type": "code",
   "execution_count": 41,
   "metadata": {},
   "outputs": [],
   "source": [
    "X_train = np.load(\"data/encoded_data_train_DeepDenseVAE_mark_V_[160-256-128-15]_VDO_GNLL_400ep_lr-1e-4.npy\")\n",
    "y_train = np.load(\"data/labels_train.npy\")\n",
    "X_test = np.load(\"data/encoded_data_test_DeepDenseVAE_mark_V_[160-256-128-15]_VDO_GNLL_400ep_lr-1e-4.npy\")\n",
    "y_test = np.load(\"data/labels_test.npy\")"
   ]
  },
  {
   "cell_type": "code",
   "execution_count": 42,
   "metadata": {},
   "outputs": [],
   "source": [
    "dd_clf = SVC(kernel=\"rbf\", C=10, gamma=\"scale\")"
   ]
  },
  {
   "cell_type": "code",
   "execution_count": 43,
   "metadata": {},
   "outputs": [
    {
     "data": {
      "text/plain": [
       "SVC(C=10, cache_size=200, class_weight=None, coef0=0.0,\n",
       "    decision_function_shape='ovr', degree=3, gamma='scale', kernel='rbf',\n",
       "    max_iter=-1, probability=False, random_state=None, shrinking=True,\n",
       "    tol=0.001, verbose=False)"
      ]
     },
     "execution_count": 43,
     "metadata": {},
     "output_type": "execute_result"
    }
   ],
   "source": [
    "dd_clf.fit(X_train, y_train)"
   ]
  },
  {
   "cell_type": "code",
   "execution_count": 50,
   "metadata": {},
   "outputs": [
    {
     "data": {
      "text/plain": [
       "['models_and_losses/SVM_DeepDenseVAE{kerner=rbf,C=10,gamma=scale=0.07}.joblib']"
      ]
     },
     "execution_count": 50,
     "metadata": {},
     "output_type": "execute_result"
    }
   ],
   "source": [
    "#joblib.dump(dd_clf, \"models_and_losses/SVM_DeepDenseVAE{kerner=rbf,C=10,gamma=scale=0.07}.joblib\")"
   ]
  },
  {
   "cell_type": "code",
   "execution_count": 46,
   "metadata": {},
   "outputs": [],
   "source": [
    "y_pred_dd = dd_clf.predict(X_test)"
   ]
  },
  {
   "cell_type": "code",
   "execution_count": 47,
   "metadata": {},
   "outputs": [
    {
     "data": {
      "text/plain": [
       "0.8029322574632699"
      ]
     },
     "execution_count": 47,
     "metadata": {},
     "output_type": "execute_result"
    }
   ],
   "source": [
    "f1_score(y_true=y_test, y_pred = y_pred_dd, average=\"macro\")"
   ]
  },
  {
   "cell_type": "code",
   "execution_count": 48,
   "metadata": {},
   "outputs": [
    {
     "data": {
      "text/plain": [
       "0.8417184512428298"
      ]
     },
     "execution_count": 48,
     "metadata": {},
     "output_type": "execute_result"
    }
   ],
   "source": [
    "accuracy_score(y_true=y_test, y_pred = y_pred_dd)"
   ]
  },
  {
   "cell_type": "code",
   "execution_count": 49,
   "metadata": {},
   "outputs": [
    {
     "data": {
      "text/plain": [
       "array([[2567, 1520,   27,  121],\n",
       "       [ 341, 9948,   33,  123],\n",
       "       [  27,   35,  397,   20],\n",
       "       [ 222,  169,   11, 1175]])"
      ]
     },
     "execution_count": 49,
     "metadata": {},
     "output_type": "execute_result"
    }
   ],
   "source": [
    "confusion_matrix(y_true=y_test, y_pred = y_pred_dd)"
   ]
  },
  {
   "cell_type": "markdown",
   "metadata": {},
   "source": [
    "## CNN-VAE"
   ]
  },
  {
   "cell_type": "code",
   "execution_count": 51,
   "metadata": {},
   "outputs": [],
   "source": [
    "X_train = np.load(\"data/encoded_data_train_DeepConvVAE_ELU_NLL_250ep_lr-{1e-3, 1e-4}_bs-300.npy\")\n",
    "X_test = np.load(\"data/encoded_data_test_DeepConvVAE_ELU_NLL_250ep_lr-{1e-3, 1e-4}_bs-300.npy\")"
   ]
  },
  {
   "cell_type": "code",
   "execution_count": 52,
   "metadata": {},
   "outputs": [
    {
     "data": {
      "text/plain": [
       "0.07350118567710469"
      ]
     },
     "execution_count": 52,
     "metadata": {},
     "output_type": "execute_result"
    }
   ],
   "source": [
    "1/(np.var(X_train)*X_train.shape[1])"
   ]
  },
  {
   "cell_type": "code",
   "execution_count": 53,
   "metadata": {},
   "outputs": [],
   "source": [
    "dc_clf = SVC(kernel=\"rbf\", C=1, gamma=0.1)"
   ]
  },
  {
   "cell_type": "code",
   "execution_count": 54,
   "metadata": {},
   "outputs": [
    {
     "data": {
      "text/plain": [
       "SVC(C=1, cache_size=200, class_weight=None, coef0=0.0,\n",
       "    decision_function_shape='ovr', degree=3, gamma=0.1, kernel='rbf',\n",
       "    max_iter=-1, probability=False, random_state=None, shrinking=True,\n",
       "    tol=0.001, verbose=False)"
      ]
     },
     "execution_count": 54,
     "metadata": {},
     "output_type": "execute_result"
    }
   ],
   "source": [
    "dc_clf.fit(X_train, y_train)"
   ]
  },
  {
   "cell_type": "code",
   "execution_count": 59,
   "metadata": {},
   "outputs": [
    {
     "data": {
      "text/plain": [
       "['models_and_losses/SVM_CNN-VAE{kerner=rbf,C=1,gamma=0.1}.joblib']"
      ]
     },
     "execution_count": 59,
     "metadata": {},
     "output_type": "execute_result"
    }
   ],
   "source": [
    "#joblib.dump(dc_clf, \"models_and_losses/SVM_CNN-VAE{kerner=rbf,C=1,gamma=0.1}.joblib\")"
   ]
  },
  {
   "cell_type": "code",
   "execution_count": 55,
   "metadata": {},
   "outputs": [],
   "source": [
    "y_pred_dc = dc_clf.predict(X_test)"
   ]
  },
  {
   "cell_type": "code",
   "execution_count": 56,
   "metadata": {},
   "outputs": [
    {
     "data": {
      "text/plain": [
       "0.8074439550968406"
      ]
     },
     "execution_count": 56,
     "metadata": {},
     "output_type": "execute_result"
    }
   ],
   "source": [
    "f1_score(y_true=y_test, y_pred = y_pred_dc, average=\"macro\")"
   ]
  },
  {
   "cell_type": "code",
   "execution_count": 57,
   "metadata": {},
   "outputs": [
    {
     "data": {
      "text/plain": [
       "0.8454827915869981"
      ]
     },
     "execution_count": 57,
     "metadata": {},
     "output_type": "execute_result"
    }
   ],
   "source": [
    "accuracy_score(y_true=y_test, y_pred = y_pred_dc)"
   ]
  },
  {
   "cell_type": "code",
   "execution_count": 58,
   "metadata": {},
   "outputs": [
    {
     "data": {
      "text/plain": [
       "array([[ 2542,  1538,    30,   125],\n",
       "       [  300, 10011,    31,   103],\n",
       "       [   21,    41,   399,    18],\n",
       "       [  201,   165,    13,  1198]])"
      ]
     },
     "execution_count": 58,
     "metadata": {},
     "output_type": "execute_result"
    }
   ],
   "source": [
    "confusion_matrix(y_true=y_test, y_pred = y_pred_dc)"
   ]
  },
  {
   "cell_type": "markdown",
   "metadata": {},
   "source": [
    "## LSTM-VAE"
   ]
  },
  {
   "cell_type": "code",
   "execution_count": 60,
   "metadata": {},
   "outputs": [],
   "source": [
    "X_train1 = np.load(\"data/mu_lstm1.npy\")\n",
    "X_train2 = np.load(\"data/mu_lstm2.npy\")\n",
    "X_train3 = np.load(\"data/mu_lstm3.npy\")\n",
    "\n",
    "X_train = np.vstack((X_train1, X_train2, X_train3))\n",
    "\n",
    "X_test = np.load(\"data/mu_lstm_test.npy\")"
   ]
  },
  {
   "cell_type": "code",
   "execution_count": 61,
   "metadata": {},
   "outputs": [
    {
     "data": {
      "text/plain": [
       "0.2772047392196986"
      ]
     },
     "execution_count": 61,
     "metadata": {},
     "output_type": "execute_result"
    }
   ],
   "source": [
    "1/(np.var(X_train)*X_train.shape[1])"
   ]
  },
  {
   "cell_type": "code",
   "execution_count": 77,
   "metadata": {},
   "outputs": [],
   "source": [
    "dr_clf = SVC(kernel=\"rbf\", C=100, gamma=\"scale\")"
   ]
  },
  {
   "cell_type": "code",
   "execution_count": 78,
   "metadata": {},
   "outputs": [
    {
     "data": {
      "text/plain": [
       "SVC(C=100, cache_size=200, class_weight=None, coef0=0.0,\n",
       "    decision_function_shape='ovr', degree=3, gamma='scale', kernel='rbf',\n",
       "    max_iter=-1, probability=False, random_state=None, shrinking=True,\n",
       "    tol=0.001, verbose=False)"
      ]
     },
     "execution_count": 78,
     "metadata": {},
     "output_type": "execute_result"
    }
   ],
   "source": [
    "dr_clf.fit(X_train, y_train)"
   ]
  },
  {
   "cell_type": "code",
   "execution_count": 83,
   "metadata": {},
   "outputs": [
    {
     "data": {
      "text/plain": [
       "['models_and_losses/SVM_LSTM-VAE{kerner=rbf,C=100,gamma=scale=0.27}.joblib']"
      ]
     },
     "execution_count": 83,
     "metadata": {},
     "output_type": "execute_result"
    }
   ],
   "source": [
    "#joblib.dump(dc_clf, \"models_and_losses/SVM_LSTM-VAE{kerner=rbf,C=100,gamma=scale=0.27}.joblib\")"
   ]
  },
  {
   "cell_type": "code",
   "execution_count": 79,
   "metadata": {},
   "outputs": [],
   "source": [
    "y_pred_dr = dr_clf.predict(X_test)"
   ]
  },
  {
   "cell_type": "code",
   "execution_count": 80,
   "metadata": {},
   "outputs": [
    {
     "data": {
      "text/plain": [
       "0.803976007985282"
      ]
     },
     "execution_count": 80,
     "metadata": {},
     "output_type": "execute_result"
    }
   ],
   "source": [
    "f1_score(y_true=y_test, y_pred = y_pred_dr, average=\"macro\")"
   ]
  },
  {
   "cell_type": "code",
   "execution_count": 81,
   "metadata": {},
   "outputs": [
    {
     "data": {
      "text/plain": [
       "0.8381931166347992"
      ]
     },
     "execution_count": 81,
     "metadata": {},
     "output_type": "execute_result"
    }
   ],
   "source": [
    "accuracy_score(y_true=y_test, y_pred = y_pred_dr)"
   ]
  },
  {
   "cell_type": "code",
   "execution_count": 82,
   "metadata": {},
   "outputs": [
    {
     "data": {
      "text/plain": [
       "array([[ 2367,  1722,    26,   120],\n",
       "       [  296, 10013,    41,    95],\n",
       "       [   22,    34,   404,    19],\n",
       "       [  183,   137,    13,  1244]])"
      ]
     },
     "execution_count": 82,
     "metadata": {},
     "output_type": "execute_result"
    }
   ],
   "source": [
    "confusion_matrix(y_true=y_test, y_pred = y_pred_dr)"
   ]
  },
  {
   "cell_type": "code",
   "execution_count": null,
   "metadata": {},
   "outputs": [],
   "source": []
  }
 ],
 "metadata": {
  "kernelspec": {
   "display_name": "Pytorch",
   "language": "python",
   "name": "pytorch"
  },
  "language_info": {
   "codemirror_mode": {
    "name": "ipython",
    "version": 3
   },
   "file_extension": ".py",
   "mimetype": "text/x-python",
   "name": "python",
   "nbconvert_exporter": "python",
   "pygments_lexer": "ipython3",
   "version": "3.6.9"
  }
 },
 "nbformat": 4,
 "nbformat_minor": 2
}
