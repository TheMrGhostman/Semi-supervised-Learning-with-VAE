{
 "cells": [
  {
   "cell_type": "code",
   "execution_count": 1,
   "metadata": {},
   "outputs": [],
   "source": [
    "import numpy as np \n",
    "import time\n",
    "import os\n",
    "\n",
    "import torch \n",
    "import torch.nn as nn\n",
    "import torch.nn.functional as F \n",
    "\n",
    "import matplotlib.pyplot as plt\n",
    "from collections import OrderedDict\n",
    "\n",
    "from sklearn.model_selection import train_test_split\n",
    "from sklearn.metrics import confusion_matrix, accuracy_score, f1_score\n",
    "\n",
    "from utils.inference import Trainer, plot_loss\n",
    "from utils.models import DNN\n",
    "import utils.datasets as d"
   ]
  },
  {
   "cell_type": "markdown",
   "metadata": {},
   "source": [
    "# DeepDense VAE encoder + classifier"
   ]
  },
  {
   "cell_type": "code",
   "execution_count": 2,
   "metadata": {},
   "outputs": [],
   "source": [
    "X_train = np.load(\"data/encoded_data_train_DeepDenseVAE_mark_V_[160-256-128-15]_VDO_GNLL_400ep_lr-1e-4.npy\")\n",
    "y_train = np.load(\"data/labels_train.npy\")\n",
    "X_test = np.load(\"data/encoded_data_test_DeepDenseVAE_mark_V_[160-256-128-15]_VDO_GNLL_400ep_lr-1e-4.npy\")\n",
    "y_test = np.load(\"data/labels_test.npy\")"
   ]
  },
  {
   "cell_type": "code",
   "execution_count": 3,
   "metadata": {},
   "outputs": [],
   "source": [
    "X_train, X_valid, y_train, y_valid = train_test_split(X_train, y_train, test_size=0.2, random_state=666)"
   ]
  },
  {
   "cell_type": "code",
   "execution_count": 4,
   "metadata": {},
   "outputs": [],
   "source": [
    "train = d.H_alphaSequences(X_train, y_train)\n",
    "valid = d.H_alphaSequences(X_valid, y_valid)\n",
    "test = d.H_alphaSequences(X_test, y_test)"
   ]
  },
  {
   "cell_type": "code",
   "execution_count": 5,
   "metadata": {},
   "outputs": [],
   "source": [
    "train_loader = torch.utils.data.DataLoader(dataset = train, batch_size=100, shuffle=True)\n",
    "valid_loader = torch.utils.data.DataLoader(dataset = valid, batch_size=100, shuffle=True)"
   ]
  },
  {
   "cell_type": "markdown",
   "metadata": {},
   "source": [
    "# M.1"
   ]
  },
  {
   "cell_type": "code",
   "execution_count": 6,
   "metadata": {},
   "outputs": [],
   "source": [
    "DNN1 = nn.Sequential(\n",
    "            nn.Linear(in_features=15, out_features=125),\n",
    "            nn.ELU(inplace=True),\n",
    "            nn.Linear(in_features=125, out_features=4)\n",
    ")"
   ]
  },
  {
   "cell_type": "code",
   "execution_count": 7,
   "metadata": {},
   "outputs": [],
   "source": [
    "optimizer= torch.optim.Adam(DNN1.parameters(), lr=1e-3)"
   ]
  },
  {
   "cell_type": "code",
   "execution_count": 8,
   "metadata": {},
   "outputs": [
    {
     "name": "stdout",
     "output_type": "stream",
     "text": [
      "cuda:0\n"
     ]
    }
   ],
   "source": [
    "m1 = Trainer(\n",
    "        model=DNN1,\n",
    "        optimizer=optimizer,\n",
    "        loss_function=nn.CrossEntropyLoss(),\n",
    "        #scheduler=torch.optim.lr_scheduler.MultiStepLR(optimizer, milestones=[100], gamma=0.1),\n",
    "        tensorboard=True,\n",
    "        model_name=\"DNN_latent_space_m.I_lr-1e-3_bs-100\",\n",
    "        verbose=True\n",
    "        )"
   ]
  },
  {
   "cell_type": "code",
   "execution_count": null,
   "metadata": {},
   "outputs": [
    {
     "name": "stdout",
     "output_type": "stream",
     "text": [
      "Epoch [1/50], average_loss:0.6833, validation_loss:0.6016, val_accuracy:0.7528\n",
      "Epoch [2/50], average_loss:0.5818, validation_loss:0.5700, val_accuracy:0.7978\n",
      "Epoch [3/50], average_loss:0.5596, validation_loss:0.5567, val_accuracy:0.8652\n",
      "Epoch [4/50], average_loss:0.5469, validation_loss:0.5471, val_accuracy:0.7865\n",
      "Epoch [5/50], average_loss:0.5375, validation_loss:0.5383, val_accuracy:0.8876\n",
      "Epoch [6/50], average_loss:0.5288, validation_loss:0.5318, val_accuracy:0.7978\n",
      "Epoch [7/50], average_loss:0.5217, validation_loss:0.5252, val_accuracy:0.8315\n",
      "Epoch [8/50], average_loss:0.5150, validation_loss:0.5220, val_accuracy:0.8202\n",
      "Epoch [9/50], average_loss:0.5084, validation_loss:0.5131, val_accuracy:0.8202\n",
      "Epoch [10/50], average_loss:0.5018, validation_loss:0.5071, val_accuracy:0.8652\n",
      "Epoch [11/50], average_loss:0.4957, validation_loss:0.5027, val_accuracy:0.8876\n",
      "Epoch [12/50], average_loss:0.4892, validation_loss:0.4989, val_accuracy:0.7978\n",
      "Epoch [13/50], average_loss:0.4847, validation_loss:0.4883, val_accuracy:0.8090\n",
      "Epoch [14/50], average_loss:0.4794, validation_loss:0.4830, val_accuracy:0.8315\n",
      "Epoch [15/50], average_loss:0.4742, validation_loss:0.4832, val_accuracy:0.8876\n",
      "Epoch [16/50], average_loss:0.4700, validation_loss:0.4757, val_accuracy:0.8090\n",
      "Epoch [17/50], average_loss:0.4664, validation_loss:0.4713, val_accuracy:0.8202\n",
      "Epoch [18/50], average_loss:0.4626, validation_loss:0.4705, val_accuracy:0.8539\n",
      "Epoch [19/50], average_loss:0.4593, validation_loss:0.4684, val_accuracy:0.8764\n",
      "Epoch [20/50], average_loss:0.4557, validation_loss:0.4639, val_accuracy:0.8427\n",
      "Epoch [21/50], average_loss:0.4540, validation_loss:0.4636, val_accuracy:0.8090\n",
      "Epoch [22/50], average_loss:0.4500, validation_loss:0.4587, val_accuracy:0.8090\n",
      "Epoch [23/50], average_loss:0.4479, validation_loss:0.4594, val_accuracy:0.7978\n",
      "Epoch [24/50], average_loss:0.4454, validation_loss:0.4543, val_accuracy:0.8427\n",
      "Epoch [25/50], average_loss:0.4433, validation_loss:0.4515, val_accuracy:0.8652\n"
     ]
    }
   ],
   "source": [
    "lh = m1(epochs=50, train_loader=train_loader, validation_loader=valid_loader)"
   ]
  },
  {
   "cell_type": "code",
   "execution_count": null,
   "metadata": {},
   "outputs": [],
   "source": [
    "#m1.tb.close()"
   ]
  },
  {
   "cell_type": "code",
   "execution_count": null,
   "metadata": {},
   "outputs": [],
   "source": []
  }
 ],
 "metadata": {
  "kernelspec": {
   "display_name": "Pytorch",
   "language": "python",
   "name": "pytorch"
  },
  "language_info": {
   "codemirror_mode": {
    "name": "ipython",
    "version": 3
   },
   "file_extension": ".py",
   "mimetype": "text/x-python",
   "name": "python",
   "nbconvert_exporter": "python",
   "pygments_lexer": "ipython3",
   "version": "3.6.9"
  }
 },
 "nbformat": 4,
 "nbformat_minor": 2
}
