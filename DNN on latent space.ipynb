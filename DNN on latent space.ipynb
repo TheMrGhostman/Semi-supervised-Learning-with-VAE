{
 "cells": [
  {
   "cell_type": "code",
   "execution_count": 1,
   "metadata": {},
   "outputs": [],
   "source": [
    "import numpy as np \n",
    "import time\n",
    "import os\n",
    "\n",
    "import torch \n",
    "import torch.nn as nn\n",
    "import torch.nn.functional as F \n",
    "\n",
    "import matplotlib.pyplot as plt\n",
    "from collections import OrderedDict\n",
    "\n",
    "from sklearn.model_selection import train_test_split\n",
    "from sklearn.metrics import confusion_matrix, accuracy_score, f1_score\n",
    "\n",
    "from utils.inference import Trainer, plot_loss\n",
    "from utils.models import DNN\n",
    "import utils.datasets as d"
   ]
  },
  {
   "cell_type": "markdown",
   "metadata": {},
   "source": [
    "# DeepDense VAE encoder + classifier"
   ]
  },
  {
   "cell_type": "code",
   "execution_count": 2,
   "metadata": {},
   "outputs": [],
   "source": [
    "X_train = np.load(\"data/encoded_data_train_DeepDenseVAE_mark_V_[160-256-128-15]_VDO_GNLL_400ep_lr-1e-4.npy\")\n",
    "y_train = np.load(\"data/labels_train.npy\")\n",
    "X_test = np.load(\"data/encoded_data_test_DeepDenseVAE_mark_V_[160-256-128-15]_VDO_GNLL_400ep_lr-1e-4.npy\")\n",
    "y_test = np.load(\"data/labels_test.npy\")"
   ]
  },
  {
   "cell_type": "code",
   "execution_count": 3,
   "metadata": {},
   "outputs": [],
   "source": [
    "X_train, X_valid, y_train, y_valid = train_test_split(X_train, y_train, test_size=0.2, random_state=666)"
   ]
  },
  {
   "cell_type": "code",
   "execution_count": 4,
   "metadata": {},
   "outputs": [],
   "source": [
    "train = d.H_alphaSequences(X_train, y_train)\n",
    "valid = d.H_alphaSequences(X_valid, y_valid)\n",
    "test = d.H_alphaSequences(X_test, y_test)"
   ]
  },
  {
   "cell_type": "code",
   "execution_count": 31,
   "metadata": {},
   "outputs": [],
   "source": [
    "train_loader = torch.utils.data.DataLoader(dataset = train, batch_size=128, shuffle=True)\n",
    "valid_loader = torch.utils.data.DataLoader(dataset = valid, batch_size=128, shuffle=True)"
   ]
  },
  {
   "cell_type": "markdown",
   "metadata": {},
   "source": [
    "# M.1"
   ]
  },
  {
   "cell_type": "code",
   "execution_count": 45,
   "metadata": {},
   "outputs": [],
   "source": [
    "DNN1 = nn.Sequential(\n",
    "            nn.Linear(in_features=15, out_features=125),\n",
    "            nn.ELU(inplace=True),\n",
    "            nn.Linear(in_features=125, out_features=4)\n",
    ")"
   ]
  },
  {
   "cell_type": "code",
   "execution_count": 46,
   "metadata": {},
   "outputs": [],
   "source": [
    "optimizer= torch.optim.Adam(DNN1.parameters(), lr=1e-2)"
   ]
  },
  {
   "cell_type": "code",
   "execution_count": 47,
   "metadata": {},
   "outputs": [
    {
     "name": "stdout",
     "output_type": "stream",
     "text": [
      "cuda:0\n"
     ]
    }
   ],
   "source": [
    "m1 = Trainer(\n",
    "        model=DNN1,\n",
    "        optimizer=optimizer,\n",
    "        loss_function=nn.CrossEntropyLoss(),\n",
    "        scheduler=torch.optim.lr_scheduler.MultiStepLR(optimizer, milestones=[10], gamma=0.1),\n",
    "        tensorboard=True,\n",
    "        model_name=\"DNN_latent_space_m.I_lr-{1e-2,1e-3}_bs-128\",\n",
    "        verbose=True\n",
    "        )"
   ]
  },
  {
   "cell_type": "code",
   "execution_count": 48,
   "metadata": {},
   "outputs": [
    {
     "name": "stdout",
     "output_type": "stream",
     "text": [
      "Epoch [1/100], average_loss:0.6062, validation_loss:0.5582, val_accuracy:0.8312\n",
      "Epoch [2/100], average_loss:0.5459, validation_loss:0.5651, val_accuracy:0.7532\n",
      "Epoch [3/100], average_loss:0.5293, validation_loss:0.5165, val_accuracy:0.7792\n",
      "Epoch [4/100], average_loss:0.4988, validation_loss:0.4945, val_accuracy:0.8312\n",
      "Epoch [5/100], average_loss:0.4801, validation_loss:0.4879, val_accuracy:0.8961\n",
      "Epoch [6/100], average_loss:0.4702, validation_loss:0.4738, val_accuracy:0.7532\n",
      "Epoch [7/100], average_loss:0.4627, validation_loss:0.4772, val_accuracy:0.8312\n",
      "Epoch [8/100], average_loss:0.4586, validation_loss:0.4589, val_accuracy:0.8052\n",
      "Epoch [9/100], average_loss:0.4569, validation_loss:0.4642, val_accuracy:0.7922\n",
      "Epoch [10/100], average_loss:0.4568, validation_loss:0.4549, val_accuracy:0.7403\n",
      "Epoch [11/100], average_loss:0.4303, validation_loss:0.4397, val_accuracy:0.8701\n",
      "Epoch [12/100], average_loss:0.4273, validation_loss:0.4388, val_accuracy:0.7532\n",
      "Epoch [13/100], average_loss:0.4262, validation_loss:0.4386, val_accuracy:0.8442\n",
      "Epoch [14/100], average_loss:0.4257, validation_loss:0.4372, val_accuracy:0.8571\n",
      "Epoch [15/100], average_loss:0.4254, validation_loss:0.4369, val_accuracy:0.8312\n",
      "Epoch [16/100], average_loss:0.4242, validation_loss:0.4370, val_accuracy:0.8182\n",
      "Epoch [17/100], average_loss:0.4243, validation_loss:0.4389, val_accuracy:0.8052\n",
      "Epoch [18/100], average_loss:0.4239, validation_loss:0.4368, val_accuracy:0.8312\n",
      "Epoch [19/100], average_loss:0.4230, validation_loss:0.4361, val_accuracy:0.8571\n",
      "Epoch [20/100], average_loss:0.4225, validation_loss:0.4356, val_accuracy:0.8182\n",
      "Epoch [21/100], average_loss:0.4219, validation_loss:0.4349, val_accuracy:0.8442\n",
      "Epoch [22/100], average_loss:0.4215, validation_loss:0.4353, val_accuracy:0.8052\n",
      "Epoch [23/100], average_loss:0.4211, validation_loss:0.4333, val_accuracy:0.8961\n",
      "Epoch [24/100], average_loss:0.4210, validation_loss:0.4349, val_accuracy:0.8442\n",
      "Epoch [25/100], average_loss:0.4204, validation_loss:0.4348, val_accuracy:0.8701\n",
      "Epoch [26/100], average_loss:0.4197, validation_loss:0.4353, val_accuracy:0.7922\n",
      "Epoch [27/100], average_loss:0.4196, validation_loss:0.4356, val_accuracy:0.7662\n",
      "Epoch [28/100], average_loss:0.4187, validation_loss:0.4333, val_accuracy:0.8701\n",
      "Epoch [29/100], average_loss:0.4186, validation_loss:0.4342, val_accuracy:0.8442\n",
      "Epoch [30/100], average_loss:0.4180, validation_loss:0.4339, val_accuracy:0.8052\n",
      "Epoch [31/100], average_loss:0.4175, validation_loss:0.4322, val_accuracy:0.8442\n",
      "Epoch [32/100], average_loss:0.4172, validation_loss:0.4325, val_accuracy:0.8442\n",
      "Epoch [33/100], average_loss:0.4162, validation_loss:0.4312, val_accuracy:0.8182\n",
      "Epoch [34/100], average_loss:0.4162, validation_loss:0.4314, val_accuracy:0.8182\n",
      "Epoch [35/100], average_loss:0.4162, validation_loss:0.4306, val_accuracy:0.8442\n",
      "Epoch [36/100], average_loss:0.4153, validation_loss:0.4329, val_accuracy:0.6494\n",
      "Epoch [37/100], average_loss:0.4146, validation_loss:0.4307, val_accuracy:0.7532\n",
      "Epoch [38/100], average_loss:0.4140, validation_loss:0.4308, val_accuracy:0.8571\n",
      "Epoch [39/100], average_loss:0.4140, validation_loss:0.4292, val_accuracy:0.8701\n",
      "Epoch [40/100], average_loss:0.4138, validation_loss:0.4299, val_accuracy:0.7792\n",
      "Epoch [41/100], average_loss:0.4130, validation_loss:0.4280, val_accuracy:0.8442\n",
      "Epoch [42/100], average_loss:0.4123, validation_loss:0.4311, val_accuracy:0.7792\n",
      "Epoch [43/100], average_loss:0.4121, validation_loss:0.4279, val_accuracy:0.8312\n",
      "Epoch [44/100], average_loss:0.4113, validation_loss:0.4292, val_accuracy:0.8182\n",
      "Epoch [45/100], average_loss:0.4114, validation_loss:0.4278, val_accuracy:0.8701\n",
      "Epoch [46/100], average_loss:0.4107, validation_loss:0.4288, val_accuracy:0.8442\n",
      "Epoch [47/100], average_loss:0.4097, validation_loss:0.4294, val_accuracy:0.8312\n",
      "Epoch [48/100], average_loss:0.4099, validation_loss:0.4290, val_accuracy:0.8571\n",
      "Epoch [49/100], average_loss:0.4089, validation_loss:0.4284, val_accuracy:0.7532\n",
      "Epoch [50/100], average_loss:0.4091, validation_loss:0.4268, val_accuracy:0.8571\n",
      "Epoch [51/100], average_loss:0.4079, validation_loss:0.4273, val_accuracy:0.7792\n",
      "Epoch [52/100], average_loss:0.4075, validation_loss:0.4269, val_accuracy:0.8312\n",
      "Epoch [53/100], average_loss:0.4071, validation_loss:0.4279, val_accuracy:0.8961\n",
      "Epoch [54/100], average_loss:0.4071, validation_loss:0.4257, val_accuracy:0.8312\n",
      "Epoch [55/100], average_loss:0.4064, validation_loss:0.4269, val_accuracy:0.8182\n",
      "Epoch [56/100], average_loss:0.4058, validation_loss:0.4267, val_accuracy:0.8571\n",
      "Epoch [57/100], average_loss:0.4052, validation_loss:0.4245, val_accuracy:0.8571\n",
      "Epoch [58/100], average_loss:0.4052, validation_loss:0.4239, val_accuracy:0.8052\n",
      "Epoch [59/100], average_loss:0.4044, validation_loss:0.4234, val_accuracy:0.8831\n",
      "Epoch [60/100], average_loss:0.4039, validation_loss:0.4243, val_accuracy:0.8571\n",
      "Epoch [61/100], average_loss:0.4038, validation_loss:0.4247, val_accuracy:0.8312\n",
      "Epoch [62/100], average_loss:0.4033, validation_loss:0.4229, val_accuracy:0.8052\n",
      "Epoch [63/100], average_loss:0.4027, validation_loss:0.4229, val_accuracy:0.8571\n",
      "Epoch [64/100], average_loss:0.4021, validation_loss:0.4236, val_accuracy:0.8052\n",
      "Epoch [65/100], average_loss:0.4017, validation_loss:0.4223, val_accuracy:0.8442\n",
      "Epoch [66/100], average_loss:0.4013, validation_loss:0.4250, val_accuracy:0.7922\n",
      "Epoch [67/100], average_loss:0.4011, validation_loss:0.4241, val_accuracy:0.8312\n",
      "Epoch [68/100], average_loss:0.4006, validation_loss:0.4227, val_accuracy:0.7792\n",
      "Epoch [69/100], average_loss:0.4004, validation_loss:0.4222, val_accuracy:0.8571\n",
      "Epoch [70/100], average_loss:0.4002, validation_loss:0.4217, val_accuracy:0.7922\n",
      "Epoch [71/100], average_loss:0.3994, validation_loss:0.4226, val_accuracy:0.7922\n",
      "Epoch [72/100], average_loss:0.3986, validation_loss:0.4223, val_accuracy:0.8442\n",
      "Epoch [73/100], average_loss:0.3986, validation_loss:0.4214, val_accuracy:0.7662\n",
      "Epoch [74/100], average_loss:0.3980, validation_loss:0.4211, val_accuracy:0.8701\n",
      "Epoch [75/100], average_loss:0.3977, validation_loss:0.4210, val_accuracy:0.7792\n",
      "Epoch [76/100], average_loss:0.3974, validation_loss:0.4214, val_accuracy:0.8052\n",
      "Epoch [77/100], average_loss:0.3963, validation_loss:0.4210, val_accuracy:0.8701\n",
      "Epoch [78/100], average_loss:0.3963, validation_loss:0.4213, val_accuracy:0.8701\n",
      "Epoch [79/100], average_loss:0.3966, validation_loss:0.4195, val_accuracy:0.8571\n",
      "Epoch [80/100], average_loss:0.3957, validation_loss:0.4193, val_accuracy:0.9091\n",
      "Epoch [81/100], average_loss:0.3950, validation_loss:0.4200, val_accuracy:0.8571\n",
      "Epoch [82/100], average_loss:0.3951, validation_loss:0.4184, val_accuracy:0.8312\n",
      "Epoch [83/100], average_loss:0.3949, validation_loss:0.4181, val_accuracy:0.8312\n",
      "Epoch [84/100], average_loss:0.3943, validation_loss:0.4197, val_accuracy:0.8571\n",
      "Epoch [85/100], average_loss:0.3932, validation_loss:0.4193, val_accuracy:0.8052\n",
      "Epoch [86/100], average_loss:0.3938, validation_loss:0.4173, val_accuracy:0.8961\n",
      "Epoch [87/100], average_loss:0.3933, validation_loss:0.4191, val_accuracy:0.8312\n",
      "Epoch [88/100], average_loss:0.3925, validation_loss:0.4209, val_accuracy:0.7662\n",
      "Epoch [89/100], average_loss:0.3923, validation_loss:0.4209, val_accuracy:0.8571\n",
      "Epoch [90/100], average_loss:0.3923, validation_loss:0.4174, val_accuracy:0.7532\n",
      "Epoch [91/100], average_loss:0.3926, validation_loss:0.4171, val_accuracy:0.7273\n",
      "Epoch [92/100], average_loss:0.3915, validation_loss:0.4179, val_accuracy:0.8831\n",
      "Epoch [93/100], average_loss:0.3909, validation_loss:0.4242, val_accuracy:0.7532\n",
      "Epoch [94/100], average_loss:0.3912, validation_loss:0.4171, val_accuracy:0.8701\n",
      "Epoch [95/100], average_loss:0.3911, validation_loss:0.4171, val_accuracy:0.8831\n",
      "Epoch [96/100], average_loss:0.3903, validation_loss:0.4198, val_accuracy:0.7662\n",
      "Epoch [97/100], average_loss:0.3900, validation_loss:0.4187, val_accuracy:0.8571\n",
      "Epoch [98/100], average_loss:0.3895, validation_loss:0.4176, val_accuracy:0.8182\n",
      "Epoch [99/100], average_loss:0.3893, validation_loss:0.4168, val_accuracy:0.8831\n",
      "Epoch [100/100], average_loss:0.3889, validation_loss:0.4164, val_accuracy:0.8701\n"
     ]
    }
   ],
   "source": [
    "lh = m1(epochs=100, train_loader=train_loader, validation_loader=valid_loader)"
   ]
  },
  {
   "cell_type": "code",
   "execution_count": 36,
   "metadata": {},
   "outputs": [],
   "source": [
    "m1.tb.close()"
   ]
  },
  {
   "cell_type": "code",
   "execution_count": 49,
   "metadata": {},
   "outputs": [],
   "source": [
    "m1.model.eval()\n",
    "with torch.no_grad():\n",
    "    x_pred = np.argmax(m1.model(torch.tensor(X_test).float().to(m1.device)).cpu().detach(), axis=1)\n"
   ]
  },
  {
   "cell_type": "code",
   "execution_count": 50,
   "metadata": {},
   "outputs": [
    {
     "data": {
      "text/plain": [
       "tensor([1, 1, 1,  ..., 3, 0, 0])"
      ]
     },
     "execution_count": 50,
     "metadata": {},
     "output_type": "execute_result"
    }
   ],
   "source": [
    "x_pred"
   ]
  },
  {
   "cell_type": "code",
   "execution_count": 51,
   "metadata": {},
   "outputs": [
    {
     "data": {
      "text/plain": [
       "0.8016459924684606"
      ]
     },
     "execution_count": 51,
     "metadata": {},
     "output_type": "execute_result"
    }
   ],
   "source": [
    "f1_score(y_true=y_test, y_pred=x_pred, average=\"macro\")"
   ]
  },
  {
   "cell_type": "code",
   "execution_count": 52,
   "metadata": {},
   "outputs": [
    {
     "data": {
      "text/plain": [
       "0.842315965583174"
      ]
     },
     "execution_count": 52,
     "metadata": {},
     "output_type": "execute_result"
    }
   ],
   "source": [
    "accuracy_score(y_true=y_test, y_pred=x_pred)"
   ]
  },
  {
   "cell_type": "code",
   "execution_count": 53,
   "metadata": {
    "scrolled": true
   },
   "outputs": [
    {
     "data": {
      "text/plain": [
       "array([[2698, 1392,   21,  124],\n",
       "       [ 454, 9813,   37,  141],\n",
       "       [  28,   49,  381,   21],\n",
       "       [ 195,  159,   18, 1205]], dtype=int64)"
      ]
     },
     "execution_count": 53,
     "metadata": {},
     "output_type": "execute_result"
    }
   ],
   "source": [
    "confusion_matrix(y_true=y_test, y_pred=x_pred)"
   ]
  },
  {
   "cell_type": "code",
   "execution_count": 54,
   "metadata": {},
   "outputs": [
    {
     "name": "stderr",
     "output_type": "stream",
     "text": [
      "C:\\Users\\ghost_000\\Miniconda3\\envs\\Pytorch\\lib\\site-packages\\torch\\serialization.py:292: UserWarning: Couldn't retrieve source code for container of type Sequential. It won't be checked for correctness upon loading.\n",
      "  \"type \" + obj.__name__ + \". It won't be checked \"\n",
      "C:\\Users\\ghost_000\\Miniconda3\\envs\\Pytorch\\lib\\site-packages\\torch\\serialization.py:292: UserWarning: Couldn't retrieve source code for container of type Linear. It won't be checked for correctness upon loading.\n",
      "  \"type \" + obj.__name__ + \". It won't be checked \"\n",
      "C:\\Users\\ghost_000\\Miniconda3\\envs\\Pytorch\\lib\\site-packages\\torch\\serialization.py:292: UserWarning: Couldn't retrieve source code for container of type ELU. It won't be checked for correctness upon loading.\n",
      "  \"type \" + obj.__name__ + \". It won't be checked \"\n"
     ]
    }
   ],
   "source": [
    "#torch.save(m1.model, \"models_and_losses/DNN_latent_space_m.I_lr-{1e-2,1e-3}_bs-128_epoch-100.pt\")"
   ]
  },
  {
   "cell_type": "markdown",
   "metadata": {},
   "source": [
    "# M.2"
   ]
  },
  {
   "cell_type": "code",
   "execution_count": 55,
   "metadata": {},
   "outputs": [],
   "source": [
    "DNN2 = nn.Sequential(\n",
    "            nn.Linear(in_features=15, out_features=4),\n",
    ")"
   ]
  },
  {
   "cell_type": "code",
   "execution_count": 56,
   "metadata": {},
   "outputs": [],
   "source": [
    "optimizer= torch.optim.Adam(DNN2.parameters(), lr=1e-2)"
   ]
  },
  {
   "cell_type": "code",
   "execution_count": 57,
   "metadata": {},
   "outputs": [
    {
     "name": "stdout",
     "output_type": "stream",
     "text": [
      "cuda:0\n"
     ]
    }
   ],
   "source": [
    "m2 = Trainer(\n",
    "        model=DNN2,\n",
    "        optimizer=optimizer,\n",
    "        loss_function=nn.CrossEntropyLoss(),\n",
    "        #scheduler=torch.optim.lr_scheduler.MultiStepLR(optimizer, milestones=[10], gamma=0.1),\n",
    "        tensorboard=True,\n",
    "        model_name=\"DNN_latent_space_m.II_lr-1e-2_bs-128\",\n",
    "        verbose=True\n",
    "        )"
   ]
  },
  {
   "cell_type": "code",
   "execution_count": 58,
   "metadata": {},
   "outputs": [
    {
     "name": "stdout",
     "output_type": "stream",
     "text": [
      "Epoch [1/100], average_loss:0.8076, validation_loss:0.6691, val_accuracy:0.7143\n",
      "Epoch [2/100], average_loss:0.6611, validation_loss:0.6500, val_accuracy:0.7403\n",
      "Epoch [3/100], average_loss:0.6511, validation_loss:0.6477, val_accuracy:0.7143\n",
      "Epoch [4/100], average_loss:0.6483, validation_loss:0.6420, val_accuracy:0.6883\n",
      "Epoch [5/100], average_loss:0.6461, validation_loss:0.6427, val_accuracy:0.6104\n",
      "Epoch [6/100], average_loss:0.6455, validation_loss:0.6428, val_accuracy:0.8052\n",
      "Epoch [7/100], average_loss:0.6440, validation_loss:0.6366, val_accuracy:0.7662\n",
      "Epoch [8/100], average_loss:0.6439, validation_loss:0.6391, val_accuracy:0.7922\n",
      "Epoch [9/100], average_loss:0.6435, validation_loss:0.6374, val_accuracy:0.7532\n",
      "Epoch [10/100], average_loss:0.6434, validation_loss:0.6365, val_accuracy:0.7792\n",
      "Epoch [11/100], average_loss:0.6430, validation_loss:0.6371, val_accuracy:0.7403\n",
      "Epoch [12/100], average_loss:0.6428, validation_loss:0.6386, val_accuracy:0.7532\n",
      "Epoch [13/100], average_loss:0.6430, validation_loss:0.6392, val_accuracy:0.7792\n",
      "Epoch [14/100], average_loss:0.6425, validation_loss:0.6388, val_accuracy:0.7922\n",
      "Epoch [15/100], average_loss:0.6431, validation_loss:0.6364, val_accuracy:0.8312\n",
      "Epoch [16/100], average_loss:0.6427, validation_loss:0.6366, val_accuracy:0.7532\n",
      "Epoch [17/100], average_loss:0.6429, validation_loss:0.6384, val_accuracy:0.7532\n",
      "Epoch [18/100], average_loss:0.6432, validation_loss:0.6403, val_accuracy:0.7662\n",
      "Epoch [19/100], average_loss:0.6426, validation_loss:0.6378, val_accuracy:0.7013\n",
      "Epoch [20/100], average_loss:0.6429, validation_loss:0.6356, val_accuracy:0.7273\n",
      "Epoch [21/100], average_loss:0.6431, validation_loss:0.6364, val_accuracy:0.7273\n",
      "Epoch [22/100], average_loss:0.6426, validation_loss:0.6391, val_accuracy:0.7403\n",
      "Epoch [23/100], average_loss:0.6428, validation_loss:0.6393, val_accuracy:0.7792\n",
      "Epoch [24/100], average_loss:0.6429, validation_loss:0.6390, val_accuracy:0.6623\n",
      "Epoch [25/100], average_loss:0.6426, validation_loss:0.6376, val_accuracy:0.7013\n",
      "Epoch [26/100], average_loss:0.6427, validation_loss:0.6375, val_accuracy:0.7532\n",
      "Epoch [27/100], average_loss:0.6430, validation_loss:0.6378, val_accuracy:0.7403\n",
      "Epoch [28/100], average_loss:0.6427, validation_loss:0.6370, val_accuracy:0.8312\n",
      "Epoch [29/100], average_loss:0.6427, validation_loss:0.6374, val_accuracy:0.7922\n",
      "Epoch [30/100], average_loss:0.6427, validation_loss:0.6389, val_accuracy:0.8442\n",
      "Epoch [31/100], average_loss:0.6427, validation_loss:0.6374, val_accuracy:0.6494\n",
      "Epoch [32/100], average_loss:0.6429, validation_loss:0.6385, val_accuracy:0.7922\n",
      "Epoch [33/100], average_loss:0.6427, validation_loss:0.6381, val_accuracy:0.8571\n",
      "Epoch [34/100], average_loss:0.6427, validation_loss:0.6389, val_accuracy:0.7403\n",
      "Epoch [35/100], average_loss:0.6428, validation_loss:0.6381, val_accuracy:0.7792\n",
      "Epoch [36/100], average_loss:0.6427, validation_loss:0.6383, val_accuracy:0.6753\n",
      "Epoch [37/100], average_loss:0.6430, validation_loss:0.6360, val_accuracy:0.7792\n",
      "Epoch [38/100], average_loss:0.6430, validation_loss:0.6383, val_accuracy:0.6623\n",
      "Epoch [39/100], average_loss:0.6425, validation_loss:0.6413, val_accuracy:0.7662\n",
      "Epoch [40/100], average_loss:0.6427, validation_loss:0.6386, val_accuracy:0.7273\n",
      "Epoch [41/100], average_loss:0.6426, validation_loss:0.6366, val_accuracy:0.8571\n",
      "Epoch [42/100], average_loss:0.6429, validation_loss:0.6399, val_accuracy:0.6883\n",
      "Epoch [43/100], average_loss:0.6429, validation_loss:0.6390, val_accuracy:0.7143\n",
      "Epoch [44/100], average_loss:0.6427, validation_loss:0.6363, val_accuracy:0.7662\n",
      "Epoch [45/100], average_loss:0.6431, validation_loss:0.6382, val_accuracy:0.8442\n",
      "Epoch [46/100], average_loss:0.6433, validation_loss:0.6380, val_accuracy:0.7792\n",
      "Epoch [47/100], average_loss:0.6428, validation_loss:0.6369, val_accuracy:0.7662\n",
      "Epoch [48/100], average_loss:0.6424, validation_loss:0.6386, val_accuracy:0.7532\n",
      "Epoch [49/100], average_loss:0.6431, validation_loss:0.6396, val_accuracy:0.8052\n",
      "Epoch [50/100], average_loss:0.6430, validation_loss:0.6371, val_accuracy:0.7532\n",
      "Epoch [51/100], average_loss:0.6435, validation_loss:0.6373, val_accuracy:0.7403\n",
      "Epoch [52/100], average_loss:0.6430, validation_loss:0.6388, val_accuracy:0.6883\n",
      "Epoch [53/100], average_loss:0.6431, validation_loss:0.6354, val_accuracy:0.8701\n",
      "Epoch [54/100], average_loss:0.6429, validation_loss:0.6390, val_accuracy:0.7532\n",
      "Epoch [55/100], average_loss:0.6432, validation_loss:0.6380, val_accuracy:0.7013\n",
      "Epoch [56/100], average_loss:0.6424, validation_loss:0.6363, val_accuracy:0.7792\n",
      "Epoch [57/100], average_loss:0.6429, validation_loss:0.6390, val_accuracy:0.7403\n",
      "Epoch [58/100], average_loss:0.6422, validation_loss:0.6370, val_accuracy:0.8182\n",
      "Epoch [59/100], average_loss:0.6425, validation_loss:0.6380, val_accuracy:0.7013\n",
      "Epoch [60/100], average_loss:0.6432, validation_loss:0.6370, val_accuracy:0.8182\n",
      "Epoch [61/100], average_loss:0.6434, validation_loss:0.6372, val_accuracy:0.7403\n",
      "Epoch [62/100], average_loss:0.6426, validation_loss:0.6363, val_accuracy:0.7273\n",
      "Epoch [63/100], average_loss:0.6428, validation_loss:0.6382, val_accuracy:0.7922\n",
      "Epoch [64/100], average_loss:0.6429, validation_loss:0.6375, val_accuracy:0.7922\n",
      "Epoch [65/100], average_loss:0.6427, validation_loss:0.6402, val_accuracy:0.7273\n",
      "Epoch [66/100], average_loss:0.6433, validation_loss:0.6381, val_accuracy:0.8182\n",
      "Epoch [67/100], average_loss:0.6430, validation_loss:0.6377, val_accuracy:0.7532\n",
      "Epoch [68/100], average_loss:0.6427, validation_loss:0.6368, val_accuracy:0.7273\n",
      "Epoch [69/100], average_loss:0.6425, validation_loss:0.6383, val_accuracy:0.7403\n",
      "Epoch [70/100], average_loss:0.6425, validation_loss:0.6377, val_accuracy:0.7403\n",
      "Epoch [71/100], average_loss:0.6429, validation_loss:0.6384, val_accuracy:0.7273\n",
      "Epoch [72/100], average_loss:0.6433, validation_loss:0.6380, val_accuracy:0.7792\n",
      "Epoch [73/100], average_loss:0.6429, validation_loss:0.6362, val_accuracy:0.8052\n",
      "Epoch [74/100], average_loss:0.6428, validation_loss:0.6387, val_accuracy:0.7273\n",
      "Epoch [75/100], average_loss:0.6429, validation_loss:0.6382, val_accuracy:0.6494\n",
      "Epoch [76/100], average_loss:0.6428, validation_loss:0.6381, val_accuracy:0.7273\n",
      "Epoch [77/100], average_loss:0.6435, validation_loss:0.6392, val_accuracy:0.8052\n",
      "Epoch [78/100], average_loss:0.6420, validation_loss:0.6412, val_accuracy:0.8052\n",
      "Epoch [79/100], average_loss:0.6428, validation_loss:0.6377, val_accuracy:0.7662\n",
      "Epoch [80/100], average_loss:0.6424, validation_loss:0.6392, val_accuracy:0.7922\n",
      "Epoch [81/100], average_loss:0.6432, validation_loss:0.6387, val_accuracy:0.8312\n",
      "Epoch [82/100], average_loss:0.6426, validation_loss:0.6378, val_accuracy:0.7922\n",
      "Epoch [83/100], average_loss:0.6429, validation_loss:0.6361, val_accuracy:0.8052\n",
      "Epoch [84/100], average_loss:0.6428, validation_loss:0.6385, val_accuracy:0.7273\n",
      "Epoch [85/100], average_loss:0.6430, validation_loss:0.6376, val_accuracy:0.7662\n",
      "Epoch [86/100], average_loss:0.6429, validation_loss:0.6372, val_accuracy:0.6753\n",
      "Epoch [87/100], average_loss:0.6432, validation_loss:0.6371, val_accuracy:0.7013\n",
      "Epoch [88/100], average_loss:0.6422, validation_loss:0.6373, val_accuracy:0.7403\n",
      "Epoch [89/100], average_loss:0.6432, validation_loss:0.6384, val_accuracy:0.7143\n",
      "Epoch [90/100], average_loss:0.6423, validation_loss:0.6384, val_accuracy:0.6883\n",
      "Epoch [91/100], average_loss:0.6431, validation_loss:0.6365, val_accuracy:0.8052\n",
      "Epoch [92/100], average_loss:0.6427, validation_loss:0.6366, val_accuracy:0.8052\n",
      "Epoch [93/100], average_loss:0.6427, validation_loss:0.6375, val_accuracy:0.7922\n",
      "Epoch [94/100], average_loss:0.6429, validation_loss:0.6369, val_accuracy:0.7143\n",
      "Epoch [95/100], average_loss:0.6431, validation_loss:0.6377, val_accuracy:0.6753\n",
      "Epoch [96/100], average_loss:0.6430, validation_loss:0.6386, val_accuracy:0.6883\n",
      "Epoch [97/100], average_loss:0.6433, validation_loss:0.6382, val_accuracy:0.7143\n",
      "Epoch [98/100], average_loss:0.6426, validation_loss:0.6376, val_accuracy:0.7662\n",
      "Epoch [99/100], average_loss:0.6427, validation_loss:0.6372, val_accuracy:0.7143\n",
      "Epoch [100/100], average_loss:0.6428, validation_loss:0.6379, val_accuracy:0.8571\n"
     ]
    }
   ],
   "source": [
    "lh = m2(epochs=100, train_loader=train_loader, validation_loader=valid_loader)"
   ]
  },
  {
   "cell_type": "code",
   "execution_count": 59,
   "metadata": {},
   "outputs": [],
   "source": [
    "m2.tb.close()"
   ]
  },
  {
   "cell_type": "code",
   "execution_count": 60,
   "metadata": {},
   "outputs": [],
   "source": [
    "m2.model.eval()\n",
    "with torch.no_grad():\n",
    "    x_pred = np.argmax(m2.model(torch.tensor(X_test).float().to(m2.device)).cpu().detach(), axis=1)\n"
   ]
  },
  {
   "cell_type": "code",
   "execution_count": 61,
   "metadata": {},
   "outputs": [
    {
     "data": {
      "text/plain": [
       "tensor([1, 1, 1,  ..., 0, 1, 0])"
      ]
     },
     "execution_count": 61,
     "metadata": {},
     "output_type": "execute_result"
    }
   ],
   "source": [
    "x_pred"
   ]
  },
  {
   "cell_type": "code",
   "execution_count": 62,
   "metadata": {},
   "outputs": [
    {
     "data": {
      "text/plain": [
       "0.7008171233424978"
      ]
     },
     "execution_count": 62,
     "metadata": {},
     "output_type": "execute_result"
    }
   ],
   "source": [
    "f1_score(y_true=y_test, y_pred=x_pred, average=\"macro\")"
   ]
  },
  {
   "cell_type": "code",
   "execution_count": 63,
   "metadata": {},
   "outputs": [
    {
     "data": {
      "text/plain": [
       "0.7609942638623327"
      ]
     },
     "execution_count": 63,
     "metadata": {},
     "output_type": "execute_result"
    }
   ],
   "source": [
    "accuracy_score(y_true=y_test, y_pred=x_pred)"
   ]
  },
  {
   "cell_type": "code",
   "execution_count": 64,
   "metadata": {
    "scrolled": true
   },
   "outputs": [
    {
     "data": {
      "text/plain": [
       "array([[2055, 2102,   15,   63],\n",
       "       [ 703, 9456,   47,  239],\n",
       "       [  47,   79,  342,   11],\n",
       "       [ 250,  430,   14,  883]], dtype=int64)"
      ]
     },
     "execution_count": 64,
     "metadata": {},
     "output_type": "execute_result"
    }
   ],
   "source": [
    "confusion_matrix(y_true=y_test, y_pred=x_pred)"
   ]
  },
  {
   "cell_type": "markdown",
   "metadata": {},
   "source": [
    "# M.3"
   ]
  },
  {
   "cell_type": "code",
   "execution_count": 67,
   "metadata": {},
   "outputs": [],
   "source": [
    "DNN3 = nn.Sequential(\n",
    "            nn.Linear(in_features=15, out_features=125),\n",
    "            nn.Sigmoid(),\n",
    "            nn.Linear(in_features=125, out_features=4),\n",
    ")"
   ]
  },
  {
   "cell_type": "code",
   "execution_count": 68,
   "metadata": {},
   "outputs": [],
   "source": [
    "optimizer= torch.optim.Adam(DNN3.parameters(), lr=1e-2)"
   ]
  },
  {
   "cell_type": "code",
   "execution_count": 69,
   "metadata": {},
   "outputs": [
    {
     "name": "stdout",
     "output_type": "stream",
     "text": [
      "cuda:0\n"
     ]
    }
   ],
   "source": [
    "m3 = Trainer(\n",
    "        model=DNN3,\n",
    "        optimizer=optimizer,\n",
    "        loss_function=nn.CrossEntropyLoss(),\n",
    "        #scheduler=torch.optim.lr_scheduler.MultiStepLR(optimizer, milestones=[10], gamma=0.1),\n",
    "        tensorboard=True,\n",
    "        model_name=\"DNN_latent_space_m.III_lr-1e-2_bs-128\",\n",
    "        verbose=True\n",
    "        )"
   ]
  },
  {
   "cell_type": "code",
   "execution_count": 70,
   "metadata": {},
   "outputs": [
    {
     "name": "stdout",
     "output_type": "stream",
     "text": [
      "Epoch [1/100], average_loss:0.6496, validation_loss:0.5666, val_accuracy:0.7532\n",
      "Epoch [2/100], average_loss:0.5141, validation_loss:0.4692, val_accuracy:0.8701\n",
      "Epoch [3/100], average_loss:0.4590, validation_loss:0.4450, val_accuracy:0.8442\n",
      "Epoch [4/100], average_loss:0.4354, validation_loss:0.4358, val_accuracy:0.8052\n",
      "Epoch [5/100], average_loss:0.4229, validation_loss:0.4323, val_accuracy:0.7792\n",
      "Epoch [6/100], average_loss:0.4152, validation_loss:0.4302, val_accuracy:0.8961\n",
      "Epoch [7/100], average_loss:0.4068, validation_loss:0.4213, val_accuracy:0.8182\n",
      "Epoch [8/100], average_loss:0.4019, validation_loss:0.4154, val_accuracy:0.9221\n",
      "Epoch [9/100], average_loss:0.3947, validation_loss:0.4156, val_accuracy:0.8052\n",
      "Epoch [10/100], average_loss:0.3895, validation_loss:0.4016, val_accuracy:0.8701\n",
      "Epoch [11/100], average_loss:0.3867, validation_loss:0.3948, val_accuracy:0.8571\n",
      "Epoch [12/100], average_loss:0.3807, validation_loss:0.4061, val_accuracy:0.8961\n",
      "Epoch [13/100], average_loss:0.3775, validation_loss:0.4041, val_accuracy:0.8961\n",
      "Epoch [14/100], average_loss:0.3734, validation_loss:0.3923, val_accuracy:0.8442\n",
      "Epoch [15/100], average_loss:0.3707, validation_loss:0.3920, val_accuracy:0.8701\n",
      "Epoch [16/100], average_loss:0.3667, validation_loss:0.3970, val_accuracy:0.8961\n",
      "Epoch [17/100], average_loss:0.3643, validation_loss:0.3941, val_accuracy:0.8312\n",
      "Epoch [18/100], average_loss:0.3614, validation_loss:0.3844, val_accuracy:0.8961\n",
      "Epoch [19/100], average_loss:0.3592, validation_loss:0.3886, val_accuracy:0.8052\n",
      "Epoch [20/100], average_loss:0.3580, validation_loss:0.3996, val_accuracy:0.8701\n",
      "Epoch [21/100], average_loss:0.3546, validation_loss:0.3837, val_accuracy:0.8571\n",
      "Epoch [22/100], average_loss:0.3524, validation_loss:0.3904, val_accuracy:0.8701\n",
      "Epoch [23/100], average_loss:0.3508, validation_loss:0.3932, val_accuracy:0.8701\n",
      "Epoch [24/100], average_loss:0.3476, validation_loss:0.3901, val_accuracy:0.9091\n",
      "Epoch [25/100], average_loss:0.3451, validation_loss:0.3860, val_accuracy:0.7792\n",
      "Epoch [26/100], average_loss:0.3446, validation_loss:0.3934, val_accuracy:0.8701\n",
      "Epoch [27/100], average_loss:0.3463, validation_loss:0.3839, val_accuracy:0.8701\n",
      "Epoch [28/100], average_loss:0.3428, validation_loss:0.3859, val_accuracy:0.8701\n",
      "Epoch [29/100], average_loss:0.3397, validation_loss:0.3945, val_accuracy:0.7532\n",
      "Epoch [30/100], average_loss:0.3388, validation_loss:0.3897, val_accuracy:0.8442\n",
      "Epoch [31/100], average_loss:0.3396, validation_loss:0.3962, val_accuracy:0.8182\n",
      "Epoch [32/100], average_loss:0.3366, validation_loss:0.3895, val_accuracy:0.8442\n",
      "Epoch [33/100], average_loss:0.3359, validation_loss:0.3836, val_accuracy:0.9221\n",
      "Epoch [34/100], average_loss:0.3351, validation_loss:0.3829, val_accuracy:0.8312\n",
      "Epoch [35/100], average_loss:0.3325, validation_loss:0.4129, val_accuracy:0.8701\n",
      "Epoch [36/100], average_loss:0.3325, validation_loss:0.3869, val_accuracy:0.8571\n",
      "Epoch [37/100], average_loss:0.3303, validation_loss:0.3914, val_accuracy:0.8831\n",
      "Epoch [38/100], average_loss:0.3328, validation_loss:0.4033, val_accuracy:0.9091\n",
      "Epoch [39/100], average_loss:0.3312, validation_loss:0.3927, val_accuracy:0.8701\n",
      "Epoch [40/100], average_loss:0.3281, validation_loss:0.3865, val_accuracy:0.8442\n",
      "Epoch [41/100], average_loss:0.3291, validation_loss:0.3896, val_accuracy:0.7403\n",
      "Epoch [42/100], average_loss:0.3271, validation_loss:0.3990, val_accuracy:0.8831\n",
      "Epoch [43/100], average_loss:0.3260, validation_loss:0.4013, val_accuracy:0.8571\n",
      "Epoch [44/100], average_loss:0.3270, validation_loss:0.3926, val_accuracy:0.8831\n",
      "Epoch [45/100], average_loss:0.3245, validation_loss:0.3942, val_accuracy:0.8961\n",
      "Epoch [46/100], average_loss:0.3239, validation_loss:0.3963, val_accuracy:0.8052\n",
      "Epoch [47/100], average_loss:0.3237, validation_loss:0.3840, val_accuracy:0.8961\n",
      "Epoch [48/100], average_loss:0.3240, validation_loss:0.3894, val_accuracy:0.8701\n",
      "Epoch [49/100], average_loss:0.3233, validation_loss:0.3976, val_accuracy:0.8442\n",
      "Epoch [50/100], average_loss:0.3233, validation_loss:0.3932, val_accuracy:0.7922\n",
      "Epoch [51/100], average_loss:0.3220, validation_loss:0.3884, val_accuracy:0.8831\n",
      "Epoch [52/100], average_loss:0.3206, validation_loss:0.3903, val_accuracy:0.7922\n",
      "Epoch [53/100], average_loss:0.3205, validation_loss:0.3919, val_accuracy:0.8571\n",
      "Epoch [54/100], average_loss:0.3222, validation_loss:0.3935, val_accuracy:0.8312\n",
      "Epoch [55/100], average_loss:0.3216, validation_loss:0.3937, val_accuracy:0.8312\n",
      "Epoch [56/100], average_loss:0.3202, validation_loss:0.3978, val_accuracy:0.8701\n",
      "Epoch [57/100], average_loss:0.3194, validation_loss:0.3952, val_accuracy:0.8831\n",
      "Epoch [58/100], average_loss:0.3188, validation_loss:0.3948, val_accuracy:0.8442\n",
      "Epoch [59/100], average_loss:0.3185, validation_loss:0.4000, val_accuracy:0.8182\n",
      "Epoch [60/100], average_loss:0.3180, validation_loss:0.3929, val_accuracy:0.8571\n",
      "Epoch [61/100], average_loss:0.3178, validation_loss:0.3927, val_accuracy:0.7532\n",
      "Epoch [62/100], average_loss:0.3178, validation_loss:0.3933, val_accuracy:0.8182\n",
      "Epoch [63/100], average_loss:0.3183, validation_loss:0.4175, val_accuracy:0.8052\n",
      "Epoch [64/100], average_loss:0.3194, validation_loss:0.3960, val_accuracy:0.8571\n",
      "Epoch [65/100], average_loss:0.3176, validation_loss:0.3984, val_accuracy:0.8182\n",
      "Epoch [66/100], average_loss:0.3159, validation_loss:0.3917, val_accuracy:0.8831\n",
      "Epoch [67/100], average_loss:0.3173, validation_loss:0.3889, val_accuracy:0.8052\n",
      "Epoch [68/100], average_loss:0.3168, validation_loss:0.4010, val_accuracy:0.8052\n",
      "Epoch [69/100], average_loss:0.3159, validation_loss:0.3941, val_accuracy:0.8701\n",
      "Epoch [70/100], average_loss:0.3158, validation_loss:0.4030, val_accuracy:0.8961\n",
      "Epoch [71/100], average_loss:0.3154, validation_loss:0.3927, val_accuracy:0.8701\n",
      "Epoch [72/100], average_loss:0.3150, validation_loss:0.3941, val_accuracy:0.8571\n",
      "Epoch [73/100], average_loss:0.3174, validation_loss:0.3941, val_accuracy:0.7792\n",
      "Epoch [74/100], average_loss:0.3143, validation_loss:0.3964, val_accuracy:0.8961\n",
      "Epoch [75/100], average_loss:0.3140, validation_loss:0.4111, val_accuracy:0.9091\n",
      "Epoch [76/100], average_loss:0.3156, validation_loss:0.3935, val_accuracy:0.7922\n",
      "Epoch [77/100], average_loss:0.3169, validation_loss:0.4078, val_accuracy:0.7922\n",
      "Epoch [78/100], average_loss:0.3138, validation_loss:0.4093, val_accuracy:0.8182\n",
      "Epoch [79/100], average_loss:0.3148, validation_loss:0.4076, val_accuracy:0.8701\n",
      "Epoch [80/100], average_loss:0.3128, validation_loss:0.4007, val_accuracy:0.7922\n",
      "Epoch [81/100], average_loss:0.3143, validation_loss:0.4017, val_accuracy:0.7792\n",
      "Epoch [82/100], average_loss:0.3150, validation_loss:0.4032, val_accuracy:0.8442\n",
      "Epoch [83/100], average_loss:0.3128, validation_loss:0.4024, val_accuracy:0.8182\n",
      "Epoch [84/100], average_loss:0.3144, validation_loss:0.4000, val_accuracy:0.8312\n",
      "Epoch [85/100], average_loss:0.3122, validation_loss:0.4125, val_accuracy:0.8182\n",
      "Epoch [86/100], average_loss:0.3127, validation_loss:0.4023, val_accuracy:0.8442\n",
      "Epoch [87/100], average_loss:0.3141, validation_loss:0.4015, val_accuracy:0.8571\n",
      "Epoch [88/100], average_loss:0.3124, validation_loss:0.4032, val_accuracy:0.8701\n",
      "Epoch [89/100], average_loss:0.3127, validation_loss:0.3959, val_accuracy:0.9351\n",
      "Epoch [90/100], average_loss:0.3117, validation_loss:0.4015, val_accuracy:0.8312\n",
      "Epoch [91/100], average_loss:0.3121, validation_loss:0.3969, val_accuracy:0.8571\n",
      "Epoch [92/100], average_loss:0.3120, validation_loss:0.4021, val_accuracy:0.8701\n",
      "Epoch [93/100], average_loss:0.3112, validation_loss:0.4037, val_accuracy:0.7922\n",
      "Epoch [94/100], average_loss:0.3104, validation_loss:0.4000, val_accuracy:0.8442\n",
      "Epoch [95/100], average_loss:0.3120, validation_loss:0.4083, val_accuracy:0.8831\n",
      "Epoch [96/100], average_loss:0.3095, validation_loss:0.4058, val_accuracy:0.8831\n",
      "Epoch [97/100], average_loss:0.3100, validation_loss:0.4037, val_accuracy:0.8831\n",
      "Epoch [98/100], average_loss:0.3112, validation_loss:0.3996, val_accuracy:0.8701\n",
      "Epoch [99/100], average_loss:0.3113, validation_loss:0.4104, val_accuracy:0.8571\n",
      "Epoch [100/100], average_loss:0.3108, validation_loss:0.4017, val_accuracy:0.8831\n"
     ]
    }
   ],
   "source": [
    "lh = m3(epochs=100, train_loader=train_loader, validation_loader=valid_loader)"
   ]
  },
  {
   "cell_type": "code",
   "execution_count": 71,
   "metadata": {},
   "outputs": [],
   "source": [
    "m3.tb.close()"
   ]
  },
  {
   "cell_type": "code",
   "execution_count": 72,
   "metadata": {},
   "outputs": [],
   "source": [
    "m3.model.eval()\n",
    "with torch.no_grad():\n",
    "    x_pred = np.argmax(m3.model(torch.tensor(X_test).float().to(m3.device)).cpu().detach(), axis=1)\n"
   ]
  },
  {
   "cell_type": "code",
   "execution_count": 73,
   "metadata": {},
   "outputs": [
    {
     "data": {
      "text/plain": [
       "tensor([1, 1, 1,  ..., 0, 1, 0])"
      ]
     },
     "execution_count": 73,
     "metadata": {},
     "output_type": "execute_result"
    }
   ],
   "source": [
    "x_pred"
   ]
  },
  {
   "cell_type": "code",
   "execution_count": 74,
   "metadata": {},
   "outputs": [
    {
     "data": {
      "text/plain": [
       "0.8089129250103856"
      ]
     },
     "execution_count": 74,
     "metadata": {},
     "output_type": "execute_result"
    }
   ],
   "source": [
    "f1_score(y_true=y_test, y_pred=x_pred, average=\"macro\")"
   ]
  },
  {
   "cell_type": "code",
   "execution_count": 75,
   "metadata": {},
   "outputs": [
    {
     "data": {
      "text/plain": [
       "0.8469168260038241"
      ]
     },
     "execution_count": 75,
     "metadata": {},
     "output_type": "execute_result"
    }
   ],
   "source": [
    "accuracy_score(y_true=y_test, y_pred=x_pred)"
   ]
  },
  {
   "cell_type": "code",
   "execution_count": 76,
   "metadata": {
    "scrolled": true
   },
   "outputs": [
    {
     "data": {
      "text/plain": [
       "array([[3197,  864,   14,  160],\n",
       "       [ 866, 9401,   47,  131],\n",
       "       [  37,   35,  379,   28],\n",
       "       [ 198,  169,   13, 1197]], dtype=int64)"
      ]
     },
     "execution_count": 76,
     "metadata": {},
     "output_type": "execute_result"
    }
   ],
   "source": [
    "confusion_matrix(y_true=y_test, y_pred=x_pred)"
   ]
  },
  {
   "cell_type": "markdown",
   "metadata": {},
   "source": [
    "## lr=0.001"
   ]
  },
  {
   "cell_type": "code",
   "execution_count": 77,
   "metadata": {},
   "outputs": [],
   "source": [
    "DNN3 = nn.Sequential(\n",
    "            nn.Linear(in_features=15, out_features=128),\n",
    "            nn.Sigmoid(),\n",
    "            nn.Linear(in_features=128, out_features=4),\n",
    ")"
   ]
  },
  {
   "cell_type": "code",
   "execution_count": 78,
   "metadata": {},
   "outputs": [],
   "source": [
    "optimizer= torch.optim.Adam(DNN3.parameters(), lr=1e-2)"
   ]
  },
  {
   "cell_type": "code",
   "execution_count": 79,
   "metadata": {},
   "outputs": [
    {
     "name": "stdout",
     "output_type": "stream",
     "text": [
      "cuda:0\n"
     ]
    }
   ],
   "source": [
    "m3 = Trainer(\n",
    "        model=DNN3,\n",
    "        optimizer=optimizer,\n",
    "        loss_function=nn.CrossEntropyLoss(),\n",
    "        scheduler=torch.optim.lr_scheduler.MultiStepLR(optimizer, milestones=[40], gamma=0.1),\n",
    "        tensorboard=True,\n",
    "        model_name=\"DNN_latent_space_m.III_lr-{1e-2,1e-3}_bs-128\",\n",
    "        verbose=True\n",
    "        )"
   ]
  },
  {
   "cell_type": "code",
   "execution_count": 80,
   "metadata": {},
   "outputs": [
    {
     "name": "stdout",
     "output_type": "stream",
     "text": [
      "Epoch [1/100], average_loss:0.6570, validation_loss:0.5778, val_accuracy:0.7403\n",
      "Epoch [2/100], average_loss:0.5137, validation_loss:0.4833, val_accuracy:0.8442\n",
      "Epoch [3/100], average_loss:0.4579, validation_loss:0.4431, val_accuracy:0.8442\n",
      "Epoch [4/100], average_loss:0.4352, validation_loss:0.4391, val_accuracy:0.8182\n",
      "Epoch [5/100], average_loss:0.4221, validation_loss:0.4272, val_accuracy:0.7792\n",
      "Epoch [6/100], average_loss:0.4141, validation_loss:0.4139, val_accuracy:0.8312\n",
      "Epoch [7/100], average_loss:0.4032, validation_loss:0.4144, val_accuracy:0.8571\n",
      "Epoch [8/100], average_loss:0.3956, validation_loss:0.4083, val_accuracy:0.8831\n",
      "Epoch [9/100], average_loss:0.3909, validation_loss:0.4016, val_accuracy:0.8312\n",
      "Epoch [10/100], average_loss:0.3845, validation_loss:0.3977, val_accuracy:0.8442\n",
      "Epoch [11/100], average_loss:0.3794, validation_loss:0.3954, val_accuracy:0.8052\n",
      "Epoch [12/100], average_loss:0.3751, validation_loss:0.3955, val_accuracy:0.8442\n",
      "Epoch [13/100], average_loss:0.3709, validation_loss:0.4011, val_accuracy:0.8571\n",
      "Epoch [14/100], average_loss:0.3688, validation_loss:0.3848, val_accuracy:0.8182\n",
      "Epoch [15/100], average_loss:0.3635, validation_loss:0.4004, val_accuracy:0.8442\n",
      "Epoch [16/100], average_loss:0.3623, validation_loss:0.3842, val_accuracy:0.8052\n",
      "Epoch [17/100], average_loss:0.3597, validation_loss:0.4032, val_accuracy:0.8312\n",
      "Epoch [18/100], average_loss:0.3566, validation_loss:0.3821, val_accuracy:0.8961\n",
      "Epoch [19/100], average_loss:0.3525, validation_loss:0.3811, val_accuracy:0.8312\n",
      "Epoch [20/100], average_loss:0.3515, validation_loss:0.3905, val_accuracy:0.8052\n",
      "Epoch [21/100], average_loss:0.3488, validation_loss:0.3953, val_accuracy:0.8442\n",
      "Epoch [22/100], average_loss:0.3480, validation_loss:0.3858, val_accuracy:0.8312\n",
      "Epoch [23/100], average_loss:0.3452, validation_loss:0.4020, val_accuracy:0.8831\n",
      "Epoch [24/100], average_loss:0.3451, validation_loss:0.3846, val_accuracy:0.7922\n",
      "Epoch [25/100], average_loss:0.3434, validation_loss:0.3838, val_accuracy:0.7662\n",
      "Epoch [26/100], average_loss:0.3425, validation_loss:0.3917, val_accuracy:0.8442\n",
      "Epoch [27/100], average_loss:0.3416, validation_loss:0.3884, val_accuracy:0.7922\n",
      "Epoch [28/100], average_loss:0.3410, validation_loss:0.4118, val_accuracy:0.8701\n",
      "Epoch [29/100], average_loss:0.3374, validation_loss:0.3899, val_accuracy:0.8442\n",
      "Epoch [30/100], average_loss:0.3360, validation_loss:0.3821, val_accuracy:0.9091\n",
      "Epoch [31/100], average_loss:0.3361, validation_loss:0.4002, val_accuracy:0.8182\n",
      "Epoch [32/100], average_loss:0.3345, validation_loss:0.3898, val_accuracy:0.8442\n",
      "Epoch [33/100], average_loss:0.3368, validation_loss:0.3957, val_accuracy:0.8442\n",
      "Epoch [34/100], average_loss:0.3312, validation_loss:0.3854, val_accuracy:0.8312\n",
      "Epoch [35/100], average_loss:0.3318, validation_loss:0.4074, val_accuracy:0.8052\n",
      "Epoch [36/100], average_loss:0.3321, validation_loss:0.4139, val_accuracy:0.8701\n",
      "Epoch [37/100], average_loss:0.3295, validation_loss:0.3896, val_accuracy:0.8831\n",
      "Epoch [38/100], average_loss:0.3294, validation_loss:0.3910, val_accuracy:0.8831\n",
      "Epoch [39/100], average_loss:0.3296, validation_loss:0.3902, val_accuracy:0.8831\n",
      "Epoch [40/100], average_loss:0.3269, validation_loss:0.3893, val_accuracy:0.8182\n",
      "Epoch [41/100], average_loss:0.3098, validation_loss:0.3825, val_accuracy:0.7143\n",
      "Epoch [42/100], average_loss:0.3086, validation_loss:0.3803, val_accuracy:0.8571\n",
      "Epoch [43/100], average_loss:0.3085, validation_loss:0.3815, val_accuracy:0.8701\n",
      "Epoch [44/100], average_loss:0.3078, validation_loss:0.3840, val_accuracy:0.8442\n",
      "Epoch [45/100], average_loss:0.3080, validation_loss:0.3821, val_accuracy:0.8701\n",
      "Epoch [46/100], average_loss:0.3077, validation_loss:0.3831, val_accuracy:0.8052\n",
      "Epoch [47/100], average_loss:0.3072, validation_loss:0.3832, val_accuracy:0.7922\n",
      "Epoch [48/100], average_loss:0.3073, validation_loss:0.3821, val_accuracy:0.8961\n",
      "Epoch [49/100], average_loss:0.3072, validation_loss:0.3832, val_accuracy:0.8182\n",
      "Epoch [50/100], average_loss:0.3072, validation_loss:0.3830, val_accuracy:0.8052\n",
      "Epoch [51/100], average_loss:0.3071, validation_loss:0.3817, val_accuracy:0.8052\n",
      "Epoch [52/100], average_loss:0.3067, validation_loss:0.3840, val_accuracy:0.8052\n",
      "Epoch [53/100], average_loss:0.3068, validation_loss:0.3836, val_accuracy:0.8831\n",
      "Epoch [54/100], average_loss:0.3067, validation_loss:0.3840, val_accuracy:0.8571\n",
      "Epoch [55/100], average_loss:0.3066, validation_loss:0.3838, val_accuracy:0.8831\n",
      "Epoch [56/100], average_loss:0.3066, validation_loss:0.3830, val_accuracy:0.8571\n",
      "Epoch [57/100], average_loss:0.3067, validation_loss:0.3827, val_accuracy:0.8312\n",
      "Epoch [58/100], average_loss:0.3069, validation_loss:0.3848, val_accuracy:0.9091\n",
      "Epoch [59/100], average_loss:0.3062, validation_loss:0.3820, val_accuracy:0.9221\n",
      "Epoch [60/100], average_loss:0.3062, validation_loss:0.3835, val_accuracy:0.8961\n",
      "Epoch [61/100], average_loss:0.3061, validation_loss:0.3832, val_accuracy:0.8312\n",
      "Epoch [62/100], average_loss:0.3057, validation_loss:0.3827, val_accuracy:0.8442\n",
      "Epoch [63/100], average_loss:0.3060, validation_loss:0.3823, val_accuracy:0.8701\n",
      "Epoch [64/100], average_loss:0.3059, validation_loss:0.3840, val_accuracy:0.7922\n",
      "Epoch [65/100], average_loss:0.3057, validation_loss:0.3862, val_accuracy:0.8052\n",
      "Epoch [66/100], average_loss:0.3057, validation_loss:0.3835, val_accuracy:0.8442\n",
      "Epoch [67/100], average_loss:0.3059, validation_loss:0.3845, val_accuracy:0.8961\n",
      "Epoch [68/100], average_loss:0.3053, validation_loss:0.3840, val_accuracy:0.8961\n",
      "Epoch [69/100], average_loss:0.3056, validation_loss:0.3844, val_accuracy:0.8571\n",
      "Epoch [70/100], average_loss:0.3052, validation_loss:0.3853, val_accuracy:0.8182\n",
      "Epoch [71/100], average_loss:0.3052, validation_loss:0.3844, val_accuracy:0.7532\n",
      "Epoch [72/100], average_loss:0.3053, validation_loss:0.3843, val_accuracy:0.7922\n",
      "Epoch [73/100], average_loss:0.3052, validation_loss:0.3836, val_accuracy:0.8961\n",
      "Epoch [74/100], average_loss:0.3052, validation_loss:0.3836, val_accuracy:0.8831\n",
      "Epoch [75/100], average_loss:0.3051, validation_loss:0.3864, val_accuracy:0.8312\n",
      "Epoch [76/100], average_loss:0.3049, validation_loss:0.3843, val_accuracy:0.8442\n",
      "Epoch [77/100], average_loss:0.3048, validation_loss:0.3853, val_accuracy:0.8701\n",
      "Epoch [78/100], average_loss:0.3051, validation_loss:0.3851, val_accuracy:0.8442\n",
      "Epoch [79/100], average_loss:0.3051, validation_loss:0.3848, val_accuracy:0.8571\n",
      "Epoch [80/100], average_loss:0.3055, validation_loss:0.3840, val_accuracy:0.9091\n",
      "Epoch [81/100], average_loss:0.3045, validation_loss:0.3856, val_accuracy:0.8052\n",
      "Epoch [82/100], average_loss:0.3046, validation_loss:0.3857, val_accuracy:0.8312\n",
      "Epoch [83/100], average_loss:0.3048, validation_loss:0.3853, val_accuracy:0.8701\n",
      "Epoch [84/100], average_loss:0.3048, validation_loss:0.3847, val_accuracy:0.8831\n",
      "Epoch [85/100], average_loss:0.3042, validation_loss:0.3859, val_accuracy:0.8831\n",
      "Epoch [86/100], average_loss:0.3045, validation_loss:0.3860, val_accuracy:0.8701\n",
      "Epoch [87/100], average_loss:0.3046, validation_loss:0.3858, val_accuracy:0.8442\n",
      "Epoch [88/100], average_loss:0.3047, validation_loss:0.3871, val_accuracy:0.7922\n",
      "Epoch [89/100], average_loss:0.3043, validation_loss:0.3857, val_accuracy:0.8831\n",
      "Epoch [90/100], average_loss:0.3040, validation_loss:0.3856, val_accuracy:0.8182\n",
      "Epoch [91/100], average_loss:0.3042, validation_loss:0.3866, val_accuracy:0.8312\n",
      "Epoch [92/100], average_loss:0.3043, validation_loss:0.3866, val_accuracy:0.8182\n",
      "Epoch [93/100], average_loss:0.3041, validation_loss:0.3871, val_accuracy:0.8312\n",
      "Epoch [94/100], average_loss:0.3041, validation_loss:0.3856, val_accuracy:0.8831\n",
      "Epoch [95/100], average_loss:0.3038, validation_loss:0.3866, val_accuracy:0.7922\n",
      "Epoch [96/100], average_loss:0.3041, validation_loss:0.3883, val_accuracy:0.8442\n",
      "Epoch [97/100], average_loss:0.3039, validation_loss:0.3860, val_accuracy:0.8442\n",
      "Epoch [98/100], average_loss:0.3040, validation_loss:0.3873, val_accuracy:0.7922\n",
      "Epoch [99/100], average_loss:0.3033, validation_loss:0.3867, val_accuracy:0.8442\n",
      "Epoch [100/100], average_loss:0.3038, validation_loss:0.3872, val_accuracy:0.8701\n"
     ]
    }
   ],
   "source": [
    "lh = m3(epochs=100, train_loader=train_loader, validation_loader=valid_loader)"
   ]
  },
  {
   "cell_type": "code",
   "execution_count": 81,
   "metadata": {},
   "outputs": [],
   "source": [
    "m3.tb.close()"
   ]
  },
  {
   "cell_type": "code",
   "execution_count": 82,
   "metadata": {},
   "outputs": [],
   "source": [
    "m3.model.eval()\n",
    "with torch.no_grad():\n",
    "    x_pred = np.argmax(m3.model(torch.tensor(X_test).float().to(m3.device)).cpu().detach(), axis=1)\n"
   ]
  },
  {
   "cell_type": "code",
   "execution_count": 83,
   "metadata": {},
   "outputs": [
    {
     "data": {
      "text/plain": [
       "tensor([1, 1, 1,  ..., 3, 1, 0])"
      ]
     },
     "execution_count": 83,
     "metadata": {},
     "output_type": "execute_result"
    }
   ],
   "source": [
    "x_pred"
   ]
  },
  {
   "cell_type": "code",
   "execution_count": 84,
   "metadata": {},
   "outputs": [
    {
     "data": {
      "text/plain": [
       "0.8104041592404143"
      ]
     },
     "execution_count": 84,
     "metadata": {},
     "output_type": "execute_result"
    }
   ],
   "source": [
    "f1_score(y_true=y_test, y_pred=x_pred, average=\"macro\")"
   ]
  },
  {
   "cell_type": "code",
   "execution_count": 85,
   "metadata": {},
   "outputs": [
    {
     "data": {
      "text/plain": [
       "0.8503226577437859"
      ]
     },
     "execution_count": 85,
     "metadata": {},
     "output_type": "execute_result"
    }
   ],
   "source": [
    "accuracy_score(y_true=y_test, y_pred=x_pred)"
   ]
  },
  {
   "cell_type": "code",
   "execution_count": 86,
   "metadata": {
    "scrolled": true
   },
   "outputs": [
    {
     "data": {
      "text/plain": [
       "array([[3021, 1060,   26,  128],\n",
       "       [ 643, 9615,   51,  136],\n",
       "       [  23,   46,  395,   15],\n",
       "       [ 214,  140,   23, 1200]], dtype=int64)"
      ]
     },
     "execution_count": 86,
     "metadata": {},
     "output_type": "execute_result"
    }
   ],
   "source": [
    "confusion_matrix(y_true=y_test, y_pred=x_pred)"
   ]
  },
  {
   "cell_type": "markdown",
   "metadata": {},
   "source": [
    "## scheduler and bs = 256"
   ]
  },
  {
   "cell_type": "code",
   "execution_count": 92,
   "metadata": {},
   "outputs": [],
   "source": [
    "train_loader = torch.utils.data.DataLoader(dataset = train, batch_size=256, shuffle=True)\n",
    "valid_loader = torch.utils.data.DataLoader(dataset = valid, batch_size=256, shuffle=True)"
   ]
  },
  {
   "cell_type": "code",
   "execution_count": 93,
   "metadata": {},
   "outputs": [],
   "source": [
    "DNN3 = nn.Sequential(\n",
    "            nn.Linear(in_features=15, out_features=128),\n",
    "            nn.Sigmoid(),\n",
    "            nn.Linear(in_features=128, out_features=4),\n",
    ")"
   ]
  },
  {
   "cell_type": "code",
   "execution_count": 94,
   "metadata": {},
   "outputs": [],
   "source": [
    "optimizer= torch.optim.Adam(DNN3.parameters(), lr=1e-2)"
   ]
  },
  {
   "cell_type": "code",
   "execution_count": 95,
   "metadata": {},
   "outputs": [
    {
     "name": "stdout",
     "output_type": "stream",
     "text": [
      "cuda:0\n"
     ]
    }
   ],
   "source": [
    "m3 = Trainer(\n",
    "        model=DNN3,\n",
    "        optimizer=optimizer,\n",
    "        loss_function=nn.CrossEntropyLoss(),\n",
    "        scheduler=torch.optim.lr_scheduler.MultiStepLR(optimizer, milestones=[40], gamma=0.1),\n",
    "        tensorboard=True,\n",
    "        model_name=\"DNN_latent_space_m.III_lr-{1e-2,1e-3}_bs-256\",\n",
    "        verbose=True\n",
    "        )"
   ]
  },
  {
   "cell_type": "code",
   "execution_count": 96,
   "metadata": {},
   "outputs": [
    {
     "name": "stdout",
     "output_type": "stream",
     "text": [
      "Epoch [1/100], average_loss:0.6863, validation_loss:0.6075, val_accuracy:0.8182\n",
      "Epoch [2/100], average_loss:0.5881, validation_loss:0.5502, val_accuracy:0.7403\n",
      "Epoch [3/100], average_loss:0.5102, validation_loss:0.4767, val_accuracy:0.8571\n",
      "Epoch [4/100], average_loss:0.4653, validation_loss:0.4579, val_accuracy:0.8701\n",
      "Epoch [5/100], average_loss:0.4437, validation_loss:0.4435, val_accuracy:0.8312\n",
      "Epoch [6/100], average_loss:0.4339, validation_loss:0.4407, val_accuracy:0.8182\n",
      "Epoch [7/100], average_loss:0.4250, validation_loss:0.4409, val_accuracy:0.8182\n",
      "Epoch [8/100], average_loss:0.4191, validation_loss:0.4236, val_accuracy:0.8442\n",
      "Epoch [9/100], average_loss:0.4129, validation_loss:0.4120, val_accuracy:0.8961\n",
      "Epoch [10/100], average_loss:0.4048, validation_loss:0.4309, val_accuracy:0.7662\n",
      "Epoch [11/100], average_loss:0.4003, validation_loss:0.4080, val_accuracy:0.8831\n",
      "Epoch [12/100], average_loss:0.3931, validation_loss:0.4106, val_accuracy:0.9091\n",
      "Epoch [13/100], average_loss:0.3911, validation_loss:0.4080, val_accuracy:0.8182\n",
      "Epoch [14/100], average_loss:0.3871, validation_loss:0.4073, val_accuracy:0.8571\n",
      "Epoch [15/100], average_loss:0.3835, validation_loss:0.3940, val_accuracy:0.8442\n",
      "Epoch [16/100], average_loss:0.3778, validation_loss:0.3996, val_accuracy:0.8182\n",
      "Epoch [17/100], average_loss:0.3753, validation_loss:0.4022, val_accuracy:0.8701\n",
      "Epoch [18/100], average_loss:0.3717, validation_loss:0.3970, val_accuracy:0.8442\n",
      "Epoch [19/100], average_loss:0.3694, validation_loss:0.3954, val_accuracy:0.8052\n",
      "Epoch [20/100], average_loss:0.3644, validation_loss:0.3922, val_accuracy:0.8442\n",
      "Epoch [21/100], average_loss:0.3637, validation_loss:0.3922, val_accuracy:0.8571\n",
      "Epoch [22/100], average_loss:0.3617, validation_loss:0.4016, val_accuracy:0.8312\n",
      "Epoch [23/100], average_loss:0.3641, validation_loss:0.3905, val_accuracy:0.8442\n",
      "Epoch [24/100], average_loss:0.3579, validation_loss:0.3983, val_accuracy:0.8182\n",
      "Epoch [25/100], average_loss:0.3524, validation_loss:0.3876, val_accuracy:0.8052\n",
      "Epoch [26/100], average_loss:0.3523, validation_loss:0.3919, val_accuracy:0.8052\n",
      "Epoch [27/100], average_loss:0.3518, validation_loss:0.3863, val_accuracy:0.7662\n",
      "Epoch [28/100], average_loss:0.3513, validation_loss:0.3932, val_accuracy:0.7532\n",
      "Epoch [29/100], average_loss:0.3486, validation_loss:0.3974, val_accuracy:0.8312\n",
      "Epoch [30/100], average_loss:0.3479, validation_loss:0.3855, val_accuracy:0.8442\n",
      "Epoch [31/100], average_loss:0.3448, validation_loss:0.3861, val_accuracy:0.8312\n",
      "Epoch [32/100], average_loss:0.3435, validation_loss:0.3901, val_accuracy:0.7013\n",
      "Epoch [33/100], average_loss:0.3431, validation_loss:0.3837, val_accuracy:0.8571\n",
      "Epoch [34/100], average_loss:0.3422, validation_loss:0.3921, val_accuracy:0.7922\n",
      "Epoch [35/100], average_loss:0.3403, validation_loss:0.3939, val_accuracy:0.8182\n",
      "Epoch [36/100], average_loss:0.3407, validation_loss:0.3877, val_accuracy:0.7662\n",
      "Epoch [37/100], average_loss:0.3363, validation_loss:0.3852, val_accuracy:0.8701\n",
      "Epoch [38/100], average_loss:0.3362, validation_loss:0.3854, val_accuracy:0.8701\n",
      "Epoch [39/100], average_loss:0.3374, validation_loss:0.3882, val_accuracy:0.8571\n",
      "Epoch [40/100], average_loss:0.3344, validation_loss:0.3925, val_accuracy:0.8312\n",
      "Epoch [41/100], average_loss:0.3209, validation_loss:0.3785, val_accuracy:0.8442\n",
      "Epoch [42/100], average_loss:0.3192, validation_loss:0.3790, val_accuracy:0.8182\n",
      "Epoch [43/100], average_loss:0.3184, validation_loss:0.3782, val_accuracy:0.8571\n",
      "Epoch [44/100], average_loss:0.3191, validation_loss:0.3772, val_accuracy:0.8831\n",
      "Epoch [45/100], average_loss:0.3195, validation_loss:0.3782, val_accuracy:0.8312\n",
      "Epoch [46/100], average_loss:0.3189, validation_loss:0.3796, val_accuracy:0.8052\n",
      "Epoch [47/100], average_loss:0.3179, validation_loss:0.3800, val_accuracy:0.8182\n",
      "Epoch [48/100], average_loss:0.3187, validation_loss:0.3775, val_accuracy:0.8571\n",
      "Epoch [49/100], average_loss:0.3183, validation_loss:0.3798, val_accuracy:0.8182\n",
      "Epoch [50/100], average_loss:0.3175, validation_loss:0.3791, val_accuracy:0.8182\n",
      "Epoch [51/100], average_loss:0.3184, validation_loss:0.3783, val_accuracy:0.8571\n",
      "Epoch [52/100], average_loss:0.3183, validation_loss:0.3790, val_accuracy:0.8831\n",
      "Epoch [53/100], average_loss:0.3179, validation_loss:0.3790, val_accuracy:0.8831\n",
      "Epoch [54/100], average_loss:0.3174, validation_loss:0.3786, val_accuracy:0.8701\n",
      "Epoch [55/100], average_loss:0.3174, validation_loss:0.3797, val_accuracy:0.8701\n",
      "Epoch [56/100], average_loss:0.3179, validation_loss:0.3807, val_accuracy:0.8312\n",
      "Epoch [57/100], average_loss:0.3169, validation_loss:0.3816, val_accuracy:0.8312\n",
      "Epoch [58/100], average_loss:0.3173, validation_loss:0.3775, val_accuracy:0.8701\n",
      "Epoch [59/100], average_loss:0.3170, validation_loss:0.3827, val_accuracy:0.7922\n",
      "Epoch [60/100], average_loss:0.3175, validation_loss:0.3781, val_accuracy:0.8701\n",
      "Epoch [61/100], average_loss:0.3171, validation_loss:0.3794, val_accuracy:0.8442\n",
      "Epoch [62/100], average_loss:0.3164, validation_loss:0.3782, val_accuracy:0.8831\n",
      "Epoch [63/100], average_loss:0.3161, validation_loss:0.3801, val_accuracy:0.7922\n",
      "Epoch [64/100], average_loss:0.3160, validation_loss:0.3789, val_accuracy:0.8831\n",
      "Epoch [65/100], average_loss:0.3165, validation_loss:0.3776, val_accuracy:0.8442\n",
      "Epoch [66/100], average_loss:0.3166, validation_loss:0.3801, val_accuracy:0.8442\n",
      "Epoch [67/100], average_loss:0.3161, validation_loss:0.3787, val_accuracy:0.8961\n",
      "Epoch [68/100], average_loss:0.3158, validation_loss:0.3781, val_accuracy:0.8831\n",
      "Epoch [69/100], average_loss:0.3157, validation_loss:0.3805, val_accuracy:0.8312\n",
      "Epoch [70/100], average_loss:0.3164, validation_loss:0.3769, val_accuracy:0.9091\n",
      "Epoch [71/100], average_loss:0.3152, validation_loss:0.3775, val_accuracy:0.8831\n",
      "Epoch [72/100], average_loss:0.3158, validation_loss:0.3792, val_accuracy:0.8701\n",
      "Epoch [73/100], average_loss:0.3156, validation_loss:0.3810, val_accuracy:0.7922\n",
      "Epoch [74/100], average_loss:0.3156, validation_loss:0.3805, val_accuracy:0.8442\n",
      "Epoch [75/100], average_loss:0.3148, validation_loss:0.3769, val_accuracy:0.9221\n",
      "Epoch [76/100], average_loss:0.3147, validation_loss:0.3794, val_accuracy:0.8571\n",
      "Epoch [77/100], average_loss:0.3156, validation_loss:0.3788, val_accuracy:0.8831\n",
      "Epoch [78/100], average_loss:0.3148, validation_loss:0.3802, val_accuracy:0.7922\n",
      "Epoch [79/100], average_loss:0.3152, validation_loss:0.3801, val_accuracy:0.8442\n",
      "Epoch [80/100], average_loss:0.3147, validation_loss:0.3823, val_accuracy:0.7792\n",
      "Epoch [81/100], average_loss:0.3149, validation_loss:0.3796, val_accuracy:0.8312\n",
      "Epoch [82/100], average_loss:0.3140, validation_loss:0.3790, val_accuracy:0.8442\n",
      "Epoch [83/100], average_loss:0.3144, validation_loss:0.3806, val_accuracy:0.9091\n",
      "Epoch [84/100], average_loss:0.3140, validation_loss:0.3800, val_accuracy:0.8831\n",
      "Epoch [85/100], average_loss:0.3142, validation_loss:0.3796, val_accuracy:0.8701\n",
      "Epoch [86/100], average_loss:0.3139, validation_loss:0.3821, val_accuracy:0.8442\n",
      "Epoch [87/100], average_loss:0.3139, validation_loss:0.3811, val_accuracy:0.7532\n",
      "Epoch [88/100], average_loss:0.3135, validation_loss:0.3807, val_accuracy:0.8052\n",
      "Epoch [89/100], average_loss:0.3141, validation_loss:0.3784, val_accuracy:0.8831\n",
      "Epoch [90/100], average_loss:0.3139, validation_loss:0.3814, val_accuracy:0.8182\n",
      "Epoch [91/100], average_loss:0.3133, validation_loss:0.3795, val_accuracy:0.8701\n",
      "Epoch [92/100], average_loss:0.3143, validation_loss:0.3826, val_accuracy:0.8442\n",
      "Epoch [93/100], average_loss:0.3145, validation_loss:0.3788, val_accuracy:0.8961\n",
      "Epoch [94/100], average_loss:0.3136, validation_loss:0.3802, val_accuracy:0.8052\n",
      "Epoch [95/100], average_loss:0.3132, validation_loss:0.3811, val_accuracy:0.8182\n",
      "Epoch [96/100], average_loss:0.3133, validation_loss:0.3797, val_accuracy:0.8571\n",
      "Epoch [97/100], average_loss:0.3133, validation_loss:0.3820, val_accuracy:0.8052\n",
      "Epoch [98/100], average_loss:0.3133, validation_loss:0.3804, val_accuracy:0.8052\n",
      "Epoch [99/100], average_loss:0.3135, validation_loss:0.3810, val_accuracy:0.8052\n",
      "Epoch [100/100], average_loss:0.3130, validation_loss:0.3811, val_accuracy:0.8312\n"
     ]
    }
   ],
   "source": [
    "lh = m3(epochs=100, train_loader=train_loader, validation_loader=valid_loader)"
   ]
  },
  {
   "cell_type": "code",
   "execution_count": 97,
   "metadata": {},
   "outputs": [],
   "source": [
    "m3.tb.close()"
   ]
  },
  {
   "cell_type": "code",
   "execution_count": 98,
   "metadata": {},
   "outputs": [],
   "source": [
    "m3.model.eval()\n",
    "with torch.no_grad():\n",
    "    x_pred = np.argmax(m3.model(torch.tensor(X_test).float().to(m3.device)).cpu().detach(), axis=1)\n"
   ]
  },
  {
   "cell_type": "code",
   "execution_count": 99,
   "metadata": {},
   "outputs": [
    {
     "data": {
      "text/plain": [
       "tensor([1, 0, 1,  ..., 0, 1, 0])"
      ]
     },
     "execution_count": 99,
     "metadata": {},
     "output_type": "execute_result"
    }
   ],
   "source": [
    "x_pred"
   ]
  },
  {
   "cell_type": "code",
   "execution_count": 100,
   "metadata": {},
   "outputs": [
    {
     "data": {
      "text/plain": [
       "0.8132117105214246"
      ]
     },
     "execution_count": 100,
     "metadata": {},
     "output_type": "execute_result"
    }
   ],
   "source": [
    "f1_score(y_true=y_test, y_pred=x_pred, average=\"macro\")"
   ]
  },
  {
   "cell_type": "code",
   "execution_count": 101,
   "metadata": {},
   "outputs": [
    {
     "data": {
      "text/plain": [
       "0.8519359464627151"
      ]
     },
     "execution_count": 101,
     "metadata": {},
     "output_type": "execute_result"
    }
   ],
   "source": [
    "accuracy_score(y_true=y_test, y_pred=x_pred)"
   ]
  },
  {
   "cell_type": "code",
   "execution_count": 102,
   "metadata": {
    "scrolled": true
   },
   "outputs": [
    {
     "data": {
      "text/plain": [
       "array([[3002, 1093,   29,  111],\n",
       "       [ 608, 9677,   47,  113],\n",
       "       [  19,   48,  393,   19],\n",
       "       [ 227,  151,   13, 1186]], dtype=int64)"
      ]
     },
     "execution_count": 102,
     "metadata": {},
     "output_type": "execute_result"
    }
   ],
   "source": [
    "confusion_matrix(y_true=y_test, y_pred=x_pred)"
   ]
  },
  {
   "cell_type": "code",
   "execution_count": 104,
   "metadata": {},
   "outputs": [],
   "source": [
    "#torch.save(m3.model, \"models_and_losses/DNN_latent_space_m.III_lr-{1e-2,1e-3}_bs-256_epoch-100.pt\")"
   ]
  },
  {
   "cell_type": "markdown",
   "metadata": {},
   "source": [
    "# M.4"
   ]
  },
  {
   "cell_type": "code",
   "execution_count": 116,
   "metadata": {},
   "outputs": [],
   "source": [
    "train_loader = torch.utils.data.DataLoader(dataset = train, batch_size=128, shuffle=True)\n",
    "valid_loader = torch.utils.data.DataLoader(dataset = valid, batch_size=128, shuffle=True)"
   ]
  },
  {
   "cell_type": "code",
   "execution_count": 117,
   "metadata": {},
   "outputs": [],
   "source": [
    "DNN4 = nn.Sequential(\n",
    "            nn.Linear(in_features=15, out_features=64),\n",
    "            nn.Sigmoid(),\n",
    "            nn.Linear(in_features=64, out_features=128),\n",
    "            nn.Sigmoid(),\n",
    "            nn.Linear(in_features=128, out_features=4),\n",
    ")"
   ]
  },
  {
   "cell_type": "code",
   "execution_count": 118,
   "metadata": {},
   "outputs": [],
   "source": [
    "optimizer= torch.optim.Adam(DNN4.parameters(), lr=1e-2)"
   ]
  },
  {
   "cell_type": "code",
   "execution_count": 119,
   "metadata": {},
   "outputs": [
    {
     "name": "stdout",
     "output_type": "stream",
     "text": [
      "cuda:0\n"
     ]
    }
   ],
   "source": [
    "m4 = Trainer(\n",
    "        model=DNN4,\n",
    "        optimizer=optimizer,\n",
    "        loss_function=nn.CrossEntropyLoss(),\n",
    "        scheduler=torch.optim.lr_scheduler.MultiStepLR(optimizer, milestones=[20], gamma=0.1),\n",
    "        tensorboard=True,\n",
    "        model_name=\"DNN_latent_space_m.IV_lr-{e-2,1e-3}_epochs-128\",\n",
    "        verbose=True\n",
    "        )"
   ]
  },
  {
   "cell_type": "code",
   "execution_count": 120,
   "metadata": {},
   "outputs": [
    {
     "name": "stdout",
     "output_type": "stream",
     "text": [
      "Epoch [1/100], average_loss:0.6335, validation_loss:0.5137, val_accuracy:0.8052\n",
      "Epoch [2/100], average_loss:0.4703, validation_loss:0.4434, val_accuracy:0.8052\n",
      "Epoch [3/100], average_loss:0.4298, validation_loss:0.4209, val_accuracy:0.8442\n",
      "Epoch [4/100], average_loss:0.4085, validation_loss:0.4116, val_accuracy:0.8182\n",
      "Epoch [5/100], average_loss:0.3995, validation_loss:0.3919, val_accuracy:0.9091\n",
      "Epoch [6/100], average_loss:0.3875, validation_loss:0.4124, val_accuracy:0.8052\n",
      "Epoch [7/100], average_loss:0.3783, validation_loss:0.3811, val_accuracy:0.8442\n",
      "Epoch [8/100], average_loss:0.3693, validation_loss:0.3838, val_accuracy:0.9091\n",
      "Epoch [9/100], average_loss:0.3625, validation_loss:0.3811, val_accuracy:0.8312\n",
      "Epoch [10/100], average_loss:0.3557, validation_loss:0.3750, val_accuracy:0.8182\n",
      "Epoch [11/100], average_loss:0.3512, validation_loss:0.3826, val_accuracy:0.8961\n",
      "Epoch [12/100], average_loss:0.3441, validation_loss:0.3624, val_accuracy:0.8831\n",
      "Epoch [13/100], average_loss:0.3402, validation_loss:0.3589, val_accuracy:0.8571\n",
      "Epoch [14/100], average_loss:0.3353, validation_loss:0.3848, val_accuracy:0.8312\n",
      "Epoch [15/100], average_loss:0.3332, validation_loss:0.3614, val_accuracy:0.8312\n",
      "Epoch [16/100], average_loss:0.3284, validation_loss:0.3642, val_accuracy:0.8701\n",
      "Epoch [17/100], average_loss:0.3249, validation_loss:0.3672, val_accuracy:0.8831\n",
      "Epoch [18/100], average_loss:0.3216, validation_loss:0.3591, val_accuracy:0.8312\n",
      "Epoch [19/100], average_loss:0.3181, validation_loss:0.3615, val_accuracy:0.8701\n",
      "Epoch [20/100], average_loss:0.3182, validation_loss:0.3527, val_accuracy:0.8701\n",
      "Epoch [21/100], average_loss:0.2955, validation_loss:0.3482, val_accuracy:0.7922\n",
      "Epoch [22/100], average_loss:0.2921, validation_loss:0.3491, val_accuracy:0.8442\n",
      "Epoch [23/100], average_loss:0.2913, validation_loss:0.3485, val_accuracy:0.8312\n",
      "Epoch [24/100], average_loss:0.2902, validation_loss:0.3487, val_accuracy:0.8831\n",
      "Epoch [25/100], average_loss:0.2899, validation_loss:0.3499, val_accuracy:0.9091\n",
      "Epoch [26/100], average_loss:0.2892, validation_loss:0.3506, val_accuracy:0.8571\n",
      "Epoch [27/100], average_loss:0.2886, validation_loss:0.3494, val_accuracy:0.8312\n",
      "Epoch [28/100], average_loss:0.2882, validation_loss:0.3521, val_accuracy:0.8182\n",
      "Epoch [29/100], average_loss:0.2873, validation_loss:0.3507, val_accuracy:0.9221\n",
      "Epoch [30/100], average_loss:0.2871, validation_loss:0.3501, val_accuracy:0.9221\n",
      "Epoch [31/100], average_loss:0.2864, validation_loss:0.3507, val_accuracy:0.8571\n",
      "Epoch [32/100], average_loss:0.2861, validation_loss:0.3512, val_accuracy:0.8571\n",
      "Epoch [33/100], average_loss:0.2857, validation_loss:0.3516, val_accuracy:0.8831\n",
      "Epoch [34/100], average_loss:0.2850, validation_loss:0.3530, val_accuracy:0.8312\n",
      "Epoch [35/100], average_loss:0.2848, validation_loss:0.3514, val_accuracy:0.8701\n",
      "Epoch [36/100], average_loss:0.2847, validation_loss:0.3532, val_accuracy:0.8052\n",
      "Epoch [37/100], average_loss:0.2841, validation_loss:0.3526, val_accuracy:0.8961\n",
      "Epoch [38/100], average_loss:0.2838, validation_loss:0.3546, val_accuracy:0.8312\n",
      "Epoch [39/100], average_loss:0.2833, validation_loss:0.3529, val_accuracy:0.8182\n",
      "Epoch [40/100], average_loss:0.2832, validation_loss:0.3530, val_accuracy:0.8701\n",
      "Epoch [41/100], average_loss:0.2824, validation_loss:0.3538, val_accuracy:0.8701\n",
      "Epoch [42/100], average_loss:0.2823, validation_loss:0.3557, val_accuracy:0.7403\n",
      "Epoch [43/100], average_loss:0.2822, validation_loss:0.3553, val_accuracy:0.8961\n",
      "Epoch [44/100], average_loss:0.2813, validation_loss:0.3554, val_accuracy:0.8442\n",
      "Epoch [45/100], average_loss:0.2813, validation_loss:0.3547, val_accuracy:0.8442\n",
      "Epoch [46/100], average_loss:0.2804, validation_loss:0.3542, val_accuracy:0.8442\n",
      "Epoch [47/100], average_loss:0.2803, validation_loss:0.3562, val_accuracy:0.8571\n",
      "Epoch [48/100], average_loss:0.2792, validation_loss:0.3558, val_accuracy:0.7922\n",
      "Epoch [49/100], average_loss:0.2795, validation_loss:0.3553, val_accuracy:0.9091\n",
      "Epoch [50/100], average_loss:0.2791, validation_loss:0.3561, val_accuracy:0.8961\n",
      "Epoch [51/100], average_loss:0.2788, validation_loss:0.3567, val_accuracy:0.8831\n",
      "Epoch [52/100], average_loss:0.2784, validation_loss:0.3569, val_accuracy:0.8442\n",
      "Epoch [53/100], average_loss:0.2780, validation_loss:0.3594, val_accuracy:0.7922\n",
      "Epoch [54/100], average_loss:0.2776, validation_loss:0.3573, val_accuracy:0.8312\n",
      "Epoch [55/100], average_loss:0.2773, validation_loss:0.3583, val_accuracy:0.8961\n",
      "Epoch [56/100], average_loss:0.2770, validation_loss:0.3587, val_accuracy:0.8571\n",
      "Epoch [57/100], average_loss:0.2763, validation_loss:0.3588, val_accuracy:0.8312\n",
      "Epoch [58/100], average_loss:0.2763, validation_loss:0.3600, val_accuracy:0.7403\n",
      "Epoch [59/100], average_loss:0.2754, validation_loss:0.3591, val_accuracy:0.8571\n",
      "Epoch [60/100], average_loss:0.2754, validation_loss:0.3589, val_accuracy:0.8701\n",
      "Epoch [61/100], average_loss:0.2753, validation_loss:0.3588, val_accuracy:0.8961\n",
      "Epoch [62/100], average_loss:0.2750, validation_loss:0.3598, val_accuracy:0.8052\n",
      "Epoch [63/100], average_loss:0.2744, validation_loss:0.3593, val_accuracy:0.8701\n",
      "Epoch [64/100], average_loss:0.2741, validation_loss:0.3647, val_accuracy:0.8182\n",
      "Epoch [65/100], average_loss:0.2737, validation_loss:0.3595, val_accuracy:0.8961\n",
      "Epoch [66/100], average_loss:0.2731, validation_loss:0.3620, val_accuracy:0.7922\n",
      "Epoch [67/100], average_loss:0.2735, validation_loss:0.3612, val_accuracy:0.7403\n",
      "Epoch [68/100], average_loss:0.2730, validation_loss:0.3607, val_accuracy:0.8312\n",
      "Epoch [69/100], average_loss:0.2723, validation_loss:0.3617, val_accuracy:0.8442\n",
      "Epoch [70/100], average_loss:0.2720, validation_loss:0.3613, val_accuracy:0.8442\n",
      "Epoch [71/100], average_loss:0.2719, validation_loss:0.3627, val_accuracy:0.8442\n",
      "Epoch [72/100], average_loss:0.2717, validation_loss:0.3615, val_accuracy:0.7662\n",
      "Epoch [73/100], average_loss:0.2710, validation_loss:0.3624, val_accuracy:0.8442\n",
      "Epoch [74/100], average_loss:0.2704, validation_loss:0.3661, val_accuracy:0.8442\n",
      "Epoch [75/100], average_loss:0.2705, validation_loss:0.3632, val_accuracy:0.8701\n",
      "Epoch [76/100], average_loss:0.2696, validation_loss:0.3624, val_accuracy:0.8182\n",
      "Epoch [77/100], average_loss:0.2699, validation_loss:0.3665, val_accuracy:0.8831\n",
      "Epoch [78/100], average_loss:0.2695, validation_loss:0.3644, val_accuracy:0.8571\n",
      "Epoch [79/100], average_loss:0.2692, validation_loss:0.3653, val_accuracy:0.8312\n",
      "Epoch [80/100], average_loss:0.2686, validation_loss:0.3646, val_accuracy:0.8571\n",
      "Epoch [81/100], average_loss:0.2683, validation_loss:0.3654, val_accuracy:0.8831\n",
      "Epoch [82/100], average_loss:0.2677, validation_loss:0.3640, val_accuracy:0.9221\n",
      "Epoch [83/100], average_loss:0.2677, validation_loss:0.3658, val_accuracy:0.8571\n",
      "Epoch [84/100], average_loss:0.2671, validation_loss:0.3675, val_accuracy:0.8701\n",
      "Epoch [85/100], average_loss:0.2672, validation_loss:0.3674, val_accuracy:0.7662\n",
      "Epoch [86/100], average_loss:0.2667, validation_loss:0.3652, val_accuracy:0.8571\n",
      "Epoch [87/100], average_loss:0.2661, validation_loss:0.3656, val_accuracy:0.9610\n",
      "Epoch [88/100], average_loss:0.2662, validation_loss:0.3661, val_accuracy:0.9091\n",
      "Epoch [89/100], average_loss:0.2657, validation_loss:0.3669, val_accuracy:0.8571\n",
      "Epoch [90/100], average_loss:0.2653, validation_loss:0.3671, val_accuracy:0.8442\n",
      "Epoch [91/100], average_loss:0.2651, validation_loss:0.3676, val_accuracy:0.8442\n",
      "Epoch [92/100], average_loss:0.2649, validation_loss:0.3696, val_accuracy:0.8442\n",
      "Epoch [93/100], average_loss:0.2642, validation_loss:0.3683, val_accuracy:0.9091\n",
      "Epoch [94/100], average_loss:0.2641, validation_loss:0.3687, val_accuracy:0.8442\n",
      "Epoch [95/100], average_loss:0.2632, validation_loss:0.3694, val_accuracy:0.9091\n",
      "Epoch [96/100], average_loss:0.2636, validation_loss:0.3675, val_accuracy:0.8571\n",
      "Epoch [97/100], average_loss:0.2632, validation_loss:0.3699, val_accuracy:0.8442\n",
      "Epoch [98/100], average_loss:0.2627, validation_loss:0.3699, val_accuracy:0.7922\n",
      "Epoch [99/100], average_loss:0.2628, validation_loss:0.3691, val_accuracy:0.8961\n",
      "Epoch [100/100], average_loss:0.2619, validation_loss:0.3711, val_accuracy:0.8312\n"
     ]
    }
   ],
   "source": [
    "lh = m4(epochs=100, train_loader=train_loader, validation_loader=valid_loader)"
   ]
  },
  {
   "cell_type": "code",
   "execution_count": 121,
   "metadata": {},
   "outputs": [],
   "source": [
    "m4.tb.close()"
   ]
  },
  {
   "cell_type": "code",
   "execution_count": 122,
   "metadata": {},
   "outputs": [],
   "source": [
    "m4.model.eval()\n",
    "with torch.no_grad():\n",
    "    x_pred = np.argmax(m4.model(torch.tensor(X_test).float().to(m4.device)).cpu().detach(), axis=1)\n"
   ]
  },
  {
   "cell_type": "code",
   "execution_count": 123,
   "metadata": {},
   "outputs": [
    {
     "data": {
      "text/plain": [
       "tensor([1, 0, 1,  ..., 3, 1, 0])"
      ]
     },
     "execution_count": 123,
     "metadata": {},
     "output_type": "execute_result"
    }
   ],
   "source": [
    "x_pred"
   ]
  },
  {
   "cell_type": "code",
   "execution_count": 124,
   "metadata": {},
   "outputs": [
    {
     "data": {
      "text/plain": [
       "0.8247516540094679"
      ]
     },
     "execution_count": 124,
     "metadata": {},
     "output_type": "execute_result"
    }
   ],
   "source": [
    "f1_score(y_true=y_test, y_pred=x_pred, average=\"macro\")"
   ]
  },
  {
   "cell_type": "code",
   "execution_count": 125,
   "metadata": {},
   "outputs": [
    {
     "data": {
      "text/plain": [
       "0.8638264818355641"
      ]
     },
     "execution_count": 125,
     "metadata": {},
     "output_type": "execute_result"
    }
   ],
   "source": [
    "accuracy_score(y_true=y_test, y_pred=x_pred)"
   ]
  },
  {
   "cell_type": "code",
   "execution_count": 126,
   "metadata": {
    "scrolled": true
   },
   "outputs": [
    {
     "data": {
      "text/plain": [
       "array([[3078,  989,   34,  134],\n",
       "       [ 543, 9763,   33,  106],\n",
       "       [  20,   49,  396,   14],\n",
       "       [ 189,  148,   20, 1220]], dtype=int64)"
      ]
     },
     "execution_count": 126,
     "metadata": {},
     "output_type": "execute_result"
    }
   ],
   "source": [
    "confusion_matrix(y_true=y_test, y_pred=x_pred)"
   ]
  },
  {
   "cell_type": "code",
   "execution_count": 127,
   "metadata": {},
   "outputs": [],
   "source": [
    "#torch.save(m4.model, \"models_and_losses/DNN_latent_space_m.IV_lr-{e-2,1e-3}_epochs-128_epoch-100.pt\")"
   ]
  },
  {
   "cell_type": "markdown",
   "metadata": {},
   "source": [
    "## Bs = 256"
   ]
  },
  {
   "cell_type": "code",
   "execution_count": 128,
   "metadata": {},
   "outputs": [],
   "source": [
    "train_loader = torch.utils.data.DataLoader(dataset = train, batch_size=256, shuffle=True)\n",
    "valid_loader = torch.utils.data.DataLoader(dataset = valid, batch_size=256, shuffle=True)"
   ]
  },
  {
   "cell_type": "code",
   "execution_count": 129,
   "metadata": {},
   "outputs": [],
   "source": [
    "DNN4 = nn.Sequential(\n",
    "            nn.Linear(in_features=15, out_features=64),\n",
    "            nn.Sigmoid(),\n",
    "            nn.Linear(in_features=64, out_features=128),\n",
    "            nn.Sigmoid(),\n",
    "            nn.Linear(in_features=128, out_features=4),\n",
    ")"
   ]
  },
  {
   "cell_type": "code",
   "execution_count": 130,
   "metadata": {},
   "outputs": [],
   "source": [
    "optimizer= torch.optim.Adam(DNN4.parameters(), lr=1e-2)"
   ]
  },
  {
   "cell_type": "code",
   "execution_count": 131,
   "metadata": {},
   "outputs": [
    {
     "name": "stdout",
     "output_type": "stream",
     "text": [
      "cuda:0\n"
     ]
    }
   ],
   "source": [
    "m4 = Trainer(\n",
    "        model=DNN4,\n",
    "        optimizer=optimizer,\n",
    "        loss_function=nn.CrossEntropyLoss(),\n",
    "        scheduler=torch.optim.lr_scheduler.MultiStepLR(optimizer, milestones=[20], gamma=0.1),\n",
    "        tensorboard=True,\n",
    "        model_name=\"DNN_latent_space_m.IV_lr-{1e-2,1e-3}_epochs-256\",\n",
    "        verbose=True\n",
    "        )"
   ]
  },
  {
   "cell_type": "code",
   "execution_count": 132,
   "metadata": {},
   "outputs": [
    {
     "name": "stdout",
     "output_type": "stream",
     "text": [
      "Epoch [1/100], average_loss:0.7086, validation_loss:0.5749, val_accuracy:0.8182\n",
      "Epoch [2/100], average_loss:0.5248, validation_loss:0.4786, val_accuracy:0.8442\n",
      "Epoch [3/100], average_loss:0.4574, validation_loss:0.4331, val_accuracy:0.8831\n",
      "Epoch [4/100], average_loss:0.4263, validation_loss:0.4247, val_accuracy:0.7922\n",
      "Epoch [5/100], average_loss:0.4141, validation_loss:0.4140, val_accuracy:0.8831\n",
      "Epoch [6/100], average_loss:0.4006, validation_loss:0.4383, val_accuracy:0.8442\n",
      "Epoch [7/100], average_loss:0.3928, validation_loss:0.3871, val_accuracy:0.9221\n",
      "Epoch [8/100], average_loss:0.3801, validation_loss:0.3881, val_accuracy:0.8831\n",
      "Epoch [9/100], average_loss:0.3734, validation_loss:0.3767, val_accuracy:0.8312\n",
      "Epoch [10/100], average_loss:0.3661, validation_loss:0.3722, val_accuracy:0.8442\n",
      "Epoch [11/100], average_loss:0.3589, validation_loss:0.3697, val_accuracy:0.8182\n",
      "Epoch [12/100], average_loss:0.3507, validation_loss:0.3639, val_accuracy:0.9221\n",
      "Epoch [13/100], average_loss:0.3474, validation_loss:0.3580, val_accuracy:0.9091\n",
      "Epoch [14/100], average_loss:0.3443, validation_loss:0.3667, val_accuracy:0.8571\n",
      "Epoch [15/100], average_loss:0.3403, validation_loss:0.3715, val_accuracy:0.7792\n",
      "Epoch [16/100], average_loss:0.3394, validation_loss:0.3558, val_accuracy:0.9221\n",
      "Epoch [17/100], average_loss:0.3353, validation_loss:0.3559, val_accuracy:0.8312\n",
      "Epoch [18/100], average_loss:0.3316, validation_loss:0.3662, val_accuracy:0.8052\n",
      "Epoch [19/100], average_loss:0.3300, validation_loss:0.3514, val_accuracy:0.8701\n",
      "Epoch [20/100], average_loss:0.3273, validation_loss:0.3576, val_accuracy:0.8442\n",
      "Epoch [21/100], average_loss:0.3121, validation_loss:0.3458, val_accuracy:0.8312\n",
      "Epoch [22/100], average_loss:0.3088, validation_loss:0.3437, val_accuracy:0.8701\n",
      "Epoch [23/100], average_loss:0.3081, validation_loss:0.3463, val_accuracy:0.8701\n",
      "Epoch [24/100], average_loss:0.3083, validation_loss:0.3443, val_accuracy:0.8701\n",
      "Epoch [25/100], average_loss:0.3075, validation_loss:0.3440, val_accuracy:0.8701\n",
      "Epoch [26/100], average_loss:0.3069, validation_loss:0.3463, val_accuracy:0.8442\n",
      "Epoch [27/100], average_loss:0.3067, validation_loss:0.3453, val_accuracy:0.8442\n",
      "Epoch [28/100], average_loss:0.3061, validation_loss:0.3442, val_accuracy:0.8442\n",
      "Epoch [29/100], average_loss:0.3060, validation_loss:0.3439, val_accuracy:0.8701\n",
      "Epoch [30/100], average_loss:0.3054, validation_loss:0.3453, val_accuracy:0.8442\n",
      "Epoch [31/100], average_loss:0.3063, validation_loss:0.3436, val_accuracy:0.9221\n",
      "Epoch [32/100], average_loss:0.3048, validation_loss:0.3441, val_accuracy:0.8571\n",
      "Epoch [33/100], average_loss:0.3047, validation_loss:0.3434, val_accuracy:0.8961\n",
      "Epoch [34/100], average_loss:0.3038, validation_loss:0.3447, val_accuracy:0.8571\n",
      "Epoch [35/100], average_loss:0.3037, validation_loss:0.3458, val_accuracy:0.8701\n",
      "Epoch [36/100], average_loss:0.3035, validation_loss:0.3467, val_accuracy:0.8312\n",
      "Epoch [37/100], average_loss:0.3033, validation_loss:0.3481, val_accuracy:0.8442\n",
      "Epoch [38/100], average_loss:0.3030, validation_loss:0.3437, val_accuracy:0.8701\n",
      "Epoch [39/100], average_loss:0.3025, validation_loss:0.3472, val_accuracy:0.8961\n",
      "Epoch [40/100], average_loss:0.3025, validation_loss:0.3448, val_accuracy:0.8442\n",
      "Epoch [41/100], average_loss:0.3025, validation_loss:0.3485, val_accuracy:0.7922\n",
      "Epoch [42/100], average_loss:0.3010, validation_loss:0.3440, val_accuracy:0.8442\n",
      "Epoch [43/100], average_loss:0.3014, validation_loss:0.3446, val_accuracy:0.9091\n",
      "Epoch [44/100], average_loss:0.3004, validation_loss:0.3482, val_accuracy:0.8052\n",
      "Epoch [45/100], average_loss:0.3013, validation_loss:0.3436, val_accuracy:0.8312\n",
      "Epoch [46/100], average_loss:0.3001, validation_loss:0.3456, val_accuracy:0.8831\n",
      "Epoch [47/100], average_loss:0.3002, validation_loss:0.3457, val_accuracy:0.8571\n",
      "Epoch [48/100], average_loss:0.3004, validation_loss:0.3455, val_accuracy:0.8571\n",
      "Epoch [49/100], average_loss:0.2992, validation_loss:0.3460, val_accuracy:0.8442\n",
      "Epoch [50/100], average_loss:0.2995, validation_loss:0.3467, val_accuracy:0.8571\n",
      "Epoch [51/100], average_loss:0.2985, validation_loss:0.3463, val_accuracy:0.8442\n",
      "Epoch [52/100], average_loss:0.2980, validation_loss:0.3497, val_accuracy:0.8312\n",
      "Epoch [53/100], average_loss:0.2983, validation_loss:0.3448, val_accuracy:0.9610\n",
      "Epoch [54/100], average_loss:0.2981, validation_loss:0.3482, val_accuracy:0.7403\n",
      "Epoch [55/100], average_loss:0.2981, validation_loss:0.3442, val_accuracy:0.8961\n",
      "Epoch [56/100], average_loss:0.2976, validation_loss:0.3464, val_accuracy:0.8571\n",
      "Epoch [57/100], average_loss:0.2969, validation_loss:0.3472, val_accuracy:0.8312\n",
      "Epoch [58/100], average_loss:0.2972, validation_loss:0.3450, val_accuracy:0.8831\n",
      "Epoch [59/100], average_loss:0.2965, validation_loss:0.3458, val_accuracy:0.8182\n",
      "Epoch [60/100], average_loss:0.2962, validation_loss:0.3459, val_accuracy:0.8831\n",
      "Epoch [61/100], average_loss:0.2961, validation_loss:0.3471, val_accuracy:0.8312\n",
      "Epoch [62/100], average_loss:0.2955, validation_loss:0.3467, val_accuracy:0.8961\n",
      "Epoch [63/100], average_loss:0.2960, validation_loss:0.3459, val_accuracy:0.8831\n",
      "Epoch [64/100], average_loss:0.2951, validation_loss:0.3446, val_accuracy:0.8831\n",
      "Epoch [65/100], average_loss:0.2948, validation_loss:0.3472, val_accuracy:0.8182\n",
      "Epoch [66/100], average_loss:0.2951, validation_loss:0.3467, val_accuracy:0.8312\n",
      "Epoch [67/100], average_loss:0.2948, validation_loss:0.3458, val_accuracy:0.8701\n",
      "Epoch [68/100], average_loss:0.2940, validation_loss:0.3476, val_accuracy:0.8312\n",
      "Epoch [69/100], average_loss:0.2938, validation_loss:0.3455, val_accuracy:0.8961\n",
      "Epoch [70/100], average_loss:0.2934, validation_loss:0.3482, val_accuracy:0.7792\n",
      "Epoch [71/100], average_loss:0.2927, validation_loss:0.3468, val_accuracy:0.8571\n",
      "Epoch [72/100], average_loss:0.2931, validation_loss:0.3473, val_accuracy:0.8312\n",
      "Epoch [73/100], average_loss:0.2931, validation_loss:0.3491, val_accuracy:0.8442\n",
      "Epoch [74/100], average_loss:0.2930, validation_loss:0.3484, val_accuracy:0.8442\n",
      "Epoch [75/100], average_loss:0.2927, validation_loss:0.3480, val_accuracy:0.8312\n",
      "Epoch [76/100], average_loss:0.2920, validation_loss:0.3462, val_accuracy:0.9091\n",
      "Epoch [77/100], average_loss:0.2914, validation_loss:0.3488, val_accuracy:0.8442\n",
      "Epoch [78/100], average_loss:0.2913, validation_loss:0.3486, val_accuracy:0.8571\n",
      "Epoch [79/100], average_loss:0.2914, validation_loss:0.3475, val_accuracy:0.9351\n",
      "Epoch [80/100], average_loss:0.2909, validation_loss:0.3475, val_accuracy:0.8701\n",
      "Epoch [81/100], average_loss:0.2910, validation_loss:0.3486, val_accuracy:0.9221\n",
      "Epoch [82/100], average_loss:0.2912, validation_loss:0.3475, val_accuracy:0.8831\n",
      "Epoch [83/100], average_loss:0.2907, validation_loss:0.3479, val_accuracy:0.8571\n",
      "Epoch [84/100], average_loss:0.2908, validation_loss:0.3473, val_accuracy:0.8701\n",
      "Epoch [85/100], average_loss:0.2902, validation_loss:0.3489, val_accuracy:0.8442\n",
      "Epoch [86/100], average_loss:0.2899, validation_loss:0.3499, val_accuracy:0.9091\n",
      "Epoch [87/100], average_loss:0.2898, validation_loss:0.3490, val_accuracy:0.9091\n",
      "Epoch [88/100], average_loss:0.2890, validation_loss:0.3483, val_accuracy:0.8312\n",
      "Epoch [89/100], average_loss:0.2888, validation_loss:0.3507, val_accuracy:0.8052\n",
      "Epoch [90/100], average_loss:0.2884, validation_loss:0.3510, val_accuracy:0.7922\n",
      "Epoch [91/100], average_loss:0.2887, validation_loss:0.3520, val_accuracy:0.7013\n",
      "Epoch [92/100], average_loss:0.2876, validation_loss:0.3497, val_accuracy:0.8312\n",
      "Epoch [93/100], average_loss:0.2882, validation_loss:0.3483, val_accuracy:0.8831\n",
      "Epoch [94/100], average_loss:0.2875, validation_loss:0.3486, val_accuracy:0.8442\n",
      "Epoch [95/100], average_loss:0.2873, validation_loss:0.3514, val_accuracy:0.7922\n",
      "Epoch [96/100], average_loss:0.2866, validation_loss:0.3504, val_accuracy:0.8182\n",
      "Epoch [97/100], average_loss:0.2866, validation_loss:0.3495, val_accuracy:0.8312\n",
      "Epoch [98/100], average_loss:0.2861, validation_loss:0.3497, val_accuracy:0.8052\n",
      "Epoch [99/100], average_loss:0.2863, validation_loss:0.3508, val_accuracy:0.7662\n",
      "Epoch [100/100], average_loss:0.2862, validation_loss:0.3513, val_accuracy:0.7922\n"
     ]
    }
   ],
   "source": [
    "lh = m4(epochs=100, train_loader=train_loader, validation_loader=valid_loader)"
   ]
  },
  {
   "cell_type": "code",
   "execution_count": 133,
   "metadata": {},
   "outputs": [],
   "source": [
    "m4.tb.close()"
   ]
  },
  {
   "cell_type": "code",
   "execution_count": 134,
   "metadata": {},
   "outputs": [],
   "source": [
    "m4.model.eval()\n",
    "with torch.no_grad():\n",
    "    x_pred = np.argmax(m4.model(torch.tensor(X_test).float().to(m4.device)).cpu().detach(), axis=1)\n"
   ]
  },
  {
   "cell_type": "code",
   "execution_count": 135,
   "metadata": {},
   "outputs": [
    {
     "data": {
      "text/plain": [
       "tensor([1, 1, 1,  ..., 0, 1, 0])"
      ]
     },
     "execution_count": 135,
     "metadata": {},
     "output_type": "execute_result"
    }
   ],
   "source": [
    "x_pred"
   ]
  },
  {
   "cell_type": "code",
   "execution_count": 136,
   "metadata": {},
   "outputs": [
    {
     "data": {
      "text/plain": [
       "0.8277852135595489"
      ]
     },
     "execution_count": 136,
     "metadata": {},
     "output_type": "execute_result"
    }
   ],
   "source": [
    "f1_score(y_true=y_test, y_pred=x_pred, average=\"macro\")"
   ]
  },
  {
   "cell_type": "code",
   "execution_count": 137,
   "metadata": {},
   "outputs": [
    {
     "data": {
      "text/plain": [
       "0.863527724665392"
      ]
     },
     "execution_count": 137,
     "metadata": {},
     "output_type": "execute_result"
    }
   ],
   "source": [
    "accuracy_score(y_true=y_test, y_pred=x_pred)"
   ]
  },
  {
   "cell_type": "code",
   "execution_count": 138,
   "metadata": {
    "scrolled": true
   },
   "outputs": [
    {
     "data": {
      "text/plain": [
       "array([[3198,  895,   21,  121],\n",
       "       [ 643, 9663,   24,  115],\n",
       "       [  30,   46,  383,   20],\n",
       "       [ 217,  143,    9, 1208]], dtype=int64)"
      ]
     },
     "execution_count": 138,
     "metadata": {},
     "output_type": "execute_result"
    }
   ],
   "source": [
    "confusion_matrix(y_true=y_test, y_pred=x_pred)"
   ]
  },
  {
   "cell_type": "code",
   "execution_count": 139,
   "metadata": {},
   "outputs": [],
   "source": [
    "#torch.save(m4.model, \"models_and_losses/DNN_latent_space_m.IV_lr-{1e-2,1e-3}_epochs-256_epoch-100.pt\")"
   ]
  },
  {
   "cell_type": "markdown",
   "metadata": {},
   "source": [
    "## Bs =512"
   ]
  },
  {
   "cell_type": "code",
   "execution_count": 140,
   "metadata": {},
   "outputs": [],
   "source": [
    "train_loader = torch.utils.data.DataLoader(dataset = train, batch_size=512, shuffle=True)\n",
    "valid_loader = torch.utils.data.DataLoader(dataset = valid, batch_size=512, shuffle=True)"
   ]
  },
  {
   "cell_type": "code",
   "execution_count": 141,
   "metadata": {},
   "outputs": [],
   "source": [
    "DNN4 = nn.Sequential(\n",
    "            nn.Linear(in_features=15, out_features=64),\n",
    "            nn.Sigmoid(),\n",
    "            nn.Linear(in_features=64, out_features=128),\n",
    "            nn.Sigmoid(),\n",
    "            nn.Linear(in_features=128, out_features=4),\n",
    ")"
   ]
  },
  {
   "cell_type": "code",
   "execution_count": 142,
   "metadata": {},
   "outputs": [],
   "source": [
    "optimizer= torch.optim.Adam(DNN4.parameters(), lr=1e-2)"
   ]
  },
  {
   "cell_type": "code",
   "execution_count": 143,
   "metadata": {},
   "outputs": [
    {
     "name": "stdout",
     "output_type": "stream",
     "text": [
      "cuda:0\n"
     ]
    }
   ],
   "source": [
    "m4 = Trainer(\n",
    "        model=DNN4,\n",
    "        optimizer=optimizer,\n",
    "        loss_function=nn.CrossEntropyLoss(),\n",
    "        scheduler=torch.optim.lr_scheduler.MultiStepLR(optimizer, milestones=[30], gamma=0.1),\n",
    "        tensorboard=True,\n",
    "        model_name=\"DNN_latent_space_m.IV_lr-{1e-2,1e-3}_epochs-512\",\n",
    "        verbose=True\n",
    "        )"
   ]
  },
  {
   "cell_type": "code",
   "execution_count": 144,
   "metadata": {},
   "outputs": [
    {
     "name": "stdout",
     "output_type": "stream",
     "text": [
      "Epoch [1/100], average_loss:0.7981, validation_loss:0.6241, val_accuracy:0.6753\n",
      "Epoch [2/100], average_loss:0.5909, validation_loss:0.5516, val_accuracy:0.7922\n",
      "Epoch [3/100], average_loss:0.5296, validation_loss:0.4997, val_accuracy:0.8571\n",
      "Epoch [4/100], average_loss:0.4792, validation_loss:0.4567, val_accuracy:0.7662\n",
      "Epoch [5/100], average_loss:0.4441, validation_loss:0.4457, val_accuracy:0.8052\n",
      "Epoch [6/100], average_loss:0.4327, validation_loss:0.4442, val_accuracy:0.7792\n",
      "Epoch [7/100], average_loss:0.4206, validation_loss:0.4179, val_accuracy:0.8961\n",
      "Epoch [8/100], average_loss:0.4126, validation_loss:0.4270, val_accuracy:0.6883\n",
      "Epoch [9/100], average_loss:0.4049, validation_loss:0.4157, val_accuracy:0.8052\n",
      "Epoch [10/100], average_loss:0.3973, validation_loss:0.4104, val_accuracy:0.8442\n",
      "Epoch [11/100], average_loss:0.3901, validation_loss:0.3978, val_accuracy:0.8701\n",
      "Epoch [12/100], average_loss:0.3851, validation_loss:0.3926, val_accuracy:0.8571\n",
      "Epoch [13/100], average_loss:0.3795, validation_loss:0.3943, val_accuracy:0.7662\n",
      "Epoch [14/100], average_loss:0.3725, validation_loss:0.3847, val_accuracy:0.8701\n",
      "Epoch [15/100], average_loss:0.3677, validation_loss:0.3748, val_accuracy:0.8052\n",
      "Epoch [16/100], average_loss:0.3637, validation_loss:0.3749, val_accuracy:0.8442\n",
      "Epoch [17/100], average_loss:0.3629, validation_loss:0.3797, val_accuracy:0.8312\n",
      "Epoch [18/100], average_loss:0.3577, validation_loss:0.3687, val_accuracy:0.8831\n",
      "Epoch [19/100], average_loss:0.3549, validation_loss:0.3730, val_accuracy:0.7792\n",
      "Epoch [20/100], average_loss:0.3496, validation_loss:0.3652, val_accuracy:0.8701\n",
      "Epoch [21/100], average_loss:0.3453, validation_loss:0.3689, val_accuracy:0.9351\n",
      "Epoch [22/100], average_loss:0.3443, validation_loss:0.3676, val_accuracy:0.8701\n",
      "Epoch [23/100], average_loss:0.3414, validation_loss:0.3734, val_accuracy:0.8052\n",
      "Epoch [24/100], average_loss:0.3385, validation_loss:0.3663, val_accuracy:0.8442\n",
      "Epoch [25/100], average_loss:0.3357, validation_loss:0.3652, val_accuracy:0.8182\n",
      "Epoch [26/100], average_loss:0.3343, validation_loss:0.3585, val_accuracy:0.8701\n",
      "Epoch [27/100], average_loss:0.3338, validation_loss:0.3608, val_accuracy:0.8052\n",
      "Epoch [28/100], average_loss:0.3297, validation_loss:0.3613, val_accuracy:0.8571\n",
      "Epoch [29/100], average_loss:0.3278, validation_loss:0.3545, val_accuracy:0.8701\n",
      "Epoch [30/100], average_loss:0.3259, validation_loss:0.3612, val_accuracy:0.8831\n",
      "Epoch [31/100], average_loss:0.3147, validation_loss:0.3517, val_accuracy:0.8052\n",
      "Epoch [32/100], average_loss:0.3129, validation_loss:0.3509, val_accuracy:0.7792\n",
      "Epoch [33/100], average_loss:0.3131, validation_loss:0.3554, val_accuracy:0.8442\n",
      "Epoch [34/100], average_loss:0.3124, validation_loss:0.3479, val_accuracy:0.8701\n",
      "Epoch [35/100], average_loss:0.3115, validation_loss:0.3475, val_accuracy:0.8831\n",
      "Epoch [36/100], average_loss:0.3116, validation_loss:0.3521, val_accuracy:0.8182\n",
      "Epoch [37/100], average_loss:0.3120, validation_loss:0.3479, val_accuracy:0.8571\n",
      "Epoch [38/100], average_loss:0.3113, validation_loss:0.3513, val_accuracy:0.8052\n",
      "Epoch [39/100], average_loss:0.3108, validation_loss:0.3481, val_accuracy:0.8312\n",
      "Epoch [40/100], average_loss:0.3108, validation_loss:0.3495, val_accuracy:0.8052\n",
      "Epoch [41/100], average_loss:0.3107, validation_loss:0.3509, val_accuracy:0.8442\n",
      "Epoch [42/100], average_loss:0.3102, validation_loss:0.3483, val_accuracy:0.8701\n",
      "Epoch [43/100], average_loss:0.3102, validation_loss:0.3465, val_accuracy:0.9091\n",
      "Epoch [44/100], average_loss:0.3099, validation_loss:0.3483, val_accuracy:0.8701\n",
      "Epoch [45/100], average_loss:0.3096, validation_loss:0.3536, val_accuracy:0.8312\n",
      "Epoch [46/100], average_loss:0.3092, validation_loss:0.3462, val_accuracy:0.9091\n",
      "Epoch [47/100], average_loss:0.3095, validation_loss:0.3504, val_accuracy:0.8312\n",
      "Epoch [48/100], average_loss:0.3089, validation_loss:0.3509, val_accuracy:0.8182\n",
      "Epoch [49/100], average_loss:0.3085, validation_loss:0.3463, val_accuracy:0.8701\n",
      "Epoch [50/100], average_loss:0.3085, validation_loss:0.3513, val_accuracy:0.8571\n",
      "Epoch [51/100], average_loss:0.3080, validation_loss:0.3463, val_accuracy:0.8701\n",
      "Epoch [52/100], average_loss:0.3078, validation_loss:0.3487, val_accuracy:0.8052\n",
      "Epoch [53/100], average_loss:0.3080, validation_loss:0.3521, val_accuracy:0.8182\n",
      "Epoch [54/100], average_loss:0.3074, validation_loss:0.3486, val_accuracy:0.8831\n",
      "Epoch [55/100], average_loss:0.3074, validation_loss:0.3477, val_accuracy:0.8571\n",
      "Epoch [56/100], average_loss:0.3071, validation_loss:0.3517, val_accuracy:0.7922\n",
      "Epoch [57/100], average_loss:0.3066, validation_loss:0.3486, val_accuracy:0.8442\n",
      "Epoch [58/100], average_loss:0.3069, validation_loss:0.3464, val_accuracy:0.9221\n",
      "Epoch [59/100], average_loss:0.3063, validation_loss:0.3512, val_accuracy:0.8312\n",
      "Epoch [60/100], average_loss:0.3058, validation_loss:0.3477, val_accuracy:0.8831\n",
      "Epoch [61/100], average_loss:0.3059, validation_loss:0.3444, val_accuracy:0.9351\n",
      "Epoch [62/100], average_loss:0.3056, validation_loss:0.3502, val_accuracy:0.8442\n",
      "Epoch [63/100], average_loss:0.3055, validation_loss:0.3462, val_accuracy:0.9091\n",
      "Epoch [64/100], average_loss:0.3053, validation_loss:0.3503, val_accuracy:0.8831\n",
      "Epoch [65/100], average_loss:0.3051, validation_loss:0.3463, val_accuracy:0.9221\n",
      "Epoch [66/100], average_loss:0.3048, validation_loss:0.3482, val_accuracy:0.8571\n",
      "Epoch [67/100], average_loss:0.3046, validation_loss:0.3490, val_accuracy:0.8442\n",
      "Epoch [68/100], average_loss:0.3044, validation_loss:0.3540, val_accuracy:0.8312\n",
      "Epoch [69/100], average_loss:0.3043, validation_loss:0.3475, val_accuracy:0.8182\n",
      "Epoch [70/100], average_loss:0.3040, validation_loss:0.3495, val_accuracy:0.8442\n",
      "Epoch [71/100], average_loss:0.3042, validation_loss:0.3456, val_accuracy:0.8831\n",
      "Epoch [72/100], average_loss:0.3033, validation_loss:0.3456, val_accuracy:0.8831\n",
      "Epoch [73/100], average_loss:0.3034, validation_loss:0.3470, val_accuracy:0.9091\n",
      "Epoch [74/100], average_loss:0.3034, validation_loss:0.3516, val_accuracy:0.8961\n",
      "Epoch [75/100], average_loss:0.3030, validation_loss:0.3526, val_accuracy:0.8182\n",
      "Epoch [76/100], average_loss:0.3026, validation_loss:0.3432, val_accuracy:0.9481\n",
      "Epoch [77/100], average_loss:0.3028, validation_loss:0.3540, val_accuracy:0.8182\n",
      "Epoch [78/100], average_loss:0.3025, validation_loss:0.3525, val_accuracy:0.8442\n",
      "Epoch [79/100], average_loss:0.3019, validation_loss:0.3492, val_accuracy:0.7792\n",
      "Epoch [80/100], average_loss:0.3022, validation_loss:0.3482, val_accuracy:0.8571\n",
      "Epoch [81/100], average_loss:0.3019, validation_loss:0.3526, val_accuracy:0.8052\n",
      "Epoch [82/100], average_loss:0.3019, validation_loss:0.3479, val_accuracy:0.9221\n",
      "Epoch [83/100], average_loss:0.3013, validation_loss:0.3523, val_accuracy:0.7792\n",
      "Epoch [84/100], average_loss:0.3007, validation_loss:0.3510, val_accuracy:0.8182\n",
      "Epoch [85/100], average_loss:0.3013, validation_loss:0.3484, val_accuracy:0.8961\n",
      "Epoch [86/100], average_loss:0.3006, validation_loss:0.3465, val_accuracy:0.8961\n",
      "Epoch [87/100], average_loss:0.3007, validation_loss:0.3495, val_accuracy:0.8182\n",
      "Epoch [88/100], average_loss:0.3003, validation_loss:0.3464, val_accuracy:0.9481\n",
      "Epoch [89/100], average_loss:0.3002, validation_loss:0.3514, val_accuracy:0.8571\n",
      "Epoch [90/100], average_loss:0.3002, validation_loss:0.3507, val_accuracy:0.8701\n",
      "Epoch [91/100], average_loss:0.2998, validation_loss:0.3451, val_accuracy:0.9091\n",
      "Epoch [92/100], average_loss:0.3000, validation_loss:0.3484, val_accuracy:0.8442\n",
      "Epoch [93/100], average_loss:0.2994, validation_loss:0.3508, val_accuracy:0.8442\n",
      "Epoch [94/100], average_loss:0.2996, validation_loss:0.3484, val_accuracy:0.8831\n",
      "Epoch [95/100], average_loss:0.2992, validation_loss:0.3501, val_accuracy:0.7922\n",
      "Epoch [96/100], average_loss:0.2990, validation_loss:0.3498, val_accuracy:0.8442\n",
      "Epoch [97/100], average_loss:0.2984, validation_loss:0.3531, val_accuracy:0.7662\n",
      "Epoch [98/100], average_loss:0.2987, validation_loss:0.3499, val_accuracy:0.8442\n",
      "Epoch [99/100], average_loss:0.2979, validation_loss:0.3446, val_accuracy:0.9351\n",
      "Epoch [100/100], average_loss:0.2982, validation_loss:0.3475, val_accuracy:0.8571\n"
     ]
    }
   ],
   "source": [
    "lh = m4(epochs=100, train_loader=train_loader, validation_loader=valid_loader)"
   ]
  },
  {
   "cell_type": "code",
   "execution_count": 145,
   "metadata": {},
   "outputs": [],
   "source": [
    "m4.tb.close()"
   ]
  },
  {
   "cell_type": "code",
   "execution_count": 146,
   "metadata": {},
   "outputs": [],
   "source": [
    "m4.model.eval()\n",
    "with torch.no_grad():\n",
    "    x_pred = np.argmax(m4.model(torch.tensor(X_test).float().to(m4.device)).cpu().detach(), axis=1)\n"
   ]
  },
  {
   "cell_type": "code",
   "execution_count": 147,
   "metadata": {},
   "outputs": [
    {
     "data": {
      "text/plain": [
       "tensor([1, 0, 1,  ..., 3, 1, 0])"
      ]
     },
     "execution_count": 147,
     "metadata": {},
     "output_type": "execute_result"
    }
   ],
   "source": [
    "x_pred"
   ]
  },
  {
   "cell_type": "code",
   "execution_count": 148,
   "metadata": {},
   "outputs": [
    {
     "data": {
      "text/plain": [
       "0.8301873442078451"
      ]
     },
     "execution_count": 148,
     "metadata": {},
     "output_type": "execute_result"
    }
   ],
   "source": [
    "f1_score(y_true=y_test, y_pred=x_pred, average=\"macro\")"
   ]
  },
  {
   "cell_type": "code",
   "execution_count": 149,
   "metadata": {},
   "outputs": [
    {
     "data": {
      "text/plain": [
       "0.8630497131931166"
      ]
     },
     "execution_count": 149,
     "metadata": {},
     "output_type": "execute_result"
    }
   ],
   "source": [
    "accuracy_score(y_true=y_test, y_pred=x_pred)"
   ]
  },
  {
   "cell_type": "code",
   "execution_count": 150,
   "metadata": {
    "scrolled": true
   },
   "outputs": [
    {
     "data": {
      "text/plain": [
       "array([[3111,  961,   25,  138],\n",
       "       [ 622, 9689,   25,  109],\n",
       "       [  20,   46,  392,   21],\n",
       "       [ 177,  135,   13, 1252]], dtype=int64)"
      ]
     },
     "execution_count": 150,
     "metadata": {},
     "output_type": "execute_result"
    }
   ],
   "source": [
    "confusion_matrix(y_true=y_test, y_pred=x_pred)"
   ]
  },
  {
   "cell_type": "code",
   "execution_count": 151,
   "metadata": {},
   "outputs": [],
   "source": [
    "#torch.save(m4.model, \"models_and_losses/DNN_latent_space_m.IV_lr-{1e-2,1e-3}_epochs-512_epoch-100.pt\")"
   ]
  },
  {
   "cell_type": "code",
   "execution_count": null,
   "metadata": {},
   "outputs": [],
   "source": []
  }
 ],
 "metadata": {
  "kernelspec": {
   "display_name": "Pytorch",
   "language": "python",
   "name": "pytorch"
  },
  "language_info": {
   "codemirror_mode": {
    "name": "ipython",
    "version": 3
   },
   "file_extension": ".py",
   "mimetype": "text/x-python",
   "name": "python",
   "nbconvert_exporter": "python",
   "pygments_lexer": "ipython3",
   "version": "3.6.9"
  }
 },
 "nbformat": 4,
 "nbformat_minor": 2
}
