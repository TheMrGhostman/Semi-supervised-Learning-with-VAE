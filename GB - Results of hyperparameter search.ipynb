{
 "cells": [
  {
   "cell_type": "code",
   "execution_count": 25,
   "metadata": {},
   "outputs": [],
   "source": [
    "import numpy as np\n",
    "import pandas as pd\n",
    "import matplotlib.pyplot as plt\n",
    "from sklearn.ensemble import GradientBoostingClassifier\n",
    "from sklearn.svm import SVC\n",
    "from sklearn.metrics import accuracy_score, f1_score, confusion_matrix\n",
    "import joblib"
   ]
  },
  {
   "cell_type": "markdown",
   "metadata": {},
   "source": [
    "# Hyper param search results"
   ]
  },
  {
   "cell_type": "markdown",
   "metadata": {},
   "source": [
    "## Gradient Boosting"
   ]
  },
  {
   "cell_type": "code",
   "execution_count": 8,
   "metadata": {},
   "outputs": [],
   "source": [
    "dd = pd.read_csv(\"Hyperparam_search/Graident_Tree_Boosting_GS_results.csv\")"
   ]
  },
  {
   "cell_type": "code",
   "execution_count": 113,
   "metadata": {},
   "outputs": [
    {
     "data": {
      "text/html": [
       "<div>\n",
       "<style scoped>\n",
       "    .dataframe tbody tr th:only-of-type {\n",
       "        vertical-align: middle;\n",
       "    }\n",
       "\n",
       "    .dataframe tbody tr th {\n",
       "        vertical-align: top;\n",
       "    }\n",
       "\n",
       "    .dataframe thead th {\n",
       "        text-align: right;\n",
       "    }\n",
       "</style>\n",
       "<table border=\"1\" class=\"dataframe\">\n",
       "  <thead>\n",
       "    <tr style=\"text-align: right;\">\n",
       "      <th></th>\n",
       "      <th>Unnamed: 0</th>\n",
       "      <th>mean_fit_time</th>\n",
       "      <th>std_fit_time</th>\n",
       "      <th>mean_score_time</th>\n",
       "      <th>std_score_time</th>\n",
       "      <th>param_learning_rate</th>\n",
       "      <th>param_n_estimators</th>\n",
       "      <th>param_n_iter_no_change</th>\n",
       "      <th>param_subsample</th>\n",
       "      <th>params</th>\n",
       "      <th>...</th>\n",
       "      <th>std_test_accuracy</th>\n",
       "      <th>rank_test_accuracy</th>\n",
       "      <th>split0_test_F1</th>\n",
       "      <th>split1_test_F1</th>\n",
       "      <th>split2_test_F1</th>\n",
       "      <th>split3_test_F1</th>\n",
       "      <th>split4_test_F1</th>\n",
       "      <th>mean_test_F1</th>\n",
       "      <th>std_test_F1</th>\n",
       "      <th>rank_test_F1</th>\n",
       "    </tr>\n",
       "  </thead>\n",
       "  <tbody>\n",
       "    <tr>\n",
       "      <td>1</td>\n",
       "      <td>1</td>\n",
       "      <td>1363.824692</td>\n",
       "      <td>160.471544</td>\n",
       "      <td>4.911603</td>\n",
       "      <td>0.592267</td>\n",
       "      <td>0.10</td>\n",
       "      <td>500</td>\n",
       "      <td>20</td>\n",
       "      <td>0.7</td>\n",
       "      <td>{'learning_rate': 0.1, 'n_estimators': 500, 'n...</td>\n",
       "      <td>...</td>\n",
       "      <td>0.003503</td>\n",
       "      <td>1</td>\n",
       "      <td>0.801555</td>\n",
       "      <td>0.809922</td>\n",
       "      <td>0.798996</td>\n",
       "      <td>0.811879</td>\n",
       "      <td>0.797032</td>\n",
       "      <td>0.803877</td>\n",
       "      <td>0.005944</td>\n",
       "      <td>1</td>\n",
       "    </tr>\n",
       "    <tr>\n",
       "      <td>2</td>\n",
       "      <td>2</td>\n",
       "      <td>1192.315114</td>\n",
       "      <td>131.051183</td>\n",
       "      <td>4.252643</td>\n",
       "      <td>0.439848</td>\n",
       "      <td>0.10</td>\n",
       "      <td>1000</td>\n",
       "      <td>20</td>\n",
       "      <td>0.7</td>\n",
       "      <td>{'learning_rate': 0.1, 'n_estimators': 1000, '...</td>\n",
       "      <td>...</td>\n",
       "      <td>0.002783</td>\n",
       "      <td>2</td>\n",
       "      <td>0.802123</td>\n",
       "      <td>0.805359</td>\n",
       "      <td>0.798023</td>\n",
       "      <td>0.812596</td>\n",
       "      <td>0.794693</td>\n",
       "      <td>0.802559</td>\n",
       "      <td>0.006184</td>\n",
       "      <td>2</td>\n",
       "    </tr>\n",
       "    <tr>\n",
       "      <td>3</td>\n",
       "      <td>3</td>\n",
       "      <td>1172.526933</td>\n",
       "      <td>491.750465</td>\n",
       "      <td>4.173367</td>\n",
       "      <td>1.614136</td>\n",
       "      <td>0.10</td>\n",
       "      <td>1500</td>\n",
       "      <td>20</td>\n",
       "      <td>0.7</td>\n",
       "      <td>{'learning_rate': 0.1, 'n_estimators': 1500, '...</td>\n",
       "      <td>...</td>\n",
       "      <td>0.006741</td>\n",
       "      <td>3</td>\n",
       "      <td>0.787281</td>\n",
       "      <td>0.815247</td>\n",
       "      <td>0.800108</td>\n",
       "      <td>0.806662</td>\n",
       "      <td>0.790726</td>\n",
       "      <td>0.800005</td>\n",
       "      <td>0.010244</td>\n",
       "      <td>3</td>\n",
       "    </tr>\n",
       "    <tr>\n",
       "      <td>7</td>\n",
       "      <td>7</td>\n",
       "      <td>3434.386611</td>\n",
       "      <td>64.535056</td>\n",
       "      <td>5.118638</td>\n",
       "      <td>2.428189</td>\n",
       "      <td>0.01</td>\n",
       "      <td>1500</td>\n",
       "      <td>20</td>\n",
       "      <td>0.7</td>\n",
       "      <td>{'learning_rate': 0.01, 'n_estimators': 1500, ...</td>\n",
       "      <td>...</td>\n",
       "      <td>0.003079</td>\n",
       "      <td>4</td>\n",
       "      <td>0.787937</td>\n",
       "      <td>0.799485</td>\n",
       "      <td>0.788407</td>\n",
       "      <td>0.796244</td>\n",
       "      <td>0.781238</td>\n",
       "      <td>0.790662</td>\n",
       "      <td>0.006486</td>\n",
       "      <td>4</td>\n",
       "    </tr>\n",
       "    <tr>\n",
       "      <td>6</td>\n",
       "      <td>6</td>\n",
       "      <td>3049.183289</td>\n",
       "      <td>113.677140</td>\n",
       "      <td>9.204574</td>\n",
       "      <td>1.622832</td>\n",
       "      <td>0.01</td>\n",
       "      <td>1000</td>\n",
       "      <td>20</td>\n",
       "      <td>0.7</td>\n",
       "      <td>{'learning_rate': 0.01, 'n_estimators': 1000, ...</td>\n",
       "      <td>...</td>\n",
       "      <td>0.002896</td>\n",
       "      <td>5</td>\n",
       "      <td>0.778441</td>\n",
       "      <td>0.789974</td>\n",
       "      <td>0.779116</td>\n",
       "      <td>0.790491</td>\n",
       "      <td>0.774551</td>\n",
       "      <td>0.782515</td>\n",
       "      <td>0.006494</td>\n",
       "      <td>5</td>\n",
       "    </tr>\n",
       "  </tbody>\n",
       "</table>\n",
       "<p>5 rows × 26 columns</p>\n",
       "</div>"
      ],
      "text/plain": [
       "   Unnamed: 0  mean_fit_time  std_fit_time  mean_score_time  std_score_time  \\\n",
       "1           1    1363.824692    160.471544         4.911603        0.592267   \n",
       "2           2    1192.315114    131.051183         4.252643        0.439848   \n",
       "3           3    1172.526933    491.750465         4.173367        1.614136   \n",
       "7           7    3434.386611     64.535056         5.118638        2.428189   \n",
       "6           6    3049.183289    113.677140         9.204574        1.622832   \n",
       "\n",
       "   param_learning_rate  param_n_estimators  param_n_iter_no_change  \\\n",
       "1                 0.10                 500                      20   \n",
       "2                 0.10                1000                      20   \n",
       "3                 0.10                1500                      20   \n",
       "7                 0.01                1500                      20   \n",
       "6                 0.01                1000                      20   \n",
       "\n",
       "   param_subsample                                             params  ...  \\\n",
       "1              0.7  {'learning_rate': 0.1, 'n_estimators': 500, 'n...  ...   \n",
       "2              0.7  {'learning_rate': 0.1, 'n_estimators': 1000, '...  ...   \n",
       "3              0.7  {'learning_rate': 0.1, 'n_estimators': 1500, '...  ...   \n",
       "7              0.7  {'learning_rate': 0.01, 'n_estimators': 1500, ...  ...   \n",
       "6              0.7  {'learning_rate': 0.01, 'n_estimators': 1000, ...  ...   \n",
       "\n",
       "   std_test_accuracy  rank_test_accuracy  split0_test_F1  split1_test_F1  \\\n",
       "1           0.003503                   1        0.801555        0.809922   \n",
       "2           0.002783                   2        0.802123        0.805359   \n",
       "3           0.006741                   3        0.787281        0.815247   \n",
       "7           0.003079                   4        0.787937        0.799485   \n",
       "6           0.002896                   5        0.778441        0.789974   \n",
       "\n",
       "   split2_test_F1  split3_test_F1  split4_test_F1  mean_test_F1  std_test_F1  \\\n",
       "1        0.798996        0.811879        0.797032      0.803877     0.005944   \n",
       "2        0.798023        0.812596        0.794693      0.802559     0.006184   \n",
       "3        0.800108        0.806662        0.790726      0.800005     0.010244   \n",
       "7        0.788407        0.796244        0.781238      0.790662     0.006486   \n",
       "6        0.779116        0.790491        0.774551      0.782515     0.006494   \n",
       "\n",
       "   rank_test_F1  \n",
       "1             1  \n",
       "2             2  \n",
       "3             3  \n",
       "7             4  \n",
       "6             5  \n",
       "\n",
       "[5 rows x 26 columns]"
      ]
     },
     "execution_count": 113,
     "metadata": {},
     "output_type": "execute_result"
    }
   ],
   "source": [
    "dd.sort_values(by=[\"mean_test_F1\"], ascending=False).head()"
   ]
  },
  {
   "cell_type": "code",
   "execution_count": 45,
   "metadata": {},
   "outputs": [
    {
     "data": {
      "text/plain": [
       "array([0.01, 0.1 ])"
      ]
     },
     "execution_count": 45,
     "metadata": {},
     "output_type": "execute_result"
    }
   ],
   "source": [
    "np.unique(dd[\"param_learning_rate\"].values)"
   ]
  },
  {
   "cell_type": "code",
   "execution_count": 46,
   "metadata": {},
   "outputs": [
    {
     "data": {
      "text/plain": [
       "array([ 100,  500, 1000, 1500])"
      ]
     },
     "execution_count": 46,
     "metadata": {},
     "output_type": "execute_result"
    }
   ],
   "source": [
    "np.unique(dd[\"param_n_estimators\"].values)"
   ]
  },
  {
   "cell_type": "code",
   "execution_count": 50,
   "metadata": {},
   "outputs": [],
   "source": [
    "LR,NE = np.meshgrid(np.unique(dd[\"param_learning_rate\"].values), np.unique(dd[\"param_n_estimators\"].values))"
   ]
  },
  {
   "cell_type": "code",
   "execution_count": 83,
   "metadata": {},
   "outputs": [
    {
     "data": {
      "text/plain": [
       "array([[0.01, 0.1 ],\n",
       "       [0.01, 0.1 ],\n",
       "       [0.01, 0.1 ],\n",
       "       [0.01, 0.1 ]])"
      ]
     },
     "execution_count": 83,
     "metadata": {},
     "output_type": "execute_result"
    }
   ],
   "source": [
    "LR"
   ]
  },
  {
   "cell_type": "code",
   "execution_count": 94,
   "metadata": {},
   "outputs": [],
   "source": [
    "dd_grid = lambda df,lr,ne: df[df[\"param_learning_rate\"]==lr][df[\"param_n_estimators\"]==ne][\"mean_test_F1\"].values[0]"
   ]
  },
  {
   "cell_type": "code",
   "execution_count": 95,
   "metadata": {},
   "outputs": [
    {
     "name": "stderr",
     "output_type": "stream",
     "text": [
      "/Users/Ghosty/.local/lib/python3.7/site-packages/ipykernel_launcher.py:1: UserWarning: Boolean Series key will be reindexed to match DataFrame index.\n",
      "  \"\"\"Entry point for launching an IPython kernel.\n"
     ]
    }
   ],
   "source": [
    "Y_1 = [dd_grid(dd,0.1, n) for n in np.unique(dd[\"param_n_estimators\"].values)]"
   ]
  },
  {
   "cell_type": "code",
   "execution_count": 96,
   "metadata": {},
   "outputs": [
    {
     "name": "stderr",
     "output_type": "stream",
     "text": [
      "/Users/Ghosty/.local/lib/python3.7/site-packages/ipykernel_launcher.py:1: UserWarning: Boolean Series key will be reindexed to match DataFrame index.\n",
      "  \"\"\"Entry point for launching an IPython kernel.\n"
     ]
    }
   ],
   "source": [
    "Y_2 = [dd_grid(dd,0.01, n) for n in np.unique(dd[\"param_n_estimators\"].values)]"
   ]
  },
  {
   "cell_type": "code",
   "execution_count": 97,
   "metadata": {},
   "outputs": [],
   "source": [
    "Z = np.vstack((Y_2, Y_1)).T"
   ]
  },
  {
   "cell_type": "code",
   "execution_count": 98,
   "metadata": {},
   "outputs": [
    {
     "data": {
      "image/png": "[encoded data removed]",
      "text/plain": [
       "<Figure size 720x504 with 2 Axes>"
      ]
     },
     "metadata": {
      "needs_background": "light"
     },
     "output_type": "display_data"
    }
   ],
   "source": [
    "plt.figure(figsize=(10,7))\n",
    "plt.contourf(LR, NE, Z, 20, cmap='RdGy')\n",
    "plt.colorbar()\n",
    "plt.show()"
   ]
  },
  {
   "cell_type": "code",
   "execution_count": 93,
   "metadata": {},
   "outputs": [],
   "source": [
    "dc = pd.read_csv(\"Hyperparam_search/Graident_Tree_Boosting_CVAE_LS_GS_results.csv\")"
   ]
  },
  {
   "cell_type": "code",
   "execution_count": 114,
   "metadata": {},
   "outputs": [
    {
     "data": {
      "text/html": [
       "<div>\n",
       "<style scoped>\n",
       "    .dataframe tbody tr th:only-of-type {\n",
       "        vertical-align: middle;\n",
       "    }\n",
       "\n",
       "    .dataframe tbody tr th {\n",
       "        vertical-align: top;\n",
       "    }\n",
       "\n",
       "    .dataframe thead th {\n",
       "        text-align: right;\n",
       "    }\n",
       "</style>\n",
       "<table border=\"1\" class=\"dataframe\">\n",
       "  <thead>\n",
       "    <tr style=\"text-align: right;\">\n",
       "      <th></th>\n",
       "      <th>Unnamed: 0</th>\n",
       "      <th>mean_fit_time</th>\n",
       "      <th>std_fit_time</th>\n",
       "      <th>mean_score_time</th>\n",
       "      <th>std_score_time</th>\n",
       "      <th>param_learning_rate</th>\n",
       "      <th>param_n_estimators</th>\n",
       "      <th>param_n_iter_no_change</th>\n",
       "      <th>param_subsample</th>\n",
       "      <th>params</th>\n",
       "      <th>...</th>\n",
       "      <th>std_test_accuracy</th>\n",
       "      <th>rank_test_accuracy</th>\n",
       "      <th>split0_test_F1</th>\n",
       "      <th>split1_test_F1</th>\n",
       "      <th>split2_test_F1</th>\n",
       "      <th>split3_test_F1</th>\n",
       "      <th>split4_test_F1</th>\n",
       "      <th>mean_test_F1</th>\n",
       "      <th>std_test_F1</th>\n",
       "      <th>rank_test_F1</th>\n",
       "    </tr>\n",
       "  </thead>\n",
       "  <tbody>\n",
       "    <tr>\n",
       "      <td>2</td>\n",
       "      <td>2</td>\n",
       "      <td>135.228478</td>\n",
       "      <td>40.145879</td>\n",
       "      <td>0.535533</td>\n",
       "      <td>0.153077</td>\n",
       "      <td>0.10</td>\n",
       "      <td>1000</td>\n",
       "      <td>20</td>\n",
       "      <td>0.7</td>\n",
       "      <td>{'learning_rate': 0.1, 'n_estimators': 1000, '...</td>\n",
       "      <td>...</td>\n",
       "      <td>0.002537</td>\n",
       "      <td>1</td>\n",
       "      <td>0.788781</td>\n",
       "      <td>0.803516</td>\n",
       "      <td>0.795395</td>\n",
       "      <td>0.802655</td>\n",
       "      <td>0.787875</td>\n",
       "      <td>0.795645</td>\n",
       "      <td>0.006613</td>\n",
       "      <td>1</td>\n",
       "    </tr>\n",
       "    <tr>\n",
       "      <td>3</td>\n",
       "      <td>3</td>\n",
       "      <td>63.831421</td>\n",
       "      <td>21.568672</td>\n",
       "      <td>0.267960</td>\n",
       "      <td>0.084825</td>\n",
       "      <td>0.10</td>\n",
       "      <td>1500</td>\n",
       "      <td>20</td>\n",
       "      <td>0.7</td>\n",
       "      <td>{'learning_rate': 0.1, 'n_estimators': 1500, '...</td>\n",
       "      <td>...</td>\n",
       "      <td>0.005036</td>\n",
       "      <td>2</td>\n",
       "      <td>0.785106</td>\n",
       "      <td>0.798503</td>\n",
       "      <td>0.796936</td>\n",
       "      <td>0.801955</td>\n",
       "      <td>0.781604</td>\n",
       "      <td>0.792821</td>\n",
       "      <td>0.007975</td>\n",
       "      <td>2</td>\n",
       "    </tr>\n",
       "    <tr>\n",
       "      <td>1</td>\n",
       "      <td>1</td>\n",
       "      <td>72.927708</td>\n",
       "      <td>36.371233</td>\n",
       "      <td>0.306629</td>\n",
       "      <td>0.144226</td>\n",
       "      <td>0.10</td>\n",
       "      <td>500</td>\n",
       "      <td>20</td>\n",
       "      <td>0.7</td>\n",
       "      <td>{'learning_rate': 0.1, 'n_estimators': 500, 'n...</td>\n",
       "      <td>...</td>\n",
       "      <td>0.007360</td>\n",
       "      <td>3</td>\n",
       "      <td>0.789289</td>\n",
       "      <td>0.793782</td>\n",
       "      <td>0.803340</td>\n",
       "      <td>0.804890</td>\n",
       "      <td>0.772151</td>\n",
       "      <td>0.792690</td>\n",
       "      <td>0.011805</td>\n",
       "      <td>3</td>\n",
       "    </tr>\n",
       "    <tr>\n",
       "      <td>7</td>\n",
       "      <td>7</td>\n",
       "      <td>442.726007</td>\n",
       "      <td>16.072229</td>\n",
       "      <td>1.697251</td>\n",
       "      <td>0.007759</td>\n",
       "      <td>0.01</td>\n",
       "      <td>1500</td>\n",
       "      <td>20</td>\n",
       "      <td>0.7</td>\n",
       "      <td>{'learning_rate': 0.01, 'n_estimators': 1500, ...</td>\n",
       "      <td>...</td>\n",
       "      <td>0.003054</td>\n",
       "      <td>4</td>\n",
       "      <td>0.783275</td>\n",
       "      <td>0.797217</td>\n",
       "      <td>0.789154</td>\n",
       "      <td>0.801060</td>\n",
       "      <td>0.779098</td>\n",
       "      <td>0.789961</td>\n",
       "      <td>0.008237</td>\n",
       "      <td>4</td>\n",
       "    </tr>\n",
       "    <tr>\n",
       "      <td>6</td>\n",
       "      <td>6</td>\n",
       "      <td>284.701999</td>\n",
       "      <td>8.511558</td>\n",
       "      <td>1.137838</td>\n",
       "      <td>0.012376</td>\n",
       "      <td>0.01</td>\n",
       "      <td>1000</td>\n",
       "      <td>20</td>\n",
       "      <td>0.7</td>\n",
       "      <td>{'learning_rate': 0.01, 'n_estimators': 1000, ...</td>\n",
       "      <td>...</td>\n",
       "      <td>0.003312</td>\n",
       "      <td>5</td>\n",
       "      <td>0.774004</td>\n",
       "      <td>0.788307</td>\n",
       "      <td>0.779025</td>\n",
       "      <td>0.790700</td>\n",
       "      <td>0.773780</td>\n",
       "      <td>0.781164</td>\n",
       "      <td>0.007104</td>\n",
       "      <td>5</td>\n",
       "    </tr>\n",
       "  </tbody>\n",
       "</table>\n",
       "<p>5 rows × 26 columns</p>\n",
       "</div>"
      ],
      "text/plain": [
       "   Unnamed: 0  mean_fit_time  std_fit_time  mean_score_time  std_score_time  \\\n",
       "2           2     135.228478     40.145879         0.535533        0.153077   \n",
       "3           3      63.831421     21.568672         0.267960        0.084825   \n",
       "1           1      72.927708     36.371233         0.306629        0.144226   \n",
       "7           7     442.726007     16.072229         1.697251        0.007759   \n",
       "6           6     284.701999      8.511558         1.137838        0.012376   \n",
       "\n",
       "   param_learning_rate  param_n_estimators  param_n_iter_no_change  \\\n",
       "2                 0.10                1000                      20   \n",
       "3                 0.10                1500                      20   \n",
       "1                 0.10                 500                      20   \n",
       "7                 0.01                1500                      20   \n",
       "6                 0.01                1000                      20   \n",
       "\n",
       "   param_subsample                                             params  ...  \\\n",
       "2              0.7  {'learning_rate': 0.1, 'n_estimators': 1000, '...  ...   \n",
       "3              0.7  {'learning_rate': 0.1, 'n_estimators': 1500, '...  ...   \n",
       "1              0.7  {'learning_rate': 0.1, 'n_estimators': 500, 'n...  ...   \n",
       "7              0.7  {'learning_rate': 0.01, 'n_estimators': 1500, ...  ...   \n",
       "6              0.7  {'learning_rate': 0.01, 'n_estimators': 1000, ...  ...   \n",
       "\n",
       "   std_test_accuracy  rank_test_accuracy  split0_test_F1  split1_test_F1  \\\n",
       "2           0.002537                   1        0.788781        0.803516   \n",
       "3           0.005036                   2        0.785106        0.798503   \n",
       "1           0.007360                   3        0.789289        0.793782   \n",
       "7           0.003054                   4        0.783275        0.797217   \n",
       "6           0.003312                   5        0.774004        0.788307   \n",
       "\n",
       "   split2_test_F1  split3_test_F1  split4_test_F1  mean_test_F1  std_test_F1  \\\n",
       "2        0.795395        0.802655        0.787875      0.795645     0.006613   \n",
       "3        0.796936        0.801955        0.781604      0.792821     0.007975   \n",
       "1        0.803340        0.804890        0.772151      0.792690     0.011805   \n",
       "7        0.789154        0.801060        0.779098      0.789961     0.008237   \n",
       "6        0.779025        0.790700        0.773780      0.781164     0.007104   \n",
       "\n",
       "   rank_test_F1  \n",
       "2             1  \n",
       "3             2  \n",
       "1             3  \n",
       "7             4  \n",
       "6             5  \n",
       "\n",
       "[5 rows x 26 columns]"
      ]
     },
     "execution_count": 114,
     "metadata": {},
     "output_type": "execute_result"
    }
   ],
   "source": [
    "dc.sort_values(by=[\"mean_test_F1\"], ascending=False).head()"
   ]
  },
  {
   "cell_type": "code",
   "execution_count": 101,
   "metadata": {},
   "outputs": [
    {
     "name": "stderr",
     "output_type": "stream",
     "text": [
      "/Users/Ghosty/.local/lib/python3.7/site-packages/ipykernel_launcher.py:1: UserWarning: Boolean Series key will be reindexed to match DataFrame index.\n",
      "  \"\"\"Entry point for launching an IPython kernel.\n"
     ]
    }
   ],
   "source": [
    "Y_1 = [dd_grid(dc,0.01, n) for n in np.unique(dc[\"param_n_estimators\"].values)]\n",
    "Y_2 = [dd_grid(dc,0.1, n) for n in np.unique(dc[\"param_n_estimators\"].values)]\n",
    "Z1 = np.vstack((Y_1, Y_2)).T"
   ]
  },
  {
   "cell_type": "code",
   "execution_count": 102,
   "metadata": {},
   "outputs": [
    {
     "data": {
      "image/png": "[encoded data removed]",
      "text/plain": [
       "<Figure size 720x504 with 2 Axes>"
      ]
     },
     "metadata": {
      "needs_background": "light"
     },
     "output_type": "display_data"
    }
   ],
   "source": [
    "plt.figure(figsize=(10,7))\n",
    "plt.contourf(LR, NE, Z1, 20, cmap='RdGy')\n",
    "plt.colorbar()\n",
    "plt.show()"
   ]
  },
  {
   "cell_type": "code",
   "execution_count": 103,
   "metadata": {},
   "outputs": [],
   "source": [
    "dr = pd.read_csv(\"Hyperparam_search/Graident_Tree_Boosting_LSTMVAE_LS_GS_results.csv\")"
   ]
  },
  {
   "cell_type": "code",
   "execution_count": 119,
   "metadata": {},
   "outputs": [
    {
     "data": {
      "text/html": [
       "<div>\n",
       "<style scoped>\n",
       "    .dataframe tbody tr th:only-of-type {\n",
       "        vertical-align: middle;\n",
       "    }\n",
       "\n",
       "    .dataframe tbody tr th {\n",
       "        vertical-align: top;\n",
       "    }\n",
       "\n",
       "    .dataframe thead th {\n",
       "        text-align: right;\n",
       "    }\n",
       "</style>\n",
       "<table border=\"1\" class=\"dataframe\">\n",
       "  <thead>\n",
       "    <tr style=\"text-align: right;\">\n",
       "      <th></th>\n",
       "      <th>Unnamed: 0</th>\n",
       "      <th>mean_fit_time</th>\n",
       "      <th>std_fit_time</th>\n",
       "      <th>mean_score_time</th>\n",
       "      <th>std_score_time</th>\n",
       "      <th>param_learning_rate</th>\n",
       "      <th>param_n_estimators</th>\n",
       "      <th>param_n_iter_no_change</th>\n",
       "      <th>param_subsample</th>\n",
       "      <th>params</th>\n",
       "      <th>...</th>\n",
       "      <th>std_test_accuracy</th>\n",
       "      <th>rank_test_accuracy</th>\n",
       "      <th>split0_test_F1</th>\n",
       "      <th>split1_test_F1</th>\n",
       "      <th>split2_test_F1</th>\n",
       "      <th>split3_test_F1</th>\n",
       "      <th>split4_test_F1</th>\n",
       "      <th>mean_test_F1</th>\n",
       "      <th>std_test_F1</th>\n",
       "      <th>rank_test_F1</th>\n",
       "    </tr>\n",
       "  </thead>\n",
       "  <tbody>\n",
       "    <tr>\n",
       "      <td>2</td>\n",
       "      <td>2</td>\n",
       "      <td>72.628706</td>\n",
       "      <td>16.228849</td>\n",
       "      <td>0.296876</td>\n",
       "      <td>0.060181</td>\n",
       "      <td>0.10</td>\n",
       "      <td>1000</td>\n",
       "      <td>20</td>\n",
       "      <td>0.7</td>\n",
       "      <td>{'learning_rate': 0.1, 'n_estimators': 1000, '...</td>\n",
       "      <td>...</td>\n",
       "      <td>0.004295</td>\n",
       "      <td>1</td>\n",
       "      <td>0.766551</td>\n",
       "      <td>0.784310</td>\n",
       "      <td>0.776741</td>\n",
       "      <td>0.785773</td>\n",
       "      <td>0.773225</td>\n",
       "      <td>0.777320</td>\n",
       "      <td>0.007119</td>\n",
       "      <td>1</td>\n",
       "    </tr>\n",
       "    <tr>\n",
       "      <td>7</td>\n",
       "      <td>7</td>\n",
       "      <td>426.715195</td>\n",
       "      <td>17.676517</td>\n",
       "      <td>1.677381</td>\n",
       "      <td>0.042079</td>\n",
       "      <td>0.01</td>\n",
       "      <td>1500</td>\n",
       "      <td>20</td>\n",
       "      <td>0.7</td>\n",
       "      <td>{'learning_rate': 0.01, 'n_estimators': 1500, ...</td>\n",
       "      <td>...</td>\n",
       "      <td>0.003454</td>\n",
       "      <td>3</td>\n",
       "      <td>0.770459</td>\n",
       "      <td>0.780865</td>\n",
       "      <td>0.776847</td>\n",
       "      <td>0.781425</td>\n",
       "      <td>0.766778</td>\n",
       "      <td>0.775275</td>\n",
       "      <td>0.005778</td>\n",
       "      <td>2</td>\n",
       "    </tr>\n",
       "    <tr>\n",
       "      <td>1</td>\n",
       "      <td>1</td>\n",
       "      <td>60.229023</td>\n",
       "      <td>19.307404</td>\n",
       "      <td>0.246718</td>\n",
       "      <td>0.071638</td>\n",
       "      <td>0.10</td>\n",
       "      <td>500</td>\n",
       "      <td>20</td>\n",
       "      <td>0.7</td>\n",
       "      <td>{'learning_rate': 0.1, 'n_estimators': 500, 'n...</td>\n",
       "      <td>...</td>\n",
       "      <td>0.004450</td>\n",
       "      <td>2</td>\n",
       "      <td>0.769641</td>\n",
       "      <td>0.784327</td>\n",
       "      <td>0.771124</td>\n",
       "      <td>0.782359</td>\n",
       "      <td>0.768664</td>\n",
       "      <td>0.775223</td>\n",
       "      <td>0.006705</td>\n",
       "      <td>3</td>\n",
       "    </tr>\n",
       "    <tr>\n",
       "      <td>3</td>\n",
       "      <td>3</td>\n",
       "      <td>54.951538</td>\n",
       "      <td>21.385327</td>\n",
       "      <td>0.223219</td>\n",
       "      <td>0.077701</td>\n",
       "      <td>0.10</td>\n",
       "      <td>1500</td>\n",
       "      <td>20</td>\n",
       "      <td>0.7</td>\n",
       "      <td>{'learning_rate': 0.1, 'n_estimators': 1500, '...</td>\n",
       "      <td>...</td>\n",
       "      <td>0.004027</td>\n",
       "      <td>4</td>\n",
       "      <td>0.763158</td>\n",
       "      <td>0.781094</td>\n",
       "      <td>0.771697</td>\n",
       "      <td>0.781519</td>\n",
       "      <td>0.768503</td>\n",
       "      <td>0.773194</td>\n",
       "      <td>0.007165</td>\n",
       "      <td>4</td>\n",
       "    </tr>\n",
       "    <tr>\n",
       "      <td>6</td>\n",
       "      <td>6</td>\n",
       "      <td>285.818368</td>\n",
       "      <td>13.736511</td>\n",
       "      <td>1.138197</td>\n",
       "      <td>0.013024</td>\n",
       "      <td>0.01</td>\n",
       "      <td>1000</td>\n",
       "      <td>20</td>\n",
       "      <td>0.7</td>\n",
       "      <td>{'learning_rate': 0.01, 'n_estimators': 1000, ...</td>\n",
       "      <td>...</td>\n",
       "      <td>0.004276</td>\n",
       "      <td>5</td>\n",
       "      <td>0.764572</td>\n",
       "      <td>0.782514</td>\n",
       "      <td>0.773292</td>\n",
       "      <td>0.778818</td>\n",
       "      <td>0.762343</td>\n",
       "      <td>0.772308</td>\n",
       "      <td>0.007832</td>\n",
       "      <td>5</td>\n",
       "    </tr>\n",
       "  </tbody>\n",
       "</table>\n",
       "<p>5 rows × 26 columns</p>\n",
       "</div>"
      ],
      "text/plain": [
       "   Unnamed: 0  mean_fit_time  std_fit_time  mean_score_time  std_score_time  \\\n",
       "2           2      72.628706     16.228849         0.296876        0.060181   \n",
       "7           7     426.715195     17.676517         1.677381        0.042079   \n",
       "1           1      60.229023     19.307404         0.246718        0.071638   \n",
       "3           3      54.951538     21.385327         0.223219        0.077701   \n",
       "6           6     285.818368     13.736511         1.138197        0.013024   \n",
       "\n",
       "   param_learning_rate  param_n_estimators  param_n_iter_no_change  \\\n",
       "2                 0.10                1000                      20   \n",
       "7                 0.01                1500                      20   \n",
       "1                 0.10                 500                      20   \n",
       "3                 0.10                1500                      20   \n",
       "6                 0.01                1000                      20   \n",
       "\n",
       "   param_subsample                                             params  ...  \\\n",
       "2              0.7  {'learning_rate': 0.1, 'n_estimators': 1000, '...  ...   \n",
       "7              0.7  {'learning_rate': 0.01, 'n_estimators': 1500, ...  ...   \n",
       "1              0.7  {'learning_rate': 0.1, 'n_estimators': 500, 'n...  ...   \n",
       "3              0.7  {'learning_rate': 0.1, 'n_estimators': 1500, '...  ...   \n",
       "6              0.7  {'learning_rate': 0.01, 'n_estimators': 1000, ...  ...   \n",
       "\n",
       "   std_test_accuracy  rank_test_accuracy  split0_test_F1  split1_test_F1  \\\n",
       "2           0.004295                   1        0.766551        0.784310   \n",
       "7           0.003454                   3        0.770459        0.780865   \n",
       "1           0.004450                   2        0.769641        0.784327   \n",
       "3           0.004027                   4        0.763158        0.781094   \n",
       "6           0.004276                   5        0.764572        0.782514   \n",
       "\n",
       "   split2_test_F1  split3_test_F1  split4_test_F1  mean_test_F1  std_test_F1  \\\n",
       "2        0.776741        0.785773        0.773225      0.777320     0.007119   \n",
       "7        0.776847        0.781425        0.766778      0.775275     0.005778   \n",
       "1        0.771124        0.782359        0.768664      0.775223     0.006705   \n",
       "3        0.771697        0.781519        0.768503      0.773194     0.007165   \n",
       "6        0.773292        0.778818        0.762343      0.772308     0.007832   \n",
       "\n",
       "   rank_test_F1  \n",
       "2             1  \n",
       "7             2  \n",
       "1             3  \n",
       "3             4  \n",
       "6             5  \n",
       "\n",
       "[5 rows x 26 columns]"
      ]
     },
     "execution_count": 119,
     "metadata": {},
     "output_type": "execute_result"
    }
   ],
   "source": [
    "dr.sort_values(by=[\"mean_test_F1\"], ascending=False).head()"
   ]
  },
  {
   "cell_type": "code",
   "execution_count": 104,
   "metadata": {},
   "outputs": [
    {
     "name": "stderr",
     "output_type": "stream",
     "text": [
      "/Users/Ghosty/.local/lib/python3.7/site-packages/ipykernel_launcher.py:1: UserWarning: Boolean Series key will be reindexed to match DataFrame index.\n",
      "  \"\"\"Entry point for launching an IPython kernel.\n"
     ]
    }
   ],
   "source": [
    "Y_1 = [dd_grid(dr,0.01, n) for n in np.unique(dr[\"param_n_estimators\"].values)]\n",
    "Y_2 = [dd_grid(dr,0.1, n) for n in np.unique(dr[\"param_n_estimators\"].values)]\n",
    "Z2 = np.vstack((Y_1, Y_2)).T"
   ]
  },
  {
   "cell_type": "code",
   "execution_count": 105,
   "metadata": {},
   "outputs": [
    {
     "data": {
      "image/png": "[encoded data removed]",
      "text/plain": [
       "<Figure size 720x504 with 2 Axes>"
      ]
     },
     "metadata": {
      "needs_background": "light"
     },
     "output_type": "display_data"
    }
   ],
   "source": [
    "plt.figure(figsize=(10,7))\n",
    "plt.contourf(LR, NE, Z2, 20, cmap='RdGy')\n",
    "plt.colorbar()\n",
    "plt.show()"
   ]
  },
  {
   "cell_type": "code",
   "execution_count": null,
   "metadata": {},
   "outputs": [],
   "source": [
    "1/(np.var(X_train)*X_train.shape[1])"
   ]
  },
  {
   "cell_type": "markdown",
   "metadata": {},
   "source": [
    "# Best params \n",
    "## DeepDense VAE"
   ]
  },
  {
   "cell_type": "code",
   "execution_count": 142,
   "metadata": {},
   "outputs": [],
   "source": [
    "X_train = np.load(\"data/encoded_data_train_DeepDenseVAE_mark_V_[160-256-128-15]_VDO_GNLL_400ep_lr-1e-4.npy\")\n",
    "y_train = np.load(\"data/labels_train.npy\")\n",
    "X_test = np.load(\"data/encoded_data_test_DeepDenseVAE_mark_V_[160-256-128-15]_VDO_GNLL_400ep_lr-1e-4.npy\")\n",
    "y_test = np.load(\"data/labels_test.npy\")"
   ]
  },
  {
   "cell_type": "code",
   "execution_count": 143,
   "metadata": {},
   "outputs": [],
   "source": [
    "dd_clf = GradientBoostingClassifier(n_estimators=500, learning_rate=0.1, subsample=0.7, n_iter_no_change=50, verbose=True)"
   ]
  },
  {
   "cell_type": "code",
   "execution_count": 144,
   "metadata": {},
   "outputs": [
    {
     "name": "stdout",
     "output_type": "stream",
     "text": [
      "      Iter       Train Loss      OOB Improve   Remaining Time \n",
      "         1       36131.2409        1960.4802            4.81m\n",
      "         2       33622.5183         991.0259            4.68m\n",
      "         3       31907.7924         764.3794            5.19m\n",
      "         4       30344.8810         598.4269            5.05m\n",
      "         5       29238.9626         522.5916            5.18m\n",
      "         6       28199.3410         413.4237            5.21m\n",
      "         7       27495.1159         325.4065            5.13m\n",
      "         8       26708.6730         323.8698            5.12m\n",
      "         9       26146.1703         256.2357            5.42m\n",
      "        10       25422.6371         252.1090            5.76m\n",
      "        20       22180.7544          92.5340            5.28m\n",
      "        30       20562.5346          59.1883            5.09m\n",
      "        40       19456.6186          26.2112            5.10m\n",
      "        50       18711.4918          26.9687            4.99m\n",
      "        60       18213.8957          12.8264            5.01m\n",
      "        70       17683.1057          13.6030            4.91m\n",
      "        80       17292.5532           5.0260            4.73m\n",
      "        90       17024.7462           3.6201            4.66m\n",
      "       100       16742.6072           2.0481            4.44m\n",
      "       200       14844.4828           0.2255            2.97m\n",
      "       300       13850.0742          -0.1816            1.88m\n",
      "       400       13209.6513          -0.2875           54.84s\n",
      "       500       12499.2337          -0.6713            0.00s\n"
     ]
    },
    {
     "data": {
      "text/plain": [
       "GradientBoostingClassifier(criterion='friedman_mse', init=None,\n",
       "                           learning_rate=0.1, loss='deviance', max_depth=3,\n",
       "                           max_features=None, max_leaf_nodes=None,\n",
       "                           min_impurity_decrease=0.0, min_impurity_split=None,\n",
       "                           min_samples_leaf=1, min_samples_split=2,\n",
       "                           min_weight_fraction_leaf=0.0, n_estimators=500,\n",
       "                           n_iter_no_change=50, presort='auto',\n",
       "                           random_state=None, subsample=0.7, tol=0.0001,\n",
       "                           validation_fraction=0.1, verbose=True,\n",
       "                           warm_start=False)"
      ]
     },
     "execution_count": 144,
     "metadata": {},
     "output_type": "execute_result"
    }
   ],
   "source": [
    "dd_clf.fit(X_train, y_train)"
   ]
  },
  {
   "cell_type": "code",
   "execution_count": 145,
   "metadata": {},
   "outputs": [
    {
     "data": {
      "text/plain": [
       "500"
      ]
     },
     "execution_count": 145,
     "metadata": {},
     "output_type": "execute_result"
    }
   ],
   "source": [
    "dd_clf.n_estimators_"
   ]
  },
  {
   "cell_type": "code",
   "execution_count": 146,
   "metadata": {},
   "outputs": [
    {
     "data": {
      "text/plain": [
       "['models_and_losses/Gradient_Tree_Boosting_DeepDenseVAE{n_estim=500-early_stopping,lr=0,1,subsample=0,7}.joblib']"
      ]
     },
     "execution_count": 146,
     "metadata": {},
     "output_type": "execute_result"
    }
   ],
   "source": [
    "#joblib.dump(dd_clf, \"models_and_losses/Gradient_Tree_Boosting_DeepDenseVAE{n_estim=500-early_stopping,lr=0,1,subsample=0,7}.joblib\")"
   ]
  },
  {
   "cell_type": "code",
   "execution_count": 147,
   "metadata": {},
   "outputs": [],
   "source": [
    "y_pred_dd = dd_clf.predict(X_test)"
   ]
  },
  {
   "cell_type": "code",
   "execution_count": 148,
   "metadata": {},
   "outputs": [
    {
     "data": {
      "text/plain": [
       "0.8167759394182772"
      ]
     },
     "execution_count": 148,
     "metadata": {},
     "output_type": "execute_result"
    }
   ],
   "source": [
    "f1_score(y_true=y_test, y_pred = y_pred_dd, average=\"macro\")"
   ]
  },
  {
   "cell_type": "code",
   "execution_count": 149,
   "metadata": {},
   "outputs": [
    {
     "data": {
      "text/plain": [
       "0.857373326959847"
      ]
     },
     "execution_count": 149,
     "metadata": {},
     "output_type": "execute_result"
    }
   ],
   "source": [
    "accuracy_score(y_true=y_test, y_pred = y_pred_dd)"
   ]
  },
  {
   "cell_type": "code",
   "execution_count": 150,
   "metadata": {},
   "outputs": [
    {
     "data": {
      "text/plain": [
       "array([[2884, 1185,   26,  140],\n",
       "       [ 405, 9874,   34,  132],\n",
       "       [  25,   48,  391,   15],\n",
       "       [ 185,  179,   13, 1200]])"
      ]
     },
     "execution_count": 150,
     "metadata": {},
     "output_type": "execute_result"
    }
   ],
   "source": [
    "confusion_matrix(y_true=y_test, y_pred = y_pred_dd)"
   ]
  },
  {
   "cell_type": "markdown",
   "metadata": {},
   "source": [
    "## CNN-VAE"
   ]
  },
  {
   "cell_type": "code",
   "execution_count": 151,
   "metadata": {},
   "outputs": [],
   "source": [
    "X_train = np.load(\"data/encoded_data_train_DeepConvVAE_ELU_NLL_250ep_lr-{1e-3, 1e-4}_bs-300.npy\")\n",
    "X_test = np.load(\"data/encoded_data_test_DeepConvVAE_ELU_NLL_250ep_lr-{1e-3, 1e-4}_bs-300.npy\")"
   ]
  },
  {
   "cell_type": "code",
   "execution_count": 152,
   "metadata": {},
   "outputs": [],
   "source": [
    "dc_clf = GradientBoostingClassifier(n_estimators=1000, learning_rate=0.1, subsample=0.7, n_iter_no_change=50, verbose=True)"
   ]
  },
  {
   "cell_type": "code",
   "execution_count": 153,
   "metadata": {},
   "outputs": [
    {
     "name": "stdout",
     "output_type": "stream",
     "text": [
      "      Iter       Train Loss      OOB Improve   Remaining Time \n",
      "         1       35928.6610        1994.3430           10.00m\n",
      "         2       33612.0603        1029.3719            9.42m\n",
      "         3       31690.2714         775.5264            9.20m\n",
      "         4       30349.4240         610.3557            9.12m\n",
      "         5       29206.7606         492.8922            9.28m\n",
      "         6       28169.1437         406.5100            9.26m\n",
      "         7       27298.3573         352.7039            9.35m\n",
      "         8       26622.9455         291.5632            9.58m\n",
      "         9       25921.8196         269.1957            9.72m\n",
      "        10       25512.4242         222.6032            9.62m\n",
      "        20       21998.7155          91.1914            9.04m\n",
      "        30       20396.1107          28.4340            8.85m\n",
      "        40       19425.7226          19.7256            8.65m\n",
      "        50       18830.8415          12.0093            8.53m\n",
      "        60       18199.8996          16.6281            8.59m\n",
      "        70       17755.0351          10.3283            8.70m\n",
      "        80       17441.8054           9.7543            8.52m\n",
      "        90       17093.6050           8.9928            8.34m\n",
      "       100       16905.2554           7.7986            8.20m\n",
      "       200       15054.0220           0.8772            7.01m\n",
      "       300       14112.8184          -0.0210            6.03m\n",
      "       400       13385.3481          -0.3559            5.20m\n",
      "       500       12796.3853           0.8355            4.29m\n"
     ]
    },
    {
     "data": {
      "text/plain": [
       "GradientBoostingClassifier(criterion='friedman_mse', init=None,\n",
       "                           learning_rate=0.1, loss='deviance', max_depth=3,\n",
       "                           max_features=None, max_leaf_nodes=None,\n",
       "                           min_impurity_decrease=0.0, min_impurity_split=None,\n",
       "                           min_samples_leaf=1, min_samples_split=2,\n",
       "                           min_weight_fraction_leaf=0.0, n_estimators=1000,\n",
       "                           n_iter_no_change=50, presort='auto',\n",
       "                           random_state=None, subsample=0.7, tol=0.0001,\n",
       "                           validation_fraction=0.1, verbose=True,\n",
       "                           warm_start=False)"
      ]
     },
     "execution_count": 153,
     "metadata": {},
     "output_type": "execute_result"
    }
   ],
   "source": [
    "dc_clf.fit(X_train, y_train)"
   ]
  },
  {
   "cell_type": "code",
   "execution_count": 154,
   "metadata": {},
   "outputs": [
    {
     "data": {
      "text/plain": [
       "579"
      ]
     },
     "execution_count": 154,
     "metadata": {},
     "output_type": "execute_result"
    }
   ],
   "source": [
    "dc_clf.n_estimators_"
   ]
  },
  {
   "cell_type": "code",
   "execution_count": 155,
   "metadata": {},
   "outputs": [
    {
     "data": {
      "text/plain": [
       "['models_and_losses/Gradient_Tree_Boosting_CNN-VAE{n_estim=579-early_stopping,lr=0,1,subsample=0,7}.joblib']"
      ]
     },
     "execution_count": 155,
     "metadata": {},
     "output_type": "execute_result"
    }
   ],
   "source": [
    "#joblib.dump(dc_clf, \"models_and_losses/Gradient_Tree_Boosting_CNN-VAE{n_estim=579-early_stopping,lr=0,1,subsample=0,7}.joblib\")"
   ]
  },
  {
   "cell_type": "code",
   "execution_count": 156,
   "metadata": {},
   "outputs": [],
   "source": [
    "y_pred_dc = dc_clf.predict(X_test)"
   ]
  },
  {
   "cell_type": "code",
   "execution_count": 157,
   "metadata": {},
   "outputs": [
    {
     "data": {
      "text/plain": [
       "0.8163829270773644"
      ]
     },
     "execution_count": 157,
     "metadata": {},
     "output_type": "execute_result"
    }
   ],
   "source": [
    "f1_score(y_true=y_test, y_pred = y_pred_dc, average=\"macro\")"
   ]
  },
  {
   "cell_type": "code",
   "execution_count": 158,
   "metadata": {},
   "outputs": [
    {
     "data": {
      "text/plain": [
       "0.8560587954110899"
      ]
     },
     "execution_count": 158,
     "metadata": {},
     "output_type": "execute_result"
    }
   ],
   "source": [
    "accuracy_score(y_true=y_test, y_pred = y_pred_dc)"
   ]
  },
  {
   "cell_type": "code",
   "execution_count": 159,
   "metadata": {},
   "outputs": [
    {
     "data": {
      "text/plain": [
       "array([[2851, 1227,   23,  134],\n",
       "       [ 436, 9860,   42,  107],\n",
       "       [  26,   46,  391,   16],\n",
       "       [ 172,  160,   20, 1225]])"
      ]
     },
     "execution_count": 159,
     "metadata": {},
     "output_type": "execute_result"
    }
   ],
   "source": [
    "confusion_matrix(y_true=y_test, y_pred = y_pred_dc)"
   ]
  },
  {
   "cell_type": "markdown",
   "metadata": {},
   "source": [
    "## LSTM-VAE"
   ]
  },
  {
   "cell_type": "code",
   "execution_count": 178,
   "metadata": {},
   "outputs": [],
   "source": [
    "X_train1 = np.load(\"data/mu_lstm1.npy\")\n",
    "X_train2 = np.load(\"data/mu_lstm2.npy\")\n",
    "X_train3 = np.load(\"data/mu_lstm3.npy\")\n",
    "\n",
    "X_train = np.vstack((X_train1, X_train2, X_train3))\n",
    "\n",
    "X_test = np.load(\"data/mu_lstm_test.npy\")"
   ]
  },
  {
   "cell_type": "code",
   "execution_count": 161,
   "metadata": {},
   "outputs": [],
   "source": [
    "dr_clf = GradientBoostingClassifier(n_estimators=1000, learning_rate=0.1, subsample=0.7, n_iter_no_change=50, verbose=True)"
   ]
  },
  {
   "cell_type": "code",
   "execution_count": 162,
   "metadata": {},
   "outputs": [
    {
     "name": "stdout",
     "output_type": "stream",
     "text": [
      "      Iter       Train Loss      OOB Improve   Remaining Time \n",
      "         1       35513.6796        2241.4136            9.42m\n",
      "         2       32892.3387        1094.0257            9.41m\n",
      "         3       31146.9739         800.8722            9.14m\n",
      "         4       29506.8873         616.6117            9.28m\n",
      "         5       28277.0804         508.9576            9.15m\n",
      "         6       27309.3442         394.3256            9.85m\n",
      "         7       26650.6110         331.9223            9.77m\n",
      "         8       25981.6419         273.4865            9.66m\n",
      "         9       25328.5222         282.8019            9.61m\n",
      "        10       24848.7343         227.3767            9.50m\n",
      "        20       21507.1352          71.6896            9.40m\n",
      "        30       19880.8460          43.1108           10.07m\n",
      "        40       19093.0261          23.5123            9.65m\n",
      "        50       18501.6901          11.8172            9.38m\n",
      "        60       18071.4008           5.8146            9.04m\n",
      "        70       17764.7936           8.4189            8.83m\n",
      "        80       17613.9463           7.9597            8.60m\n",
      "        90       17422.5205           3.2065            8.41m\n",
      "       100       17199.1549           7.3237            8.23m\n",
      "       200       16023.1962          -0.0290            6.99m\n",
      "       300       15191.8447          -1.6179            6.00m\n"
     ]
    },
    {
     "data": {
      "text/plain": [
       "GradientBoostingClassifier(criterion='friedman_mse', init=None,\n",
       "                           learning_rate=0.1, loss='deviance', max_depth=3,\n",
       "                           max_features=None, max_leaf_nodes=None,\n",
       "                           min_impurity_decrease=0.0, min_impurity_split=None,\n",
       "                           min_samples_leaf=1, min_samples_split=2,\n",
       "                           min_weight_fraction_leaf=0.0, n_estimators=1000,\n",
       "                           n_iter_no_change=50, presort='auto',\n",
       "                           random_state=None, subsample=0.7, tol=0.0001,\n",
       "                           validation_fraction=0.1, verbose=True,\n",
       "                           warm_start=False)"
      ]
     },
     "execution_count": 162,
     "metadata": {},
     "output_type": "execute_result"
    }
   ],
   "source": [
    "dr_clf.fit(X_train, y_train)"
   ]
  },
  {
   "cell_type": "code",
   "execution_count": 163,
   "metadata": {},
   "outputs": [
    {
     "data": {
      "text/plain": [
       "362"
      ]
     },
     "execution_count": 163,
     "metadata": {},
     "output_type": "execute_result"
    }
   ],
   "source": [
    "dr_clf.n_estimators_"
   ]
  },
  {
   "cell_type": "code",
   "execution_count": 183,
   "metadata": {},
   "outputs": [
    {
     "data": {
      "text/plain": [
       "['models_and_losses/Gradient_Tree_Boosting_LSTM-VAE{n_estim=368-early_stopping,lr=0,1,subsample=0,7}.joblib']"
      ]
     },
     "execution_count": 183,
     "metadata": {},
     "output_type": "execute_result"
    }
   ],
   "source": [
    "#joblib.dump(dc_clf, \"models_and_losses/Gradient_Tree_Boosting_LSTM-VAE{n_estim=362-early_stopping,lr=0,1,subsample=0,7}.joblib\")"
   ]
  },
  {
   "cell_type": "code",
   "execution_count": 179,
   "metadata": {},
   "outputs": [],
   "source": [
    "y_pred_dr = dr_clf.predict(X_test)"
   ]
  },
  {
   "cell_type": "code",
   "execution_count": 180,
   "metadata": {},
   "outputs": [
    {
     "data": {
      "text/plain": [
       "0.792792574984842"
      ]
     },
     "execution_count": 180,
     "metadata": {},
     "output_type": "execute_result"
    }
   ],
   "source": [
    "f1_score(y_true=y_test, y_pred = y_pred_dr, average=\"macro\")"
   ]
  },
  {
   "cell_type": "code",
   "execution_count": 181,
   "metadata": {},
   "outputs": [
    {
     "data": {
      "text/plain": [
       "0.831560707456979"
      ]
     },
     "execution_count": 181,
     "metadata": {},
     "output_type": "execute_result"
    }
   ],
   "source": [
    "accuracy_score(y_true=y_test, y_pred = y_pred_dr)"
   ]
  },
  {
   "cell_type": "code",
   "execution_count": 182,
   "metadata": {},
   "outputs": [
    {
     "data": {
      "text/plain": [
       "array([[2491, 1577,   32,  135],\n",
       "       [ 459, 9795,   46,  145],\n",
       "       [  20,   43,  399,   17],\n",
       "       [ 162,  156,   27, 1232]])"
      ]
     },
     "execution_count": 182,
     "metadata": {},
     "output_type": "execute_result"
    }
   ],
   "source": [
    "confusion_matrix(y_true=y_test, y_pred = y_pred_dr)"
   ]
  },
  {
   "cell_type": "code",
   "execution_count": null,
   "metadata": {},
   "outputs": [],
   "source": []
  },
  {
   "cell_type": "code",
   "execution_count": null,
   "metadata": {},
   "outputs": [],
   "source": []
  },
  {
   "cell_type": "code",
   "execution_count": null,
   "metadata": {},
   "outputs": [],
   "source": []
  }
 ],
 "metadata": {
  "kernelspec": {
   "display_name": "Pytorch",
   "language": "python",
   "name": "pytorch"
  },
  "language_info": {
   "codemirror_mode": {
    "name": "ipython",
    "version": 3
   },
   "file_extension": ".py",
   "mimetype": "text/x-python",
   "name": "python",
   "nbconvert_exporter": "python",
   "pygments_lexer": "ipython3",
   "version": "3.7.4"
  }
 },
 "nbformat": 4,
 "nbformat_minor": 2
}
