{
 "cells": [
  {
   "cell_type": "code",
   "execution_count": 1,
   "metadata": {
    "colab": {},
    "colab_type": "code",
    "id": "SCOGgPDrM9zN"
   },
   "outputs": [],
   "source": [
    "import numpy as np \n",
    "import time\n",
    "\n",
    "import torch \n",
    "import torch.nn as nn\n",
    "import torch.nn.functional as F \n",
    "\n",
    "import matplotlib.pyplot as plt\n",
    "from collections import OrderedDict\n",
    "\n",
    "from sklearn.model_selection import train_test_split\n",
    "from sklearn.metrics import confusion_matrix, accuracy_score, f1_score\n",
    "from sklearn.preprocessing import RobustScaler\n",
    "\n",
    "from utils.inference import Trainer, plot_loss\n",
    "from utils.models import DNN\n",
    "import utils.datasets as d"
   ]
  },
  {
   "cell_type": "markdown",
   "metadata": {
    "colab_type": "text",
    "id": "u2VWYVWNR0_K"
   },
   "source": [
    "# With sampling"
   ]
  },
  {
   "cell_type": "code",
   "execution_count": 2,
   "metadata": {
    "colab": {},
    "colab_type": "code",
    "id": "lthUbpn6R5mm"
   },
   "outputs": [],
   "source": [
    "X = np.vstack((np.load(\"data/sequenced_data_for_VAE_length-160_stride-10_pt1.npy\"),\n",
    "               np.load(\"data/sequenced_data_for_VAE_length-160_stride-10_pt2.npy\")))\n",
    "y = np.load(\"data/sequenced_data_for_VAE_length-160_stride-10_targets.npy\")"
   ]
  },
  {
   "cell_type": "code",
   "execution_count": 3,
   "metadata": {
    "colab": {},
    "colab_type": "code",
    "id": "kSbBqmZrSFuu"
   },
   "outputs": [],
   "source": [
    "X_train, X_test, y_train, y_test = train_test_split(np.array(X), np.array(y), test_size=0.2, random_state=666)"
   ]
  },
  {
   "cell_type": "code",
   "execution_count": 4,
   "metadata": {
    "colab": {},
    "colab_type": "code",
    "id": "uP7mTPvqSF5x"
   },
   "outputs": [],
   "source": [
    "scaler = RobustScaler()\n",
    "X_train = scaler.fit_transform(X_train)\n",
    "X_test = scaler.transform(X_test)"
   ]
  },
  {
   "cell_type": "code",
   "execution_count": 5,
   "metadata": {
    "colab": {},
    "colab_type": "code",
    "id": "1o58gaXd8Jlf"
   },
   "outputs": [],
   "source": [
    "X_train, X_valid, y_train, y_valid = train_test_split(X_train, y_train, test_size=0.2, random_state=666)"
   ]
  },
  {
   "cell_type": "code",
   "execution_count": 6,
   "metadata": {
    "colab": {},
    "colab_type": "code",
    "id": "LYKHTsaRSF3_"
   },
   "outputs": [],
   "source": [
    "train = d.H_alphaSequences(X_train, y_train)\n",
    "valid = d.H_alphaSequences(X_valid, y_valid)\n",
    "test = d.H_alphaSequences(X_test, y_test)"
   ]
  },
  {
   "cell_type": "code",
   "execution_count": 7,
   "metadata": {
    "colab": {},
    "colab_type": "code",
    "id": "7jGGuGd3SF2K"
   },
   "outputs": [],
   "source": [
    "train_loader = torch.utils.data.DataLoader(dataset = train, batch_size=512, shuffle=True)\n",
    "valid_loader = torch.utils.data.DataLoader(dataset = valid, batch_size=512, shuffle=True)"
   ]
  },
  {
   "cell_type": "markdown",
   "metadata": {
    "colab_type": "text",
    "id": "Hddr9EK9RNkH"
   },
   "source": [
    "## Loading Encoder"
   ]
  },
  {
   "cell_type": "code",
   "execution_count": 8,
   "metadata": {
    "colab": {},
    "colab_type": "code",
    "id": "sKomVcQoPRFq"
   },
   "outputs": [],
   "source": [
    "VAE = torch.load(\"models_and_losses/DeepDenseVAE_mark_V_[160-256-128-15]_VDO_GNLL_400ep_lr-1e-4.pt\")"
   ]
  },
  {
   "cell_type": "code",
   "execution_count": 9,
   "metadata": {
    "colab": {
     "base_uri": "https://localhost:8080/",
     "height": 340
    },
    "colab_type": "code",
    "id": "3TJfsR3VRbN9",
    "outputId": "43c81845-f017-4432-825c-a959f587eb93"
   },
   "outputs": [
    {
     "data": {
      "text/plain": [
       "Sequential(\n",
       "  (0): Linear(in_features=160, out_features=256, bias=True)\n",
       "  (1): ELU(alpha=1.0)\n",
       "  (2): Linear(in_features=256, out_features=128, bias=True)\n",
       "  (3): ELU(alpha=1.0)\n",
       "  (4): VariationalLayer(\n",
       "    (mu): Linear(in_features=128, out_features=15, bias=True)\n",
       "    (rho): Linear(in_features=128, out_features=15, bias=True)\n",
       "    (softplus): Softplus(beta=1, threshold=20)\n",
       "  )\n",
       ")"
      ]
     },
     "execution_count": 9,
     "metadata": {},
     "output_type": "execute_result"
    }
   ],
   "source": [
    "VAE.encoder"
   ]
  },
  {
   "cell_type": "markdown",
   "metadata": {
    "colab_type": "text",
    "id": "HQrz4pcRRvZC"
   },
   "source": [
    "## Freezing Encoder"
   ]
  },
  {
   "cell_type": "code",
   "execution_count": 10,
   "metadata": {
    "colab": {},
    "colab_type": "code",
    "id": "FepPrHmi5kKh"
   },
   "outputs": [],
   "source": [
    "class Encoder_Classifier(nn.Module):\n",
    "    def __init__(self, encoder, clf):\n",
    "        super(Encoder_Classifier, self).__init__()\n",
    "        self.encoder=encoder\n",
    "        self.clf = clf\n",
    "        self.frozen_encoder = False\n",
    "\n",
    "    def freeze_encoder(self):\n",
    "        for param in self.encoder.parameters():\n",
    "            param.requires_grad = False\n",
    "        self.frozen_encoder = True\n",
    "        print(\"Encoder frozen.\")\n",
    "\n",
    "    def unfreeze_encoder(self):\n",
    "        for param in self.encoder.parameters():\n",
    "            param.requires_grad = True\n",
    "        self.frozen_encoder = False\n",
    "        print(\"Encoder unfrozen.\")\n",
    "    \n",
    "    def forward(self, X):\n",
    "        Z, mu, sigma = self.encoder(X)\n",
    "        return self.clf(Z)\n",
    "    "
   ]
  },
  {
   "cell_type": "code",
   "execution_count": 11,
   "metadata": {
    "colab": {},
    "colab_type": "code",
    "id": "f0r4jLHe5tPy"
   },
   "outputs": [],
   "source": [
    "DNN1 = nn.Sequential(\n",
    "            nn.Linear(in_features=15, out_features=64),\n",
    "            nn.Sigmoid(),\n",
    "            nn.Linear(in_features=64, out_features=128),\n",
    "            nn.Sigmoid(),\n",
    "            nn.Linear(in_features=128, out_features=4),\n",
    ")"
   ]
  },
  {
   "cell_type": "code",
   "execution_count": 12,
   "metadata": {
    "colab": {
     "base_uri": "https://localhost:8080/",
     "height": 34
    },
    "colab_type": "code",
    "id": "-sou9uan7bFD",
    "outputId": "473dc211-21a7-4a1c-f9b7-1a9418fcc45e"
   },
   "outputs": [
    {
     "name": "stdout",
     "output_type": "stream",
     "text": [
      "Encoder frozen.\n"
     ]
    }
   ],
   "source": [
    "model = Encoder_Classifier(encoder=VAE.encoder, clf = DNN1)\n",
    "model.freeze_encoder()"
   ]
  },
  {
   "cell_type": "code",
   "execution_count": 13,
   "metadata": {
    "colab": {},
    "colab_type": "code",
    "id": "xw7AbVFD7TKP"
   },
   "outputs": [],
   "source": [
    "optimizer= torch.optim.Adam(model.parameters(), lr=1e-2)"
   ]
  },
  {
   "cell_type": "code",
   "execution_count": 14,
   "metadata": {
    "colab": {
     "base_uri": "https://localhost:8080/",
     "height": 80
    },
    "colab_type": "code",
    "id": "hfD_WT5J7Yb-",
    "outputId": "0803e7a8-0aab-455e-9878-315ed7f840ad"
   },
   "outputs": [
    {
     "name": "stdout",
     "output_type": "stream",
     "text": [
      "cuda:0\n"
     ]
    }
   ],
   "source": [
    "m1 = Trainer(\n",
    "        model=model,\n",
    "        optimizer=optimizer,\n",
    "        loss_function=nn.CrossEntropyLoss(),\n",
    "        scheduler=torch.optim.lr_scheduler.MultiStepLR(optimizer, milestones=[30], gamma=0.1),\n",
    "        tensorboard=True,\n",
    "        model_name=\"DNN_on_DeepDenseVAE_mark_V_sampling_latent_space_m.IV_lr-{1e-2,1e-3}_epochs-512\",\n",
    "        verbose=True\n",
    "        )"
   ]
  },
  {
   "cell_type": "code",
   "execution_count": 15,
   "metadata": {
    "colab": {
     "base_uri": "https://localhost:8080/",
     "height": 1000
    },
    "colab_type": "code",
    "id": "mNFqptqd7Y_2",
    "outputId": "98abb786-b97f-40f7-81b2-40ce2d0e9a86",
    "scrolled": false
   },
   "outputs": [
    {
     "name": "stderr",
     "output_type": "stream",
     "text": [
      "C:\\Users\\ghost_000\\Miniconda3\\envs\\Pytorch\\lib\\site-packages\\torch\\jit\\__init__.py:1007: TracerWarning: Trace had nondeterministic nodes. Did you forget call .eval() on your model? Nodes:\n",
      "\t%eps : Float(512, 15) = aten::randn_like(%sigma, %58, %59, %60, %61), scope: Encoder_Classifier/Sequential[encoder]/VariationalLayer[4] # Z:\\Semi-supervised-Learning-with-VAE\\layers.py:35:0\n",
      "This may cause errors in trace checking. To disable trace checking, pass check_trace=False to torch.jit.trace()\n",
      "  check_tolerance, _force_outplace, True, _module_class)\n",
      "C:\\Users\\ghost_000\\Miniconda3\\envs\\Pytorch\\lib\\site-packages\\torch\\jit\\__init__.py:1007: TracerWarning: Output nr 1. of the traced function does not match the corresponding output of the Python function. Detailed error:\n",
      "Not within tolerance rtol=1e-05 atol=1e-05 at input[464, 1] (1.4070541858673096 vs. 1.3884215354919434) and 2040 other locations (99.00%)\n",
      "  check_tolerance, _force_outplace, True, _module_class)\n",
      "C:\\Users\\ghost_000\\Miniconda3\\envs\\Pytorch\\lib\\site-packages\\torch\\jit\\__init__.py:1007: TracerWarning: Output nr 1. of the traced function does not match the corresponding output of the Python function. Detailed error:\n",
      "Not within tolerance rtol=1e-05 atol=1e-05 at input[405, 0] (0.9984712600708008 vs. 0.933520495891571) and 2042 other locations (99.00%)\n",
      "  check_tolerance, _force_outplace, True, _module_class)\n",
      "C:\\Users\\ghost_000\\Miniconda3\\envs\\Pytorch\\lib\\site-packages\\torch\\jit\\__init__.py:1007: TracerWarning: Output nr 1. of the traced function does not match the corresponding output of the Python function. Detailed error:\n",
      "Not within tolerance rtol=1e-05 atol=1e-05 at input[66, 0] (0.9345205426216125 vs. 0.7961199879646301) and 2046 other locations (99.00%)\n",
      "  check_tolerance, _force_outplace, True, _module_class)\n",
      "C:\\Users\\ghost_000\\Miniconda3\\envs\\Pytorch\\lib\\site-packages\\torch\\jit\\__init__.py:1007: TracerWarning: Output nr 1. of the traced function does not match the corresponding output of the Python function. Detailed error:\n",
      "Not within tolerance rtol=1e-05 atol=1e-05 at input[494, 0] (1.3922470808029175 vs. 1.7365573644638062) and 2047 other locations (100.00%)\n",
      "  check_tolerance, _force_outplace, True, _module_class)\n",
      "C:\\Users\\ghost_000\\Miniconda3\\envs\\Pytorch\\lib\\site-packages\\torch\\jit\\__init__.py:1007: TracerWarning: Output nr 1. of the traced function does not match the corresponding output of the Python function. Detailed error:\n",
      "Not within tolerance rtol=1e-05 atol=1e-05 at input[497, 3] (-0.48572003841400146 vs. -0.18127115070819855) and 2045 other locations (99.00%)\n",
      "  check_tolerance, _force_outplace, True, _module_class)\n",
      "C:\\Users\\ghost_000\\Miniconda3\\envs\\Pytorch\\lib\\site-packages\\torch\\jit\\__init__.py:1007: TracerWarning: Output nr 1. of the traced function does not match the corresponding output of the Python function. Detailed error:\n",
      "Not within tolerance rtol=1e-05 atol=1e-05 at input[258, 3] (-0.6923877596855164 vs. -0.013636017218232155) and 2044 other locations (99.00%)\n",
      "  check_tolerance, _force_outplace, True, _module_class)\n",
      "C:\\Users\\ghost_000\\Miniconda3\\envs\\Pytorch\\lib\\site-packages\\torch\\jit\\__init__.py:1007: TracerWarning: Output nr 1. of the traced function does not match the corresponding output of the Python function. Detailed error:\n",
      "Not within tolerance rtol=1e-05 atol=1e-05 at input[28, 3] (-0.6145741939544678 vs. -1.335638403892517) and 2047 other locations (100.00%)\n",
      "  check_tolerance, _force_outplace, True, _module_class)\n",
      "C:\\Users\\ghost_000\\Miniconda3\\envs\\Pytorch\\lib\\site-packages\\torch\\jit\\__init__.py:1007: TracerWarning: Output nr 1. of the traced function does not match the corresponding output of the Python function. Detailed error:\n",
      "Not within tolerance rtol=1e-05 atol=1e-05 at input[384, 3] (-0.12971529364585876 vs. -0.9766035676002502) and 2047 other locations (100.00%)\n",
      "  check_tolerance, _force_outplace, True, _module_class)\n",
      "C:\\Users\\ghost_000\\Miniconda3\\envs\\Pytorch\\lib\\site-packages\\torch\\jit\\__init__.py:1007: TracerWarning: Output nr 1. of the traced function does not match the corresponding output of the Python function. Detailed error:\n",
      "Not within tolerance rtol=1e-05 atol=1e-05 at input[19, 2] (-0.9976643323898315 vs. -2.150315761566162) and 2045 other locations (99.00%)\n",
      "  check_tolerance, _force_outplace, True, _module_class)\n",
      "C:\\Users\\ghost_000\\Miniconda3\\envs\\Pytorch\\lib\\site-packages\\torch\\jit\\__init__.py:1007: TracerWarning: Output nr 1. of the traced function does not match the corresponding output of the Python function. Detailed error:\n",
      "Not within tolerance rtol=1e-05 atol=1e-05 at input[27, 2] (-2.317112445831299 vs. -1.3324384689331055) and 2047 other locations (100.00%)\n",
      "  check_tolerance, _force_outplace, True, _module_class)\n"
     ]
    },
    {
     "name": "stdout",
     "output_type": "stream",
     "text": [
      "Epoch [1/100], average_loss:0.7999, validation_loss:0.6471, val_accuracy:0.6753\n",
      "Epoch [2/100], average_loss:0.5995, validation_loss:0.5644, val_accuracy:0.8442\n",
      "Epoch [3/100], average_loss:0.5408, validation_loss:0.5181, val_accuracy:0.8182\n",
      "Epoch [4/100], average_loss:0.4998, validation_loss:0.4760, val_accuracy:0.9091\n",
      "Epoch [5/100], average_loss:0.4632, validation_loss:0.4509, val_accuracy:0.8312\n",
      "Epoch [6/100], average_loss:0.4440, validation_loss:0.4409, val_accuracy:0.8312\n",
      "Epoch [7/100], average_loss:0.4305, validation_loss:0.4262, val_accuracy:0.8442\n",
      "Epoch [8/100], average_loss:0.4212, validation_loss:0.4220, val_accuracy:0.8052\n",
      "Epoch [9/100], average_loss:0.4167, validation_loss:0.4179, val_accuracy:0.7662\n",
      "Epoch [10/100], average_loss:0.4104, validation_loss:0.4154, val_accuracy:0.7922\n",
      "Epoch [11/100], average_loss:0.4005, validation_loss:0.4094, val_accuracy:0.8312\n",
      "Epoch [12/100], average_loss:0.3969, validation_loss:0.3977, val_accuracy:0.9091\n",
      "Epoch [13/100], average_loss:0.3908, validation_loss:0.3986, val_accuracy:0.8052\n",
      "Epoch [14/100], average_loss:0.3880, validation_loss:0.3912, val_accuracy:0.7922\n",
      "Epoch [15/100], average_loss:0.3830, validation_loss:0.3871, val_accuracy:0.8442\n",
      "Epoch [16/100], average_loss:0.3802, validation_loss:0.4003, val_accuracy:0.9351\n",
      "Epoch [17/100], average_loss:0.3800, validation_loss:0.3925, val_accuracy:0.7662\n",
      "Epoch [18/100], average_loss:0.3729, validation_loss:0.3829, val_accuracy:0.8442\n",
      "Epoch [19/100], average_loss:0.3776, validation_loss:0.3784, val_accuracy:0.8831\n",
      "Epoch [20/100], average_loss:0.3664, validation_loss:0.3805, val_accuracy:0.8571\n",
      "Epoch [21/100], average_loss:0.3649, validation_loss:0.3709, val_accuracy:0.8182\n",
      "Epoch [22/100], average_loss:0.3617, validation_loss:0.3729, val_accuracy:0.8312\n",
      "Epoch [23/100], average_loss:0.3571, validation_loss:0.3684, val_accuracy:0.9221\n",
      "Epoch [24/100], average_loss:0.3529, validation_loss:0.3682, val_accuracy:0.8571\n",
      "Epoch [25/100], average_loss:0.3545, validation_loss:0.3950, val_accuracy:0.7922\n",
      "Epoch [26/100], average_loss:0.3531, validation_loss:0.3694, val_accuracy:0.8701\n",
      "Epoch [27/100], average_loss:0.3521, validation_loss:0.3728, val_accuracy:0.7792\n",
      "Epoch [28/100], average_loss:0.3509, validation_loss:0.3665, val_accuracy:0.8052\n",
      "Epoch [29/100], average_loss:0.3466, validation_loss:0.3688, val_accuracy:0.8571\n",
      "Epoch [30/100], average_loss:0.3468, validation_loss:0.3629, val_accuracy:0.8442\n",
      "Epoch [31/100], average_loss:0.3359, validation_loss:0.3550, val_accuracy:0.9091\n",
      "Epoch [32/100], average_loss:0.3335, validation_loss:0.3583, val_accuracy:0.8442\n",
      "Epoch [33/100], average_loss:0.3324, validation_loss:0.3584, val_accuracy:0.8571\n",
      "Epoch [34/100], average_loss:0.3342, validation_loss:0.3528, val_accuracy:0.8701\n",
      "Epoch [35/100], average_loss:0.3323, validation_loss:0.3553, val_accuracy:0.8831\n",
      "Epoch [36/100], average_loss:0.3323, validation_loss:0.3577, val_accuracy:0.8961\n",
      "Epoch [37/100], average_loss:0.3309, validation_loss:0.3579, val_accuracy:0.8701\n",
      "Epoch [38/100], average_loss:0.3303, validation_loss:0.3584, val_accuracy:0.8571\n",
      "Epoch [39/100], average_loss:0.3323, validation_loss:0.3594, val_accuracy:0.8312\n",
      "Epoch [40/100], average_loss:0.3308, validation_loss:0.3575, val_accuracy:0.8052\n",
      "Epoch [41/100], average_loss:0.3321, validation_loss:0.3601, val_accuracy:0.8312\n",
      "Epoch [42/100], average_loss:0.3318, validation_loss:0.3561, val_accuracy:0.8961\n",
      "Epoch [43/100], average_loss:0.3317, validation_loss:0.3584, val_accuracy:0.8312\n",
      "Epoch [44/100], average_loss:0.3300, validation_loss:0.3543, val_accuracy:0.8831\n",
      "Epoch [45/100], average_loss:0.3310, validation_loss:0.3585, val_accuracy:0.8312\n",
      "Epoch [46/100], average_loss:0.3310, validation_loss:0.3582, val_accuracy:0.8182\n",
      "Epoch [47/100], average_loss:0.3304, validation_loss:0.3556, val_accuracy:0.8831\n",
      "Epoch [48/100], average_loss:0.3292, validation_loss:0.3505, val_accuracy:0.8961\n",
      "Epoch [49/100], average_loss:0.3305, validation_loss:0.3541, val_accuracy:0.8961\n",
      "Epoch [50/100], average_loss:0.3298, validation_loss:0.3553, val_accuracy:0.8831\n",
      "Epoch [51/100], average_loss:0.3298, validation_loss:0.3578, val_accuracy:0.8312\n",
      "Epoch [52/100], average_loss:0.3291, validation_loss:0.3571, val_accuracy:0.8831\n",
      "Epoch [53/100], average_loss:0.3291, validation_loss:0.3571, val_accuracy:0.8182\n",
      "Epoch [54/100], average_loss:0.3300, validation_loss:0.3566, val_accuracy:0.8442\n",
      "Epoch [55/100], average_loss:0.3294, validation_loss:0.3562, val_accuracy:0.8442\n",
      "Epoch [56/100], average_loss:0.3293, validation_loss:0.3577, val_accuracy:0.8571\n",
      "Epoch [57/100], average_loss:0.3294, validation_loss:0.3575, val_accuracy:0.8701\n",
      "Epoch [58/100], average_loss:0.3274, validation_loss:0.3559, val_accuracy:0.8961\n",
      "Epoch [59/100], average_loss:0.3273, validation_loss:0.3563, val_accuracy:0.7792\n",
      "Epoch [60/100], average_loss:0.3285, validation_loss:0.3573, val_accuracy:0.8052\n",
      "Epoch [61/100], average_loss:0.3278, validation_loss:0.3582, val_accuracy:0.8442\n",
      "Epoch [62/100], average_loss:0.3275, validation_loss:0.3565, val_accuracy:0.8961\n",
      "Epoch [63/100], average_loss:0.3271, validation_loss:0.3523, val_accuracy:0.8961\n",
      "Epoch [64/100], average_loss:0.3283, validation_loss:0.3528, val_accuracy:0.8961\n",
      "Epoch [65/100], average_loss:0.3277, validation_loss:0.3605, val_accuracy:0.8182\n",
      "Epoch [66/100], average_loss:0.3273, validation_loss:0.3604, val_accuracy:0.8571\n",
      "Epoch [67/100], average_loss:0.3282, validation_loss:0.3551, val_accuracy:0.8312\n",
      "Epoch [68/100], average_loss:0.3274, validation_loss:0.3575, val_accuracy:0.8571\n",
      "Epoch [69/100], average_loss:0.3262, validation_loss:0.3609, val_accuracy:0.8182\n",
      "Epoch [70/100], average_loss:0.3267, validation_loss:0.3603, val_accuracy:0.8571\n",
      "Epoch [71/100], average_loss:0.3264, validation_loss:0.3574, val_accuracy:0.8182\n",
      "Epoch [72/100], average_loss:0.3261, validation_loss:0.3683, val_accuracy:0.7662\n",
      "Epoch [73/100], average_loss:0.3244, validation_loss:0.3572, val_accuracy:0.7922\n",
      "Epoch [74/100], average_loss:0.3251, validation_loss:0.3581, val_accuracy:0.8442\n",
      "Epoch [75/100], average_loss:0.3263, validation_loss:0.3555, val_accuracy:0.8442\n",
      "Epoch [76/100], average_loss:0.3270, validation_loss:0.3554, val_accuracy:0.8442\n",
      "Epoch [77/100], average_loss:0.3267, validation_loss:0.3563, val_accuracy:0.8312\n",
      "Epoch [78/100], average_loss:0.3255, validation_loss:0.3512, val_accuracy:0.8961\n",
      "Epoch [79/100], average_loss:0.3248, validation_loss:0.3569, val_accuracy:0.8312\n",
      "Epoch [80/100], average_loss:0.3254, validation_loss:0.3626, val_accuracy:0.7532\n",
      "Epoch [81/100], average_loss:0.3240, validation_loss:0.3573, val_accuracy:0.8571\n",
      "Epoch [82/100], average_loss:0.3257, validation_loss:0.3558, val_accuracy:0.8571\n",
      "Epoch [83/100], average_loss:0.3246, validation_loss:0.3552, val_accuracy:0.8312\n",
      "Epoch [84/100], average_loss:0.3244, validation_loss:0.3566, val_accuracy:0.8312\n",
      "Epoch [85/100], average_loss:0.3237, validation_loss:0.3539, val_accuracy:0.8701\n",
      "Epoch [86/100], average_loss:0.3257, validation_loss:0.3553, val_accuracy:0.8571\n",
      "Epoch [87/100], average_loss:0.3221, validation_loss:0.3547, val_accuracy:0.8571\n",
      "Epoch [88/100], average_loss:0.3226, validation_loss:0.3562, val_accuracy:0.8701\n",
      "Epoch [89/100], average_loss:0.3223, validation_loss:0.3571, val_accuracy:0.8312\n",
      "Epoch [90/100], average_loss:0.3242, validation_loss:0.3529, val_accuracy:0.8701\n",
      "Epoch [91/100], average_loss:0.3241, validation_loss:0.3566, val_accuracy:0.8052\n",
      "Epoch [92/100], average_loss:0.3230, validation_loss:0.3545, val_accuracy:0.8961\n",
      "Epoch [93/100], average_loss:0.3223, validation_loss:0.3501, val_accuracy:0.9481\n",
      "Epoch [94/100], average_loss:0.3230, validation_loss:0.3534, val_accuracy:0.8831\n",
      "Epoch [95/100], average_loss:0.3231, validation_loss:0.3576, val_accuracy:0.8312\n",
      "Epoch [96/100], average_loss:0.3209, validation_loss:0.3527, val_accuracy:0.9351\n",
      "Epoch [97/100], average_loss:0.3221, validation_loss:0.3554, val_accuracy:0.8442\n",
      "Epoch [98/100], average_loss:0.3238, validation_loss:0.3573, val_accuracy:0.8571\n",
      "Epoch [99/100], average_loss:0.3208, validation_loss:0.3537, val_accuracy:0.8571\n",
      "Epoch [100/100], average_loss:0.3227, validation_loss:0.3560, val_accuracy:0.8312\n"
     ]
    }
   ],
   "source": [
    "lh = m1(epochs=100, train_loader=train_loader, validation_loader=valid_loader)"
   ]
  },
  {
   "cell_type": "code",
   "execution_count": 16,
   "metadata": {
    "colab": {},
    "colab_type": "code",
    "id": "5_qgCvyEN8N-"
   },
   "outputs": [],
   "source": [
    "X_test = np.load(\"data/encoded_data_test_DeepDenseVAE_mark_V_[160-256-128-15]_VDO_GNLL_400ep_lr-1e-4.npy\")\n",
    "y_test = np.load(\"data/labels_test.npy\")"
   ]
  },
  {
   "cell_type": "code",
   "execution_count": 17,
   "metadata": {
    "colab": {},
    "colab_type": "code",
    "id": "dl-v7vuW7ZGJ"
   },
   "outputs": [],
   "source": [
    "#m1.tb.close()\n",
    "\n",
    "m1.model.eval()\n",
    "with torch.no_grad():\n",
    "    x_pred = np.argmax(m1.model.clf(torch.tensor(X_test).float().to(m1.device)).cpu().detach(), axis=1)"
   ]
  },
  {
   "cell_type": "code",
   "execution_count": 18,
   "metadata": {
    "colab": {
     "base_uri": "https://localhost:8080/",
     "height": 34
    },
    "colab_type": "code",
    "id": "nVJcVBba7ZQj",
    "outputId": "ad9c9adf-e291-4a61-a997-f61280318e43"
   },
   "outputs": [
    {
     "data": {
      "text/plain": [
       "0.726923314423648"
      ]
     },
     "execution_count": 18,
     "metadata": {},
     "output_type": "execute_result"
    }
   ],
   "source": [
    "f1_score(y_true=y_test, y_pred=x_pred, average=\"macro\")"
   ]
  },
  {
   "cell_type": "code",
   "execution_count": 19,
   "metadata": {
    "colab": {
     "base_uri": "https://localhost:8080/",
     "height": 34
    },
    "colab_type": "code",
    "id": "UpfUu-pxOFiW",
    "outputId": "93e7f8c2-3088-4f86-fd14-ba7e644eb74d"
   },
   "outputs": [
    {
     "data": {
      "text/plain": [
       "0.7635635755258127"
      ]
     },
     "execution_count": 19,
     "metadata": {},
     "output_type": "execute_result"
    }
   ],
   "source": [
    "accuracy_score(y_true=y_test, y_pred=x_pred)"
   ]
  },
  {
   "cell_type": "code",
   "execution_count": 20,
   "metadata": {
    "colab": {
     "base_uri": "https://localhost:8080/",
     "height": 85
    },
    "colab_type": "code",
    "id": "TBNwia05OFl4",
    "outputId": "bcfd8546-69ad-44f6-8f01-f3451a830d2f"
   },
   "outputs": [
    {
     "data": {
      "text/plain": [
       "array([[2481,  947,   44,  763],\n",
       "       [1369, 8473,  102,  501],\n",
       "       [  14,   23,  425,   17],\n",
       "       [  72,   85,   20, 1400]], dtype=int64)"
      ]
     },
     "execution_count": 20,
     "metadata": {},
     "output_type": "execute_result"
    }
   ],
   "source": [
    "confusion_matrix(y_true=y_test, y_pred=x_pred)"
   ]
  },
  {
   "cell_type": "code",
   "execution_count": 21,
   "metadata": {
    "colab": {},
    "colab_type": "code",
    "id": "EjnpeT8y7ZEE"
   },
   "outputs": [
    {
     "name": "stderr",
     "output_type": "stream",
     "text": [
      "C:\\Users\\ghost_000\\Miniconda3\\envs\\Pytorch\\lib\\site-packages\\torch\\serialization.py:292: UserWarning: Couldn't retrieve source code for container of type Sequential. It won't be checked for correctness upon loading.\n",
      "  \"type \" + obj.__name__ + \". It won't be checked \"\n",
      "C:\\Users\\ghost_000\\Miniconda3\\envs\\Pytorch\\lib\\site-packages\\torch\\serialization.py:292: UserWarning: Couldn't retrieve source code for container of type Linear. It won't be checked for correctness upon loading.\n",
      "  \"type \" + obj.__name__ + \". It won't be checked \"\n",
      "C:\\Users\\ghost_000\\Miniconda3\\envs\\Pytorch\\lib\\site-packages\\torch\\serialization.py:292: UserWarning: Couldn't retrieve source code for container of type Sigmoid. It won't be checked for correctness upon loading.\n",
      "  \"type \" + obj.__name__ + \". It won't be checked \"\n"
     ]
    }
   ],
   "source": [
    "#torch.save(m1.model.clf, \"models_and_losses/DeepDenseVAE_mark_V_[160-256-128-15]_VDO_GNLL_400ep_lr-1e-4+DNN_on_VAE_sampling_latent_space_m.IV_lr-{1e-2,1e-3}_bs-512_epoch-100.pt\")"
   ]
  },
  {
   "cell_type": "code",
   "execution_count": 22,
   "metadata": {},
   "outputs": [
    {
     "name": "stdout",
     "output_type": "stream",
     "text": [
      "Epoch [101/200], average_loss:0.3216, validation_loss:0.3534, val_accuracy:0.8571\n",
      "Epoch [102/200], average_loss:0.3222, validation_loss:0.3537, val_accuracy:0.8442\n",
      "Epoch [103/200], average_loss:0.3206, validation_loss:0.3580, val_accuracy:0.8312\n",
      "Epoch [104/200], average_loss:0.3225, validation_loss:0.3601, val_accuracy:0.7662\n",
      "Epoch [105/200], average_loss:0.3210, validation_loss:0.3504, val_accuracy:0.8831\n",
      "Epoch [106/200], average_loss:0.3218, validation_loss:0.3579, val_accuracy:0.7792\n",
      "Epoch [107/200], average_loss:0.3212, validation_loss:0.3607, val_accuracy:0.7662\n",
      "Epoch [108/200], average_loss:0.3223, validation_loss:0.3564, val_accuracy:0.8052\n",
      "Epoch [109/200], average_loss:0.3201, validation_loss:0.3581, val_accuracy:0.8182\n",
      "Epoch [110/200], average_loss:0.3198, validation_loss:0.3559, val_accuracy:0.8701\n",
      "Epoch [111/200], average_loss:0.3211, validation_loss:0.3549, val_accuracy:0.8701\n",
      "Epoch [112/200], average_loss:0.3200, validation_loss:0.3545, val_accuracy:0.8571\n",
      "Epoch [113/200], average_loss:0.3213, validation_loss:0.3553, val_accuracy:0.9351\n",
      "Epoch [114/200], average_loss:0.3199, validation_loss:0.3582, val_accuracy:0.8052\n",
      "Epoch [115/200], average_loss:0.3196, validation_loss:0.3522, val_accuracy:0.8831\n",
      "Epoch [116/200], average_loss:0.3199, validation_loss:0.3515, val_accuracy:0.9091\n",
      "Epoch [117/200], average_loss:0.3186, validation_loss:0.3568, val_accuracy:0.8182\n",
      "Epoch [118/200], average_loss:0.3191, validation_loss:0.3550, val_accuracy:0.8312\n",
      "Epoch [119/200], average_loss:0.3198, validation_loss:0.3545, val_accuracy:0.8442\n",
      "Epoch [120/200], average_loss:0.3199, validation_loss:0.3552, val_accuracy:0.8052\n",
      "Epoch [121/200], average_loss:0.3209, validation_loss:0.3593, val_accuracy:0.8701\n",
      "Epoch [122/200], average_loss:0.3182, validation_loss:0.3575, val_accuracy:0.7922\n",
      "Epoch [123/200], average_loss:0.3190, validation_loss:0.3553, val_accuracy:0.8701\n",
      "Epoch [124/200], average_loss:0.3183, validation_loss:0.3504, val_accuracy:0.8961\n",
      "Epoch [125/200], average_loss:0.3188, validation_loss:0.3549, val_accuracy:0.8831\n",
      "Epoch [126/200], average_loss:0.3200, validation_loss:0.3586, val_accuracy:0.8052\n",
      "Epoch [127/200], average_loss:0.3187, validation_loss:0.3545, val_accuracy:0.8442\n",
      "Epoch [128/200], average_loss:0.3183, validation_loss:0.3583, val_accuracy:0.8571\n",
      "Epoch [129/200], average_loss:0.3191, validation_loss:0.3529, val_accuracy:0.8312\n",
      "Epoch [130/200], average_loss:0.3189, validation_loss:0.3563, val_accuracy:0.8442\n",
      "Epoch [131/200], average_loss:0.3174, validation_loss:0.3538, val_accuracy:0.8831\n",
      "Epoch [132/200], average_loss:0.3171, validation_loss:0.3500, val_accuracy:0.8961\n",
      "Epoch [133/200], average_loss:0.3172, validation_loss:0.3599, val_accuracy:0.7922\n",
      "Epoch [134/200], average_loss:0.3180, validation_loss:0.3573, val_accuracy:0.8312\n",
      "Epoch [135/200], average_loss:0.3175, validation_loss:0.3572, val_accuracy:0.8571\n",
      "Epoch [136/200], average_loss:0.3186, validation_loss:0.3557, val_accuracy:0.8312\n",
      "Epoch [137/200], average_loss:0.3167, validation_loss:0.3581, val_accuracy:0.8312\n",
      "Epoch [138/200], average_loss:0.3177, validation_loss:0.3587, val_accuracy:0.7922\n",
      "Epoch [139/200], average_loss:0.3167, validation_loss:0.3575, val_accuracy:0.8442\n",
      "Epoch [140/200], average_loss:0.3163, validation_loss:0.3624, val_accuracy:0.8182\n",
      "Epoch [141/200], average_loss:0.3175, validation_loss:0.3649, val_accuracy:0.7662\n",
      "Epoch [142/200], average_loss:0.3166, validation_loss:0.3570, val_accuracy:0.8442\n",
      "Epoch [143/200], average_loss:0.3168, validation_loss:0.3558, val_accuracy:0.8182\n",
      "Epoch [144/200], average_loss:0.3175, validation_loss:0.3556, val_accuracy:0.8831\n",
      "Epoch [145/200], average_loss:0.3165, validation_loss:0.3542, val_accuracy:0.8442\n",
      "Epoch [146/200], average_loss:0.3149, validation_loss:0.3537, val_accuracy:0.8961\n",
      "Epoch [147/200], average_loss:0.3164, validation_loss:0.3560, val_accuracy:0.8442\n",
      "Epoch [148/200], average_loss:0.3153, validation_loss:0.3551, val_accuracy:0.8442\n",
      "Epoch [149/200], average_loss:0.3138, validation_loss:0.3543, val_accuracy:0.8442\n",
      "Epoch [150/200], average_loss:0.3155, validation_loss:0.3561, val_accuracy:0.8442\n",
      "Epoch [151/200], average_loss:0.3152, validation_loss:0.3517, val_accuracy:0.8571\n",
      "Epoch [152/200], average_loss:0.3145, validation_loss:0.3549, val_accuracy:0.8442\n",
      "Epoch [153/200], average_loss:0.3150, validation_loss:0.3601, val_accuracy:0.7662\n",
      "Epoch [154/200], average_loss:0.3151, validation_loss:0.3607, val_accuracy:0.7792\n",
      "Epoch [155/200], average_loss:0.3146, validation_loss:0.3524, val_accuracy:0.8961\n",
      "Epoch [156/200], average_loss:0.3144, validation_loss:0.3542, val_accuracy:0.8571\n",
      "Epoch [157/200], average_loss:0.3157, validation_loss:0.3577, val_accuracy:0.8182\n",
      "Epoch [158/200], average_loss:0.3146, validation_loss:0.3537, val_accuracy:0.8571\n",
      "Epoch [159/200], average_loss:0.3147, validation_loss:0.3566, val_accuracy:0.8182\n",
      "Epoch [160/200], average_loss:0.3133, validation_loss:0.3513, val_accuracy:0.8831\n",
      "Epoch [161/200], average_loss:0.3132, validation_loss:0.3564, val_accuracy:0.8442\n",
      "Epoch [162/200], average_loss:0.3141, validation_loss:0.3539, val_accuracy:0.8961\n",
      "Epoch [163/200], average_loss:0.3140, validation_loss:0.3587, val_accuracy:0.7922\n",
      "Epoch [164/200], average_loss:0.3141, validation_loss:0.3526, val_accuracy:0.8701\n",
      "Epoch [165/200], average_loss:0.3135, validation_loss:0.3715, val_accuracy:0.7273\n",
      "Epoch [166/200], average_loss:0.3148, validation_loss:0.3560, val_accuracy:0.8312\n",
      "Epoch [167/200], average_loss:0.3138, validation_loss:0.3579, val_accuracy:0.8571\n",
      "Epoch [168/200], average_loss:0.3120, validation_loss:0.3547, val_accuracy:0.8961\n",
      "Epoch [169/200], average_loss:0.3133, validation_loss:0.3569, val_accuracy:0.8312\n",
      "Epoch [170/200], average_loss:0.3137, validation_loss:0.3568, val_accuracy:0.8052\n",
      "Epoch [171/200], average_loss:0.3116, validation_loss:0.3502, val_accuracy:0.8442\n",
      "Epoch [172/200], average_loss:0.3127, validation_loss:0.3585, val_accuracy:0.7922\n",
      "Epoch [173/200], average_loss:0.3140, validation_loss:0.3580, val_accuracy:0.7922\n",
      "Epoch [174/200], average_loss:0.3131, validation_loss:0.3532, val_accuracy:0.8312\n",
      "Epoch [175/200], average_loss:0.3142, validation_loss:0.3548, val_accuracy:0.8701\n",
      "Epoch [176/200], average_loss:0.3129, validation_loss:0.3575, val_accuracy:0.8312\n",
      "Epoch [177/200], average_loss:0.3129, validation_loss:0.3549, val_accuracy:0.7922\n",
      "Epoch [178/200], average_loss:0.3119, validation_loss:0.3510, val_accuracy:0.8571\n",
      "Epoch [179/200], average_loss:0.3115, validation_loss:0.3581, val_accuracy:0.8442\n",
      "Epoch [180/200], average_loss:0.3121, validation_loss:0.3580, val_accuracy:0.8701\n",
      "Epoch [181/200], average_loss:0.3131, validation_loss:0.3556, val_accuracy:0.8701\n",
      "Epoch [182/200], average_loss:0.3118, validation_loss:0.3560, val_accuracy:0.7922\n",
      "Epoch [183/200], average_loss:0.3111, validation_loss:0.3558, val_accuracy:0.8701\n",
      "Epoch [184/200], average_loss:0.3102, validation_loss:0.3614, val_accuracy:0.7922\n",
      "Epoch [185/200], average_loss:0.3115, validation_loss:0.3589, val_accuracy:0.8182\n",
      "Epoch [186/200], average_loss:0.3117, validation_loss:0.3556, val_accuracy:0.9351\n",
      "Epoch [187/200], average_loss:0.3117, validation_loss:0.3535, val_accuracy:0.7922\n",
      "Epoch [188/200], average_loss:0.3105, validation_loss:0.3616, val_accuracy:0.8182\n",
      "Epoch [189/200], average_loss:0.3126, validation_loss:0.3606, val_accuracy:0.8052\n",
      "Epoch [190/200], average_loss:0.3104, validation_loss:0.3517, val_accuracy:0.8442\n",
      "Epoch [191/200], average_loss:0.3121, validation_loss:0.3598, val_accuracy:0.8312\n",
      "Epoch [192/200], average_loss:0.3109, validation_loss:0.3507, val_accuracy:0.9481\n",
      "Epoch [193/200], average_loss:0.3103, validation_loss:0.3563, val_accuracy:0.8701\n",
      "Epoch [194/200], average_loss:0.3105, validation_loss:0.3526, val_accuracy:0.8701\n",
      "Epoch [195/200], average_loss:0.3104, validation_loss:0.3530, val_accuracy:0.8442\n",
      "Epoch [196/200], average_loss:0.3103, validation_loss:0.3557, val_accuracy:0.8571\n",
      "Epoch [197/200], average_loss:0.3096, validation_loss:0.3586, val_accuracy:0.8312\n",
      "Epoch [198/200], average_loss:0.3102, validation_loss:0.3564, val_accuracy:0.8961\n",
      "Epoch [199/200], average_loss:0.3107, validation_loss:0.3542, val_accuracy:0.8442\n",
      "Epoch [200/200], average_loss:0.3099, validation_loss:0.3526, val_accuracy:0.8701\n"
     ]
    }
   ],
   "source": [
    "lh = m1(epochs=range(100,200), train_loader=train_loader, validation_loader=valid_loader)"
   ]
  },
  {
   "cell_type": "code",
   "execution_count": 27,
   "metadata": {
    "colab": {},
    "colab_type": "code",
    "id": "dl-v7vuW7ZGJ"
   },
   "outputs": [],
   "source": [
    "m1.tb.close()\n",
    "\n",
    "m1.model.eval()\n",
    "with torch.no_grad():\n",
    "    x_pred = np.argmax(m1.model.clf(torch.tensor(X_test).float().to(m1.device)).cpu().detach(), axis=1)"
   ]
  },
  {
   "cell_type": "code",
   "execution_count": 28,
   "metadata": {
    "colab": {
     "base_uri": "https://localhost:8080/",
     "height": 34
    },
    "colab_type": "code",
    "id": "nVJcVBba7ZQj",
    "outputId": "ad9c9adf-e291-4a61-a997-f61280318e43"
   },
   "outputs": [
    {
     "data": {
      "text/plain": [
       "0.7373366438327096"
      ]
     },
     "execution_count": 28,
     "metadata": {},
     "output_type": "execute_result"
    }
   ],
   "source": [
    "f1_score(y_true=y_test, y_pred=x_pred, average=\"macro\")"
   ]
  },
  {
   "cell_type": "code",
   "execution_count": 29,
   "metadata": {
    "colab": {
     "base_uri": "https://localhost:8080/",
     "height": 34
    },
    "colab_type": "code",
    "id": "UpfUu-pxOFiW",
    "outputId": "93e7f8c2-3088-4f86-fd14-ba7e644eb74d"
   },
   "outputs": [
    {
     "data": {
      "text/plain": [
       "0.7767686424474187"
      ]
     },
     "execution_count": 29,
     "metadata": {},
     "output_type": "execute_result"
    }
   ],
   "source": [
    "accuracy_score(y_true=y_test, y_pred=x_pred)"
   ]
  },
  {
   "cell_type": "code",
   "execution_count": 30,
   "metadata": {
    "colab": {
     "base_uri": "https://localhost:8080/",
     "height": 85
    },
    "colab_type": "code",
    "id": "TBNwia05OFl4",
    "outputId": "bcfd8546-69ad-44f6-8f01-f3451a830d2f"
   },
   "outputs": [
    {
     "data": {
      "text/plain": [
       "array([[2623,  954,   51,  607],\n",
       "       [1289, 8574,  121,  461],\n",
       "       [  11,   20,  431,   17],\n",
       "       [  93,   88,   24, 1372]], dtype=int64)"
      ]
     },
     "execution_count": 30,
     "metadata": {},
     "output_type": "execute_result"
    }
   ],
   "source": [
    "confusion_matrix(y_true=y_test, y_pred=x_pred)"
   ]
  },
  {
   "cell_type": "code",
   "execution_count": 31,
   "metadata": {},
   "outputs": [],
   "source": [
    "#torch.save(m1.model.clf, \"models_and_losses/DeepDenseVAE_mark_V_[160-256-128-15]_VDO_GNLL_400ep_lr-1e-4+DNN_on_VAE_sampling_latent_space_m.IV_lr-{1e-2,1e-3}_bs-512_epoch-200.pt\")"
   ]
  },
  {
   "cell_type": "markdown",
   "metadata": {},
   "source": [
    "# bs 128"
   ]
  },
  {
   "cell_type": "code",
   "execution_count": 32,
   "metadata": {},
   "outputs": [],
   "source": [
    "train_loader = torch.utils.data.DataLoader(dataset = train, batch_size=512, shuffle=True)\n",
    "valid_loader = torch.utils.data.DataLoader(dataset = valid, batch_size=512, shuffle=True)"
   ]
  },
  {
   "cell_type": "code",
   "execution_count": 71,
   "metadata": {
    "colab": {},
    "colab_type": "code",
    "id": "f0r4jLHe5tPy"
   },
   "outputs": [],
   "source": [
    "DNN2 = nn.Sequential(\n",
    "            nn.Linear(in_features=15, out_features=64),\n",
    "            nn.PReLU(),\n",
    "            nn.Linear(in_features=64, out_features=64),\n",
    "            nn.PReLU(),\n",
    "            nn.Linear(in_features=64, out_features=4),\n",
    ")"
   ]
  },
  {
   "cell_type": "code",
   "execution_count": 72,
   "metadata": {
    "colab": {
     "base_uri": "https://localhost:8080/",
     "height": 34
    },
    "colab_type": "code",
    "id": "-sou9uan7bFD",
    "outputId": "473dc211-21a7-4a1c-f9b7-1a9418fcc45e"
   },
   "outputs": [
    {
     "name": "stdout",
     "output_type": "stream",
     "text": [
      "Encoder frozen.\n"
     ]
    }
   ],
   "source": [
    "model2 = Encoder_Classifier(encoder=VAE.encoder, clf = DNN2)\n",
    "model2.freeze_encoder()"
   ]
  },
  {
   "cell_type": "code",
   "execution_count": 73,
   "metadata": {
    "colab": {},
    "colab_type": "code",
    "id": "xw7AbVFD7TKP"
   },
   "outputs": [],
   "source": [
    "optimizer= torch.optim.Adam(model2.parameters(), lr=1e-2)"
   ]
  },
  {
   "cell_type": "code",
   "execution_count": 74,
   "metadata": {
    "colab": {
     "base_uri": "https://localhost:8080/",
     "height": 80
    },
    "colab_type": "code",
    "id": "hfD_WT5J7Yb-",
    "outputId": "0803e7a8-0aab-455e-9878-315ed7f840ad"
   },
   "outputs": [
    {
     "name": "stdout",
     "output_type": "stream",
     "text": [
      "cuda:0\n"
     ]
    }
   ],
   "source": [
    "m2 = Trainer(\n",
    "        model=model2,\n",
    "        optimizer=optimizer,\n",
    "        loss_function=nn.CrossEntropyLoss(),\n",
    "        scheduler=torch.optim.lr_scheduler.MultiStepLR(optimizer, milestones=[30,60], gamma=0.1),\n",
    "        tensorboard=True,\n",
    "        model_name=\"DNN_on_VAE_sampling_latent_space_m.VI_lr-{1e-2,1e-3}_bs-512\",\n",
    "        verbose=True\n",
    "        )"
   ]
  },
  {
   "cell_type": "code",
   "execution_count": 75,
   "metadata": {
    "scrolled": false
   },
   "outputs": [
    {
     "name": "stderr",
     "output_type": "stream",
     "text": [
      "C:\\Users\\ghost_000\\Miniconda3\\envs\\Pytorch\\lib\\site-packages\\torch\\jit\\__init__.py:1007: TracerWarning: Output nr 1. of the traced function does not match the corresponding output of the Python function. Detailed error:\n",
      "Not within tolerance rtol=1e-05 atol=1e-05 at input[373, 2] (-1.1733821630477905 vs. -1.953189730644226) and 2046 other locations (99.00%)\n",
      "  check_tolerance, _force_outplace, True, _module_class)\n",
      "C:\\Users\\ghost_000\\Miniconda3\\envs\\Pytorch\\lib\\site-packages\\torch\\jit\\__init__.py:1007: TracerWarning: Output nr 1. of the traced function does not match the corresponding output of the Python function. Detailed error:\n",
      "Not within tolerance rtol=1e-05 atol=1e-05 at input[394, 2] (-3.9332759380340576 vs. -2.640728712081909) and 2046 other locations (99.00%)\n",
      "  check_tolerance, _force_outplace, True, _module_class)\n",
      "C:\\Users\\ghost_000\\Miniconda3\\envs\\Pytorch\\lib\\site-packages\\torch\\jit\\__init__.py:1007: TracerWarning: Output nr 1. of the traced function does not match the corresponding output of the Python function. Detailed error:\n",
      "Not within tolerance rtol=1e-05 atol=1e-05 at input[456, 2] (-1.4722726345062256 vs. -3.0348587036132812) and 2047 other locations (100.00%)\n",
      "  check_tolerance, _force_outplace, True, _module_class)\n",
      "C:\\Users\\ghost_000\\Miniconda3\\envs\\Pytorch\\lib\\site-packages\\torch\\jit\\__init__.py:1007: TracerWarning: Output nr 1. of the traced function does not match the corresponding output of the Python function. Detailed error:\n",
      "Not within tolerance rtol=1e-05 atol=1e-05 at input[290, 2] (-1.3630189895629883 vs. -2.6541748046875) and 2046 other locations (99.00%)\n",
      "  check_tolerance, _force_outplace, True, _module_class)\n",
      "C:\\Users\\ghost_000\\Miniconda3\\envs\\Pytorch\\lib\\site-packages\\torch\\jit\\__init__.py:1007: TracerWarning: Output nr 1. of the traced function does not match the corresponding output of the Python function. Detailed error:\n",
      "Not within tolerance rtol=1e-05 atol=1e-05 at input[202, 2] (-1.426382303237915 vs. -2.8791966438293457) and 2047 other locations (100.00%)\n",
      "  check_tolerance, _force_outplace, True, _module_class)\n",
      "C:\\Users\\ghost_000\\Miniconda3\\envs\\Pytorch\\lib\\site-packages\\torch\\jit\\__init__.py:1007: TracerWarning: Output nr 1. of the traced function does not match the corresponding output of the Python function. Detailed error:\n",
      "Not within tolerance rtol=1e-05 atol=1e-05 at input[228, 2] (-4.097253799438477 vs. -2.468900680541992) and 2047 other locations (100.00%)\n",
      "  check_tolerance, _force_outplace, True, _module_class)\n",
      "C:\\Users\\ghost_000\\Miniconda3\\envs\\Pytorch\\lib\\site-packages\\torch\\jit\\__init__.py:1007: TracerWarning: Output nr 1. of the traced function does not match the corresponding output of the Python function. Detailed error:\n",
      "Not within tolerance rtol=1e-05 atol=1e-05 at input[393, 2] (-7.399416923522949 vs. -5.47043514251709) and 2047 other locations (100.00%)\n",
      "  check_tolerance, _force_outplace, True, _module_class)\n",
      "C:\\Users\\ghost_000\\Miniconda3\\envs\\Pytorch\\lib\\site-packages\\torch\\jit\\__init__.py:1007: TracerWarning: Output nr 1. of the traced function does not match the corresponding output of the Python function. Detailed error:\n",
      "Not within tolerance rtol=1e-05 atol=1e-05 at input[3, 0] (-0.5819506049156189 vs. 0.957878053188324) and 2046 other locations (99.00%)\n",
      "  check_tolerance, _force_outplace, True, _module_class)\n",
      "C:\\Users\\ghost_000\\Miniconda3\\envs\\Pytorch\\lib\\site-packages\\torch\\jit\\__init__.py:1007: TracerWarning: Output nr 1. of the traced function does not match the corresponding output of the Python function. Detailed error:\n",
      "Not within tolerance rtol=1e-05 atol=1e-05 at input[209, 3] (0.2549074590206146 vs. -1.4634571075439453) and 2046 other locations (99.00%)\n",
      "  check_tolerance, _force_outplace, True, _module_class)\n",
      "C:\\Users\\ghost_000\\Miniconda3\\envs\\Pytorch\\lib\\site-packages\\torch\\jit\\__init__.py:1007: TracerWarning: Output nr 1. of the traced function does not match the corresponding output of the Python function. Detailed error:\n",
      "Not within tolerance rtol=1e-05 atol=1e-05 at input[309, 2] (-3.961003541946411 vs. -5.816918849945068) and 2047 other locations (100.00%)\n",
      "  check_tolerance, _force_outplace, True, _module_class)\n"
     ]
    },
    {
     "name": "stdout",
     "output_type": "stream",
     "text": [
      "Epoch [1/100], average_loss:0.5910, validation_loss:0.4819, val_accuracy:0.7792\n",
      "Epoch [2/100], average_loss:0.4567, validation_loss:0.4272, val_accuracy:0.8961\n",
      "Epoch [3/100], average_loss:0.4234, validation_loss:0.4245, val_accuracy:0.7662\n",
      "Epoch [4/100], average_loss:0.4010, validation_loss:0.3996, val_accuracy:0.8571\n",
      "Epoch [5/100], average_loss:0.3898, validation_loss:0.3841, val_accuracy:0.8312\n",
      "Epoch [6/100], average_loss:0.3830, validation_loss:0.3864, val_accuracy:0.8571\n",
      "Epoch [7/100], average_loss:0.3763, validation_loss:0.4091, val_accuracy:0.8701\n",
      "Epoch [8/100], average_loss:0.3715, validation_loss:0.3807, val_accuracy:0.8831\n",
      "Epoch [9/100], average_loss:0.3637, validation_loss:0.3912, val_accuracy:0.7532\n",
      "Epoch [10/100], average_loss:0.3639, validation_loss:0.3792, val_accuracy:0.8052\n",
      "Epoch [11/100], average_loss:0.3599, validation_loss:0.3810, val_accuracy:0.8312\n",
      "Epoch [12/100], average_loss:0.3550, validation_loss:0.3751, val_accuracy:0.8052\n",
      "Epoch [13/100], average_loss:0.3547, validation_loss:0.3740, val_accuracy:0.8701\n",
      "Epoch [14/100], average_loss:0.3525, validation_loss:0.3797, val_accuracy:0.8052\n",
      "Epoch [15/100], average_loss:0.3527, validation_loss:0.3985, val_accuracy:0.8571\n",
      "Epoch [16/100], average_loss:0.3518, validation_loss:0.3682, val_accuracy:0.8701\n",
      "Epoch [17/100], average_loss:0.3484, validation_loss:0.3793, val_accuracy:0.8701\n",
      "Epoch [18/100], average_loss:0.3432, validation_loss:0.3749, val_accuracy:0.8182\n",
      "Epoch [19/100], average_loss:0.3443, validation_loss:0.3678, val_accuracy:0.8831\n",
      "Epoch [20/100], average_loss:0.3456, validation_loss:0.3724, val_accuracy:0.8182\n",
      "Epoch [21/100], average_loss:0.3439, validation_loss:0.3819, val_accuracy:0.8442\n",
      "Epoch [22/100], average_loss:0.3440, validation_loss:0.3756, val_accuracy:0.8052\n",
      "Epoch [23/100], average_loss:0.3399, validation_loss:0.3691, val_accuracy:0.8312\n",
      "Epoch [24/100], average_loss:0.3391, validation_loss:0.3719, val_accuracy:0.8961\n",
      "Epoch [25/100], average_loss:0.3386, validation_loss:0.3807, val_accuracy:0.8312\n",
      "Epoch [26/100], average_loss:0.3416, validation_loss:0.3744, val_accuracy:0.7922\n",
      "Epoch [27/100], average_loss:0.3360, validation_loss:0.3753, val_accuracy:0.8312\n",
      "Epoch [28/100], average_loss:0.3385, validation_loss:0.3700, val_accuracy:0.9091\n",
      "Epoch [29/100], average_loss:0.3365, validation_loss:0.3714, val_accuracy:0.8182\n",
      "Epoch [30/100], average_loss:0.3366, validation_loss:0.3723, val_accuracy:0.7792\n",
      "Epoch [31/100], average_loss:0.3201, validation_loss:0.3605, val_accuracy:0.8442\n",
      "Epoch [32/100], average_loss:0.3151, validation_loss:0.3625, val_accuracy:0.8831\n",
      "Epoch [33/100], average_loss:0.3135, validation_loss:0.3573, val_accuracy:0.8442\n",
      "Epoch [34/100], average_loss:0.3126, validation_loss:0.3585, val_accuracy:0.8312\n",
      "Epoch [35/100], average_loss:0.3111, validation_loss:0.3650, val_accuracy:0.7922\n",
      "Epoch [36/100], average_loss:0.3111, validation_loss:0.3601, val_accuracy:0.8831\n",
      "Epoch [37/100], average_loss:0.3086, validation_loss:0.3570, val_accuracy:0.8831\n",
      "Epoch [38/100], average_loss:0.3096, validation_loss:0.3631, val_accuracy:0.8571\n",
      "Epoch [39/100], average_loss:0.3084, validation_loss:0.3600, val_accuracy:0.8312\n",
      "Epoch [40/100], average_loss:0.3085, validation_loss:0.3579, val_accuracy:0.8571\n",
      "Epoch [41/100], average_loss:0.3073, validation_loss:0.3642, val_accuracy:0.7662\n",
      "Epoch [42/100], average_loss:0.3070, validation_loss:0.3625, val_accuracy:0.8701\n",
      "Epoch [43/100], average_loss:0.3084, validation_loss:0.3589, val_accuracy:0.8701\n",
      "Epoch [44/100], average_loss:0.3056, validation_loss:0.3646, val_accuracy:0.8571\n",
      "Epoch [45/100], average_loss:0.3060, validation_loss:0.3620, val_accuracy:0.7922\n",
      "Epoch [46/100], average_loss:0.3064, validation_loss:0.3637, val_accuracy:0.8571\n",
      "Epoch [47/100], average_loss:0.3058, validation_loss:0.3623, val_accuracy:0.8312\n",
      "Epoch [48/100], average_loss:0.3059, validation_loss:0.3649, val_accuracy:0.8571\n",
      "Epoch [49/100], average_loss:0.3057, validation_loss:0.3611, val_accuracy:0.8312\n",
      "Epoch [50/100], average_loss:0.3043, validation_loss:0.3583, val_accuracy:0.8701\n",
      "Epoch [51/100], average_loss:0.3056, validation_loss:0.3631, val_accuracy:0.8701\n",
      "Epoch [52/100], average_loss:0.3051, validation_loss:0.3613, val_accuracy:0.8312\n",
      "Epoch [53/100], average_loss:0.3044, validation_loss:0.3658, val_accuracy:0.8052\n",
      "Epoch [54/100], average_loss:0.3031, validation_loss:0.3639, val_accuracy:0.8052\n",
      "Epoch [55/100], average_loss:0.3033, validation_loss:0.3602, val_accuracy:0.8571\n",
      "Epoch [56/100], average_loss:0.3038, validation_loss:0.3614, val_accuracy:0.8701\n",
      "Epoch [57/100], average_loss:0.3031, validation_loss:0.3629, val_accuracy:0.8961\n",
      "Epoch [58/100], average_loss:0.3032, validation_loss:0.3661, val_accuracy:0.8182\n",
      "Epoch [59/100], average_loss:0.3057, validation_loss:0.3551, val_accuracy:0.8961\n",
      "Epoch [60/100], average_loss:0.3017, validation_loss:0.3671, val_accuracy:0.7922\n",
      "Epoch [61/100], average_loss:0.3007, validation_loss:0.3632, val_accuracy:0.8701\n",
      "Epoch [62/100], average_loss:0.2996, validation_loss:0.3572, val_accuracy:0.9091\n",
      "Epoch [63/100], average_loss:0.3003, validation_loss:0.3619, val_accuracy:0.8442\n",
      "Epoch [64/100], average_loss:0.3003, validation_loss:0.3643, val_accuracy:0.8052\n",
      "Epoch [65/100], average_loss:0.3004, validation_loss:0.3550, val_accuracy:0.9351\n",
      "Epoch [66/100], average_loss:0.2998, validation_loss:0.3614, val_accuracy:0.8442\n",
      "Epoch [67/100], average_loss:0.2995, validation_loss:0.3814, val_accuracy:0.8182\n",
      "Epoch [68/100], average_loss:0.2993, validation_loss:0.3657, val_accuracy:0.8442\n",
      "Epoch [69/100], average_loss:0.2982, validation_loss:0.3662, val_accuracy:0.7922\n",
      "Epoch [70/100], average_loss:0.2992, validation_loss:0.3643, val_accuracy:0.8182\n",
      "Epoch [71/100], average_loss:0.2994, validation_loss:0.3614, val_accuracy:0.8442\n",
      "Epoch [72/100], average_loss:0.2993, validation_loss:0.3585, val_accuracy:0.8571\n",
      "Epoch [73/100], average_loss:0.2994, validation_loss:0.3609, val_accuracy:0.8961\n",
      "Epoch [74/100], average_loss:0.2992, validation_loss:0.3582, val_accuracy:0.8182\n",
      "Epoch [75/100], average_loss:0.2997, validation_loss:0.3592, val_accuracy:0.9091\n",
      "Epoch [76/100], average_loss:0.2994, validation_loss:0.3631, val_accuracy:0.8052\n",
      "Epoch [77/100], average_loss:0.2992, validation_loss:0.3631, val_accuracy:0.8182\n",
      "Epoch [78/100], average_loss:0.2997, validation_loss:0.3631, val_accuracy:0.8701\n",
      "Epoch [79/100], average_loss:0.2990, validation_loss:0.3638, val_accuracy:0.9091\n",
      "Epoch [80/100], average_loss:0.2994, validation_loss:0.3620, val_accuracy:0.8442\n",
      "Epoch [81/100], average_loss:0.2996, validation_loss:0.3592, val_accuracy:0.8831\n",
      "Epoch [82/100], average_loss:0.2988, validation_loss:0.3564, val_accuracy:0.8831\n",
      "Epoch [83/100], average_loss:0.2994, validation_loss:0.3617, val_accuracy:0.8442\n",
      "Epoch [84/100], average_loss:0.2995, validation_loss:0.3631, val_accuracy:0.8961\n",
      "Epoch [85/100], average_loss:0.2983, validation_loss:0.3609, val_accuracy:0.8052\n",
      "Epoch [86/100], average_loss:0.3006, validation_loss:0.3590, val_accuracy:0.9091\n",
      "Epoch [87/100], average_loss:0.3007, validation_loss:0.3627, val_accuracy:0.8312\n",
      "Epoch [88/100], average_loss:0.2978, validation_loss:0.3634, val_accuracy:0.8312\n",
      "Epoch [89/100], average_loss:0.2989, validation_loss:0.3555, val_accuracy:0.9610\n",
      "Epoch [90/100], average_loss:0.3002, validation_loss:0.3648, val_accuracy:0.8961\n",
      "Epoch [91/100], average_loss:0.2990, validation_loss:0.3629, val_accuracy:0.8312\n",
      "Epoch [92/100], average_loss:0.2989, validation_loss:0.3601, val_accuracy:0.8831\n",
      "Epoch [93/100], average_loss:0.2991, validation_loss:0.3607, val_accuracy:0.8961\n",
      "Epoch [94/100], average_loss:0.2986, validation_loss:0.3631, val_accuracy:0.8442\n",
      "Epoch [95/100], average_loss:0.2996, validation_loss:0.3622, val_accuracy:0.8701\n",
      "Epoch [96/100], average_loss:0.2987, validation_loss:0.3633, val_accuracy:0.8312\n",
      "Epoch [97/100], average_loss:0.2994, validation_loss:0.3625, val_accuracy:0.8701\n",
      "Epoch [98/100], average_loss:0.2985, validation_loss:0.3663, val_accuracy:0.8312\n",
      "Epoch [99/100], average_loss:0.2992, validation_loss:0.3609, val_accuracy:0.8442\n",
      "Epoch [100/100], average_loss:0.2989, validation_loss:0.3651, val_accuracy:0.8052\n"
     ]
    }
   ],
   "source": [
    "lh = m2(epochs=100, train_loader=train_loader, validation_loader=valid_loader)"
   ]
  },
  {
   "cell_type": "code",
   "execution_count": 76,
   "metadata": {},
   "outputs": [],
   "source": [
    "#lh = m2(epochs=range(100,200), train_loader=train_loader, validation_loader=valid_loader)"
   ]
  },
  {
   "cell_type": "code",
   "execution_count": 77,
   "metadata": {
    "colab": {},
    "colab_type": "code",
    "id": "dl-v7vuW7ZGJ"
   },
   "outputs": [],
   "source": [
    "#m2.tb.close()\n",
    "m2.model.eval()\n",
    "with torch.no_grad():\n",
    "    x_pred = np.argmax(m2.model.clf(torch.tensor(X_test).float().to(m2.device)).cpu().detach(), axis=1)"
   ]
  },
  {
   "cell_type": "code",
   "execution_count": 78,
   "metadata": {
    "colab": {
     "base_uri": "https://localhost:8080/",
     "height": 34
    },
    "colab_type": "code",
    "id": "nVJcVBba7ZQj",
    "outputId": "ad9c9adf-e291-4a61-a997-f61280318e43"
   },
   "outputs": [
    {
     "data": {
      "text/plain": [
       "0.733158548669584"
      ]
     },
     "execution_count": 78,
     "metadata": {},
     "output_type": "execute_result"
    }
   ],
   "source": [
    "f1_score(y_true=y_test, y_pred=x_pred, average=\"macro\")"
   ]
  },
  {
   "cell_type": "code",
   "execution_count": 79,
   "metadata": {
    "colab": {
     "base_uri": "https://localhost:8080/",
     "height": 34
    },
    "colab_type": "code",
    "id": "UpfUu-pxOFiW",
    "outputId": "93e7f8c2-3088-4f86-fd14-ba7e644eb74d"
   },
   "outputs": [
    {
     "data": {
      "text/plain": [
       "0.7615320267686424"
      ]
     },
     "execution_count": 79,
     "metadata": {},
     "output_type": "execute_result"
    }
   ],
   "source": [
    "accuracy_score(y_true=y_test, y_pred=x_pred)"
   ]
  },
  {
   "cell_type": "code",
   "execution_count": 80,
   "metadata": {
    "colab": {
     "base_uri": "https://localhost:8080/",
     "height": 85
    },
    "colab_type": "code",
    "id": "TBNwia05OFl4",
    "outputId": "bcfd8546-69ad-44f6-8f01-f3451a830d2f"
   },
   "outputs": [
    {
     "data": {
      "text/plain": [
       "array([[2675,  883,   28,  649],\n",
       "       [1628, 8232,  115,  470],\n",
       "       [  24,   14,  416,   25],\n",
       "       [  61,   76,   18, 1422]], dtype=int64)"
      ]
     },
     "execution_count": 80,
     "metadata": {},
     "output_type": "execute_result"
    }
   ],
   "source": [
    "confusion_matrix(y_true=y_test, y_pred=x_pred)"
   ]
  },
  {
   "cell_type": "code",
   "execution_count": 82,
   "metadata": {},
   "outputs": [],
   "source": [
    "m2.tb.close()"
   ]
  },
  {
   "cell_type": "code",
   "execution_count": 83,
   "metadata": {},
   "outputs": [
    {
     "name": "stderr",
     "output_type": "stream",
     "text": [
      "C:\\Users\\ghost_000\\Miniconda3\\envs\\Pytorch\\lib\\site-packages\\torch\\serialization.py:292: UserWarning: Couldn't retrieve source code for container of type Dropout. It won't be checked for correctness upon loading.\n",
      "  \"type \" + obj.__name__ + \". It won't be checked \"\n"
     ]
    }
   ],
   "source": [
    "#torch.save(m2.model.clf, \"models_and_losses/DeepDenseVAE_mark_V_[160-256-128-15]_VDO_GNLL_400ep_lr-1e-4+DNN_(drop)_on_VAE_sampling_latent_space_m.VI_lr-{1e-2,1e-3}_bs-512_epoch-200.pt\")"
   ]
  },
  {
   "cell_type": "code",
   "execution_count": 43,
   "metadata": {},
   "outputs": [],
   "source": []
  },
  {
   "cell_type": "code",
   "execution_count": null,
   "metadata": {},
   "outputs": [],
   "source": []
  }
 ],
 "metadata": {
  "accelerator": "GPU",
  "colab": {
   "collapsed_sections": [],
   "name": "Classification on CNN-VAE latent space with NN.ipynb",
   "provenance": []
  },
  "kernelspec": {
   "display_name": "Python 3",
   "language": "python",
   "name": "python3"
  },
  "language_info": {
   "codemirror_mode": {
    "name": "ipython",
    "version": 3
   },
   "file_extension": ".py",
   "mimetype": "text/x-python",
   "name": "python",
   "nbconvert_exporter": "python",
   "pygments_lexer": "ipython3",
   "version": "3.6.9"
  }
 },
 "nbformat": 4,
 "nbformat_minor": 1
}
