{
 "cells": [
  {
   "cell_type": "code",
   "execution_count": 1,
   "metadata": {},
   "outputs": [],
   "source": [
    "import numpy as np\n",
    "import pandas as pd\n",
    "import os \n",
    "import time\n",
    "import deepdish.io as dd\n",
    "import matplotlib.pyplot as plt\n",
    "from mpl_toolkits.mplot3d import Axes3D\n",
    "\n",
    "import torch\n",
    "import torch.nn as nn\n",
    "import torchvision\n",
    "import torch.nn.functional as F\n",
    "\n",
    "from sklearn.model_selection import train_test_split\n",
    "from sklearn.preprocessing import RobustScaler, StandardScaler\n",
    "from sklearn.ensemble import GradientBoostingClassifier\n",
    "from sklearn.metrics import confusion_matrix, accuracy_score\n",
    "\n",
    "from svi import SVI\n",
    "import models as m\n",
    "import datasets as d"
   ]
  },
  {
   "cell_type": "code",
   "execution_count": 2,
   "metadata": {},
   "outputs": [
    {
     "name": "stdout",
     "output_type": "stream",
     "text": [
      "cuda:0\n"
     ]
    }
   ],
   "source": [
    "device = torch.device(\"cuda:0\" if torch.cuda.is_available() else \"cpu\")\n",
    "print(device)"
   ]
  },
  {
   "cell_type": "code",
   "execution_count": 3,
   "metadata": {},
   "outputs": [],
   "source": [
    "data = dd.load(\"sequenced_data_for_VAE_lenght-160_stride-10.h5\")"
   ]
  },
  {
   "cell_type": "code",
   "execution_count": 4,
   "metadata": {},
   "outputs": [],
   "source": [
    "X,y = data[\"X\"], data[\"y\"]"
   ]
  },
  {
   "cell_type": "code",
   "execution_count": 5,
   "metadata": {},
   "outputs": [
    {
     "data": {
      "text/plain": [
       "torch.Size([83680, 160])"
      ]
     },
     "execution_count": 5,
     "metadata": {},
     "output_type": "execute_result"
    }
   ],
   "source": [
    "X.shape"
   ]
  },
  {
   "cell_type": "code",
   "execution_count": 6,
   "metadata": {},
   "outputs": [],
   "source": [
    "X_train, X_test, y_train, y_test = train_test_split(np.array(X), np.array(y), test_size=0.2, random_state=666, shuffle=True)"
   ]
  },
  {
   "cell_type": "code",
   "execution_count": 7,
   "metadata": {},
   "outputs": [],
   "source": [
    "scaler = StandardScaler()\n",
    "X_train = scaler.fit_transform(X_train)\n",
    "X_test = scaler.transform(X_test)"
   ]
  },
  {
   "cell_type": "code",
   "execution_count": 8,
   "metadata": {},
   "outputs": [],
   "source": [
    "X_train = torch.tensor(X_train.astype('float32'))\n",
    "X_test = torch.tensor(X_test.astype('float32'))"
   ]
  },
  {
   "cell_type": "markdown",
   "metadata": {},
   "source": [
    "# standartní VAE"
   ]
  },
  {
   "cell_type": "code",
   "execution_count": 10,
   "metadata": {},
   "outputs": [],
   "source": [
    "VAE = torch.load(\"VAE-saved_model_and_losses/DeepDenseVAE_mark_V_[160-256-128-15]_VDO_GNLL_400ep_lr-1e-4.pt\")"
   ]
  },
  {
   "cell_type": "code",
   "execution_count": 11,
   "metadata": {},
   "outputs": [
    {
     "data": {
      "text/plain": [
       "DeepDenseVAE_mark_V(\n",
       "  (encoder): Sequential(\n",
       "    (0): Linear(in_features=160, out_features=256, bias=True)\n",
       "    (1): ELU(alpha=1.0)\n",
       "    (2): Linear(in_features=256, out_features=128, bias=True)\n",
       "    (3): ELU(alpha=1.0)\n",
       "    (4): VariationalLayer(\n",
       "      (mu): Linear(in_features=128, out_features=15, bias=True)\n",
       "      (rho): Linear(in_features=128, out_features=15, bias=True)\n",
       "      (softplus): Softplus(beta=1, threshold=20)\n",
       "    )\n",
       "  )\n",
       "  (decoder): Sequential(\n",
       "    (0): Linear(in_features=15, out_features=128, bias=True)\n",
       "    (1): ELU(alpha=1.0)\n",
       "    (2): Linear(in_features=128, out_features=256, bias=True)\n",
       "    (3): ELU(alpha=1.0)\n",
       "    (4): VariationalDecoderOutput(\n",
       "      (mu): Linear(in_features=256, out_features=160, bias=True)\n",
       "      (rho): Linear(in_features=256, out_features=1, bias=True)\n",
       "      (softplus): Softplus(beta=1, threshold=20)\n",
       "    )\n",
       "  )\n",
       ")"
      ]
     },
     "execution_count": 11,
     "metadata": {},
     "output_type": "execute_result"
    }
   ],
   "source": [
    "VAE.eval()"
   ]
  },
  {
   "cell_type": "code",
   "execution_count": 12,
   "metadata": {},
   "outputs": [],
   "source": [
    "Z_hat, mu_tr, sigma_tr = VAE.encoder(X_train.to(device))\n",
    "mu_train = mu_tr.cpu().detach().numpy()\n",
    "\n",
    "Z_hat, mu_te, sigma_te = VAE.encoder(X_test.to(device))\n",
    "mu_test = mu_te.cpu().detach().numpy()"
   ]
  },
  {
   "cell_type": "code",
   "execution_count": 14,
   "metadata": {},
   "outputs": [],
   "source": [
    "VAEclf = GradientBoostingClassifier(n_estimators=400, learning_rate=0.1, subsample=0.7, verbose=True)"
   ]
  },
  {
   "cell_type": "code",
   "execution_count": 15,
   "metadata": {},
   "outputs": [
    {
     "name": "stdout",
     "output_type": "stream",
     "text": [
      "      Iter       Train Loss      OOB Improve   Remaining Time \n",
      "         1       40066.7726        2203.7504            6.55m\n",
      "         2       37449.3970        1109.7092            6.43m\n",
      "         3       35414.2218         847.0231            6.33m\n",
      "         4       33670.6681         667.6218            6.26m\n",
      "         5       32467.0183         558.1413            6.25m\n",
      "         6       31426.2867         436.8396            6.28m\n",
      "         7       30469.5283         400.8426            6.25m\n",
      "         8       29693.1123         355.1634            6.26m\n",
      "         9       29012.5904         280.1077            6.25m\n",
      "        10       28551.9408         237.5730            6.21m\n",
      "        20       24798.5412          83.0547            6.05m\n",
      "        30       22811.8798          70.3154            5.92m\n",
      "        40       21530.0274          46.0703            5.78m\n",
      "        50       20906.6638          19.1692            5.61m\n",
      "        60       20306.7768          17.4899            5.48m\n",
      "        70       19839.5554           7.4424            5.40m\n",
      "        80       19474.3987          14.6996            5.26m\n",
      "        90       18963.5265           5.7807            5.11m\n",
      "       100       18710.2525           7.9548            4.93m\n",
      "       200       16710.6453           1.6833            3.30m\n",
      "       300       15651.5462          -0.1931            1.64m\n",
      "       400       14773.7226          -1.0684            0.00s\n"
     ]
    },
    {
     "data": {
      "text/plain": [
       "GradientBoostingClassifier(criterion='friedman_mse', init=None,\n",
       "                           learning_rate=0.1, loss='deviance', max_depth=3,\n",
       "                           max_features=None, max_leaf_nodes=None,\n",
       "                           min_impurity_decrease=0.0, min_impurity_split=None,\n",
       "                           min_samples_leaf=1, min_samples_split=2,\n",
       "                           min_weight_fraction_leaf=0.0, n_estimators=400,\n",
       "                           n_iter_no_change=None, presort='auto',\n",
       "                           random_state=None, subsample=0.7, tol=0.0001,\n",
       "                           validation_fraction=0.1, verbose=True,\n",
       "                           warm_start=False)"
      ]
     },
     "execution_count": 15,
     "metadata": {},
     "output_type": "execute_result"
    }
   ],
   "source": [
    "VAEclf.fit(mu_train, y_train)"
   ]
  },
  {
   "cell_type": "code",
   "execution_count": 17,
   "metadata": {},
   "outputs": [],
   "source": [
    "y_pred = VAEclf.predict(mu_test)"
   ]
  },
  {
   "cell_type": "code",
   "execution_count": 18,
   "metadata": {},
   "outputs": [
    {
     "data": {
      "text/plain": [
       "array([[2887, 1188,   23,  137],\n",
       "       [ 404, 9881,   36,  124],\n",
       "       [  25,   47,  391,   16],\n",
       "       [ 171,  192,   17, 1197]], dtype=int64)"
      ]
     },
     "execution_count": 18,
     "metadata": {},
     "output_type": "execute_result"
    }
   ],
   "source": [
    "confusion_matrix(y_true=y_test, y_pred=y_pred)"
   ]
  },
  {
   "cell_type": "code",
   "execution_count": 19,
   "metadata": {},
   "outputs": [
    {
     "data": {
      "text/plain": [
       "0.857791586998088"
      ]
     },
     "execution_count": 19,
     "metadata": {},
     "output_type": "execute_result"
    }
   ],
   "source": [
    "accuracy_score(y_true=y_test, y_pred=y_pred)"
   ]
  },
  {
   "cell_type": "code",
   "execution_count": 20,
   "metadata": {},
   "outputs": [],
   "source": [
    "dd.save(\"VAE-saved_model_and_losses/GB_on_VAE_latent_space.h5\", VAEclf)"
   ]
  },
  {
   "cell_type": "markdown",
   "metadata": {},
   "source": [
    "# CNN-VAE (elu)"
   ]
  },
  {
   "cell_type": "code",
   "execution_count": 21,
   "metadata": {},
   "outputs": [],
   "source": [
    "CNNVAE1 = torch.load(\"VAE-saved_model_and_losses/DeepConvVAE_ELU_NLL_250ep_lr-{1e-3, 1e-4}_bs-300.pt\")"
   ]
  },
  {
   "cell_type": "code",
   "execution_count": 22,
   "metadata": {},
   "outputs": [
    {
     "data": {
      "text/plain": [
       "DeepConvVAE_ELU(\n",
       "  (encoder): Sequential(\n",
       "    (0): Reshape()\n",
       "    (1): Conv1d(1, 16, kernel_size=(6,), stride=(2,))\n",
       "    (2): ELU(alpha=1.0)\n",
       "    (3): Conv1d(16, 32, kernel_size=(4,), stride=(2,))\n",
       "    (4): ELU(alpha=1.0)\n",
       "    (5): Conv1d(32, 64, kernel_size=(4,), stride=(2,))\n",
       "    (6): ELU(alpha=1.0)\n",
       "    (7): Flatten()\n",
       "    (8): VariationalLayer(\n",
       "      (mu): Linear(in_features=1152, out_features=15, bias=True)\n",
       "      (rho): Linear(in_features=1152, out_features=15, bias=True)\n",
       "      (softplus): Softplus(beta=1, threshold=20)\n",
       "    )\n",
       "  )\n",
       "  (decoder): Sequential(\n",
       "    (0): Linear(in_features=15, out_features=1152, bias=True)\n",
       "    (1): ELU(alpha=1.0)\n",
       "    (2): Reshape()\n",
       "    (3): ConvTranspose1d(64, 32, kernel_size=(4,), stride=(2,))\n",
       "    (4): ELU(alpha=1.0)\n",
       "    (5): ConvTranspose1d(32, 16, kernel_size=(4,), stride=(2,))\n",
       "    (6): ELU(alpha=1.0)\n",
       "    (7): ConvTransposeDecoderOutput(\n",
       "      (mu): ConvTranspose1d(16, 1, kernel_size=(6,), stride=(2,))\n",
       "      (rho): Linear(in_features=1248, out_features=1, bias=True)\n",
       "      (flatten): Flatten()\n",
       "      (flatten_mu): Flatten()\n",
       "      (softplus): Softplus(beta=1, threshold=20)\n",
       "    )\n",
       "  )\n",
       ")"
      ]
     },
     "execution_count": 22,
     "metadata": {},
     "output_type": "execute_result"
    }
   ],
   "source": [
    "CNNVAE1.eval()"
   ]
  },
  {
   "cell_type": "code",
   "execution_count": 23,
   "metadata": {},
   "outputs": [],
   "source": [
    "Z_hat, mu_tr, sigma_tr = CNNVAE1.encoder(X_train.to(device))\n",
    "mu_train = mu_tr.cpu().detach().numpy()\n",
    "\n",
    "Z_hat, mu_te, sigma_te = CNNVAE1.encoder(X_test.to(device))\n",
    "mu_test = mu_te.cpu().detach().numpy()"
   ]
  },
  {
   "cell_type": "code",
   "execution_count": 24,
   "metadata": {},
   "outputs": [],
   "source": [
    "CNNVAE1clf = GradientBoostingClassifier(n_estimators=500, learning_rate=0.1, subsample=0.7, verbose=True)"
   ]
  },
  {
   "cell_type": "code",
   "execution_count": 25,
   "metadata": {},
   "outputs": [
    {
     "name": "stdout",
     "output_type": "stream",
     "text": [
      "      Iter       Train Loss      OOB Improve   Remaining Time \n",
      "         1       40008.1169        2207.1310            8.10m\n",
      "         2       37309.4551        1151.5303            8.32m\n",
      "         3       35309.5284         890.4406            8.30m\n",
      "         4       33712.1222         673.6487            8.36m\n",
      "         5       32215.0148         546.1065            8.32m\n",
      "         6       31326.7429         459.3907            8.33m\n",
      "         7       30394.1315         367.0631            8.27m\n",
      "         8       29688.5431         335.8347            8.26m\n",
      "         9       28608.0708         328.4486            8.23m\n",
      "        10       28180.3092         275.7602            8.20m\n",
      "        20       24241.4459          97.3563            8.01m\n",
      "        30       22519.4545          44.2201            7.83m\n",
      "        40       21643.5372          25.3989            7.60m\n",
      "        50       20761.7821          27.9019            7.43m\n",
      "        60       20169.1706          17.2932            7.27m\n",
      "        70       19734.2949           8.0068            7.13m\n",
      "        80       19338.3420           8.1325            6.93m\n",
      "        90       19003.5518           7.5889            6.75m\n",
      "       100       18725.9381           9.0593            6.67m\n",
      "       200       16967.5219          -0.1623            5.09m\n",
      "       300       15708.5876          -0.8566            3.35m\n",
      "       400       15109.3045           0.1477            1.65m\n",
      "       500       14673.1529          -0.8951            0.00s\n"
     ]
    },
    {
     "data": {
      "text/plain": [
       "GradientBoostingClassifier(criterion='friedman_mse', init=None,\n",
       "                           learning_rate=0.1, loss='deviance', max_depth=3,\n",
       "                           max_features=None, max_leaf_nodes=None,\n",
       "                           min_impurity_decrease=0.0, min_impurity_split=None,\n",
       "                           min_samples_leaf=1, min_samples_split=2,\n",
       "                           min_weight_fraction_leaf=0.0, n_estimators=500,\n",
       "                           n_iter_no_change=None, presort='auto',\n",
       "                           random_state=None, subsample=0.7, tol=0.0001,\n",
       "                           validation_fraction=0.1, verbose=True,\n",
       "                           warm_start=False)"
      ]
     },
     "execution_count": 25,
     "metadata": {},
     "output_type": "execute_result"
    }
   ],
   "source": [
    "CNNVAE1clf.fit(mu_train, y_train)"
   ]
  },
  {
   "cell_type": "code",
   "execution_count": 26,
   "metadata": {},
   "outputs": [],
   "source": [
    "y_pred = CNNVAE1clf.predict(mu_test)"
   ]
  },
  {
   "cell_type": "code",
   "execution_count": 27,
   "metadata": {},
   "outputs": [
    {
     "data": {
      "text/plain": [
       "array([[2806, 1262,   30,  137],\n",
       "       [ 419, 9874,   45,  107],\n",
       "       [  29,   42,  393,   15],\n",
       "       [ 181,  170,   17, 1209]], dtype=int64)"
      ]
     },
     "execution_count": 27,
     "metadata": {},
     "output_type": "execute_result"
    }
   ],
   "source": [
    "confusion_matrix(y_true=y_test, y_pred=y_pred)"
   ]
  },
  {
   "cell_type": "code",
   "execution_count": 28,
   "metadata": {},
   "outputs": [
    {
     "data": {
      "text/plain": [
       "0.8533699808795411"
      ]
     },
     "execution_count": 28,
     "metadata": {},
     "output_type": "execute_result"
    }
   ],
   "source": [
    "accuracy_score(y_true=y_test, y_pred=y_pred)"
   ]
  },
  {
   "cell_type": "code",
   "execution_count": 29,
   "metadata": {},
   "outputs": [],
   "source": [
    "dd.save(\"VAE-saved_model_and_losses/GB_on_CNNVAE-elu_latent_space.h5\", CNNVAE1clf)"
   ]
  },
  {
   "cell_type": "markdown",
   "metadata": {},
   "source": [
    "# CNN VAE (relu)"
   ]
  },
  {
   "cell_type": "code",
   "execution_count": 9,
   "metadata": {},
   "outputs": [],
   "source": [
    "CNNVAE2 = torch.load(\"VAE-saved_model_and_losses/DeepConvVAE_ReLU_NLL_200ep_lr-1e-4_bs-100.pt\")"
   ]
  },
  {
   "cell_type": "code",
   "execution_count": 10,
   "metadata": {},
   "outputs": [
    {
     "data": {
      "text/plain": [
       "DeepConvVAE(\n",
       "  (encoder): Sequential(\n",
       "    (0): Reshape()\n",
       "    (1): Conv1d(1, 16, kernel_size=(6,), stride=(2,))\n",
       "    (2): ReLU()\n",
       "    (3): Conv1d(16, 32, kernel_size=(4,), stride=(2,))\n",
       "    (4): ReLU()\n",
       "    (5): Conv1d(32, 64, kernel_size=(4,), stride=(2,))\n",
       "    (6): ReLU()\n",
       "    (7): Flatten()\n",
       "    (8): VariationalLayer(\n",
       "      (mu): Linear(in_features=1152, out_features=15, bias=True)\n",
       "      (rho): Linear(in_features=1152, out_features=15, bias=True)\n",
       "      (softplus): Softplus(beta=1, threshold=20)\n",
       "    )\n",
       "  )\n",
       "  (decoder): Sequential(\n",
       "    (0): Linear(in_features=15, out_features=1152, bias=True)\n",
       "    (1): ReLU()\n",
       "    (2): Reshape()\n",
       "    (3): ConvTranspose1d(64, 32, kernel_size=(4,), stride=(2,))\n",
       "    (4): ReLU()\n",
       "    (5): ConvTranspose1d(32, 16, kernel_size=(4,), stride=(2,))\n",
       "    (6): ReLU()\n",
       "    (7): ConvTransposeDecoderOutput(\n",
       "      (mu): ConvTranspose1d(16, 1, kernel_size=(6,), stride=(2,))\n",
       "      (rho): Linear(in_features=1248, out_features=1, bias=True)\n",
       "      (flatten): Flatten()\n",
       "      (flatten_mu): Flatten()\n",
       "      (softplus): Softplus(beta=1, threshold=20)\n",
       "    )\n",
       "  )\n",
       ")"
      ]
     },
     "execution_count": 10,
     "metadata": {},
     "output_type": "execute_result"
    }
   ],
   "source": [
    "CNNVAE2.eval()"
   ]
  },
  {
   "cell_type": "code",
   "execution_count": 11,
   "metadata": {},
   "outputs": [],
   "source": [
    "Z_hat, mu_tr, sigma_tr = CNNVAE2.encoder(X_train.to(device))\n",
    "mu_train = mu_tr.cpu().detach().numpy()\n",
    "\n",
    "Z_hat, mu_te, sigma_te = CNNVAE2.encoder(X_test.to(device))\n",
    "mu_test = mu_te.cpu().detach().numpy()"
   ]
  },
  {
   "cell_type": "code",
   "execution_count": 12,
   "metadata": {},
   "outputs": [],
   "source": [
    "CNNVAE2clf = GradientBoostingClassifier(n_estimators=500, learning_rate=0.1, subsample=0.7, verbose=True)"
   ]
  },
  {
   "cell_type": "code",
   "execution_count": 13,
   "metadata": {},
   "outputs": [
    {
     "name": "stdout",
     "output_type": "stream",
     "text": [
      "      Iter       Train Loss      OOB Improve   Remaining Time \n",
      "         1       39904.6121        2286.1505            6.21m\n",
      "         2       37361.3994        1141.3668            6.11m\n",
      "         3       35176.9283         852.4612            6.18m\n",
      "         4       33788.4419         694.1255            6.14m\n",
      "         5       32312.6260         554.5510            6.22m\n",
      "         6       31312.5589         456.9539            6.30m\n",
      "         7       30368.0183         418.4385            6.36m\n",
      "         8       29482.5270         346.5589            6.35m\n",
      "         9       28838.6219         283.3215            6.36m\n",
      "        10       28201.4440         260.9410            6.38m\n",
      "        20       24525.1604         111.6290            6.39m\n",
      "        30       22534.1276          37.7495            6.12m\n",
      "        40       21613.5756          30.3992            5.86m\n",
      "        50       20968.5069          17.0853            5.69m\n",
      "        60       20276.2680          23.2365            5.54m\n",
      "        70       19760.5510          17.8811            5.40m\n",
      "        80       19407.5792          11.5949            5.24m\n",
      "        90       18893.8989           7.5094            5.10m\n",
      "       100       18747.6824           4.4674            4.99m\n",
      "       200       16832.4340           3.4815            3.71m\n",
      "       300       15849.1139          -1.1361            2.47m\n",
      "       400       15051.3722          -0.0113            1.25m\n",
      "       500       14274.5317          -0.5614            0.00s\n"
     ]
    },
    {
     "data": {
      "text/plain": [
       "GradientBoostingClassifier(criterion='friedman_mse', init=None,\n",
       "                           learning_rate=0.1, loss='deviance', max_depth=3,\n",
       "                           max_features=None, max_leaf_nodes=None,\n",
       "                           min_impurity_decrease=0.0, min_impurity_split=None,\n",
       "                           min_samples_leaf=1, min_samples_split=2,\n",
       "                           min_weight_fraction_leaf=0.0, n_estimators=500,\n",
       "                           n_iter_no_change=None, presort='auto',\n",
       "                           random_state=None, subsample=0.7, tol=0.0001,\n",
       "                           validation_fraction=0.1, verbose=True,\n",
       "                           warm_start=False)"
      ]
     },
     "execution_count": 13,
     "metadata": {},
     "output_type": "execute_result"
    }
   ],
   "source": [
    "CNNVAE2clf.fit(mu_train, y_train)"
   ]
  },
  {
   "cell_type": "code",
   "execution_count": 14,
   "metadata": {},
   "outputs": [],
   "source": [
    "y_pred = CNNVAE2clf.predict(mu_test)"
   ]
  },
  {
   "cell_type": "code",
   "execution_count": 15,
   "metadata": {},
   "outputs": [
    {
     "data": {
      "text/plain": [
       "array([[2850, 1238,   24,  123],\n",
       "       [ 390, 9879,   39,  137],\n",
       "       [  15,   48,  400,   16],\n",
       "       [ 184,  175,   15, 1203]], dtype=int64)"
      ]
     },
     "execution_count": 15,
     "metadata": {},
     "output_type": "execute_result"
    }
   ],
   "source": [
    "confusion_matrix(y_true=y_test, y_pred=y_pred)"
   ]
  },
  {
   "cell_type": "code",
   "execution_count": 17,
   "metadata": {},
   "outputs": [
    {
     "data": {
      "text/plain": [
       "0.856357552581262"
      ]
     },
     "execution_count": 17,
     "metadata": {},
     "output_type": "execute_result"
    }
   ],
   "source": [
    "accuracy_score(y_true=y_test, y_pred=y_pred)"
   ]
  },
  {
   "cell_type": "code",
   "execution_count": 18,
   "metadata": {},
   "outputs": [],
   "source": [
    "dd.save(\"VAE-saved_model_and_losses/GB_on_CNNVAE-relu_latent_space.h5\", CNNVAE2clf)"
   ]
  },
  {
   "cell_type": "markdown",
   "metadata": {},
   "source": [
    "# LSTM VAE "
   ]
  },
  {
   "cell_type": "code",
   "execution_count": 9,
   "metadata": {},
   "outputs": [],
   "source": [
    "LSTMVAE = torch.load(\"VAE-saved_model_and_losses/DeepLSTM_VAE_NLL_440ep_hidden-128_lr-{1e-3, 1e-4}_bs-300.pt\")"
   ]
  },
  {
   "cell_type": "code",
   "execution_count": 10,
   "metadata": {},
   "outputs": [
    {
     "data": {
      "text/plain": [
       "DeepLSTM_VAE(\n",
       "  (encoder_reshape): Reshape()\n",
       "  (encoder_lstm): LSTM(1, 128)\n",
       "  (encoder_output): VariationalLayer(\n",
       "    (mu): Linear(in_features=128, out_features=15, bias=True)\n",
       "    (rho): Linear(in_features=128, out_features=15, bias=True)\n",
       "    (softplus): Softplus(beta=1, threshold=20)\n",
       "  )\n",
       "  (decoder_hidden): Linear(in_features=15, out_features=128, bias=True)\n",
       "  (decoder_lstm): LSTM(1, 128)\n",
       "  (decoder_output): RecurrentDecoderOutput(\n",
       "    (mu): Linear(in_features=128, out_features=1, bias=True)\n",
       "    (rho): Linear(in_features=20480, out_features=1, bias=True)\n",
       "    (softplus): Softplus(beta=1, threshold=20)\n",
       "  )\n",
       ")"
      ]
     },
     "execution_count": 10,
     "metadata": {},
     "output_type": "execute_result"
    }
   ],
   "source": [
    "LSTMVAE.eval()"
   ]
  },
  {
   "cell_type": "code",
   "execution_count": 11,
   "metadata": {},
   "outputs": [],
   "source": [
    "X_1 = X_train[:20000]\n",
    "X_2 = X_train[20000:50000]\n",
    "X_3 = X_train[50000:]"
   ]
  },
  {
   "cell_type": "code",
   "execution_count": 12,
   "metadata": {},
   "outputs": [
    {
     "data": {
      "text/plain": [
       "torch.Size([20000, 160])"
      ]
     },
     "execution_count": 12,
     "metadata": {},
     "output_type": "execute_result"
    }
   ],
   "source": [
    "X_1.shape"
   ]
  },
  {
   "cell_type": "code",
   "execution_count": 13,
   "metadata": {},
   "outputs": [
    {
     "data": {
      "text/plain": [
       "torch.Size([30000, 160])"
      ]
     },
     "execution_count": 13,
     "metadata": {},
     "output_type": "execute_result"
    }
   ],
   "source": [
    "X_2.shape"
   ]
  },
  {
   "cell_type": "code",
   "execution_count": 14,
   "metadata": {},
   "outputs": [],
   "source": [
    "Z_hat, mu_tr, sigma_tr = LSTMVAE.encoder(X_1.to(device))\n",
    "mu_train1 = mu_tr.cpu().detach().numpy()\n"
   ]
  },
  {
   "cell_type": "code",
   "execution_count": 15,
   "metadata": {},
   "outputs": [],
   "source": [
    "#np.save(\"mu_lstm1.npy\", mu_train1)"
   ]
  },
  {
   "cell_type": "code",
   "execution_count": 16,
   "metadata": {},
   "outputs": [],
   "source": [
    "Z_hat, mu_tr, sigma_tr = LSTMVAE.encoder(X_2.to(device))\n",
    "mu_train2 = mu_tr.cpu().detach().numpy()"
   ]
  },
  {
   "cell_type": "code",
   "execution_count": 17,
   "metadata": {},
   "outputs": [],
   "source": [
    "#np.save(\"mu_lstm2.npy\", mu_train2)"
   ]
  },
  {
   "cell_type": "code",
   "execution_count": 18,
   "metadata": {},
   "outputs": [],
   "source": [
    "Z_hat, mu_tr, sigma_tr = LSTMVAE.encoder(X_3.to(device))\n",
    "mu_train3 = mu_tr.cpu().detach().numpy()\n"
   ]
  },
  {
   "cell_type": "code",
   "execution_count": 19,
   "metadata": {},
   "outputs": [],
   "source": [
    "#np.save(\"mu_lstm3.npy\", mu_train3)"
   ]
  },
  {
   "cell_type": "code",
   "execution_count": 20,
   "metadata": {},
   "outputs": [],
   "source": [
    "Z_hat, mu_te, sigma_te = LSTMVAE.encoder(X_test.to(device))\n",
    "mu_test = mu_te.cpu().detach().numpy()"
   ]
  },
  {
   "cell_type": "code",
   "execution_count": 21,
   "metadata": {},
   "outputs": [],
   "source": [
    "#np.save(\"mu_lstm_test.npy\", mu_test)"
   ]
  },
  {
   "cell_type": "code",
   "execution_count": 25,
   "metadata": {},
   "outputs": [],
   "source": [
    "mu_train = np.concatenate((mu_train1, mu_train2, mu_train3))"
   ]
  },
  {
   "cell_type": "code",
   "execution_count": 26,
   "metadata": {},
   "outputs": [
    {
     "data": {
      "text/plain": [
       "(66944, 15)"
      ]
     },
     "execution_count": 26,
     "metadata": {},
     "output_type": "execute_result"
    }
   ],
   "source": [
    "mu_train.shape"
   ]
  },
  {
   "cell_type": "code",
   "execution_count": 27,
   "metadata": {},
   "outputs": [],
   "source": [
    "LSTMVAEclf = GradientBoostingClassifier(n_estimators=500, learning_rate=0.1, subsample=0.7, verbose=True)"
   ]
  },
  {
   "cell_type": "code",
   "execution_count": 28,
   "metadata": {},
   "outputs": [
    {
     "name": "stdout",
     "output_type": "stream",
     "text": [
      "      Iter       Train Loss      OOB Improve   Remaining Time \n",
      "         1       39370.3342        2518.2006            5.89m\n",
      "         2       36502.8299        1228.1537            5.97m\n",
      "         3       34415.3546         888.0078            6.05m\n",
      "         4       32781.7957         690.5433            6.09m\n",
      "         5       31575.2621         556.3595            6.06m\n",
      "         6       30395.7233         457.0149            6.06m\n",
      "         7       29622.3986         377.4901            6.03m\n",
      "         8       28769.6551         292.4901            6.01m\n",
      "         9       28104.7339         310.2282            5.98m\n",
      "        10       27638.7648         255.4609            5.96m\n",
      "        20       23733.3450          92.9769            5.97m\n",
      "        30       22233.2837          53.6143            5.80m\n",
      "        40       21343.4186          26.9819            5.71m\n",
      "        50       20630.5343          13.7826            5.59m\n",
      "        60       20231.9677           9.2029            5.42m\n",
      "        70       19800.0127           4.5405            5.26m\n",
      "        80       19557.5704           5.1994            5.11m\n",
      "        90       19494.1117           6.5034            4.97m\n",
      "       100       19329.6473           1.4195            4.89m\n",
      "       200       17840.5319          -1.0393            3.88m\n",
      "       300       17054.6279          -1.1128            2.60m\n",
      "       400       16476.5235        -167.3620            1.31m\n",
      "       500       15929.0116          -1.5182            0.00s\n"
     ]
    },
    {
     "data": {
      "text/plain": [
       "GradientBoostingClassifier(criterion='friedman_mse', init=None,\n",
       "                           learning_rate=0.1, loss='deviance', max_depth=3,\n",
       "                           max_features=None, max_leaf_nodes=None,\n",
       "                           min_impurity_decrease=0.0, min_impurity_split=None,\n",
       "                           min_samples_leaf=1, min_samples_split=2,\n",
       "                           min_weight_fraction_leaf=0.0, n_estimators=500,\n",
       "                           n_iter_no_change=None, presort='auto',\n",
       "                           random_state=None, subsample=0.7, tol=0.0001,\n",
       "                           validation_fraction=0.1, verbose=True,\n",
       "                           warm_start=False)"
      ]
     },
     "execution_count": 28,
     "metadata": {},
     "output_type": "execute_result"
    }
   ],
   "source": [
    "LSTMVAEclf.fit(mu_train, y_train)"
   ]
  },
  {
   "cell_type": "code",
   "execution_count": 29,
   "metadata": {},
   "outputs": [],
   "source": [
    "y_pred = LSTMVAEclf.predict(mu_test)"
   ]
  },
  {
   "cell_type": "code",
   "execution_count": 30,
   "metadata": {},
   "outputs": [
    {
     "data": {
      "text/plain": [
       "array([[2544, 1523,   33,  135],\n",
       "       [ 480, 9780,   48,  137],\n",
       "       [  23,   37,  402,   17],\n",
       "       [ 161,  162,   22, 1232]], dtype=int64)"
      ]
     },
     "execution_count": 30,
     "metadata": {},
     "output_type": "execute_result"
    }
   ],
   "source": [
    "confusion_matrix(y_true=y_test, y_pred=y_pred)"
   ]
  },
  {
   "cell_type": "code",
   "execution_count": 31,
   "metadata": {},
   "outputs": [
    {
     "data": {
      "text/plain": [
       "0.8340105162523901"
      ]
     },
     "execution_count": 31,
     "metadata": {},
     "output_type": "execute_result"
    }
   ],
   "source": [
    "accuracy_score(y_true=y_test, y_pred=y_pred)"
   ]
  },
  {
   "cell_type": "code",
   "execution_count": 32,
   "metadata": {},
   "outputs": [],
   "source": [
    "dd.save(\"VAE-saved_model_and_losses/GB_on_LSTM-VAE_latent_space.h5\", LSTMVAEclf)"
   ]
  },
  {
   "cell_type": "code",
   "execution_count": null,
   "metadata": {},
   "outputs": [],
   "source": []
  },
  {
   "cell_type": "code",
   "execution_count": null,
   "metadata": {},
   "outputs": [],
   "source": []
  },
  {
   "cell_type": "code",
   "execution_count": null,
   "metadata": {},
   "outputs": [],
   "source": []
  },
  {
   "cell_type": "code",
   "execution_count": null,
   "metadata": {},
   "outputs": [],
   "source": []
  },
  {
   "cell_type": "code",
   "execution_count": null,
   "metadata": {},
   "outputs": [],
   "source": []
  }
 ],
 "metadata": {
  "kernelspec": {
   "display_name": "Pytorch",
   "language": "python",
   "name": "pytorch"
  },
  "language_info": {
   "codemirror_mode": {
    "name": "ipython",
    "version": 3
   },
   "file_extension": ".py",
   "mimetype": "text/x-python",
   "name": "python",
   "nbconvert_exporter": "python",
   "pygments_lexer": "ipython3",
   "version": "3.7.4"
  }
 },
 "nbformat": 4,
 "nbformat_minor": 2
}
