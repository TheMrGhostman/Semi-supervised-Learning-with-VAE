{
 "cells": [
  {
   "cell_type": "code",
   "execution_count": 1,
   "metadata": {
    "colab": {},
    "colab_type": "code",
    "id": "SCOGgPDrM9zN"
   },
   "outputs": [],
   "source": [
    "import numpy as np \n",
    "import time\n",
    "\n",
    "import torch \n",
    "import torch.nn as nn\n",
    "import torch.nn.functional as F \n",
    "\n",
    "import matplotlib.pyplot as plt\n",
    "from collections import OrderedDict\n",
    "\n",
    "from sklearn.model_selection import train_test_split\n",
    "from sklearn.metrics import confusion_matrix, accuracy_score, f1_score\n",
    "from sklearn.preprocessing import RobustScaler\n",
    "\n",
    "from utils.inference import Trainer, plot_loss\n",
    "from utils.models import DNN\n",
    "import utils.datasets as d"
   ]
  },
  {
   "cell_type": "markdown",
   "metadata": {
    "colab_type": "text",
    "id": "1Z5N6d8DNI-z"
   },
   "source": [
    "# Without sampling"
   ]
  },
  {
   "cell_type": "code",
   "execution_count": 0,
   "metadata": {
    "colab": {},
    "colab_type": "code",
    "id": "voq6CalmM92W"
   },
   "outputs": [],
   "source": [
    "X_train = np.load(\"data/encoded_data_train_CNN-VAE_ReLU_NLL_lr-{1e-3,1e-4}_bs-512_epoch-300.npy\")\n",
    "y_train = np.load(\"data/labels_train.npy\")\n",
    "X_test = np.load(\"data/encoded_data_test_CNN-VAE_ReLU_NLL_lr-{1e-3,1e-4}_bs-512_epoch-300.npy\")\n",
    "y_test = np.load(\"data/labels_test.npy\")"
   ]
  },
  {
   "cell_type": "code",
   "execution_count": 0,
   "metadata": {
    "colab": {},
    "colab_type": "code",
    "id": "tu-V4WzXM96g"
   },
   "outputs": [],
   "source": [
    "X_train, X_valid, y_train, y_valid = train_test_split(X_train, y_train, test_size=0.2, random_state=666)"
   ]
  },
  {
   "cell_type": "code",
   "execution_count": 0,
   "metadata": {
    "colab": {},
    "colab_type": "code",
    "id": "NBVcA97PM99W"
   },
   "outputs": [],
   "source": [
    "train = d.H_alphaSequences(X_train, y_train)\n",
    "valid = d.H_alphaSequences(X_valid, y_valid)\n",
    "test = d.H_alphaSequences(X_test, y_test)"
   ]
  },
  {
   "cell_type": "code",
   "execution_count": 0,
   "metadata": {
    "colab": {},
    "colab_type": "code",
    "id": "8M3gLPnxM-Aq"
   },
   "outputs": [],
   "source": [
    "train_loader = torch.utils.data.DataLoader(dataset = train, batch_size=512, shuffle=True)\n",
    "valid_loader = torch.utils.data.DataLoader(dataset = valid, batch_size=512, shuffle=True)"
   ]
  },
  {
   "cell_type": "code",
   "execution_count": 0,
   "metadata": {
    "colab": {},
    "colab_type": "code",
    "id": "2m2EKociNVJg"
   },
   "outputs": [],
   "source": [
    "DNN1 = nn.Sequential(\n",
    "            nn.Linear(in_features=15, out_features=64),\n",
    "            nn.Sigmoid(),\n",
    "            nn.Linear(in_features=64, out_features=128),\n",
    "            nn.Sigmoid(),\n",
    "            nn.Linear(in_features=128, out_features=4),\n",
    ")"
   ]
  },
  {
   "cell_type": "code",
   "execution_count": 0,
   "metadata": {
    "colab": {},
    "colab_type": "code",
    "id": "QocCCcgSNVMP"
   },
   "outputs": [],
   "source": [
    "optimizer= torch.optim.Adam(DNN1.parameters(), lr=1e-2)"
   ]
  },
  {
   "cell_type": "code",
   "execution_count": 0,
   "metadata": {
    "colab": {
     "base_uri": "https://localhost:8080/",
     "height": 34
    },
    "colab_type": "code",
    "id": "z0HvwkdgNVV8",
    "outputId": "f8fd8d7a-0ea5-46a5-da05-0c03b99faf3f"
   },
   "outputs": [
    {
     "name": "stdout",
     "output_type": "stream",
     "text": [
      "cuda:0\n"
     ]
    }
   ],
   "source": [
    "m1 = Trainer(\n",
    "        model=DNN1,\n",
    "        optimizer=optimizer,\n",
    "        loss_function=nn.CrossEntropyLoss(),\n",
    "        scheduler=torch.optim.lr_scheduler.MultiStepLR(optimizer, milestones=[30], gamma=0.1),\n",
    "        tensorboard=True,\n",
    "        model_name=\"DNN_on_CNN-VAE_latent_space_m.IV_lr-{1e-2,1e-3}_epochs-512\",\n",
    "        verbose=True\n",
    "        )"
   ]
  },
  {
   "cell_type": "code",
   "execution_count": 0,
   "metadata": {
    "colab": {
     "base_uri": "https://localhost:8080/",
     "height": 1000
    },
    "colab_type": "code",
    "id": "Av602ZNxNVcl",
    "outputId": "97a3e384-0b44-4024-bca9-50104a6c3ae5"
   },
   "outputs": [
    {
     "name": "stdout",
     "output_type": "stream",
     "text": [
      "Epoch [1/100], average_loss:0.7551, validation_loss:0.6017, val_accuracy:0.7662\n",
      "Epoch [2/100], average_loss:0.5648, validation_loss:0.5291, val_accuracy:0.8312\n",
      "Epoch [3/100], average_loss:0.5102, validation_loss:0.4963, val_accuracy:0.7662\n",
      "Epoch [4/100], average_loss:0.4727, validation_loss:0.4679, val_accuracy:0.7273\n",
      "Epoch [5/100], average_loss:0.4417, validation_loss:0.4357, val_accuracy:0.8312\n",
      "Epoch [6/100], average_loss:0.4232, validation_loss:0.4357, val_accuracy:0.7792\n",
      "Epoch [7/100], average_loss:0.4155, validation_loss:0.4135, val_accuracy:0.8442\n",
      "Epoch [8/100], average_loss:0.4067, validation_loss:0.4092, val_accuracy:0.8571\n",
      "Epoch [9/100], average_loss:0.4009, validation_loss:0.4131, val_accuracy:0.8442\n",
      "Epoch [10/100], average_loss:0.3968, validation_loss:0.4144, val_accuracy:0.8312\n",
      "Epoch [11/100], average_loss:0.3898, validation_loss:0.3971, val_accuracy:0.8831\n",
      "Epoch [12/100], average_loss:0.3813, validation_loss:0.3975, val_accuracy:0.8701\n",
      "Epoch [13/100], average_loss:0.3827, validation_loss:0.3949, val_accuracy:0.8442\n",
      "Epoch [14/100], average_loss:0.3754, validation_loss:0.3870, val_accuracy:0.8831\n",
      "Epoch [15/100], average_loss:0.3697, validation_loss:0.3879, val_accuracy:0.8312\n",
      "Epoch [16/100], average_loss:0.3642, validation_loss:0.3843, val_accuracy:0.8312\n",
      "Epoch [17/100], average_loss:0.3629, validation_loss:0.3798, val_accuracy:0.8701\n",
      "Epoch [18/100], average_loss:0.3559, validation_loss:0.3809, val_accuracy:0.8571\n",
      "Epoch [19/100], average_loss:0.3535, validation_loss:0.3841, val_accuracy:0.7922\n",
      "Epoch [20/100], average_loss:0.3480, validation_loss:0.3817, val_accuracy:0.8052\n",
      "Epoch [21/100], average_loss:0.3461, validation_loss:0.3730, val_accuracy:0.8052\n",
      "Epoch [22/100], average_loss:0.3411, validation_loss:0.3702, val_accuracy:0.8442\n",
      "Epoch [23/100], average_loss:0.3394, validation_loss:0.3665, val_accuracy:0.8831\n",
      "Epoch [24/100], average_loss:0.3370, validation_loss:0.3817, val_accuracy:0.9221\n",
      "Epoch [25/100], average_loss:0.3359, validation_loss:0.3680, val_accuracy:0.8182\n",
      "Epoch [26/100], average_loss:0.3325, validation_loss:0.3608, val_accuracy:0.8831\n",
      "Epoch [27/100], average_loss:0.3307, validation_loss:0.3813, val_accuracy:0.7532\n",
      "Epoch [28/100], average_loss:0.3286, validation_loss:0.3649, val_accuracy:0.8052\n",
      "Epoch [29/100], average_loss:0.3297, validation_loss:0.3691, val_accuracy:0.8312\n",
      "Epoch [30/100], average_loss:0.3248, validation_loss:0.3671, val_accuracy:0.8961\n",
      "Epoch [31/100], average_loss:0.3123, validation_loss:0.3605, val_accuracy:0.8182\n",
      "Epoch [32/100], average_loss:0.3098, validation_loss:0.3599, val_accuracy:0.8312\n",
      "Epoch [33/100], average_loss:0.3094, validation_loss:0.3608, val_accuracy:0.7792\n",
      "Epoch [34/100], average_loss:0.3095, validation_loss:0.3557, val_accuracy:0.8312\n",
      "Epoch [35/100], average_loss:0.3084, validation_loss:0.3574, val_accuracy:0.8182\n",
      "Epoch [36/100], average_loss:0.3085, validation_loss:0.3566, val_accuracy:0.8312\n",
      "Epoch [37/100], average_loss:0.3079, validation_loss:0.3596, val_accuracy:0.8442\n",
      "Epoch [38/100], average_loss:0.3080, validation_loss:0.3600, val_accuracy:0.7792\n",
      "Epoch [39/100], average_loss:0.3078, validation_loss:0.3534, val_accuracy:0.8831\n",
      "Epoch [40/100], average_loss:0.3081, validation_loss:0.3617, val_accuracy:0.7792\n",
      "Epoch [41/100], average_loss:0.3075, validation_loss:0.3600, val_accuracy:0.8442\n",
      "Epoch [42/100], average_loss:0.3069, validation_loss:0.3622, val_accuracy:0.7013\n",
      "Epoch [43/100], average_loss:0.3068, validation_loss:0.3563, val_accuracy:0.8442\n",
      "Epoch [44/100], average_loss:0.3064, validation_loss:0.3505, val_accuracy:0.9481\n",
      "Epoch [45/100], average_loss:0.3062, validation_loss:0.3530, val_accuracy:0.8442\n",
      "Epoch [46/100], average_loss:0.3062, validation_loss:0.3629, val_accuracy:0.7662\n",
      "Epoch [47/100], average_loss:0.3057, validation_loss:0.3565, val_accuracy:0.8182\n",
      "Epoch [48/100], average_loss:0.3059, validation_loss:0.3604, val_accuracy:0.8182\n",
      "Epoch [49/100], average_loss:0.3051, validation_loss:0.3534, val_accuracy:0.9091\n",
      "Epoch [50/100], average_loss:0.3049, validation_loss:0.3648, val_accuracy:0.7922\n",
      "Epoch [51/100], average_loss:0.3047, validation_loss:0.3550, val_accuracy:0.8571\n",
      "Epoch [52/100], average_loss:0.3049, validation_loss:0.3586, val_accuracy:0.8182\n",
      "Epoch [53/100], average_loss:0.3041, validation_loss:0.3572, val_accuracy:0.8312\n",
      "Epoch [54/100], average_loss:0.3040, validation_loss:0.3554, val_accuracy:0.9091\n",
      "Epoch [55/100], average_loss:0.3041, validation_loss:0.3549, val_accuracy:0.8571\n",
      "Epoch [56/100], average_loss:0.3032, validation_loss:0.3568, val_accuracy:0.9091\n",
      "Epoch [57/100], average_loss:0.3028, validation_loss:0.3593, val_accuracy:0.8312\n",
      "Epoch [58/100], average_loss:0.3029, validation_loss:0.3561, val_accuracy:0.8312\n",
      "Epoch [59/100], average_loss:0.3027, validation_loss:0.3562, val_accuracy:0.8701\n",
      "Epoch [60/100], average_loss:0.3026, validation_loss:0.3567, val_accuracy:0.8312\n",
      "Epoch [61/100], average_loss:0.3027, validation_loss:0.3547, val_accuracy:0.8701\n",
      "Epoch [62/100], average_loss:0.3023, validation_loss:0.3577, val_accuracy:0.8961\n",
      "Epoch [63/100], average_loss:0.3020, validation_loss:0.3542, val_accuracy:0.9221\n",
      "Epoch [64/100], average_loss:0.3016, validation_loss:0.3514, val_accuracy:0.8831\n",
      "Epoch [65/100], average_loss:0.3010, validation_loss:0.3566, val_accuracy:0.8701\n",
      "Epoch [66/100], average_loss:0.3011, validation_loss:0.3533, val_accuracy:0.8961\n",
      "Epoch [67/100], average_loss:0.3007, validation_loss:0.3557, val_accuracy:0.9091\n",
      "Epoch [68/100], average_loss:0.3006, validation_loss:0.3576, val_accuracy:0.8961\n",
      "Epoch [69/100], average_loss:0.3002, validation_loss:0.3592, val_accuracy:0.8571\n",
      "Epoch [70/100], average_loss:0.3001, validation_loss:0.3550, val_accuracy:0.8701\n",
      "Epoch [71/100], average_loss:0.3001, validation_loss:0.3561, val_accuracy:0.8701\n",
      "Epoch [72/100], average_loss:0.3000, validation_loss:0.3589, val_accuracy:0.8182\n",
      "Epoch [73/100], average_loss:0.2995, validation_loss:0.3586, val_accuracy:0.7922\n",
      "Epoch [74/100], average_loss:0.2991, validation_loss:0.3574, val_accuracy:0.8312\n",
      "Epoch [75/100], average_loss:0.2990, validation_loss:0.3632, val_accuracy:0.7532\n",
      "Epoch [76/100], average_loss:0.2991, validation_loss:0.3562, val_accuracy:0.8442\n",
      "Epoch [77/100], average_loss:0.2983, validation_loss:0.3594, val_accuracy:0.7662\n",
      "Epoch [78/100], average_loss:0.2980, validation_loss:0.3587, val_accuracy:0.8831\n",
      "Epoch [79/100], average_loss:0.2979, validation_loss:0.3501, val_accuracy:0.9481\n",
      "Epoch [80/100], average_loss:0.2977, validation_loss:0.3581, val_accuracy:0.7403\n",
      "Epoch [81/100], average_loss:0.2977, validation_loss:0.3524, val_accuracy:0.8701\n",
      "Epoch [82/100], average_loss:0.2971, validation_loss:0.3551, val_accuracy:0.8571\n",
      "Epoch [83/100], average_loss:0.2974, validation_loss:0.3569, val_accuracy:0.8312\n",
      "Epoch [84/100], average_loss:0.2970, validation_loss:0.3607, val_accuracy:0.8442\n",
      "Epoch [85/100], average_loss:0.2965, validation_loss:0.3581, val_accuracy:0.8442\n",
      "Epoch [86/100], average_loss:0.2965, validation_loss:0.3569, val_accuracy:0.8052\n",
      "Epoch [87/100], average_loss:0.2965, validation_loss:0.3570, val_accuracy:0.9091\n",
      "Epoch [88/100], average_loss:0.2961, validation_loss:0.3545, val_accuracy:0.8571\n",
      "Epoch [89/100], average_loss:0.2956, validation_loss:0.3584, val_accuracy:0.8182\n",
      "Epoch [90/100], average_loss:0.2956, validation_loss:0.3603, val_accuracy:0.7792\n",
      "Epoch [91/100], average_loss:0.2954, validation_loss:0.3526, val_accuracy:0.9091\n",
      "Epoch [92/100], average_loss:0.2951, validation_loss:0.3542, val_accuracy:0.8312\n",
      "Epoch [93/100], average_loss:0.2951, validation_loss:0.3603, val_accuracy:0.7662\n",
      "Epoch [94/100], average_loss:0.2951, validation_loss:0.3570, val_accuracy:0.8182\n",
      "Epoch [95/100], average_loss:0.2944, validation_loss:0.3559, val_accuracy:0.8312\n",
      "Epoch [96/100], average_loss:0.2941, validation_loss:0.3581, val_accuracy:0.8312\n",
      "Epoch [97/100], average_loss:0.2938, validation_loss:0.3526, val_accuracy:0.8831\n",
      "Epoch [98/100], average_loss:0.2939, validation_loss:0.3540, val_accuracy:0.8831\n",
      "Epoch [99/100], average_loss:0.2939, validation_loss:0.3564, val_accuracy:0.8701\n",
      "Epoch [100/100], average_loss:0.2932, validation_loss:0.3570, val_accuracy:0.8182\n"
     ]
    }
   ],
   "source": [
    "lh = m1(epochs=100, train_loader=train_loader, validation_loader=valid_loader)"
   ]
  },
  {
   "cell_type": "code",
   "execution_count": 0,
   "metadata": {
    "colab": {},
    "colab_type": "code",
    "id": "8aB-SIR8NVaj"
   },
   "outputs": [],
   "source": [
    "m1.tb.close()\n",
    "\n",
    "m1.model.eval()\n",
    "with torch.no_grad():\n",
    "    x_pred = np.argmax(m1.model(torch.tensor(X_test).float().to(m1.device)).cpu().detach(), axis=1)"
   ]
  },
  {
   "cell_type": "code",
   "execution_count": 0,
   "metadata": {
    "colab": {
     "base_uri": "https://localhost:8080/",
     "height": 34
    },
    "colab_type": "code",
    "id": "IYCLgA58NVQ5",
    "outputId": "04c01405-e732-4fdd-953f-ac866c0a11cc"
   },
   "outputs": [
    {
     "data": {
      "text/plain": [
       "tensor([1, 0, 1,  ..., 3, 1, 0])"
      ]
     },
     "execution_count": 17,
     "metadata": {
      "tags": []
     },
     "output_type": "execute_result"
    }
   ],
   "source": [
    "x_pred"
   ]
  },
  {
   "cell_type": "code",
   "execution_count": 0,
   "metadata": {
    "colab": {
     "base_uri": "https://localhost:8080/",
     "height": 34
    },
    "colab_type": "code",
    "id": "64oUK08XNVPE",
    "outputId": "77af5ad0-2ccb-40c3-e8c2-c5cdd820fb71"
   },
   "outputs": [
    {
     "data": {
      "text/plain": [
       "0.8292950992661148"
      ]
     },
     "execution_count": 18,
     "metadata": {
      "tags": []
     },
     "output_type": "execute_result"
    }
   ],
   "source": [
    "f1_score(y_true=y_test, y_pred=x_pred, average=\"macro\")"
   ]
  },
  {
   "cell_type": "code",
   "execution_count": 0,
   "metadata": {
    "colab": {
     "base_uri": "https://localhost:8080/",
     "height": 34
    },
    "colab_type": "code",
    "id": "KzNmYtFxOgS_",
    "outputId": "defdd07f-72b8-4c2b-e6aa-46a0a884d706"
   },
   "outputs": [
    {
     "data": {
      "text/plain": [
       "0.8604804015296367"
      ]
     },
     "execution_count": 19,
     "metadata": {
      "tags": []
     },
     "output_type": "execute_result"
    }
   ],
   "source": [
    "accuracy_score(y_true=y_test, y_pred=x_pred)"
   ]
  },
  {
   "cell_type": "code",
   "execution_count": 0,
   "metadata": {
    "colab": {
     "base_uri": "https://localhost:8080/",
     "height": 85
    },
    "colab_type": "code",
    "id": "SodFtzG_OgWG",
    "outputId": "3f863dfc-29e0-4304-b201-67413c3a0674"
   },
   "outputs": [
    {
     "data": {
      "text/plain": [
       "array([[3095,  998,   28,  114],\n",
       "       [ 626, 9675,   30,  114],\n",
       "       [  19,   44,  401,   15],\n",
       "       [ 204,  132,   11, 1230]])"
      ]
     },
     "execution_count": 20,
     "metadata": {
      "tags": []
     },
     "output_type": "execute_result"
    }
   ],
   "source": [
    "confusion_matrix(y_true=y_test, y_pred=x_pred)"
   ]
  },
  {
   "cell_type": "code",
   "execution_count": 0,
   "metadata": {
    "colab": {
     "base_uri": "https://localhost:8080/",
     "height": 442
    },
    "colab_type": "code",
    "id": "TanFgK7OOgay",
    "outputId": "d3ef996a-7bc7-4dde-ed9a-9663e9465f0f"
   },
   "outputs": [
    {
     "data": {
      "image/png": "[encoded data removed]",
      "text/plain": [
       "<Figure size 720x504 with 1 Axes>"
      ]
     },
     "metadata": {
      "tags": []
     },
     "output_type": "display_data"
    }
   ],
   "source": [
    "plot_loss(m1, figsize=(10,7), downsample=10)"
   ]
  },
  {
   "cell_type": "markdown",
   "metadata": {
    "colab_type": "text",
    "id": "u2VWYVWNR0_K"
   },
   "source": [
    "# With sampling"
   ]
  },
  {
   "cell_type": "code",
   "execution_count": 2,
   "metadata": {
    "colab": {},
    "colab_type": "code",
    "id": "lthUbpn6R5mm"
   },
   "outputs": [],
   "source": [
    "X = np.vstack((np.load(\"data/sequenced_data_for_VAE_length-160_stride-10_pt1.npy\"),\n",
    "               np.load(\"data/sequenced_data_for_VAE_length-160_stride-10_pt2.npy\")))\n",
    "y = np.load(\"data/sequenced_data_for_VAE_length-160_stride-10_targets.npy\")"
   ]
  },
  {
   "cell_type": "code",
   "execution_count": 3,
   "metadata": {
    "colab": {},
    "colab_type": "code",
    "id": "kSbBqmZrSFuu"
   },
   "outputs": [],
   "source": [
    "X_train, X_test, y_train, y_test = train_test_split(np.array(X), np.array(y), test_size=0.2, random_state=666)"
   ]
  },
  {
   "cell_type": "code",
   "execution_count": 4,
   "metadata": {
    "colab": {},
    "colab_type": "code",
    "id": "uP7mTPvqSF5x"
   },
   "outputs": [],
   "source": [
    "scaler = RobustScaler()\n",
    "X_train = scaler.fit_transform(X_train)\n",
    "X_test = scaler.transform(X_test)"
   ]
  },
  {
   "cell_type": "code",
   "execution_count": 5,
   "metadata": {
    "colab": {},
    "colab_type": "code",
    "id": "1o58gaXd8Jlf"
   },
   "outputs": [],
   "source": [
    "X_train, X_valid, y_train, y_valid = train_test_split(X_train, y_train, test_size=0.2, random_state=666)"
   ]
  },
  {
   "cell_type": "code",
   "execution_count": 6,
   "metadata": {
    "colab": {},
    "colab_type": "code",
    "id": "LYKHTsaRSF3_"
   },
   "outputs": [],
   "source": [
    "train = d.H_alphaSequences(X_train, y_train)\n",
    "valid = d.H_alphaSequences(X_valid, y_valid)\n",
    "test = d.H_alphaSequences(X_test, y_test)"
   ]
  },
  {
   "cell_type": "code",
   "execution_count": 7,
   "metadata": {
    "colab": {},
    "colab_type": "code",
    "id": "7jGGuGd3SF2K"
   },
   "outputs": [],
   "source": [
    "train_loader = torch.utils.data.DataLoader(dataset = train, batch_size=512, shuffle=True)\n",
    "valid_loader = torch.utils.data.DataLoader(dataset = valid, batch_size=512, shuffle=True)"
   ]
  },
  {
   "cell_type": "markdown",
   "metadata": {
    "colab_type": "text",
    "id": "Hddr9EK9RNkH"
   },
   "source": [
    "## Loading Encoder"
   ]
  },
  {
   "cell_type": "code",
   "execution_count": 8,
   "metadata": {
    "colab": {},
    "colab_type": "code",
    "id": "sKomVcQoPRFq"
   },
   "outputs": [],
   "source": [
    "VAE = torch.load(\"models_and_losses/CNN-VAE_ReLU_NLL_lr-{1e-3,1e-4}_bs-512_epoch-300.pt\")"
   ]
  },
  {
   "cell_type": "code",
   "execution_count": 9,
   "metadata": {
    "colab": {
     "base_uri": "https://localhost:8080/",
     "height": 340
    },
    "colab_type": "code",
    "id": "3TJfsR3VRbN9",
    "outputId": "43c81845-f017-4432-825c-a959f587eb93"
   },
   "outputs": [
    {
     "data": {
      "text/plain": [
       "Sequential(\n",
       "  (0): Reshape()\n",
       "  (1): Conv1d(1, 16, kernel_size=(6,), stride=(2,), bias=False)\n",
       "  (2): ReLU()\n",
       "  (3): Conv1d(16, 32, kernel_size=(4,), stride=(2,), bias=False)\n",
       "  (4): BatchNorm1d(32, eps=1e-05, momentum=0.1, affine=True, track_running_stats=True)\n",
       "  (5): ReLU()\n",
       "  (6): Conv1d(32, 64, kernel_size=(4,), stride=(2,), bias=False)\n",
       "  (7): BatchNorm1d(64, eps=1e-05, momentum=0.1, affine=True, track_running_stats=True)\n",
       "  (8): ReLU()\n",
       "  (9): Flatten()\n",
       "  (10): Linear(in_features=1152, out_features=256, bias=True)\n",
       "  (11): ReLU()\n",
       "  (12): VariationalLayer(\n",
       "    (mu): Linear(in_features=256, out_features=15, bias=True)\n",
       "    (rho): Linear(in_features=256, out_features=15, bias=True)\n",
       "    (softplus): Softplus(beta=1, threshold=20)\n",
       "  )\n",
       ")"
      ]
     },
     "execution_count": 9,
     "metadata": {},
     "output_type": "execute_result"
    }
   ],
   "source": [
    "VAE.encoder"
   ]
  },
  {
   "cell_type": "markdown",
   "metadata": {
    "colab_type": "text",
    "id": "HQrz4pcRRvZC"
   },
   "source": [
    "## Freezing Encoder"
   ]
  },
  {
   "cell_type": "code",
   "execution_count": 10,
   "metadata": {
    "colab": {},
    "colab_type": "code",
    "id": "FepPrHmi5kKh"
   },
   "outputs": [],
   "source": [
    "class Encoder_Classifier(nn.Module):\n",
    "    def __init__(self, encoder, clf):\n",
    "        super(Encoder_Classifier, self).__init__()\n",
    "        self.encoder=encoder\n",
    "        self.clf = clf\n",
    "        self.frozen_encoder = False\n",
    "\n",
    "    def freeze_encoder(self):\n",
    "        for param in self.encoder.parameters():\n",
    "            param.requires_grad = False\n",
    "        self.frozen_encoder = True\n",
    "        print(\"Encoder frozen.\")\n",
    "\n",
    "    def unfreeze_encoder(self):\n",
    "        for param in self.encoder.parameters():\n",
    "            param.requires_grad = True\n",
    "        self.frozen_encoder = False\n",
    "        print(\"Encoder unfrozen.\")\n",
    "    \n",
    "    def forward(self, X):\n",
    "        Z, mu, sigma = self.encoder(X)\n",
    "        return self.clf(Z)\n",
    "    "
   ]
  },
  {
   "cell_type": "code",
   "execution_count": 11,
   "metadata": {
    "colab": {},
    "colab_type": "code",
    "id": "f0r4jLHe5tPy"
   },
   "outputs": [],
   "source": [
    "DNN1 = nn.Sequential(\n",
    "            nn.Linear(in_features=15, out_features=64),\n",
    "            nn.Sigmoid(),\n",
    "            nn.Linear(in_features=64, out_features=128),\n",
    "            nn.Sigmoid(),\n",
    "            nn.Linear(in_features=128, out_features=4),\n",
    ")"
   ]
  },
  {
   "cell_type": "code",
   "execution_count": 12,
   "metadata": {
    "colab": {
     "base_uri": "https://localhost:8080/",
     "height": 34
    },
    "colab_type": "code",
    "id": "-sou9uan7bFD",
    "outputId": "473dc211-21a7-4a1c-f9b7-1a9418fcc45e"
   },
   "outputs": [
    {
     "name": "stdout",
     "output_type": "stream",
     "text": [
      "Encoder frozen.\n"
     ]
    }
   ],
   "source": [
    "model = Encoder_Classifier(encoder=VAE.encoder, clf = DNN1)\n",
    "model.freeze_encoder()"
   ]
  },
  {
   "cell_type": "code",
   "execution_count": 13,
   "metadata": {
    "colab": {},
    "colab_type": "code",
    "id": "xw7AbVFD7TKP"
   },
   "outputs": [],
   "source": [
    "optimizer= torch.optim.Adam(model.parameters(), lr=1e-2)"
   ]
  },
  {
   "cell_type": "code",
   "execution_count": 14,
   "metadata": {
    "colab": {
     "base_uri": "https://localhost:8080/",
     "height": 80
    },
    "colab_type": "code",
    "id": "hfD_WT5J7Yb-",
    "outputId": "0803e7a8-0aab-455e-9878-315ed7f840ad"
   },
   "outputs": [
    {
     "name": "stdout",
     "output_type": "stream",
     "text": [
      "cuda:0\n"
     ]
    }
   ],
   "source": [
    "m1 = Trainer(\n",
    "        model=model,\n",
    "        optimizer=optimizer,\n",
    "        loss_function=nn.CrossEntropyLoss(),\n",
    "        scheduler=torch.optim.lr_scheduler.MultiStepLR(optimizer, milestones=[30], gamma=0.1),\n",
    "        tensorboard=True,\n",
    "        model_name=\"DNN_on_CNN-VAE_sampling_latent_space_m.IV_lr-{1e-2,1e-3}_epochs-512\",\n",
    "        verbose=True\n",
    "        )"
   ]
  },
  {
   "cell_type": "code",
   "execution_count": 15,
   "metadata": {
    "colab": {
     "base_uri": "https://localhost:8080/",
     "height": 1000
    },
    "colab_type": "code",
    "collapsed": true,
    "id": "mNFqptqd7Y_2",
    "outputId": "98abb786-b97f-40f7-81b2-40ce2d0e9a86"
   },
   "outputs": [
    {
     "name": "stderr",
     "output_type": "stream",
     "text": [
      "C:\\Users\\ghost_000\\Miniconda3\\envs\\Pytorch\\lib\\site-packages\\torch\\jit\\__init__.py:1007: TracerWarning: Trace had nondeterministic nodes. Did you forget call .eval() on your model? Nodes:\n",
      "\t%eps : Float(512, 15) = aten::randn_like(%sigma, %133, %134, %135, %136), scope: Encoder_Classifier/Sequential[encoder]/VariationalLayer[12] # Z:\\Semi-supervised-Learning-with-VAE\\utils\\layers.py:35:0\n",
      "This may cause errors in trace checking. To disable trace checking, pass check_trace=False to torch.jit.trace()\n",
      "  check_tolerance, _force_outplace, True, _module_class)\n",
      "C:\\Users\\ghost_000\\Miniconda3\\envs\\Pytorch\\lib\\site-packages\\torch\\jit\\__init__.py:1007: TracerWarning: Output nr 1. of the traced function does not match the corresponding output of the Python function. Detailed error:\n",
      "Not within tolerance rtol=1e-05 atol=1e-05 at input[286, 1] (1.698385238647461 vs. 1.635845422744751) and 2040 other locations (99.00%)\n",
      "  check_tolerance, _force_outplace, True, _module_class)\n",
      "C:\\Users\\ghost_000\\Miniconda3\\envs\\Pytorch\\lib\\site-packages\\torch\\jit\\__init__.py:1007: TracerWarning: Output nr 1. of the traced function does not match the corresponding output of the Python function. Detailed error:\n",
      "Not within tolerance rtol=1e-05 atol=1e-05 at input[511, 0] (0.6252045631408691 vs. 0.7613823413848877) and 2042 other locations (99.00%)\n",
      "  check_tolerance, _force_outplace, True, _module_class)\n",
      "C:\\Users\\ghost_000\\Miniconda3\\envs\\Pytorch\\lib\\site-packages\\torch\\jit\\__init__.py:1007: TracerWarning: Output nr 1. of the traced function does not match the corresponding output of the Python function. Detailed error:\n",
      "Not within tolerance rtol=1e-05 atol=1e-05 at input[346, 0] (1.1761618852615356 vs. 1.6192175149917603) and 2046 other locations (99.00%)\n",
      "  check_tolerance, _force_outplace, True, _module_class)\n",
      "C:\\Users\\ghost_000\\Miniconda3\\envs\\Pytorch\\lib\\site-packages\\torch\\jit\\__init__.py:1007: TracerWarning: Output nr 1. of the traced function does not match the corresponding output of the Python function. Detailed error:\n",
      "Not within tolerance rtol=1e-05 atol=1e-05 at input[209, 0] (1.0876561403274536 vs. 1.6349793672561646) and 2047 other locations (100.00%)\n",
      "  check_tolerance, _force_outplace, True, _module_class)\n",
      "C:\\Users\\ghost_000\\Miniconda3\\envs\\Pytorch\\lib\\site-packages\\torch\\jit\\__init__.py:1007: TracerWarning: Output nr 1. of the traced function does not match the corresponding output of the Python function. Detailed error:\n",
      "Not within tolerance rtol=1e-05 atol=1e-05 at input[295, 1] (0.8871971368789673 vs. 0.2903026044368744) and 2046 other locations (99.00%)\n",
      "  check_tolerance, _force_outplace, True, _module_class)\n",
      "C:\\Users\\ghost_000\\Miniconda3\\envs\\Pytorch\\lib\\site-packages\\torch\\jit\\__init__.py:1007: TracerWarning: Output nr 1. of the traced function does not match the corresponding output of the Python function. Detailed error:\n",
      "Not within tolerance rtol=1e-05 atol=1e-05 at input[143, 2] (-1.6825700998306274 vs. -0.8990321159362793) and 2046 other locations (99.00%)\n",
      "  check_tolerance, _force_outplace, True, _module_class)\n",
      "C:\\Users\\ghost_000\\Miniconda3\\envs\\Pytorch\\lib\\site-packages\\torch\\jit\\__init__.py:1007: TracerWarning: Output nr 1. of the traced function does not match the corresponding output of the Python function. Detailed error:\n",
      "Not within tolerance rtol=1e-05 atol=1e-05 at input[270, 3] (0.3332168459892273 vs. -0.7593979835510254) and 2047 other locations (100.00%)\n",
      "  check_tolerance, _force_outplace, True, _module_class)\n",
      "C:\\Users\\ghost_000\\Miniconda3\\envs\\Pytorch\\lib\\site-packages\\torch\\jit\\__init__.py:1007: TracerWarning: Output nr 1. of the traced function does not match the corresponding output of the Python function. Detailed error:\n",
      "Not within tolerance rtol=1e-05 atol=1e-05 at input[298, 2] (-1.6193972826004028 vs. -0.2547914385795593) and 2046 other locations (99.00%)\n",
      "  check_tolerance, _force_outplace, True, _module_class)\n",
      "C:\\Users\\ghost_000\\Miniconda3\\envs\\Pytorch\\lib\\site-packages\\torch\\jit\\__init__.py:1007: TracerWarning: Output nr 1. of the traced function does not match the corresponding output of the Python function. Detailed error:\n",
      "Not within tolerance rtol=1e-05 atol=1e-05 at input[471, 2] (-1.1326136589050293 vs. -3.108886480331421) and 2047 other locations (100.00%)\n",
      "  check_tolerance, _force_outplace, True, _module_class)\n",
      "C:\\Users\\ghost_000\\Miniconda3\\envs\\Pytorch\\lib\\site-packages\\torch\\jit\\__init__.py:1007: TracerWarning: Output nr 1. of the traced function does not match the corresponding output of the Python function. Detailed error:\n",
      "Not within tolerance rtol=1e-05 atol=1e-05 at input[365, 2] (-2.6952297687530518 vs. -5.257594585418701) and 2047 other locations (100.00%)\n",
      "  check_tolerance, _force_outplace, True, _module_class)\n"
     ]
    },
    {
     "name": "stdout",
     "output_type": "stream",
     "text": [
      "Epoch [1/100], average_loss:0.7864, validation_loss:0.6088, val_accuracy:0.7532\n",
      "Epoch [2/100], average_loss:0.5899, validation_loss:0.5435, val_accuracy:0.7922\n",
      "Epoch [3/100], average_loss:0.5338, validation_loss:0.5159, val_accuracy:0.8701\n",
      "Epoch [4/100], average_loss:0.5076, validation_loss:0.4949, val_accuracy:0.8182\n",
      "Epoch [5/100], average_loss:0.4904, validation_loss:0.4821, val_accuracy:0.9221\n",
      "Epoch [6/100], average_loss:0.4726, validation_loss:0.4593, val_accuracy:0.8442\n",
      "Epoch [7/100], average_loss:0.4522, validation_loss:0.4407, val_accuracy:0.9091\n",
      "Epoch [8/100], average_loss:0.4351, validation_loss:0.4270, val_accuracy:0.9091\n",
      "Epoch [9/100], average_loss:0.4229, validation_loss:0.4183, val_accuracy:0.8442\n",
      "Epoch [10/100], average_loss:0.4169, validation_loss:0.4194, val_accuracy:0.8312\n",
      "Epoch [11/100], average_loss:0.4102, validation_loss:0.4117, val_accuracy:0.7922\n",
      "Epoch [12/100], average_loss:0.4091, validation_loss:0.4107, val_accuracy:0.8312\n",
      "Epoch [13/100], average_loss:0.3995, validation_loss:0.4032, val_accuracy:0.8571\n",
      "Epoch [14/100], average_loss:0.3968, validation_loss:0.4030, val_accuracy:0.8182\n",
      "Epoch [15/100], average_loss:0.3934, validation_loss:0.4175, val_accuracy:0.8182\n",
      "Epoch [16/100], average_loss:0.3904, validation_loss:0.4001, val_accuracy:0.8312\n",
      "Epoch [17/100], average_loss:0.3897, validation_loss:0.3867, val_accuracy:0.8182\n",
      "Epoch [18/100], average_loss:0.3875, validation_loss:0.3980, val_accuracy:0.8442\n",
      "Epoch [19/100], average_loss:0.3826, validation_loss:0.3836, val_accuracy:0.8831\n",
      "Epoch [20/100], average_loss:0.3792, validation_loss:0.3872, val_accuracy:0.8442\n",
      "Epoch [21/100], average_loss:0.3787, validation_loss:0.3859, val_accuracy:0.8831\n",
      "Epoch [22/100], average_loss:0.3747, validation_loss:0.3886, val_accuracy:0.8442\n",
      "Epoch [23/100], average_loss:0.3688, validation_loss:0.3931, val_accuracy:0.7662\n",
      "Epoch [24/100], average_loss:0.3697, validation_loss:0.3874, val_accuracy:0.8701\n",
      "Epoch [25/100], average_loss:0.3682, validation_loss:0.3814, val_accuracy:0.7922\n",
      "Epoch [26/100], average_loss:0.3690, validation_loss:0.3734, val_accuracy:0.9221\n",
      "Epoch [27/100], average_loss:0.3635, validation_loss:0.3807, val_accuracy:0.8182\n",
      "Epoch [28/100], average_loss:0.3621, validation_loss:0.3850, val_accuracy:0.8312\n",
      "Epoch [29/100], average_loss:0.3635, validation_loss:0.3786, val_accuracy:0.9221\n",
      "Epoch [30/100], average_loss:0.3619, validation_loss:0.3875, val_accuracy:0.7922\n",
      "Epoch [31/100], average_loss:0.3510, validation_loss:0.3764, val_accuracy:0.7792\n",
      "Epoch [32/100], average_loss:0.3484, validation_loss:0.3739, val_accuracy:0.8182\n",
      "Epoch [33/100], average_loss:0.3468, validation_loss:0.3726, val_accuracy:0.8571\n",
      "Epoch [34/100], average_loss:0.3469, validation_loss:0.3752, val_accuracy:0.8442\n",
      "Epoch [35/100], average_loss:0.3468, validation_loss:0.3695, val_accuracy:0.8442\n",
      "Epoch [36/100], average_loss:0.3453, validation_loss:0.3713, val_accuracy:0.8571\n",
      "Epoch [37/100], average_loss:0.3476, validation_loss:0.3675, val_accuracy:0.9221\n",
      "Epoch [38/100], average_loss:0.3463, validation_loss:0.3712, val_accuracy:0.8831\n",
      "Epoch [39/100], average_loss:0.3474, validation_loss:0.3768, val_accuracy:0.7662\n",
      "Epoch [40/100], average_loss:0.3461, validation_loss:0.3699, val_accuracy:0.8701\n",
      "Epoch [41/100], average_loss:0.3464, validation_loss:0.3729, val_accuracy:0.8052\n",
      "Epoch [42/100], average_loss:0.3453, validation_loss:0.3718, val_accuracy:0.7922\n",
      "Epoch [43/100], average_loss:0.3445, validation_loss:0.3722, val_accuracy:0.7662\n",
      "Epoch [44/100], average_loss:0.3444, validation_loss:0.3719, val_accuracy:0.7662\n",
      "Epoch [45/100], average_loss:0.3446, validation_loss:0.3672, val_accuracy:0.9221\n",
      "Epoch [46/100], average_loss:0.3437, validation_loss:0.3678, val_accuracy:0.8831\n",
      "Epoch [47/100], average_loss:0.3451, validation_loss:0.3734, val_accuracy:0.8571\n",
      "Epoch [48/100], average_loss:0.3430, validation_loss:0.3679, val_accuracy:0.8701\n",
      "Epoch [49/100], average_loss:0.3443, validation_loss:0.3727, val_accuracy:0.8571\n",
      "Epoch [50/100], average_loss:0.3431, validation_loss:0.3699, val_accuracy:0.8571\n",
      "Epoch [51/100], average_loss:0.3435, validation_loss:0.3690, val_accuracy:0.8312\n",
      "Epoch [52/100], average_loss:0.3445, validation_loss:0.3668, val_accuracy:0.8701\n",
      "Epoch [53/100], average_loss:0.3425, validation_loss:0.3648, val_accuracy:0.8831\n",
      "Epoch [54/100], average_loss:0.3431, validation_loss:0.3685, val_accuracy:0.8831\n",
      "Epoch [55/100], average_loss:0.3436, validation_loss:0.3701, val_accuracy:0.8442\n",
      "Epoch [56/100], average_loss:0.3435, validation_loss:0.3753, val_accuracy:0.8182\n",
      "Epoch [57/100], average_loss:0.3429, validation_loss:0.3676, val_accuracy:0.8831\n",
      "Epoch [58/100], average_loss:0.3438, validation_loss:0.3684, val_accuracy:0.8701\n",
      "Epoch [59/100], average_loss:0.3410, validation_loss:0.3692, val_accuracy:0.8961\n",
      "Epoch [60/100], average_loss:0.3415, validation_loss:0.3716, val_accuracy:0.8052\n",
      "Epoch [61/100], average_loss:0.3413, validation_loss:0.3679, val_accuracy:0.8052\n",
      "Epoch [62/100], average_loss:0.3433, validation_loss:0.3715, val_accuracy:0.7662\n",
      "Epoch [63/100], average_loss:0.3408, validation_loss:0.3675, val_accuracy:0.8442\n",
      "Epoch [64/100], average_loss:0.3412, validation_loss:0.3660, val_accuracy:0.8961\n",
      "Epoch [65/100], average_loss:0.3418, validation_loss:0.3666, val_accuracy:0.8831\n",
      "Epoch [66/100], average_loss:0.3430, validation_loss:0.3741, val_accuracy:0.8052\n",
      "Epoch [67/100], average_loss:0.3429, validation_loss:0.3637, val_accuracy:0.9091\n",
      "Epoch [68/100], average_loss:0.3399, validation_loss:0.3702, val_accuracy:0.8701\n",
      "Epoch [69/100], average_loss:0.3422, validation_loss:0.3726, val_accuracy:0.8571\n",
      "Epoch [70/100], average_loss:0.3404, validation_loss:0.3639, val_accuracy:0.8831\n",
      "Epoch [71/100], average_loss:0.3412, validation_loss:0.3722, val_accuracy:0.8312\n",
      "Epoch [72/100], average_loss:0.3397, validation_loss:0.3676, val_accuracy:0.8961\n",
      "Epoch [73/100], average_loss:0.3396, validation_loss:0.3674, val_accuracy:0.8571\n",
      "Epoch [74/100], average_loss:0.3412, validation_loss:0.3732, val_accuracy:0.8312\n",
      "Epoch [75/100], average_loss:0.3412, validation_loss:0.3753, val_accuracy:0.7792\n",
      "Epoch [76/100], average_loss:0.3398, validation_loss:0.3640, val_accuracy:0.8961\n",
      "Epoch [77/100], average_loss:0.3401, validation_loss:0.3689, val_accuracy:0.8571\n",
      "Epoch [78/100], average_loss:0.3387, validation_loss:0.3682, val_accuracy:0.8312\n",
      "Epoch [79/100], average_loss:0.3377, validation_loss:0.3678, val_accuracy:0.8442\n",
      "Epoch [80/100], average_loss:0.3382, validation_loss:0.3656, val_accuracy:0.8831\n",
      "Epoch [81/100], average_loss:0.3376, validation_loss:0.3664, val_accuracy:0.8701\n",
      "Epoch [82/100], average_loss:0.3377, validation_loss:0.3660, val_accuracy:0.8571\n",
      "Epoch [83/100], average_loss:0.3382, validation_loss:0.3696, val_accuracy:0.8571\n",
      "Epoch [84/100], average_loss:0.3381, validation_loss:0.3709, val_accuracy:0.8961\n",
      "Epoch [85/100], average_loss:0.3376, validation_loss:0.3679, val_accuracy:0.8312\n",
      "Epoch [86/100], average_loss:0.3398, validation_loss:0.3670, val_accuracy:0.8831\n",
      "Epoch [87/100], average_loss:0.3372, validation_loss:0.3633, val_accuracy:0.8571\n",
      "Epoch [88/100], average_loss:0.3378, validation_loss:0.3673, val_accuracy:0.8442\n",
      "Epoch [89/100], average_loss:0.3378, validation_loss:0.3656, val_accuracy:0.9091\n",
      "Epoch [90/100], average_loss:0.3372, validation_loss:0.3712, val_accuracy:0.7792\n",
      "Epoch [91/100], average_loss:0.3369, validation_loss:0.3741, val_accuracy:0.7792\n",
      "Epoch [92/100], average_loss:0.3360, validation_loss:0.3701, val_accuracy:0.8182\n",
      "Epoch [93/100], average_loss:0.3374, validation_loss:0.3720, val_accuracy:0.8312\n",
      "Epoch [94/100], average_loss:0.3368, validation_loss:0.3707, val_accuracy:0.8961\n",
      "Epoch [95/100], average_loss:0.3385, validation_loss:0.3745, val_accuracy:0.7403\n",
      "Epoch [96/100], average_loss:0.3366, validation_loss:0.3709, val_accuracy:0.8052\n",
      "Epoch [97/100], average_loss:0.3364, validation_loss:0.3665, val_accuracy:0.8312\n",
      "Epoch [98/100], average_loss:0.3352, validation_loss:0.3704, val_accuracy:0.7532\n",
      "Epoch [99/100], average_loss:0.3366, validation_loss:0.3694, val_accuracy:0.8052\n",
      "Epoch [100/100], average_loss:0.3361, validation_loss:0.3680, val_accuracy:0.8442\n"
     ]
    }
   ],
   "source": [
    "lh = m1(epochs=100, train_loader=train_loader, validation_loader=valid_loader)"
   ]
  },
  {
   "cell_type": "code",
   "execution_count": 16,
   "metadata": {
    "colab": {},
    "colab_type": "code",
    "id": "5_qgCvyEN8N-"
   },
   "outputs": [],
   "source": [
    "X_test = np.load(\"data/encoded_data_test_CNN-VAE_ReLU_NLL_lr-{1e-3,1e-4}_bs-512_epoch-300.npy\")\n",
    "y_test = np.load(\"data/labels_test.npy\")"
   ]
  },
  {
   "cell_type": "code",
   "execution_count": 17,
   "metadata": {
    "colab": {},
    "colab_type": "code",
    "id": "dl-v7vuW7ZGJ"
   },
   "outputs": [],
   "source": [
    "#m1.tb.close()\n",
    "\n",
    "m1.model.eval()\n",
    "with torch.no_grad():\n",
    "    x_pred = np.argmax(m1.model.clf(torch.tensor(X_test).float().to(m1.device)).cpu().detach(), axis=1)"
   ]
  },
  {
   "cell_type": "code",
   "execution_count": 18,
   "metadata": {
    "colab": {
     "base_uri": "https://localhost:8080/",
     "height": 34
    },
    "colab_type": "code",
    "id": "nVJcVBba7ZQj",
    "outputId": "ad9c9adf-e291-4a61-a997-f61280318e43"
   },
   "outputs": [
    {
     "data": {
      "text/plain": [
       "0.8318463772913665"
      ]
     },
     "execution_count": 18,
     "metadata": {},
     "output_type": "execute_result"
    }
   ],
   "source": [
    "f1_score(y_true=y_test, y_pred=x_pred, average=\"macro\")"
   ]
  },
  {
   "cell_type": "code",
   "execution_count": 19,
   "metadata": {
    "colab": {
     "base_uri": "https://localhost:8080/",
     "height": 34
    },
    "colab_type": "code",
    "id": "UpfUu-pxOFiW",
    "outputId": "93e7f8c2-3088-4f86-fd14-ba7e644eb74d"
   },
   "outputs": [
    {
     "data": {
      "text/plain": [
       "0.8589866156787763"
      ]
     },
     "execution_count": 19,
     "metadata": {},
     "output_type": "execute_result"
    }
   ],
   "source": [
    "accuracy_score(y_true=y_test, y_pred=x_pred)"
   ]
  },
  {
   "cell_type": "code",
   "execution_count": 20,
   "metadata": {
    "colab": {
     "base_uri": "https://localhost:8080/",
     "height": 85
    },
    "colab_type": "code",
    "id": "TBNwia05OFl4",
    "outputId": "bcfd8546-69ad-44f6-8f01-f3451a830d2f"
   },
   "outputs": [
    {
     "data": {
      "text/plain": [
       "array([[3102, 1002,   22,  109],\n",
       "       [ 683, 9639,   26,   97],\n",
       "       [  20,   33,  403,   23],\n",
       "       [ 204,  130,   11, 1232]], dtype=int64)"
      ]
     },
     "execution_count": 20,
     "metadata": {},
     "output_type": "execute_result"
    }
   ],
   "source": [
    "confusion_matrix(y_true=y_test, y_pred=x_pred)"
   ]
  },
  {
   "cell_type": "code",
   "execution_count": 23,
   "metadata": {
    "colab": {},
    "colab_type": "code",
    "id": "EjnpeT8y7ZEE"
   },
   "outputs": [],
   "source": [
    "#torch.save(m1.model.clf, \"models_and_losses/CNN-VAE_ReLU_NLL_lr-{1e-3,1e-4}_bs-512_epoch-300+DNN_on_CNN-VAE_sampling_latent_space_m.IV_lr-{1e-2,1e-3}_bs-512_epoch-100.pt\")"
   ]
  },
  {
   "cell_type": "code",
   "execution_count": 24,
   "metadata": {
    "collapsed": true
   },
   "outputs": [
    {
     "name": "stdout",
     "output_type": "stream",
     "text": [
      "Epoch [101/200], average_loss:0.3372, validation_loss:0.3726, val_accuracy:0.8052\n",
      "Epoch [102/200], average_loss:0.3360, validation_loss:0.3708, val_accuracy:0.8052\n",
      "Epoch [103/200], average_loss:0.3364, validation_loss:0.3681, val_accuracy:0.8052\n",
      "Epoch [104/200], average_loss:0.3350, validation_loss:0.3661, val_accuracy:0.8312\n",
      "Epoch [105/200], average_loss:0.3363, validation_loss:0.3664, val_accuracy:0.9091\n",
      "Epoch [106/200], average_loss:0.3351, validation_loss:0.3661, val_accuracy:0.8571\n",
      "Epoch [107/200], average_loss:0.3354, validation_loss:0.3679, val_accuracy:0.8312\n",
      "Epoch [108/200], average_loss:0.3345, validation_loss:0.3681, val_accuracy:0.8701\n",
      "Epoch [109/200], average_loss:0.3354, validation_loss:0.3718, val_accuracy:0.8831\n",
      "Epoch [110/200], average_loss:0.3348, validation_loss:0.3673, val_accuracy:0.8182\n",
      "Epoch [111/200], average_loss:0.3344, validation_loss:0.3720, val_accuracy:0.7922\n",
      "Epoch [112/200], average_loss:0.3345, validation_loss:0.3665, val_accuracy:0.8701\n",
      "Epoch [113/200], average_loss:0.3347, validation_loss:0.3721, val_accuracy:0.8182\n",
      "Epoch [114/200], average_loss:0.3334, validation_loss:0.3639, val_accuracy:0.8701\n",
      "Epoch [115/200], average_loss:0.3344, validation_loss:0.3681, val_accuracy:0.8052\n",
      "Epoch [116/200], average_loss:0.3344, validation_loss:0.3685, val_accuracy:0.8571\n",
      "Epoch [117/200], average_loss:0.3333, validation_loss:0.3667, val_accuracy:0.9351\n",
      "Epoch [118/200], average_loss:0.3349, validation_loss:0.3680, val_accuracy:0.8442\n",
      "Epoch [119/200], average_loss:0.3335, validation_loss:0.3655, val_accuracy:0.9091\n",
      "Epoch [120/200], average_loss:0.3333, validation_loss:0.3643, val_accuracy:0.8701\n",
      "Epoch [121/200], average_loss:0.3335, validation_loss:0.3661, val_accuracy:0.8182\n",
      "Epoch [122/200], average_loss:0.3335, validation_loss:0.3734, val_accuracy:0.8571\n",
      "Epoch [123/200], average_loss:0.3326, validation_loss:0.3675, val_accuracy:0.8701\n",
      "Epoch [124/200], average_loss:0.3320, validation_loss:0.3730, val_accuracy:0.8182\n",
      "Epoch [125/200], average_loss:0.3311, validation_loss:0.3741, val_accuracy:0.8442\n",
      "Epoch [126/200], average_loss:0.3330, validation_loss:0.3696, val_accuracy:0.8052\n",
      "Epoch [127/200], average_loss:0.3330, validation_loss:0.3675, val_accuracy:0.8701\n",
      "Epoch [128/200], average_loss:0.3336, validation_loss:0.3653, val_accuracy:0.8831\n",
      "Epoch [129/200], average_loss:0.3332, validation_loss:0.3732, val_accuracy:0.7662\n",
      "Epoch [130/200], average_loss:0.3320, validation_loss:0.3658, val_accuracy:0.9091\n",
      "Epoch [131/200], average_loss:0.3324, validation_loss:0.3672, val_accuracy:0.8442\n",
      "Epoch [132/200], average_loss:0.3309, validation_loss:0.3664, val_accuracy:0.8312\n",
      "Epoch [133/200], average_loss:0.3321, validation_loss:0.3713, val_accuracy:0.8442\n",
      "Epoch [134/200], average_loss:0.3315, validation_loss:0.3698, val_accuracy:0.8442\n",
      "Epoch [135/200], average_loss:0.3322, validation_loss:0.3737, val_accuracy:0.7922\n",
      "Epoch [136/200], average_loss:0.3327, validation_loss:0.3668, val_accuracy:0.8961\n",
      "Epoch [137/200], average_loss:0.3325, validation_loss:0.3650, val_accuracy:0.8701\n",
      "Epoch [138/200], average_loss:0.3319, validation_loss:0.3692, val_accuracy:0.8701\n",
      "Epoch [139/200], average_loss:0.3320, validation_loss:0.3730, val_accuracy:0.8182\n",
      "Epoch [140/200], average_loss:0.3316, validation_loss:0.3660, val_accuracy:0.8701\n",
      "Epoch [141/200], average_loss:0.3302, validation_loss:0.3730, val_accuracy:0.8182\n",
      "Epoch [142/200], average_loss:0.3319, validation_loss:0.3699, val_accuracy:0.8052\n",
      "Epoch [143/200], average_loss:0.3311, validation_loss:0.3652, val_accuracy:0.8571\n",
      "Epoch [144/200], average_loss:0.3315, validation_loss:0.3656, val_accuracy:0.8442\n",
      "Epoch [145/200], average_loss:0.3290, validation_loss:0.3645, val_accuracy:0.8571\n",
      "Epoch [146/200], average_loss:0.3284, validation_loss:0.3679, val_accuracy:0.8182\n",
      "Epoch [147/200], average_loss:0.3303, validation_loss:0.3675, val_accuracy:0.8961\n",
      "Epoch [148/200], average_loss:0.3299, validation_loss:0.3707, val_accuracy:0.8052\n",
      "Epoch [149/200], average_loss:0.3294, validation_loss:0.3688, val_accuracy:0.8831\n",
      "Epoch [150/200], average_loss:0.3309, validation_loss:0.3659, val_accuracy:0.8571\n",
      "Epoch [151/200], average_loss:0.3291, validation_loss:0.3642, val_accuracy:0.8831\n",
      "Epoch [152/200], average_loss:0.3300, validation_loss:0.3685, val_accuracy:0.8312\n",
      "Epoch [153/200], average_loss:0.3300, validation_loss:0.3741, val_accuracy:0.7273\n",
      "Epoch [154/200], average_loss:0.3295, validation_loss:0.3663, val_accuracy:0.9091\n",
      "Epoch [155/200], average_loss:0.3294, validation_loss:0.3684, val_accuracy:0.8312\n",
      "Epoch [156/200], average_loss:0.3298, validation_loss:0.3622, val_accuracy:0.8831\n",
      "Epoch [157/200], average_loss:0.3296, validation_loss:0.3683, val_accuracy:0.8831\n",
      "Epoch [158/200], average_loss:0.3274, validation_loss:0.3655, val_accuracy:0.8961\n",
      "Epoch [159/200], average_loss:0.3284, validation_loss:0.3720, val_accuracy:0.8701\n",
      "Epoch [160/200], average_loss:0.3294, validation_loss:0.3738, val_accuracy:0.8052\n",
      "Epoch [161/200], average_loss:0.3301, validation_loss:0.3694, val_accuracy:0.8182\n",
      "Epoch [162/200], average_loss:0.3294, validation_loss:0.3656, val_accuracy:0.8442\n",
      "Epoch [163/200], average_loss:0.3281, validation_loss:0.3710, val_accuracy:0.7662\n",
      "Epoch [164/200], average_loss:0.3285, validation_loss:0.3681, val_accuracy:0.8312\n",
      "Epoch [165/200], average_loss:0.3260, validation_loss:0.3646, val_accuracy:0.8831\n",
      "Epoch [166/200], average_loss:0.3287, validation_loss:0.3707, val_accuracy:0.8182\n",
      "Epoch [167/200], average_loss:0.3294, validation_loss:0.3623, val_accuracy:0.8701\n",
      "Epoch [168/200], average_loss:0.3271, validation_loss:0.3640, val_accuracy:0.8831\n",
      "Epoch [169/200], average_loss:0.3267, validation_loss:0.3660, val_accuracy:0.8831\n",
      "Epoch [170/200], average_loss:0.3259, validation_loss:0.3647, val_accuracy:0.8701\n",
      "Epoch [171/200], average_loss:0.3296, validation_loss:0.3640, val_accuracy:0.9091\n",
      "Epoch [172/200], average_loss:0.3282, validation_loss:0.3680, val_accuracy:0.8182\n",
      "Epoch [173/200], average_loss:0.3258, validation_loss:0.3693, val_accuracy:0.8182\n",
      "Epoch [174/200], average_loss:0.3260, validation_loss:0.3803, val_accuracy:0.8442\n",
      "Epoch [175/200], average_loss:0.3277, validation_loss:0.3709, val_accuracy:0.8312\n",
      "Epoch [176/200], average_loss:0.3255, validation_loss:0.3682, val_accuracy:0.8442\n",
      "Epoch [177/200], average_loss:0.3263, validation_loss:0.3635, val_accuracy:0.8961\n",
      "Epoch [178/200], average_loss:0.3265, validation_loss:0.3701, val_accuracy:0.7922\n",
      "Epoch [179/200], average_loss:0.3268, validation_loss:0.3675, val_accuracy:0.8701\n",
      "Epoch [180/200], average_loss:0.3258, validation_loss:0.3728, val_accuracy:0.7662\n",
      "Epoch [181/200], average_loss:0.3262, validation_loss:0.3665, val_accuracy:0.8052\n",
      "Epoch [182/200], average_loss:0.3261, validation_loss:0.3684, val_accuracy:0.8571\n",
      "Epoch [183/200], average_loss:0.3255, validation_loss:0.3668, val_accuracy:0.8571\n",
      "Epoch [184/200], average_loss:0.3274, validation_loss:0.3681, val_accuracy:0.8442\n",
      "Epoch [185/200], average_loss:0.3252, validation_loss:0.3653, val_accuracy:0.8831\n",
      "Epoch [186/200], average_loss:0.3260, validation_loss:0.3694, val_accuracy:0.8701\n",
      "Epoch [187/200], average_loss:0.3266, validation_loss:0.3636, val_accuracy:0.8831\n",
      "Epoch [188/200], average_loss:0.3253, validation_loss:0.3713, val_accuracy:0.8052\n",
      "Epoch [189/200], average_loss:0.3240, validation_loss:0.3682, val_accuracy:0.8442\n",
      "Epoch [190/200], average_loss:0.3257, validation_loss:0.3664, val_accuracy:0.8831\n",
      "Epoch [191/200], average_loss:0.3234, validation_loss:0.3659, val_accuracy:0.8571\n",
      "Epoch [192/200], average_loss:0.3270, validation_loss:0.3672, val_accuracy:0.8571\n",
      "Epoch [193/200], average_loss:0.3253, validation_loss:0.3717, val_accuracy:0.7792\n",
      "Epoch [194/200], average_loss:0.3262, validation_loss:0.3680, val_accuracy:0.8701\n",
      "Epoch [195/200], average_loss:0.3267, validation_loss:0.3685, val_accuracy:0.8442\n",
      "Epoch [196/200], average_loss:0.3254, validation_loss:0.3687, val_accuracy:0.8442\n",
      "Epoch [197/200], average_loss:0.3266, validation_loss:0.3685, val_accuracy:0.8052\n",
      "Epoch [198/200], average_loss:0.3264, validation_loss:0.3696, val_accuracy:0.8442\n",
      "Epoch [199/200], average_loss:0.3234, validation_loss:0.3618, val_accuracy:0.8961\n",
      "Epoch [200/200], average_loss:0.3245, validation_loss:0.3723, val_accuracy:0.7792\n"
     ]
    }
   ],
   "source": [
    "lh = m1(epochs=range(100,200), train_loader=train_loader, validation_loader=valid_loader)"
   ]
  },
  {
   "cell_type": "code",
   "execution_count": 25,
   "metadata": {
    "colab": {},
    "colab_type": "code",
    "id": "dl-v7vuW7ZGJ"
   },
   "outputs": [],
   "source": [
    "m1.tb.close()\n",
    "\n",
    "m1.model.eval()\n",
    "with torch.no_grad():\n",
    "    x_pred = np.argmax(m1.model.clf(torch.tensor(X_test).float().to(m1.device)).cpu().detach(), axis=1)"
   ]
  },
  {
   "cell_type": "code",
   "execution_count": 26,
   "metadata": {
    "colab": {
     "base_uri": "https://localhost:8080/",
     "height": 34
    },
    "colab_type": "code",
    "id": "nVJcVBba7ZQj",
    "outputId": "ad9c9adf-e291-4a61-a997-f61280318e43"
   },
   "outputs": [
    {
     "data": {
      "text/plain": [
       "0.832695153787287"
      ]
     },
     "execution_count": 26,
     "metadata": {},
     "output_type": "execute_result"
    }
   ],
   "source": [
    "f1_score(y_true=y_test, y_pred=x_pred, average=\"macro\")"
   ]
  },
  {
   "cell_type": "code",
   "execution_count": 27,
   "metadata": {
    "colab": {
     "base_uri": "https://localhost:8080/",
     "height": 34
    },
    "colab_type": "code",
    "id": "UpfUu-pxOFiW",
    "outputId": "93e7f8c2-3088-4f86-fd14-ba7e644eb74d"
   },
   "outputs": [
    {
     "data": {
      "text/plain": [
       "0.8608389101338432"
      ]
     },
     "execution_count": 27,
     "metadata": {},
     "output_type": "execute_result"
    }
   ],
   "source": [
    "accuracy_score(y_true=y_test, y_pred=x_pred)"
   ]
  },
  {
   "cell_type": "code",
   "execution_count": 28,
   "metadata": {
    "colab": {
     "base_uri": "https://localhost:8080/",
     "height": 85
    },
    "colab_type": "code",
    "id": "TBNwia05OFl4",
    "outputId": "bcfd8546-69ad-44f6-8f01-f3451a830d2f"
   },
   "outputs": [
    {
     "data": {
      "text/plain": [
       "array([[3076, 1030,   21,  108],\n",
       "       [ 625, 9693,   29,   98],\n",
       "       [  21,   37,  400,   21],\n",
       "       [ 195,  136,    8, 1238]], dtype=int64)"
      ]
     },
     "execution_count": 28,
     "metadata": {},
     "output_type": "execute_result"
    }
   ],
   "source": [
    "confusion_matrix(y_true=y_test, y_pred=x_pred)"
   ]
  },
  {
   "cell_type": "code",
   "execution_count": 30,
   "metadata": {},
   "outputs": [],
   "source": [
    "#torch.save(m1.model.clf, \"models_and_losses/CNN-VAE_ReLU_NLL_lr-{1e-3,1e-4}_bs-512_epoch-300+DNN_on_CNN-VAE_sampling_latent_space_m.IV_lr-{1e-2,1e-3}_bs-512_epoch-200.pt\")"
   ]
  },
  {
   "cell_type": "markdown",
   "metadata": {},
   "source": [
    "# bs 128"
   ]
  },
  {
   "cell_type": "code",
   "execution_count": 46,
   "metadata": {},
   "outputs": [],
   "source": [
    "train_loader = torch.utils.data.DataLoader(dataset = train, batch_size=512, shuffle=True)\n",
    "valid_loader = torch.utils.data.DataLoader(dataset = valid, batch_size=512, shuffle=True)"
   ]
  },
  {
   "cell_type": "code",
   "execution_count": 67,
   "metadata": {
    "colab": {},
    "colab_type": "code",
    "id": "f0r4jLHe5tPy"
   },
   "outputs": [],
   "source": [
    "DNN2 = nn.Sequential(\n",
    "            nn.Linear(in_features=15, out_features=64),\n",
    "            nn.Sigmoid(),\n",
    "            nn.Dropout(p=0.3),\n",
    "            nn.Linear(in_features=64, out_features=128),\n",
    "            nn.Sigmoid(),\n",
    "            nn.Dropout(p=0.3),\n",
    "            nn.Linear(in_features=128, out_features=4),\n",
    ")"
   ]
  },
  {
   "cell_type": "code",
   "execution_count": 68,
   "metadata": {
    "colab": {
     "base_uri": "https://localhost:8080/",
     "height": 34
    },
    "colab_type": "code",
    "id": "-sou9uan7bFD",
    "outputId": "473dc211-21a7-4a1c-f9b7-1a9418fcc45e"
   },
   "outputs": [
    {
     "name": "stdout",
     "output_type": "stream",
     "text": [
      "Encoder frozen.\n"
     ]
    }
   ],
   "source": [
    "model2 = Encoder_Classifier(encoder=VAE.encoder, clf = DNN2)\n",
    "model2.freeze_encoder()"
   ]
  },
  {
   "cell_type": "code",
   "execution_count": 69,
   "metadata": {
    "colab": {},
    "colab_type": "code",
    "id": "xw7AbVFD7TKP"
   },
   "outputs": [],
   "source": [
    "optimizer= torch.optim.Adam(model2.parameters(), lr=1e-2)"
   ]
  },
  {
   "cell_type": "code",
   "execution_count": 70,
   "metadata": {
    "colab": {
     "base_uri": "https://localhost:8080/",
     "height": 80
    },
    "colab_type": "code",
    "id": "hfD_WT5J7Yb-",
    "outputId": "0803e7a8-0aab-455e-9878-315ed7f840ad"
   },
   "outputs": [
    {
     "name": "stdout",
     "output_type": "stream",
     "text": [
      "cuda:0\n"
     ]
    }
   ],
   "source": [
    "m2 = Trainer(\n",
    "        model=model2,\n",
    "        optimizer=optimizer,\n",
    "        loss_function=nn.CrossEntropyLoss(),\n",
    "        scheduler=torch.optim.lr_scheduler.MultiStepLR(optimizer, milestones=[30], gamma=0.1),\n",
    "        tensorboard=True,\n",
    "        model_name=\"DNN_on_CNN-VAE_sampling_latent_space_m.VI_lr-{1e-2,1e-3}_bs-512\",\n",
    "        verbose=True\n",
    "        )"
   ]
  },
  {
   "cell_type": "code",
   "execution_count": 71,
   "metadata": {
    "collapsed": true
   },
   "outputs": [
    {
     "name": "stderr",
     "output_type": "stream",
     "text": [
      "C:\\Users\\ghost_000\\Miniconda3\\envs\\Pytorch\\lib\\site-packages\\torch\\jit\\__init__.py:1007: TracerWarning: Trace had nondeterministic nodes. Did you forget call .eval() on your model? Nodes:\n",
      "\t%eps : Float(512, 15) = aten::randn_like(%sigma, %135, %136, %137, %138), scope: Encoder_Classifier/Sequential[encoder]/VariationalLayer[12] # Z:\\Semi-supervised-Learning-with-VAE\\utils\\layers.py:35:0\n",
      "This may cause errors in trace checking. To disable trace checking, pass check_trace=False to torch.jit.trace()\n",
      "  check_tolerance, _force_outplace, True, _module_class)\n",
      "C:\\Users\\ghost_000\\Miniconda3\\envs\\Pytorch\\lib\\site-packages\\torch\\jit\\__init__.py:1007: TracerWarning: Output nr 1. of the traced function does not match the corresponding output of the Python function. Detailed error:\n",
      "Not within tolerance rtol=1e-05 atol=1e-05 at input[333, 0] (0.668664276599884 vs. 0.7393266558647156) and 2040 other locations (99.00%)\n",
      "  check_tolerance, _force_outplace, True, _module_class)\n",
      "C:\\Users\\ghost_000\\Miniconda3\\envs\\Pytorch\\lib\\site-packages\\torch\\jit\\__init__.py:1007: TracerWarning: Output nr 1. of the traced function does not match the corresponding output of the Python function. Detailed error:\n",
      "Not within tolerance rtol=1e-05 atol=1e-05 at input[369, 0] (0.7346095442771912 vs. 0.8613201975822449) and 2044 other locations (99.00%)\n",
      "  check_tolerance, _force_outplace, True, _module_class)\n",
      "C:\\Users\\ghost_000\\Miniconda3\\envs\\Pytorch\\lib\\site-packages\\torch\\jit\\__init__.py:1007: TracerWarning: Output nr 1. of the traced function does not match the corresponding output of the Python function. Detailed error:\n",
      "Not within tolerance rtol=1e-05 atol=1e-05 at input[453, 0] (0.7637168169021606 vs. 1.0374982357025146) and 2045 other locations (99.00%)\n",
      "  check_tolerance, _force_outplace, True, _module_class)\n",
      "C:\\Users\\ghost_000\\Miniconda3\\envs\\Pytorch\\lib\\site-packages\\torch\\jit\\__init__.py:1007: TracerWarning: Output nr 1. of the traced function does not match the corresponding output of the Python function. Detailed error:\n",
      "Not within tolerance rtol=1e-05 atol=1e-05 at input[204, 0] (0.7144594192504883 vs. 0.19462727010250092) and 2047 other locations (100.00%)\n",
      "  check_tolerance, _force_outplace, True, _module_class)\n",
      "C:\\Users\\ghost_000\\Miniconda3\\envs\\Pytorch\\lib\\site-packages\\torch\\jit\\__init__.py:1007: TracerWarning: Output nr 1. of the traced function does not match the corresponding output of the Python function. Detailed error:\n",
      "Not within tolerance rtol=1e-05 atol=1e-05 at input[69, 1] (1.3792154788970947 vs. 0.8213768005371094) and 2044 other locations (99.00%)\n",
      "  check_tolerance, _force_outplace, True, _module_class)\n",
      "C:\\Users\\ghost_000\\Miniconda3\\envs\\Pytorch\\lib\\site-packages\\torch\\jit\\__init__.py:1007: TracerWarning: Output nr 1. of the traced function does not match the corresponding output of the Python function. Detailed error:\n",
      "Not within tolerance rtol=1e-05 atol=1e-05 at input[235, 2] (-0.9347221255302429 vs. -1.5176680088043213) and 2046 other locations (99.00%)\n",
      "  check_tolerance, _force_outplace, True, _module_class)\n",
      "C:\\Users\\ghost_000\\Miniconda3\\envs\\Pytorch\\lib\\site-packages\\torch\\jit\\__init__.py:1007: TracerWarning: Output nr 1. of the traced function does not match the corresponding output of the Python function. Detailed error:\n",
      "Not within tolerance rtol=1e-05 atol=1e-05 at input[224, 3] (0.914105236530304 vs. -0.08447495102882385) and 2047 other locations (100.00%)\n",
      "  check_tolerance, _force_outplace, True, _module_class)\n",
      "C:\\Users\\ghost_000\\Miniconda3\\envs\\Pytorch\\lib\\site-packages\\torch\\jit\\__init__.py:1007: TracerWarning: Output nr 1. of the traced function does not match the corresponding output of the Python function. Detailed error:\n",
      "Not within tolerance rtol=1e-05 atol=1e-05 at input[53, 3] (-0.3719034492969513 vs. 0.7363753914833069) and 2047 other locations (100.00%)\n",
      "  check_tolerance, _force_outplace, True, _module_class)\n",
      "C:\\Users\\ghost_000\\Miniconda3\\envs\\Pytorch\\lib\\site-packages\\torch\\jit\\__init__.py:1007: TracerWarning: Output nr 1. of the traced function does not match the corresponding output of the Python function. Detailed error:\n",
      "Not within tolerance rtol=1e-05 atol=1e-05 at input[200, 3] (-1.9270247220993042 vs. -0.22423455119132996) and 2047 other locations (100.00%)\n",
      "  check_tolerance, _force_outplace, True, _module_class)\n",
      "C:\\Users\\ghost_000\\Miniconda3\\envs\\Pytorch\\lib\\site-packages\\torch\\jit\\__init__.py:1007: TracerWarning: Output nr 1. of the traced function does not match the corresponding output of the Python function. Detailed error:\n",
      "Not within tolerance rtol=1e-05 atol=1e-05 at input[185, 2] (-0.6067274212837219 vs. -2.4109580516815186) and 2046 other locations (99.00%)\n",
      "  check_tolerance, _force_outplace, True, _module_class)\n"
     ]
    },
    {
     "name": "stdout",
     "output_type": "stream",
     "text": [
      "Epoch [1/100], average_loss:0.8229, validation_loss:0.6216, val_accuracy:0.7532\n",
      "Epoch [2/100], average_loss:0.6354, validation_loss:0.5787, val_accuracy:0.7922\n",
      "Epoch [3/100], average_loss:0.5980, validation_loss:0.5454, val_accuracy:0.8182\n",
      "Epoch [4/100], average_loss:0.5712, validation_loss:0.5322, val_accuracy:0.8052\n",
      "Epoch [5/100], average_loss:0.5541, validation_loss:0.5124, val_accuracy:0.8442\n",
      "Epoch [6/100], average_loss:0.5435, validation_loss:0.5006, val_accuracy:0.8052\n",
      "Epoch [7/100], average_loss:0.5318, validation_loss:0.4898, val_accuracy:0.8312\n",
      "Epoch [8/100], average_loss:0.5194, validation_loss:0.4809, val_accuracy:0.8442\n",
      "Epoch [9/100], average_loss:0.5071, validation_loss:0.4609, val_accuracy:0.7922\n",
      "Epoch [10/100], average_loss:0.4951, validation_loss:0.4464, val_accuracy:0.8442\n",
      "Epoch [11/100], average_loss:0.4900, validation_loss:0.4400, val_accuracy:0.7662\n",
      "Epoch [12/100], average_loss:0.4818, validation_loss:0.4383, val_accuracy:0.8052\n",
      "Epoch [13/100], average_loss:0.4765, validation_loss:0.4296, val_accuracy:0.8182\n",
      "Epoch [14/100], average_loss:0.4703, validation_loss:0.4223, val_accuracy:0.8442\n",
      "Epoch [15/100], average_loss:0.4693, validation_loss:0.4317, val_accuracy:0.8312\n",
      "Epoch [16/100], average_loss:0.4688, validation_loss:0.4290, val_accuracy:0.8182\n",
      "Epoch [17/100], average_loss:0.4637, validation_loss:0.4322, val_accuracy:0.7532\n",
      "Epoch [18/100], average_loss:0.4617, validation_loss:0.4200, val_accuracy:0.8182\n",
      "Epoch [19/100], average_loss:0.4604, validation_loss:0.4192, val_accuracy:0.7922\n",
      "Epoch [20/100], average_loss:0.4569, validation_loss:0.4221, val_accuracy:0.9091\n",
      "Epoch [21/100], average_loss:0.4551, validation_loss:0.4172, val_accuracy:0.8961\n",
      "Epoch [22/100], average_loss:0.4559, validation_loss:0.4164, val_accuracy:0.8442\n",
      "Epoch [23/100], average_loss:0.4529, validation_loss:0.4171, val_accuracy:0.8701\n",
      "Epoch [24/100], average_loss:0.4504, validation_loss:0.4118, val_accuracy:0.8052\n",
      "Epoch [25/100], average_loss:0.4498, validation_loss:0.4141, val_accuracy:0.8052\n",
      "Epoch [26/100], average_loss:0.4476, validation_loss:0.4100, val_accuracy:0.8571\n",
      "Epoch [27/100], average_loss:0.4491, validation_loss:0.4122, val_accuracy:0.8312\n",
      "Epoch [28/100], average_loss:0.4469, validation_loss:0.4112, val_accuracy:0.8182\n",
      "Epoch [29/100], average_loss:0.4469, validation_loss:0.4064, val_accuracy:0.8831\n",
      "Epoch [30/100], average_loss:0.4437, validation_loss:0.4108, val_accuracy:0.8182\n",
      "Epoch [31/100], average_loss:0.4389, validation_loss:0.4050, val_accuracy:0.8182\n",
      "Epoch [32/100], average_loss:0.4379, validation_loss:0.4091, val_accuracy:0.7662\n",
      "Epoch [33/100], average_loss:0.4363, validation_loss:0.4018, val_accuracy:0.8831\n",
      "Epoch [34/100], average_loss:0.4365, validation_loss:0.4044, val_accuracy:0.8961\n",
      "Epoch [35/100], average_loss:0.4371, validation_loss:0.4022, val_accuracy:0.8442\n",
      "Epoch [36/100], average_loss:0.4356, validation_loss:0.4050, val_accuracy:0.7662\n",
      "Epoch [37/100], average_loss:0.4349, validation_loss:0.4021, val_accuracy:0.8052\n",
      "Epoch [38/100], average_loss:0.4345, validation_loss:0.4045, val_accuracy:0.8052\n",
      "Epoch [39/100], average_loss:0.4365, validation_loss:0.4034, val_accuracy:0.8052\n",
      "Epoch [40/100], average_loss:0.4328, validation_loss:0.4040, val_accuracy:0.7922\n",
      "Epoch [41/100], average_loss:0.4351, validation_loss:0.4031, val_accuracy:0.8182\n",
      "Epoch [42/100], average_loss:0.4333, validation_loss:0.4031, val_accuracy:0.8571\n",
      "Epoch [43/100], average_loss:0.4352, validation_loss:0.4042, val_accuracy:0.8442\n",
      "Epoch [44/100], average_loss:0.4367, validation_loss:0.4022, val_accuracy:0.8182\n",
      "Epoch [45/100], average_loss:0.4326, validation_loss:0.4052, val_accuracy:0.7273\n",
      "Epoch [46/100], average_loss:0.4372, validation_loss:0.4078, val_accuracy:0.7273\n",
      "Epoch [47/100], average_loss:0.4336, validation_loss:0.4035, val_accuracy:0.8182\n",
      "Epoch [48/100], average_loss:0.4347, validation_loss:0.4045, val_accuracy:0.8571\n",
      "Epoch [49/100], average_loss:0.4363, validation_loss:0.4048, val_accuracy:0.8182\n",
      "Epoch [50/100], average_loss:0.4338, validation_loss:0.4028, val_accuracy:0.8312\n",
      "Epoch [51/100], average_loss:0.4334, validation_loss:0.3992, val_accuracy:0.9221\n",
      "Epoch [52/100], average_loss:0.4347, validation_loss:0.3993, val_accuracy:0.8961\n",
      "Epoch [53/100], average_loss:0.4334, validation_loss:0.4029, val_accuracy:0.8442\n",
      "Epoch [54/100], average_loss:0.4348, validation_loss:0.3965, val_accuracy:0.9091\n",
      "Epoch [55/100], average_loss:0.4346, validation_loss:0.4035, val_accuracy:0.7662\n",
      "Epoch [56/100], average_loss:0.4349, validation_loss:0.4003, val_accuracy:0.8701\n",
      "Epoch [57/100], average_loss:0.4318, validation_loss:0.4026, val_accuracy:0.8312\n",
      "Epoch [58/100], average_loss:0.4341, validation_loss:0.4063, val_accuracy:0.8442\n",
      "Epoch [59/100], average_loss:0.4338, validation_loss:0.3972, val_accuracy:0.9091\n",
      "Epoch [60/100], average_loss:0.4318, validation_loss:0.4011, val_accuracy:0.8442\n",
      "Epoch [61/100], average_loss:0.4340, validation_loss:0.4010, val_accuracy:0.8182\n",
      "Epoch [62/100], average_loss:0.4316, validation_loss:0.4020, val_accuracy:0.8442\n",
      "Epoch [63/100], average_loss:0.4310, validation_loss:0.4020, val_accuracy:0.8182\n",
      "Epoch [64/100], average_loss:0.4327, validation_loss:0.4017, val_accuracy:0.7922\n",
      "Epoch [65/100], average_loss:0.4332, validation_loss:0.4025, val_accuracy:0.8052\n",
      "Epoch [66/100], average_loss:0.4318, validation_loss:0.3988, val_accuracy:0.8701\n",
      "Epoch [67/100], average_loss:0.4308, validation_loss:0.4015, val_accuracy:0.7922\n",
      "Epoch [68/100], average_loss:0.4297, validation_loss:0.4033, val_accuracy:0.8312\n",
      "Epoch [69/100], average_loss:0.4324, validation_loss:0.4002, val_accuracy:0.8312\n",
      "Epoch [70/100], average_loss:0.4297, validation_loss:0.3964, val_accuracy:0.8831\n",
      "Epoch [71/100], average_loss:0.4302, validation_loss:0.3977, val_accuracy:0.8701\n",
      "Epoch [72/100], average_loss:0.4318, validation_loss:0.4017, val_accuracy:0.8052\n",
      "Epoch [73/100], average_loss:0.4316, validation_loss:0.4015, val_accuracy:0.8052\n",
      "Epoch [74/100], average_loss:0.4295, validation_loss:0.3971, val_accuracy:0.8701\n",
      "Epoch [75/100], average_loss:0.4316, validation_loss:0.4008, val_accuracy:0.8182\n",
      "Epoch [76/100], average_loss:0.4295, validation_loss:0.3960, val_accuracy:0.9221\n",
      "Epoch [77/100], average_loss:0.4320, validation_loss:0.4004, val_accuracy:0.8052\n",
      "Epoch [78/100], average_loss:0.4301, validation_loss:0.3984, val_accuracy:0.8571\n",
      "Epoch [79/100], average_loss:0.4311, validation_loss:0.3998, val_accuracy:0.8312\n",
      "Epoch [80/100], average_loss:0.4284, validation_loss:0.3985, val_accuracy:0.8961\n",
      "Epoch [81/100], average_loss:0.4288, validation_loss:0.3994, val_accuracy:0.8701\n",
      "Epoch [82/100], average_loss:0.4316, validation_loss:0.4006, val_accuracy:0.8182\n",
      "Epoch [83/100], average_loss:0.4308, validation_loss:0.4011, val_accuracy:0.8571\n",
      "Epoch [84/100], average_loss:0.4320, validation_loss:0.4009, val_accuracy:0.8701\n",
      "Epoch [85/100], average_loss:0.4302, validation_loss:0.3977, val_accuracy:0.8571\n",
      "Epoch [86/100], average_loss:0.4309, validation_loss:0.3983, val_accuracy:0.8312\n",
      "Epoch [87/100], average_loss:0.4287, validation_loss:0.3987, val_accuracy:0.8182\n",
      "Epoch [88/100], average_loss:0.4310, validation_loss:0.4004, val_accuracy:0.8701\n",
      "Epoch [89/100], average_loss:0.4293, validation_loss:0.3985, val_accuracy:0.8182\n",
      "Epoch [90/100], average_loss:0.4288, validation_loss:0.3987, val_accuracy:0.8571\n",
      "Epoch [91/100], average_loss:0.4308, validation_loss:0.4025, val_accuracy:0.8312\n",
      "Epoch [92/100], average_loss:0.4271, validation_loss:0.4009, val_accuracy:0.8312\n",
      "Epoch [93/100], average_loss:0.4285, validation_loss:0.4018, val_accuracy:0.7662\n",
      "Epoch [94/100], average_loss:0.4276, validation_loss:0.3976, val_accuracy:0.8831\n",
      "Epoch [95/100], average_loss:0.4290, validation_loss:0.4031, val_accuracy:0.7922\n",
      "Epoch [96/100], average_loss:0.4303, validation_loss:0.3990, val_accuracy:0.8312\n",
      "Epoch [97/100], average_loss:0.4292, validation_loss:0.3991, val_accuracy:0.8961\n",
      "Epoch [98/100], average_loss:0.4288, validation_loss:0.3990, val_accuracy:0.8052\n",
      "Epoch [99/100], average_loss:0.4282, validation_loss:0.3951, val_accuracy:0.8571\n",
      "Epoch [100/100], average_loss:0.4295, validation_loss:0.3979, val_accuracy:0.8182\n"
     ]
    }
   ],
   "source": [
    "lh = m2(epochs=100, train_loader=train_loader, validation_loader=valid_loader)"
   ]
  },
  {
   "cell_type": "code",
   "execution_count": 77,
   "metadata": {},
   "outputs": [
    {
     "name": "stdout",
     "output_type": "stream",
     "text": [
      "Epoch [101/200], average_loss:0.4283, validation_loss:0.4016, val_accuracy:0.8052\n",
      "Epoch [102/200], average_loss:0.4296, validation_loss:0.4009, val_accuracy:0.8182\n",
      "Epoch [103/200], average_loss:0.4294, validation_loss:0.3961, val_accuracy:0.8442\n",
      "Epoch [104/200], average_loss:0.4246, validation_loss:0.3975, val_accuracy:0.8052\n",
      "Epoch [105/200], average_loss:0.4273, validation_loss:0.3935, val_accuracy:0.9610\n",
      "Epoch [106/200], average_loss:0.4283, validation_loss:0.3989, val_accuracy:0.8442\n",
      "Epoch [107/200], average_loss:0.4278, validation_loss:0.4005, val_accuracy:0.7532\n",
      "Epoch [108/200], average_loss:0.4268, validation_loss:0.3997, val_accuracy:0.8182\n",
      "Epoch [109/200], average_loss:0.4275, validation_loss:0.3998, val_accuracy:0.8442\n",
      "Epoch [110/200], average_loss:0.4268, validation_loss:0.3942, val_accuracy:0.8701\n",
      "Epoch [111/200], average_loss:0.4292, validation_loss:0.3973, val_accuracy:0.8831\n",
      "Epoch [112/200], average_loss:0.4267, validation_loss:0.3969, val_accuracy:0.8701\n",
      "Epoch [113/200], average_loss:0.4267, validation_loss:0.3966, val_accuracy:0.8442\n",
      "Epoch [114/200], average_loss:0.4273, validation_loss:0.3960, val_accuracy:0.8961\n",
      "Epoch [115/200], average_loss:0.4265, validation_loss:0.4000, val_accuracy:0.7792\n",
      "Epoch [116/200], average_loss:0.4283, validation_loss:0.3953, val_accuracy:0.8312\n",
      "Epoch [117/200], average_loss:0.4277, validation_loss:0.3977, val_accuracy:0.8701\n",
      "Epoch [118/200], average_loss:0.4303, validation_loss:0.3969, val_accuracy:0.8442\n",
      "Epoch [119/200], average_loss:0.4257, validation_loss:0.4001, val_accuracy:0.7922\n",
      "Epoch [120/200], average_loss:0.4286, validation_loss:0.3962, val_accuracy:0.8442\n",
      "Epoch [121/200], average_loss:0.4300, validation_loss:0.3977, val_accuracy:0.8312\n",
      "Epoch [122/200], average_loss:0.4273, validation_loss:0.3988, val_accuracy:0.8571\n",
      "Epoch [123/200], average_loss:0.4282, validation_loss:0.3983, val_accuracy:0.8052\n",
      "Epoch [124/200], average_loss:0.4260, validation_loss:0.3993, val_accuracy:0.7922\n",
      "Epoch [125/200], average_loss:0.4251, validation_loss:0.3961, val_accuracy:0.8701\n",
      "Epoch [126/200], average_loss:0.4289, validation_loss:0.3973, val_accuracy:0.8701\n",
      "Epoch [127/200], average_loss:0.4267, validation_loss:0.3994, val_accuracy:0.8312\n",
      "Epoch [128/200], average_loss:0.4270, validation_loss:0.3972, val_accuracy:0.8182\n",
      "Epoch [129/200], average_loss:0.4298, validation_loss:0.4001, val_accuracy:0.8052\n",
      "Epoch [130/200], average_loss:0.4270, validation_loss:0.3996, val_accuracy:0.7792\n",
      "Epoch [131/200], average_loss:0.4251, validation_loss:0.3968, val_accuracy:0.8442\n",
      "Epoch [132/200], average_loss:0.4246, validation_loss:0.4037, val_accuracy:0.7273\n",
      "Epoch [133/200], average_loss:0.4276, validation_loss:0.3972, val_accuracy:0.8442\n",
      "Epoch [134/200], average_loss:0.4249, validation_loss:0.3960, val_accuracy:0.8571\n",
      "Epoch [135/200], average_loss:0.4265, validation_loss:0.3944, val_accuracy:0.8701\n",
      "Epoch [136/200], average_loss:0.4247, validation_loss:0.3959, val_accuracy:0.8831\n",
      "Epoch [137/200], average_loss:0.4240, validation_loss:0.4025, val_accuracy:0.7792\n",
      "Epoch [138/200], average_loss:0.4253, validation_loss:0.3954, val_accuracy:0.8442\n",
      "Epoch [139/200], average_loss:0.4289, validation_loss:0.4064, val_accuracy:0.7273\n",
      "Epoch [140/200], average_loss:0.4258, validation_loss:0.3965, val_accuracy:0.8312\n",
      "Epoch [141/200], average_loss:0.4268, validation_loss:0.3996, val_accuracy:0.7662\n",
      "Epoch [142/200], average_loss:0.4281, validation_loss:0.3961, val_accuracy:0.8182\n",
      "Epoch [143/200], average_loss:0.4246, validation_loss:0.3940, val_accuracy:0.8442\n",
      "Epoch [144/200], average_loss:0.4245, validation_loss:0.3939, val_accuracy:0.8571\n",
      "Epoch [145/200], average_loss:0.4266, validation_loss:0.3931, val_accuracy:0.9091\n",
      "Epoch [146/200], average_loss:0.4278, validation_loss:0.3946, val_accuracy:0.8442\n",
      "Epoch [147/200], average_loss:0.4246, validation_loss:0.3926, val_accuracy:0.8701\n",
      "Epoch [148/200], average_loss:0.4269, validation_loss:0.3944, val_accuracy:0.8571\n",
      "Epoch [149/200], average_loss:0.4260, validation_loss:0.3940, val_accuracy:0.8182\n",
      "Epoch [150/200], average_loss:0.4230, validation_loss:0.3966, val_accuracy:0.8052\n",
      "Epoch [151/200], average_loss:0.4240, validation_loss:0.3949, val_accuracy:0.8052\n",
      "Epoch [152/200], average_loss:0.4257, validation_loss:0.3957, val_accuracy:0.8442\n",
      "Epoch [153/200], average_loss:0.4205, validation_loss:0.3964, val_accuracy:0.8182\n",
      "Epoch [154/200], average_loss:0.4238, validation_loss:0.3955, val_accuracy:0.8701\n",
      "Epoch [155/200], average_loss:0.4258, validation_loss:0.3967, val_accuracy:0.8701\n",
      "Epoch [156/200], average_loss:0.4238, validation_loss:0.3995, val_accuracy:0.7792\n",
      "Epoch [157/200], average_loss:0.4236, validation_loss:0.3981, val_accuracy:0.8571\n",
      "Epoch [158/200], average_loss:0.4255, validation_loss:0.3952, val_accuracy:0.8182\n",
      "Epoch [159/200], average_loss:0.4248, validation_loss:0.3965, val_accuracy:0.7792\n",
      "Epoch [160/200], average_loss:0.4258, validation_loss:0.3950, val_accuracy:0.8831\n",
      "Epoch [161/200], average_loss:0.4266, validation_loss:0.3990, val_accuracy:0.7792\n",
      "Epoch [162/200], average_loss:0.4219, validation_loss:0.4016, val_accuracy:0.7273\n",
      "Epoch [163/200], average_loss:0.4257, validation_loss:0.3973, val_accuracy:0.8831\n",
      "Epoch [164/200], average_loss:0.4213, validation_loss:0.3925, val_accuracy:0.8961\n",
      "Epoch [165/200], average_loss:0.4237, validation_loss:0.3932, val_accuracy:0.9091\n",
      "Epoch [166/200], average_loss:0.4244, validation_loss:0.3962, val_accuracy:0.7662\n",
      "Epoch [167/200], average_loss:0.4258, validation_loss:0.3907, val_accuracy:0.8831\n",
      "Epoch [168/200], average_loss:0.4240, validation_loss:0.3945, val_accuracy:0.8571\n",
      "Epoch [169/200], average_loss:0.4238, validation_loss:0.3951, val_accuracy:0.8571\n",
      "Epoch [170/200], average_loss:0.4246, validation_loss:0.3953, val_accuracy:0.8442\n",
      "Epoch [171/200], average_loss:0.4246, validation_loss:0.3918, val_accuracy:0.8831\n",
      "Epoch [172/200], average_loss:0.4237, validation_loss:0.3945, val_accuracy:0.8442\n",
      "Epoch [173/200], average_loss:0.4249, validation_loss:0.3932, val_accuracy:0.8701\n",
      "Epoch [174/200], average_loss:0.4231, validation_loss:0.3949, val_accuracy:0.8442\n",
      "Epoch [175/200], average_loss:0.4242, validation_loss:0.3944, val_accuracy:0.8052\n",
      "Epoch [176/200], average_loss:0.4243, validation_loss:0.3947, val_accuracy:0.8571\n",
      "Epoch [177/200], average_loss:0.4248, validation_loss:0.3956, val_accuracy:0.9091\n",
      "Epoch [178/200], average_loss:0.4241, validation_loss:0.3914, val_accuracy:0.8831\n",
      "Epoch [179/200], average_loss:0.4220, validation_loss:0.3938, val_accuracy:0.8312\n",
      "Epoch [180/200], average_loss:0.4242, validation_loss:0.3937, val_accuracy:0.8571\n",
      "Epoch [181/200], average_loss:0.4223, validation_loss:0.3907, val_accuracy:0.8571\n",
      "Epoch [182/200], average_loss:0.4214, validation_loss:0.3926, val_accuracy:0.8442\n",
      "Epoch [183/200], average_loss:0.4239, validation_loss:0.3931, val_accuracy:0.8571\n",
      "Epoch [184/200], average_loss:0.4214, validation_loss:0.3931, val_accuracy:0.9091\n",
      "Epoch [185/200], average_loss:0.4205, validation_loss:0.3966, val_accuracy:0.7922\n",
      "Epoch [186/200], average_loss:0.4230, validation_loss:0.3962, val_accuracy:0.7143\n",
      "Epoch [187/200], average_loss:0.4233, validation_loss:0.3907, val_accuracy:0.9221\n",
      "Epoch [188/200], average_loss:0.4226, validation_loss:0.3943, val_accuracy:0.8052\n",
      "Epoch [189/200], average_loss:0.4237, validation_loss:0.3923, val_accuracy:0.9091\n",
      "Epoch [190/200], average_loss:0.4232, validation_loss:0.3925, val_accuracy:0.8831\n",
      "Epoch [191/200], average_loss:0.4226, validation_loss:0.3907, val_accuracy:0.8701\n",
      "Epoch [192/200], average_loss:0.4233, validation_loss:0.3902, val_accuracy:0.8571\n",
      "Epoch [193/200], average_loss:0.4223, validation_loss:0.3977, val_accuracy:0.7273\n",
      "Epoch [194/200], average_loss:0.4219, validation_loss:0.3953, val_accuracy:0.8182\n",
      "Epoch [195/200], average_loss:0.4233, validation_loss:0.3960, val_accuracy:0.7792\n",
      "Epoch [196/200], average_loss:0.4211, validation_loss:0.3945, val_accuracy:0.8182\n",
      "Epoch [197/200], average_loss:0.4221, validation_loss:0.3914, val_accuracy:0.8961\n",
      "Epoch [198/200], average_loss:0.4225, validation_loss:0.3946, val_accuracy:0.8701\n",
      "Epoch [199/200], average_loss:0.4222, validation_loss:0.3897, val_accuracy:0.9091\n",
      "Epoch [200/200], average_loss:0.4209, validation_loss:0.3940, val_accuracy:0.8442\n"
     ]
    }
   ],
   "source": [
    "lh = m2(epochs=range(100,200), train_loader=train_loader, validation_loader=valid_loader)"
   ]
  },
  {
   "cell_type": "code",
   "execution_count": 78,
   "metadata": {
    "colab": {},
    "colab_type": "code",
    "id": "dl-v7vuW7ZGJ"
   },
   "outputs": [],
   "source": [
    "#m2.tb.close()\n",
    "m2.model.eval()\n",
    "with torch.no_grad():\n",
    "    x_pred = np.argmax(m2.model.clf(torch.tensor(X_test).float().to(m2.device)).cpu().detach(), axis=1)"
   ]
  },
  {
   "cell_type": "code",
   "execution_count": 79,
   "metadata": {
    "colab": {
     "base_uri": "https://localhost:8080/",
     "height": 34
    },
    "colab_type": "code",
    "id": "nVJcVBba7ZQj",
    "outputId": "ad9c9adf-e291-4a61-a997-f61280318e43"
   },
   "outputs": [
    {
     "data": {
      "text/plain": [
       "0.8091057190570117"
      ]
     },
     "execution_count": 79,
     "metadata": {},
     "output_type": "execute_result"
    }
   ],
   "source": [
    "f1_score(y_true=y_test, y_pred=x_pred, average=\"macro\")"
   ]
  },
  {
   "cell_type": "code",
   "execution_count": 80,
   "metadata": {
    "colab": {
     "base_uri": "https://localhost:8080/",
     "height": 34
    },
    "colab_type": "code",
    "id": "UpfUu-pxOFiW",
    "outputId": "93e7f8c2-3088-4f86-fd14-ba7e644eb74d"
   },
   "outputs": [
    {
     "data": {
      "text/plain": [
       "0.8456620458891013"
      ]
     },
     "execution_count": 80,
     "metadata": {},
     "output_type": "execute_result"
    }
   ],
   "source": [
    "accuracy_score(y_true=y_test, y_pred=x_pred)"
   ]
  },
  {
   "cell_type": "code",
   "execution_count": 81,
   "metadata": {
    "colab": {
     "base_uri": "https://localhost:8080/",
     "height": 85
    },
    "colab_type": "code",
    "id": "TBNwia05OFl4",
    "outputId": "bcfd8546-69ad-44f6-8f01-f3451a830d2f"
   },
   "outputs": [
    {
     "data": {
      "text/plain": [
       "array([[2665, 1432,   27,  111],\n",
       "       [ 412, 9921,   26,   86],\n",
       "       [  18,   45,  395,   21],\n",
       "       [ 212,  178,   15, 1172]], dtype=int64)"
      ]
     },
     "execution_count": 81,
     "metadata": {},
     "output_type": "execute_result"
    }
   ],
   "source": [
    "confusion_matrix(y_true=y_test, y_pred=x_pred)"
   ]
  },
  {
   "cell_type": "code",
   "execution_count": 82,
   "metadata": {},
   "outputs": [],
   "source": [
    "m2.tb.close()"
   ]
  },
  {
   "cell_type": "code",
   "execution_count": 83,
   "metadata": {},
   "outputs": [
    {
     "name": "stderr",
     "output_type": "stream",
     "text": [
      "C:\\Users\\ghost_000\\Miniconda3\\envs\\Pytorch\\lib\\site-packages\\torch\\serialization.py:292: UserWarning: Couldn't retrieve source code for container of type Dropout. It won't be checked for correctness upon loading.\n",
      "  \"type \" + obj.__name__ + \". It won't be checked \"\n"
     ]
    }
   ],
   "source": [
    "#torch.save(m2.model.clf, \"models_and_losses/CNN-VAE_ReLU_NLL_lr-{1e-3,1e-4}_bs-512_epoch-300+DNN_on_CNN-VAE_sampling_latent_space_m.VI_lr-{1e-2,1e-3}_bs-512_epoch-200.pt\")"
   ]
  },
  {
   "cell_type": "code",
   "execution_count": null,
   "metadata": {},
   "outputs": [],
   "source": []
  }
 ],
 "metadata": {
  "accelerator": "GPU",
  "colab": {
   "collapsed_sections": [],
   "name": "Classification on CNN-VAE latent space with NN.ipynb",
   "provenance": []
  },
  "kernelspec": {
   "display_name": "Python 3",
   "language": "python",
   "name": "python3"
  },
  "language_info": {
   "codemirror_mode": {
    "name": "ipython",
    "version": 3
   },
   "file_extension": ".py",
   "mimetype": "text/x-python",
   "name": "python",
   "nbconvert_exporter": "python",
   "pygments_lexer": "ipython3",
   "version": "3.6.9"
  }
 },
 "nbformat": 4,
 "nbformat_minor": 1
}
