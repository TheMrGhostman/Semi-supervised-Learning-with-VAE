{
 "cells": [
  {
   "cell_type": "code",
   "execution_count": 3,
   "metadata": {},
   "outputs": [],
   "source": [
    "import numpy as np \n",
    "import time\n",
    "\n",
    "import torch \n",
    "import torch.nn as nn\n",
    "import torch.nn.functional as F \n",
    "\n",
    "import matplotlib.pyplot as plt\n",
    "from collections import OrderedDict\n",
    "\n",
    "from sklearn.model_selection import train_test_split\n",
    "from sklearn.metrics import confusion_matrix, accuracy_score, f1_score\n",
    "from sklearn.preprocessing import RobustScaler\n",
    "\n",
    "from utils.inference import Trainer, plot_loss\n",
    "import utils.datasets as d"
   ]
  },
  {
   "cell_type": "code",
   "execution_count": 25,
   "metadata": {},
   "outputs": [],
   "source": [
    "from sklearn.ensemble import GradientBoostingClassifier\n",
    "from sklearn.feature_selection import SelectFromModel\n",
    "import joblib"
   ]
  },
  {
   "cell_type": "code",
   "execution_count": 4,
   "metadata": {},
   "outputs": [],
   "source": [
    "import pandas as pd\n",
    "data = pd.read_csv(\"data/Original_features.csv\").dropna()"
   ]
  },
  {
   "cell_type": "code",
   "execution_count": 5,
   "metadata": {},
   "outputs": [],
   "source": [
    "y = data.labels.values"
   ]
  },
  {
   "cell_type": "code",
   "execution_count": 6,
   "metadata": {},
   "outputs": [],
   "source": [
    "X = data.drop(columns=[\"Unnamed: 0\",\"labels\"]).values"
   ]
  },
  {
   "cell_type": "code",
   "execution_count": 7,
   "metadata": {},
   "outputs": [
    {
     "name": "stdout",
     "output_type": "stream",
     "text": [
      "(83998, 29)\n",
      "(83998,)\n"
     ]
    }
   ],
   "source": [
    "print(X.shape)\n",
    "print(y.shape)"
   ]
  },
  {
   "cell_type": "code",
   "execution_count": 8,
   "metadata": {},
   "outputs": [],
   "source": [
    "X_train, X_test, y_train, y_test = train_test_split(X, y, test_size=0.2, random_state=666)"
   ]
  },
  {
   "cell_type": "code",
   "execution_count": 11,
   "metadata": {},
   "outputs": [],
   "source": [
    "scaler = RobustScaler()\n",
    "X_train = scaler.fit_transform(X_train)\n",
    "X_test = scaler.transform(X_test)"
   ]
  },
  {
   "cell_type": "code",
   "execution_count": 13,
   "metadata": {},
   "outputs": [],
   "source": [
    "X_train, X_validation, y_train, y_validation = train_test_split(X_train, y_train, test_size=0.2, random_state=666)"
   ]
  },
  {
   "cell_type": "code",
   "execution_count": 17,
   "metadata": {},
   "outputs": [
    {
     "name": "stdout",
     "output_type": "stream",
     "text": [
      "      Iter       Train Loss      OOB Improve   Remaining Time \n",
      "         1       30871.3818        2347.0234            1.82m\n",
      "         2       27752.8648        1374.6126            1.74m\n",
      "         3       25245.5208        1021.8296            1.69m\n",
      "         4       23293.8169         814.0260            1.71m\n",
      "         5       21708.9774         657.1621            1.69m\n",
      "         6       20430.4606         551.9214            1.69m\n",
      "         7       19265.5469         456.5139            1.67m\n",
      "         8       18385.3029         401.9725            1.65m\n",
      "         9       17672.0986         325.2529            1.64m\n",
      "        10       16913.4201         264.5655            1.64m\n",
      "        20       13697.8162          82.4784            1.43m\n",
      "        30       12492.1085          31.6525            1.23m\n",
      "        40       11897.0643          17.7614            1.05m\n",
      "        50       11517.0476           9.3389           52.28s\n",
      "        60       11187.5070           8.8801           41.67s\n",
      "        70       10882.0506           9.0306           31.73s\n",
      "        80       10631.0597           1.8761           21.22s\n",
      "        90       10669.9600           4.8679           10.58s\n",
      "       100       10400.5058           0.6596            0.00s\n"
     ]
    },
    {
     "data": {
      "text/plain": [
       "SelectFromModel(estimator=GradientBoostingClassifier(criterion='friedman_mse',\n",
       "                                                     init=None,\n",
       "                                                     learning_rate=0.1,\n",
       "                                                     loss='deviance',\n",
       "                                                     max_depth=3,\n",
       "                                                     max_features=None,\n",
       "                                                     max_leaf_nodes=None,\n",
       "                                                     min_impurity_decrease=0.0,\n",
       "                                                     min_impurity_split=None,\n",
       "                                                     min_samples_leaf=1,\n",
       "                                                     min_samples_split=2,\n",
       "                                                     min_weight_fraction_leaf=0.0,\n",
       "                                                     n_estimators=100,\n",
       "                                                     n_iter_no_change=None,\n",
       "                                                     presort='auto',\n",
       "                                                     random_state=None,\n",
       "                                                     subsample=0.7, tol=0.0001,\n",
       "                                                     validation_fraction=0.1,\n",
       "                                                     verbose=True,\n",
       "                                                     warm_start=False),\n",
       "                max_features=15, norm_order=1, prefit=False, threshold=None)"
      ]
     },
     "execution_count": 17,
     "metadata": {},
     "output_type": "execute_result"
    }
   ],
   "source": [
    "fs = SelectFromModel(\n",
    "    estimator=GradientBoostingClassifier(n_estimators=100, learning_rate=0.1, subsample=0.7, verbose=True),\n",
    "    max_features=15)\n",
    "\n",
    "fs.fit(X_train, y_train)"
   ]
  },
  {
   "cell_type": "markdown",
   "metadata": {},
   "source": [
    "# lr 0.1"
   ]
  },
  {
   "cell_type": "code",
   "execution_count": 18,
   "metadata": {},
   "outputs": [],
   "source": [
    "clf = GradientBoostingClassifier(n_estimators=1000, learning_rate=0.1, subsample=0.7, verbose=True)"
   ]
  },
  {
   "cell_type": "code",
   "execution_count": 19,
   "metadata": {},
   "outputs": [
    {
     "name": "stdout",
     "output_type": "stream",
     "text": [
      "      Iter       Train Loss      OOB Improve   Remaining Time \n",
      "         1       30773.6642        2340.7567            6.54m\n",
      "         2       27663.0095        1365.6490            6.54m\n",
      "         3       25295.2184        1032.1304            6.58m\n",
      "         4       23356.0833         821.9823            6.47m\n",
      "         5       21846.9085         651.4086            6.38m\n",
      "         6       20415.6482         559.9768            6.36m\n",
      "         7       19319.6639         454.4417            6.39m\n",
      "         8       18539.4859         384.4756            6.40m\n",
      "         9       17721.4049         316.3855            6.40m\n",
      "        10       17057.6028         266.2472            6.40m\n",
      "        20       13832.8070          77.2886            6.33m\n",
      "        30       12818.5830          18.9161            6.40m\n",
      "        40       12262.3587          14.3640            6.50m\n",
      "        50       11883.6820           9.1183            6.43m\n",
      "        60       11728.1922           4.7716            6.38m\n",
      "        70       11369.0912           7.1158            6.28m\n",
      "        80       11276.6156           0.9525            6.17m\n",
      "        90       11027.4031           2.4708            6.07m\n",
      "       100       10893.9862           3.8296            5.99m\n",
      "       200       10044.6437          -0.6095            5.25m\n",
      "       300        9320.8011          -0.6362            4.54m\n",
      "       400        9192.7877          -0.7455            3.87m\n",
      "       500        8299.0441          -0.5648            3.20m\n",
      "       600        8275.6107          -1.2487            2.59m\n",
      "       700        7894.6307          -0.7743            1.95m\n",
      "       800        7183.4435          -1.1645            1.30m\n",
      "       900        6924.5227          -1.2565           39.26s\n",
      "      1000        6647.6193          -0.8247            0.00s\n"
     ]
    },
    {
     "data": {
      "text/plain": [
       "GradientBoostingClassifier(criterion='friedman_mse', init=None,\n",
       "                           learning_rate=0.1, loss='deviance', max_depth=3,\n",
       "                           max_features=None, max_leaf_nodes=None,\n",
       "                           min_impurity_decrease=0.0, min_impurity_split=None,\n",
       "                           min_samples_leaf=1, min_samples_split=2,\n",
       "                           min_weight_fraction_leaf=0.0, n_estimators=1000,\n",
       "                           n_iter_no_change=None, presort='auto',\n",
       "                           random_state=None, subsample=0.7, tol=0.0001,\n",
       "                           validation_fraction=0.1, verbose=True,\n",
       "                           warm_start=False)"
      ]
     },
     "execution_count": 19,
     "metadata": {},
     "output_type": "execute_result"
    }
   ],
   "source": [
    "clf.fit(fs.transform(X_train), y_train)"
   ]
  },
  {
   "cell_type": "code",
   "execution_count": 20,
   "metadata": {},
   "outputs": [],
   "source": [
    "y_pred = clf.predict(fs.transform(X_validation))"
   ]
  },
  {
   "cell_type": "code",
   "execution_count": 33,
   "metadata": {},
   "outputs": [],
   "source": [
    "y_t_pred = clf.predict(fs.transform(X_test))"
   ]
  },
  {
   "cell_type": "code",
   "execution_count": 34,
   "metadata": {},
   "outputs": [
    {
     "data": {
      "text/plain": [
       "0.7925579414371011"
      ]
     },
     "execution_count": 34,
     "metadata": {},
     "output_type": "execute_result"
    }
   ],
   "source": [
    "f1_score(y_true=y_test, y_pred=y_t_pred,average=\"macro\")"
   ]
  },
  {
   "cell_type": "code",
   "execution_count": 35,
   "metadata": {},
   "outputs": [
    {
     "data": {
      "text/plain": [
       "0.8788690476190476"
      ]
     },
     "execution_count": 35,
     "metadata": {},
     "output_type": "execute_result"
    }
   ],
   "source": [
    "accuracy_score(y_true=y_test, y_pred=y_t_pred)"
   ]
  },
  {
   "cell_type": "code",
   "execution_count": 36,
   "metadata": {
    "scrolled": true
   },
   "outputs": [
    {
     "data": {
      "text/plain": [
       "array([[3578,  360,   95,  122],\n",
       "       [ 713, 9683,   54,  147],\n",
       "       [  83,   64,  319,   26],\n",
       "       [ 226,  111,   34, 1185]], dtype=int64)"
      ]
     },
     "execution_count": 36,
     "metadata": {},
     "output_type": "execute_result"
    }
   ],
   "source": [
    "cf1 = confusion_matrix(y_true=y_test, y_pred=y_t_pred)\n",
    "cf1"
   ]
  },
  {
   "cell_type": "code",
   "execution_count": 26,
   "metadata": {},
   "outputs": [
    {
     "data": {
      "text/plain": [
       "['models_and_losses/GB_n-1000_lr-1e-1_original_features.joblib']"
      ]
     },
     "execution_count": 26,
     "metadata": {},
     "output_type": "execute_result"
    }
   ],
   "source": [
    "#joblib.dump(fs, \"models_and_losses/Feature_selector_for_original_data.joblib\")\n",
    "#joblib.dump(clf, \"models_and_losses/GB_n-1000_lr-1e-1_original_features.joblib\")"
   ]
  },
  {
   "cell_type": "markdown",
   "metadata": {},
   "source": [
    "# lr 0.01"
   ]
  },
  {
   "cell_type": "code",
   "execution_count": 27,
   "metadata": {},
   "outputs": [],
   "source": [
    "clf1 = GradientBoostingClassifier(n_estimators=1000, learning_rate=0.01, subsample=0.7, verbose=True)"
   ]
  },
  {
   "cell_type": "code",
   "execution_count": 28,
   "metadata": {},
   "outputs": [
    {
     "name": "stdout",
     "output_type": "stream",
     "text": [
      "      Iter       Train Loss      OOB Improve   Remaining Time \n",
      "         1       35724.4091         246.3144            6.40m\n",
      "         2       35083.7578         231.1587            6.32m\n",
      "         3       34627.7886         219.5555            6.37m\n",
      "         4       34197.7124         206.1517            6.40m\n",
      "         5       33682.6196         196.9984            6.48m\n",
      "         6       33354.1227         187.9261            6.47m\n",
      "         7       32932.1697         183.0129            6.45m\n",
      "         8       32524.8106         171.7025            6.45m\n",
      "         9       32009.3630         170.1526            6.44m\n",
      "        10       31612.7020         164.1577            6.49m\n",
      "        20       28501.3948         121.7397            6.39m\n",
      "        30       25975.3413          94.5014            6.28m\n",
      "        40       23858.9451          77.8148            6.25m\n",
      "        50       22335.9311          64.4500            6.18m\n",
      "        60       20894.1354          52.2338            6.29m\n",
      "        70       19843.4989          43.8710            6.17m\n",
      "        80       18878.9013          35.9574            6.08m\n",
      "        90       18066.0153          32.8111            5.99m\n",
      "       100       17345.5525          27.4518            5.90m\n",
      "       200       13911.4787           6.7714            5.14m\n",
      "       300       12737.4332           2.6424            4.45m\n",
      "       400       12214.3680           1.8193            3.80m\n",
      "       500       11765.3292           1.2230            3.16m\n",
      "       600       11583.5544           0.1608            2.52m\n",
      "       700       11450.5635           0.4620            1.88m\n",
      "       800       11148.3994           0.2421            1.25m\n",
      "       900       11129.6534           0.0982           37.49s\n",
      "      1000       10923.1673           0.2169            0.00s\n"
     ]
    },
    {
     "data": {
      "text/plain": [
       "GradientBoostingClassifier(criterion='friedman_mse', init=None,\n",
       "                           learning_rate=0.01, loss='deviance', max_depth=3,\n",
       "                           max_features=None, max_leaf_nodes=None,\n",
       "                           min_impurity_decrease=0.0, min_impurity_split=None,\n",
       "                           min_samples_leaf=1, min_samples_split=2,\n",
       "                           min_weight_fraction_leaf=0.0, n_estimators=1000,\n",
       "                           n_iter_no_change=None, presort='auto',\n",
       "                           random_state=None, subsample=0.7, tol=0.0001,\n",
       "                           validation_fraction=0.1, verbose=True,\n",
       "                           warm_start=False)"
      ]
     },
     "execution_count": 28,
     "metadata": {},
     "output_type": "execute_result"
    }
   ],
   "source": [
    "clf1.fit(fs.transform(X_train), y_train)"
   ]
  },
  {
   "cell_type": "code",
   "execution_count": 29,
   "metadata": {},
   "outputs": [],
   "source": [
    "y_pred = clf1.predict(fs.transform(X_validation))"
   ]
  },
  {
   "cell_type": "code",
   "execution_count": 30,
   "metadata": {},
   "outputs": [
    {
     "data": {
      "text/plain": [
       "0.7969165303672667"
      ]
     },
     "execution_count": 30,
     "metadata": {},
     "output_type": "execute_result"
    }
   ],
   "source": [
    "f1_score(y_true=y_validation, y_pred=y_pred,average=\"macro\")"
   ]
  },
  {
   "cell_type": "code",
   "execution_count": 31,
   "metadata": {},
   "outputs": [
    {
     "data": {
      "text/plain": [
       "0.8699404761904762"
      ]
     },
     "execution_count": 31,
     "metadata": {},
     "output_type": "execute_result"
    }
   ],
   "source": [
    "accuracy_score(y_true=y_validation, y_pred=y_pred)"
   ]
  },
  {
   "cell_type": "code",
   "execution_count": 32,
   "metadata": {
    "scrolled": true
   },
   "outputs": [
    {
     "data": {
      "text/plain": [
       "array([[2985,  250,   72,   95],\n",
       "       [ 687, 7502,   47,  128],\n",
       "       [  64,   48,  299,    6],\n",
       "       [ 197,  129,   25,  906]], dtype=int64)"
      ]
     },
     "execution_count": 32,
     "metadata": {},
     "output_type": "execute_result"
    }
   ],
   "source": [
    "cf1 = confusion_matrix(y_true=y_validation, y_pred=y_pred)\n",
    "cf1"
   ]
  },
  {
   "cell_type": "code",
   "execution_count": 40,
   "metadata": {},
   "outputs": [],
   "source": [
    "y_t_pred = clf1.predict(fs.transform(X_test))"
   ]
  },
  {
   "cell_type": "code",
   "execution_count": 41,
   "metadata": {},
   "outputs": [
    {
     "data": {
      "text/plain": [
       "0.7867529663024644"
      ]
     },
     "execution_count": 41,
     "metadata": {},
     "output_type": "execute_result"
    }
   ],
   "source": [
    "f1_score(y_true=y_test, y_pred=y_t_pred,average=\"macro\")"
   ]
  },
  {
   "cell_type": "code",
   "execution_count": 42,
   "metadata": {},
   "outputs": [
    {
     "data": {
      "text/plain": [
       "0.8719642857142857"
      ]
     },
     "execution_count": 42,
     "metadata": {},
     "output_type": "execute_result"
    }
   ],
   "source": [
    "accuracy_score(y_true=y_test, y_pred=y_t_pred)"
   ]
  },
  {
   "cell_type": "code",
   "execution_count": 43,
   "metadata": {
    "scrolled": true
   },
   "outputs": [
    {
     "data": {
      "text/plain": [
       "array([[3666,  271,   91,  127],\n",
       "       [ 858, 9525,   50,  164],\n",
       "       [  93,   59,  323,   17],\n",
       "       [ 231,  154,   36, 1135]], dtype=int64)"
      ]
     },
     "execution_count": 43,
     "metadata": {},
     "output_type": "execute_result"
    }
   ],
   "source": [
    "cf1 = confusion_matrix(y_true=y_test, y_pred=y_t_pred)\n",
    "cf1"
   ]
  },
  {
   "cell_type": "code",
   "execution_count": null,
   "metadata": {},
   "outputs": [],
   "source": []
  }
 ],
 "metadata": {
  "kernelspec": {
   "display_name": "Pytorch",
   "language": "python",
   "name": "pytorch"
  },
  "language_info": {
   "codemirror_mode": {
    "name": "ipython",
    "version": 3
   },
   "file_extension": ".py",
   "mimetype": "text/x-python",
   "name": "python",
   "nbconvert_exporter": "python",
   "pygments_lexer": "ipython3",
   "version": "3.6.9"
  }
 },
 "nbformat": 4,
 "nbformat_minor": 2
}
