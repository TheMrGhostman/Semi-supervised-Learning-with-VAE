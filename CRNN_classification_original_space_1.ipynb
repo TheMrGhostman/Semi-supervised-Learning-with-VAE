{
 "cells": [
  {
   "cell_type": "code",
   "execution_count": 1,
   "metadata": {
    "colab": {
     "base_uri": "https://localhost:8080/",
     "height": 153
    },
    "colab_type": "code",
    "id": "KQ2Z6FEB9BCV",
    "outputId": "0781ee2e-f882-4388-d23a-8c2147d10814",
    "scrolled": true
   },
   "outputs": [
    {
     "name": "stdout",
     "output_type": "stream",
     "text": [
      "Cloning into 'Semi-supervised-Learning-with-VAE'...\n",
      "remote: Enumerating objects: 228, done.\u001b[K\n",
      "remote: Counting objects: 100% (228/228), done.\u001b[K\n",
      "remote: Compressing objects: 100% (164/164), done.\u001b[K\n",
      "remote: Total 560 (delta 80), reused 201 (delta 60), pack-reused 332\u001b[K\n",
      "Receiving objects: 100% (560/560), 223.31 MiB | 36.40 MiB/s, done.\n",
      "Resolving deltas: 100% (166/166), done.\n",
      "Checking out files: 100% (371/371), done.\n"
     ]
    }
   ],
   "source": [
    "!git clone https://github.com/TheMrGhostman/Semi-supervised-Learning-with-VAE.git"
   ]
  },
  {
   "cell_type": "code",
   "execution_count": 0,
   "metadata": {
    "colab": {},
    "colab_type": "code",
    "id": "cu0HZwS19kzt"
   },
   "outputs": [],
   "source": [
    "import os \n",
    "os.chdir(\"Semi-supervised-Learning-with-VAE/\")"
   ]
  },
  {
   "cell_type": "code",
   "execution_count": 1,
   "metadata": {
    "colab": {},
    "colab_type": "code",
    "id": "ecFh9WY59vSd"
   },
   "outputs": [],
   "source": [
    "import numpy as np \n",
    "import time\n",
    "\n",
    "import torch \n",
    "import torch.nn as nn\n",
    "import torch.nn.functional as F \n",
    "\n",
    "import matplotlib.pyplot as plt\n",
    "from collections import OrderedDict\n",
    "\n",
    "from sklearn.model_selection import train_test_split\n",
    "from sklearn.metrics import confusion_matrix, accuracy_score, f1_score\n",
    "from sklearn.preprocessing import RobustScaler\n",
    "\n",
    "from utils.inference import Trainer, plot_loss\n",
    "import utils.datasets as d"
   ]
  },
  {
   "cell_type": "code",
   "execution_count": 2,
   "metadata": {
    "colab": {},
    "colab_type": "code",
    "id": "NvpYblaU91aC"
   },
   "outputs": [],
   "source": [
    "from utils.inception import Inception, InceptionBlock, correct_sizes\n",
    "from utils import layers"
   ]
  },
  {
   "cell_type": "code",
   "execution_count": 3,
   "metadata": {
    "colab": {},
    "colab_type": "code",
    "id": "pbIAGA0j9_AN"
   },
   "outputs": [],
   "source": [
    "X = np.vstack((np.load(\"data/sequenced_data_for_VAE_length-160_stride-10_pt1.npy\"),\n",
    "               np.load(\"data/sequenced_data_for_VAE_length-160_stride-10_pt2.npy\")))\n",
    "y = np.load(\"data/sequenced_data_for_VAE_length-160_stride-10_targets.npy\")"
   ]
  },
  {
   "cell_type": "code",
   "execution_count": 4,
   "metadata": {
    "colab": {},
    "colab_type": "code",
    "id": "2ZSdXa5j-Ec5"
   },
   "outputs": [],
   "source": [
    "X_train, X_test, y_train, y_test = train_test_split(X, y, test_size=0.2, random_state=666)\n"
   ]
  },
  {
   "cell_type": "code",
   "execution_count": 5,
   "metadata": {
    "colab": {},
    "colab_type": "code",
    "id": "fxGdOH_P-HLC"
   },
   "outputs": [],
   "source": [
    "scaler = RobustScaler()\n",
    "X_train = scaler.fit_transform(X_train)\n",
    "X_test = scaler.transform(X_test)"
   ]
  },
  {
   "cell_type": "code",
   "execution_count": 6,
   "metadata": {
    "colab": {},
    "colab_type": "code",
    "id": "1D1I44W9-KyY"
   },
   "outputs": [],
   "source": [
    "X_train, X_validation, y_train, y_validation = train_test_split(X_train, y_train, test_size=0.2, random_state=666)"
   ]
  },
  {
   "cell_type": "code",
   "execution_count": 7,
   "metadata": {
    "colab": {},
    "colab_type": "code",
    "id": "CpviZJSq-LYu"
   },
   "outputs": [],
   "source": [
    "train = d.H_alphaSequences(X_train, y_train)\n",
    "valid = d.H_alphaSequences(X_validation, y_validation)\n",
    "test = d.H_alphaSequences(X_test, y_test)"
   ]
  },
  {
   "cell_type": "code",
   "execution_count": 11,
   "metadata": {
    "colab": {},
    "colab_type": "code",
    "id": "7P2keyOa-LlY"
   },
   "outputs": [],
   "source": [
    "class CRNN(nn.Module):\n",
    "    def __init__(self, n_filters, kernel_sizes, rnn_out, sequence_len=160, bidirectional=True):\n",
    "        super(CRNN, self).__init__()\n",
    "        self.sequence_len = sequence_len\n",
    "        # conv wants (batch, channel, length)\n",
    "        self.reshape_to_inception = layers.Reshape(out_shape=(1, self.sequence_len))\n",
    "        self.inception = Inception(\n",
    "                in_channels=1, \n",
    "                n_filters=32, \n",
    "                kernel_sizes=[5, 11, 23],\n",
    "                bottleneck_channels=32,\n",
    "                activation=nn.ReLU()\n",
    "            )\n",
    "        # RNN wants #(batch, seq, feature)\n",
    "        self.rnn1 = nn.LSTM(\n",
    "            input_size=n_filters*4,\n",
    "            hidden_size=rnn_out*4,\n",
    "            num_layers=1,\n",
    "            batch_first=True,\n",
    "            bidirectional=bidirectional\n",
    "        )\n",
    "        self.rnn2 = nn.LSTM(\n",
    "            input_size=rnn_out*4*(2**bidirectional),\n",
    "            hidden_size=rnn_out,\n",
    "            num_layers=1,\n",
    "            batch_first=True,\n",
    "            bidirectional=bidirectional\n",
    "        )\n",
    "        #self.pool = nn.AdaptiveAvgPool1d(output_size=1)\n",
    "        self.fc_on_rnn = nn.Linear(in_features=rnn_out*(2**bidirectional), out_features=1)\n",
    "        self.flatten = layers.Flatten(out_features=self.sequence_len)\n",
    "        self.fc = nn.Linear(in_features=self.sequence_len, out_features=4)\n",
    "\n",
    "    def forward(self, x_in):\n",
    "        x = self.reshape_to_inception(x_in)\n",
    "        x = self.inception(x)\n",
    "        #print(x.shape)\n",
    "        x = x.permute(0,2,1)\n",
    "        #print(x.shape)\n",
    "        x, (h, c) = self.rnn1(x)\n",
    "        x, (h, c) = self.rnn2(x)\n",
    "        #print(x.shape)\n",
    "        #x = self.pool(x)\n",
    "        x = self.fc_on_rnn(x)\n",
    "        #print(x.shape)\n",
    "        x = self.flatten(x)\n",
    "        #print(x.shape)\n",
    "        return self.fc(x)"
   ]
  },
  {
   "cell_type": "code",
   "execution_count": 14,
   "metadata": {
    "colab": {},
    "colab_type": "code",
    "id": "u7f22hEC-Lgz"
   },
   "outputs": [],
   "source": [
    "mod = CRNN(n_filters=32, kernel_sizes=[5,11,23], rnn_out=20)"
   ]
  },
  {
   "cell_type": "code",
   "execution_count": 13,
   "metadata": {
    "colab": {
     "base_uri": "https://localhost:8080/",
     "height": 68
    },
    "colab_type": "code",
    "id": "WL9687Ky-Le8",
    "outputId": "b6a4dd84-f4c4-421a-d8d0-e53f75a19295"
   },
   "outputs": [
    {
     "data": {
      "text/plain": [
       "tensor([[ 0.0713,  0.0648, -0.0135,  0.0477],\n",
       "        [ 0.0684,  0.0446,  0.0148,  0.0494]], grad_fn=<AddmmBackward>)"
      ]
     },
     "execution_count": 13,
     "metadata": {},
     "output_type": "execute_result"
    }
   ],
   "source": [
    "mod(torch.tensor(X_train[0:2, :]).float())"
   ]
  },
  {
   "cell_type": "code",
   "execution_count": 15,
   "metadata": {
    "colab": {},
    "colab_type": "code",
    "id": "3jIahtfOBoF5"
   },
   "outputs": [],
   "source": [
    "train_loader = torch.utils.data.DataLoader(dataset = train, batch_size=512, shuffle=True)\n",
    "valid_loader = torch.utils.data.DataLoader(dataset = valid, batch_size=512, shuffle=True)"
   ]
  },
  {
   "cell_type": "code",
   "execution_count": 16,
   "metadata": {
    "colab": {},
    "colab_type": "code",
    "id": "vVKgK_5yBpPI"
   },
   "outputs": [],
   "source": [
    "optimizer= torch.optim.Adam(mod.parameters(), lr=1e-3)#5e-3"
   ]
  },
  {
   "cell_type": "code",
   "execution_count": null,
   "metadata": {
    "colab": {
     "base_uri": "https://localhost:8080/",
     "height": 34
    },
    "colab_type": "code",
    "id": "A_tq4FiKBz9y",
    "outputId": "db2e20ac-a547-496e-e052-f62ddad7e06a"
   },
   "outputs": [],
   "source": [
    "m1 = Trainer(\n",
    "        model=mod,\n",
    "        optimizer=optimizer,\n",
    "        loss_function=nn.CrossEntropyLoss(),\n",
    "        #scheduler=torch.optim.lr_scheduler.MultiStepLR(optimizer, milestones=[20,35], gamma=0.2),\n",
    "        tensorboard=True,\n",
    "        model_name=\"CRNN_lr-1e-3_bs-512_ks-[5,11,23]\",\n",
    "        verbose=True\n",
    "        )"
   ]
  },
  {
   "cell_type": "code",
   "execution_count": 19,
   "metadata": {
    "colab": {
     "base_uri": "https://localhost:8080/",
     "height": 1000
    },
    "colab_type": "code",
    "id": "PykQESD0B5F7",
    "outputId": "724280fb-5a71-4621-b1b4-0e4e85987a38"
   },
   "outputs": [
    {
     "name": "stdout",
     "output_type": "stream",
     "text": [
      "Epoch [1/100], average_loss:0.8070, validation_loss:0.6234, val_accuracy:0.7403\n",
      "Epoch [2/100], average_loss:0.5323, validation_loss:0.4393, val_accuracy:0.7922\n",
      "Epoch [3/100], average_loss:0.4106, validation_loss:0.3750, val_accuracy:0.8571\n",
      "Epoch [4/100], average_loss:0.3946, validation_loss:0.3893, val_accuracy:0.8182\n",
      "Epoch [5/100], average_loss:0.3601, validation_loss:0.3765, val_accuracy:0.9091\n",
      "Epoch [6/100], average_loss:0.3498, validation_loss:0.3099, val_accuracy:0.9091\n",
      "Epoch [7/100], average_loss:0.3234, validation_loss:0.3666, val_accuracy:0.8831\n",
      "Epoch [8/100], average_loss:0.3166, validation_loss:0.3001, val_accuracy:0.8701\n",
      "Epoch [9/100], average_loss:0.3195, validation_loss:0.2886, val_accuracy:0.8831\n",
      "Epoch [10/100], average_loss:0.3108, validation_loss:0.2842, val_accuracy:0.9481\n",
      "Epoch [11/100], average_loss:0.2920, validation_loss:0.2776, val_accuracy:0.8701\n",
      "Epoch [12/100], average_loss:0.2948, validation_loss:0.2635, val_accuracy:0.8831\n",
      "Epoch [13/100], average_loss:0.2854, validation_loss:0.2746, val_accuracy:0.9091\n",
      "Epoch [14/100], average_loss:0.2824, validation_loss:0.2878, val_accuracy:0.8571\n",
      "Epoch [15/100], average_loss:0.2656, validation_loss:0.2685, val_accuracy:0.8831\n",
      "Epoch [16/100], average_loss:0.2618, validation_loss:0.2475, val_accuracy:0.9091\n",
      "Epoch [17/100], average_loss:0.2599, validation_loss:0.2439, val_accuracy:0.9351\n",
      "Epoch [18/100], average_loss:0.2604, validation_loss:0.2981, val_accuracy:0.8701\n",
      "Epoch [19/100], average_loss:0.2629, validation_loss:0.2409, val_accuracy:0.8961\n",
      "Epoch [20/100], average_loss:0.2596, validation_loss:0.2731, val_accuracy:0.9221\n",
      "Epoch [21/100], average_loss:0.2649, validation_loss:0.2434, val_accuracy:0.8961\n",
      "Epoch [22/100], average_loss:0.2513, validation_loss:0.2470, val_accuracy:0.9740\n",
      "Epoch [23/100], average_loss:0.2450, validation_loss:0.2572, val_accuracy:0.8961\n",
      "Epoch [24/100], average_loss:0.2544, validation_loss:0.3651, val_accuracy:0.8442\n",
      "Epoch [25/100], average_loss:0.2518, validation_loss:0.2676, val_accuracy:0.8961\n",
      "Epoch [26/100], average_loss:0.2419, validation_loss:0.2301, val_accuracy:0.8831\n",
      "Epoch [27/100], average_loss:0.2539, validation_loss:0.2487, val_accuracy:0.8701\n",
      "Epoch [28/100], average_loss:0.2416, validation_loss:0.2431, val_accuracy:0.8961\n",
      "Epoch [29/100], average_loss:0.2356, validation_loss:0.2334, val_accuracy:0.8961\n",
      "Epoch [30/100], average_loss:0.2316, validation_loss:0.2372, val_accuracy:0.9221\n",
      "Epoch [31/100], average_loss:0.2341, validation_loss:0.2384, val_accuracy:0.9091\n",
      "Epoch [32/100], average_loss:0.2321, validation_loss:0.2625, val_accuracy:0.9221\n",
      "Epoch [33/100], average_loss:0.2253, validation_loss:0.2790, val_accuracy:0.9481\n",
      "Epoch [34/100], average_loss:0.2267, validation_loss:0.2430, val_accuracy:0.9481\n",
      "Epoch [35/100], average_loss:0.2274, validation_loss:0.2371, val_accuracy:0.8442\n",
      "Epoch [36/100], average_loss:0.2262, validation_loss:0.2362, val_accuracy:0.8831\n",
      "Epoch [37/100], average_loss:0.2251, validation_loss:0.2394, val_accuracy:0.8701\n",
      "Epoch [38/100], average_loss:0.2180, validation_loss:0.2098, val_accuracy:0.9091\n",
      "Epoch [39/100], average_loss:0.2275, validation_loss:0.2185, val_accuracy:0.8961\n",
      "Epoch [40/100], average_loss:0.2177, validation_loss:0.2125, val_accuracy:0.9610\n",
      "Epoch [41/100], average_loss:0.2209, validation_loss:0.2156, val_accuracy:0.9481\n",
      "Epoch [42/100], average_loss:0.2088, validation_loss:0.2350, val_accuracy:0.8831\n",
      "Epoch [43/100], average_loss:0.2215, validation_loss:0.2200, val_accuracy:0.8571\n",
      "Epoch [44/100], average_loss:0.2079, validation_loss:0.2297, val_accuracy:0.9091\n",
      "Epoch [45/100], average_loss:0.2093, validation_loss:0.2256, val_accuracy:0.8961\n",
      "Epoch [46/100], average_loss:0.2019, validation_loss:0.2143, val_accuracy:0.9221\n",
      "Epoch [47/100], average_loss:0.2074, validation_loss:0.2200, val_accuracy:0.9351\n",
      "Epoch [48/100], average_loss:0.2077, validation_loss:0.2335, val_accuracy:0.8961\n",
      "Epoch [49/100], average_loss:0.1950, validation_loss:0.2126, val_accuracy:0.9351\n",
      "Epoch [50/100], average_loss:0.1907, validation_loss:0.2056, val_accuracy:0.9091\n",
      "Epoch [51/100], average_loss:0.1958, validation_loss:0.1975, val_accuracy:0.9610\n",
      "Epoch [52/100], average_loss:0.1889, validation_loss:0.2150, val_accuracy:0.9091\n",
      "Epoch [53/100], average_loss:0.1862, validation_loss:0.2080, val_accuracy:0.8571\n",
      "Epoch [54/100], average_loss:0.1996, validation_loss:0.2094, val_accuracy:0.8831\n",
      "Epoch [55/100], average_loss:0.1840, validation_loss:0.1969, val_accuracy:0.9351\n",
      "Epoch [56/100], average_loss:0.1812, validation_loss:0.1959, val_accuracy:0.8961\n",
      "Epoch [57/100], average_loss:0.1840, validation_loss:0.2216, val_accuracy:0.9221\n",
      "Epoch [58/100], average_loss:0.1784, validation_loss:0.1908, val_accuracy:0.9221\n",
      "Epoch [59/100], average_loss:0.1807, validation_loss:0.1921, val_accuracy:0.9610\n",
      "Epoch [60/100], average_loss:0.1814, validation_loss:0.2293, val_accuracy:0.9221\n",
      "Epoch [61/100], average_loss:0.1825, validation_loss:0.2122, val_accuracy:0.8961\n",
      "Epoch [62/100], average_loss:0.1795, validation_loss:0.1898, val_accuracy:0.9351\n",
      "Epoch [63/100], average_loss:0.1767, validation_loss:0.2119, val_accuracy:0.8831\n",
      "Epoch [64/100], average_loss:0.1698, validation_loss:0.2170, val_accuracy:0.9351\n",
      "Epoch [65/100], average_loss:0.1726, validation_loss:0.2097, val_accuracy:0.9351\n",
      "Epoch [66/100], average_loss:0.1738, validation_loss:0.2116, val_accuracy:0.8701\n",
      "Epoch [67/100], average_loss:0.1694, validation_loss:0.2126, val_accuracy:0.9351\n",
      "Epoch [68/100], average_loss:0.1596, validation_loss:0.1984, val_accuracy:0.9481\n",
      "Epoch [69/100], average_loss:0.1573, validation_loss:0.2026, val_accuracy:0.8831\n",
      "Epoch [70/100], average_loss:0.1567, validation_loss:0.1838, val_accuracy:0.9221\n",
      "Epoch [71/100], average_loss:0.1569, validation_loss:0.1758, val_accuracy:0.9610\n",
      "Epoch [72/100], average_loss:0.1607, validation_loss:0.1835, val_accuracy:0.9870\n",
      "Epoch [73/100], average_loss:0.1637, validation_loss:0.1814, val_accuracy:0.9221\n",
      "Epoch [74/100], average_loss:0.1550, validation_loss:0.1853, val_accuracy:0.8961\n",
      "Epoch [75/100], average_loss:0.1449, validation_loss:0.1884, val_accuracy:0.9221\n",
      "Epoch [76/100], average_loss:0.1529, validation_loss:0.1736, val_accuracy:0.9481\n",
      "Epoch [77/100], average_loss:0.1506, validation_loss:0.1918, val_accuracy:0.9221\n",
      "Epoch [78/100], average_loss:0.1454, validation_loss:0.2035, val_accuracy:0.9221\n",
      "Epoch [79/100], average_loss:0.1423, validation_loss:0.1868, val_accuracy:0.9091\n",
      "Epoch [80/100], average_loss:0.1422, validation_loss:0.1928, val_accuracy:0.9351\n",
      "Epoch [81/100], average_loss:0.1488, validation_loss:0.1919, val_accuracy:0.8571\n",
      "Epoch [82/100], average_loss:0.1444, validation_loss:0.1983, val_accuracy:0.9091\n",
      "Epoch [83/100], average_loss:0.1508, validation_loss:0.1943, val_accuracy:0.9221\n",
      "Epoch [84/100], average_loss:0.1424, validation_loss:0.1860, val_accuracy:0.9481\n",
      "Epoch [85/100], average_loss:0.1361, validation_loss:0.1673, val_accuracy:0.9870\n",
      "Epoch [86/100], average_loss:0.1429, validation_loss:0.1823, val_accuracy:0.8961\n",
      "Epoch [87/100], average_loss:0.1414, validation_loss:0.1658, val_accuracy:0.9221\n",
      "Epoch [88/100], average_loss:0.1332, validation_loss:0.1768, val_accuracy:0.9481\n",
      "Epoch [89/100], average_loss:0.1316, validation_loss:0.1709, val_accuracy:0.8961\n",
      "Epoch [90/100], average_loss:0.1273, validation_loss:0.1723, val_accuracy:0.8312\n",
      "Epoch [91/100], average_loss:0.1355, validation_loss:0.1563, val_accuracy:0.9740\n",
      "Epoch [92/100], average_loss:0.1328, validation_loss:0.1591, val_accuracy:0.9481\n",
      "Epoch [93/100], average_loss:0.1287, validation_loss:0.1614, val_accuracy:0.9351\n",
      "Epoch [94/100], average_loss:0.1264, validation_loss:0.1763, val_accuracy:0.9091\n",
      "Epoch [95/100], average_loss:0.1333, validation_loss:0.1783, val_accuracy:0.8701\n",
      "Epoch [96/100], average_loss:0.1247, validation_loss:0.1595, val_accuracy:0.9870\n",
      "Epoch [97/100], average_loss:0.1211, validation_loss:0.1716, val_accuracy:0.9610\n",
      "Epoch [98/100], average_loss:0.1363, validation_loss:0.1610, val_accuracy:0.9610\n",
      "Epoch [99/100], average_loss:0.1193, validation_loss:0.1850, val_accuracy:0.9221\n",
      "Epoch [100/100], average_loss:0.1298, validation_loss:0.1771, val_accuracy:0.9091\n"
     ]
    }
   ],
   "source": [
    "lh = m1(epochs=range(100), train_loader=train_loader, validation_loader=valid_loader)\n"
   ]
  },
  {
   "cell_type": "code",
   "execution_count": 20,
   "metadata": {},
   "outputs": [
    {
     "data": {
      "text/plain": [
       "CRNN(\n",
       "  (reshape_to_inception): Reshape()\n",
       "  (inception): Inception(\n",
       "    (conv_from_bottleneck_1): Conv1d(1, 32, kernel_size=(5,), stride=(1,), padding=(2,), bias=False)\n",
       "    (conv_from_bottleneck_2): Conv1d(1, 32, kernel_size=(11,), stride=(1,), padding=(5,), bias=False)\n",
       "    (conv_from_bottleneck_3): Conv1d(1, 32, kernel_size=(23,), stride=(1,), padding=(11,), bias=False)\n",
       "    (max_pool): MaxPool1d(kernel_size=3, stride=1, padding=1, dilation=1, ceil_mode=False)\n",
       "    (conv_from_maxpool): Conv1d(1, 32, kernel_size=(1,), stride=(1,), bias=False)\n",
       "    (batch_norm): BatchNorm1d(128, eps=1e-05, momentum=0.1, affine=True, track_running_stats=True)\n",
       "    (activation): ReLU()\n",
       "  )\n",
       "  (rnn1): LSTM(128, 80, batch_first=True, bidirectional=True)\n",
       "  (rnn2): LSTM(160, 20, batch_first=True, bidirectional=True)\n",
       "  (fc_on_rnn): Linear(in_features=40, out_features=1, bias=True)\n",
       "  (flatten): Flatten()\n",
       "  (fc): Linear(in_features=160, out_features=4, bias=True)\n",
       ")"
      ]
     },
     "execution_count": 20,
     "metadata": {},
     "output_type": "execute_result"
    }
   ],
   "source": [
    "mod"
   ]
  },
  {
   "cell_type": "code",
   "execution_count": 22,
   "metadata": {
    "colab": {
     "base_uri": "https://localhost:8080/",
     "height": 34
    },
    "colab_type": "code",
    "id": "B0NjQuNjo6iB",
    "outputId": "649b4b4b-b033-496d-af55-a00e7acd145e"
   },
   "outputs": [
    {
     "data": {
      "text/plain": [
       "tensor([1, 1, 1,  ..., 3, 1, 0])"
      ]
     },
     "execution_count": 22,
     "metadata": {},
     "output_type": "execute_result"
    }
   ],
   "source": [
    "m1.model.eval()\n",
    "m1.model.cpu()\n",
    "with torch.no_grad():\n",
    "    x_pred = np.argmax(m1.model(torch.tensor(X_test).float()).detach(), axis=1)\n",
    "m1.model.cuda()\n",
    "x_pred"
   ]
  },
  {
   "cell_type": "code",
   "execution_count": 23,
   "metadata": {
    "colab": {
     "base_uri": "https://localhost:8080/",
     "height": 34
    },
    "colab_type": "code",
    "id": "ed-MmQUwMTDz",
    "outputId": "5c37df1c-21e4-4cc7-93a9-3fa35b5600b8"
   },
   "outputs": [
    {
     "data": {
      "text/plain": [
       "0.9019984505524539"
      ]
     },
     "execution_count": 23,
     "metadata": {},
     "output_type": "execute_result"
    }
   ],
   "source": [
    "f1_score(y_true=y_test, y_pred=x_pred,average=\"macro\")"
   ]
  },
  {
   "cell_type": "code",
   "execution_count": 24,
   "metadata": {
    "colab": {
     "base_uri": "https://localhost:8080/",
     "height": 34
    },
    "colab_type": "code",
    "id": "LwBjM0IaMTBM",
    "outputId": "46e3e006-402b-4539-eae6-aa49b79d64f5"
   },
   "outputs": [
    {
     "data": {
      "text/plain": [
       "0.9411448374760994"
      ]
     },
     "execution_count": 24,
     "metadata": {},
     "output_type": "execute_result"
    }
   ],
   "source": [
    "accuracy_score(y_true=y_test, y_pred=x_pred)"
   ]
  },
  {
   "cell_type": "code",
   "execution_count": 25,
   "metadata": {
    "colab": {
     "base_uri": "https://localhost:8080/",
     "height": 85
    },
    "colab_type": "code",
    "id": "4HWpAsMMMYHt",
    "outputId": "92591b9b-7b52-47eb-f88d-5c5904fcc83e"
   },
   "outputs": [
    {
     "data": {
      "text/plain": [
       "array([[ 3876,   168,    36,   155],\n",
       "       [  255, 10120,    13,    57],\n",
       "       [   16,    10,   427,    26],\n",
       "       [  187,    52,    10,  1328]], dtype=int64)"
      ]
     },
     "execution_count": 25,
     "metadata": {},
     "output_type": "execute_result"
    }
   ],
   "source": [
    "confusion_matrix(y_true=y_test, y_pred=x_pred) # x_axis = predicted, y_axis = ground_truth"
   ]
  },
  {
   "cell_type": "markdown",
   "metadata": {
    "colab_type": "text",
    "id": "WBncOHJnPhcy"
   },
   "source": [
    "    InceptionTime Classification (best result so far)\n",
    "    [ 3805,   296,    27,   107],\n",
    "    [   91, 10307,     8,    39],\n",
    "    [   22,     8,   425,    24],\n",
    "    [  169,    37,    20,  1351]"
   ]
  },
  {
   "cell_type": "code",
   "execution_count": 26,
   "metadata": {
    "colab": {
     "base_uri": "https://localhost:8080/",
     "height": 51
    },
    "colab_type": "code",
    "collapsed": true,
    "id": "8rC1mC93QOMK",
    "outputId": "dfab2195-8b64-42cb-e2a8-217aafffdf17"
   },
   "outputs": [
    {
     "name": "stderr",
     "output_type": "stream",
     "text": [
      "C:\\Users\\ghost_000\\Miniconda3\\envs\\Pytorch\\lib\\site-packages\\torch\\serialization.py:292: UserWarning: Couldn't retrieve source code for container of type CRNN. It won't be checked for correctness upon loading.\n",
      "  \"type \" + obj.__name__ + \". It won't be checked \"\n",
      "C:\\Users\\ghost_000\\Miniconda3\\envs\\Pytorch\\lib\\site-packages\\torch\\serialization.py:292: UserWarning: Couldn't retrieve source code for container of type Reshape. It won't be checked for correctness upon loading.\n",
      "  \"type \" + obj.__name__ + \". It won't be checked \"\n",
      "C:\\Users\\ghost_000\\Miniconda3\\envs\\Pytorch\\lib\\site-packages\\torch\\serialization.py:292: UserWarning: Couldn't retrieve source code for container of type Inception. It won't be checked for correctness upon loading.\n",
      "  \"type \" + obj.__name__ + \". It won't be checked \"\n",
      "C:\\Users\\ghost_000\\Miniconda3\\envs\\Pytorch\\lib\\site-packages\\torch\\serialization.py:292: UserWarning: Couldn't retrieve source code for container of type Conv1d. It won't be checked for correctness upon loading.\n",
      "  \"type \" + obj.__name__ + \". It won't be checked \"\n",
      "C:\\Users\\ghost_000\\Miniconda3\\envs\\Pytorch\\lib\\site-packages\\torch\\serialization.py:292: UserWarning: Couldn't retrieve source code for container of type MaxPool1d. It won't be checked for correctness upon loading.\n",
      "  \"type \" + obj.__name__ + \". It won't be checked \"\n",
      "C:\\Users\\ghost_000\\Miniconda3\\envs\\Pytorch\\lib\\site-packages\\torch\\serialization.py:292: UserWarning: Couldn't retrieve source code for container of type BatchNorm1d. It won't be checked for correctness upon loading.\n",
      "  \"type \" + obj.__name__ + \". It won't be checked \"\n",
      "C:\\Users\\ghost_000\\Miniconda3\\envs\\Pytorch\\lib\\site-packages\\torch\\serialization.py:292: UserWarning: Couldn't retrieve source code for container of type ReLU. It won't be checked for correctness upon loading.\n",
      "  \"type \" + obj.__name__ + \". It won't be checked \"\n",
      "C:\\Users\\ghost_000\\Miniconda3\\envs\\Pytorch\\lib\\site-packages\\torch\\serialization.py:292: UserWarning: Couldn't retrieve source code for container of type LSTM. It won't be checked for correctness upon loading.\n",
      "  \"type \" + obj.__name__ + \". It won't be checked \"\n",
      "C:\\Users\\ghost_000\\Miniconda3\\envs\\Pytorch\\lib\\site-packages\\torch\\serialization.py:292: UserWarning: Couldn't retrieve source code for container of type Linear. It won't be checked for correctness upon loading.\n",
      "  \"type \" + obj.__name__ + \". It won't be checked \"\n",
      "C:\\Users\\ghost_000\\Miniconda3\\envs\\Pytorch\\lib\\site-packages\\torch\\serialization.py:292: UserWarning: Couldn't retrieve source code for container of type Flatten. It won't be checked for correctness upon loading.\n",
      "  \"type \" + obj.__name__ + \". It won't be checked \"\n"
     ]
    }
   ],
   "source": [
    "torch.save(m1.model, \"CRNN_lr-1e-3,_bs-512_ks-[5,11,23]_bidirectional.pt\")\n",
    "torch.save(m1.model.state_dict(), \"CRNN_lr-1e-3,_bs-512_ks-[5,11,23]_bidirectional-state_dict.pt\")"
   ]
  },
  {
   "cell_type": "code",
   "execution_count": 0,
   "metadata": {
    "colab": {},
    "colab_type": "code",
    "id": "uenBo_0kQXG0"
   },
   "outputs": [],
   "source": []
  }
 ],
 "metadata": {
  "accelerator": "GPU",
  "colab": {
   "collapsed_sections": [],
   "name": "CRNN.ipynb",
   "provenance": [],
   "toc_visible": true
  },
  "kernelspec": {
   "display_name": "Python 3",
   "language": "python",
   "name": "python3"
  },
  "language_info": {
   "codemirror_mode": {
    "name": "ipython",
    "version": 3
   },
   "file_extension": ".py",
   "mimetype": "text/x-python",
   "name": "python",
   "nbconvert_exporter": "python",
   "pygments_lexer": "ipython3",
   "version": "3.6.9"
  }
 },
 "nbformat": 4,
 "nbformat_minor": 1
}
