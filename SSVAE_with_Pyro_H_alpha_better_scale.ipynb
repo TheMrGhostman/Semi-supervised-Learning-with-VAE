{
 "cells": [
  {
   "cell_type": "code",
   "execution_count": 1,
   "metadata": {
    "colab": {
     "base_uri": "https://localhost:8080/",
     "height": 153
    },
    "colab_type": "code",
    "id": "G3dcWXty_P9w",
    "outputId": "fdc4806f-ecd4-43bf-cc03-ef8fe5860df3",
    "scrolled": true
   },
   "outputs": [],
   "source": [
    "#!git clone https://github.com/TheMrGhostman/Semi-supervised-Learning-with-VAE"
   ]
  },
  {
   "cell_type": "code",
   "execution_count": 2,
   "metadata": {
    "colab": {
     "base_uri": "https://localhost:8080/",
     "height": 224
    },
    "colab_type": "code",
    "id": "6MDu2-LS_gJn",
    "outputId": "22a7fb91-5ba5-4eca-f7a8-18d80e2ce291"
   },
   "outputs": [],
   "source": [
    "#!pip install pyro-ppl"
   ]
  },
  {
   "cell_type": "code",
   "execution_count": 1,
   "metadata": {
    "colab": {},
    "colab_type": "code",
    "id": "V2UGHzWc_M4o"
   },
   "outputs": [],
   "source": [
    "import os\n",
    "import time\n",
    "\n",
    "import numpy as np\n",
    "import torch\n",
    "\n",
    "import torch.nn as nn\n",
    "import torch.nn.functional as F\n",
    "\n",
    "import pyro\n",
    "import pyro.distributions as dist\n",
    "import pyro.contrib.examples.util  # patches torchvision\n",
    "\n",
    "from pyro.infer import SVI, JitTrace_ELBO, JitTraceEnum_ELBO, Trace_ELBO, TraceEnum_ELBO, config_enumerate\n",
    "from pyro.optim import Adam\n",
    "\n",
    "import matplotlib.pyplot as plt\n"
   ]
  },
  {
   "cell_type": "code",
   "execution_count": 2,
   "metadata": {
    "colab": {},
    "colab_type": "code",
    "id": "d7UVg2g7_vXc"
   },
   "outputs": [],
   "source": [
    "#os.chdir(\"Semi-supervised-Learning-with-VAE/\")"
   ]
  },
  {
   "cell_type": "code",
   "execution_count": 3,
   "metadata": {
    "colab": {
     "base_uri": "https://localhost:8080/",
     "height": 317
    },
    "colab_type": "code",
    "id": "IULMzLj8_-U0",
    "outputId": "17971c21-a74f-4db0-e762-4992537b85c4"
   },
   "outputs": [],
   "source": [
    "from utils.datasets import SupervisedDataset\n",
    "from utils.utils import One_Hot"
   ]
  },
  {
   "cell_type": "code",
   "execution_count": 4,
   "metadata": {
    "colab": {},
    "colab_type": "code",
    "id": "DNMkZpbU_M41"
   },
   "outputs": [],
   "source": [
    "from sklearn.model_selection import train_test_split\n",
    "from sklearn.preprocessing import RobustScaler, StandardScaler\n",
    "from sklearn.metrics import confusion_matrix, accuracy_score, f1_score\n",
    "\n",
    "from utils.layers import Reshape, Flatten\n",
    "import utils.datasets as d"
   ]
  },
  {
   "cell_type": "code",
   "execution_count": 5,
   "metadata": {
    "colab": {},
    "colab_type": "code",
    "id": "wdf8tYr-_M5C"
   },
   "outputs": [],
   "source": [
    "class VariationalLayer(nn.Module):\n",
    "    \"\"\"\n",
    "    Variational Layer with reparametrization trick. \n",
    "    It's used as bottleneck of Variational AutoEncoder ie. output of encoder.\n",
    "\n",
    "    \"Linear layer for variational inference with reparametrization trick\"\n",
    "    \"\"\"\n",
    "    def __init__(self, in_features, out_features, bias=True):\n",
    "        \"\"\"\t\n",
    "        : param in_features: \t\tNumber of input features (number of neurons on input)\n",
    "        : param out_features:\t\tNumber of output features (number of neurons on output)\n",
    "        : param bias:\t\t\t\tInclude bias - True/False\n",
    "        \"\"\"\n",
    "        super(VariationalLayer, self).__init__()\n",
    "        self.mu = nn.Linear(in_features=in_features, out_features=out_features, bias=bias)\n",
    "        self.rho = nn.Linear(in_features=in_features, out_features=out_features, bias=bias)\n",
    "        self.softplus = nn.Softplus()\n",
    "\n",
    "    def forward(self, x_in):\n",
    "        mu = self.mu(x_in)\n",
    "        sigma = self.softplus(self.rho(x_in))\n",
    "        return mu, sigma"
   ]
  },
  {
   "cell_type": "code",
   "execution_count": 6,
   "metadata": {
    "colab": {},
    "colab_type": "code",
    "id": "K3pVB9ii_M5M"
   },
   "outputs": [],
   "source": [
    "class ConvTransposeDecoderOutput(nn.Module):\n",
    "    def __init__(self, in_channels, in_features, out_features, kernel_size, stride=1, padding=0, bias=True):\n",
    "        super(ConvTransposeDecoderOutput, self).__init__()\n",
    "        self.mu = nn.ConvTranspose1d(\n",
    "                in_channels=in_channels, \n",
    "                out_channels=1, \n",
    "                kernel_size=kernel_size, \n",
    "                stride=stride, \n",
    "                padding=padding\n",
    "            )\n",
    "        self.rho = nn.Linear(in_features=in_features, out_features=1, bias=bias)\n",
    "        self.flatten = Flatten(out_features=in_features)\n",
    "        self.flatten_mu = Flatten(out_features=out_features)\n",
    "        self.softplus = nn.Softplus()\n",
    "\n",
    "    def forward(self, x_in):\n",
    "        \"\"\"\n",
    "        x must be shape ... (-1, in_channels, size)\n",
    "        \"\"\"\n",
    "        mu = self.mu(x_in)\n",
    "        x = self.flatten(x_in)\n",
    "        sigma = self.softplus(self.rho(x))\n",
    "        return self.flatten_mu(mu), sigma"
   ]
  },
  {
   "cell_type": "code",
   "execution_count": 7,
   "metadata": {
    "colab": {},
    "colab_type": "code",
    "id": "uXvhQTAA_M5b"
   },
   "outputs": [],
   "source": [
    "class ConvTransposeDecoderOutput2(nn.Module):\n",
    "    def __init__(self, in_channels, out_features, kernel_size, stride=1, padding=0, bias=True):\n",
    "        super(ConvTransposeDecoderOutput2, self).__init__()\n",
    "        self.mu = nn.ConvTranspose1d(\n",
    "                in_channels=in_channels, \n",
    "                out_channels=1, \n",
    "                kernel_size=kernel_size, \n",
    "                stride=stride, \n",
    "                padding=padding\n",
    "            )\n",
    "        self.flatten_mu = Flatten(out_features=out_features)\n",
    "\n",
    "    def forward(self, x_in):\n",
    "        \"\"\"\n",
    "        x must be shape ... (-1, in_channels, size)\n",
    "        \"\"\"\n",
    "        mu = self.mu(x_in)\n",
    "        return self.flatten_mu(mu)"
   ]
  },
  {
   "cell_type": "code",
   "execution_count": 8,
   "metadata": {
    "colab": {},
    "colab_type": "code",
    "id": "B6UwZ6pE_M5j"
   },
   "outputs": [],
   "source": [
    "class Encoder(nn.Module):\n",
    "    def __init__(self):\n",
    "        super(Encoder, self).__init__()\n",
    "        self.first_part =  nn.Sequential(\n",
    "                Reshape(out_shape=(1, 160)),\n",
    "                nn.Conv1d(in_channels=1, out_channels=16, kernel_size=6, stride=2, padding=0, bias=False), # n*1*160 -> n*16*78\n",
    "                nn.PReLU(),\n",
    "                nn.Conv1d(in_channels=16, out_channels=32, kernel_size=4, stride=2, bias=False),#n*16*78->n*32*38\n",
    "                nn.BatchNorm1d(num_features=32),\n",
    "                nn.PReLU(),\n",
    "                nn.Conv1d(in_channels=32, out_channels=64, kernel_size=4, stride=2, bias=False),#n*32*38->n*64*18\n",
    "                nn.BatchNorm1d(num_features=64),\n",
    "                nn.PReLU(),\n",
    "                Flatten(out_features=64*18))\n",
    "        self.fc = nn.Linear(in_features=64*18+4, out_features=256)\n",
    "        self.act = nn.PReLU()\n",
    "        self.out = VariationalLayer(in_features=256, out_features=15)\n",
    "        \n",
    "    def forward(self, x,y):\n",
    "        z = self.first_part(x)\n",
    "        z = torch.cat([z,y], axis=1)\n",
    "        z = self.act(self.fc(z))\n",
    "        return self.out(z)\n",
    "        "
   ]
  },
  {
   "cell_type": "code",
   "execution_count": 9,
   "metadata": {
    "colab": {},
    "colab_type": "code",
    "id": "UOBBsQ8A_M50"
   },
   "outputs": [],
   "source": [
    "decoder = nn.Sequential(\n",
    "    nn.Linear(in_features=15+4, out_features=256),\n",
    "    nn.PReLU(),\n",
    "    nn.Linear(in_features=256, out_features=64*18),\n",
    "    Reshape(out_shape=(64,18)),\n",
    "    nn.BatchNorm1d(num_features=64),\n",
    "    nn.PReLU(),\n",
    "    nn.ConvTranspose1d(in_channels=64, out_channels=32, kernel_size=4, stride=2, padding=0),\n",
    "    nn.BatchNorm1d(num_features=32),\n",
    "    nn.PReLU(),\n",
    "    nn.ConvTranspose1d(in_channels=32, out_channels=16, kernel_size=4, stride=2, padding=0),\n",
    "    #nn.BatchNorm1d(num_features=16),\n",
    "    nn.PReLU(),\n",
    "    ConvTransposeDecoderOutput(\n",
    "        in_channels=16,\n",
    "        in_features=16*78,\n",
    "        out_features=160, \n",
    "        kernel_size=6, \n",
    "        stride=2\n",
    "        )\n",
    "    )"
   ]
  },
  {
   "cell_type": "code",
   "execution_count": null,
   "metadata": {
    "colab": {},
    "colab_type": "code",
    "id": "zF71nKMU_M59"
   },
   "outputs": [],
   "source": []
  },
  {
   "cell_type": "code",
   "execution_count": 10,
   "metadata": {
    "colab": {},
    "colab_type": "code",
    "id": "jlSAJpZ-_M6G"
   },
   "outputs": [],
   "source": [
    "clf = nn.Sequential(\n",
    "    Reshape(out_shape=(1, 160)),\n",
    "    nn.Conv1d(in_channels=1, out_channels=16, kernel_size=6, stride=2, padding=0, bias=False), # n*1*160 -> n*16*78\n",
    "    nn.PReLU(),\n",
    "    nn.Conv1d(in_channels=16, out_channels=32, kernel_size=4, stride=2, bias=False),#n*16*78->n*32*38\n",
    "    nn.BatchNorm1d(num_features=32),\n",
    "    nn.PReLU(),\n",
    "    nn.Conv1d(in_channels=32, out_channels=64, kernel_size=4, stride=2, bias=False),#n*32*38->n*64*18\n",
    "    nn.BatchNorm1d(num_features=64),\n",
    "    nn.PReLU(),\n",
    "    Flatten(out_features=64*18),\n",
    "    nn.Linear(in_features=64*18, out_features=256),\n",
    "    nn.PReLU(),\n",
    "    nn.Linear(in_features=256, out_features=4),\n",
    "    nn.Softmax(dim=1)\n",
    "    )"
   ]
  },
  {
   "cell_type": "code",
   "execution_count": 11,
   "metadata": {
    "colab": {},
    "colab_type": "code",
    "id": "HXbeS7xS_M6M"
   },
   "outputs": [],
   "source": [
    "class SSVAE(nn.Module):\n",
    "    \"\"\"\n",
    "    This class encapsulates the parameters (neural networks) and models & guides needed to train a\n",
    "    semi-supervised variational auto-encoder on the MNIST image dataset\n",
    "    :param output_size: size of the tensor representing the class label (10 for MNIST since\n",
    "                        we represent the class labels as a one-hot vector with 10 components)\n",
    "    :param input_size: size of the tensor representing the image (28*28 = 784 for our MNIST dataset\n",
    "                       since we flatten the images and scale the pixels to be in [0,1])\n",
    "    :param z_dim: size of the tensor representing the latent random variable z\n",
    "                  (handwriting style for our MNIST dataset)\n",
    "    :param hidden_layers: a tuple (or list) of MLP layers to be used in the neural networks\n",
    "                          representing the parameters of the distributions in our model\n",
    "    :param use_cuda: use GPUs for faster training\n",
    "    :param aux_loss_multiplier: the multiplier to use with the auxiliary loss\n",
    "    \"\"\"\n",
    "    def __init__(self, config_enum=None, use_cuda=False, aux_loss_multiplier=None):\n",
    "\n",
    "        super().__init__()\n",
    "\n",
    "        # initialize the class with all arguments provided to the constructor\n",
    "        self.output_size = 4\n",
    "        self.z_dim = 15\n",
    "        self.allow_broadcast = config_enum == 'parallel'\n",
    "        self.use_cuda = use_cuda\n",
    "        self.aux_loss_multiplier = aux_loss_multiplier\n",
    "\n",
    "        # define and instantiate the neural networks representing\n",
    "        # the paramters of various distributions in the model\n",
    "        self.setup_networks()\n",
    "\n",
    "    def setup_networks(self):\n",
    "\n",
    "        self.encoder_y = clf\n",
    "\n",
    "        self.encoder_z = Encoder()\n",
    "\n",
    "        self.decoder = decoder\n",
    "\n",
    "        if self.use_cuda:\n",
    "            self.cuda()\n",
    "\n",
    "    def model(self, xs, ys=None):\n",
    "        \"\"\"\n",
    "        The model corresponds to the following generative process:\n",
    "        p(z) = normal(0,I)              # handwriting style (latent)\n",
    "        p(y|x) = categorical(I/10.)     # which digit (semi-supervised)\n",
    "        p(x|y,z) = bernoulli(loc(y,z))   # an image\n",
    "        loc is given by a neural network  `decoder`\n",
    "        :param xs: a batch of scaled vectors of pixels from an image\n",
    "        :param ys: (optional) a batch of the class labels i.e.\n",
    "                   the digit corresponding to the image(s)\n",
    "        :return: None\n",
    "        \"\"\"\n",
    "        # register this pytorch module and all of its sub-modules with pyro\n",
    "        pyro.module(\"ss_vae\", self)\n",
    "\n",
    "        batch_size = xs.size(0)\n",
    "        options = dict(dtype=xs.dtype, device=xs.device)\n",
    "        with pyro.plate(\"data\"):\n",
    "\n",
    "            # sample the handwriting style from the constant prior distribution\n",
    "            prior_loc = torch.zeros(batch_size, self.z_dim, **options)\n",
    "            prior_scale = torch.ones(batch_size, self.z_dim, **options)\n",
    "            zs = pyro.sample(\"z\", dist.Normal(prior_loc, prior_scale).to_event(1))\n",
    "\n",
    "            # if the label y (which digit to write) is supervised, sample from the\n",
    "            # constant prior, otherwise, observe the value (i.e. score it against the constant prior)\n",
    "            alpha_prior = torch.ones(batch_size, self.output_size, **options) / (1.0 * self.output_size)\n",
    "            ys = pyro.sample(\"y\", dist.OneHotCategorical(alpha_prior), obs=ys)\n",
    "\n",
    "            # finally, score the image (x) using the handwriting style (z) and\n",
    "            # the class label y (which digit to write) against the\n",
    "            # parametrized distribution p(x|y,z) = bernoulli(decoder(y,z))\n",
    "            # where `decoder` is a neural network\n",
    "            mu, sigma = self.decoder(torch.cat([zs, ys], axis=1))\n",
    "            #mu = self.decoder(torch.cat([zs, ys], axis=1))\n",
    "            #pyro.sample(\"x\", dist.Normal(mu,torch.ones((mu.shape[0],1)).cuda()).to_event(1), obs=xs)\n",
    "            pyro.sample(\"x\", dist.Normal(mu,sigma).to_event(1), obs=xs)\n",
    "            # return the loc so we can visualize it later\n",
    "            return mu\n",
    "\n",
    "    def guide(self, xs, ys=None):\n",
    "        \"\"\"\n",
    "        The guide corresponds to the following:\n",
    "        q(y|x) = categorical(alpha(x))              # infer digit from an image\n",
    "        q(z|x,y) = normal(loc(x,y),scale(x,y))       # infer handwriting style from an image and the digit\n",
    "        loc, scale are given by a neural network `encoder_z`\n",
    "        alpha is given by a neural network `encoder_y`\n",
    "        :param xs: a batch of scaled vectors of pixels from an image\n",
    "        :param ys: (optional) a batch of the class labels i.e.\n",
    "                   the digit corresponding to the image(s)\n",
    "        :return: None\n",
    "        \"\"\"\n",
    "        # inform Pyro that the variables in the batch of xs, ys are conditionally independent\n",
    "        with pyro.plate(\"data\"):\n",
    "\n",
    "            # if the class label (the digit) is not supervised, sample\n",
    "            # (and score) the digit with the variational distribution\n",
    "            # q(y|x) = categorical(alpha(x))\n",
    "            if ys is None:\n",
    "                alpha = self.encoder_y(xs)\n",
    "                ys = pyro.sample(\"y\", dist.OneHotCategorical(alpha))\n",
    "\n",
    "            # sample (and score) the latent handwriting-style with the variational\n",
    "            # distribution q(z|x,y) = normal(loc(x,y),scale(x,y))\n",
    "            loc, scale = self.encoder_z(xs, ys)\n",
    "            pyro.sample(\"z\", dist.Normal(loc, scale).to_event(1))\n",
    "\n",
    "    def classifier(self, xs):\n",
    "        \"\"\"\n",
    "        classify an image (or a batch of images)\n",
    "        :param xs: a batch of scaled vectors of pixels from an image\n",
    "        :return: a batch of the corresponding class labels (as one-hots)\n",
    "        \"\"\"\n",
    "        # use the trained model q(y|x) = categorical(alpha(x))\n",
    "        # compute all class probabilities for the image(s)\n",
    "        alpha = self.encoder_y(xs)\n",
    "\n",
    "        # get the index (digit) that corresponds to\n",
    "        # the maximum predicted class probability\n",
    "        res, ind = torch.topk(alpha, 1)\n",
    "\n",
    "        # convert the digit(s) to one-hot tensor(s)\n",
    "        ys = torch.zeros_like(alpha).scatter_(1, ind, 1.0)\n",
    "        return ys\n",
    "\n",
    "    def model_classify(self, xs, ys=None):\n",
    "        \"\"\"\n",
    "        this model is used to add an auxiliary (supervised) loss as described in the\n",
    "        Kingma et al., \"Semi-Supervised Learning with Deep Generative Models\".\n",
    "        \"\"\"\n",
    "        # register all pytorch (sub)modules with pyro\n",
    "        pyro.module(\"ss_vae\", self)\n",
    "\n",
    "        # inform Pyro that the variables in the batch of xs, ys are conditionally independent\n",
    "        with pyro.plate(\"data\"):\n",
    "            # this here is the extra term to yield an auxiliary loss that we do gradient descent on\n",
    "            if ys is not None:\n",
    "                alpha = self.encoder_y.forward(xs)\n",
    "                with pyro.poutine.scale(scale=self.aux_loss_multiplier):\n",
    "                    pyro.sample(\"y_aux\", dist.OneHotCategorical(alpha), obs=ys)\n",
    "\n",
    "    def guide_classify(self, xs, ys=None):\n",
    "        \"\"\"\n",
    "        dummy guide function to accompany model_classify in inference\n",
    "        \"\"\"\n",
    "        pass"
   ]
  },
  {
   "cell_type": "code",
   "execution_count": 12,
   "metadata": {
    "colab": {},
    "colab_type": "code",
    "id": "2FtPqhEoAYnB"
   },
   "outputs": [],
   "source": [
    "def get_accuracy(data_loader, clf):\n",
    "    \"\"\"\n",
    "        clf ... ssvae.classifier()\n",
    "    \"\"\"\n",
    "    dataloader_len = len(data_loader)\n",
    "    acc = 0\n",
    "    with torch.no_grad():\n",
    "        for (xs, ys) in data_loader:\n",
    "            xs = xs.cuda()\n",
    "            pred = clf(xs)\n",
    "            acc += accuracy_score(np.argmax(pred.cpu().detach().numpy(), axis=1) , np.argmax(ys.numpy(),axis=1))\n",
    "    return acc/dataloader_len"
   ]
  },
  {
   "cell_type": "code",
   "execution_count": 13,
   "metadata": {
    "colab": {},
    "colab_type": "code",
    "id": "UKyJFa9dBZSk"
   },
   "outputs": [],
   "source": [
    "def run_inference_for_epoch(data_loaders, losses):\n",
    "    \"\"\"\n",
    "        thanks to random sampler supervised and unsupervised datasets have the same length\n",
    "\n",
    "        two losses -> [ ELBO , -E(q(y|x)) ]\n",
    "    \"\"\"\n",
    "    num_losses = len(losses) \n",
    "\n",
    "    epoch_losses_sup = [0.] * num_losses\n",
    "    epoch_losses_unsup = [0.] * num_losses\n",
    "\n",
    "    sup_iter = iter(data_loaders[\"sup\"])\n",
    "    unsup_iter = iter(data_loaders[\"unsup\"])\n",
    "    \n",
    "    #model.train()\n",
    "    for batch_idx  in range(len(data_loaders[\"unsup\"])):\n",
    "        \n",
    "        # supervised flow\n",
    "        (xs, ys) = next(sup_iter)\n",
    "        for loss_id in range(num_losses):\n",
    "            # evaluating (tracing) losses and optimizer step \n",
    "            new_loss = losses[loss_id].step(xs.cuda(), ys.cuda())\n",
    "            # saving losses \n",
    "            epoch_losses_sup[loss_id] += new_loss\n",
    "        \n",
    "\n",
    "        # unsupervised flow\n",
    "        xs = next(unsup_iter)\n",
    "        for loss_id in range(num_losses):\n",
    "            # evaluating (tracing) losses and optimizer step \n",
    "            new_loss = losses[loss_id].step(xs.cuda())\n",
    "            # saving losses\n",
    "            epoch_losses_unsup[loss_id] += new_loss\n",
    "\n",
    "            \n",
    "    return epoch_losses_sup, epoch_losses_unsup"
   ]
  },
  {
   "cell_type": "markdown",
   "metadata": {
    "colab_type": "text",
    "id": "3RhdAuMq_M6e"
   },
   "source": [
    "# Get Data"
   ]
  },
  {
   "cell_type": "code",
   "execution_count": 14,
   "metadata": {
    "colab": {},
    "colab_type": "code",
    "id": "6WIMMIto_M6g"
   },
   "outputs": [],
   "source": [
    "X_s = np.vstack((np.load(\"data/sequenced_data_for_VAE_length-160_stride-10_pt1.npy\"),\n",
    "               np.load(\"data/sequenced_data_for_VAE_length-160_stride-10_pt2.npy\")))\n",
    "y_s = np.load(\"data/sequenced_data_for_VAE_length-160_stride-10_targets.npy\")"
   ]
  },
  {
   "cell_type": "code",
   "execution_count": 15,
   "metadata": {
    "colab": {},
    "colab_type": "code",
    "id": "HaA--Iij_M6o"
   },
   "outputs": [],
   "source": [
    "X_u = np.vstack((np.load(\"data/unlabeled_sequences_part_1.npy\"), np.load(\"data/unlabeled_sequences_part_2.npy\")))"
   ]
  },
  {
   "cell_type": "code",
   "execution_count": 16,
   "metadata": {
    "colab": {},
    "colab_type": "code",
    "id": "_vKSNFUb_M6u",
    "outputId": "b668500e-5377-4f70-b98f-72374ef3ca03"
   },
   "outputs": [
    {
     "name": "stdout",
     "output_type": "stream",
     "text": [
      "(83680, 160)\n",
      "(97400, 160)\n"
     ]
    }
   ],
   "source": [
    "print(X_s.shape)\n",
    "print(X_u.shape)"
   ]
  },
  {
   "cell_type": "code",
   "execution_count": 17,
   "metadata": {
    "colab": {},
    "colab_type": "code",
    "id": "Wu5JbTYM_M61"
   },
   "outputs": [],
   "source": [
    "X_train, X_test, y_train, y_test = train_test_split(np.array(X_s), np.array(y_s), test_size=0.2, random_state=666)"
   ]
  },
  {
   "cell_type": "code",
   "execution_count": 18,
   "metadata": {
    "colab": {},
    "colab_type": "code",
    "id": "zSDTyV6N_M65"
   },
   "outputs": [],
   "source": [
    "scaler = RobustScaler()\n",
    "scaler.fit(np.vstack((np.array(X_s),np.array(X_u))))\n",
    "\n",
    "X_sup= scaler.transform(X_train)\n",
    "X_unsup = scaler.transform(np.array(X_u))\n",
    "X_test = scaler.transform(X_test)"
   ]
  },
  {
   "cell_type": "code",
   "execution_count": null,
   "metadata": {
    "colab": {},
    "colab_type": "code",
    "id": "aRJ6kp_a_M6-"
   },
   "outputs": [],
   "source": []
  },
  {
   "cell_type": "markdown",
   "metadata": {
    "colab_type": "text",
    "id": "kvTo4tXX_M7D"
   },
   "source": [
    "# Defining model and inference"
   ]
  },
  {
   "cell_type": "code",
   "execution_count": 19,
   "metadata": {
    "colab": {},
    "colab_type": "code",
    "id": "kDkHS6dK_M7E"
   },
   "outputs": [],
   "source": [
    "ss_vae = SSVAE(config_enum=\"parallel\", use_cuda=True, aux_loss_multiplier=46)"
   ]
  },
  {
   "cell_type": "code",
   "execution_count": 20,
   "metadata": {
    "colab": {},
    "colab_type": "code",
    "id": "9SN1qsci_M7G"
   },
   "outputs": [],
   "source": [
    "adam_params = {\"lr\": 0.0001}\n",
    "optimizer = Adam(adam_params)"
   ]
  },
  {
   "cell_type": "markdown",
   "metadata": {
    "colab_type": "text",
    "id": "a0khk4C5_M7L"
   },
   "source": [
    "## ELBO of main loss $\\mathcal{J} = \\sum_{sup} \\mathcal{L}(\\vec{x},y) + \\sum_{unsup} \\mathcal{U}(\\vec{x})$"
   ]
  },
  {
   "cell_type": "code",
   "execution_count": 21,
   "metadata": {
    "colab": {},
    "colab_type": "code",
    "id": "GgTdgFR3_M7L"
   },
   "outputs": [],
   "source": [
    "guide = config_enumerate(ss_vae.guide, \"sequential\", expand=True) #config_enumerate(ss_vae.guide, \"parallel\", expand=True)\n",
    "elbo = TraceEnum_ELBO(max_plate_nesting=1) #JitTraceEnum_ELBO\n",
    "loss_basic = SVI(ss_vae.model, guide, optimizer, loss=elbo)"
   ]
  },
  {
   "cell_type": "code",
   "execution_count": 22,
   "metadata": {
    "colab": {},
    "colab_type": "code",
    "id": "0S40F2TW_M7O"
   },
   "outputs": [],
   "source": [
    "losses = [loss_basic]"
   ]
  },
  {
   "cell_type": "markdown",
   "metadata": {
    "colab_type": "text",
    "id": "UPzK05gz_M7R"
   },
   "source": [
    "## adding auxillary loss $\\mathbb{E}_{sup}[- \\log q(y|\\vec{x})]$"
   ]
  },
  {
   "cell_type": "code",
   "execution_count": 23,
   "metadata": {
    "colab": {},
    "colab_type": "code",
    "id": "UFxFum0z_M7R"
   },
   "outputs": [],
   "source": [
    "elbo = Trace_ELBO()\n",
    "loss_aux = SVI(ss_vae.model_classify, ss_vae.guide_classify, optimizer, loss=elbo)\n",
    "losses.append(loss_aux)"
   ]
  },
  {
   "cell_type": "markdown",
   "metadata": {
    "colab_type": "text",
    "id": "VjkAaWLE_M7T"
   },
   "source": [
    "# Training"
   ]
  },
  {
   "cell_type": "code",
   "execution_count": 24,
   "metadata": {
    "colab": {},
    "colab_type": "code",
    "id": "zjauZ2xG_M7U"
   },
   "outputs": [],
   "source": [
    "sup_num = X_unsup.shape[0]\n",
    "unsup_num = X_unsup.shape[0]\n",
    "periodic_interval_batches = 1\n",
    "best_valid_acc, corresponding_test_acc = 0.0, 0.0"
   ]
  },
  {
   "cell_type": "code",
   "execution_count": 25,
   "metadata": {
    "colab": {},
    "colab_type": "code",
    "id": "HIgfXpGJ_M7X"
   },
   "outputs": [],
   "source": [
    "batch_size = 512"
   ]
  },
  {
   "cell_type": "code",
   "execution_count": 26,
   "metadata": {
    "colab": {},
    "colab_type": "code",
    "id": "DTzr_-LC_M7Z"
   },
   "outputs": [],
   "source": [
    "sup = d.SupervisedDataset(X_sup, One_Hot(4)(y_train))\n",
    "test = d.SupervisedDataset(X_test, One_Hot(4)(y_test))"
   ]
  },
  {
   "cell_type": "code",
   "execution_count": 27,
   "metadata": {
    "colab": {},
    "colab_type": "code",
    "id": "ngJlHQE7_M7c"
   },
   "outputs": [],
   "source": [
    "data_loaders = {}\n",
    "data_loaders[\"sup\"] = torch.utils.data.DataLoader(\n",
    "                            dataset=sup,\n",
    "                            batch_size=batch_size, \n",
    "                            shuffle=False, \n",
    "                            sampler=torch.utils.data.RandomSampler(\n",
    "                                sup, \n",
    "                                replacement=True,\n",
    "                                num_samples=X_unsup.shape[0]\n",
    "                                )\n",
    "                            )\n",
    "data_loaders[\"unsup\"] = torch.utils.data.DataLoader(\n",
    "                            dataset=torch.tensor(X_unsup).float(), \n",
    "                            batch_size=batch_size, \n",
    "                            shuffle=False, \n",
    "                            sampler=torch.utils.data.RandomSampler(\n",
    "                                X_unsup, \n",
    "                                replacement=False\n",
    "                                )\n",
    ")\n",
    "#data_loaders[\"valid\"] = torch.utils.data.DataLoader(SupervisedDataset(X_train[-5000:].view(-1, 1,28,28), y_train[-5000:]), \n",
    "#                                                  batch_size=batch_size)\n",
    "data_loaders[\"test\"] = torch.utils.data.DataLoader(test, batch_size=batch_size)                                                  "
   ]
  },
  {
   "cell_type": "code",
   "execution_count": 28,
   "metadata": {},
   "outputs": [],
   "source": [
    "sup_loss, unsup_loss, clf_loss, test_acc = [],[],[],[]\n"
   ]
  },
  {
   "cell_type": "code",
   "execution_count": 29,
   "metadata": {},
   "outputs": [],
   "source": [
    "n_epochs = 50"
   ]
  },
  {
   "cell_type": "code",
   "execution_count": 30,
   "metadata": {
    "colab": {},
    "colab_type": "code",
    "id": "ZpImoaajLLbp"
   },
   "outputs": [
    {
     "name": "stdout",
     "output_type": "stream",
     "text": [
      "Epoch [1/50], time 112.78s, sup_loss:-1.4107, sup_clf_loss:24.9233, unsup_loss:-40.5026, test_accuracy:0.8245\n",
      "Epoch [2/50], time 108.77s, sup_loss:-102.2745, sup_clf_loss:19.0223, unsup_loss:-130.9989, test_accuracy:0.8515\n",
      "Epoch [3/50], time 111.40s, sup_loss:-130.6502, sup_clf_loss:17.0768, unsup_loss:-153.6405, test_accuracy:0.8550\n",
      "Epoch [4/50], time 109.34s, sup_loss:-147.0316, sup_clf_loss:15.7648, unsup_loss:-169.8498, test_accuracy:0.8687\n",
      "Epoch [5/50], time 109.14s, sup_loss:-152.7255, sup_clf_loss:14.7824, unsup_loss:-172.0697, test_accuracy:0.8760\n",
      "Epoch [6/50], time 110.54s, sup_loss:-164.4351, sup_clf_loss:14.0899, unsup_loss:-182.8246, test_accuracy:0.8933\n",
      "Epoch [7/50], time 108.04s, sup_loss:-166.4719, sup_clf_loss:13.6378, unsup_loss:-188.7107, test_accuracy:0.8640\n",
      "Epoch [8/50], time 108.62s, sup_loss:-166.9791, sup_clf_loss:13.2570, unsup_loss:-188.5124, test_accuracy:0.8887\n",
      "Epoch [9/50], time 109.54s, sup_loss:-172.3164, sup_clf_loss:12.7399, unsup_loss:-191.1329, test_accuracy:0.8998\n",
      "Epoch [10/50], time 107.65s, sup_loss:-177.4836, sup_clf_loss:12.2820, unsup_loss:-198.1222, test_accuracy:0.9004\n",
      "Epoch [11/50], time 106.38s, sup_loss:-178.2018, sup_clf_loss:12.0060, unsup_loss:-197.7043, test_accuracy:0.8772\n",
      "Epoch [12/50], time 108.67s, sup_loss:-180.3066, sup_clf_loss:11.7727, unsup_loss:-200.1323, test_accuracy:0.8853\n",
      "Epoch [13/50], time 109.30s, sup_loss:-181.6112, sup_clf_loss:11.4697, unsup_loss:-205.5543, test_accuracy:0.8990\n",
      "Epoch [14/50], time 122.95s, sup_loss:-185.5428, sup_clf_loss:11.2894, unsup_loss:-204.1736, test_accuracy:0.9044\n",
      "Epoch [15/50], time 108.28s, sup_loss:-184.7774, sup_clf_loss:11.1059, unsup_loss:-206.5544, test_accuracy:0.9112\n",
      "Epoch [16/50], time 108.18s, sup_loss:-189.9386, sup_clf_loss:10.9995, unsup_loss:-210.6509, test_accuracy:0.9034\n",
      "Epoch [17/50], time 108.36s, sup_loss:-190.2990, sup_clf_loss:10.6355, unsup_loss:-213.7201, test_accuracy:0.9085\n",
      "Epoch [18/50], time 104.59s, sup_loss:-189.0908, sup_clf_loss:10.3409, unsup_loss:-212.5115, test_accuracy:0.9087\n",
      "Epoch [19/50], time 105.35s, sup_loss:-193.8984, sup_clf_loss:10.1223, unsup_loss:-218.1107, test_accuracy:0.9016\n",
      "Epoch [20/50], time 104.70s, sup_loss:-192.3385, sup_clf_loss:9.9657, unsup_loss:-214.6686, test_accuracy:0.9098\n",
      "Epoch [21/50], time 108.81s, sup_loss:-194.1430, sup_clf_loss:9.7286, unsup_loss:-218.2346, test_accuracy:0.9087\n",
      "Epoch [22/50], time 106.74s, sup_loss:-194.6887, sup_clf_loss:9.5658, unsup_loss:-215.9604, test_accuracy:0.8980\n",
      "Epoch [23/50], time 119.20s, sup_loss:-193.9248, sup_clf_loss:9.3695, unsup_loss:-218.2413, test_accuracy:0.9001\n",
      "Epoch [24/50], time 110.86s, sup_loss:-197.4779, sup_clf_loss:9.2082, unsup_loss:-220.9425, test_accuracy:0.9161\n",
      "Epoch [25/50], time 110.65s, sup_loss:-197.5274, sup_clf_loss:9.0094, unsup_loss:-217.7966, test_accuracy:0.9071\n",
      "Epoch [26/50], time 110.32s, sup_loss:-196.7671, sup_clf_loss:8.9023, unsup_loss:-220.4390, test_accuracy:0.9104\n",
      "Epoch [27/50], time 109.02s, sup_loss:-199.8728, sup_clf_loss:8.5580, unsup_loss:-221.8345, test_accuracy:0.9004\n",
      "Epoch [28/50], time 109.31s, sup_loss:-200.5476, sup_clf_loss:8.5264, unsup_loss:-224.1919, test_accuracy:0.9097\n",
      "Epoch [29/50], time 110.04s, sup_loss:-201.4509, sup_clf_loss:8.3827, unsup_loss:-223.9025, test_accuracy:0.9038\n",
      "Epoch [30/50], time 112.59s, sup_loss:-201.5548, sup_clf_loss:8.1561, unsup_loss:-223.8581, test_accuracy:0.9102\n",
      "Epoch [31/50], time 109.70s, sup_loss:-202.3303, sup_clf_loss:8.0225, unsup_loss:-225.7614, test_accuracy:0.9024\n",
      "Epoch [32/50], time 109.87s, sup_loss:-203.3682, sup_clf_loss:7.6343, unsup_loss:-227.0605, test_accuracy:0.9159\n",
      "Epoch [33/50], time 109.25s, sup_loss:-200.7593, sup_clf_loss:7.5541, unsup_loss:-226.6334, test_accuracy:0.9161\n",
      "Epoch [34/50], time 109.74s, sup_loss:-201.4479, sup_clf_loss:7.4002, unsup_loss:-225.5537, test_accuracy:0.9185\n",
      "Epoch [35/50], time 109.26s, sup_loss:-204.8481, sup_clf_loss:7.2307, unsup_loss:-231.0447, test_accuracy:0.9171\n",
      "Epoch [36/50], time 109.57s, sup_loss:-203.7936, sup_clf_loss:7.0743, unsup_loss:-228.7205, test_accuracy:0.9198\n",
      "Epoch [37/50], time 110.84s, sup_loss:-203.8536, sup_clf_loss:6.7465, unsup_loss:-228.7650, test_accuracy:0.9097\n",
      "Epoch [38/50], time 109.50s, sup_loss:-206.8473, sup_clf_loss:6.4821, unsup_loss:-230.7829, test_accuracy:0.8772\n",
      "Epoch [39/50], time 109.65s, sup_loss:-205.4836, sup_clf_loss:6.3374, unsup_loss:-230.8467, test_accuracy:0.9030\n",
      "Epoch [40/50], time 109.25s, sup_loss:-207.1798, sup_clf_loss:6.3976, unsup_loss:-230.7636, test_accuracy:0.9175\n",
      "Epoch [41/50], time 110.16s, sup_loss:-207.3960, sup_clf_loss:6.0367, unsup_loss:-230.2232, test_accuracy:0.9167\n",
      "Epoch [42/50], time 109.78s, sup_loss:-208.6496, sup_clf_loss:5.9252, unsup_loss:-233.4709, test_accuracy:0.9063\n",
      "Epoch [43/50], time 110.40s, sup_loss:-210.3062, sup_clf_loss:5.6386, unsup_loss:-234.2529, test_accuracy:0.9138\n",
      "Epoch [44/50], time 110.12s, sup_loss:-210.0268, sup_clf_loss:5.4672, unsup_loss:-234.5271, test_accuracy:0.9155\n",
      "Epoch [45/50], time 111.10s, sup_loss:-210.7541, sup_clf_loss:5.2132, unsup_loss:-231.7333, test_accuracy:0.9132\n",
      "Epoch [46/50], time 110.63s, sup_loss:-211.9566, sup_clf_loss:5.1703, unsup_loss:-233.8678, test_accuracy:0.9163\n",
      "Epoch [47/50], time 110.34s, sup_loss:-209.3731, sup_clf_loss:4.9061, unsup_loss:-233.9928, test_accuracy:0.9132\n",
      "Epoch [48/50], time 109.23s, sup_loss:-209.8256, sup_clf_loss:4.8540, unsup_loss:-237.6992, test_accuracy:0.9160\n",
      "Epoch [49/50], time 108.60s, sup_loss:-210.3683, sup_clf_loss:4.6686, unsup_loss:-234.1646, test_accuracy:0.9145\n",
      "Epoch [50/50], time 109.61s, sup_loss:-212.0449, sup_clf_loss:4.6255, unsup_loss:-231.4867, test_accuracy:0.9164\n"
     ]
    }
   ],
   "source": [
    "for i in range(0,n_epochs): # 10 epochs for start\n",
    "    start = time.time()\n",
    "    epoch_sup_loss, epoch_unsup_loss = run_inference_for_epoch(data_loaders, losses)\n",
    "\n",
    "    sup_loss.append(epoch_sup_loss[0]/sup_num)\n",
    "    clf_loss.append(epoch_sup_loss[1]/sup_num)\n",
    "    unsup_loss.append(epoch_unsup_loss[0]/unsup_num)\n",
    "\n",
    "    test_accuracy = get_accuracy(data_loaders[\"test\"], ss_vae.encoder_y)\n",
    "    test_acc.append(test_accuracy)\n",
    "\n",
    "    \n",
    "    print(\"Epoch [{}/{}], time {:.2f}s, sup_loss:{:.4f}, sup_clf_loss:{:.4f}, unsup_loss:{:.4f}, test_accuracy:{:.4f}\"\\\n",
    "          .format(i+1, n_epochs, time.time()-start, sup_loss[-1], clf_loss[-1], unsup_loss[-1], test_accuracy))\n"
   ]
  },
  {
   "cell_type": "code",
   "execution_count": 42,
   "metadata": {},
   "outputs": [
    {
     "name": "stdout",
     "output_type": "stream",
     "text": [
      "Epoch [51/100], time 114.70s, sup_loss:-212.8062, sup_clf_loss:4.3624, unsup_loss:-235.2327, test_accuracy:0.9119\n",
      "Epoch [52/100], time 109.90s, sup_loss:-212.8504, sup_clf_loss:4.1171, unsup_loss:-239.0186, test_accuracy:0.9178\n",
      "Epoch [53/100], time 109.18s, sup_loss:-214.0279, sup_clf_loss:3.9206, unsup_loss:-235.1246, test_accuracy:0.9162\n",
      "Epoch [54/100], time 109.43s, sup_loss:-213.9791, sup_clf_loss:3.6857, unsup_loss:-234.4140, test_accuracy:0.9170\n",
      "Epoch [55/100], time 108.87s, sup_loss:-212.5992, sup_clf_loss:3.6828, unsup_loss:-235.0611, test_accuracy:0.9184\n",
      "Epoch [56/100], time 109.51s, sup_loss:-213.4499, sup_clf_loss:3.3905, unsup_loss:-235.0232, test_accuracy:0.9156\n",
      "Epoch [57/100], time 111.89s, sup_loss:-213.8794, sup_clf_loss:3.2287, unsup_loss:-236.0852, test_accuracy:0.9160\n",
      "Epoch [58/100], time 108.85s, sup_loss:-217.7953, sup_clf_loss:3.2227, unsup_loss:-238.1821, test_accuracy:0.9157\n",
      "Epoch [59/100], time 111.27s, sup_loss:-213.4137, sup_clf_loss:2.9186, unsup_loss:-238.8114, test_accuracy:0.9111\n",
      "Epoch [60/100], time 112.94s, sup_loss:-214.0697, sup_clf_loss:2.8453, unsup_loss:-238.2483, test_accuracy:0.9144\n",
      "Epoch [61/100], time 111.67s, sup_loss:-215.6738, sup_clf_loss:2.7895, unsup_loss:-238.8059, test_accuracy:0.9139\n",
      "Epoch [62/100], time 110.69s, sup_loss:-215.3887, sup_clf_loss:2.6146, unsup_loss:-238.6867, test_accuracy:0.9077\n",
      "Epoch [63/100], time 109.91s, sup_loss:-216.5674, sup_clf_loss:2.5091, unsup_loss:-239.7152, test_accuracy:0.9083\n",
      "Epoch [64/100], time 111.24s, sup_loss:-217.1639, sup_clf_loss:2.2956, unsup_loss:-239.0135, test_accuracy:0.9135\n",
      "Epoch [65/100], time 110.46s, sup_loss:-215.9005, sup_clf_loss:2.2578, unsup_loss:-237.4196, test_accuracy:0.9148\n",
      "Epoch [66/100], time 113.06s, sup_loss:-215.9064, sup_clf_loss:2.0098, unsup_loss:-239.3764, test_accuracy:0.9128\n",
      "Epoch [67/100], time 111.94s, sup_loss:-215.2610, sup_clf_loss:2.0104, unsup_loss:-241.3544, test_accuracy:0.9127\n",
      "Epoch [68/100], time 110.68s, sup_loss:-217.3626, sup_clf_loss:1.8359, unsup_loss:-242.9747, test_accuracy:0.9093\n",
      "Epoch [69/100], time 109.82s, sup_loss:-215.1982, sup_clf_loss:1.7535, unsup_loss:-239.3572, test_accuracy:0.9116\n",
      "Epoch [70/100], time 111.73s, sup_loss:-216.2506, sup_clf_loss:1.6647, unsup_loss:-239.2354, test_accuracy:0.9008\n",
      "Epoch [71/100], time 112.62s, sup_loss:-216.3167, sup_clf_loss:1.5688, unsup_loss:-242.2692, test_accuracy:0.9096\n",
      "Epoch [72/100], time 112.18s, sup_loss:-215.6154, sup_clf_loss:1.5188, unsup_loss:-241.3938, test_accuracy:0.9103\n",
      "Epoch [73/100], time 115.77s, sup_loss:-219.1166, sup_clf_loss:1.3146, unsup_loss:-242.8916, test_accuracy:0.9145\n",
      "Epoch [74/100], time 114.26s, sup_loss:-218.7652, sup_clf_loss:1.4090, unsup_loss:-240.8842, test_accuracy:0.9064\n",
      "Epoch [75/100], time 112.07s, sup_loss:-216.6563, sup_clf_loss:1.2236, unsup_loss:-240.7534, test_accuracy:0.9104\n",
      "Epoch [76/100], time 112.96s, sup_loss:-218.6166, sup_clf_loss:1.1347, unsup_loss:-242.2314, test_accuracy:0.8962\n",
      "Epoch [77/100], time 112.37s, sup_loss:-218.6517, sup_clf_loss:1.1192, unsup_loss:-240.2179, test_accuracy:0.9116\n",
      "Epoch [78/100], time 112.97s, sup_loss:-221.5080, sup_clf_loss:1.0568, unsup_loss:-243.6148, test_accuracy:0.9126\n",
      "Epoch [79/100], time 111.68s, sup_loss:-218.6158, sup_clf_loss:1.0666, unsup_loss:-242.3284, test_accuracy:0.9092\n",
      "Epoch [80/100], time 117.19s, sup_loss:-219.4138, sup_clf_loss:1.0022, unsup_loss:-242.1757, test_accuracy:0.9113\n",
      "Epoch [81/100], time 119.78s, sup_loss:-220.5934, sup_clf_loss:0.8805, unsup_loss:-241.7494, test_accuracy:0.9084\n",
      "Epoch [82/100], time 117.30s, sup_loss:-221.0226, sup_clf_loss:0.7677, unsup_loss:-244.2571, test_accuracy:0.9118\n",
      "Epoch [83/100], time 111.48s, sup_loss:-219.7630, sup_clf_loss:0.7377, unsup_loss:-242.1176, test_accuracy:0.9097\n",
      "Epoch [84/100], time 113.17s, sup_loss:-220.7556, sup_clf_loss:0.7662, unsup_loss:-243.4002, test_accuracy:0.9108\n",
      "Epoch [85/100], time 117.78s, sup_loss:-220.4189, sup_clf_loss:0.6287, unsup_loss:-244.7975, test_accuracy:0.9048\n",
      "Epoch [86/100], time 115.51s, sup_loss:-218.4674, sup_clf_loss:0.7907, unsup_loss:-242.2890, test_accuracy:0.9063\n",
      "Epoch [87/100], time 109.67s, sup_loss:-221.1460, sup_clf_loss:0.6132, unsup_loss:-246.5626, test_accuracy:0.9082\n",
      "Epoch [88/100], time 110.27s, sup_loss:-220.6713, sup_clf_loss:0.6577, unsup_loss:-243.2732, test_accuracy:0.9109\n",
      "Epoch [89/100], time 114.16s, sup_loss:-221.3441, sup_clf_loss:0.4866, unsup_loss:-244.3434, test_accuracy:0.9093\n",
      "Epoch [90/100], time 112.51s, sup_loss:-223.4321, sup_clf_loss:0.5676, unsup_loss:-244.9924, test_accuracy:0.9109\n",
      "Epoch [91/100], time 110.76s, sup_loss:-222.7962, sup_clf_loss:0.5908, unsup_loss:-246.2914, test_accuracy:0.9099\n",
      "Epoch [92/100], time 111.33s, sup_loss:-221.3324, sup_clf_loss:0.5404, unsup_loss:-245.5429, test_accuracy:0.9096\n",
      "Epoch [93/100], time 111.19s, sup_loss:-221.4641, sup_clf_loss:0.4438, unsup_loss:-244.5793, test_accuracy:0.9117\n",
      "Epoch [94/100], time 110.75s, sup_loss:-220.9533, sup_clf_loss:0.5124, unsup_loss:-244.5833, test_accuracy:0.9109\n",
      "Epoch [95/100], time 111.43s, sup_loss:-222.2832, sup_clf_loss:0.3683, unsup_loss:-245.3251, test_accuracy:0.9079\n",
      "Epoch [96/100], time 110.37s, sup_loss:-222.9221, sup_clf_loss:0.4365, unsup_loss:-246.0947, test_accuracy:0.9088\n",
      "Epoch [97/100], time 110.82s, sup_loss:-222.9266, sup_clf_loss:0.7417, unsup_loss:-245.7351, test_accuracy:0.9091\n",
      "Epoch [98/100], time 109.77s, sup_loss:-225.3756, sup_clf_loss:0.3047, unsup_loss:-246.6174, test_accuracy:0.9077\n",
      "Epoch [99/100], time 110.33s, sup_loss:-224.4333, sup_clf_loss:0.3118, unsup_loss:-246.4904, test_accuracy:0.9051\n",
      "Epoch [100/100], time 111.18s, sup_loss:-222.6711, sup_clf_loss:0.3283, unsup_loss:-247.0735, test_accuracy:0.9122\n"
     ]
    }
   ],
   "source": [
    "for i in range(50,100): # 10 epochs for start\n",
    "    start = time.time()\n",
    "    epoch_sup_loss, epoch_unsup_loss = run_inference_for_epoch(data_loaders, losses)\n",
    "\n",
    "    sup_loss.append(epoch_sup_loss[0]/sup_num)\n",
    "    clf_loss.append(epoch_sup_loss[1]/sup_num)\n",
    "    unsup_loss.append(epoch_unsup_loss[0]/unsup_num)\n",
    "\n",
    "    test_accuracy = get_accuracy(data_loaders[\"test\"], ss_vae.encoder_y)\n",
    "    test_acc.append(test_accuracy)\n",
    "\n",
    "    \n",
    "    print(\"Epoch [{}/{}], time {:.2f}s, sup_loss:{:.4f}, sup_clf_loss:{:.4f}, unsup_loss:{:.4f}, test_accuracy:{:.4f}\"\\\n",
    "          .format(i+1, 100, time.time()-start, sup_loss[-1], clf_loss[-1], unsup_loss[-1], test_accuracy))\n"
   ]
  },
  {
   "cell_type": "code",
   "execution_count": 43,
   "metadata": {},
   "outputs": [
    {
     "data": {
      "image/png": "[encoded data removed]",
      "text/plain": [
       "<Figure size 1080x1440 with 4 Axes>"
      ]
     },
     "metadata": {
      "needs_background": "light"
     },
     "output_type": "display_data"
    }
   ],
   "source": [
    "fig, axes = plt.subplots(4,1, figsize=(15,20))\n",
    "fig.tight_layout()\n",
    "axes[0].plot(np.array(sup_loss), label=\"supervised loss\")\n",
    "axes[0].plot(np.array(unsup_loss), label=\"unsupervised loss\")\n",
    "\n",
    "axes[1].plot(np.array(clf_loss), label=\"classification loss\")\n",
    "\n",
    "axes[2].plot(np.array(test_acc), label=\"accuracy\")\n",
    "axes[2].grid(True)\n",
    "\n",
    "axes[3].plot(np.array(sup_loss) + np.array(unsup_loss)  + 46*np.array(clf_loss), label=r\"J^{alpha}\")\n",
    "\n",
    "plt.show()"
   ]
  },
  {
   "cell_type": "code",
   "execution_count": 44,
   "metadata": {},
   "outputs": [
    {
     "name": "stderr",
     "output_type": "stream",
     "text": [
      "C:\\Users\\ghost_000\\Miniconda3\\envs\\Pytorch\\lib\\site-packages\\torch\\serialization.py:360: UserWarning: Couldn't retrieve source code for container of type SSVAE. It won't be checked for correctness upon loading.\n",
      "  \"type \" + obj.__name__ + \". It won't be checked \"\n",
      "C:\\Users\\ghost_000\\Miniconda3\\envs\\Pytorch\\lib\\site-packages\\torch\\serialization.py:360: UserWarning: Couldn't retrieve source code for container of type Encoder. It won't be checked for correctness upon loading.\n",
      "  \"type \" + obj.__name__ + \". It won't be checked \"\n",
      "C:\\Users\\ghost_000\\Miniconda3\\envs\\Pytorch\\lib\\site-packages\\torch\\serialization.py:360: UserWarning: Couldn't retrieve source code for container of type VariationalLayer. It won't be checked for correctness upon loading.\n",
      "  \"type \" + obj.__name__ + \". It won't be checked \"\n",
      "C:\\Users\\ghost_000\\Miniconda3\\envs\\Pytorch\\lib\\site-packages\\torch\\serialization.py:360: UserWarning: Couldn't retrieve source code for container of type ConvTransposeDecoderOutput. It won't be checked for correctness upon loading.\n",
      "  \"type \" + obj.__name__ + \". It won't be checked \"\n"
     ]
    }
   ],
   "source": [
    "torch.save(ss_vae, \"models_and_losses/SSVAE_CBN_alpha-46_lr-1e-4_100ep.pt\")\n",
    "torch.save(ss_vae.state_dict(), \"models_and_losses/SSVAE_CBN_alpha-46_lr-1e-4_state_dict_100ep.pt\")\n",
    "torch.save(ss_vae.encoder_y, \"models_and_losses/SSVAE_CBN_classifier_alpha-46_lr-1e-4_100ep.pt\")\n",
    "torch.save(ss_vae.encoder_y.state_dict(), \"models_and_losses/SSVAE_CBN_classifier_alpha-46_lr-1e-4_state_dict_100ep.pt\")"
   ]
  },
  {
   "cell_type": "code",
   "execution_count": 45,
   "metadata": {},
   "outputs": [
    {
     "data": {
      "text/html": [
       "<div>\n",
       "<style scoped>\n",
       "    .dataframe tbody tr th:only-of-type {\n",
       "        vertical-align: middle;\n",
       "    }\n",
       "\n",
       "    .dataframe tbody tr th {\n",
       "        vertical-align: top;\n",
       "    }\n",
       "\n",
       "    .dataframe thead th {\n",
       "        text-align: right;\n",
       "    }\n",
       "</style>\n",
       "<table border=\"1\" class=\"dataframe\">\n",
       "  <thead>\n",
       "    <tr style=\"text-align: right;\">\n",
       "      <th></th>\n",
       "      <th>supervised_loss</th>\n",
       "      <th>unsupervised_loss</th>\n",
       "      <th>classification_loss</th>\n",
       "      <th>test_accuracy</th>\n",
       "    </tr>\n",
       "  </thead>\n",
       "  <tbody>\n",
       "    <tr>\n",
       "      <th>0</th>\n",
       "      <td>-1.410712</td>\n",
       "      <td>-40.502553</td>\n",
       "      <td>24.923337</td>\n",
       "      <td>0.824461</td>\n",
       "    </tr>\n",
       "    <tr>\n",
       "      <th>1</th>\n",
       "      <td>-102.274485</td>\n",
       "      <td>-130.998910</td>\n",
       "      <td>19.022317</td>\n",
       "      <td>0.851487</td>\n",
       "    </tr>\n",
       "    <tr>\n",
       "      <th>2</th>\n",
       "      <td>-130.650177</td>\n",
       "      <td>-153.640456</td>\n",
       "      <td>17.076847</td>\n",
       "      <td>0.854974</td>\n",
       "    </tr>\n",
       "    <tr>\n",
       "      <th>3</th>\n",
       "      <td>-147.031611</td>\n",
       "      <td>-169.849771</td>\n",
       "      <td>15.764757</td>\n",
       "      <td>0.868699</td>\n",
       "    </tr>\n",
       "    <tr>\n",
       "      <th>4</th>\n",
       "      <td>-152.725495</td>\n",
       "      <td>-172.069664</td>\n",
       "      <td>14.782378</td>\n",
       "      <td>0.876038</td>\n",
       "    </tr>\n",
       "  </tbody>\n",
       "</table>\n",
       "</div>"
      ],
      "text/plain": [
       "   supervised_loss  unsupervised_loss  classification_loss  test_accuracy\n",
       "0        -1.410712         -40.502553            24.923337       0.824461\n",
       "1      -102.274485        -130.998910            19.022317       0.851487\n",
       "2      -130.650177        -153.640456            17.076847       0.854974\n",
       "3      -147.031611        -169.849771            15.764757       0.868699\n",
       "4      -152.725495        -172.069664            14.782378       0.876038"
      ]
     },
     "execution_count": 45,
     "metadata": {},
     "output_type": "execute_result"
    }
   ],
   "source": [
    "import pandas as pd\n",
    "\n",
    "df = pd.DataFrame({\"supervised_loss\":sup_loss, \"unsupervised_loss\":unsup_loss, \"classification_loss\":clf_loss,\"test_accuracy\":test_acc})\n",
    "df.head()"
   ]
  },
  {
   "cell_type": "code",
   "execution_count": 46,
   "metadata": {},
   "outputs": [],
   "source": [
    "#df.to_csv(\"models_and_losses/SSVAE_CBN_alpha-46_lr-1e-4_100ep_losses.csv\")"
   ]
  },
  {
   "cell_type": "code",
   "execution_count": null,
   "metadata": {},
   "outputs": [],
   "source": [
    "assert 1==0"
   ]
  },
  {
   "cell_type": "code",
   "execution_count": 47,
   "metadata": {
    "colab": {},
    "colab_type": "code",
    "id": "ZEniSVNO_M7g"
   },
   "outputs": [],
   "source": [
    "ss_vae.encoder_y.eval()\n",
    "preds = []\n",
    "with torch.no_grad():\n",
    "    for (xs, ys) in data_loaders[\"test\"]:\n",
    "        xs = xs.cuda()\n",
    "        pred = ss_vae.encoder_y(xs)\n",
    "        preds.append(np.argmax(pred.cpu().detach().numpy(), axis=1))"
   ]
  },
  {
   "cell_type": "code",
   "execution_count": 48,
   "metadata": {},
   "outputs": [],
   "source": [
    "preds = np.hstack(preds)"
   ]
  },
  {
   "cell_type": "code",
   "execution_count": 49,
   "metadata": {},
   "outputs": [
    {
     "data": {
      "text/plain": [
       "0.9134201720841301"
      ]
     },
     "execution_count": 49,
     "metadata": {},
     "output_type": "execute_result"
    }
   ],
   "source": [
    "accuracy_score(y_true=y_test, y_pred=preds)"
   ]
  },
  {
   "cell_type": "code",
   "execution_count": 51,
   "metadata": {},
   "outputs": [
    {
     "data": {
      "text/plain": [
       "0.8628405502963292"
      ]
     },
     "execution_count": 51,
     "metadata": {},
     "output_type": "execute_result"
    }
   ],
   "source": [
    "f1_score(y_true=y_test, y_pred=preds,average=\"macro\")"
   ]
  },
  {
   "cell_type": "code",
   "execution_count": 52,
   "metadata": {},
   "outputs": [
    {
     "data": {
      "text/plain": [
       "array([[ 3643,   383,    29,   180],\n",
       "       [  294, 10004,    37,   110],\n",
       "       [   17,    41,   405,    16],\n",
       "       [  197,   128,    17,  1235]], dtype=int64)"
      ]
     },
     "execution_count": 52,
     "metadata": {},
     "output_type": "execute_result"
    }
   ],
   "source": [
    "cf1 = confusion_matrix(y_true=y_test, y_pred=preds) # x_axis = predicted, y_axis = ground_truth\n",
    "cf1"
   ]
  },
  {
   "cell_type": "markdown",
   "metadata": {},
   "source": [
    "     array([[3808,  265,   25,  137],\n",
    "           [ 414, 9883,   35,  113],\n",
    "           [  22,   34,  404,   19],\n",
    "           [ 187,  102,   11, 1277]], dtype=int64)"
   ]
  },
  {
   "cell_type": "code",
   "execution_count": 35,
   "metadata": {},
   "outputs": [],
   "source": [
    "from copy import deepcopy"
   ]
  },
  {
   "cell_type": "code",
   "execution_count": 36,
   "metadata": {},
   "outputs": [],
   "source": [
    "clf_test = deepcopy(ss_vae.encoder_y)"
   ]
  },
  {
   "cell_type": "code",
   "execution_count": 37,
   "metadata": {},
   "outputs": [],
   "source": [
    "#pred = ss_vae.encoder_y(torch.tensor(X_test).float().cuda())\n",
    "preds = []\n",
    "clf_test.eval()\n",
    "with torch.no_grad():\n",
    "    for (xs, ys) in data_loaders[\"test\"]:\n",
    "        xs = xs.cuda()\n",
    "        pred = clf_test(xs)\n",
    "        preds.append(np.argmax(pred.cpu().detach().numpy(), axis=1))\n",
    "\n"
   ]
  },
  {
   "cell_type": "code",
   "execution_count": 38,
   "metadata": {},
   "outputs": [],
   "source": [
    "preds = np.hstack(preds)"
   ]
  },
  {
   "cell_type": "code",
   "execution_count": 39,
   "metadata": {},
   "outputs": [
    {
     "data": {
      "text/plain": [
       "0.8642629347099131"
      ]
     },
     "execution_count": 39,
     "metadata": {},
     "output_type": "execute_result"
    }
   ],
   "source": [
    "f1_score(y_true=y_test, y_pred=preds,average=\"macro\")"
   ]
  },
  {
   "cell_type": "code",
   "execution_count": 40,
   "metadata": {},
   "outputs": [
    {
     "data": {
      "text/plain": [
       "0.9164077437858509"
      ]
     },
     "execution_count": 40,
     "metadata": {},
     "output_type": "execute_result"
    }
   ],
   "source": [
    "accuracy_score(y_true=y_test, y_pred=preds)"
   ]
  },
  {
   "cell_type": "code",
   "execution_count": null,
   "metadata": {},
   "outputs": [],
   "source": []
  }
 ],
 "metadata": {
  "accelerator": "GPU",
  "colab": {
   "collapsed_sections": [
    "UPzK05gz_M7R"
   ],
   "name": "SSVAE_with_Pyro_H_alpha.ipynb",
   "provenance": []
  },
  "kernelspec": {
   "display_name": "Pytorch",
   "language": "python",
   "name": "pytorch"
  },
  "language_info": {
   "codemirror_mode": {
    "name": "ipython",
    "version": 3
   },
   "file_extension": ".py",
   "mimetype": "text/x-python",
   "name": "python",
   "nbconvert_exporter": "python",
   "pygments_lexer": "ipython3",
   "version": "3.6.10"
  }
 },
 "nbformat": 4,
 "nbformat_minor": 1
}
