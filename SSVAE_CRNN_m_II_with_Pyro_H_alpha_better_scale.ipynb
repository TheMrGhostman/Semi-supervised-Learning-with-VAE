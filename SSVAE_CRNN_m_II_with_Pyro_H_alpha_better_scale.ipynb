{
  "nbformat": 4,
  "nbformat_minor": 0,
  "metadata": {
    "colab": {
      "name": "SSVAE_CRNN_m.II_with_Pyro_H_alpha_better_scale.ipynb",
      "provenance": [],
      "collapsed_sections": [],
      "toc_visible": true,
      "authorship_tag": "ABX9TyMb8myDghKQBK7l67rIV8W9",
      "include_colab_link": true
    },
    "kernelspec": {
      "name": "python3",
      "display_name": "Python 3"
    },
    "accelerator": "GPU"
  },
  "cells": [
    {
      "cell_type": "markdown",
      "metadata": {
        "id": "view-in-github",
        "colab_type": "text"
      },
      "source": [
        "<a href=\"https://colab.research.google.com/github/TheMrGhostman/Semi-supervised-Learning-with-VAE/blob/master/SSVAE_CRNN_m_II_with_Pyro_H_alpha_better_scale.ipynb\" target=\"_parent\"><img src=\"https://colab.research.google.com/assets/colab-badge.svg\" alt=\"Open In Colab\"/></a>"
      ]
    },
    {
      "cell_type": "code",
      "metadata": {
        "id": "1_HC7lL8d--C",
        "colab_type": "code",
        "outputId": "81a80ef9-42e4-4c31-cee9-c7e3aebe6d0f",
        "colab": {
          "base_uri": "https://localhost:8080/",
          "height": 241
        }
      },
      "source": [
        "!pip install pyro-ppl"
      ],
      "execution_count": 5,
      "outputs": [
        {
          "output_type": "stream",
          "text": [
            "Collecting pyro-ppl\n",
            "\u001b[?25l  Downloading https://files.pythonhosted.org/packages/c0/77/4db4946f6b5bf0601869c7b7594def42a7197729167484e1779fff5ca0d6/pyro_ppl-1.3.1-py3-none-any.whl (520kB)\n",
            "\u001b[K     |████████████████████████████████| 522kB 4.5MB/s \n",
            "\u001b[?25hRequirement already satisfied: tqdm>=4.36 in /usr/local/lib/python3.6/dist-packages (from pyro-ppl) (4.41.1)\n",
            "Requirement already satisfied: torch>=1.4.0 in /usr/local/lib/python3.6/dist-packages (from pyro-ppl) (1.5.0+cu101)\n",
            "Requirement already satisfied: numpy>=1.7 in /usr/local/lib/python3.6/dist-packages (from pyro-ppl) (1.18.5)\n",
            "Collecting pyro-api>=0.1.1\n",
            "  Downloading https://files.pythonhosted.org/packages/fc/81/957ae78e6398460a7230b0eb9b8f1cb954c5e913e868e48d89324c68cec7/pyro_api-0.1.2-py3-none-any.whl\n",
            "Requirement already satisfied: opt-einsum>=2.3.2 in /usr/local/lib/python3.6/dist-packages (from pyro-ppl) (3.2.1)\n",
            "Requirement already satisfied: future in /usr/local/lib/python3.6/dist-packages (from torch>=1.4.0->pyro-ppl) (0.16.0)\n",
            "Installing collected packages: pyro-api, pyro-ppl\n",
            "Successfully installed pyro-api-0.1.2 pyro-ppl-1.3.1\n"
          ],
          "name": "stdout"
        }
      ]
    },
    {
      "cell_type": "code",
      "metadata": {
        "id": "gloUNUFqedAt",
        "colab_type": "code",
        "outputId": "622ecfc2-d285-44b2-f989-6b60d9eae400",
        "colab": {
          "base_uri": "https://localhost:8080/",
          "height": 357
        }
      },
      "source": [
        "!nvidia-smi"
      ],
      "execution_count": 1,
      "outputs": [
        {
          "output_type": "stream",
          "text": [
            "Fri Jun 12 12:33:30 2020       \n",
            "+-----------------------------------------------------------------------------+\n",
            "| NVIDIA-SMI 450.36.06    Driver Version: 418.67       CUDA Version: 10.1     |\n",
            "|-------------------------------+----------------------+----------------------+\n",
            "| GPU  Name        Persistence-M| Bus-Id        Disp.A | Volatile Uncorr. ECC |\n",
            "| Fan  Temp  Perf  Pwr:Usage/Cap|         Memory-Usage | GPU-Util  Compute M. |\n",
            "|                               |                      |               MIG M. |\n",
            "|===============================+======================+======================|\n",
            "|   0  Tesla P100-PCIE...  Off  | 00000000:00:04.0 Off |                    0 |\n",
            "| N/A   64C    P0    42W / 250W |      0MiB / 16280MiB |      0%      Default |\n",
            "|                               |                      |                 ERR! |\n",
            "+-------------------------------+----------------------+----------------------+\n",
            "                                                                               \n",
            "+-----------------------------------------------------------------------------+\n",
            "| Processes:                                                                  |\n",
            "|  GPU   GI   CI        PID   Type   Process name                  GPU Memory |\n",
            "|        ID   ID                                                   Usage      |\n",
            "|=============================================================================|\n",
            "|  No running processes found                                                 |\n",
            "+-----------------------------------------------------------------------------+\n"
          ],
          "name": "stdout"
        }
      ]
    },
    {
      "cell_type": "code",
      "metadata": {
        "id": "ESS55soUeGST",
        "colab_type": "code",
        "outputId": "c8578e45-a751-49ec-84af-4f127ea48455",
        "colab": {
          "base_uri": "https://localhost:8080/",
          "height": 153
        }
      },
      "source": [
        "!git clone https://github.com/TheMrGhostman/Semi-supervised-Learning-with-VAE.git"
      ],
      "execution_count": 2,
      "outputs": [
        {
          "output_type": "stream",
          "text": [
            "Cloning into 'Semi-supervised-Learning-with-VAE'...\n",
            "remote: Enumerating objects: 105, done.\u001b[K\n",
            "remote: Counting objects: 100% (105/105), done.\u001b[K\n",
            "remote: Compressing objects: 100% (72/72), done.\u001b[K\n",
            "remote: Total 783 (delta 50), reused 76 (delta 33), pack-reused 678\u001b[K\n",
            "Receiving objects: 100% (783/783), 321.05 MiB | 31.85 MiB/s, done.\n",
            "Resolving deltas: 100% (281/281), done.\n",
            "Checking out files: 100% (496/496), done.\n"
          ],
          "name": "stdout"
        }
      ]
    },
    {
      "cell_type": "code",
      "metadata": {
        "id": "3yHtmorsZMLa",
        "colab_type": "code",
        "colab": {}
      },
      "source": [
        "import os\n",
        "os.chdir(\"Semi-supervised-Learning-with-VAE\")"
      ],
      "execution_count": 0,
      "outputs": []
    },
    {
      "cell_type": "code",
      "metadata": {
        "id": "IsRdYWjMeGXD",
        "colab_type": "code",
        "colab": {}
      },
      "source": [
        "import time\n",
        "\n",
        "import numpy as np\n",
        "import torch\n",
        "\n",
        "import torch.nn as nn\n",
        "import torch.nn.functional as F\n",
        "\n",
        "import pyro\n",
        "import pyro.distributions as dist\n",
        "import pyro.contrib.examples.util  # patches torchvision\n",
        "\n",
        "from pyro.infer import SVI, JitTrace_ELBO, JitTraceEnum_ELBO, Trace_ELBO, TraceEnum_ELBO, config_enumerate\n",
        "from pyro.optim import Adam\n",
        "\n",
        "import matplotlib.pyplot as plt"
      ],
      "execution_count": 0,
      "outputs": []
    },
    {
      "cell_type": "code",
      "metadata": {
        "id": "3T5yj7HneGZi",
        "colab_type": "code",
        "colab": {}
      },
      "source": [
        "from utils.inception import Inception, InceptionBlock, correct_sizes\n",
        "from utils import layers"
      ],
      "execution_count": 0,
      "outputs": []
    },
    {
      "cell_type": "code",
      "metadata": {
        "id": "9AMXRpfVeGb_",
        "colab_type": "code",
        "colab": {}
      },
      "source": [
        "from utils.datasets import SupervisedDataset\n",
        "from utils.utils import One_Hot"
      ],
      "execution_count": 0,
      "outputs": []
    },
    {
      "cell_type": "code",
      "metadata": {
        "id": "ujF47fbFeGed",
        "colab_type": "code",
        "colab": {}
      },
      "source": [
        "from sklearn.model_selection import train_test_split\n",
        "from sklearn.preprocessing import RobustScaler, StandardScaler\n",
        "from sklearn.metrics import confusion_matrix, accuracy_score, f1_score\n",
        "\n",
        "from utils.layers import Reshape, Flatten\n",
        "import utils.datasets as d"
      ],
      "execution_count": 0,
      "outputs": []
    },
    {
      "cell_type": "code",
      "metadata": {
        "id": "b8VTb33neGhJ",
        "colab_type": "code",
        "colab": {}
      },
      "source": [
        "class VariationalLayer(nn.Module):\n",
        "    \"\"\"\n",
        "    Variational Layer with reparametrization trick. \n",
        "    It's used as bottleneck of Variational AutoEncoder ie. output of encoder.\n",
        "\n",
        "    \"Linear layer for variational inference with reparametrization trick\"\n",
        "    \"\"\"\n",
        "    def __init__(self, in_features, out_features, bias=True):\n",
        "        \"\"\"\t\n",
        "        : param in_features: \t\tNumber of input features (number of neurons on input)\n",
        "        : param out_features:\t\tNumber of output features (number of neurons on output)\n",
        "        : param bias:\t\t\t\tInclude bias - True/False\n",
        "        \"\"\"\n",
        "        super(VariationalLayer, self).__init__()\n",
        "        self.mu = nn.Linear(in_features=in_features, out_features=out_features, bias=bias)\n",
        "        self.rho = nn.Linear(in_features=in_features, out_features=out_features, bias=bias)\n",
        "        self.softplus = nn.Softplus()\n",
        "\n",
        "    def forward(self, x_in):\n",
        "        mu = self.mu(x_in)\n",
        "        sigma = self.softplus(self.rho(x_in))\n",
        "        return mu, sigma"
      ],
      "execution_count": 0,
      "outputs": []
    },
    {
      "cell_type": "code",
      "metadata": {
        "id": "00FwQrFfeGje",
        "colab_type": "code",
        "colab": {}
      },
      "source": [
        "class ConvTransposeDecoderOutput(nn.Module):\n",
        "    def __init__(self, in_channels, in_features, out_features, kernel_size, stride=1, padding=0, bias=True):\n",
        "        super(ConvTransposeDecoderOutput, self).__init__()\n",
        "        self.mu = nn.ConvTranspose1d(\n",
        "                in_channels=in_channels, \n",
        "                out_channels=1, \n",
        "                kernel_size=kernel_size, \n",
        "                stride=stride, \n",
        "                padding=padding\n",
        "            )\n",
        "        self.rho = nn.Linear(in_features=in_features, out_features=1, bias=bias)\n",
        "        self.flatten = Flatten(out_features=in_features)\n",
        "        self.flatten_mu = Flatten(out_features=out_features)\n",
        "        self.softplus = nn.Softplus()\n",
        "\n",
        "    def forward(self, x_in):\n",
        "        \"\"\"\n",
        "        x must be shape ... (-1, in_channels, size)\n",
        "        \"\"\"\n",
        "        mu = self.mu(x_in)\n",
        "        x = self.flatten(x_in)\n",
        "        sigma = self.softplus(self.rho(x))\n",
        "        return self.flatten_mu(mu), sigma"
      ],
      "execution_count": 0,
      "outputs": []
    },
    {
      "cell_type": "code",
      "metadata": {
        "id": "VdFs2oTygccn",
        "colab_type": "code",
        "colab": {}
      },
      "source": [
        "class Encoder(nn.Module):\n",
        "    def __init__(self):\n",
        "        super(Encoder, self).__init__()\n",
        "        self.first_part =  nn.Sequential(\n",
        "                Reshape(out_shape=(1, 160)),\n",
        "                nn.Conv1d(in_channels=1, out_channels=16, kernel_size=6, stride=2, padding=0, bias=False), # n*1*160 -> n*16*78\n",
        "                nn.PReLU(),\n",
        "                nn.Conv1d(in_channels=16, out_channels=32, kernel_size=4, stride=2, bias=False),#n*16*78->n*32*38\n",
        "                nn.BatchNorm1d(num_features=32),\n",
        "                nn.PReLU(),\n",
        "                nn.Conv1d(in_channels=32, out_channels=64, kernel_size=4, stride=2, bias=False),#n*32*38->n*64*18\n",
        "                nn.BatchNorm1d(num_features=64),\n",
        "                nn.PReLU(),\n",
        "                Flatten(out_features=64*18))\n",
        "        self.fc = nn.Linear(in_features=64*18+4, out_features=256)\n",
        "        self.act = nn.PReLU()\n",
        "        self.out = VariationalLayer(in_features=256, out_features=15)\n",
        "        \n",
        "    def forward(self, x,y):\n",
        "        z = self.first_part(x)\n",
        "        z = torch.cat([z,y], axis=1)\n",
        "        z = self.act(self.fc(z))\n",
        "        return self.out(z)"
      ],
      "execution_count": 0,
      "outputs": []
    },
    {
      "cell_type": "code",
      "metadata": {
        "id": "s-yqEMpSgcfR",
        "colab_type": "code",
        "colab": {}
      },
      "source": [
        "\n",
        "decoder = nn.Sequential(\n",
        "    nn.Linear(in_features=15+4, out_features=256),\n",
        "    nn.PReLU(),\n",
        "    nn.Linear(in_features=256, out_features=64*18),\n",
        "    Reshape(out_shape=(64,18)),\n",
        "    nn.BatchNorm1d(num_features=64),\n",
        "    nn.PReLU(),\n",
        "    nn.ConvTranspose1d(in_channels=64, out_channels=32, kernel_size=4, stride=2, padding=0),\n",
        "    nn.BatchNorm1d(num_features=32),\n",
        "    nn.PReLU(),\n",
        "    nn.ConvTranspose1d(in_channels=32, out_channels=16, kernel_size=4, stride=2, padding=0),\n",
        "    #nn.BatchNorm1d(num_features=16),\n",
        "    nn.PReLU(),\n",
        "    ConvTransposeDecoderOutput(\n",
        "        in_channels=16,\n",
        "        in_features=16*78,\n",
        "        out_features=160, \n",
        "        kernel_size=6, \n",
        "        stride=2\n",
        "        )\n",
        "    )"
      ],
      "execution_count": 0,
      "outputs": []
    },
    {
      "cell_type": "code",
      "metadata": {
        "id": "jakI5d4vLEoP",
        "colab_type": "code",
        "colab": {}
      },
      "source": [
        "class LinAct(nn.Module):\n",
        "    def __init__(self):\n",
        "        super(LinAct, self).__init__()\n",
        "\n",
        "    def forward(self, x):\n",
        "        return x"
      ],
      "execution_count": 0,
      "outputs": []
    },
    {
      "cell_type": "code",
      "metadata": {
        "id": "4aoMVZNSgclj",
        "colab_type": "code",
        "colab": {}
      },
      "source": [
        "class CRNN_mII(nn.Module):\n",
        "    def __init__(self, n_filters, kernel_sizes, rnn_out, bottleneck=1, sequence_len=160, bidirectional=True, activation=nn.Sigmoid()):\n",
        "        super(CRNN_mII, self).__init__()\n",
        "        self.sequence_len = sequence_len\n",
        "        # conv wants (batch, channel, length)\n",
        "        self.reshape_to_inception = layers.Reshape(out_shape=(1, self.sequence_len))\n",
        "        #self.reshape_from_lstm = layers.Reshape(out_shape=(rnn_out*(2**bidirectional)*sequence_len))\n",
        "        self.inception = Inception(\n",
        "                in_channels=1, \n",
        "                n_filters=32, \n",
        "                kernel_sizes=[5, 11, 23],\n",
        "                bottleneck_channels=32,\n",
        "                activation=nn.ReLU()\n",
        "            )\n",
        "        # RNN wants #(batch, seq, feature)\n",
        "        self.rnn1 = nn.LSTM(\n",
        "            input_size=n_filters*4,\n",
        "            hidden_size=rnn_out,\n",
        "            num_layers=1,\n",
        "            batch_first=True,\n",
        "            bidirectional=bidirectional\n",
        "        )\n",
        "        self.rnn2 = nn.LSTM(\n",
        "            input_size=rnn_out*(2**bidirectional),\n",
        "            hidden_size=rnn_out,\n",
        "            num_layers=1,\n",
        "            batch_first=True,\n",
        "            bidirectional=bidirectional\n",
        "        )\n",
        "        #self.pool = nn.AdaptiveAvgPool1d(output_size=1)\n",
        "        self.fc_on_rnn = nn.Linear(in_features=rnn_out*(2**bidirectional), out_features=bottleneck)\n",
        "        #self.fc_on_rnn = nn.Linear(in_features=rnn_out*(2**bidirectional)*sequence_len, out_features=128)\n",
        "        self.flatten = layers.Flatten(out_features=self.sequence_len*bottleneck)\n",
        "        self.fc = nn.Linear(in_features=self.sequence_len*bottleneck, out_features=4)\n",
        "        self.activation = activation\n",
        "        self.softmax = nn.Softmax(dim=1)\n",
        "\n",
        "    def forward(self, x_in):\n",
        "        x = self.reshape_to_inception(x_in)\n",
        "        x = self.inception(x)\n",
        "        #print(x.shape)\n",
        "        x = x.permute(0,2,1)\n",
        "        #print(x.shape)\n",
        "        x, (h, c) = self.rnn1(x)\n",
        "        x, (h, c) = self.rnn2(x)\n",
        "        #print(x.shape)\n",
        "        #x = self.pool(x)\n",
        "        x = self.fc_on_rnn(x)\n",
        "        #print(x.shape)\n",
        "        x = self.flatten(x)\n",
        "        x = self.activation(x)\n",
        "        #print(x.shape)\n",
        "        return self.softmax(self.fc(x))"
      ],
      "execution_count": 0,
      "outputs": []
    },
    {
      "cell_type": "code",
      "metadata": {
        "id": "DA7YkHHhgcof",
        "colab_type": "code",
        "colab": {}
      },
      "source": [
        "clf = CRNN_mII(n_filters=32, kernel_sizes=[5,11,23], rnn_out=100, activation=LinAct())"
      ],
      "execution_count": 0,
      "outputs": []
    },
    {
      "cell_type": "code",
      "metadata": {
        "id": "Md_xb2geg0h8",
        "colab_type": "code",
        "colab": {}
      },
      "source": [
        "class SSVAE(nn.Module):\n",
        "    \"\"\"\n",
        "    This class encapsulates the parameters (neural networks) and models & guides needed to train a\n",
        "    semi-supervised variational auto-encoder on the MNIST image dataset\n",
        "    :param output_size: size of the tensor representing the class label (10 for MNIST since\n",
        "                        we represent the class labels as a one-hot vector with 10 components)\n",
        "    :param input_size: size of the tensor representing the image (28*28 = 784 for our MNIST dataset\n",
        "                       since we flatten the images and scale the pixels to be in [0,1])\n",
        "    :param z_dim: size of the tensor representing the latent random variable z\n",
        "                  (handwriting style for our MNIST dataset)\n",
        "    :param hidden_layers: a tuple (or list) of MLP layers to be used in the neural networks\n",
        "                          representing the parameters of the distributions in our model\n",
        "    :param use_cuda: use GPUs for faster training\n",
        "    :param aux_loss_multiplier: the multiplier to use with the auxiliary loss\n",
        "    \"\"\"\n",
        "    def __init__(self, config_enum=None, use_cuda=False, aux_loss_multiplier=None):\n",
        "\n",
        "        super().__init__()\n",
        "\n",
        "        # initialize the class with all arguments provided to the constructor\n",
        "        self.output_size = 4\n",
        "        self.z_dim = 15\n",
        "        self.allow_broadcast = config_enum == 'parallel'\n",
        "        self.use_cuda = use_cuda\n",
        "        self.aux_loss_multiplier = aux_loss_multiplier\n",
        "\n",
        "        # define and instantiate the neural networks representing\n",
        "        # the paramters of various distributions in the model\n",
        "        self.setup_networks()\n",
        "\n",
        "    def setup_networks(self):\n",
        "\n",
        "        self.encoder_y = clf\n",
        "\n",
        "        self.encoder_z = Encoder()\n",
        "\n",
        "        self.decoder = decoder\n",
        "\n",
        "        if self.use_cuda:\n",
        "            self.cuda()\n",
        "\n",
        "    def model(self, xs, ys=None):\n",
        "        \"\"\"\n",
        "        The model corresponds to the following generative process:\n",
        "        p(z) = normal(0,I)              # handwriting style (latent)\n",
        "        p(y|x) = categorical(I/10.)     # which digit (semi-supervised)\n",
        "        p(x|y,z) = bernoulli(loc(y,z))   # an image\n",
        "        loc is given by a neural network  `decoder`\n",
        "        :param xs: a batch of scaled vectors of pixels from an image\n",
        "        :param ys: (optional) a batch of the class labels i.e.\n",
        "                   the digit corresponding to the image(s)\n",
        "        :return: None\n",
        "        \"\"\"\n",
        "        # register this pytorch module and all of its sub-modules with pyro\n",
        "        pyro.module(\"ss_vae\", self)\n",
        "\n",
        "        batch_size = xs.size(0)\n",
        "        options = dict(dtype=xs.dtype, device=xs.device)\n",
        "        with pyro.plate(\"data\"):\n",
        "\n",
        "            # sample the handwriting style from the constant prior distribution\n",
        "            prior_loc = torch.zeros(batch_size, self.z_dim, **options)\n",
        "            prior_scale = torch.ones(batch_size, self.z_dim, **options)\n",
        "            zs = pyro.sample(\"z\", dist.Normal(prior_loc, prior_scale).to_event(1))\n",
        "\n",
        "            # if the label y (which digit to write) is supervised, sample from the\n",
        "            # constant prior, otherwise, observe the value (i.e. score it against the constant prior)\n",
        "            alpha_prior = torch.ones(batch_size, self.output_size, **options) / (1.0 * self.output_size)\n",
        "            ys = pyro.sample(\"y\", dist.OneHotCategorical(alpha_prior), obs=ys)\n",
        "\n",
        "            # finally, score the image (x) using the handwriting style (z) and\n",
        "            # the class label y (which digit to write) against the\n",
        "            # parametrized distribution p(x|y,z) = bernoulli(decoder(y,z))\n",
        "            # where `decoder` is a neural network\n",
        "            mu, sigma = self.decoder(torch.cat([zs, ys], axis=1))\n",
        "            #mu = self.decoder(torch.cat([zs, ys], axis=1))\n",
        "            #pyro.sample(\"x\", dist.Normal(mu,torch.ones((mu.shape[0],1)).cuda()).to_event(1), obs=xs)\n",
        "            pyro.sample(\"x\", dist.Normal(mu,sigma).to_event(1), obs=xs)\n",
        "            # return the loc so we can visualize it later\n",
        "            return mu\n",
        "\n",
        "    def guide(self, xs, ys=None):\n",
        "        \"\"\"\n",
        "        The guide corresponds to the following:\n",
        "        q(y|x) = categorical(alpha(x))              # infer digit from an image\n",
        "        q(z|x,y) = normal(loc(x,y),scale(x,y))       # infer handwriting style from an image and the digit\n",
        "        loc, scale are given by a neural network `encoder_z`\n",
        "        alpha is given by a neural network `encoder_y`\n",
        "        :param xs: a batch of scaled vectors of pixels from an image\n",
        "        :param ys: (optional) a batch of the class labels i.e.\n",
        "                   the digit corresponding to the image(s)\n",
        "        :return: None\n",
        "        \"\"\"\n",
        "        # inform Pyro that the variables in the batch of xs, ys are conditionally independent\n",
        "        with pyro.plate(\"data\"):\n",
        "\n",
        "            # if the class label (the digit) is not supervised, sample\n",
        "            # (and score) the digit with the variational distribution\n",
        "            # q(y|x) = categorical(alpha(x))\n",
        "            if ys is None:\n",
        "                alpha = self.encoder_y(xs)\n",
        "                ys = pyro.sample(\"y\", dist.OneHotCategorical(alpha))\n",
        "\n",
        "            # sample (and score) the latent handwriting-style with the variational\n",
        "            # distribution q(z|x,y) = normal(loc(x,y),scale(x,y))\n",
        "            loc, scale = self.encoder_z(xs, ys)\n",
        "            pyro.sample(\"z\", dist.Normal(loc, scale).to_event(1))\n",
        "\n",
        "    def classifier(self, xs):\n",
        "        \"\"\"\n",
        "        classify an image (or a batch of images)\n",
        "        :param xs: a batch of scaled vectors of pixels from an image\n",
        "        :return: a batch of the corresponding class labels (as one-hots)\n",
        "        \"\"\"\n",
        "        # use the trained model q(y|x) = categorical(alpha(x))\n",
        "        # compute all class probabilities for the image(s)\n",
        "        alpha = self.encoder_y(xs)\n",
        "\n",
        "        # get the index (digit) that corresponds to\n",
        "        # the maximum predicted class probability\n",
        "        res, ind = torch.topk(alpha, 1)\n",
        "\n",
        "        # convert the digit(s) to one-hot tensor(s)\n",
        "        ys = torch.zeros_like(alpha).scatter_(1, ind, 1.0)\n",
        "        return ys\n",
        "\n",
        "    def model_classify(self, xs, ys=None):\n",
        "        \"\"\"\n",
        "        this model is used to add an auxiliary (supervised) loss as described in the\n",
        "        Kingma et al., \"Semi-Supervised Learning with Deep Generative Models\".\n",
        "        \"\"\"\n",
        "        # register all pytorch (sub)modules with pyro\n",
        "        pyro.module(\"ss_vae\", self)\n",
        "\n",
        "        # inform Pyro that the variables in the batch of xs, ys are conditionally independent\n",
        "        with pyro.plate(\"data\"):\n",
        "            # this here is the extra term to yield an auxiliary loss that we do gradient descent on\n",
        "            if ys is not None:\n",
        "                alpha = self.encoder_y.forward(xs)\n",
        "                with pyro.poutine.scale(scale=self.aux_loss_multiplier):\n",
        "                    pyro.sample(\"y_aux\", dist.OneHotCategorical(alpha), obs=ys)\n",
        "\n",
        "    def guide_classify(self, xs, ys=None):\n",
        "        \"\"\"\n",
        "        dummy guide function to accompany model_classify in inference\n",
        "        \"\"\"\n",
        "        pass"
      ],
      "execution_count": 0,
      "outputs": []
    },
    {
      "cell_type": "code",
      "metadata": {
        "id": "VDptyP9Bg0lc",
        "colab_type": "code",
        "colab": {}
      },
      "source": [
        "def get_accuracy(data_loader, clf):\n",
        "    \"\"\"\n",
        "        clf ... ssvae.classifier()\n",
        "    \"\"\"\n",
        "    dataloader_len = len(data_loader)\n",
        "    acc = 0\n",
        "    with torch.no_grad():\n",
        "        for (xs, ys) in data_loader:\n",
        "            xs = xs.cuda()\n",
        "            pred = clf(xs)\n",
        "            acc += accuracy_score(np.argmax(pred.cpu().detach().numpy(), axis=1) , np.argmax(ys.numpy(),axis=1))\n",
        "    return acc/dataloader_len"
      ],
      "execution_count": 0,
      "outputs": []
    },
    {
      "cell_type": "code",
      "metadata": {
        "id": "hF7digEHg0p-",
        "colab_type": "code",
        "colab": {}
      },
      "source": [
        "def run_inference_for_epoch(data_loaders, losses):\n",
        "    \"\"\"\n",
        "        thanks to random sampler supervised and unsupervised datasets have the same length\n",
        "\n",
        "        two losses -> [ ELBO , -E(q(y|x)) ]\n",
        "    \"\"\"\n",
        "    num_losses = len(losses) \n",
        "\n",
        "    epoch_losses_sup = [0.] * num_losses\n",
        "    epoch_losses_unsup = [0.] * num_losses\n",
        "\n",
        "    sup_iter = iter(data_loaders[\"sup\"])\n",
        "    unsup_iter = iter(data_loaders[\"unsup\"])\n",
        "    \n",
        "    #model.train()\n",
        "    for batch_idx  in range(len(data_loaders[\"unsup\"])):\n",
        "        \n",
        "        # supervised flow\n",
        "        (xs, ys) = next(sup_iter)\n",
        "        for loss_id in range(num_losses):\n",
        "            # evaluating (tracing) losses and optimizer step \n",
        "            new_loss = losses[loss_id].step(xs.cuda(), ys.cuda())\n",
        "            # saving losses \n",
        "            epoch_losses_sup[loss_id] += new_loss\n",
        "        \n",
        "\n",
        "        # unsupervised flow\n",
        "        xs = next(unsup_iter)\n",
        "        for loss_id in range(num_losses):\n",
        "            # evaluating (tracing) losses and optimizer step \n",
        "            new_loss = losses[loss_id].step(xs.cuda())\n",
        "            # saving losses\n",
        "            epoch_losses_unsup[loss_id] += new_loss\n",
        "\n",
        "            \n",
        "    return epoch_losses_sup, epoch_losses_unsup"
      ],
      "execution_count": 0,
      "outputs": []
    },
    {
      "cell_type": "markdown",
      "metadata": {
        "id": "1kFNmztgg_z1",
        "colab_type": "text"
      },
      "source": [
        "# Get Data"
      ]
    },
    {
      "cell_type": "code",
      "metadata": {
        "id": "VtyeYXSXg0tV",
        "colab_type": "code",
        "colab": {}
      },
      "source": [
        "X_s = np.vstack((np.load(\"data/sequenced_data_for_VAE_length-160_stride-10_pt1.npy\"),\n",
        "               np.load(\"data/sequenced_data_for_VAE_length-160_stride-10_pt2.npy\")))\n",
        "y_s = np.load(\"data/sequenced_data_for_VAE_length-160_stride-10_targets.npy\")"
      ],
      "execution_count": 0,
      "outputs": []
    },
    {
      "cell_type": "code",
      "metadata": {
        "id": "VNy00mx6g8VZ",
        "colab_type": "code",
        "colab": {}
      },
      "source": [
        "X_u = np.vstack((np.load(\"data/unlabeled_sequences_part_1.npy\"), np.load(\"data/unlabeled_sequences_part_2.npy\")))"
      ],
      "execution_count": 0,
      "outputs": []
    },
    {
      "cell_type": "code",
      "metadata": {
        "id": "5xqelRgwg8YV",
        "colab_type": "code",
        "colab": {}
      },
      "source": [
        "X_train, X_test, y_train, y_test = train_test_split(np.array(X_s), np.array(y_s), test_size=0.2, random_state=666)"
      ],
      "execution_count": 0,
      "outputs": []
    },
    {
      "cell_type": "code",
      "metadata": {
        "id": "WDgjmE_rg8a0",
        "colab_type": "code",
        "colab": {}
      },
      "source": [
        "scaler = RobustScaler()\n",
        "scaler.fit(np.vstack((np.array(X_s),np.array(X_u))))\n",
        "\n",
        "X_sup= scaler.transform(X_train)\n",
        "X_unsup = scaler.transform(np.array(X_u))\n",
        "X_test = scaler.transform(X_test)"
      ],
      "execution_count": 0,
      "outputs": []
    },
    {
      "cell_type": "markdown",
      "metadata": {
        "id": "0TKCWKZnhJPO",
        "colab_type": "text"
      },
      "source": [
        "# Defining model and inference\n"
      ]
    },
    {
      "cell_type": "code",
      "metadata": {
        "id": "XtcZ1Ci8g8dn",
        "colab_type": "code",
        "colab": {}
      },
      "source": [
        "ss_vae = SSVAE(config_enum=\"parallel\", use_cuda=True, aux_loss_multiplier=0.1*66944)# pyro exaples suggests 46 for MNIST"
      ],
      "execution_count": 0,
      "outputs": []
    },
    {
      "cell_type": "code",
      "metadata": {
        "id": "0mV094SQg0wF",
        "colab_type": "code",
        "colab": {}
      },
      "source": [
        "adam_params = {\"lr\": 0.0001}\n",
        "optimizer = Adam(adam_params)"
      ],
      "execution_count": 0,
      "outputs": []
    },
    {
      "cell_type": "code",
      "metadata": {
        "id": "uDixtKiAg028",
        "colab_type": "code",
        "colab": {}
      },
      "source": [
        "guide = config_enumerate(ss_vae.guide, \"sequential\", expand=True) #config_enumerate(ss_vae.guide, \"parallel\", expand=True)\n",
        "elbo = TraceEnum_ELBO(max_plate_nesting=1) #JitTraceEnum_ELBO\n",
        "loss_basic = SVI(ss_vae.model, guide, optimizer, loss=elbo)"
      ],
      "execution_count": 0,
      "outputs": []
    },
    {
      "cell_type": "code",
      "metadata": {
        "id": "_ADokxJfiHpO",
        "colab_type": "code",
        "colab": {}
      },
      "source": [
        "losses = [loss_basic]"
      ],
      "execution_count": 0,
      "outputs": []
    },
    {
      "cell_type": "code",
      "metadata": {
        "id": "ONP6SIeMiHsa",
        "colab_type": "code",
        "colab": {}
      },
      "source": [
        "elbo = Trace_ELBO()\n",
        "loss_aux = SVI(ss_vae.model_classify, ss_vae.guide_classify, optimizer, loss=elbo)\n",
        "losses.append(loss_aux)"
      ],
      "execution_count": 0,
      "outputs": []
    },
    {
      "cell_type": "markdown",
      "metadata": {
        "id": "O4h7qaLCiOno",
        "colab_type": "text"
      },
      "source": [
        "# Training\n"
      ]
    },
    {
      "cell_type": "code",
      "metadata": {
        "id": "JXgkx91jiH0N",
        "colab_type": "code",
        "colab": {}
      },
      "source": [
        "sup_num = X_unsup.shape[0]\n",
        "unsup_num = X_unsup.shape[0]\n",
        "best_valid_acc, corresponding_test_acc = 0.0, 0.0"
      ],
      "execution_count": 0,
      "outputs": []
    },
    {
      "cell_type": "code",
      "metadata": {
        "id": "XTlsXCpXiH4l",
        "colab_type": "code",
        "colab": {}
      },
      "source": [
        "batch_size = 512"
      ],
      "execution_count": 0,
      "outputs": []
    },
    {
      "cell_type": "code",
      "metadata": {
        "id": "6_bgBUqKiH_k",
        "colab_type": "code",
        "colab": {}
      },
      "source": [
        "sup = d.SupervisedDataset(X_sup, One_Hot(4)(y_train))\n",
        "test = d.SupervisedDataset(X_test, One_Hot(4)(y_test))"
      ],
      "execution_count": 0,
      "outputs": []
    },
    {
      "cell_type": "code",
      "metadata": {
        "id": "_mPdwjOLiH9b",
        "colab_type": "code",
        "colab": {}
      },
      "source": [
        "data_loaders = {}\n",
        "data_loaders[\"sup\"] = torch.utils.data.DataLoader(\n",
        "                            dataset=sup,\n",
        "                            batch_size=batch_size, \n",
        "                            shuffle=False, \n",
        "                            sampler=torch.utils.data.RandomSampler(\n",
        "                                sup, \n",
        "                                replacement=True,\n",
        "                                num_samples=X_unsup.shape[0]\n",
        "                                )\n",
        "                            )\n",
        "data_loaders[\"unsup\"] = torch.utils.data.DataLoader(\n",
        "                            dataset=torch.tensor(X_unsup).float(), \n",
        "                            batch_size=batch_size, \n",
        "                            shuffle=False, \n",
        "                            sampler=torch.utils.data.RandomSampler(\n",
        "                                X_unsup, \n",
        "                                replacement=False\n",
        "                                )\n",
        ")\n",
        "#data_loaders[\"valid\"] = torch.utils.data.DataLoader(SupervisedDataset(X_train[-5000:].view(-1, 1,28,28), y_train[-5000:]), \n",
        "#                                                  batch_size=batch_size)\n",
        "data_loaders[\"test\"] = torch.utils.data.DataLoader(test, batch_size=batch_size)"
      ],
      "execution_count": 0,
      "outputs": []
    },
    {
      "cell_type": "code",
      "metadata": {
        "id": "KSnoCnpriH8F",
        "colab_type": "code",
        "colab": {}
      },
      "source": [
        "sup_loss, unsup_loss, clf_loss, test_acc = [],[],[],[]"
      ],
      "execution_count": 0,
      "outputs": []
    },
    {
      "cell_type": "code",
      "metadata": {
        "id": "cgrQ1AWSiH26",
        "colab_type": "code",
        "colab": {}
      },
      "source": [
        "n_epochs = 75"
      ],
      "execution_count": 0,
      "outputs": []
    },
    {
      "cell_type": "code",
      "metadata": {
        "id": "bvz84dVqiHyQ",
        "colab_type": "code",
        "outputId": "8e927354-179b-4393-c3c6-b479fdc9bbc5",
        "colab": {
          "base_uri": "https://localhost:8080/",
          "height": 1000
        }
      },
      "source": [
        "for i in range(0,n_epochs): # 10 epochs for start\n",
        "    start = time.time()\n",
        "    epoch_sup_loss, epoch_unsup_loss = run_inference_for_epoch(data_loaders, losses)\n",
        "\n",
        "    sup_loss.append(epoch_sup_loss[0]/sup_num)\n",
        "    clf_loss.append(epoch_sup_loss[1]/sup_num)\n",
        "    unsup_loss.append(epoch_unsup_loss[0]/unsup_num)\n",
        "\n",
        "    test_accuracy = get_accuracy(data_loaders[\"test\"], ss_vae.encoder_y)\n",
        "    test_acc.append(test_accuracy)\n",
        "\n",
        "    \n",
        "    print(\"Epoch [{}/{}], time {:.2f}s, sup_loss:{:.4f}, sup_clf_loss:{:.4f}, unsup_loss:{:.4f}, test_accuracy:{:.4f}\"\\\n",
        "          .format(i+1, n_epochs, time.time()-start, sup_loss[-1], clf_loss[-1], unsup_loss[-1], test_accuracy))"
      ],
      "execution_count": 34,
      "outputs": [
        {
          "output_type": "stream",
          "text": [
            "Epoch [1/75], time 173.33s, sup_loss:-10.4653, sup_clf_loss:5267.0400, unsup_loss:-36.3771, test_accuracy:0.7718\n",
            "Epoch [2/75], time 173.04s, sup_loss:-91.5568, sup_clf_loss:3522.2026, unsup_loss:-119.0980, test_accuracy:0.8074\n",
            "Epoch [3/75], time 174.13s, sup_loss:-122.2815, sup_clf_loss:2892.4831, unsup_loss:-146.6298, test_accuracy:0.8623\n",
            "Epoch [4/75], time 173.78s, sup_loss:-140.7324, sup_clf_loss:2532.4265, unsup_loss:-165.9537, test_accuracy:0.8735\n",
            "Epoch [5/75], time 173.81s, sup_loss:-152.5745, sup_clf_loss:2607.8311, unsup_loss:-173.5812, test_accuracy:0.8768\n",
            "Epoch [6/75], time 174.13s, sup_loss:-158.9701, sup_clf_loss:2241.2897, unsup_loss:-182.8030, test_accuracy:0.8592\n",
            "Epoch [7/75], time 173.90s, sup_loss:-166.0893, sup_clf_loss:2132.4863, unsup_loss:-185.3186, test_accuracy:0.8928\n",
            "Epoch [8/75], time 174.01s, sup_loss:-166.5232, sup_clf_loss:2021.3520, unsup_loss:-192.5074, test_accuracy:0.8999\n",
            "Epoch [9/75], time 173.92s, sup_loss:-170.8028, sup_clf_loss:1959.1025, unsup_loss:-196.2364, test_accuracy:0.8950\n",
            "Epoch [10/75], time 174.11s, sup_loss:-177.1329, sup_clf_loss:1949.1525, unsup_loss:-199.1720, test_accuracy:0.8722\n",
            "Epoch [11/75], time 173.96s, sup_loss:-173.3857, sup_clf_loss:1902.1326, unsup_loss:-199.3788, test_accuracy:0.9047\n",
            "Epoch [12/75], time 174.25s, sup_loss:-177.6640, sup_clf_loss:1863.9324, unsup_loss:-201.4460, test_accuracy:0.8916\n",
            "Epoch [13/75], time 173.68s, sup_loss:-183.8194, sup_clf_loss:1781.0269, unsup_loss:-208.0482, test_accuracy:0.9050\n",
            "Epoch [14/75], time 174.10s, sup_loss:-183.7179, sup_clf_loss:1785.1572, unsup_loss:-205.9434, test_accuracy:0.8911\n",
            "Epoch [15/75], time 173.65s, sup_loss:-186.6805, sup_clf_loss:1787.9344, unsup_loss:-209.4595, test_accuracy:0.9028\n",
            "Epoch [16/75], time 173.74s, sup_loss:-186.1543, sup_clf_loss:1734.1507, unsup_loss:-210.1938, test_accuracy:0.9061\n",
            "Epoch [17/75], time 173.48s, sup_loss:-190.4092, sup_clf_loss:1730.3937, unsup_loss:-210.4173, test_accuracy:0.9080\n",
            "Epoch [18/75], time 173.54s, sup_loss:-185.6733, sup_clf_loss:1702.2520, unsup_loss:-211.3781, test_accuracy:0.9099\n",
            "Epoch [19/75], time 173.62s, sup_loss:-187.9521, sup_clf_loss:1718.2282, unsup_loss:-210.1881, test_accuracy:0.9016\n",
            "Epoch [20/75], time 174.12s, sup_loss:-193.2948, sup_clf_loss:1635.5821, unsup_loss:-215.4637, test_accuracy:0.9143\n",
            "Epoch [21/75], time 173.82s, sup_loss:-190.9698, sup_clf_loss:1601.8767, unsup_loss:-214.9828, test_accuracy:0.9112\n",
            "Epoch [22/75], time 173.69s, sup_loss:-196.0321, sup_clf_loss:1598.9757, unsup_loss:-215.9341, test_accuracy:0.9055\n",
            "Epoch [23/75], time 173.71s, sup_loss:-193.5394, sup_clf_loss:1595.3031, unsup_loss:-215.8341, test_accuracy:0.8955\n",
            "Epoch [24/75], time 173.90s, sup_loss:-194.3398, sup_clf_loss:1590.0791, unsup_loss:-219.7132, test_accuracy:0.9145\n",
            "Epoch [25/75], time 173.78s, sup_loss:-198.1270, sup_clf_loss:1566.6977, unsup_loss:-221.4580, test_accuracy:0.9073\n",
            "Epoch [26/75], time 173.70s, sup_loss:-199.1607, sup_clf_loss:1514.4537, unsup_loss:-221.4475, test_accuracy:0.9150\n",
            "Epoch [27/75], time 173.68s, sup_loss:-200.3336, sup_clf_loss:1508.2308, unsup_loss:-226.6826, test_accuracy:0.9076\n",
            "Epoch [28/75], time 173.72s, sup_loss:-204.0705, sup_clf_loss:1507.4686, unsup_loss:-225.4376, test_accuracy:0.9177\n",
            "Epoch [29/75], time 173.74s, sup_loss:-201.8797, sup_clf_loss:1489.8996, unsup_loss:-224.9607, test_accuracy:0.9031\n",
            "Epoch [30/75], time 174.08s, sup_loss:-201.9341, sup_clf_loss:1497.0818, unsup_loss:-225.8298, test_accuracy:0.9064\n",
            "Epoch [31/75], time 174.36s, sup_loss:-205.1614, sup_clf_loss:1463.3568, unsup_loss:-229.2571, test_accuracy:0.9161\n",
            "Epoch [32/75], time 174.00s, sup_loss:-203.5166, sup_clf_loss:1452.3577, unsup_loss:-226.5479, test_accuracy:0.9160\n",
            "Epoch [33/75], time 174.14s, sup_loss:-204.5867, sup_clf_loss:1460.4363, unsup_loss:-226.5762, test_accuracy:0.9131\n",
            "Epoch [34/75], time 174.04s, sup_loss:-202.8451, sup_clf_loss:1402.7690, unsup_loss:-228.6769, test_accuracy:0.9182\n",
            "Epoch [35/75], time 173.75s, sup_loss:-204.2692, sup_clf_loss:1416.8861, unsup_loss:-228.1468, test_accuracy:0.9181\n",
            "Epoch [36/75], time 174.09s, sup_loss:-207.2403, sup_clf_loss:1388.5196, unsup_loss:-230.5959, test_accuracy:0.9023\n",
            "Epoch [37/75], time 173.87s, sup_loss:-203.7041, sup_clf_loss:1382.6408, unsup_loss:-228.4548, test_accuracy:0.9221\n",
            "Epoch [38/75], time 173.78s, sup_loss:-209.3387, sup_clf_loss:1371.2386, unsup_loss:-231.7237, test_accuracy:0.9052\n",
            "Epoch [39/75], time 173.96s, sup_loss:-207.4203, sup_clf_loss:1365.4989, unsup_loss:-230.3723, test_accuracy:0.9243\n",
            "Epoch [40/75], time 174.27s, sup_loss:-206.9578, sup_clf_loss:1351.3943, unsup_loss:-228.5123, test_accuracy:0.9103\n",
            "Epoch [41/75], time 173.99s, sup_loss:-209.7403, sup_clf_loss:1323.2164, unsup_loss:-234.1536, test_accuracy:0.8880\n",
            "Epoch [42/75], time 174.29s, sup_loss:-204.5374, sup_clf_loss:1326.0555, unsup_loss:-233.8285, test_accuracy:0.9191\n",
            "Epoch [43/75], time 174.56s, sup_loss:-210.7847, sup_clf_loss:1340.5620, unsup_loss:-230.9896, test_accuracy:0.9247\n",
            "Epoch [44/75], time 174.37s, sup_loss:-207.9887, sup_clf_loss:1303.5359, unsup_loss:-232.5099, test_accuracy:0.9141\n",
            "Epoch [45/75], time 174.41s, sup_loss:-208.8632, sup_clf_loss:1303.5593, unsup_loss:-234.5029, test_accuracy:0.9115\n",
            "Epoch [46/75], time 174.14s, sup_loss:-210.1814, sup_clf_loss:1243.0008, unsup_loss:-232.3654, test_accuracy:0.9206\n",
            "Epoch [47/75], time 174.21s, sup_loss:-211.2443, sup_clf_loss:1319.8308, unsup_loss:-233.9370, test_accuracy:0.9209\n",
            "Epoch [48/75], time 174.15s, sup_loss:-211.0066, sup_clf_loss:1254.3593, unsup_loss:-235.0848, test_accuracy:0.9236\n",
            "Epoch [49/75], time 174.37s, sup_loss:-208.9752, sup_clf_loss:1326.4621, unsup_loss:-233.6512, test_accuracy:0.9200\n",
            "Epoch [50/75], time 174.34s, sup_loss:-211.1300, sup_clf_loss:1250.5332, unsup_loss:-233.1025, test_accuracy:0.9283\n",
            "Epoch [51/75], time 174.27s, sup_loss:-210.7061, sup_clf_loss:1233.1301, unsup_loss:-235.7090, test_accuracy:0.9302\n",
            "Epoch [52/75], time 174.96s, sup_loss:-212.4863, sup_clf_loss:1202.0065, unsup_loss:-235.1961, test_accuracy:0.9258\n",
            "Epoch [53/75], time 175.29s, sup_loss:-210.0218, sup_clf_loss:1305.0296, unsup_loss:-237.5744, test_accuracy:0.9247\n",
            "Epoch [54/75], time 175.14s, sup_loss:-214.0673, sup_clf_loss:1181.8512, unsup_loss:-236.3629, test_accuracy:0.9267\n",
            "Epoch [55/75], time 175.17s, sup_loss:-211.3563, sup_clf_loss:1156.7537, unsup_loss:-236.1241, test_accuracy:0.9265\n",
            "Epoch [56/75], time 175.08s, sup_loss:-212.8385, sup_clf_loss:1164.3397, unsup_loss:-238.1729, test_accuracy:0.9272\n",
            "Epoch [57/75], time 175.08s, sup_loss:-212.9369, sup_clf_loss:1128.1485, unsup_loss:-234.6997, test_accuracy:0.9300\n",
            "Epoch [58/75], time 175.13s, sup_loss:-214.4266, sup_clf_loss:1164.2763, unsup_loss:-238.0688, test_accuracy:0.9150\n",
            "Epoch [59/75], time 175.37s, sup_loss:-211.4237, sup_clf_loss:1146.3717, unsup_loss:-234.5273, test_accuracy:0.9298\n",
            "Epoch [60/75], time 175.44s, sup_loss:-213.7988, sup_clf_loss:1112.5647, unsup_loss:-234.1198, test_accuracy:0.9315\n",
            "Epoch [61/75], time 175.32s, sup_loss:-213.8170, sup_clf_loss:1111.1312, unsup_loss:-236.8592, test_accuracy:0.9287\n",
            "Epoch [62/75], time 175.57s, sup_loss:-216.7236, sup_clf_loss:1159.2092, unsup_loss:-238.4715, test_accuracy:0.9270\n",
            "Epoch [63/75], time 175.39s, sup_loss:-215.5874, sup_clf_loss:1075.1746, unsup_loss:-239.4888, test_accuracy:0.9304\n",
            "Epoch [64/75], time 175.32s, sup_loss:-219.0404, sup_clf_loss:1080.3094, unsup_loss:-240.1950, test_accuracy:0.9252\n",
            "Epoch [65/75], time 175.44s, sup_loss:-217.0422, sup_clf_loss:1089.5007, unsup_loss:-238.8551, test_accuracy:0.9359\n",
            "Epoch [66/75], time 175.43s, sup_loss:-215.4172, sup_clf_loss:1076.8872, unsup_loss:-238.6084, test_accuracy:0.9289\n",
            "Epoch [67/75], time 175.03s, sup_loss:-214.1159, sup_clf_loss:1010.0533, unsup_loss:-240.5988, test_accuracy:0.9306\n",
            "Epoch [68/75], time 174.49s, sup_loss:-218.2493, sup_clf_loss:1043.8841, unsup_loss:-239.0957, test_accuracy:0.9310\n",
            "Epoch [69/75], time 174.42s, sup_loss:-218.2556, sup_clf_loss:1035.5544, unsup_loss:-239.4343, test_accuracy:0.9320\n",
            "Epoch [70/75], time 174.34s, sup_loss:-217.1156, sup_clf_loss:1008.4582, unsup_loss:-239.4784, test_accuracy:0.9357\n",
            "Epoch [71/75], time 174.47s, sup_loss:-218.9809, sup_clf_loss:1004.3167, unsup_loss:-239.4413, test_accuracy:0.9331\n",
            "Epoch [72/75], time 174.17s, sup_loss:-220.1746, sup_clf_loss:992.2570, unsup_loss:-241.4518, test_accuracy:0.9318\n",
            "Epoch [73/75], time 174.02s, sup_loss:-217.8470, sup_clf_loss:1010.8162, unsup_loss:-242.3669, test_accuracy:0.9187\n",
            "Epoch [74/75], time 174.26s, sup_loss:-216.9268, sup_clf_loss:968.3526, unsup_loss:-239.4629, test_accuracy:0.9303\n",
            "Epoch [75/75], time 174.30s, sup_loss:-218.7021, sup_clf_loss:948.0990, unsup_loss:-242.4362, test_accuracy:0.9338\n"
          ],
          "name": "stdout"
        }
      ]
    },
    {
      "cell_type": "code",
      "metadata": {
        "id": "ClRCnBrJiHww",
        "colab_type": "code",
        "outputId": "05843456-a34e-4cb9-e4a0-9f839e051ae6",
        "colab": {
          "base_uri": "https://localhost:8080/",
          "height": 1000
        }
      },
      "source": [
        "alpha = 0.1*66944\n",
        "fig, axes = plt.subplots(4,1, figsize=(15,20))\n",
        "fig.tight_layout()\n",
        "axes[0].plot(np.array(sup_loss), label=\"supervised loss\")\n",
        "axes[0].plot(np.array(unsup_loss), label=\"unsupervised loss\")\n",
        "axes[0].legend()\n",
        "\n",
        "axes[1].plot(np.array(clf_loss), label=\"classification loss\")\n",
        "axes[1].legend()\n",
        "\n",
        "axes[2].plot(np.array(test_acc), label=\"accuracy\")\n",
        "axes[2].grid(True)\n",
        "axes[2].legend()\n",
        "\n",
        "axes[3].plot(np.array(sup_loss) + np.array(unsup_loss)  + alpha * np.array(clf_loss), label=r\"$\\mathcal{J}^{\\alpha}$\")\n",
        "axes[3].legend()\n",
        "plt.show()"
      ],
      "execution_count": 35,
      "outputs": [
        {
          "output_type": "display_data",
          "data": {
            "image/png": "[encoded data removed]",
            "text/plain": [
              "<Figure size 1080x1440 with 4 Axes>"
            ]
          },
          "metadata": {
            "tags": [],
            "needs_background": "light"
          }
        }
      ]
    },
    {
      "cell_type": "code",
      "metadata": {
        "id": "ynSJeoZnF6Nu",
        "colab_type": "code",
        "outputId": "661c6c84-3620-4b50-b401-7494a6052ab9",
        "colab": {
          "base_uri": "https://localhost:8080/",
          "height": 241
        }
      },
      "source": [
        "\n",
        "torch.save(ss_vae, \"data_pro_stazeni/SSVAE_CRNN_mII_proper_scale_lr-1e-4_75ep.pt\")\n",
        "torch.save(ss_vae.state_dict(), \"data_pro_stazeni/SSVAE_CRNN_mII_proper_scale_lr-1e-4_state_dict_75ep.pt\")\n",
        "torch.save(ss_vae.encoder_y, \"data_pro_stazeni/SSVAE_CRNN_proper_mII_scale_classifier_lr-1e-4_75ep.pt\")\n",
        "torch.save(ss_vae.encoder_y.state_dict(), \"data_pro_stazeni/SSVAE_CRNN_mII_proper_scale_classifier_lr-1e-4_state_dict_75ep.pt\")"
      ],
      "execution_count": 37,
      "outputs": [
        {
          "output_type": "stream",
          "text": [
            "/usr/local/lib/python3.6/dist-packages/torch/serialization.py:402: UserWarning: Couldn't retrieve source code for container of type SSVAE. It won't be checked for correctness upon loading.\n",
            "  \"type \" + obj.__name__ + \". It won't be checked \"\n",
            "/usr/local/lib/python3.6/dist-packages/torch/serialization.py:402: UserWarning: Couldn't retrieve source code for container of type CRNN_mII. It won't be checked for correctness upon loading.\n",
            "  \"type \" + obj.__name__ + \". It won't be checked \"\n",
            "/usr/local/lib/python3.6/dist-packages/torch/serialization.py:402: UserWarning: Couldn't retrieve source code for container of type LinAct. It won't be checked for correctness upon loading.\n",
            "  \"type \" + obj.__name__ + \". It won't be checked \"\n",
            "/usr/local/lib/python3.6/dist-packages/torch/serialization.py:402: UserWarning: Couldn't retrieve source code for container of type Encoder. It won't be checked for correctness upon loading.\n",
            "  \"type \" + obj.__name__ + \". It won't be checked \"\n",
            "/usr/local/lib/python3.6/dist-packages/torch/serialization.py:402: UserWarning: Couldn't retrieve source code for container of type VariationalLayer. It won't be checked for correctness upon loading.\n",
            "  \"type \" + obj.__name__ + \". It won't be checked \"\n",
            "/usr/local/lib/python3.6/dist-packages/torch/serialization.py:402: UserWarning: Couldn't retrieve source code for container of type ConvTransposeDecoderOutput. It won't be checked for correctness upon loading.\n",
            "  \"type \" + obj.__name__ + \". It won't be checked \"\n"
          ],
          "name": "stderr"
        }
      ]
    },
    {
      "cell_type": "code",
      "metadata": {
        "id": "DjWvNm5CH66Q",
        "colab_type": "code",
        "colab": {
          "base_uri": "https://localhost:8080/",
          "height": 204
        },
        "outputId": "0413ad5f-37d2-48c4-cef2-8d3c3b181326"
      },
      "source": [
        "import pandas as pd\n",
        "\n",
        "df = pd.DataFrame({\"supervised_loss\":sup_loss, \"unsupervised_loss\":unsup_loss, \"classification_loss\":clf_loss,  \"test_accuracy\":test_acc})\n",
        "df.head()"
      ],
      "execution_count": 38,
      "outputs": [
        {
          "output_type": "execute_result",
          "data": {
            "text/html": [
              "<div>\n",
              "<style scoped>\n",
              "    .dataframe tbody tr th:only-of-type {\n",
              "        vertical-align: middle;\n",
              "    }\n",
              "\n",
              "    .dataframe tbody tr th {\n",
              "        vertical-align: top;\n",
              "    }\n",
              "\n",
              "    .dataframe thead th {\n",
              "        text-align: right;\n",
              "    }\n",
              "</style>\n",
              "<table border=\"1\" class=\"dataframe\">\n",
              "  <thead>\n",
              "    <tr style=\"text-align: right;\">\n",
              "      <th></th>\n",
              "      <th>supervised_loss</th>\n",
              "      <th>unsupervised_loss</th>\n",
              "      <th>classification_loss</th>\n",
              "      <th>test_accuracy</th>\n",
              "    </tr>\n",
              "  </thead>\n",
              "  <tbody>\n",
              "    <tr>\n",
              "      <th>0</th>\n",
              "      <td>-10.465277</td>\n",
              "      <td>-36.377075</td>\n",
              "      <td>5267.040044</td>\n",
              "      <td>0.771818</td>\n",
              "    </tr>\n",
              "    <tr>\n",
              "      <th>1</th>\n",
              "      <td>-91.556763</td>\n",
              "      <td>-119.097994</td>\n",
              "      <td>3522.202620</td>\n",
              "      <td>0.807367</td>\n",
              "    </tr>\n",
              "    <tr>\n",
              "      <th>2</th>\n",
              "      <td>-122.281513</td>\n",
              "      <td>-146.629754</td>\n",
              "      <td>2892.483110</td>\n",
              "      <td>0.862297</td>\n",
              "    </tr>\n",
              "    <tr>\n",
              "      <th>3</th>\n",
              "      <td>-140.732433</td>\n",
              "      <td>-165.953661</td>\n",
              "      <td>2532.426473</td>\n",
              "      <td>0.873483</td>\n",
              "    </tr>\n",
              "    <tr>\n",
              "      <th>4</th>\n",
              "      <td>-152.574523</td>\n",
              "      <td>-173.581228</td>\n",
              "      <td>2607.831133</td>\n",
              "      <td>0.876840</td>\n",
              "    </tr>\n",
              "  </tbody>\n",
              "</table>\n",
              "</div>"
            ],
            "text/plain": [
              "   supervised_loss  unsupervised_loss  classification_loss  test_accuracy\n",
              "0       -10.465277         -36.377075          5267.040044       0.771818\n",
              "1       -91.556763        -119.097994          3522.202620       0.807367\n",
              "2      -122.281513        -146.629754          2892.483110       0.862297\n",
              "3      -140.732433        -165.953661          2532.426473       0.873483\n",
              "4      -152.574523        -173.581228          2607.831133       0.876840"
            ]
          },
          "metadata": {
            "tags": []
          },
          "execution_count": 38
        }
      ]
    },
    {
      "cell_type": "code",
      "metadata": {
        "id": "aCK_O-WxH690",
        "colab_type": "code",
        "colab": {}
      },
      "source": [
        "df.to_csv(\"data_pro_stazeni/SSVAE_CRNN_proper_scale_lr-1e-4_75ep_losses.csv\")"
      ],
      "execution_count": 0,
      "outputs": []
    },
    {
      "cell_type": "code",
      "metadata": {
        "id": "qoh1qfPsIESS",
        "colab_type": "code",
        "colab": {}
      },
      "source": [
        "#pred = ss_vae.encoder_y(torch.tensor(X_test).float().cuda())\n",
        "preds = []\n",
        "ss_vae.encoder_y.eval()\n",
        "with torch.no_grad():\n",
        "    for (xs, ys) in data_loaders[\"test\"]:\n",
        "        xs = xs.cuda()\n",
        "        pred = ss_vae.encoder_y(xs)\n",
        "        preds.append(np.argmax(pred.cpu().detach().numpy(), axis=1))"
      ],
      "execution_count": 0,
      "outputs": []
    },
    {
      "cell_type": "code",
      "metadata": {
        "id": "r4DwquQQIEVN",
        "colab_type": "code",
        "colab": {}
      },
      "source": [
        "preds = np.hstack(preds)"
      ],
      "execution_count": 0,
      "outputs": []
    },
    {
      "cell_type": "code",
      "metadata": {
        "id": "rpL630VeIEew",
        "colab_type": "code",
        "outputId": "fa2029a5-6e6b-47d9-c377-8ca9146135b6",
        "colab": {
          "base_uri": "https://localhost:8080/",
          "height": 34
        }
      },
      "source": [
        "f1_score(y_true=y_test, y_pred=preds,average=\"macro\")"
      ],
      "execution_count": 42,
      "outputs": [
        {
          "output_type": "execute_result",
          "data": {
            "text/plain": [
              "0.9027716276074625"
            ]
          },
          "metadata": {
            "tags": []
          },
          "execution_count": 42
        }
      ]
    },
    {
      "cell_type": "code",
      "metadata": {
        "id": "oPvMmWXwIEdd",
        "colab_type": "code",
        "outputId": "6795929d-970e-477c-b4fd-67e3dc1c12b7",
        "colab": {
          "base_uri": "https://localhost:8080/",
          "height": 34
        }
      },
      "source": [
        "accuracy_score(y_true=y_test, y_pred=preds)"
      ],
      "execution_count": 43,
      "outputs": [
        {
          "output_type": "execute_result",
          "data": {
            "text/plain": [
              "0.9370219885277247"
            ]
          },
          "metadata": {
            "tags": []
          },
          "execution_count": 43
        }
      ]
    },
    {
      "cell_type": "code",
      "metadata": {
        "id": "wU67Kc7_IEZW",
        "colab_type": "code",
        "outputId": "6cb25ddf-8056-47a8-ace9-ffbfbe67952b",
        "colab": {
          "base_uri": "https://localhost:8080/",
          "height": 85
        }
      },
      "source": [
        "cf1 = confusion_matrix(y_true=y_test, y_pred=preds) # x_axis = predicted, y_axis = ground_truth\n",
        "cf1"
      ],
      "execution_count": 44,
      "outputs": [
        {
          "output_type": "execute_result",
          "data": {
            "text/plain": [
              "array([[3988,  120,   27,  100],\n",
              "       [ 395, 9974,    6,   70],\n",
              "       [  17,    7,  434,   21],\n",
              "       [ 248,   26,   17, 1286]])"
            ]
          },
          "metadata": {
            "tags": []
          },
          "execution_count": 44
        }
      ]
    },
    {
      "cell_type": "code",
      "metadata": {
        "id": "BGSJcw48hgXo",
        "colab_type": "code",
        "colab": {}
      },
      "source": [
        ""
      ],
      "execution_count": 0,
      "outputs": []
    }
  ]
}