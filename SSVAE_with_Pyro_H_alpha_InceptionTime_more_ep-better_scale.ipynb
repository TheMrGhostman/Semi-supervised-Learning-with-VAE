{
 "cells": [
  {
   "cell_type": "code",
   "execution_count": 1,
   "metadata": {
    "colab": {
     "base_uri": "https://localhost:8080/",
     "height": 153
    },
    "colab_type": "code",
    "id": "G3dcWXty_P9w",
    "outputId": "fdc4806f-ecd4-43bf-cc03-ef8fe5860df3",
    "scrolled": true
   },
   "outputs": [],
   "source": [
    "#!git clone https://github.com/TheMrGhostman/Semi-supervised-Learning-with-VAE"
   ]
  },
  {
   "cell_type": "code",
   "execution_count": 2,
   "metadata": {
    "colab": {
     "base_uri": "https://localhost:8080/",
     "height": 224
    },
    "colab_type": "code",
    "id": "6MDu2-LS_gJn",
    "outputId": "22a7fb91-5ba5-4eca-f7a8-18d80e2ce291"
   },
   "outputs": [],
   "source": [
    "#!pip install pyro-ppl"
   ]
  },
  {
   "cell_type": "code",
   "execution_count": 1,
   "metadata": {
    "colab": {},
    "colab_type": "code",
    "id": "V2UGHzWc_M4o"
   },
   "outputs": [],
   "source": [
    "import os\n",
    "import time\n",
    "\n",
    "import numpy as np\n",
    "import torch\n",
    "\n",
    "import torch.nn as nn\n",
    "import torch.nn.functional as F\n",
    "\n",
    "import pyro\n",
    "import pyro.distributions as dist\n",
    "import pyro.contrib.examples.util  # patches torchvision\n",
    "\n",
    "from pyro.infer import SVI, JitTrace_ELBO, JitTraceEnum_ELBO, Trace_ELBO, TraceEnum_ELBO, config_enumerate\n",
    "from pyro.optim import Adam\n",
    "\n",
    "import matplotlib.pyplot as plt\n"
   ]
  },
  {
   "cell_type": "code",
   "execution_count": 2,
   "metadata": {
    "colab": {},
    "colab_type": "code",
    "id": "d7UVg2g7_vXc"
   },
   "outputs": [],
   "source": [
    "#os.chdir(\"Semi-supervised-Learning-with-VAE/\")"
   ]
  },
  {
   "cell_type": "code",
   "execution_count": 3,
   "metadata": {
    "colab": {
     "base_uri": "https://localhost:8080/",
     "height": 317
    },
    "colab_type": "code",
    "id": "IULMzLj8_-U0",
    "outputId": "17971c21-a74f-4db0-e762-4992537b85c4"
   },
   "outputs": [],
   "source": [
    "from utils.datasets import SupervisedDataset\n",
    "from utils.utils import One_Hot\n",
    "from utils.inception import *"
   ]
  },
  {
   "cell_type": "code",
   "execution_count": 4,
   "metadata": {
    "colab": {},
    "colab_type": "code",
    "id": "DNMkZpbU_M41"
   },
   "outputs": [],
   "source": [
    "from sklearn.model_selection import train_test_split\n",
    "from sklearn.preprocessing import RobustScaler, StandardScaler\n",
    "from sklearn.metrics import confusion_matrix, accuracy_score, f1_score\n",
    "\n",
    "from utils.layers import Reshape, Flatten\n",
    "import utils.datasets as d"
   ]
  },
  {
   "cell_type": "code",
   "execution_count": 5,
   "metadata": {
    "colab": {},
    "colab_type": "code",
    "id": "wdf8tYr-_M5C"
   },
   "outputs": [],
   "source": [
    "class VariationalLayer(nn.Module):\n",
    "    \"\"\"\n",
    "    Variational Layer with reparametrization trick. \n",
    "    It's used as bottleneck of Variational AutoEncoder ie. output of encoder.\n",
    "\n",
    "    \"Linear layer for variational inference with reparametrization trick\"\n",
    "    \"\"\"\n",
    "    def __init__(self, in_features, out_features, bias=True):\n",
    "        \"\"\"\t\n",
    "        : param in_features: \t\tNumber of input features (number of neurons on input)\n",
    "        : param out_features:\t\tNumber of output features (number of neurons on output)\n",
    "        : param bias:\t\t\t\tInclude bias - True/False\n",
    "        \"\"\"\n",
    "        super(VariationalLayer, self).__init__()\n",
    "        self.mu = nn.Linear(in_features=in_features, out_features=out_features, bias=bias)\n",
    "        self.rho = nn.Linear(in_features=in_features, out_features=out_features, bias=bias)\n",
    "        self.softplus = nn.Softplus()\n",
    "\n",
    "    def forward(self, x_in):\n",
    "        mu = self.mu(x_in)\n",
    "        sigma = self.softplus(self.rho(x_in))\n",
    "        return mu, sigma"
   ]
  },
  {
   "cell_type": "code",
   "execution_count": 6,
   "metadata": {
    "colab": {},
    "colab_type": "code",
    "id": "K3pVB9ii_M5M"
   },
   "outputs": [],
   "source": [
    "class ConvTransposeDecoderOutput(nn.Module):\n",
    "    def __init__(self, in_channels, in_features, out_features, kernel_size, stride=1, padding=0, bias=True):\n",
    "        super(ConvTransposeDecoderOutput, self).__init__()\n",
    "        self.mu = nn.ConvTranspose1d(\n",
    "                in_channels=in_channels, \n",
    "                out_channels=1, \n",
    "                kernel_size=kernel_size, \n",
    "                stride=stride, \n",
    "                padding=padding\n",
    "            )\n",
    "        self.rho = nn.Linear(in_features=in_features, out_features=1, bias=bias)\n",
    "        self.flatten = Flatten(out_features=in_features)\n",
    "        self.flatten_mu = Flatten(out_features=out_features)\n",
    "        self.softplus = nn.Softplus()\n",
    "\n",
    "    def forward(self, x_in):\n",
    "        \"\"\"\n",
    "        x must be shape ... (-1, in_channels, size)\n",
    "        \"\"\"\n",
    "        mu = self.mu(x_in)\n",
    "        x = self.flatten(x_in)\n",
    "        sigma = self.softplus(self.rho(x))\n",
    "        return self.flatten_mu(mu), sigma"
   ]
  },
  {
   "cell_type": "code",
   "execution_count": 8,
   "metadata": {
    "colab": {},
    "colab_type": "code",
    "id": "B6UwZ6pE_M5j"
   },
   "outputs": [],
   "source": [
    "class Encoder(nn.Module):\n",
    "    def __init__(self):\n",
    "        super(Encoder, self).__init__()\n",
    "        self.first_part =  nn.Sequential(\n",
    "                Reshape(out_shape=(1, 160)),\n",
    "                nn.Conv1d(in_channels=1, out_channels=16, kernel_size=6, stride=2, padding=0, bias=False), # n*1*160 -> n*16*78\n",
    "                nn.PReLU(),\n",
    "                nn.Conv1d(in_channels=16, out_channels=32, kernel_size=4, stride=2, bias=False),#n*16*78->n*32*38\n",
    "                nn.BatchNorm1d(num_features=32),\n",
    "                nn.PReLU(),\n",
    "                nn.Conv1d(in_channels=32, out_channels=64, kernel_size=4, stride=2, bias=False),#n*32*38->n*64*18\n",
    "                nn.BatchNorm1d(num_features=64),\n",
    "                nn.PReLU(),\n",
    "                Flatten(out_features=64*18))\n",
    "        self.fc = nn.Linear(in_features=64*18+4, out_features=256)\n",
    "        self.act = nn.PReLU()\n",
    "        self.out = VariationalLayer(in_features=256, out_features=15)\n",
    "        \n",
    "    def forward(self, x,y):\n",
    "        z = self.first_part(x)\n",
    "        z = torch.cat([z,y], axis=1)\n",
    "        z = self.act(self.fc(z))\n",
    "        return self.out(z)\n",
    "        "
   ]
  },
  {
   "cell_type": "code",
   "execution_count": 9,
   "metadata": {
    "colab": {},
    "colab_type": "code",
    "id": "UOBBsQ8A_M50"
   },
   "outputs": [],
   "source": [
    "decoder = nn.Sequential(\n",
    "    nn.Linear(in_features=15+4, out_features=256),\n",
    "    nn.PReLU(),\n",
    "    nn.Linear(in_features=256, out_features=64*18),\n",
    "    Reshape(out_shape=(64,18)),\n",
    "    nn.BatchNorm1d(num_features=64),\n",
    "    nn.PReLU(),\n",
    "    nn.ConvTranspose1d(in_channels=64, out_channels=32, kernel_size=4, stride=2, padding=0),\n",
    "    nn.BatchNorm1d(num_features=32),\n",
    "    nn.PReLU(),\n",
    "    nn.ConvTranspose1d(in_channels=32, out_channels=16, kernel_size=4, stride=2, padding=0),\n",
    "    #nn.BatchNorm1d(num_features=16),\n",
    "    nn.PReLU(),\n",
    "    ConvTransposeDecoderOutput(\n",
    "        in_channels=16,\n",
    "        in_features=16*78,\n",
    "        out_features=160, \n",
    "        kernel_size=6, \n",
    "        stride=2\n",
    "        )\n",
    "    )"
   ]
  },
  {
   "cell_type": "code",
   "execution_count": 10,
   "metadata": {
    "colab": {},
    "colab_type": "code",
    "id": "zF71nKMU_M59"
   },
   "outputs": [],
   "source": [
    "# InceptionTime model\n",
    "clf = nn.Sequential(\n",
    "        Reshape(out_shape=(1,160)),\n",
    "        InceptionBlock(\n",
    "            in_channels=1, \n",
    "            n_filters=32, \n",
    "            kernel_sizes=[5, 11, 23],\n",
    "            bottleneck_channels=32,\n",
    "            use_residual=True,\n",
    "            activation=nn.ReLU()\n",
    "        ),\n",
    "        InceptionBlock(\n",
    "            in_channels=32*4, \n",
    "            n_filters=32, \n",
    "            kernel_sizes=[5, 11, 23],\n",
    "            bottleneck_channels=32,\n",
    "            use_residual=True,\n",
    "            activation=nn.ReLU()\n",
    "        ),\n",
    "        nn.AdaptiveAvgPool1d(output_size=1),\n",
    "        Flatten(out_features=32*4*1),\n",
    "        nn.Linear(in_features=4*32*1, out_features=4),\n",
    "        nn.Softmax(dim=1)\n",
    "    )"
   ]
  },
  {
   "cell_type": "code",
   "execution_count": 11,
   "metadata": {
    "colab": {},
    "colab_type": "code",
    "id": "HXbeS7xS_M6M"
   },
   "outputs": [],
   "source": [
    "class SSVAE(nn.Module):\n",
    "    \"\"\"\n",
    "    This class encapsulates the parameters (neural networks) and models & guides needed to train a\n",
    "    semi-supervised variational auto-encoder on the MNIST image dataset\n",
    "    :param output_size: size of the tensor representing the class label (10 for MNIST since\n",
    "                        we represent the class labels as a one-hot vector with 10 components)\n",
    "    :param input_size: size of the tensor representing the image (28*28 = 784 for our MNIST dataset\n",
    "                       since we flatten the images and scale the pixels to be in [0,1])\n",
    "    :param z_dim: size of the tensor representing the latent random variable z\n",
    "                  (handwriting style for our MNIST dataset)\n",
    "    :param hidden_layers: a tuple (or list) of MLP layers to be used in the neural networks\n",
    "                          representing the parameters of the distributions in our model\n",
    "    :param use_cuda: use GPUs for faster training\n",
    "    :param aux_loss_multiplier: the multiplier to use with the auxiliary loss\n",
    "    \"\"\"\n",
    "    def __init__(self, config_enum=None, use_cuda=False, aux_loss_multiplier=None):\n",
    "\n",
    "        super().__init__()\n",
    "\n",
    "        # initialize the class with all arguments provided to the constructor\n",
    "        self.output_size = 4\n",
    "        self.z_dim = 15\n",
    "        self.allow_broadcast = config_enum == 'parallel'\n",
    "        self.use_cuda = use_cuda\n",
    "        self.aux_loss_multiplier = aux_loss_multiplier\n",
    "\n",
    "        # define and instantiate the neural networks representing\n",
    "        # the paramters of various distributions in the model\n",
    "        self.setup_networks()\n",
    "\n",
    "    def setup_networks(self):\n",
    "\n",
    "        self.encoder_y = clf\n",
    "\n",
    "        self.encoder_z = Encoder()\n",
    "\n",
    "        self.decoder = decoder\n",
    "\n",
    "        if self.use_cuda:\n",
    "            self.cuda()\n",
    "\n",
    "    def model(self, xs, ys=None):\n",
    "        \"\"\"\n",
    "        The model corresponds to the following generative process:\n",
    "        p(z) = normal(0,I)              # handwriting style (latent)\n",
    "        p(y|x) = categorical(I/10.)     # which digit (semi-supervised)\n",
    "        p(x|y,z) = bernoulli(loc(y,z))   # an image\n",
    "        loc is given by a neural network  `decoder`\n",
    "        :param xs: a batch of scaled vectors of pixels from an image\n",
    "        :param ys: (optional) a batch of the class labels i.e.\n",
    "                   the digit corresponding to the image(s)\n",
    "        :return: None\n",
    "        \"\"\"\n",
    "        # register this pytorch module and all of its sub-modules with pyro\n",
    "        pyro.module(\"ss_vae\", self)\n",
    "\n",
    "        batch_size = xs.size(0)\n",
    "        options = dict(dtype=xs.dtype, device=xs.device)\n",
    "        with pyro.plate(\"data\"):\n",
    "\n",
    "            # sample the handwriting style from the constant prior distribution\n",
    "            prior_loc = torch.zeros(batch_size, self.z_dim, **options)\n",
    "            prior_scale = torch.ones(batch_size, self.z_dim, **options)\n",
    "            zs = pyro.sample(\"z\", dist.Normal(prior_loc, prior_scale).to_event(1))\n",
    "\n",
    "            # if the label y (which digit to write) is supervised, sample from the\n",
    "            # constant prior, otherwise, observe the value (i.e. score it against the constant prior)\n",
    "            alpha_prior = torch.ones(batch_size, self.output_size, **options) / (1.0 * self.output_size)\n",
    "            ys = pyro.sample(\"y\", dist.OneHotCategorical(alpha_prior), obs=ys)\n",
    "\n",
    "            # finally, score the image (x) using the handwriting style (z) and\n",
    "            # the class label y (which digit to write) against the\n",
    "            # parametrized distribution p(x|y,z) = normal(decoder(y,z))\n",
    "            # where `decoder` is a neural network\n",
    "            mu, sigma = self.decoder(torch.cat([zs, ys], axis=1))\n",
    "            #mu = self.decoder(torch.cat([zs, ys], axis=1))\n",
    "            #pyro.sample(\"x\", dist.Normal(mu,torch.ones((mu.shape[0],1)).cuda()).to_event(1), obs=xs)\n",
    "            pyro.sample(\"x\", dist.Normal(mu,sigma).to_event(1), obs=xs)\n",
    "            # return the loc so we can visualize it later\n",
    "            return mu\n",
    "\n",
    "    def guide(self, xs, ys=None):\n",
    "        \"\"\"\n",
    "        The guide corresponds to the following:\n",
    "        q(y|x) = categorical(alpha(x))              # infer digit from an image\n",
    "        q(z|x,y) = normal(loc(x,y),scale(x,y))       # infer handwriting style from an image and the digit\n",
    "        loc, scale are given by a neural network `encoder_z`\n",
    "        alpha is given by a neural network `encoder_y`\n",
    "        :param xs: a batch of scaled vectors of pixels from an image\n",
    "        :param ys: (optional) a batch of the class labels i.e.\n",
    "                   the digit corresponding to the image(s)\n",
    "        :return: None\n",
    "        \"\"\"\n",
    "        # inform Pyro that the variables in the batch of xs, ys are conditionally independent\n",
    "        with pyro.plate(\"data\"):\n",
    "\n",
    "            # if the class label (the digit) is not supervised, sample\n",
    "            # (and score) the digit with the variational distribution\n",
    "            # q(y|x) = categorical(alpha(x))\n",
    "            if ys is None:\n",
    "                alpha = self.encoder_y(xs)\n",
    "                ys = pyro.sample(\"y\", dist.OneHotCategorical(alpha))\n",
    "\n",
    "            # sample (and score) the latent handwriting-style with the variational\n",
    "            # distribution q(z|x,y) = normal(loc(x,y),scale(x,y))\n",
    "            loc, scale = self.encoder_z(xs, ys)\n",
    "            pyro.sample(\"z\", dist.Normal(loc, scale).to_event(1))\n",
    "\n",
    "    def classifier(self, xs):\n",
    "        \"\"\"\n",
    "        classify an image (or a batch of images)\n",
    "        :param xs: a batch of scaled vectors of pixels from an image\n",
    "        :return: a batch of the corresponding class labels (as one-hots)\n",
    "        \"\"\"\n",
    "        # use the trained model q(y|x) = categorical(alpha(x))\n",
    "        # compute all class probabilities for the image(s)\n",
    "        alpha = self.encoder_y(xs)\n",
    "\n",
    "        # get the index (digit) that corresponds to\n",
    "        # the maximum predicted class probability\n",
    "        res, ind = torch.topk(alpha, 1)\n",
    "\n",
    "        # convert the digit(s) to one-hot tensor(s)\n",
    "        ys = torch.zeros_like(alpha).scatter_(1, ind, 1.0)\n",
    "        return ys\n",
    "\n",
    "    def model_classify(self, xs, ys=None):\n",
    "        \"\"\"\n",
    "        this model is used to add an auxiliary (supervised) loss as described in the\n",
    "        Kingma et al., \"Semi-Supervised Learning with Deep Generative Models\".\n",
    "        \"\"\"\n",
    "        # register all pytorch (sub)modules with pyro\n",
    "        pyro.module(\"ss_vae\", self)\n",
    "\n",
    "        # inform Pyro that the variables in the batch of xs, ys are conditionally independent\n",
    "        with pyro.plate(\"data\"):\n",
    "            # this here is the extra term to yield an auxiliary loss that we do gradient descent on\n",
    "            if ys is not None:\n",
    "                alpha = self.encoder_y.forward(xs)\n",
    "                with pyro.poutine.scale(scale=self.aux_loss_multiplier):\n",
    "                    pyro.sample(\"y_aux\", dist.OneHotCategorical(alpha), obs=ys)\n",
    "\n",
    "    def guide_classify(self, xs, ys=None):\n",
    "        \"\"\"\n",
    "        dummy guide function to accompany model_classify in inference\n",
    "        \"\"\"\n",
    "        pass"
   ]
  },
  {
   "cell_type": "code",
   "execution_count": 12,
   "metadata": {
    "colab": {},
    "colab_type": "code",
    "id": "2FtPqhEoAYnB"
   },
   "outputs": [],
   "source": [
    "def get_accuracy(data_loader, clf):\n",
    "    \"\"\"\n",
    "        clf ... ssvae.classifier()\n",
    "    \"\"\"\n",
    "    dataloader_len = len(data_loader)\n",
    "    acc = 0\n",
    "    with torch.no_grad():\n",
    "        for (xs, ys) in data_loader:\n",
    "            xs = xs.cuda()\n",
    "            pred = clf(xs)\n",
    "            acc += accuracy_score(np.argmax(pred.cpu().detach().numpy(), axis=1) , np.argmax(ys.numpy(),axis=1))\n",
    "    return acc/dataloader_len"
   ]
  },
  {
   "cell_type": "code",
   "execution_count": 13,
   "metadata": {
    "colab": {},
    "colab_type": "code",
    "id": "UKyJFa9dBZSk"
   },
   "outputs": [],
   "source": [
    "def run_inference_for_epoch(data_loaders, losses):\n",
    "    \"\"\"\n",
    "        thanks to random sampler supervised and unsupervised datasets have the same length\n",
    "\n",
    "        two losses -> [ ELBO , -E(q(y|x)) ]\n",
    "    \"\"\"\n",
    "    num_losses = len(losses) \n",
    "\n",
    "    epoch_losses_sup = [0.] * num_losses\n",
    "    epoch_losses_unsup = [0.] * num_losses\n",
    "\n",
    "    sup_iter = iter(data_loaders[\"sup\"])\n",
    "    unsup_iter = iter(data_loaders[\"unsup\"])\n",
    "    \n",
    "    #model.train()\n",
    "    for batch_idx  in range(len(data_loaders[\"unsup\"])):\n",
    "        \n",
    "        # supervised flow\n",
    "        (xs, ys) = next(sup_iter)\n",
    "        for loss_id in range(num_losses):\n",
    "            # evaluating (tracing) losses and optimizer step \n",
    "            new_loss = losses[loss_id].step(xs.cuda(), ys.cuda())\n",
    "            # saving losses \n",
    "            epoch_losses_sup[loss_id] += new_loss\n",
    "        \n",
    "\n",
    "        # unsupervised flow\n",
    "        xs = next(unsup_iter)\n",
    "        for loss_id in range(num_losses):\n",
    "            # evaluating (tracing) losses and optimizer step \n",
    "            new_loss = losses[loss_id].step(xs.cuda())\n",
    "            # saving losses\n",
    "            epoch_losses_unsup[loss_id] += new_loss\n",
    "\n",
    "            \n",
    "    return epoch_losses_sup, epoch_losses_unsup"
   ]
  },
  {
   "cell_type": "markdown",
   "metadata": {
    "colab_type": "text",
    "id": "3RhdAuMq_M6e"
   },
   "source": [
    "# Get Data"
   ]
  },
  {
   "cell_type": "code",
   "execution_count": 14,
   "metadata": {
    "colab": {},
    "colab_type": "code",
    "id": "6WIMMIto_M6g"
   },
   "outputs": [],
   "source": [
    "X_s = np.vstack((np.load(\"data/sequenced_data_for_VAE_length-160_stride-10_pt1.npy\"),\n",
    "               np.load(\"data/sequenced_data_for_VAE_length-160_stride-10_pt2.npy\")))\n",
    "y_s = np.load(\"data/sequenced_data_for_VAE_length-160_stride-10_targets.npy\")"
   ]
  },
  {
   "cell_type": "code",
   "execution_count": 15,
   "metadata": {
    "colab": {},
    "colab_type": "code",
    "id": "HaA--Iij_M6o"
   },
   "outputs": [],
   "source": [
    "X_u = np.vstack((np.load(\"data/unlabeled_sequences_part_1.npy\"), np.load(\"data/unlabeled_sequences_part_2.npy\")))"
   ]
  },
  {
   "cell_type": "code",
   "execution_count": 16,
   "metadata": {
    "colab": {},
    "colab_type": "code",
    "id": "_vKSNFUb_M6u",
    "outputId": "b668500e-5377-4f70-b98f-72374ef3ca03"
   },
   "outputs": [
    {
     "name": "stdout",
     "output_type": "stream",
     "text": [
      "(83680, 160)\n",
      "(97400, 160)\n"
     ]
    }
   ],
   "source": [
    "print(X_s.shape)\n",
    "print(X_u.shape)"
   ]
  },
  {
   "cell_type": "code",
   "execution_count": 17,
   "metadata": {
    "colab": {},
    "colab_type": "code",
    "id": "Wu5JbTYM_M61"
   },
   "outputs": [],
   "source": [
    "X_train, X_test, y_train, y_test = train_test_split(np.array(X_s), np.array(y_s), test_size=0.2, random_state=666)"
   ]
  },
  {
   "cell_type": "code",
   "execution_count": 18,
   "metadata": {
    "colab": {},
    "colab_type": "code",
    "id": "zSDTyV6N_M65"
   },
   "outputs": [],
   "source": [
    "scaler = RobustScaler()\n",
    "scaler.fit(np.vstack((np.array(X_s),np.array(X_u))))\n",
    "\n",
    "X_sup= scaler.transform(X_train)\n",
    "X_unsup = scaler.transform(np.array(X_u))\n",
    "X_test = scaler.transform(X_test)"
   ]
  },
  {
   "cell_type": "code",
   "execution_count": 19,
   "metadata": {},
   "outputs": [
    {
     "data": {
      "text/plain": [
       "(66944, 160)"
      ]
     },
     "execution_count": 19,
     "metadata": {},
     "output_type": "execute_result"
    }
   ],
   "source": [
    "X_sup.shape"
   ]
  },
  {
   "cell_type": "code",
   "execution_count": 25,
   "metadata": {},
   "outputs": [
    {
     "data": {
      "image/png": "[encoded data removed]",
      "text/plain": [
       "<Figure size 720x504 with 1 Axes>"
      ]
     },
     "metadata": {
      "needs_background": "light"
     },
     "output_type": "display_data"
    }
   ],
   "source": [
    "plt.figure(figsize=(10,7))\n",
    "plt.hist(y_train)\n",
    "plt.show()"
   ]
  },
  {
   "cell_type": "code",
   "execution_count": 24,
   "metadata": {},
   "outputs": [
    {
     "data": {
      "image/png": "[encoded data removed]",
      "text/plain": [
       "<Figure size 720x504 with 1 Axes>"
      ]
     },
     "metadata": {
      "needs_background": "light"
     },
     "output_type": "display_data"
    }
   ],
   "source": [
    "plt.figure(figsize=(10,7))\n",
    "plt.hist(y_test)\n",
    "plt.show()"
   ]
  },
  {
   "cell_type": "markdown",
   "metadata": {
    "colab_type": "text",
    "id": "kvTo4tXX_M7D"
   },
   "source": [
    "# Defining model and inference"
   ]
  },
  {
   "cell_type": "code",
   "execution_count": 26,
   "metadata": {
    "colab": {},
    "colab_type": "code",
    "id": "kDkHS6dK_M7E"
   },
   "outputs": [],
   "source": [
    "ss_vae = SSVAE(config_enum=\"parallel\", use_cuda=True, aux_loss_multiplier=0.1*66944)# pyro exaples suggests 46 for MNIST"
   ]
  },
  {
   "cell_type": "code",
   "execution_count": 27,
   "metadata": {
    "colab": {},
    "colab_type": "code",
    "id": "9SN1qsci_M7G"
   },
   "outputs": [],
   "source": [
    "adam_params = {\"lr\": 0.0001}\n",
    "optimizer = Adam(adam_params)"
   ]
  },
  {
   "cell_type": "markdown",
   "metadata": {
    "colab_type": "text",
    "id": "a0khk4C5_M7L"
   },
   "source": [
    "## ELBO of main loss $\\mathcal{J} = \\sum_{sup} \\mathcal{L}(\\vec{x},y) + \\sum_{unsup} \\mathcal{U}(\\vec{x})$"
   ]
  },
  {
   "cell_type": "code",
   "execution_count": 28,
   "metadata": {
    "colab": {},
    "colab_type": "code",
    "id": "GgTdgFR3_M7L"
   },
   "outputs": [],
   "source": [
    "guide = config_enumerate(ss_vae.guide, \"sequential\", expand=True) #config_enumerate(ss_vae.guide, \"parallel\", expand=True)\n",
    "elbo = TraceEnum_ELBO(max_plate_nesting=1) #JitTraceEnum_ELBO\n",
    "loss_basic = SVI(ss_vae.model, guide, optimizer, loss=elbo)"
   ]
  },
  {
   "cell_type": "code",
   "execution_count": 29,
   "metadata": {
    "colab": {},
    "colab_type": "code",
    "id": "0S40F2TW_M7O"
   },
   "outputs": [],
   "source": [
    "losses = [loss_basic]"
   ]
  },
  {
   "cell_type": "markdown",
   "metadata": {
    "colab_type": "text",
    "id": "UPzK05gz_M7R"
   },
   "source": [
    "## adding auxillary loss $\\mathbb{E}_{sup}[-\\log q(y|\\vec{x})]$"
   ]
  },
  {
   "cell_type": "code",
   "execution_count": 30,
   "metadata": {
    "colab": {},
    "colab_type": "code",
    "id": "UFxFum0z_M7R"
   },
   "outputs": [],
   "source": [
    "elbo = Trace_ELBO()\n",
    "loss_aux = SVI(ss_vae.model_classify, ss_vae.guide_classify, optimizer, loss=elbo)\n",
    "losses.append(loss_aux)"
   ]
  },
  {
   "cell_type": "markdown",
   "metadata": {
    "colab_type": "text",
    "id": "VjkAaWLE_M7T"
   },
   "source": [
    "# Training"
   ]
  },
  {
   "cell_type": "code",
   "execution_count": 31,
   "metadata": {
    "colab": {},
    "colab_type": "code",
    "id": "zjauZ2xG_M7U"
   },
   "outputs": [],
   "source": [
    "sup_num = X_unsup.shape[0]\n",
    "unsup_num = X_unsup.shape[0]\n",
    "best_valid_acc, corresponding_test_acc = 0.0, 0.0"
   ]
  },
  {
   "cell_type": "code",
   "execution_count": 32,
   "metadata": {
    "colab": {},
    "colab_type": "code",
    "id": "HIgfXpGJ_M7X"
   },
   "outputs": [],
   "source": [
    "batch_size = 512"
   ]
  },
  {
   "cell_type": "code",
   "execution_count": 33,
   "metadata": {
    "colab": {},
    "colab_type": "code",
    "id": "DTzr_-LC_M7Z"
   },
   "outputs": [],
   "source": [
    "sup = d.SupervisedDataset(X_sup, One_Hot(4)(y_train))\n",
    "test = d.SupervisedDataset(X_test, One_Hot(4)(y_test))"
   ]
  },
  {
   "cell_type": "code",
   "execution_count": 34,
   "metadata": {
    "colab": {},
    "colab_type": "code",
    "id": "ngJlHQE7_M7c"
   },
   "outputs": [],
   "source": [
    "data_loaders = {}\n",
    "data_loaders[\"sup\"] = torch.utils.data.DataLoader(\n",
    "                            dataset=sup,\n",
    "                            batch_size=batch_size, \n",
    "                            shuffle=False, \n",
    "                            sampler=torch.utils.data.RandomSampler(\n",
    "                                sup, \n",
    "                                replacement=True,\n",
    "                                num_samples=X_unsup.shape[0]\n",
    "                                )\n",
    "                            )\n",
    "data_loaders[\"unsup\"] = torch.utils.data.DataLoader(\n",
    "                            dataset=torch.tensor(X_unsup).float(), \n",
    "                            batch_size=batch_size, \n",
    "                            shuffle=False, \n",
    "                            sampler=torch.utils.data.RandomSampler(\n",
    "                                X_unsup, \n",
    "                                replacement=False\n",
    "                                )\n",
    ")\n",
    "#data_loaders[\"valid\"] = torch.utils.data.DataLoader(SupervisedDataset(X_train[-5000:].view(-1, 1,28,28), y_train[-5000:]), \n",
    "#                                                  batch_size=batch_size)\n",
    "data_loaders[\"test\"] = torch.utils.data.DataLoader(test, batch_size=batch_size)                                                  "
   ]
  },
  {
   "cell_type": "code",
   "execution_count": 35,
   "metadata": {},
   "outputs": [],
   "source": [
    "sup_loss, unsup_loss, clf_loss, test_acc = [],[],[],[]\n"
   ]
  },
  {
   "cell_type": "code",
   "execution_count": 36,
   "metadata": {},
   "outputs": [],
   "source": [
    "n_epochs = 50"
   ]
  },
  {
   "cell_type": "code",
   "execution_count": 37,
   "metadata": {
    "colab": {},
    "colab_type": "code",
    "id": "ZpImoaajLLbp"
   },
   "outputs": [
    {
     "name": "stdout",
     "output_type": "stream",
     "text": [
      "Epoch [1/50], time 538.76s, sup_loss:3.7910, sup_clf_loss:3170.5262, unsup_loss:-23.9907, test_accuracy:0.8829\n",
      "Epoch [2/50], time 538.55s, sup_loss:-95.1375, sup_clf_loss:2064.7858, unsup_loss:-125.1949, test_accuracy:0.9028\n",
      "Epoch [3/50], time 551.56s, sup_loss:-125.6118, sup_clf_loss:1792.6574, unsup_loss:-150.3259, test_accuracy:0.9151\n",
      "Epoch [4/50], time 567.21s, sup_loss:-142.3999, sup_clf_loss:1635.4805, unsup_loss:-165.7822, test_accuracy:0.9162\n",
      "Epoch [5/50], time 567.87s, sup_loss:-153.6416, sup_clf_loss:1527.3140, unsup_loss:-175.7674, test_accuracy:0.9104\n",
      "Epoch [6/50], time 573.59s, sup_loss:-159.8302, sup_clf_loss:1413.0117, unsup_loss:-180.9021, test_accuracy:0.9242\n",
      "Epoch [7/50], time 578.24s, sup_loss:-161.4024, sup_clf_loss:1352.8652, unsup_loss:-184.8013, test_accuracy:0.9227\n",
      "Epoch [8/50], time 581.42s, sup_loss:-170.6576, sup_clf_loss:1289.1355, unsup_loss:-192.0674, test_accuracy:0.9291\n",
      "Epoch [9/50], time 558.12s, sup_loss:-168.9978, sup_clf_loss:1181.2017, unsup_loss:-194.3888, test_accuracy:0.9284\n",
      "Epoch [10/50], time 632.96s, sup_loss:-173.5591, sup_clf_loss:1120.2970, unsup_loss:-195.6782, test_accuracy:0.9380\n",
      "Epoch [11/50], time 632.84s, sup_loss:-175.4230, sup_clf_loss:1065.1115, unsup_loss:-201.7224, test_accuracy:0.9402\n",
      "Epoch [12/50], time 529.83s, sup_loss:-177.3531, sup_clf_loss:999.0071, unsup_loss:-199.1160, test_accuracy:0.9162\n",
      "Epoch [13/50], time 581.75s, sup_loss:-182.3729, sup_clf_loss:1005.4335, unsup_loss:-205.1933, test_accuracy:0.9300\n",
      "Epoch [14/50], time 575.25s, sup_loss:-183.6576, sup_clf_loss:935.4490, unsup_loss:-203.1435, test_accuracy:0.9455\n",
      "Epoch [15/50], time 584.48s, sup_loss:-186.9994, sup_clf_loss:893.2591, unsup_loss:-209.4533, test_accuracy:0.9441\n",
      "Epoch [16/50], time 618.48s, sup_loss:-188.1361, sup_clf_loss:845.4090, unsup_loss:-210.2604, test_accuracy:0.9376\n",
      "Epoch [17/50], time 1077.49s, sup_loss:-187.4065, sup_clf_loss:847.8892, unsup_loss:-211.9746, test_accuracy:0.9397\n",
      "Epoch [18/50], time 1222.76s, sup_loss:-189.6757, sup_clf_loss:781.4341, unsup_loss:-212.5322, test_accuracy:0.9466\n",
      "Epoch [19/50], time 1274.09s, sup_loss:-189.8478, sup_clf_loss:749.5069, unsup_loss:-213.1334, test_accuracy:0.9572\n",
      "Epoch [20/50], time 1293.74s, sup_loss:-188.2287, sup_clf_loss:722.1932, unsup_loss:-214.9144, test_accuracy:0.9529\n",
      "Epoch [21/50], time 755.36s, sup_loss:-194.2000, sup_clf_loss:694.9420, unsup_loss:-217.0554, test_accuracy:0.9571\n",
      "Epoch [22/50], time 554.19s, sup_loss:-192.1829, sup_clf_loss:642.4458, unsup_loss:-216.5683, test_accuracy:0.9524\n",
      "Epoch [23/50], time 600.05s, sup_loss:-195.0673, sup_clf_loss:621.9856, unsup_loss:-215.5117, test_accuracy:0.9536\n",
      "Epoch [24/50], time 598.68s, sup_loss:-195.7391, sup_clf_loss:583.9338, unsup_loss:-216.9009, test_accuracy:0.9609\n",
      "Epoch [25/50], time 566.34s, sup_loss:-198.4279, sup_clf_loss:562.5562, unsup_loss:-219.0163, test_accuracy:0.9599\n",
      "Epoch [26/50], time 606.92s, sup_loss:-197.4325, sup_clf_loss:508.4377, unsup_loss:-220.2207, test_accuracy:0.9516\n",
      "Epoch [27/50], time 692.11s, sup_loss:-199.7056, sup_clf_loss:493.1449, unsup_loss:-220.6830, test_accuracy:0.9533\n",
      "Epoch [28/50], time 625.04s, sup_loss:-200.8971, sup_clf_loss:468.9125, unsup_loss:-222.3241, test_accuracy:0.9628\n",
      "Epoch [29/50], time 598.46s, sup_loss:-198.1494, sup_clf_loss:512.9164, unsup_loss:-220.9039, test_accuracy:0.9678\n",
      "Epoch [30/50], time 599.75s, sup_loss:-201.3334, sup_clf_loss:407.7334, unsup_loss:-224.3708, test_accuracy:0.9672\n",
      "Epoch [31/50], time 597.94s, sup_loss:-200.4993, sup_clf_loss:410.4192, unsup_loss:-227.5237, test_accuracy:0.9660\n",
      "Epoch [32/50], time 591.37s, sup_loss:-203.8108, sup_clf_loss:405.1354, unsup_loss:-225.9228, test_accuracy:0.9674\n",
      "Epoch [33/50], time 588.56s, sup_loss:-204.2365, sup_clf_loss:375.5822, unsup_loss:-224.6099, test_accuracy:0.9661\n",
      "Epoch [34/50], time 588.54s, sup_loss:-204.1552, sup_clf_loss:362.2607, unsup_loss:-226.6919, test_accuracy:0.9664\n",
      "Epoch [35/50], time 591.23s, sup_loss:-206.0944, sup_clf_loss:427.4266, unsup_loss:-227.0520, test_accuracy:0.9710\n",
      "Epoch [36/50], time 599.59s, sup_loss:-204.2829, sup_clf_loss:303.0285, unsup_loss:-226.4333, test_accuracy:0.9743\n",
      "Epoch [37/50], time 600.81s, sup_loss:-207.7107, sup_clf_loss:300.2913, unsup_loss:-229.6399, test_accuracy:0.9691\n",
      "Epoch [38/50], time 562.47s, sup_loss:-202.8644, sup_clf_loss:307.7317, unsup_loss:-229.5311, test_accuracy:0.9678\n",
      "Epoch [39/50], time 558.41s, sup_loss:-205.6633, sup_clf_loss:273.2076, unsup_loss:-228.5425, test_accuracy:0.9642\n",
      "Epoch [40/50], time 552.97s, sup_loss:-206.3905, sup_clf_loss:279.1163, unsup_loss:-230.1883, test_accuracy:0.9690\n",
      "Epoch [41/50], time 572.21s, sup_loss:-204.4087, sup_clf_loss:276.3485, unsup_loss:-230.6125, test_accuracy:0.9673\n",
      "Epoch [42/50], time 574.99s, sup_loss:-207.1747, sup_clf_loss:230.4765, unsup_loss:-230.5296, test_accuracy:0.9747\n",
      "Epoch [43/50], time 586.24s, sup_loss:-207.1583, sup_clf_loss:245.4243, unsup_loss:-231.0774, test_accuracy:0.9730\n",
      "Epoch [44/50], time 574.79s, sup_loss:-203.5791, sup_clf_loss:250.1757, unsup_loss:-231.5873, test_accuracy:0.9762\n",
      "Epoch [45/50], time 565.82s, sup_loss:-209.7744, sup_clf_loss:195.9752, unsup_loss:-231.6379, test_accuracy:0.9715\n",
      "Epoch [46/50], time 562.05s, sup_loss:-210.1705, sup_clf_loss:168.7352, unsup_loss:-233.1083, test_accuracy:0.9754\n",
      "Epoch [47/50], time 558.85s, sup_loss:-208.7892, sup_clf_loss:184.4385, unsup_loss:-230.1672, test_accuracy:0.9758\n",
      "Epoch [48/50], time 618.15s, sup_loss:-210.0609, sup_clf_loss:325.3505, unsup_loss:-234.6411, test_accuracy:0.9767\n",
      "Epoch [49/50], time 650.22s, sup_loss:-208.6814, sup_clf_loss:132.1002, unsup_loss:-233.0217, test_accuracy:0.9776\n",
      "Epoch [50/50], time 640.95s, sup_loss:-212.8276, sup_clf_loss:156.2736, unsup_loss:-234.9286, test_accuracy:0.9750\n"
     ]
    }
   ],
   "source": [
    "for i in range(0,n_epochs): # 10 epochs for start\n",
    "    start = time.time()\n",
    "    epoch_sup_loss, epoch_unsup_loss = run_inference_for_epoch(data_loaders, losses)\n",
    "\n",
    "    sup_loss.append(epoch_sup_loss[0]/sup_num)\n",
    "    clf_loss.append(epoch_sup_loss[1]/sup_num)\n",
    "    unsup_loss.append(epoch_unsup_loss[0]/unsup_num)\n",
    "\n",
    "    test_accuracy = get_accuracy(data_loaders[\"test\"], ss_vae.encoder_y)\n",
    "    test_acc.append(test_accuracy)\n",
    "\n",
    "    \n",
    "    print(\"Epoch [{}/{}], time {:.2f}s, sup_loss:{:.4f}, sup_clf_loss:{:.4f}, unsup_loss:{:.4f}, test_accuracy:{:.4f}\"\\\n",
    "          .format(i+1, n_epochs, time.time()-start, sup_loss[-1], clf_loss[-1], unsup_loss[-1], test_accuracy))\n"
   ]
  },
  {
   "cell_type": "code",
   "execution_count": 39,
   "metadata": {
    "scrolled": false
   },
   "outputs": [
    {
     "data": {
      "image/png": "[encoded data removed]",
      "text/plain": [
       "<Figure size 1080x1440 with 4 Axes>"
      ]
     },
     "metadata": {
      "needs_background": "light"
     },
     "output_type": "display_data"
    }
   ],
   "source": [
    "alpha = 0.1*66944\n",
    "fig, axes = plt.subplots(4,1, figsize=(15,20))\n",
    "fig.tight_layout()\n",
    "axes[0].plot(np.array(sup_loss), label=\"supervised loss\")\n",
    "axes[0].plot(np.array(unsup_loss), label=\"unsupervised loss\")\n",
    "axes[0].legend()\n",
    "\n",
    "axes[1].plot(np.array(clf_loss), label=\"classification loss\")\n",
    "axes[1].legend()\n",
    "\n",
    "axes[2].plot(np.array(test_acc), label=\"accuracy\")\n",
    "axes[2].grid(True)\n",
    "axes[2].legend()\n",
    "\n",
    "axes[3].plot(np.array(sup_loss) + np.array(unsup_loss)  + alpha * np.array(clf_loss), label=r\"$\\mathcal{J}^{\\alpha}$\")\n",
    "axes[3].legend()\n",
    "plt.show()"
   ]
  },
  {
   "cell_type": "code",
   "execution_count": 40,
   "metadata": {},
   "outputs": [
    {
     "name": "stderr",
     "output_type": "stream",
     "text": [
      "C:\\Users\\ghost_000\\Miniconda3\\envs\\Pytorch\\lib\\site-packages\\torch\\serialization.py:360: UserWarning: Couldn't retrieve source code for container of type SSVAE. It won't be checked for correctness upon loading.\n",
      "  \"type \" + obj.__name__ + \". It won't be checked \"\n",
      "C:\\Users\\ghost_000\\Miniconda3\\envs\\Pytorch\\lib\\site-packages\\torch\\serialization.py:360: UserWarning: Couldn't retrieve source code for container of type Encoder. It won't be checked for correctness upon loading.\n",
      "  \"type \" + obj.__name__ + \". It won't be checked \"\n",
      "C:\\Users\\ghost_000\\Miniconda3\\envs\\Pytorch\\lib\\site-packages\\torch\\serialization.py:360: UserWarning: Couldn't retrieve source code for container of type VariationalLayer. It won't be checked for correctness upon loading.\n",
      "  \"type \" + obj.__name__ + \". It won't be checked \"\n",
      "C:\\Users\\ghost_000\\Miniconda3\\envs\\Pytorch\\lib\\site-packages\\torch\\serialization.py:360: UserWarning: Couldn't retrieve source code for container of type ConvTransposeDecoderOutput. It won't be checked for correctness upon loading.\n",
      "  \"type \" + obj.__name__ + \". It won't be checked \"\n"
     ]
    }
   ],
   "source": [
    "torch.save(ss_vae, \"models_and_losses/SSVAE_InceptionTime_proper_scale_lr-1e-4_50ep.pt\")\n",
    "torch.save(ss_vae.state_dict(), \"models_and_losses/SSVAE_InceptionTime_proper_scale_lr-1e-4_state_dict_50ep.pt\")\n",
    "torch.save(ss_vae.encoder_y, \"models_and_losses/SSVAE_InceptionTime_proper_scale_classifier_lr-1e-4_50ep.pt\")\n",
    "torch.save(ss_vae.encoder_y.state_dict(), \"models_and_losses/SSVAE_InceptionTime_proper_scale_classifier_lr-1e-4_state_dict_50ep.pt\")"
   ]
  },
  {
   "cell_type": "code",
   "execution_count": 41,
   "metadata": {},
   "outputs": [
    {
     "data": {
      "text/html": [
       "<div>\n",
       "<style scoped>\n",
       "    .dataframe tbody tr th:only-of-type {\n",
       "        vertical-align: middle;\n",
       "    }\n",
       "\n",
       "    .dataframe tbody tr th {\n",
       "        vertical-align: top;\n",
       "    }\n",
       "\n",
       "    .dataframe thead th {\n",
       "        text-align: right;\n",
       "    }\n",
       "</style>\n",
       "<table border=\"1\" class=\"dataframe\">\n",
       "  <thead>\n",
       "    <tr style=\"text-align: right;\">\n",
       "      <th></th>\n",
       "      <th>supervised_loss</th>\n",
       "      <th>unsupervised_loss</th>\n",
       "      <th>classification_loss</th>\n",
       "      <th>test_accuracy</th>\n",
       "    </tr>\n",
       "  </thead>\n",
       "  <tbody>\n",
       "    <tr>\n",
       "      <th>0</th>\n",
       "      <td>3.790969</td>\n",
       "      <td>-23.990682</td>\n",
       "      <td>3170.526222</td>\n",
       "      <td>0.882942</td>\n",
       "    </tr>\n",
       "    <tr>\n",
       "      <th>1</th>\n",
       "      <td>-95.137534</td>\n",
       "      <td>-125.194930</td>\n",
       "      <td>2064.785821</td>\n",
       "      <td>0.902850</td>\n",
       "    </tr>\n",
       "    <tr>\n",
       "      <th>2</th>\n",
       "      <td>-125.611761</td>\n",
       "      <td>-150.325867</td>\n",
       "      <td>1792.657386</td>\n",
       "      <td>0.915074</td>\n",
       "    </tr>\n",
       "    <tr>\n",
       "      <th>3</th>\n",
       "      <td>-142.399949</td>\n",
       "      <td>-165.782175</td>\n",
       "      <td>1635.480496</td>\n",
       "      <td>0.916242</td>\n",
       "    </tr>\n",
       "    <tr>\n",
       "      <th>4</th>\n",
       "      <td>-153.641615</td>\n",
       "      <td>-175.767372</td>\n",
       "      <td>1527.314026</td>\n",
       "      <td>0.910393</td>\n",
       "    </tr>\n",
       "  </tbody>\n",
       "</table>\n",
       "</div>"
      ],
      "text/plain": [
       "   supervised_loss  unsupervised_loss  classification_loss  test_accuracy\n",
       "0         3.790969         -23.990682          3170.526222       0.882942\n",
       "1       -95.137534        -125.194930          2064.785821       0.902850\n",
       "2      -125.611761        -150.325867          1792.657386       0.915074\n",
       "3      -142.399949        -165.782175          1635.480496       0.916242\n",
       "4      -153.641615        -175.767372          1527.314026       0.910393"
      ]
     },
     "execution_count": 41,
     "metadata": {},
     "output_type": "execute_result"
    }
   ],
   "source": [
    "import pandas as pd\n",
    "\n",
    "df = pd.DataFrame({\"supervised_loss\":sup_loss, \"unsupervised_loss\":unsup_loss, \"classification_loss\":clf_loss,  \"test_accuracy\":test_acc})\n",
    "df.head()"
   ]
  },
  {
   "cell_type": "code",
   "execution_count": 42,
   "metadata": {},
   "outputs": [],
   "source": [
    "df.to_csv(\"models_and_losses/SSVAE_CBN_proper_scale_lr-1e-4_100ep_losses.csv\")"
   ]
  },
  {
   "cell_type": "code",
   "execution_count": 43,
   "metadata": {},
   "outputs": [],
   "source": [
    "#pred = ss_vae.encoder_y(torch.tensor(X_test).float().cuda())\n",
    "preds = []\n",
    "ss_vae.encoder_y.eval()\n",
    "with torch.no_grad():\n",
    "    for (xs, ys) in data_loaders[\"test\"]:\n",
    "        xs = xs.cuda()\n",
    "        pred = ss_vae.encoder_y(xs)\n",
    "        preds.append(np.argmax(pred.cpu().detach().numpy(), axis=1))\n",
    "\n"
   ]
  },
  {
   "cell_type": "code",
   "execution_count": 44,
   "metadata": {},
   "outputs": [],
   "source": [
    "preds = np.hstack(preds)"
   ]
  },
  {
   "cell_type": "code",
   "execution_count": 45,
   "metadata": {},
   "outputs": [
    {
     "data": {
      "text/plain": [
       "0.9406177712415476"
      ]
     },
     "execution_count": 45,
     "metadata": {},
     "output_type": "execute_result"
    }
   ],
   "source": [
    "f1_score(y_true=y_test, y_pred=preds,average=\"macro\")"
   ]
  },
  {
   "cell_type": "code",
   "execution_count": 46,
   "metadata": {},
   "outputs": [
    {
     "data": {
      "text/plain": [
       "0.9768164435946463"
      ]
     },
     "execution_count": 46,
     "metadata": {},
     "output_type": "execute_result"
    }
   ],
   "source": [
    "accuracy_score(y_true=y_test, y_pred=preds)"
   ]
  },
  {
   "cell_type": "code",
   "execution_count": 47,
   "metadata": {},
   "outputs": [
    {
     "data": {
      "text/plain": [
       "array([[ 4051,    42,    21,   121],\n",
       "       [   18, 10416,     1,    10],\n",
       "       [   34,     3,   428,    14],\n",
       "       [   69,    20,    35,  1453]], dtype=int64)"
      ]
     },
     "execution_count": 47,
     "metadata": {},
     "output_type": "execute_result"
    }
   ],
   "source": [
    "cf1 = confusion_matrix(y_true=y_test, y_pred=preds) # x_axis = predicted, y_axis = ground_truth\n",
    "cf1"
   ]
  },
  {
   "cell_type": "markdown",
   "metadata": {},
   "source": [
    "       \n",
    "       [[ 3805,   296,    27,   107],\n",
    "       [   91, 10307,     8,    39],\n",
    "       [   22,     8,   425,    24],\n",
    "       [  169,    37,    20,  1351]] \n",
    "       InceptionTime best model so far\n",
    "       "
   ]
  },
  {
   "cell_type": "code",
   "execution_count": null,
   "metadata": {},
   "outputs": [],
   "source": []
  }
 ],
 "metadata": {
  "accelerator": "GPU",
  "colab": {
   "collapsed_sections": [
    "UPzK05gz_M7R"
   ],
   "name": "SSVAE_with_Pyro_H_alpha.ipynb",
   "provenance": []
  },
  "kernelspec": {
   "display_name": "Pytorch",
   "language": "python",
   "name": "pytorch"
  },
  "language_info": {
   "codemirror_mode": {
    "name": "ipython",
    "version": 3
   },
   "file_extension": ".py",
   "mimetype": "text/x-python",
   "name": "python",
   "nbconvert_exporter": "python",
   "pygments_lexer": "ipython3",
   "version": "3.6.10"
  }
 },
 "nbformat": 4,
 "nbformat_minor": 1
}
