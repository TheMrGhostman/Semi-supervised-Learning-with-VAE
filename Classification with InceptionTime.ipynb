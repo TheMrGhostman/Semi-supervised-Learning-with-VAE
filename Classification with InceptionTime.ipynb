{
 "cells": [
  {
   "cell_type": "code",
   "execution_count": 1,
   "metadata": {},
   "outputs": [],
   "source": [
    "import numpy as np \n",
    "import time\n",
    "\n",
    "import torch \n",
    "import torch.nn as nn\n",
    "import torch.nn.functional as F \n",
    "\n",
    "import matplotlib.pyplot as plt\n",
    "from collections import OrderedDict\n",
    "\n",
    "from sklearn.model_selection import train_test_split\n",
    "from sklearn.metrics import confusion_matrix, accuracy_score, f1_score\n",
    "from sklearn.preprocessing import RobustScaler\n",
    "\n",
    "from utils.inference import Trainer, plot_loss\n",
    "from utils.models import DNN\n",
    "import utils.datasets as d"
   ]
  },
  {
   "cell_type": "code",
   "execution_count": 2,
   "metadata": {},
   "outputs": [],
   "source": [
    "from utils.inception import Inception, InceptionBlock, correct_sizes\n",
    "from utils import layers"
   ]
  },
  {
   "cell_type": "code",
   "execution_count": 3,
   "metadata": {},
   "outputs": [],
   "source": [
    "X = np.vstack((np.load(\"data/sequenced_data_for_VAE_length-160_stride-10_pt1.npy\"),\n",
    "               np.load(\"data/sequenced_data_for_VAE_length-160_stride-10_pt2.npy\")))\n",
    "y = np.load(\"data/sequenced_data_for_VAE_length-160_stride-10_targets.npy\")"
   ]
  },
  {
   "cell_type": "code",
   "execution_count": 4,
   "metadata": {},
   "outputs": [],
   "source": [
    "X_train, X_test, y_train, y_test = train_test_split(X, y, test_size=0.2, random_state=666)"
   ]
  },
  {
   "cell_type": "code",
   "execution_count": 5,
   "metadata": {},
   "outputs": [],
   "source": [
    "scaler = RobustScaler()\n",
    "X_train = scaler.fit_transform(X_train)\n",
    "X_test = scaler.transform(X_test)"
   ]
  },
  {
   "cell_type": "code",
   "execution_count": 6,
   "metadata": {},
   "outputs": [],
   "source": [
    "X_train, X_validation, y_train, y_validation = train_test_split(X_train, y_train, test_size=0.2, random_state=666)"
   ]
  },
  {
   "cell_type": "code",
   "execution_count": 7,
   "metadata": {},
   "outputs": [],
   "source": [
    "train = d.H_alphaSequences(X_train, y_train)\n",
    "valid = d.H_alphaSequences(X_validation, y_validation)\n",
    "test = d.H_alphaSequences(X_test, y_test)"
   ]
  },
  {
   "cell_type": "code",
   "execution_count": 8,
   "metadata": {},
   "outputs": [
    {
     "data": {
      "text/plain": [
       "[5, 11, 23]"
      ]
     },
     "execution_count": 8,
     "metadata": {},
     "output_type": "execute_result"
    }
   ],
   "source": [
    "correct_sizes([6,12,24])"
   ]
  },
  {
   "cell_type": "code",
   "execution_count": 79,
   "metadata": {},
   "outputs": [],
   "source": [
    "IT = nn.Sequential(\n",
    "            layers.Reshape(out_shape=(1,160)),\n",
    "            InceptionBlock(\n",
    "                in_channels=1, \n",
    "                n_filters=32, \n",
    "                kernel_sizes=[5, 11, 23],\n",
    "                bottleneck_channels=32,\n",
    "                use_residual=True,\n",
    "                activation=nn.ReLU()\n",
    "            ),\n",
    "            nn.AdaptiveAvgPool1d(output_size=1),\n",
    "            layers.Flatten(out_features=32*4*1),\n",
    "            nn.Linear(in_features=4*32*1, out_features=4)\n",
    ")"
   ]
  },
  {
   "cell_type": "code",
   "execution_count": 80,
   "metadata": {},
   "outputs": [
    {
     "data": {
      "text/plain": [
       "Sequential(\n",
       "  (0): Reshape()\n",
       "  (1): InceptionBlock(\n",
       "    (activation): ReLU()\n",
       "    (inception_1): Inception(\n",
       "      (conv_from_bottleneck_1): Conv1d(1, 32, kernel_size=(5,), stride=(1,), padding=(2,), bias=False)\n",
       "      (conv_from_bottleneck_2): Conv1d(1, 32, kernel_size=(11,), stride=(1,), padding=(5,), bias=False)\n",
       "      (conv_from_bottleneck_3): Conv1d(1, 32, kernel_size=(23,), stride=(1,), padding=(11,), bias=False)\n",
       "      (max_pool): MaxPool1d(kernel_size=3, stride=1, padding=1, dilation=1, ceil_mode=False)\n",
       "      (conv_from_maxpool): Conv1d(1, 32, kernel_size=(1,), stride=(1,), bias=False)\n",
       "      (batch_norm): BatchNorm1d(128, eps=1e-05, momentum=0.1, affine=True, track_running_stats=True)\n",
       "      (activation): ReLU()\n",
       "    )\n",
       "    (inception_2): Inception(\n",
       "      (bottleneck): Conv1d(128, 32, kernel_size=(1,), stride=(1,), bias=False)\n",
       "      (conv_from_bottleneck_1): Conv1d(32, 32, kernel_size=(5,), stride=(1,), padding=(2,), bias=False)\n",
       "      (conv_from_bottleneck_2): Conv1d(32, 32, kernel_size=(11,), stride=(1,), padding=(5,), bias=False)\n",
       "      (conv_from_bottleneck_3): Conv1d(32, 32, kernel_size=(23,), stride=(1,), padding=(11,), bias=False)\n",
       "      (max_pool): MaxPool1d(kernel_size=3, stride=1, padding=1, dilation=1, ceil_mode=False)\n",
       "      (conv_from_maxpool): Conv1d(128, 32, kernel_size=(1,), stride=(1,), bias=False)\n",
       "      (batch_norm): BatchNorm1d(128, eps=1e-05, momentum=0.1, affine=True, track_running_stats=True)\n",
       "      (activation): ReLU()\n",
       "    )\n",
       "    (inception_3): Inception(\n",
       "      (bottleneck): Conv1d(128, 32, kernel_size=(1,), stride=(1,), bias=False)\n",
       "      (conv_from_bottleneck_1): Conv1d(32, 32, kernel_size=(5,), stride=(1,), padding=(2,), bias=False)\n",
       "      (conv_from_bottleneck_2): Conv1d(32, 32, kernel_size=(11,), stride=(1,), padding=(5,), bias=False)\n",
       "      (conv_from_bottleneck_3): Conv1d(32, 32, kernel_size=(23,), stride=(1,), padding=(11,), bias=False)\n",
       "      (max_pool): MaxPool1d(kernel_size=3, stride=1, padding=1, dilation=1, ceil_mode=False)\n",
       "      (conv_from_maxpool): Conv1d(128, 32, kernel_size=(1,), stride=(1,), bias=False)\n",
       "      (batch_norm): BatchNorm1d(128, eps=1e-05, momentum=0.1, affine=True, track_running_stats=True)\n",
       "      (activation): ReLU()\n",
       "    )\n",
       "    (residual): Sequential(\n",
       "      (0): Conv1d(1, 128, kernel_size=(1,), stride=(1,))\n",
       "      (1): BatchNorm1d(128, eps=1e-05, momentum=0.1, affine=True, track_running_stats=True)\n",
       "    )\n",
       "  )\n",
       "  (2): AdaptiveAvgPool1d(output_size=1)\n",
       "  (3): Flatten()\n",
       "  (4): Linear(in_features=128, out_features=4, bias=True)\n",
       ")"
      ]
     },
     "execution_count": 80,
     "metadata": {},
     "output_type": "execute_result"
    }
   ],
   "source": [
    "IT"
   ]
  },
  {
   "cell_type": "code",
   "execution_count": 81,
   "metadata": {},
   "outputs": [],
   "source": [
    "train_loader = torch.utils.data.DataLoader(dataset = train, batch_size=512, shuffle=True)\n",
    "valid_loader = torch.utils.data.DataLoader(dataset = valid, batch_size=512, shuffle=True)"
   ]
  },
  {
   "cell_type": "code",
   "execution_count": 82,
   "metadata": {},
   "outputs": [],
   "source": [
    "optimizer= torch.optim.Adam(IT.parameters(), lr=3e-3)"
   ]
  },
  {
   "cell_type": "code",
   "execution_count": 83,
   "metadata": {
    "scrolled": true
   },
   "outputs": [
    {
     "name": "stdout",
     "output_type": "stream",
     "text": [
      "cuda:0\n"
     ]
    }
   ],
   "source": [
    "m1 = Trainer(\n",
    "        model=IT,\n",
    "        optimizer=optimizer,\n",
    "        loss_function=nn.CrossEntropyLoss(),\n",
    "        #scheduler=torch.optim.lr_scheduler.MultiStepLR(optimizer, milestones=[5,20], gamma=0.5),\n",
    "        tensorboard=True,\n",
    "        model_name=\"InceptionTime_lr-3e-3_bs-512_ks-[5,11,23]\",\n",
    "        verbose=True\n",
    "        )"
   ]
  },
  {
   "cell_type": "code",
   "execution_count": 84,
   "metadata": {},
   "outputs": [
    {
     "name": "stdout",
     "output_type": "stream",
     "text": [
      "Epoch [1/50], average_loss:0.6614, validation_loss:0.5230, val_accuracy:0.7403\n",
      "Epoch [2/50], average_loss:0.4672, validation_loss:0.3994, val_accuracy:0.8701\n",
      "Epoch [3/50], average_loss:0.3930, validation_loss:0.4434, val_accuracy:0.8701\n",
      "Epoch [4/50], average_loss:0.3608, validation_loss:0.4828, val_accuracy:0.8442\n",
      "Epoch [5/50], average_loss:0.3407, validation_loss:0.3702, val_accuracy:0.8831\n",
      "Epoch [6/50], average_loss:0.3237, validation_loss:0.3469, val_accuracy:0.7532\n",
      "Epoch [7/50], average_loss:0.3177, validation_loss:0.2992, val_accuracy:0.9091\n",
      "Epoch [8/50], average_loss:0.3101, validation_loss:0.7815, val_accuracy:0.7922\n",
      "Epoch [9/50], average_loss:0.3058, validation_loss:0.3221, val_accuracy:0.8961\n",
      "Epoch [10/50], average_loss:0.2949, validation_loss:0.3329, val_accuracy:0.8961\n",
      "Epoch [11/50], average_loss:0.2908, validation_loss:0.4218, val_accuracy:0.8961\n",
      "Epoch [12/50], average_loss:0.2844, validation_loss:0.3169, val_accuracy:0.8052\n",
      "Epoch [13/50], average_loss:0.2776, validation_loss:0.3125, val_accuracy:0.9091\n",
      "Epoch [14/50], average_loss:0.2737, validation_loss:0.2811, val_accuracy:0.8831\n",
      "Epoch [15/50], average_loss:0.2667, validation_loss:0.4202, val_accuracy:0.8052\n",
      "Epoch [16/50], average_loss:0.2611, validation_loss:0.3076, val_accuracy:0.8961\n",
      "Epoch [17/50], average_loss:0.2532, validation_loss:0.2677, val_accuracy:0.7922\n",
      "Epoch [18/50], average_loss:0.2490, validation_loss:0.2727, val_accuracy:0.8831\n",
      "Epoch [19/50], average_loss:0.2460, validation_loss:0.2468, val_accuracy:0.8571\n",
      "Epoch [20/50], average_loss:0.2493, validation_loss:0.3007, val_accuracy:0.8831\n",
      "Epoch [21/50], average_loss:0.2424, validation_loss:0.2463, val_accuracy:0.8961\n",
      "Epoch [22/50], average_loss:0.2406, validation_loss:0.2622, val_accuracy:0.8571\n",
      "Epoch [23/50], average_loss:0.2458, validation_loss:0.6429, val_accuracy:0.7662\n",
      "Epoch [24/50], average_loss:0.2386, validation_loss:0.3033, val_accuracy:0.8442\n",
      "Epoch [25/50], average_loss:0.2315, validation_loss:0.2809, val_accuracy:0.8831\n",
      "Epoch [26/50], average_loss:0.2266, validation_loss:0.2192, val_accuracy:0.9481\n",
      "Epoch [27/50], average_loss:0.2252, validation_loss:0.2738, val_accuracy:0.9091\n",
      "Epoch [28/50], average_loss:0.2243, validation_loss:0.3005, val_accuracy:0.8442\n",
      "Epoch [29/50], average_loss:0.2194, validation_loss:0.2766, val_accuracy:0.8701\n",
      "Epoch [30/50], average_loss:0.2187, validation_loss:0.2911, val_accuracy:0.9091\n",
      "Epoch [31/50], average_loss:0.2176, validation_loss:0.2456, val_accuracy:0.8701\n",
      "Epoch [32/50], average_loss:0.2183, validation_loss:0.2270, val_accuracy:0.9610\n",
      "Epoch [33/50], average_loss:0.2145, validation_loss:0.2585, val_accuracy:0.8701\n",
      "Epoch [34/50], average_loss:0.2101, validation_loss:0.2433, val_accuracy:0.8831\n",
      "Epoch [35/50], average_loss:0.2114, validation_loss:0.2272, val_accuracy:0.8831\n",
      "Epoch [36/50], average_loss:0.2103, validation_loss:0.2765, val_accuracy:0.8961\n",
      "Epoch [37/50], average_loss:0.2083, validation_loss:0.2219, val_accuracy:0.9351\n",
      "Epoch [38/50], average_loss:0.2050, validation_loss:0.2774, val_accuracy:0.9091\n",
      "Epoch [39/50], average_loss:0.2021, validation_loss:0.4430, val_accuracy:0.8052\n",
      "Epoch [40/50], average_loss:0.1986, validation_loss:0.2653, val_accuracy:0.9091\n",
      "Epoch [41/50], average_loss:0.1998, validation_loss:0.2279, val_accuracy:0.9221\n",
      "Epoch [42/50], average_loss:0.1958, validation_loss:0.2071, val_accuracy:0.9610\n",
      "Epoch [43/50], average_loss:0.1974, validation_loss:0.2202, val_accuracy:0.9481\n",
      "Epoch [44/50], average_loss:0.1943, validation_loss:0.2724, val_accuracy:0.8182\n",
      "Epoch [45/50], average_loss:0.1911, validation_loss:0.2228, val_accuracy:0.9091\n",
      "Epoch [46/50], average_loss:0.1942, validation_loss:0.2435, val_accuracy:0.9351\n",
      "Epoch [47/50], average_loss:0.1880, validation_loss:0.2204, val_accuracy:0.8701\n",
      "Epoch [48/50], average_loss:0.1868, validation_loss:0.2058, val_accuracy:0.9610\n",
      "Epoch [49/50], average_loss:0.1887, validation_loss:0.2330, val_accuracy:0.9091\n",
      "Epoch [50/50], average_loss:0.1898, validation_loss:0.2707, val_accuracy:0.9610\n"
     ]
    }
   ],
   "source": [
    "lh = m1(epochs=range(50), train_loader=train_loader, validation_loader=valid_loader)"
   ]
  },
  {
   "cell_type": "code",
   "execution_count": 50,
   "metadata": {},
   "outputs": [],
   "source": [
    "m1.tb.close()"
   ]
  },
  {
   "cell_type": "code",
   "execution_count": 27,
   "metadata": {},
   "outputs": [
    {
     "data": {
      "text/plain": [
       "(16736, 160)"
      ]
     },
     "execution_count": 27,
     "metadata": {},
     "output_type": "execute_result"
    }
   ],
   "source": [
    "X_test.shape"
   ]
  },
  {
   "cell_type": "code",
   "execution_count": 88,
   "metadata": {},
   "outputs": [],
   "source": [
    "#torch.save(m1.model, \"models_and_losses/InceptionTime_lr-3e-3_bs-512_ks-[5,11,23]_51-epochs.pt\")"
   ]
  },
  {
   "cell_type": "code",
   "execution_count": 120,
   "metadata": {},
   "outputs": [],
   "source": [
    "m1.model.eval()\n",
    "with torch.no_grad():\n",
    "    x_pred = np.argmax(m1.model(torch.tensor(X_test).float()).detach(), axis=1)"
   ]
  },
  {
   "cell_type": "code",
   "execution_count": 121,
   "metadata": {
    "scrolled": false
   },
   "outputs": [
    {
     "data": {
      "text/plain": [
       "tensor([1, 1, 1,  ..., 3, 1, 0])"
      ]
     },
     "execution_count": 121,
     "metadata": {},
     "output_type": "execute_result"
    }
   ],
   "source": [
    "x_pred"
   ]
  },
  {
   "cell_type": "code",
   "execution_count": 122,
   "metadata": {},
   "outputs": [
    {
     "data": {
      "text/plain": [
       "0.8218793419973198"
      ]
     },
     "execution_count": 122,
     "metadata": {},
     "output_type": "execute_result"
    }
   ],
   "source": [
    "f1_score(y_true=y_test, y_pred=x_pred,average=\"macro\")"
   ]
  },
  {
   "cell_type": "code",
   "execution_count": 123,
   "metadata": {},
   "outputs": [
    {
     "data": {
      "text/plain": [
       "0.9038001912045889"
      ]
     },
     "execution_count": 123,
     "metadata": {},
     "output_type": "execute_result"
    }
   ],
   "source": [
    "accuracy_score(y_true=y_test, y_pred=x_pred)"
   ]
  },
  {
   "cell_type": "code",
   "execution_count": 124,
   "metadata": {},
   "outputs": [
    {
     "data": {
      "text/plain": [
       "array([[ 3244,   398,    25,   568],\n",
       "       [  132, 10218,    18,    77],\n",
       "       [   21,    68,   335,    55],\n",
       "       [   92,   118,    38,  1329]], dtype=int64)"
      ]
     },
     "execution_count": 124,
     "metadata": {},
     "output_type": "execute_result"
    }
   ],
   "source": [
    "cf1 = confusion_matrix(y_true=y_test, y_pred=x_pred)\n",
    "cf1"
   ]
  },
  {
   "cell_type": "code",
   "execution_count": 111,
   "metadata": {},
   "outputs": [],
   "source": [
    "def sum_params(model):\n",
    "    s = []\n",
    "    for p in model.parameters():\n",
    "        dims = p.size()\n",
    "        n = np.prod(p.size())\n",
    "        s.append((dims, n))\n",
    "    return s, np.sum([j for i,j in s])"
   ]
  },
  {
   "cell_type": "code",
   "execution_count": 112,
   "metadata": {},
   "outputs": [
    {
     "data": {
      "text/plain": [
       "([(torch.Size([32, 1, 5]), 160),\n",
       "  (torch.Size([32, 1, 11]), 352),\n",
       "  (torch.Size([32, 1, 23]), 736),\n",
       "  (torch.Size([32, 1, 1]), 32),\n",
       "  (torch.Size([128]), 128),\n",
       "  (torch.Size([128]), 128),\n",
       "  (torch.Size([32, 128, 1]), 4096),\n",
       "  (torch.Size([32, 32, 5]), 5120),\n",
       "  (torch.Size([32, 32, 11]), 11264),\n",
       "  (torch.Size([32, 32, 23]), 23552),\n",
       "  (torch.Size([32, 128, 1]), 4096),\n",
       "  (torch.Size([128]), 128),\n",
       "  (torch.Size([128]), 128),\n",
       "  (torch.Size([32, 128, 1]), 4096),\n",
       "  (torch.Size([32, 32, 5]), 5120),\n",
       "  (torch.Size([32, 32, 11]), 11264),\n",
       "  (torch.Size([32, 32, 23]), 23552),\n",
       "  (torch.Size([32, 128, 1]), 4096),\n",
       "  (torch.Size([128]), 128),\n",
       "  (torch.Size([128]), 128),\n",
       "  (torch.Size([128, 1, 1]), 128),\n",
       "  (torch.Size([128]), 128),\n",
       "  (torch.Size([128]), 128),\n",
       "  (torch.Size([128]), 128),\n",
       "  (torch.Size([4, 128]), 512),\n",
       "  (torch.Size([4]), 4)],\n",
       " 99332)"
      ]
     },
     "execution_count": 112,
     "metadata": {},
     "output_type": "execute_result"
    }
   ],
   "source": [
    "sum_params(m1.model)"
   ]
  },
  {
   "cell_type": "markdown",
   "metadata": {},
   "source": [
    "# lr scheadule"
   ]
  },
  {
   "cell_type": "code",
   "execution_count": 9,
   "metadata": {},
   "outputs": [],
   "source": [
    "IT1 = nn.Sequential(\n",
    "            layers.Reshape(out_shape=(1,160)),\n",
    "            InceptionBlock(\n",
    "                in_channels=1, \n",
    "                n_filters=32, \n",
    "                kernel_sizes=[5, 11, 23],\n",
    "                bottleneck_channels=32,\n",
    "                use_residual=True,\n",
    "                activation=nn.ReLU()\n",
    "            ),\n",
    "            nn.AdaptiveAvgPool1d(output_size=1),\n",
    "            layers.Flatten(out_features=32*4*1),\n",
    "            nn.Linear(in_features=4*32*1, out_features=4)\n",
    ")"
   ]
  },
  {
   "cell_type": "code",
   "execution_count": 10,
   "metadata": {},
   "outputs": [],
   "source": [
    "train_loader = torch.utils.data.DataLoader(dataset = train, batch_size=512, shuffle=True)\n",
    "valid_loader = torch.utils.data.DataLoader(dataset = valid, batch_size=512, shuffle=True)"
   ]
  },
  {
   "cell_type": "code",
   "execution_count": 11,
   "metadata": {},
   "outputs": [],
   "source": [
    "optimizer= torch.optim.Adam(IT1.parameters(), lr=5e-3)"
   ]
  },
  {
   "cell_type": "code",
   "execution_count": 12,
   "metadata": {
    "scrolled": true
   },
   "outputs": [
    {
     "name": "stdout",
     "output_type": "stream",
     "text": [
      "cuda:0\n"
     ]
    }
   ],
   "source": [
    "m2 = Trainer(\n",
    "        model=IT1,\n",
    "        optimizer=optimizer,\n",
    "        loss_function=nn.CrossEntropyLoss(),\n",
    "        scheduler=torch.optim.lr_scheduler.MultiStepLR(optimizer, milestones=[5,20], gamma=0.2),\n",
    "        tensorboard=True,\n",
    "        model_name=\"InceptionTime_lr-{5e-3,1e-3,2e-4},_bs-512_ks-[5,11,23]\",\n",
    "        verbose=True\n",
    "        )"
   ]
  },
  {
   "cell_type": "code",
   "execution_count": 13,
   "metadata": {},
   "outputs": [
    {
     "name": "stdout",
     "output_type": "stream",
     "text": [
      "Epoch [1/50], average_loss:0.6230, validation_loss:0.5540, val_accuracy:0.7273\n",
      "Epoch [2/50], average_loss:0.4504, validation_loss:0.6683, val_accuracy:0.7403\n",
      "Epoch [3/50], average_loss:0.3808, validation_loss:0.4038, val_accuracy:0.8961\n",
      "Epoch [4/50], average_loss:0.3589, validation_loss:0.7224, val_accuracy:0.7662\n",
      "Epoch [5/50], average_loss:0.3503, validation_loss:0.3807, val_accuracy:0.8312\n",
      "Epoch [6/50], average_loss:0.3077, validation_loss:0.3043, val_accuracy:0.8961\n",
      "Epoch [7/50], average_loss:0.2977, validation_loss:0.2923, val_accuracy:0.9091\n",
      "Epoch [8/50], average_loss:0.2949, validation_loss:0.3146, val_accuracy:0.9351\n",
      "Epoch [9/50], average_loss:0.2893, validation_loss:0.2843, val_accuracy:0.8961\n",
      "Epoch [10/50], average_loss:0.2870, validation_loss:0.2858, val_accuracy:0.9221\n",
      "Epoch [11/50], average_loss:0.2855, validation_loss:0.2904, val_accuracy:0.8182\n",
      "Epoch [12/50], average_loss:0.2800, validation_loss:0.2747, val_accuracy:0.9091\n",
      "Epoch [13/50], average_loss:0.2819, validation_loss:0.2692, val_accuracy:0.8961\n",
      "Epoch [14/50], average_loss:0.2722, validation_loss:0.2873, val_accuracy:0.8571\n",
      "Epoch [15/50], average_loss:0.2699, validation_loss:0.3230, val_accuracy:0.9351\n",
      "Epoch [16/50], average_loss:0.2702, validation_loss:0.3086, val_accuracy:0.8961\n",
      "Epoch [17/50], average_loss:0.2694, validation_loss:0.3662, val_accuracy:0.8701\n",
      "Epoch [18/50], average_loss:0.2641, validation_loss:0.2827, val_accuracy:0.8701\n",
      "Epoch [19/50], average_loss:0.2611, validation_loss:0.2555, val_accuracy:0.9221\n",
      "Epoch [20/50], average_loss:0.2585, validation_loss:0.2741, val_accuracy:0.8701\n",
      "Epoch [21/50], average_loss:0.2467, validation_loss:0.2459, val_accuracy:0.8831\n",
      "Epoch [22/50], average_loss:0.2457, validation_loss:0.2398, val_accuracy:0.9221\n",
      "Epoch [23/50], average_loss:0.2449, validation_loss:0.2416, val_accuracy:0.9221\n",
      "Epoch [24/50], average_loss:0.2438, validation_loss:0.2384, val_accuracy:0.8961\n",
      "Epoch [25/50], average_loss:0.2432, validation_loss:0.2388, val_accuracy:0.9091\n",
      "Epoch [26/50], average_loss:0.2414, validation_loss:0.2394, val_accuracy:0.8961\n",
      "Epoch [27/50], average_loss:0.2425, validation_loss:0.2398, val_accuracy:0.8442\n",
      "Epoch [28/50], average_loss:0.2427, validation_loss:0.2405, val_accuracy:0.9351\n",
      "Epoch [29/50], average_loss:0.2400, validation_loss:0.2442, val_accuracy:0.8831\n",
      "Epoch [30/50], average_loss:0.2388, validation_loss:0.2338, val_accuracy:0.9221\n",
      "Epoch [31/50], average_loss:0.2390, validation_loss:0.2405, val_accuracy:0.9221\n",
      "Epoch [32/50], average_loss:0.2367, validation_loss:0.2350, val_accuracy:0.9221\n",
      "Epoch [33/50], average_loss:0.2385, validation_loss:0.2726, val_accuracy:0.8961\n",
      "Epoch [34/50], average_loss:0.2381, validation_loss:0.2341, val_accuracy:0.9351\n",
      "Epoch [35/50], average_loss:0.2358, validation_loss:0.2452, val_accuracy:0.8961\n",
      "Epoch [36/50], average_loss:0.2352, validation_loss:0.2335, val_accuracy:0.8831\n",
      "Epoch [37/50], average_loss:0.2354, validation_loss:0.2285, val_accuracy:0.9610\n",
      "Epoch [38/50], average_loss:0.2337, validation_loss:0.2286, val_accuracy:0.9221\n",
      "Epoch [39/50], average_loss:0.2341, validation_loss:0.2355, val_accuracy:0.9221\n",
      "Epoch [40/50], average_loss:0.2331, validation_loss:0.2381, val_accuracy:0.8571\n",
      "Epoch [41/50], average_loss:0.2321, validation_loss:0.2270, val_accuracy:0.9221\n",
      "Epoch [42/50], average_loss:0.2320, validation_loss:0.2256, val_accuracy:0.9740\n",
      "Epoch [43/50], average_loss:0.2319, validation_loss:0.2288, val_accuracy:0.8831\n",
      "Epoch [44/50], average_loss:0.2303, validation_loss:0.2256, val_accuracy:0.9870\n",
      "Epoch [45/50], average_loss:0.2297, validation_loss:0.2302, val_accuracy:0.9351\n",
      "Epoch [46/50], average_loss:0.2282, validation_loss:0.2275, val_accuracy:0.9091\n",
      "Epoch [47/50], average_loss:0.2294, validation_loss:0.2262, val_accuracy:0.9091\n",
      "Epoch [48/50], average_loss:0.2270, validation_loss:0.2345, val_accuracy:0.9221\n",
      "Epoch [49/50], average_loss:0.2272, validation_loss:0.2827, val_accuracy:0.8961\n",
      "Epoch [50/50], average_loss:0.2280, validation_loss:0.2272, val_accuracy:0.9481\n"
     ]
    }
   ],
   "source": [
    "lh = m2(epochs=range(50), train_loader=train_loader, validation_loader=valid_loader)"
   ]
  },
  {
   "cell_type": "code",
   "execution_count": 24,
   "metadata": {},
   "outputs": [
    {
     "name": "stdout",
     "output_type": "stream",
     "text": [
      "Epoch [51/100], average_loss:0.2261, validation_loss:0.2218, val_accuracy:0.9221\n",
      "Epoch [52/100], average_loss:0.2258, validation_loss:0.2261, val_accuracy:0.9351\n",
      "Epoch [53/100], average_loss:0.2244, validation_loss:0.2264, val_accuracy:0.9351\n",
      "Epoch [54/100], average_loss:0.2250, validation_loss:0.2347, val_accuracy:0.9091\n",
      "Epoch [55/100], average_loss:0.2250, validation_loss:0.2251, val_accuracy:0.9091\n",
      "Epoch [56/100], average_loss:0.2237, validation_loss:0.2446, val_accuracy:0.9221\n",
      "Epoch [57/100], average_loss:0.2247, validation_loss:0.2216, val_accuracy:0.9351\n",
      "Epoch [58/100], average_loss:0.2234, validation_loss:0.3219, val_accuracy:0.8442\n",
      "Epoch [59/100], average_loss:0.2235, validation_loss:0.2198, val_accuracy:0.8831\n",
      "Epoch [60/100], average_loss:0.2204, validation_loss:0.2335, val_accuracy:0.9610\n",
      "Epoch [61/100], average_loss:0.2211, validation_loss:0.2195, val_accuracy:0.9091\n",
      "Epoch [62/100], average_loss:0.2223, validation_loss:0.2251, val_accuracy:0.9091\n",
      "Epoch [63/100], average_loss:0.2225, validation_loss:0.2261, val_accuracy:0.8961\n",
      "Epoch [64/100], average_loss:0.2202, validation_loss:0.2210, val_accuracy:0.9221\n",
      "Epoch [65/100], average_loss:0.2197, validation_loss:0.2251, val_accuracy:0.9481\n",
      "Epoch [66/100], average_loss:0.2195, validation_loss:0.2283, val_accuracy:0.9091\n",
      "Epoch [67/100], average_loss:0.2181, validation_loss:0.2245, val_accuracy:0.8442\n",
      "Epoch [68/100], average_loss:0.2176, validation_loss:0.2166, val_accuracy:0.9481\n",
      "Epoch [69/100], average_loss:0.2172, validation_loss:0.2219, val_accuracy:0.9610\n",
      "Epoch [70/100], average_loss:0.2180, validation_loss:0.2250, val_accuracy:0.8831\n",
      "Epoch [71/100], average_loss:0.2160, validation_loss:0.2147, val_accuracy:0.9091\n",
      "Epoch [72/100], average_loss:0.2152, validation_loss:0.2211, val_accuracy:0.9221\n",
      "Epoch [73/100], average_loss:0.2140, validation_loss:0.2313, val_accuracy:0.8571\n",
      "Epoch [74/100], average_loss:0.2157, validation_loss:0.2226, val_accuracy:0.9610\n",
      "Epoch [75/100], average_loss:0.2134, validation_loss:0.2166, val_accuracy:0.9221\n",
      "Epoch [76/100], average_loss:0.2126, validation_loss:0.2238, val_accuracy:0.9481\n",
      "Epoch [77/100], average_loss:0.2150, validation_loss:0.2200, val_accuracy:0.9221\n",
      "Epoch [78/100], average_loss:0.2139, validation_loss:0.2150, val_accuracy:0.9091\n",
      "Epoch [79/100], average_loss:0.2149, validation_loss:0.2212, val_accuracy:0.8831\n",
      "Epoch [80/100], average_loss:0.2121, validation_loss:0.2111, val_accuracy:0.8701\n",
      "Epoch [81/100], average_loss:0.2129, validation_loss:0.2197, val_accuracy:0.8831\n",
      "Epoch [82/100], average_loss:0.2127, validation_loss:0.2084, val_accuracy:0.9221\n",
      "Epoch [83/100], average_loss:0.2110, validation_loss:0.2302, val_accuracy:0.8961\n",
      "Epoch [84/100], average_loss:0.2117, validation_loss:0.2115, val_accuracy:0.9481\n",
      "Epoch [85/100], average_loss:0.2097, validation_loss:0.2216, val_accuracy:0.9221\n",
      "Epoch [86/100], average_loss:0.2109, validation_loss:0.2063, val_accuracy:0.9481\n",
      "Epoch [87/100], average_loss:0.2076, validation_loss:0.2169, val_accuracy:0.9351\n",
      "Epoch [88/100], average_loss:0.2075, validation_loss:0.2083, val_accuracy:0.9091\n",
      "Epoch [89/100], average_loss:0.2083, validation_loss:0.2061, val_accuracy:0.9610\n",
      "Epoch [90/100], average_loss:0.2083, validation_loss:0.2117, val_accuracy:0.9610\n",
      "Epoch [91/100], average_loss:0.2060, validation_loss:0.2045, val_accuracy:0.9481\n",
      "Epoch [92/100], average_loss:0.2057, validation_loss:0.2097, val_accuracy:0.9091\n",
      "Epoch [93/100], average_loss:0.2063, validation_loss:0.2240, val_accuracy:0.8571\n",
      "Epoch [94/100], average_loss:0.2071, validation_loss:0.2039, val_accuracy:0.9351\n",
      "Epoch [95/100], average_loss:0.2061, validation_loss:0.2200, val_accuracy:0.8701\n",
      "Epoch [96/100], average_loss:0.2042, validation_loss:0.2323, val_accuracy:0.8961\n",
      "Epoch [97/100], average_loss:0.2054, validation_loss:0.2116, val_accuracy:0.9610\n",
      "Epoch [98/100], average_loss:0.2048, validation_loss:0.2035, val_accuracy:0.9351\n",
      "Epoch [99/100], average_loss:0.2049, validation_loss:0.2084, val_accuracy:0.9481\n",
      "Epoch [100/100], average_loss:0.2039, validation_loss:0.2091, val_accuracy:0.9221\n"
     ]
    }
   ],
   "source": [
    "lh = m2(epochs=range(50,100), train_loader=train_loader, validation_loader=valid_loader)"
   ]
  },
  {
   "cell_type": "code",
   "execution_count": 25,
   "metadata": {},
   "outputs": [
    {
     "data": {
      "text/plain": [
       "Sequential(\n",
       "  (0): Reshape()\n",
       "  (1): InceptionBlock(\n",
       "    (activation): ReLU()\n",
       "    (inception_1): Inception(\n",
       "      (conv_from_bottleneck_1): Conv1d(1, 32, kernel_size=(5,), stride=(1,), padding=(2,), bias=False)\n",
       "      (conv_from_bottleneck_2): Conv1d(1, 32, kernel_size=(11,), stride=(1,), padding=(5,), bias=False)\n",
       "      (conv_from_bottleneck_3): Conv1d(1, 32, kernel_size=(23,), stride=(1,), padding=(11,), bias=False)\n",
       "      (max_pool): MaxPool1d(kernel_size=3, stride=1, padding=1, dilation=1, ceil_mode=False)\n",
       "      (conv_from_maxpool): Conv1d(1, 32, kernel_size=(1,), stride=(1,), bias=False)\n",
       "      (batch_norm): BatchNorm1d(128, eps=1e-05, momentum=0.1, affine=True, track_running_stats=True)\n",
       "      (activation): ReLU()\n",
       "    )\n",
       "    (inception_2): Inception(\n",
       "      (bottleneck): Conv1d(128, 32, kernel_size=(1,), stride=(1,), bias=False)\n",
       "      (conv_from_bottleneck_1): Conv1d(32, 32, kernel_size=(5,), stride=(1,), padding=(2,), bias=False)\n",
       "      (conv_from_bottleneck_2): Conv1d(32, 32, kernel_size=(11,), stride=(1,), padding=(5,), bias=False)\n",
       "      (conv_from_bottleneck_3): Conv1d(32, 32, kernel_size=(23,), stride=(1,), padding=(11,), bias=False)\n",
       "      (max_pool): MaxPool1d(kernel_size=3, stride=1, padding=1, dilation=1, ceil_mode=False)\n",
       "      (conv_from_maxpool): Conv1d(128, 32, kernel_size=(1,), stride=(1,), bias=False)\n",
       "      (batch_norm): BatchNorm1d(128, eps=1e-05, momentum=0.1, affine=True, track_running_stats=True)\n",
       "      (activation): ReLU()\n",
       "    )\n",
       "    (inception_3): Inception(\n",
       "      (bottleneck): Conv1d(128, 32, kernel_size=(1,), stride=(1,), bias=False)\n",
       "      (conv_from_bottleneck_1): Conv1d(32, 32, kernel_size=(5,), stride=(1,), padding=(2,), bias=False)\n",
       "      (conv_from_bottleneck_2): Conv1d(32, 32, kernel_size=(11,), stride=(1,), padding=(5,), bias=False)\n",
       "      (conv_from_bottleneck_3): Conv1d(32, 32, kernel_size=(23,), stride=(1,), padding=(11,), bias=False)\n",
       "      (max_pool): MaxPool1d(kernel_size=3, stride=1, padding=1, dilation=1, ceil_mode=False)\n",
       "      (conv_from_maxpool): Conv1d(128, 32, kernel_size=(1,), stride=(1,), bias=False)\n",
       "      (batch_norm): BatchNorm1d(128, eps=1e-05, momentum=0.1, affine=True, track_running_stats=True)\n",
       "      (activation): ReLU()\n",
       "    )\n",
       "    (residual): Sequential(\n",
       "      (0): Conv1d(1, 128, kernel_size=(1,), stride=(1,))\n",
       "      (1): BatchNorm1d(128, eps=1e-05, momentum=0.1, affine=True, track_running_stats=True)\n",
       "    )\n",
       "  )\n",
       "  (2): AdaptiveAvgPool1d(output_size=1)\n",
       "  (3): Flatten()\n",
       "  (4): Linear(in_features=128, out_features=4, bias=True)\n",
       ")"
      ]
     },
     "execution_count": 25,
     "metadata": {},
     "output_type": "execute_result"
    }
   ],
   "source": [
    "m2.model.eval()\n",
    "m2.model.cpu()\n",
    "with torch.no_grad():\n",
    "    x_pred = np.argmax(m2.model(torch.tensor(X_test).float()).detach(), axis=1)\n",
    "m2.model.cuda()"
   ]
  },
  {
   "cell_type": "code",
   "execution_count": 17,
   "metadata": {
    "scrolled": false
   },
   "outputs": [
    {
     "data": {
      "text/plain": [
       "tensor([1, 1, 1,  ..., 3, 1, 0])"
      ]
     },
     "execution_count": 17,
     "metadata": {},
     "output_type": "execute_result"
    }
   ],
   "source": [
    "x_pred"
   ]
  },
  {
   "cell_type": "code",
   "execution_count": 18,
   "metadata": {},
   "outputs": [
    {
     "data": {
      "text/plain": [
       "0.8401764734820084"
      ]
     },
     "execution_count": 18,
     "metadata": {},
     "output_type": "execute_result"
    }
   ],
   "source": [
    "f1_score(y_true=y_test, y_pred=x_pred,average=\"macro\")"
   ]
  },
  {
   "cell_type": "code",
   "execution_count": 19,
   "metadata": {},
   "outputs": [
    {
     "data": {
      "text/plain": [
       "0.9152724665391969"
      ]
     },
     "execution_count": 19,
     "metadata": {},
     "output_type": "execute_result"
    }
   ],
   "source": [
    "accuracy_score(y_true=y_test, y_pred=x_pred)"
   ]
  },
  {
   "cell_type": "code",
   "execution_count": 20,
   "metadata": {},
   "outputs": [
    {
     "data": {
      "text/plain": [
       "array([[ 3619,   455,    24,   137],\n",
       "       [  191, 10142,    15,    97],\n",
       "       [   34,    64,   320,    61],\n",
       "       [  205,   102,    33,  1237]], dtype=int64)"
      ]
     },
     "execution_count": 20,
     "metadata": {},
     "output_type": "execute_result"
    }
   ],
   "source": [
    "cf1 = confusion_matrix(y_true=y_test, y_pred=x_pred)\n",
    "cf1"
   ]
  },
  {
   "cell_type": "code",
   "execution_count": 22,
   "metadata": {},
   "outputs": [],
   "source": [
    "#torch.save(m2.model, \"models_and_losses/InceptionTime_lr-{5e-3,1e-3,2e-4},_bs-512_ks-[5,11,23]_50-epochs.pt\")"
   ]
  },
  {
   "cell_type": "code",
   "execution_count": 26,
   "metadata": {
    "scrolled": false
   },
   "outputs": [
    {
     "data": {
      "text/plain": [
       "tensor([1, 1, 1,  ..., 0, 1, 0])"
      ]
     },
     "execution_count": 26,
     "metadata": {},
     "output_type": "execute_result"
    }
   ],
   "source": [
    "x_pred"
   ]
  },
  {
   "cell_type": "code",
   "execution_count": 27,
   "metadata": {},
   "outputs": [
    {
     "data": {
      "text/plain": [
       "0.8658205936831611"
      ]
     },
     "execution_count": 27,
     "metadata": {},
     "output_type": "execute_result"
    }
   ],
   "source": [
    "f1_score(y_true=y_test, y_pred=x_pred,average=\"macro\")"
   ]
  },
  {
   "cell_type": "code",
   "execution_count": 28,
   "metadata": {},
   "outputs": [
    {
     "data": {
      "text/plain": [
       "0.9246534416826003"
      ]
     },
     "execution_count": 28,
     "metadata": {},
     "output_type": "execute_result"
    }
   ],
   "source": [
    "accuracy_score(y_true=y_test, y_pred=x_pred)"
   ]
  },
  {
   "cell_type": "code",
   "execution_count": 29,
   "metadata": {},
   "outputs": [
    {
     "data": {
      "text/plain": [
       "array([[ 3858,   256,    43,    78],\n",
       "       [  297, 10026,    32,    90],\n",
       "       [   19,    28,   407,    25],\n",
       "       [  280,    70,    43,  1184]], dtype=int64)"
      ]
     },
     "execution_count": 29,
     "metadata": {},
     "output_type": "execute_result"
    }
   ],
   "source": [
    "cf1 = confusion_matrix(y_true=y_test, y_pred=x_pred)\n",
    "cf1"
   ]
  },
  {
   "cell_type": "code",
   "execution_count": 30,
   "metadata": {},
   "outputs": [],
   "source": [
    "#torch.save(m2.model, \"models_and_losses/InceptionTime_lr-{5e-3,1e-3,2e-4},_bs-512_ks-[5,11,23]_100-epochs.pt\")"
   ]
  },
  {
   "cell_type": "markdown",
   "metadata": {},
   "source": [
    "# 4 Layer inceptionTime"
   ]
  },
  {
   "cell_type": "code",
   "execution_count": 8,
   "metadata": {},
   "outputs": [],
   "source": [
    "IT2 = nn.Sequential(\n",
    "            layers.Reshape(out_shape=(1,160)),\n",
    "            InceptionBlock(\n",
    "                in_channels=1, \n",
    "                n_filters=32, \n",
    "                kernel_sizes=[5, 11, 23],\n",
    "                bottleneck_channels=32,\n",
    "                use_residual=True,\n",
    "                activation=nn.LeakyReLU()\n",
    "            ),\n",
    "            Inception(\n",
    "                in_channels=32*4,\n",
    "                n_filters=32,\n",
    "                kernel_sizes=[5, 11, 23],\n",
    "                bottleneck_channels=32,\n",
    "                activation=nn.LeakyReLU()\n",
    "            ),\n",
    "            nn.AdaptiveAvgPool1d(output_size=1),\n",
    "            layers.Flatten(out_features=32*4*1),\n",
    "            nn.Linear(in_features=4*32*1, out_features=4)\n",
    ")"
   ]
  },
  {
   "cell_type": "code",
   "execution_count": 9,
   "metadata": {},
   "outputs": [],
   "source": [
    "train_loader = torch.utils.data.DataLoader(dataset = train, batch_size=512, shuffle=True)\n",
    "valid_loader = torch.utils.data.DataLoader(dataset = valid, batch_size=512, shuffle=True)"
   ]
  },
  {
   "cell_type": "code",
   "execution_count": 10,
   "metadata": {},
   "outputs": [],
   "source": [
    "optimizer= torch.optim.Adam(IT2.parameters(), lr=5e-3)"
   ]
  },
  {
   "cell_type": "code",
   "execution_count": 11,
   "metadata": {
    "scrolled": true
   },
   "outputs": [
    {
     "name": "stdout",
     "output_type": "stream",
     "text": [
      "cuda:0\n"
     ]
    }
   ],
   "source": [
    "m3 = Trainer(\n",
    "        model=IT2,\n",
    "        optimizer=optimizer,\n",
    "        loss_function=nn.CrossEntropyLoss(),\n",
    "        #scheduler=torch.optim.lr_scheduler.MultiStepLR(optimizer, milestones=[5,20], gamma=0.5),\n",
    "        tensorboard=True,\n",
    "        model_name=\"InceptionTime4_lr-5e-3_bs-512_ks-[5,11,23]\",\n",
    "        verbose=True\n",
    "        )"
   ]
  },
  {
   "cell_type": "code",
   "execution_count": 12,
   "metadata": {},
   "outputs": [
    {
     "name": "stdout",
     "output_type": "stream",
     "text": [
      "Epoch [1/50], average_loss:0.6025, validation_loss:0.8079, val_accuracy:0.5844\n",
      "Epoch [2/50], average_loss:0.4319, validation_loss:1.2168, val_accuracy:0.6883\n",
      "Epoch [3/50], average_loss:0.3627, validation_loss:1.1021, val_accuracy:0.6234\n",
      "Epoch [4/50], average_loss:0.3451, validation_loss:1.0093, val_accuracy:0.7532\n",
      "Epoch [5/50], average_loss:0.3148, validation_loss:0.3879, val_accuracy:0.8182\n",
      "Epoch [6/50], average_loss:0.3119, validation_loss:0.3937, val_accuracy:0.8442\n",
      "Epoch [7/50], average_loss:0.2931, validation_loss:0.4985, val_accuracy:0.7792\n",
      "Epoch [8/50], average_loss:0.2823, validation_loss:0.3607, val_accuracy:0.8571\n",
      "Epoch [9/50], average_loss:0.2712, validation_loss:0.3288, val_accuracy:0.9091\n",
      "Epoch [10/50], average_loss:0.2568, validation_loss:0.2932, val_accuracy:0.9221\n",
      "Epoch [11/50], average_loss:0.2518, validation_loss:0.3663, val_accuracy:0.8052\n",
      "Epoch [12/50], average_loss:0.2462, validation_loss:0.3236, val_accuracy:0.8701\n",
      "Epoch [13/50], average_loss:0.2410, validation_loss:0.3128, val_accuracy:0.8571\n",
      "Epoch [14/50], average_loss:0.2292, validation_loss:0.2764, val_accuracy:0.8571\n",
      "Epoch [15/50], average_loss:0.2258, validation_loss:0.2360, val_accuracy:0.9221\n",
      "Epoch [16/50], average_loss:0.2205, validation_loss:0.5425, val_accuracy:0.8182\n",
      "Epoch [17/50], average_loss:0.2226, validation_loss:0.3064, val_accuracy:0.8701\n",
      "Epoch [18/50], average_loss:0.2140, validation_loss:1.1153, val_accuracy:0.7013\n",
      "Epoch [19/50], average_loss:0.2102, validation_loss:0.2498, val_accuracy:0.8571\n",
      "Epoch [20/50], average_loss:0.2080, validation_loss:0.2652, val_accuracy:0.9091\n",
      "Epoch [21/50], average_loss:0.2032, validation_loss:0.2473, val_accuracy:0.9091\n",
      "Epoch [22/50], average_loss:0.2016, validation_loss:0.2732, val_accuracy:0.9091\n",
      "Epoch [23/50], average_loss:0.2051, validation_loss:0.2654, val_accuracy:0.8831\n",
      "Epoch [24/50], average_loss:0.1965, validation_loss:0.3777, val_accuracy:0.8182\n",
      "Epoch [25/50], average_loss:0.1972, validation_loss:0.3699, val_accuracy:0.8442\n",
      "Epoch [26/50], average_loss:0.1911, validation_loss:0.2169, val_accuracy:0.8831\n",
      "Epoch [27/50], average_loss:0.1873, validation_loss:0.4063, val_accuracy:0.7922\n",
      "Epoch [28/50], average_loss:0.1841, validation_loss:0.2417, val_accuracy:0.8961\n",
      "Epoch [29/50], average_loss:0.1759, validation_loss:0.2336, val_accuracy:0.8831\n",
      "Epoch [30/50], average_loss:0.1774, validation_loss:0.2185, val_accuracy:0.9351\n",
      "Epoch [31/50], average_loss:0.1749, validation_loss:0.1971, val_accuracy:0.9740\n",
      "Epoch [32/50], average_loss:0.1749, validation_loss:0.7081, val_accuracy:0.7922\n",
      "Epoch [33/50], average_loss:0.1668, validation_loss:0.2760, val_accuracy:0.9091\n",
      "Epoch [34/50], average_loss:0.1643, validation_loss:0.1847, val_accuracy:0.9610\n",
      "Epoch [35/50], average_loss:0.1636, validation_loss:0.2336, val_accuracy:0.9221\n",
      "Epoch [36/50], average_loss:0.1605, validation_loss:0.1668, val_accuracy:0.9221\n",
      "Epoch [37/50], average_loss:0.1546, validation_loss:0.2141, val_accuracy:0.9351\n",
      "Epoch [38/50], average_loss:0.1523, validation_loss:0.2515, val_accuracy:0.8831\n",
      "Epoch [39/50], average_loss:0.1512, validation_loss:0.5135, val_accuracy:0.8182\n",
      "Epoch [40/50], average_loss:0.1501, validation_loss:0.5501, val_accuracy:0.7662\n",
      "Epoch [41/50], average_loss:0.1480, validation_loss:0.1942, val_accuracy:0.9481\n",
      "Epoch [42/50], average_loss:0.1435, validation_loss:0.2830, val_accuracy:0.8442\n",
      "Epoch [43/50], average_loss:0.1376, validation_loss:0.4352, val_accuracy:0.8701\n",
      "Epoch [44/50], average_loss:0.1348, validation_loss:0.3358, val_accuracy:0.9091\n",
      "Epoch [45/50], average_loss:0.1362, validation_loss:0.2495, val_accuracy:0.8831\n",
      "Epoch [46/50], average_loss:0.1248, validation_loss:0.1720, val_accuracy:0.9610\n",
      "Epoch [47/50], average_loss:0.1265, validation_loss:0.1654, val_accuracy:0.9221\n",
      "Epoch [48/50], average_loss:0.1256, validation_loss:0.6377, val_accuracy:0.7403\n",
      "Epoch [49/50], average_loss:0.1249, validation_loss:0.3244, val_accuracy:0.9091\n",
      "Epoch [50/50], average_loss:0.1181, validation_loss:0.2530, val_accuracy:0.8442\n"
     ]
    }
   ],
   "source": [
    "lh = m3(epochs=range(50), train_loader=train_loader, validation_loader=valid_loader)"
   ]
  },
  {
   "cell_type": "code",
   "execution_count": 13,
   "metadata": {},
   "outputs": [
    {
     "data": {
      "text/plain": [
       "Sequential(\n",
       "  (0): Reshape()\n",
       "  (1): InceptionBlock(\n",
       "    (activation): LeakyReLU(negative_slope=0.01)\n",
       "    (inception_1): Inception(\n",
       "      (conv_from_bottleneck_1): Conv1d(1, 32, kernel_size=(5,), stride=(1,), padding=(2,), bias=False)\n",
       "      (conv_from_bottleneck_2): Conv1d(1, 32, kernel_size=(11,), stride=(1,), padding=(5,), bias=False)\n",
       "      (conv_from_bottleneck_3): Conv1d(1, 32, kernel_size=(23,), stride=(1,), padding=(11,), bias=False)\n",
       "      (max_pool): MaxPool1d(kernel_size=3, stride=1, padding=1, dilation=1, ceil_mode=False)\n",
       "      (conv_from_maxpool): Conv1d(1, 32, kernel_size=(1,), stride=(1,), bias=False)\n",
       "      (batch_norm): BatchNorm1d(128, eps=1e-05, momentum=0.1, affine=True, track_running_stats=True)\n",
       "      (activation): LeakyReLU(negative_slope=0.01)\n",
       "    )\n",
       "    (inception_2): Inception(\n",
       "      (bottleneck): Conv1d(128, 32, kernel_size=(1,), stride=(1,), bias=False)\n",
       "      (conv_from_bottleneck_1): Conv1d(32, 32, kernel_size=(5,), stride=(1,), padding=(2,), bias=False)\n",
       "      (conv_from_bottleneck_2): Conv1d(32, 32, kernel_size=(11,), stride=(1,), padding=(5,), bias=False)\n",
       "      (conv_from_bottleneck_3): Conv1d(32, 32, kernel_size=(23,), stride=(1,), padding=(11,), bias=False)\n",
       "      (max_pool): MaxPool1d(kernel_size=3, stride=1, padding=1, dilation=1, ceil_mode=False)\n",
       "      (conv_from_maxpool): Conv1d(128, 32, kernel_size=(1,), stride=(1,), bias=False)\n",
       "      (batch_norm): BatchNorm1d(128, eps=1e-05, momentum=0.1, affine=True, track_running_stats=True)\n",
       "      (activation): LeakyReLU(negative_slope=0.01)\n",
       "    )\n",
       "    (inception_3): Inception(\n",
       "      (bottleneck): Conv1d(128, 32, kernel_size=(1,), stride=(1,), bias=False)\n",
       "      (conv_from_bottleneck_1): Conv1d(32, 32, kernel_size=(5,), stride=(1,), padding=(2,), bias=False)\n",
       "      (conv_from_bottleneck_2): Conv1d(32, 32, kernel_size=(11,), stride=(1,), padding=(5,), bias=False)\n",
       "      (conv_from_bottleneck_3): Conv1d(32, 32, kernel_size=(23,), stride=(1,), padding=(11,), bias=False)\n",
       "      (max_pool): MaxPool1d(kernel_size=3, stride=1, padding=1, dilation=1, ceil_mode=False)\n",
       "      (conv_from_maxpool): Conv1d(128, 32, kernel_size=(1,), stride=(1,), bias=False)\n",
       "      (batch_norm): BatchNorm1d(128, eps=1e-05, momentum=0.1, affine=True, track_running_stats=True)\n",
       "      (activation): LeakyReLU(negative_slope=0.01)\n",
       "    )\n",
       "    (residual): Sequential(\n",
       "      (0): Conv1d(1, 128, kernel_size=(1,), stride=(1,))\n",
       "      (1): BatchNorm1d(128, eps=1e-05, momentum=0.1, affine=True, track_running_stats=True)\n",
       "    )\n",
       "  )\n",
       "  (2): Inception(\n",
       "    (bottleneck): Conv1d(128, 32, kernel_size=(1,), stride=(1,), bias=False)\n",
       "    (conv_from_bottleneck_1): Conv1d(32, 32, kernel_size=(5,), stride=(1,), padding=(2,), bias=False)\n",
       "    (conv_from_bottleneck_2): Conv1d(32, 32, kernel_size=(11,), stride=(1,), padding=(5,), bias=False)\n",
       "    (conv_from_bottleneck_3): Conv1d(32, 32, kernel_size=(23,), stride=(1,), padding=(11,), bias=False)\n",
       "    (max_pool): MaxPool1d(kernel_size=3, stride=1, padding=1, dilation=1, ceil_mode=False)\n",
       "    (conv_from_maxpool): Conv1d(128, 32, kernel_size=(1,), stride=(1,), bias=False)\n",
       "    (batch_norm): BatchNorm1d(128, eps=1e-05, momentum=0.1, affine=True, track_running_stats=True)\n",
       "    (activation): LeakyReLU(negative_slope=0.01)\n",
       "  )\n",
       "  (3): AdaptiveAvgPool1d(output_size=1)\n",
       "  (4): Flatten()\n",
       "  (5): Linear(in_features=128, out_features=4, bias=True)\n",
       ")"
      ]
     },
     "execution_count": 13,
     "metadata": {},
     "output_type": "execute_result"
    }
   ],
   "source": [
    "m3.model.eval()\n",
    "m3.model.cpu()\n",
    "with torch.no_grad():\n",
    "    x_pred = np.argmax(m3.model(torch.tensor(X_test).float()).detach(), axis=1)\n",
    "m3.model.cuda()"
   ]
  },
  {
   "cell_type": "code",
   "execution_count": 14,
   "metadata": {
    "scrolled": false
   },
   "outputs": [
    {
     "data": {
      "text/plain": [
       "tensor([1, 1, 1,  ..., 1, 1, 0])"
      ]
     },
     "execution_count": 14,
     "metadata": {},
     "output_type": "execute_result"
    }
   ],
   "source": [
    "x_pred"
   ]
  },
  {
   "cell_type": "code",
   "execution_count": 15,
   "metadata": {},
   "outputs": [
    {
     "data": {
      "text/plain": [
       "0.8530326151058839"
      ]
     },
     "execution_count": 15,
     "metadata": {},
     "output_type": "execute_result"
    }
   ],
   "source": [
    "f1_score(y_true=y_test, y_pred=x_pred,average=\"macro\")"
   ]
  },
  {
   "cell_type": "code",
   "execution_count": 16,
   "metadata": {},
   "outputs": [
    {
     "data": {
      "text/plain": [
       "0.9020673996175909"
      ]
     },
     "execution_count": 16,
     "metadata": {},
     "output_type": "execute_result"
    }
   ],
   "source": [
    "accuracy_score(y_true=y_test, y_pred=x_pred)"
   ]
  },
  {
   "cell_type": "code",
   "execution_count": null,
   "metadata": {},
   "outputs": [],
   "source": [
    "cf1 = confusion_matrix(y_true=y_test, y_pred=x_pred)\n",
    "cf1"
   ]
  },
  {
   "cell_type": "code",
   "execution_count": 18,
   "metadata": {},
   "outputs": [],
   "source": [
    "m3.tb.close()"
   ]
  },
  {
   "cell_type": "markdown",
   "metadata": {},
   "source": [
    "# lr scheaduler"
   ]
  },
  {
   "cell_type": "code",
   "execution_count": 8,
   "metadata": {},
   "outputs": [],
   "source": [
    "IT2 = nn.Sequential(\n",
    "            layers.Reshape(out_shape=(1,160)),\n",
    "            InceptionBlock(\n",
    "                in_channels=1, \n",
    "                n_filters=32, \n",
    "                kernel_sizes=[5, 11, 23],\n",
    "                bottleneck_channels=32,\n",
    "                use_residual=True,\n",
    "                activation=nn.LeakyReLU()\n",
    "            ),\n",
    "            Inception(\n",
    "                in_channels=32*4,\n",
    "                n_filters=32,\n",
    "                kernel_sizes=[5, 11, 23],\n",
    "                bottleneck_channels=32,\n",
    "                activation=nn.LeakyReLU()\n",
    "            ),\n",
    "            nn.AdaptiveAvgPool1d(output_size=1),\n",
    "            layers.Flatten(out_features=32*4*1),\n",
    "            nn.Linear(in_features=4*32*1, out_features=4)\n",
    ")"
   ]
  },
  {
   "cell_type": "code",
   "execution_count": 9,
   "metadata": {},
   "outputs": [],
   "source": [
    "train_loader = torch.utils.data.DataLoader(dataset = train, batch_size=512, shuffle=True)\n",
    "valid_loader = torch.utils.data.DataLoader(dataset = valid, batch_size=512, shuffle=True)"
   ]
  },
  {
   "cell_type": "code",
   "execution_count": 10,
   "metadata": {},
   "outputs": [],
   "source": [
    "optimizer= torch.optim.Adam(IT2.parameters(), lr=5e-3)"
   ]
  },
  {
   "cell_type": "code",
   "execution_count": 11,
   "metadata": {},
   "outputs": [
    {
     "name": "stdout",
     "output_type": "stream",
     "text": [
      "cuda:0\n"
     ]
    }
   ],
   "source": [
    "m4 = Trainer(\n",
    "        model=IT2,\n",
    "        optimizer=optimizer,\n",
    "        loss_function=nn.CrossEntropyLoss(),\n",
    "        scheduler=torch.optim.lr_scheduler.MultiStepLR(optimizer, milestones=[10,30], gamma=0.5),\n",
    "        tensorboard=True,\n",
    "        model_name=\"InceptionTime4_lr-{5e-3,1e-3,2e-4},_bs-512_ks-[5,11,23]\",\n",
    "        verbose=True\n",
    "        )"
   ]
  },
  {
   "cell_type": "code",
   "execution_count": 12,
   "metadata": {},
   "outputs": [
    {
     "name": "stdout",
     "output_type": "stream",
     "text": [
      "Epoch [1/50], average_loss:0.6404, validation_loss:0.5349, val_accuracy:0.7403\n",
      "Epoch [2/50], average_loss:0.4506, validation_loss:2.0383, val_accuracy:0.5455\n",
      "Epoch [3/50], average_loss:0.4292, validation_loss:0.6249, val_accuracy:0.8052\n",
      "Epoch [4/50], average_loss:0.3623, validation_loss:0.8582, val_accuracy:0.7532\n",
      "Epoch [5/50], average_loss:0.3298, validation_loss:0.3587, val_accuracy:0.8701\n",
      "Epoch [6/50], average_loss:0.3180, validation_loss:0.5049, val_accuracy:0.8312\n",
      "Epoch [7/50], average_loss:0.2982, validation_loss:0.3569, val_accuracy:0.8701\n",
      "Epoch [8/50], average_loss:0.2888, validation_loss:0.2964, val_accuracy:0.9351\n",
      "Epoch [9/50], average_loss:0.2883, validation_loss:0.5106, val_accuracy:0.8442\n",
      "Epoch [10/50], average_loss:0.2805, validation_loss:0.5030, val_accuracy:0.8442\n",
      "Epoch [11/50], average_loss:0.2565, validation_loss:0.3158, val_accuracy:0.8571\n",
      "Epoch [12/50], average_loss:0.2561, validation_loss:0.2618, val_accuracy:0.8831\n",
      "Epoch [13/50], average_loss:0.2503, validation_loss:0.4888, val_accuracy:0.8442\n",
      "Epoch [14/50], average_loss:0.2505, validation_loss:0.2509, val_accuracy:0.9351\n",
      "Epoch [15/50], average_loss:0.2443, validation_loss:0.4068, val_accuracy:0.8442\n",
      "Epoch [16/50], average_loss:0.2407, validation_loss:0.2319, val_accuracy:0.9221\n",
      "Epoch [17/50], average_loss:0.2346, validation_loss:0.2433, val_accuracy:0.9351\n",
      "Epoch [18/50], average_loss:0.2384, validation_loss:0.7194, val_accuracy:0.7792\n",
      "Epoch [19/50], average_loss:0.2340, validation_loss:0.2540, val_accuracy:0.8442\n",
      "Epoch [20/50], average_loss:0.2344, validation_loss:0.2502, val_accuracy:0.8701\n",
      "Epoch [21/50], average_loss:0.2281, validation_loss:0.3331, val_accuracy:0.8831\n",
      "Epoch [22/50], average_loss:0.2243, validation_loss:0.3597, val_accuracy:0.8182\n",
      "Epoch [23/50], average_loss:0.2223, validation_loss:0.2201, val_accuracy:0.8961\n",
      "Epoch [24/50], average_loss:0.2208, validation_loss:0.2738, val_accuracy:0.8442\n",
      "Epoch [25/50], average_loss:0.2179, validation_loss:0.2832, val_accuracy:0.8052\n",
      "Epoch [26/50], average_loss:0.2131, validation_loss:0.5242, val_accuracy:0.8701\n",
      "Epoch [27/50], average_loss:0.2143, validation_loss:0.4267, val_accuracy:0.8442\n",
      "Epoch [28/50], average_loss:0.2117, validation_loss:0.9979, val_accuracy:0.8312\n",
      "Epoch [29/50], average_loss:0.2059, validation_loss:0.3559, val_accuracy:0.7662\n",
      "Epoch [30/50], average_loss:0.2026, validation_loss:1.1080, val_accuracy:0.8571\n",
      "Epoch [31/50], average_loss:0.1920, validation_loss:0.3053, val_accuracy:0.9091\n",
      "Epoch [32/50], average_loss:0.1851, validation_loss:0.1958, val_accuracy:0.9091\n",
      "Epoch [33/50], average_loss:0.1833, validation_loss:0.3075, val_accuracy:0.8442\n",
      "Epoch [34/50], average_loss:0.1799, validation_loss:0.1854, val_accuracy:0.9481\n",
      "Epoch [35/50], average_loss:0.1768, validation_loss:0.4050, val_accuracy:0.7922\n",
      "Epoch [36/50], average_loss:0.1762, validation_loss:0.2186, val_accuracy:0.9091\n",
      "Epoch [37/50], average_loss:0.1754, validation_loss:0.2682, val_accuracy:0.9351\n",
      "Epoch [38/50], average_loss:0.1725, validation_loss:0.2813, val_accuracy:0.8701\n",
      "Epoch [39/50], average_loss:0.1675, validation_loss:0.2216, val_accuracy:0.8961\n",
      "Epoch [40/50], average_loss:0.1656, validation_loss:0.2047, val_accuracy:0.8831\n",
      "Epoch [41/50], average_loss:0.1667, validation_loss:0.1964, val_accuracy:0.9610\n",
      "Epoch [42/50], average_loss:0.1571, validation_loss:0.2547, val_accuracy:0.9610\n",
      "Epoch [43/50], average_loss:0.1605, validation_loss:0.1955, val_accuracy:0.9481\n",
      "Epoch [44/50], average_loss:0.1560, validation_loss:0.2650, val_accuracy:0.8961\n",
      "Epoch [45/50], average_loss:0.1542, validation_loss:0.1672, val_accuracy:0.8831\n",
      "Epoch [46/50], average_loss:0.1560, validation_loss:0.3687, val_accuracy:0.8961\n",
      "Epoch [47/50], average_loss:0.1506, validation_loss:0.1621, val_accuracy:0.9610\n",
      "Epoch [48/50], average_loss:0.1470, validation_loss:0.3200, val_accuracy:0.8442\n",
      "Epoch [49/50], average_loss:0.1467, validation_loss:0.1905, val_accuracy:0.9610\n",
      "Epoch [50/50], average_loss:0.1436, validation_loss:0.2883, val_accuracy:0.9221\n"
     ]
    }
   ],
   "source": [
    "lh = m4(epochs=range(50), train_loader=train_loader, validation_loader=valid_loader)"
   ]
  },
  {
   "cell_type": "code",
   "execution_count": 13,
   "metadata": {},
   "outputs": [
    {
     "data": {
      "text/plain": [
       "Sequential(\n",
       "  (0): Reshape()\n",
       "  (1): InceptionBlock(\n",
       "    (activation): LeakyReLU(negative_slope=0.01)\n",
       "    (inception_1): Inception(\n",
       "      (conv_from_bottleneck_1): Conv1d(1, 32, kernel_size=(5,), stride=(1,), padding=(2,), bias=False)\n",
       "      (conv_from_bottleneck_2): Conv1d(1, 32, kernel_size=(11,), stride=(1,), padding=(5,), bias=False)\n",
       "      (conv_from_bottleneck_3): Conv1d(1, 32, kernel_size=(23,), stride=(1,), padding=(11,), bias=False)\n",
       "      (max_pool): MaxPool1d(kernel_size=3, stride=1, padding=1, dilation=1, ceil_mode=False)\n",
       "      (conv_from_maxpool): Conv1d(1, 32, kernel_size=(1,), stride=(1,), bias=False)\n",
       "      (batch_norm): BatchNorm1d(128, eps=1e-05, momentum=0.1, affine=True, track_running_stats=True)\n",
       "      (activation): LeakyReLU(negative_slope=0.01)\n",
       "    )\n",
       "    (inception_2): Inception(\n",
       "      (bottleneck): Conv1d(128, 32, kernel_size=(1,), stride=(1,), bias=False)\n",
       "      (conv_from_bottleneck_1): Conv1d(32, 32, kernel_size=(5,), stride=(1,), padding=(2,), bias=False)\n",
       "      (conv_from_bottleneck_2): Conv1d(32, 32, kernel_size=(11,), stride=(1,), padding=(5,), bias=False)\n",
       "      (conv_from_bottleneck_3): Conv1d(32, 32, kernel_size=(23,), stride=(1,), padding=(11,), bias=False)\n",
       "      (max_pool): MaxPool1d(kernel_size=3, stride=1, padding=1, dilation=1, ceil_mode=False)\n",
       "      (conv_from_maxpool): Conv1d(128, 32, kernel_size=(1,), stride=(1,), bias=False)\n",
       "      (batch_norm): BatchNorm1d(128, eps=1e-05, momentum=0.1, affine=True, track_running_stats=True)\n",
       "      (activation): LeakyReLU(negative_slope=0.01)\n",
       "    )\n",
       "    (inception_3): Inception(\n",
       "      (bottleneck): Conv1d(128, 32, kernel_size=(1,), stride=(1,), bias=False)\n",
       "      (conv_from_bottleneck_1): Conv1d(32, 32, kernel_size=(5,), stride=(1,), padding=(2,), bias=False)\n",
       "      (conv_from_bottleneck_2): Conv1d(32, 32, kernel_size=(11,), stride=(1,), padding=(5,), bias=False)\n",
       "      (conv_from_bottleneck_3): Conv1d(32, 32, kernel_size=(23,), stride=(1,), padding=(11,), bias=False)\n",
       "      (max_pool): MaxPool1d(kernel_size=3, stride=1, padding=1, dilation=1, ceil_mode=False)\n",
       "      (conv_from_maxpool): Conv1d(128, 32, kernel_size=(1,), stride=(1,), bias=False)\n",
       "      (batch_norm): BatchNorm1d(128, eps=1e-05, momentum=0.1, affine=True, track_running_stats=True)\n",
       "      (activation): LeakyReLU(negative_slope=0.01)\n",
       "    )\n",
       "    (residual): Sequential(\n",
       "      (0): Conv1d(1, 128, kernel_size=(1,), stride=(1,))\n",
       "      (1): BatchNorm1d(128, eps=1e-05, momentum=0.1, affine=True, track_running_stats=True)\n",
       "    )\n",
       "  )\n",
       "  (2): Inception(\n",
       "    (bottleneck): Conv1d(128, 32, kernel_size=(1,), stride=(1,), bias=False)\n",
       "    (conv_from_bottleneck_1): Conv1d(32, 32, kernel_size=(5,), stride=(1,), padding=(2,), bias=False)\n",
       "    (conv_from_bottleneck_2): Conv1d(32, 32, kernel_size=(11,), stride=(1,), padding=(5,), bias=False)\n",
       "    (conv_from_bottleneck_3): Conv1d(32, 32, kernel_size=(23,), stride=(1,), padding=(11,), bias=False)\n",
       "    (max_pool): MaxPool1d(kernel_size=3, stride=1, padding=1, dilation=1, ceil_mode=False)\n",
       "    (conv_from_maxpool): Conv1d(128, 32, kernel_size=(1,), stride=(1,), bias=False)\n",
       "    (batch_norm): BatchNorm1d(128, eps=1e-05, momentum=0.1, affine=True, track_running_stats=True)\n",
       "    (activation): LeakyReLU(negative_slope=0.01)\n",
       "  )\n",
       "  (3): AdaptiveAvgPool1d(output_size=1)\n",
       "  (4): Flatten()\n",
       "  (5): Linear(in_features=128, out_features=4, bias=True)\n",
       ")"
      ]
     },
     "execution_count": 13,
     "metadata": {},
     "output_type": "execute_result"
    }
   ],
   "source": [
    "m4.model.eval()\n",
    "m4.model.cpu()\n",
    "with torch.no_grad():\n",
    "    x_pred = np.argmax(m4.model(torch.tensor(X_test).float()).detach(), axis=1)\n",
    "m4.model.cuda()"
   ]
  },
  {
   "cell_type": "code",
   "execution_count": 14,
   "metadata": {
    "scrolled": false
   },
   "outputs": [
    {
     "data": {
      "text/plain": [
       "tensor([1, 1, 1,  ..., 1, 1, 1])"
      ]
     },
     "execution_count": 14,
     "metadata": {},
     "output_type": "execute_result"
    }
   ],
   "source": [
    "x_pred"
   ]
  },
  {
   "cell_type": "code",
   "execution_count": 15,
   "metadata": {},
   "outputs": [
    {
     "data": {
      "text/plain": [
       "0.8483816623000584"
      ]
     },
     "execution_count": 15,
     "metadata": {},
     "output_type": "execute_result"
    }
   ],
   "source": [
    "f1_score(y_true=y_test, y_pred=x_pred,average=\"macro\")"
   ]
  },
  {
   "cell_type": "code",
   "execution_count": 16,
   "metadata": {},
   "outputs": [
    {
     "data": {
      "text/plain": [
       "0.8919694072657743"
      ]
     },
     "execution_count": 16,
     "metadata": {},
     "output_type": "execute_result"
    }
   ],
   "source": [
    "accuracy_score(y_true=y_test, y_pred=x_pred)"
   ]
  },
  {
   "cell_type": "code",
   "execution_count": 17,
   "metadata": {},
   "outputs": [
    {
     "data": {
      "text/plain": [
       "array([[ 3002,  1107,    57,    69],\n",
       "       [   62, 10264,    39,    80],\n",
       "       [    9,     8,   447,    15],\n",
       "       [  203,   112,    47,  1215]], dtype=int64)"
      ]
     },
     "execution_count": 17,
     "metadata": {},
     "output_type": "execute_result"
    }
   ],
   "source": [
    "cf1 = confusion_matrix(y_true=y_test, y_pred=x_pred)\n",
    "cf1"
   ]
  },
  {
   "cell_type": "code",
   "execution_count": 18,
   "metadata": {},
   "outputs": [],
   "source": [
    "m4.tb.close()"
   ]
  },
  {
   "cell_type": "markdown",
   "metadata": {},
   "source": [
    "# InceptionTime LeakyReLU"
   ]
  },
  {
   "cell_type": "code",
   "execution_count": 9,
   "metadata": {},
   "outputs": [],
   "source": [
    "IT3 = nn.Sequential(\n",
    "            layers.Reshape(out_shape=(1,160)),\n",
    "            InceptionBlock(\n",
    "                in_channels=1, \n",
    "                n_filters=32, \n",
    "                kernel_sizes=[5, 11, 23],\n",
    "                bottleneck_channels=32,\n",
    "                use_residual=True,\n",
    "                activation=nn.LeakyReLU()\n",
    "            ),\n",
    "            nn.AdaptiveAvgPool1d(output_size=1),\n",
    "            layers.Flatten(out_features=32*4*1),\n",
    "            nn.Linear(in_features=4*32*1, out_features=4)\n",
    ")"
   ]
  },
  {
   "cell_type": "code",
   "execution_count": 10,
   "metadata": {},
   "outputs": [],
   "source": [
    "train_loader = torch.utils.data.DataLoader(dataset = train, batch_size=512, shuffle=True)\n",
    "valid_loader = torch.utils.data.DataLoader(dataset = valid, batch_size=512, shuffle=True)"
   ]
  },
  {
   "cell_type": "code",
   "execution_count": 11,
   "metadata": {},
   "outputs": [],
   "source": [
    "optimizer= torch.optim.Adam(IT3.parameters(), lr=5e-3)"
   ]
  },
  {
   "cell_type": "code",
   "execution_count": 12,
   "metadata": {
    "scrolled": true
   },
   "outputs": [
    {
     "name": "stdout",
     "output_type": "stream",
     "text": [
      "cuda:0\n"
     ]
    }
   ],
   "source": [
    "m2 = Trainer(\n",
    "        model=IT3,\n",
    "        optimizer=optimizer,\n",
    "        loss_function=nn.CrossEntropyLoss(),\n",
    "        scheduler=torch.optim.lr_scheduler.MultiStepLR(optimizer, milestones=[5,20], gamma=0.2),\n",
    "        tensorboard=True,\n",
    "        model_name=\"InceptionTime_LeakyReLU_lr-{5e-3,1e-3,2e-4},_bs-512_ks-[5,11,23]\",\n",
    "        verbose=True\n",
    "        )"
   ]
  },
  {
   "cell_type": "code",
   "execution_count": 13,
   "metadata": {},
   "outputs": [
    {
     "name": "stdout",
     "output_type": "stream",
     "text": [
      "Epoch [1/50], average_loss:0.6470, validation_loss:0.5115, val_accuracy:0.8312\n",
      "Epoch [2/50], average_loss:0.4845, validation_loss:0.4740, val_accuracy:0.8571\n",
      "Epoch [3/50], average_loss:0.4191, validation_loss:0.3817, val_accuracy:0.8182\n",
      "Epoch [4/50], average_loss:0.3786, validation_loss:0.4483, val_accuracy:0.7792\n",
      "Epoch [5/50], average_loss:0.3516, validation_loss:0.3518, val_accuracy:0.8961\n",
      "Epoch [6/50], average_loss:0.3158, validation_loss:0.2989, val_accuracy:0.8831\n",
      "Epoch [7/50], average_loss:0.3048, validation_loss:0.2955, val_accuracy:0.8442\n",
      "Epoch [8/50], average_loss:0.3035, validation_loss:0.3288, val_accuracy:0.8571\n",
      "Epoch [9/50], average_loss:0.2987, validation_loss:0.2913, val_accuracy:0.9221\n",
      "Epoch [10/50], average_loss:0.2949, validation_loss:0.3034, val_accuracy:0.8831\n",
      "Epoch [11/50], average_loss:0.2884, validation_loss:0.3012, val_accuracy:0.9091\n",
      "Epoch [12/50], average_loss:0.2864, validation_loss:0.2882, val_accuracy:0.9351\n",
      "Epoch [13/50], average_loss:0.2819, validation_loss:0.3821, val_accuracy:0.8052\n",
      "Epoch [14/50], average_loss:0.2842, validation_loss:0.2834, val_accuracy:0.8831\n",
      "Epoch [15/50], average_loss:0.2772, validation_loss:0.3346, val_accuracy:0.8182\n",
      "Epoch [16/50], average_loss:0.2751, validation_loss:0.2689, val_accuracy:0.9610\n",
      "Epoch [17/50], average_loss:0.2740, validation_loss:0.2729, val_accuracy:0.8961\n",
      "Epoch [18/50], average_loss:0.2705, validation_loss:0.2674, val_accuracy:0.9091\n",
      "Epoch [19/50], average_loss:0.2711, validation_loss:0.2951, val_accuracy:0.8961\n",
      "Epoch [20/50], average_loss:0.2627, validation_loss:0.2900, val_accuracy:0.8442\n",
      "Epoch [21/50], average_loss:0.2523, validation_loss:0.2568, val_accuracy:0.8961\n",
      "Epoch [22/50], average_loss:0.2488, validation_loss:0.2466, val_accuracy:0.9091\n",
      "Epoch [23/50], average_loss:0.2478, validation_loss:0.2534, val_accuracy:0.8831\n",
      "Epoch [24/50], average_loss:0.2474, validation_loss:0.2453, val_accuracy:0.8701\n",
      "Epoch [25/50], average_loss:0.2476, validation_loss:0.2415, val_accuracy:0.9091\n",
      "Epoch [26/50], average_loss:0.2455, validation_loss:0.2528, val_accuracy:0.8961\n",
      "Epoch [27/50], average_loss:0.2469, validation_loss:0.2468, val_accuracy:0.8961\n",
      "Epoch [28/50], average_loss:0.2461, validation_loss:0.2461, val_accuracy:0.8571\n",
      "Epoch [29/50], average_loss:0.2437, validation_loss:0.2465, val_accuracy:0.9221\n",
      "Epoch [30/50], average_loss:0.2433, validation_loss:0.2458, val_accuracy:0.8961\n",
      "Epoch [31/50], average_loss:0.2431, validation_loss:0.2375, val_accuracy:0.9740\n",
      "Epoch [32/50], average_loss:0.2423, validation_loss:0.2513, val_accuracy:0.9091\n",
      "Epoch [33/50], average_loss:0.2397, validation_loss:0.2510, val_accuracy:0.9091\n",
      "Epoch [34/50], average_loss:0.2385, validation_loss:0.2498, val_accuracy:0.9221\n",
      "Epoch [35/50], average_loss:0.2390, validation_loss:0.2494, val_accuracy:0.9221\n",
      "Epoch [36/50], average_loss:0.2387, validation_loss:0.2338, val_accuracy:0.8961\n",
      "Epoch [37/50], average_loss:0.2378, validation_loss:0.2430, val_accuracy:0.9091\n",
      "Epoch [38/50], average_loss:0.2381, validation_loss:0.2341, val_accuracy:0.9221\n",
      "Epoch [39/50], average_loss:0.2356, validation_loss:0.2360, val_accuracy:0.8701\n",
      "Epoch [40/50], average_loss:0.2350, validation_loss:0.2509, val_accuracy:0.9091\n",
      "Epoch [41/50], average_loss:0.2352, validation_loss:0.2379, val_accuracy:0.8961\n",
      "Epoch [42/50], average_loss:0.2336, validation_loss:0.2323, val_accuracy:0.9221\n",
      "Epoch [43/50], average_loss:0.2344, validation_loss:0.2273, val_accuracy:0.9740\n",
      "Epoch [44/50], average_loss:0.2326, validation_loss:0.2435, val_accuracy:0.8961\n",
      "Epoch [45/50], average_loss:0.2324, validation_loss:0.2254, val_accuracy:0.9610\n",
      "Epoch [46/50], average_loss:0.2305, validation_loss:0.2282, val_accuracy:0.9610\n",
      "Epoch [47/50], average_loss:0.2332, validation_loss:0.2303, val_accuracy:0.9481\n",
      "Epoch [48/50], average_loss:0.2308, validation_loss:0.2307, val_accuracy:0.9740\n",
      "Epoch [49/50], average_loss:0.2281, validation_loss:0.2325, val_accuracy:0.9610\n",
      "Epoch [50/50], average_loss:0.2288, validation_loss:0.2409, val_accuracy:0.8961\n"
     ]
    }
   ],
   "source": [
    "lh = m2(epochs=range(50), train_loader=train_loader, validation_loader=valid_loader)"
   ]
  },
  {
   "cell_type": "code",
   "execution_count": 14,
   "metadata": {},
   "outputs": [
    {
     "data": {
      "text/plain": [
       "Sequential(\n",
       "  (0): Reshape()\n",
       "  (1): InceptionBlock(\n",
       "    (activation): LeakyReLU(negative_slope=0.01)\n",
       "    (inception_1): Inception(\n",
       "      (conv_from_bottleneck_1): Conv1d(1, 32, kernel_size=(5,), stride=(1,), padding=(2,), bias=False)\n",
       "      (conv_from_bottleneck_2): Conv1d(1, 32, kernel_size=(11,), stride=(1,), padding=(5,), bias=False)\n",
       "      (conv_from_bottleneck_3): Conv1d(1, 32, kernel_size=(23,), stride=(1,), padding=(11,), bias=False)\n",
       "      (max_pool): MaxPool1d(kernel_size=3, stride=1, padding=1, dilation=1, ceil_mode=False)\n",
       "      (conv_from_maxpool): Conv1d(1, 32, kernel_size=(1,), stride=(1,), bias=False)\n",
       "      (batch_norm): BatchNorm1d(128, eps=1e-05, momentum=0.1, affine=True, track_running_stats=True)\n",
       "      (activation): LeakyReLU(negative_slope=0.01)\n",
       "    )\n",
       "    (inception_2): Inception(\n",
       "      (bottleneck): Conv1d(128, 32, kernel_size=(1,), stride=(1,), bias=False)\n",
       "      (conv_from_bottleneck_1): Conv1d(32, 32, kernel_size=(5,), stride=(1,), padding=(2,), bias=False)\n",
       "      (conv_from_bottleneck_2): Conv1d(32, 32, kernel_size=(11,), stride=(1,), padding=(5,), bias=False)\n",
       "      (conv_from_bottleneck_3): Conv1d(32, 32, kernel_size=(23,), stride=(1,), padding=(11,), bias=False)\n",
       "      (max_pool): MaxPool1d(kernel_size=3, stride=1, padding=1, dilation=1, ceil_mode=False)\n",
       "      (conv_from_maxpool): Conv1d(128, 32, kernel_size=(1,), stride=(1,), bias=False)\n",
       "      (batch_norm): BatchNorm1d(128, eps=1e-05, momentum=0.1, affine=True, track_running_stats=True)\n",
       "      (activation): LeakyReLU(negative_slope=0.01)\n",
       "    )\n",
       "    (inception_3): Inception(\n",
       "      (bottleneck): Conv1d(128, 32, kernel_size=(1,), stride=(1,), bias=False)\n",
       "      (conv_from_bottleneck_1): Conv1d(32, 32, kernel_size=(5,), stride=(1,), padding=(2,), bias=False)\n",
       "      (conv_from_bottleneck_2): Conv1d(32, 32, kernel_size=(11,), stride=(1,), padding=(5,), bias=False)\n",
       "      (conv_from_bottleneck_3): Conv1d(32, 32, kernel_size=(23,), stride=(1,), padding=(11,), bias=False)\n",
       "      (max_pool): MaxPool1d(kernel_size=3, stride=1, padding=1, dilation=1, ceil_mode=False)\n",
       "      (conv_from_maxpool): Conv1d(128, 32, kernel_size=(1,), stride=(1,), bias=False)\n",
       "      (batch_norm): BatchNorm1d(128, eps=1e-05, momentum=0.1, affine=True, track_running_stats=True)\n",
       "      (activation): LeakyReLU(negative_slope=0.01)\n",
       "    )\n",
       "    (residual): Sequential(\n",
       "      (0): Conv1d(1, 128, kernel_size=(1,), stride=(1,))\n",
       "      (1): BatchNorm1d(128, eps=1e-05, momentum=0.1, affine=True, track_running_stats=True)\n",
       "    )\n",
       "  )\n",
       "  (2): AdaptiveAvgPool1d(output_size=1)\n",
       "  (3): Flatten()\n",
       "  (4): Linear(in_features=128, out_features=4, bias=True)\n",
       ")"
      ]
     },
     "execution_count": 14,
     "metadata": {},
     "output_type": "execute_result"
    }
   ],
   "source": [
    "m2.model.eval()\n",
    "m2.model.cpu()\n",
    "with torch.no_grad():\n",
    "    x_pred = np.argmax(m2.model(torch.tensor(X_test).float()).detach(), axis=1)\n",
    "m2.model.cuda()"
   ]
  },
  {
   "cell_type": "code",
   "execution_count": 15,
   "metadata": {
    "scrolled": false
   },
   "outputs": [
    {
     "data": {
      "text/plain": [
       "tensor([1, 1, 1,  ..., 0, 1, 0])"
      ]
     },
     "execution_count": 15,
     "metadata": {},
     "output_type": "execute_result"
    }
   ],
   "source": [
    "x_pred"
   ]
  },
  {
   "cell_type": "code",
   "execution_count": 16,
   "metadata": {},
   "outputs": [
    {
     "data": {
      "text/plain": [
       "0.8370576599423052"
      ]
     },
     "execution_count": 16,
     "metadata": {},
     "output_type": "execute_result"
    }
   ],
   "source": [
    "f1_score(y_true=y_test, y_pred=x_pred,average=\"macro\")"
   ]
  },
  {
   "cell_type": "code",
   "execution_count": 17,
   "metadata": {},
   "outputs": [
    {
     "data": {
      "text/plain": [
       "0.9152127151051626"
      ]
     },
     "execution_count": 17,
     "metadata": {},
     "output_type": "execute_result"
    }
   ],
   "source": [
    "accuracy_score(y_true=y_test, y_pred=x_pred)"
   ]
  },
  {
   "cell_type": "code",
   "execution_count": 18,
   "metadata": {
    "scrolled": true
   },
   "outputs": [
    {
     "data": {
      "text/plain": [
       "array([[ 3876,   268,    39,    52],\n",
       "       [  348, 10006,    30,    61],\n",
       "       [   40,    41,   371,    27],\n",
       "       [  325,   112,    76,  1064]], dtype=int64)"
      ]
     },
     "execution_count": 18,
     "metadata": {},
     "output_type": "execute_result"
    }
   ],
   "source": [
    "cf1 = confusion_matrix(y_true=y_test, y_pred=x_pred) # x_axis = predicted, y_axis = ground_truth\n",
    "cf1"
   ]
  },
  {
   "cell_type": "code",
   "execution_count": 19,
   "metadata": {
    "collapsed": true
   },
   "outputs": [
    {
     "name": "stderr",
     "output_type": "stream",
     "text": [
      "C:\\Users\\ghost_000\\Miniconda3\\envs\\Pytorch\\lib\\site-packages\\torch\\serialization.py:292: UserWarning: Couldn't retrieve source code for container of type Sequential. It won't be checked for correctness upon loading.\n",
      "  \"type \" + obj.__name__ + \". It won't be checked \"\n",
      "C:\\Users\\ghost_000\\Miniconda3\\envs\\Pytorch\\lib\\site-packages\\torch\\serialization.py:292: UserWarning: Couldn't retrieve source code for container of type Reshape. It won't be checked for correctness upon loading.\n",
      "  \"type \" + obj.__name__ + \". It won't be checked \"\n",
      "C:\\Users\\ghost_000\\Miniconda3\\envs\\Pytorch\\lib\\site-packages\\torch\\serialization.py:292: UserWarning: Couldn't retrieve source code for container of type InceptionBlock. It won't be checked for correctness upon loading.\n",
      "  \"type \" + obj.__name__ + \". It won't be checked \"\n",
      "C:\\Users\\ghost_000\\Miniconda3\\envs\\Pytorch\\lib\\site-packages\\torch\\serialization.py:292: UserWarning: Couldn't retrieve source code for container of type LeakyReLU. It won't be checked for correctness upon loading.\n",
      "  \"type \" + obj.__name__ + \". It won't be checked \"\n",
      "C:\\Users\\ghost_000\\Miniconda3\\envs\\Pytorch\\lib\\site-packages\\torch\\serialization.py:292: UserWarning: Couldn't retrieve source code for container of type Inception. It won't be checked for correctness upon loading.\n",
      "  \"type \" + obj.__name__ + \". It won't be checked \"\n",
      "C:\\Users\\ghost_000\\Miniconda3\\envs\\Pytorch\\lib\\site-packages\\torch\\serialization.py:292: UserWarning: Couldn't retrieve source code for container of type Conv1d. It won't be checked for correctness upon loading.\n",
      "  \"type \" + obj.__name__ + \". It won't be checked \"\n",
      "C:\\Users\\ghost_000\\Miniconda3\\envs\\Pytorch\\lib\\site-packages\\torch\\serialization.py:292: UserWarning: Couldn't retrieve source code for container of type MaxPool1d. It won't be checked for correctness upon loading.\n",
      "  \"type \" + obj.__name__ + \". It won't be checked \"\n",
      "C:\\Users\\ghost_000\\Miniconda3\\envs\\Pytorch\\lib\\site-packages\\torch\\serialization.py:292: UserWarning: Couldn't retrieve source code for container of type BatchNorm1d. It won't be checked for correctness upon loading.\n",
      "  \"type \" + obj.__name__ + \". It won't be checked \"\n",
      "C:\\Users\\ghost_000\\Miniconda3\\envs\\Pytorch\\lib\\site-packages\\torch\\serialization.py:292: UserWarning: Couldn't retrieve source code for container of type AdaptiveAvgPool1d. It won't be checked for correctness upon loading.\n",
      "  \"type \" + obj.__name__ + \". It won't be checked \"\n",
      "C:\\Users\\ghost_000\\Miniconda3\\envs\\Pytorch\\lib\\site-packages\\torch\\serialization.py:292: UserWarning: Couldn't retrieve source code for container of type Flatten. It won't be checked for correctness upon loading.\n",
      "  \"type \" + obj.__name__ + \". It won't be checked \"\n",
      "C:\\Users\\ghost_000\\Miniconda3\\envs\\Pytorch\\lib\\site-packages\\torch\\serialization.py:292: UserWarning: Couldn't retrieve source code for container of type Linear. It won't be checked for correctness upon loading.\n",
      "  \"type \" + obj.__name__ + \". It won't be checked \"\n"
     ]
    }
   ],
   "source": [
    "#torch.save(m2.model, \"models_and_losses/InceptionTime_LeakyReLU_lr-{5e-3,1e-3,2e-4},_bs-512_ks-[5,11,23]_50-epochs.pt\" )"
   ]
  },
  {
   "cell_type": "code",
   "execution_count": 20,
   "metadata": {},
   "outputs": [
    {
     "name": "stdout",
     "output_type": "stream",
     "text": [
      "Epoch [51/100], average_loss:0.2280, validation_loss:0.2316, val_accuracy:0.9221\n",
      "Epoch [52/100], average_loss:0.2272, validation_loss:0.2383, val_accuracy:0.8571\n",
      "Epoch [53/100], average_loss:0.2266, validation_loss:0.2255, val_accuracy:0.9221\n",
      "Epoch [54/100], average_loss:0.2265, validation_loss:0.2542, val_accuracy:0.9221\n",
      "Epoch [55/100], average_loss:0.2279, validation_loss:0.2243, val_accuracy:0.9481\n",
      "Epoch [56/100], average_loss:0.2257, validation_loss:0.2465, val_accuracy:0.8701\n",
      "Epoch [57/100], average_loss:0.2253, validation_loss:0.2264, val_accuracy:0.9351\n",
      "Epoch [58/100], average_loss:0.2251, validation_loss:0.2344, val_accuracy:0.9091\n",
      "Epoch [59/100], average_loss:0.2242, validation_loss:0.2395, val_accuracy:0.8961\n",
      "Epoch [60/100], average_loss:0.2238, validation_loss:0.2377, val_accuracy:0.8571\n",
      "Epoch [61/100], average_loss:0.2221, validation_loss:0.2218, val_accuracy:0.9740\n",
      "Epoch [62/100], average_loss:0.2204, validation_loss:0.2348, val_accuracy:0.9091\n",
      "Epoch [63/100], average_loss:0.2205, validation_loss:0.2388, val_accuracy:0.9481\n",
      "Epoch [64/100], average_loss:0.2222, validation_loss:0.2234, val_accuracy:0.8961\n",
      "Epoch [65/100], average_loss:0.2209, validation_loss:0.2221, val_accuracy:0.9610\n",
      "Epoch [66/100], average_loss:0.2205, validation_loss:0.2260, val_accuracy:0.9221\n",
      "Epoch [67/100], average_loss:0.2179, validation_loss:0.2220, val_accuracy:0.9221\n",
      "Epoch [68/100], average_loss:0.2195, validation_loss:0.2232, val_accuracy:0.8701\n",
      "Epoch [69/100], average_loss:0.2186, validation_loss:0.2307, val_accuracy:0.9091\n",
      "Epoch [70/100], average_loss:0.2187, validation_loss:0.2457, val_accuracy:0.8701\n",
      "Epoch [71/100], average_loss:0.2159, validation_loss:0.2177, val_accuracy:0.9091\n",
      "Epoch [72/100], average_loss:0.2175, validation_loss:0.2133, val_accuracy:0.9481\n",
      "Epoch [73/100], average_loss:0.2178, validation_loss:0.2179, val_accuracy:0.9091\n",
      "Epoch [74/100], average_loss:0.2145, validation_loss:0.2185, val_accuracy:0.9351\n",
      "Epoch [75/100], average_loss:0.2138, validation_loss:0.2197, val_accuracy:1.0000\n",
      "Epoch [76/100], average_loss:0.2137, validation_loss:0.2239, val_accuracy:0.8961\n",
      "Epoch [77/100], average_loss:0.2162, validation_loss:0.2336, val_accuracy:0.8961\n",
      "Epoch [78/100], average_loss:0.2142, validation_loss:0.2194, val_accuracy:0.8961\n",
      "Epoch [79/100], average_loss:0.2123, validation_loss:0.2128, val_accuracy:0.9351\n",
      "Epoch [80/100], average_loss:0.2130, validation_loss:0.2429, val_accuracy:0.8831\n",
      "Epoch [81/100], average_loss:0.2143, validation_loss:0.2110, val_accuracy:0.9610\n",
      "Epoch [82/100], average_loss:0.2099, validation_loss:0.2245, val_accuracy:0.9091\n",
      "Epoch [83/100], average_loss:0.2108, validation_loss:0.2093, val_accuracy:0.9481\n",
      "Epoch [84/100], average_loss:0.2104, validation_loss:0.2233, val_accuracy:0.8961\n",
      "Epoch [85/100], average_loss:0.2125, validation_loss:0.2099, val_accuracy:0.9091\n",
      "Epoch [86/100], average_loss:0.2096, validation_loss:0.2165, val_accuracy:0.9091\n",
      "Epoch [87/100], average_loss:0.2084, validation_loss:0.2091, val_accuracy:0.9481\n",
      "Epoch [88/100], average_loss:0.2091, validation_loss:0.2173, val_accuracy:0.8961\n",
      "Epoch [89/100], average_loss:0.2092, validation_loss:0.2111, val_accuracy:0.9481\n",
      "Epoch [90/100], average_loss:0.2085, validation_loss:0.2273, val_accuracy:0.8961\n",
      "Epoch [91/100], average_loss:0.2085, validation_loss:0.2139, val_accuracy:0.8961\n",
      "Epoch [92/100], average_loss:0.2067, validation_loss:0.2048, val_accuracy:0.9481\n",
      "Epoch [93/100], average_loss:0.2060, validation_loss:0.2125, val_accuracy:0.9221\n",
      "Epoch [94/100], average_loss:0.2077, validation_loss:0.2055, val_accuracy:0.9221\n",
      "Epoch [95/100], average_loss:0.2068, validation_loss:0.2112, val_accuracy:0.8961\n",
      "Epoch [96/100], average_loss:0.2056, validation_loss:0.2064, val_accuracy:0.9610\n",
      "Epoch [97/100], average_loss:0.2049, validation_loss:0.2182, val_accuracy:0.9481\n",
      "Epoch [98/100], average_loss:0.2056, validation_loss:0.2077, val_accuracy:0.9610\n",
      "Epoch [99/100], average_loss:0.2053, validation_loss:0.2072, val_accuracy:0.8961\n",
      "Epoch [100/100], average_loss:0.2037, validation_loss:0.2171, val_accuracy:0.8961\n"
     ]
    }
   ],
   "source": [
    "lh = m2(epochs=range(50,100), train_loader=train_loader, validation_loader=valid_loader)"
   ]
  },
  {
   "cell_type": "code",
   "execution_count": 21,
   "metadata": {},
   "outputs": [
    {
     "data": {
      "text/plain": [
       "Sequential(\n",
       "  (0): Reshape()\n",
       "  (1): InceptionBlock(\n",
       "    (activation): LeakyReLU(negative_slope=0.01)\n",
       "    (inception_1): Inception(\n",
       "      (conv_from_bottleneck_1): Conv1d(1, 32, kernel_size=(5,), stride=(1,), padding=(2,), bias=False)\n",
       "      (conv_from_bottleneck_2): Conv1d(1, 32, kernel_size=(11,), stride=(1,), padding=(5,), bias=False)\n",
       "      (conv_from_bottleneck_3): Conv1d(1, 32, kernel_size=(23,), stride=(1,), padding=(11,), bias=False)\n",
       "      (max_pool): MaxPool1d(kernel_size=3, stride=1, padding=1, dilation=1, ceil_mode=False)\n",
       "      (conv_from_maxpool): Conv1d(1, 32, kernel_size=(1,), stride=(1,), bias=False)\n",
       "      (batch_norm): BatchNorm1d(128, eps=1e-05, momentum=0.1, affine=True, track_running_stats=True)\n",
       "      (activation): LeakyReLU(negative_slope=0.01)\n",
       "    )\n",
       "    (inception_2): Inception(\n",
       "      (bottleneck): Conv1d(128, 32, kernel_size=(1,), stride=(1,), bias=False)\n",
       "      (conv_from_bottleneck_1): Conv1d(32, 32, kernel_size=(5,), stride=(1,), padding=(2,), bias=False)\n",
       "      (conv_from_bottleneck_2): Conv1d(32, 32, kernel_size=(11,), stride=(1,), padding=(5,), bias=False)\n",
       "      (conv_from_bottleneck_3): Conv1d(32, 32, kernel_size=(23,), stride=(1,), padding=(11,), bias=False)\n",
       "      (max_pool): MaxPool1d(kernel_size=3, stride=1, padding=1, dilation=1, ceil_mode=False)\n",
       "      (conv_from_maxpool): Conv1d(128, 32, kernel_size=(1,), stride=(1,), bias=False)\n",
       "      (batch_norm): BatchNorm1d(128, eps=1e-05, momentum=0.1, affine=True, track_running_stats=True)\n",
       "      (activation): LeakyReLU(negative_slope=0.01)\n",
       "    )\n",
       "    (inception_3): Inception(\n",
       "      (bottleneck): Conv1d(128, 32, kernel_size=(1,), stride=(1,), bias=False)\n",
       "      (conv_from_bottleneck_1): Conv1d(32, 32, kernel_size=(5,), stride=(1,), padding=(2,), bias=False)\n",
       "      (conv_from_bottleneck_2): Conv1d(32, 32, kernel_size=(11,), stride=(1,), padding=(5,), bias=False)\n",
       "      (conv_from_bottleneck_3): Conv1d(32, 32, kernel_size=(23,), stride=(1,), padding=(11,), bias=False)\n",
       "      (max_pool): MaxPool1d(kernel_size=3, stride=1, padding=1, dilation=1, ceil_mode=False)\n",
       "      (conv_from_maxpool): Conv1d(128, 32, kernel_size=(1,), stride=(1,), bias=False)\n",
       "      (batch_norm): BatchNorm1d(128, eps=1e-05, momentum=0.1, affine=True, track_running_stats=True)\n",
       "      (activation): LeakyReLU(negative_slope=0.01)\n",
       "    )\n",
       "    (residual): Sequential(\n",
       "      (0): Conv1d(1, 128, kernel_size=(1,), stride=(1,))\n",
       "      (1): BatchNorm1d(128, eps=1e-05, momentum=0.1, affine=True, track_running_stats=True)\n",
       "    )\n",
       "  )\n",
       "  (2): AdaptiveAvgPool1d(output_size=1)\n",
       "  (3): Flatten()\n",
       "  (4): Linear(in_features=128, out_features=4, bias=True)\n",
       ")"
      ]
     },
     "execution_count": 21,
     "metadata": {},
     "output_type": "execute_result"
    }
   ],
   "source": [
    "m2.model.eval()\n",
    "m2.model.cpu()\n",
    "with torch.no_grad():\n",
    "    x_pred = np.argmax(m2.model(torch.tensor(X_test).float()).detach(), axis=1)\n",
    "m2.model.cuda()"
   ]
  },
  {
   "cell_type": "code",
   "execution_count": 22,
   "metadata": {
    "scrolled": false
   },
   "outputs": [
    {
     "data": {
      "text/plain": [
       "tensor([1, 1, 1,  ..., 0, 1, 0])"
      ]
     },
     "execution_count": 22,
     "metadata": {},
     "output_type": "execute_result"
    }
   ],
   "source": [
    "x_pred"
   ]
  },
  {
   "cell_type": "code",
   "execution_count": 23,
   "metadata": {},
   "outputs": [
    {
     "data": {
      "text/plain": [
       "0.8565825857096815"
      ]
     },
     "execution_count": 23,
     "metadata": {},
     "output_type": "execute_result"
    }
   ],
   "source": [
    "f1_score(y_true=y_test, y_pred=x_pred,average=\"macro\")"
   ]
  },
  {
   "cell_type": "code",
   "execution_count": 24,
   "metadata": {},
   "outputs": [
    {
     "data": {
      "text/plain": [
       "0.9238169216061185"
      ]
     },
     "execution_count": 24,
     "metadata": {},
     "output_type": "execute_result"
    }
   ],
   "source": [
    "accuracy_score(y_true=y_test, y_pred=x_pred)"
   ]
  },
  {
   "cell_type": "code",
   "execution_count": 25,
   "metadata": {
    "scrolled": true
   },
   "outputs": [
    {
     "data": {
      "text/plain": [
       "array([[ 3845,   291,    32,    67],\n",
       "       [  240, 10078,    32,    95],\n",
       "       [   37,    28,   383,    31],\n",
       "       [  292,    79,    51,  1155]], dtype=int64)"
      ]
     },
     "execution_count": 25,
     "metadata": {},
     "output_type": "execute_result"
    }
   ],
   "source": [
    "cf1 = confusion_matrix(y_true=y_test, y_pred=x_pred) # x_axis = predicted, y_axis = ground_truth\n",
    "cf1"
   ]
  },
  {
   "cell_type": "code",
   "execution_count": 26,
   "metadata": {},
   "outputs": [],
   "source": [
    "#torch.save(m2.model, \"models_and_losses/InceptionTime_LeakyReLU_lr-{5e-3,1e-3,2e-4},_bs-512_ks-[5,11,23]_100-epochs.pt\" )"
   ]
  },
  {
   "cell_type": "markdown",
   "metadata": {},
   "source": [
    "# InceptionTime - full version"
   ]
  },
  {
   "cell_type": "code",
   "execution_count": 9,
   "metadata": {},
   "outputs": [],
   "source": [
    "IT4 = nn.Sequential(\n",
    "            layers.Reshape(out_shape=(1,160)),\n",
    "            InceptionBlock(\n",
    "                in_channels=1, \n",
    "                n_filters=32, \n",
    "                kernel_sizes=[5, 11, 23],\n",
    "                bottleneck_channels=32,\n",
    "                use_residual=True,\n",
    "                activation=nn.ReLU()\n",
    "            ),\n",
    "            InceptionBlock(\n",
    "                in_channels=32*4, \n",
    "                n_filters=32, \n",
    "                kernel_sizes=[5, 11, 23],\n",
    "                bottleneck_channels=32,\n",
    "                use_residual=True,\n",
    "                activation=nn.ReLU()\n",
    "            ),\n",
    "            nn.AdaptiveAvgPool1d(output_size=1),\n",
    "            layers.Flatten(out_features=32*4*1),\n",
    "            nn.Linear(in_features=4*32*1, out_features=4)\n",
    ")"
   ]
  },
  {
   "cell_type": "code",
   "execution_count": 12,
   "metadata": {},
   "outputs": [
    {
     "data": {
      "text/plain": [
       "Sequential(\n",
       "  (0): Reshape()\n",
       "  (1): InceptionBlock(\n",
       "    (activation): ReLU()\n",
       "    (inception_1): Inception(\n",
       "      (conv_from_bottleneck_1): Conv1d(1, 32, kernel_size=(5,), stride=(1,), padding=(2,), bias=False)\n",
       "      (conv_from_bottleneck_2): Conv1d(1, 32, kernel_size=(11,), stride=(1,), padding=(5,), bias=False)\n",
       "      (conv_from_bottleneck_3): Conv1d(1, 32, kernel_size=(23,), stride=(1,), padding=(11,), bias=False)\n",
       "      (max_pool): MaxPool1d(kernel_size=3, stride=1, padding=1, dilation=1, ceil_mode=False)\n",
       "      (conv_from_maxpool): Conv1d(1, 32, kernel_size=(1,), stride=(1,), bias=False)\n",
       "      (batch_norm): BatchNorm1d(128, eps=1e-05, momentum=0.1, affine=True, track_running_stats=True)\n",
       "      (activation): ReLU()\n",
       "    )\n",
       "    (inception_2): Inception(\n",
       "      (bottleneck): Conv1d(128, 32, kernel_size=(1,), stride=(1,), bias=False)\n",
       "      (conv_from_bottleneck_1): Conv1d(32, 32, kernel_size=(5,), stride=(1,), padding=(2,), bias=False)\n",
       "      (conv_from_bottleneck_2): Conv1d(32, 32, kernel_size=(11,), stride=(1,), padding=(5,), bias=False)\n",
       "      (conv_from_bottleneck_3): Conv1d(32, 32, kernel_size=(23,), stride=(1,), padding=(11,), bias=False)\n",
       "      (max_pool): MaxPool1d(kernel_size=3, stride=1, padding=1, dilation=1, ceil_mode=False)\n",
       "      (conv_from_maxpool): Conv1d(128, 32, kernel_size=(1,), stride=(1,), bias=False)\n",
       "      (batch_norm): BatchNorm1d(128, eps=1e-05, momentum=0.1, affine=True, track_running_stats=True)\n",
       "      (activation): ReLU()\n",
       "    )\n",
       "    (inception_3): Inception(\n",
       "      (bottleneck): Conv1d(128, 32, kernel_size=(1,), stride=(1,), bias=False)\n",
       "      (conv_from_bottleneck_1): Conv1d(32, 32, kernel_size=(5,), stride=(1,), padding=(2,), bias=False)\n",
       "      (conv_from_bottleneck_2): Conv1d(32, 32, kernel_size=(11,), stride=(1,), padding=(5,), bias=False)\n",
       "      (conv_from_bottleneck_3): Conv1d(32, 32, kernel_size=(23,), stride=(1,), padding=(11,), bias=False)\n",
       "      (max_pool): MaxPool1d(kernel_size=3, stride=1, padding=1, dilation=1, ceil_mode=False)\n",
       "      (conv_from_maxpool): Conv1d(128, 32, kernel_size=(1,), stride=(1,), bias=False)\n",
       "      (batch_norm): BatchNorm1d(128, eps=1e-05, momentum=0.1, affine=True, track_running_stats=True)\n",
       "      (activation): ReLU()\n",
       "    )\n",
       "    (residual): Sequential(\n",
       "      (0): Conv1d(1, 128, kernel_size=(1,), stride=(1,))\n",
       "      (1): BatchNorm1d(128, eps=1e-05, momentum=0.1, affine=True, track_running_stats=True)\n",
       "    )\n",
       "  )\n",
       "  (2): InceptionBlock(\n",
       "    (activation): ReLU()\n",
       "    (inception_1): Inception(\n",
       "      (bottleneck): Conv1d(128, 32, kernel_size=(1,), stride=(1,), bias=False)\n",
       "      (conv_from_bottleneck_1): Conv1d(32, 32, kernel_size=(5,), stride=(1,), padding=(2,), bias=False)\n",
       "      (conv_from_bottleneck_2): Conv1d(32, 32, kernel_size=(11,), stride=(1,), padding=(5,), bias=False)\n",
       "      (conv_from_bottleneck_3): Conv1d(32, 32, kernel_size=(23,), stride=(1,), padding=(11,), bias=False)\n",
       "      (max_pool): MaxPool1d(kernel_size=3, stride=1, padding=1, dilation=1, ceil_mode=False)\n",
       "      (conv_from_maxpool): Conv1d(128, 32, kernel_size=(1,), stride=(1,), bias=False)\n",
       "      (batch_norm): BatchNorm1d(128, eps=1e-05, momentum=0.1, affine=True, track_running_stats=True)\n",
       "      (activation): ReLU()\n",
       "    )\n",
       "    (inception_2): Inception(\n",
       "      (bottleneck): Conv1d(128, 32, kernel_size=(1,), stride=(1,), bias=False)\n",
       "      (conv_from_bottleneck_1): Conv1d(32, 32, kernel_size=(5,), stride=(1,), padding=(2,), bias=False)\n",
       "      (conv_from_bottleneck_2): Conv1d(32, 32, kernel_size=(11,), stride=(1,), padding=(5,), bias=False)\n",
       "      (conv_from_bottleneck_3): Conv1d(32, 32, kernel_size=(23,), stride=(1,), padding=(11,), bias=False)\n",
       "      (max_pool): MaxPool1d(kernel_size=3, stride=1, padding=1, dilation=1, ceil_mode=False)\n",
       "      (conv_from_maxpool): Conv1d(128, 32, kernel_size=(1,), stride=(1,), bias=False)\n",
       "      (batch_norm): BatchNorm1d(128, eps=1e-05, momentum=0.1, affine=True, track_running_stats=True)\n",
       "      (activation): ReLU()\n",
       "    )\n",
       "    (inception_3): Inception(\n",
       "      (bottleneck): Conv1d(128, 32, kernel_size=(1,), stride=(1,), bias=False)\n",
       "      (conv_from_bottleneck_1): Conv1d(32, 32, kernel_size=(5,), stride=(1,), padding=(2,), bias=False)\n",
       "      (conv_from_bottleneck_2): Conv1d(32, 32, kernel_size=(11,), stride=(1,), padding=(5,), bias=False)\n",
       "      (conv_from_bottleneck_3): Conv1d(32, 32, kernel_size=(23,), stride=(1,), padding=(11,), bias=False)\n",
       "      (max_pool): MaxPool1d(kernel_size=3, stride=1, padding=1, dilation=1, ceil_mode=False)\n",
       "      (conv_from_maxpool): Conv1d(128, 32, kernel_size=(1,), stride=(1,), bias=False)\n",
       "      (batch_norm): BatchNorm1d(128, eps=1e-05, momentum=0.1, affine=True, track_running_stats=True)\n",
       "      (activation): ReLU()\n",
       "    )\n",
       "    (residual): Sequential(\n",
       "      (0): Conv1d(128, 128, kernel_size=(1,), stride=(1,))\n",
       "      (1): BatchNorm1d(128, eps=1e-05, momentum=0.1, affine=True, track_running_stats=True)\n",
       "    )\n",
       "  )\n",
       "  (3): AdaptiveAvgPool1d(output_size=1)\n",
       "  (4): Flatten()\n",
       "  (5): Linear(in_features=128, out_features=4, bias=True)\n",
       ")"
      ]
     },
     "execution_count": 12,
     "metadata": {},
     "output_type": "execute_result"
    }
   ],
   "source": [
    "IT4"
   ]
  },
  {
   "cell_type": "code",
   "execution_count": 10,
   "metadata": {},
   "outputs": [],
   "source": [
    "train_loader = torch.utils.data.DataLoader(dataset = train, batch_size=512, shuffle=True)\n",
    "valid_loader = torch.utils.data.DataLoader(dataset = valid, batch_size=512, shuffle=True)"
   ]
  },
  {
   "cell_type": "code",
   "execution_count": 11,
   "metadata": {},
   "outputs": [],
   "source": [
    "optimizer= torch.optim.Adam(IT4.parameters(), lr=5e-3)"
   ]
  },
  {
   "cell_type": "code",
   "execution_count": 13,
   "metadata": {
    "scrolled": true
   },
   "outputs": [
    {
     "name": "stdout",
     "output_type": "stream",
     "text": [
      "cuda:0\n"
     ]
    }
   ],
   "source": [
    "m4 = Trainer(\n",
    "        model=IT4,\n",
    "        optimizer=optimizer,\n",
    "        loss_function=nn.CrossEntropyLoss(),\n",
    "        scheduler=torch.optim.lr_scheduler.MultiStepLR(optimizer, milestones=[5,20], gamma=0.2),\n",
    "        tensorboard=True,\n",
    "        model_name=\"InceptionTime_full-version_lr-{5e-3,1e-3,2e-4},_bs-512_ks-[5,11,23]\",\n",
    "        verbose=True\n",
    "        )"
   ]
  },
  {
   "cell_type": "code",
   "execution_count": 14,
   "metadata": {},
   "outputs": [
    {
     "name": "stdout",
     "output_type": "stream",
     "text": [
      "Epoch [1/50], average_loss:0.5573, validation_loss:2.1409, val_accuracy:0.5584\n",
      "Epoch [2/50], average_loss:0.4032, validation_loss:0.3330, val_accuracy:0.8701\n",
      "Epoch [3/50], average_loss:0.3351, validation_loss:0.3136, val_accuracy:0.8831\n",
      "Epoch [4/50], average_loss:0.3002, validation_loss:0.3735, val_accuracy:0.8571\n",
      "Epoch [5/50], average_loss:0.2867, validation_loss:0.5746, val_accuracy:0.8312\n",
      "Epoch [6/50], average_loss:0.2505, validation_loss:0.3357, val_accuracy:0.8961\n",
      "Epoch [7/50], average_loss:0.2412, validation_loss:0.2728, val_accuracy:0.9091\n",
      "Epoch [8/50], average_loss:0.2367, validation_loss:0.3128, val_accuracy:0.8571\n",
      "Epoch [9/50], average_loss:0.2351, validation_loss:0.2752, val_accuracy:0.8961\n",
      "Epoch [10/50], average_loss:0.2348, validation_loss:0.2698, val_accuracy:0.9351\n",
      "Epoch [11/50], average_loss:0.2286, validation_loss:0.2236, val_accuracy:0.9610\n",
      "Epoch [12/50], average_loss:0.2282, validation_loss:0.3389, val_accuracy:0.8312\n",
      "Epoch [13/50], average_loss:0.2213, validation_loss:0.3940, val_accuracy:0.8052\n",
      "Epoch [14/50], average_loss:0.2202, validation_loss:0.4642, val_accuracy:0.8182\n",
      "Epoch [15/50], average_loss:0.2170, validation_loss:0.2280, val_accuracy:0.9091\n",
      "Epoch [16/50], average_loss:0.2130, validation_loss:0.3272, val_accuracy:0.8961\n",
      "Epoch [17/50], average_loss:0.2136, validation_loss:0.3827, val_accuracy:0.8442\n",
      "Epoch [18/50], average_loss:0.2079, validation_loss:0.3061, val_accuracy:0.9351\n",
      "Epoch [19/50], average_loss:0.2058, validation_loss:0.2194, val_accuracy:0.9610\n",
      "Epoch [20/50], average_loss:0.2044, validation_loss:0.2169, val_accuracy:0.9740\n",
      "Epoch [21/50], average_loss:0.1860, validation_loss:0.1881, val_accuracy:0.9610\n",
      "Epoch [22/50], average_loss:0.1804, validation_loss:0.1852, val_accuracy:0.8961\n",
      "Epoch [23/50], average_loss:0.1807, validation_loss:0.1964, val_accuracy:0.9091\n",
      "Epoch [24/50], average_loss:0.1774, validation_loss:0.1867, val_accuracy:0.9481\n",
      "Epoch [25/50], average_loss:0.1763, validation_loss:0.1778, val_accuracy:0.9610\n",
      "Epoch [26/50], average_loss:0.1743, validation_loss:0.2172, val_accuracy:0.9481\n",
      "Epoch [27/50], average_loss:0.1730, validation_loss:0.1838, val_accuracy:0.9610\n",
      "Epoch [28/50], average_loss:0.1719, validation_loss:0.1839, val_accuracy:0.9351\n",
      "Epoch [29/50], average_loss:0.1696, validation_loss:0.1762, val_accuracy:0.9740\n",
      "Epoch [30/50], average_loss:0.1697, validation_loss:0.2295, val_accuracy:0.8701\n",
      "Epoch [31/50], average_loss:0.1690, validation_loss:0.1929, val_accuracy:0.9481\n",
      "Epoch [32/50], average_loss:0.1662, validation_loss:0.1868, val_accuracy:0.9351\n",
      "Epoch [33/50], average_loss:0.1658, validation_loss:0.1737, val_accuracy:0.9481\n",
      "Epoch [34/50], average_loss:0.1646, validation_loss:0.1918, val_accuracy:0.9351\n",
      "Epoch [35/50], average_loss:0.1609, validation_loss:0.2074, val_accuracy:0.8961\n",
      "Epoch [36/50], average_loss:0.1587, validation_loss:0.1795, val_accuracy:0.9351\n",
      "Epoch [37/50], average_loss:0.1596, validation_loss:0.1773, val_accuracy:0.9091\n",
      "Epoch [38/50], average_loss:0.1568, validation_loss:0.2101, val_accuracy:0.9481\n",
      "Epoch [39/50], average_loss:0.1559, validation_loss:0.1937, val_accuracy:0.9351\n",
      "Epoch [40/50], average_loss:0.1575, validation_loss:0.2071, val_accuracy:0.9610\n",
      "Epoch [41/50], average_loss:0.1552, validation_loss:0.1639, val_accuracy:0.9481\n",
      "Epoch [42/50], average_loss:0.1515, validation_loss:0.1810, val_accuracy:0.9351\n",
      "Epoch [43/50], average_loss:0.1518, validation_loss:0.1661, val_accuracy:0.9740\n",
      "Epoch [44/50], average_loss:0.1497, validation_loss:0.1704, val_accuracy:0.9221\n",
      "Epoch [45/50], average_loss:0.1456, validation_loss:0.1651, val_accuracy:0.9481\n",
      "Epoch [46/50], average_loss:0.1453, validation_loss:0.1632, val_accuracy:0.9351\n",
      "Epoch [47/50], average_loss:0.1447, validation_loss:0.1612, val_accuracy:0.9740\n",
      "Epoch [48/50], average_loss:0.1443, validation_loss:0.1595, val_accuracy:0.9351\n",
      "Epoch [49/50], average_loss:0.1433, validation_loss:0.1576, val_accuracy:0.9221\n",
      "Epoch [50/50], average_loss:0.1413, validation_loss:0.1625, val_accuracy:0.9351\n"
     ]
    }
   ],
   "source": [
    "lh = m4(epochs=range(50), train_loader=train_loader, validation_loader=valid_loader)"
   ]
  },
  {
   "cell_type": "code",
   "execution_count": 15,
   "metadata": {},
   "outputs": [
    {
     "data": {
      "text/plain": [
       "tensor([1, 1, 1,  ..., 0, 1, 0])"
      ]
     },
     "execution_count": 15,
     "metadata": {},
     "output_type": "execute_result"
    }
   ],
   "source": [
    "m4.model.eval()\n",
    "m4.model.cpu()\n",
    "with torch.no_grad():\n",
    "    x_pred = np.argmax(m4.model(torch.tensor(X_test).float()).detach(), axis=1)\n",
    "m4.model.cuda()\n",
    "x_pred"
   ]
  },
  {
   "cell_type": "code",
   "execution_count": 18,
   "metadata": {},
   "outputs": [
    {
     "data": {
      "text/plain": [
       "0.9003748172987842"
      ]
     },
     "execution_count": 18,
     "metadata": {},
     "output_type": "execute_result"
    }
   ],
   "source": [
    "f1_score(y_true=y_test, y_pred=x_pred,average=\"macro\")"
   ]
  },
  {
   "cell_type": "code",
   "execution_count": 19,
   "metadata": {},
   "outputs": [
    {
     "data": {
      "text/plain": [
       "0.9422801147227533"
      ]
     },
     "execution_count": 19,
     "metadata": {},
     "output_type": "execute_result"
    }
   ],
   "source": [
    "accuracy_score(y_true=y_test, y_pred=x_pred)"
   ]
  },
  {
   "cell_type": "code",
   "execution_count": 20,
   "metadata": {
    "scrolled": true
   },
   "outputs": [
    {
     "data": {
      "text/plain": [
       "array([[ 4037,   116,    17,    65],\n",
       "       [  305, 10102,     7,    31],\n",
       "       [   26,    23,   408,    22],\n",
       "       [  262,    75,    17,  1223]], dtype=int64)"
      ]
     },
     "execution_count": 20,
     "metadata": {},
     "output_type": "execute_result"
    }
   ],
   "source": [
    "cf1 = confusion_matrix(y_true=y_test, y_pred=x_pred) # x_axis = predicted, y_axis = ground_truth\n",
    "cf1"
   ]
  },
  {
   "cell_type": "code",
   "execution_count": 17,
   "metadata": {},
   "outputs": [],
   "source": [
    "#torch.save(m4.model, \"models_and_losses/InceptionTime_full-version_lr-{5e-3,1e-3,2e-4},_bs-512_ks-[5,11,23]_50-epochs.pt\")"
   ]
  },
  {
   "cell_type": "code",
   "execution_count": 15,
   "metadata": {},
   "outputs": [
    {
     "data": {
      "text/plain": [
       "tensor([1, 1, 1,  ..., 0, 1, 0])"
      ]
     },
     "execution_count": 15,
     "metadata": {},
     "output_type": "execute_result"
    }
   ],
   "source": [
    "m4.model.eval()\n",
    "m4.model.cpu()\n",
    "with torch.no_grad():\n",
    "    x_pred = np.argmax(m4.model(torch.tensor(X_test).float()).detach(), axis=1)\n",
    "m4.model.cuda()\n",
    "x_pred"
   ]
  },
  {
   "cell_type": "code",
   "execution_count": 18,
   "metadata": {},
   "outputs": [
    {
     "data": {
      "text/plain": [
       "0.9003748172987842"
      ]
     },
     "execution_count": 18,
     "metadata": {},
     "output_type": "execute_result"
    }
   ],
   "source": [
    "f1_score(y_true=y_test, y_pred=x_pred,average=\"macro\")"
   ]
  },
  {
   "cell_type": "code",
   "execution_count": 19,
   "metadata": {},
   "outputs": [
    {
     "data": {
      "text/plain": [
       "0.9422801147227533"
      ]
     },
     "execution_count": 19,
     "metadata": {},
     "output_type": "execute_result"
    }
   ],
   "source": [
    "accuracy_score(y_true=y_test, y_pred=x_pred)"
   ]
  },
  {
   "cell_type": "code",
   "execution_count": 20,
   "metadata": {
    "scrolled": true
   },
   "outputs": [
    {
     "data": {
      "text/plain": [
       "array([[ 4037,   116,    17,    65],\n",
       "       [  305, 10102,     7,    31],\n",
       "       [   26,    23,   408,    22],\n",
       "       [  262,    75,    17,  1223]], dtype=int64)"
      ]
     },
     "execution_count": 20,
     "metadata": {},
     "output_type": "execute_result"
    }
   ],
   "source": [
    "cf1 = confusion_matrix(y_true=y_test, y_pred=x_pred) # x_axis = predicted, y_axis = ground_truth\n",
    "cf1"
   ]
  },
  {
   "cell_type": "code",
   "execution_count": 17,
   "metadata": {},
   "outputs": [],
   "source": [
    "#torch.save(m4.model, \"models_and_losses/InceptionTime_full-version_lr-{5e-3,1e-3,2e-4},_bs-512_ks-[5,11,23]_50-epochs.pt\")"
   ]
  },
  {
   "cell_type": "code",
   "execution_count": 21,
   "metadata": {},
   "outputs": [
    {
     "name": "stdout",
     "output_type": "stream",
     "text": [
      "Epoch [51/100], average_loss:0.1396, validation_loss:0.1911, val_accuracy:0.9481\n",
      "Epoch [52/100], average_loss:0.1389, validation_loss:0.1695, val_accuracy:0.9610\n",
      "Epoch [53/100], average_loss:0.1385, validation_loss:0.2347, val_accuracy:0.9221\n",
      "Epoch [54/100], average_loss:0.1360, validation_loss:0.1826, val_accuracy:0.9091\n",
      "Epoch [55/100], average_loss:0.1348, validation_loss:0.1646, val_accuracy:0.9091\n",
      "Epoch [56/100], average_loss:0.1343, validation_loss:0.2033, val_accuracy:0.9091\n",
      "Epoch [57/100], average_loss:0.1296, validation_loss:0.1604, val_accuracy:0.8831\n",
      "Epoch [58/100], average_loss:0.1332, validation_loss:0.1745, val_accuracy:0.8961\n",
      "Epoch [59/100], average_loss:0.1294, validation_loss:0.2348, val_accuracy:0.8701\n",
      "Epoch [60/100], average_loss:0.1275, validation_loss:0.1432, val_accuracy:0.9740\n",
      "Epoch [61/100], average_loss:0.1257, validation_loss:0.2416, val_accuracy:0.9091\n",
      "Epoch [62/100], average_loss:0.1271, validation_loss:0.1490, val_accuracy:0.9740\n",
      "Epoch [63/100], average_loss:0.1250, validation_loss:0.1620, val_accuracy:0.8701\n",
      "Epoch [64/100], average_loss:0.1239, validation_loss:0.1436, val_accuracy:0.9481\n",
      "Epoch [65/100], average_loss:0.1212, validation_loss:0.1405, val_accuracy:0.9481\n",
      "Epoch [66/100], average_loss:0.1201, validation_loss:0.1715, val_accuracy:0.9091\n",
      "Epoch [67/100], average_loss:0.1199, validation_loss:0.2162, val_accuracy:0.9481\n",
      "Epoch [68/100], average_loss:0.1194, validation_loss:0.1759, val_accuracy:0.9091\n",
      "Epoch [69/100], average_loss:0.1194, validation_loss:0.1391, val_accuracy:0.9351\n",
      "Epoch [70/100], average_loss:0.1148, validation_loss:0.1660, val_accuracy:0.8961\n",
      "Epoch [71/100], average_loss:0.1172, validation_loss:0.1772, val_accuracy:0.9610\n",
      "Epoch [72/100], average_loss:0.1133, validation_loss:0.1760, val_accuracy:0.9870\n",
      "Epoch [73/100], average_loss:0.1133, validation_loss:0.4249, val_accuracy:0.8701\n",
      "Epoch [74/100], average_loss:0.1127, validation_loss:0.1640, val_accuracy:0.9351\n",
      "Epoch [75/100], average_loss:0.1118, validation_loss:0.1420, val_accuracy:0.9740\n",
      "Epoch [76/100], average_loss:0.1085, validation_loss:0.1454, val_accuracy:0.9481\n",
      "Epoch [77/100], average_loss:0.1093, validation_loss:0.1794, val_accuracy:0.9351\n",
      "Epoch [78/100], average_loss:0.1093, validation_loss:0.1455, val_accuracy:0.9610\n",
      "Epoch [79/100], average_loss:0.1065, validation_loss:0.1604, val_accuracy:0.9351\n",
      "Epoch [80/100], average_loss:0.1071, validation_loss:0.1401, val_accuracy:0.9351\n",
      "Epoch [81/100], average_loss:0.1053, validation_loss:0.1338, val_accuracy:0.9481\n",
      "Epoch [82/100], average_loss:0.1041, validation_loss:0.1442, val_accuracy:0.9351\n",
      "Epoch [83/100], average_loss:0.1055, validation_loss:0.1499, val_accuracy:0.9221\n",
      "Epoch [84/100], average_loss:0.1015, validation_loss:0.1278, val_accuracy:0.9481\n",
      "Epoch [85/100], average_loss:0.1029, validation_loss:0.1310, val_accuracy:0.9351\n",
      "Epoch [86/100], average_loss:0.1029, validation_loss:0.1919, val_accuracy:0.8961\n",
      "Epoch [87/100], average_loss:0.0997, validation_loss:0.1331, val_accuracy:0.9481\n",
      "Epoch [88/100], average_loss:0.0981, validation_loss:0.1636, val_accuracy:0.8701\n",
      "Epoch [89/100], average_loss:0.0987, validation_loss:0.1933, val_accuracy:0.9351\n",
      "Epoch [90/100], average_loss:0.0999, validation_loss:0.1496, val_accuracy:0.9740\n",
      "Epoch [91/100], average_loss:0.0957, validation_loss:0.1576, val_accuracy:0.9481\n",
      "Epoch [92/100], average_loss:0.0973, validation_loss:0.1195, val_accuracy:0.9481\n",
      "Epoch [93/100], average_loss:0.0961, validation_loss:0.1342, val_accuracy:0.9610\n",
      "Epoch [94/100], average_loss:0.0943, validation_loss:0.1482, val_accuracy:0.8961\n",
      "Epoch [95/100], average_loss:0.0935, validation_loss:0.1270, val_accuracy:0.9481\n",
      "Epoch [96/100], average_loss:0.0915, validation_loss:0.1915, val_accuracy:0.9351\n",
      "Epoch [97/100], average_loss:0.0928, validation_loss:0.1182, val_accuracy:0.9870\n",
      "Epoch [98/100], average_loss:0.0892, validation_loss:0.1300, val_accuracy:0.9610\n",
      "Epoch [99/100], average_loss:0.0913, validation_loss:0.1618, val_accuracy:0.9221\n",
      "Epoch [100/100], average_loss:0.0912, validation_loss:0.1255, val_accuracy:1.0000\n"
     ]
    }
   ],
   "source": [
    "lh = m4(epochs=range(50,100), train_loader=train_loader, validation_loader=valid_loader)"
   ]
  },
  {
   "cell_type": "code",
   "execution_count": 22,
   "metadata": {},
   "outputs": [
    {
     "data": {
      "text/plain": [
       "tensor([1, 1, 1,  ..., 3, 1, 0])"
      ]
     },
     "execution_count": 22,
     "metadata": {},
     "output_type": "execute_result"
    }
   ],
   "source": [
    "m4.model.eval()\n",
    "m4.model.cpu()\n",
    "with torch.no_grad():\n",
    "    x_pred = np.argmax(m4.model(torch.tensor(X_test).float()).detach(), axis=1)\n",
    "m4.model.cuda()\n",
    "x_pred"
   ]
  },
  {
   "cell_type": "code",
   "execution_count": 23,
   "metadata": {},
   "outputs": [
    {
     "data": {
      "text/plain": [
       "0.9125625555928921"
      ]
     },
     "execution_count": 23,
     "metadata": {},
     "output_type": "execute_result"
    }
   ],
   "source": [
    "f1_score(y_true=y_test, y_pred=x_pred,average=\"macro\")"
   ]
  },
  {
   "cell_type": "code",
   "execution_count": 24,
   "metadata": {},
   "outputs": [
    {
     "data": {
      "text/plain": [
       "0.9493307839388145"
      ]
     },
     "execution_count": 24,
     "metadata": {},
     "output_type": "execute_result"
    }
   ],
   "source": [
    "accuracy_score(y_true=y_test, y_pred=x_pred)"
   ]
  },
  {
   "cell_type": "code",
   "execution_count": 25,
   "metadata": {
    "scrolled": true
   },
   "outputs": [
    {
     "data": {
      "text/plain": [
       "array([[ 3805,   296,    27,   107],\n",
       "       [   91, 10307,     8,    39],\n",
       "       [   22,     8,   425,    24],\n",
       "       [  169,    37,    20,  1351]], dtype=int64)"
      ]
     },
     "execution_count": 25,
     "metadata": {},
     "output_type": "execute_result"
    }
   ],
   "source": [
    "cf1 = confusion_matrix(y_true=y_test, y_pred=x_pred) # x_axis = predicted, y_axis = ground_truth\n",
    "cf1"
   ]
  },
  {
   "cell_type": "code",
   "execution_count": 26,
   "metadata": {},
   "outputs": [],
   "source": [
    "#torch.save(m4.model, \"models_and_losses/InceptionTime_full-version_lr-{5e-3,1e-3,2e-4},_bs-512_ks-[5,11,23]_100-epochs.pt\")"
   ]
  },
  {
   "cell_type": "code",
   "execution_count": 29,
   "metadata": {},
   "outputs": [],
   "source": [
    "#torch.save(m4.model.state_dict(), \"models_and_losses/InceptionTime_full-version_lr-{5e-3,1e-3,2e-4},_bs-512_ks-[5,11,23]_100-epochs_state_dict.pt\")"
   ]
  },
  {
   "cell_type": "markdown",
   "metadata": {},
   "source": [
    "torch.save(the_model.state_dict(), PATH)\n",
    "\n",
    "the_model = TheModelClass(*args, **kwargs)\n",
    "\n",
    "the_model.load_state_dict(torch.load(PATH))"
   ]
  },
  {
   "cell_type": "code",
   "execution_count": 27,
   "metadata": {},
   "outputs": [],
   "source": [
    "best_model = torch.load(\"models_and_losses/InceptionTime_full-version_lr-{5e-3,1e-3,2e-4},_bs-512_ks-[5,11,23]_100-epochs.pt\", map_location=torch.device(\"cpu\"))"
   ]
  }
 ],
 "metadata": {
  "kernelspec": {
   "display_name": "Pytorch",
   "language": "python",
   "name": "pytorch"
  },
  "language_info": {
   "codemirror_mode": {
    "name": "ipython",
    "version": 3
   },
   "file_extension": ".py",
   "mimetype": "text/x-python",
   "name": "python",
   "nbconvert_exporter": "python",
   "pygments_lexer": "ipython3",
   "version": "3.6.10"
  }
 },
 "nbformat": 4,
 "nbformat_minor": 2
}
