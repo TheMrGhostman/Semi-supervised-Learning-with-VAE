{
 "cells": [
  {
   "cell_type": "code",
   "execution_count": 1,
   "metadata": {},
   "outputs": [],
   "source": [
    "import numpy as np \n",
    "import time\n",
    "\n",
    "import torch \n",
    "import torch.nn as nn\n",
    "import torch.nn.functional as F \n",
    "\n",
    "import matplotlib.pyplot as plt\n",
    "from collections import OrderedDict\n",
    "\n",
    "from sklearn.model_selection import train_test_split\n",
    "from sklearn.metrics import confusion_matrix, accuracy_score, f1_score\n",
    "from sklearn.preprocessing import RobustScaler\n",
    "\n",
    "from utils.inference import Trainer, plot_loss\n",
    "import utils.datasets as d"
   ]
  },
  {
   "cell_type": "code",
   "execution_count": 42,
   "metadata": {},
   "outputs": [],
   "source": [
    "import pandas as pd\n",
    "data = pd.read_csv(\"data/Original_features.csv\").dropna()"
   ]
  },
  {
   "cell_type": "code",
   "execution_count": 82,
   "metadata": {},
   "outputs": [],
   "source": [
    "y = data.labels.values"
   ]
  },
  {
   "cell_type": "code",
   "execution_count": 83,
   "metadata": {},
   "outputs": [],
   "source": [
    "X = data.drop(columns=[\"Unnamed: 0\",\"labels\"]).values"
   ]
  },
  {
   "cell_type": "code",
   "execution_count": 45,
   "metadata": {},
   "outputs": [
    {
     "name": "stdout",
     "output_type": "stream",
     "text": [
      "(83998, 29)\n",
      "(83998,)\n"
     ]
    }
   ],
   "source": [
    "print(X.shape)\n",
    "print(y.shape)"
   ]
  },
  {
   "cell_type": "code",
   "execution_count": 84,
   "metadata": {},
   "outputs": [],
   "source": [
    "X_train, X_test, y_train, y_test = train_test_split(X, y, test_size=0.2, random_state=666)"
   ]
  },
  {
   "cell_type": "code",
   "execution_count": 89,
   "metadata": {},
   "outputs": [],
   "source": [
    "scaler = RobustScaler()\n",
    "X_train = scaler.fit_transform(X_train)\n",
    "X_test = scaler.transform(X_test)"
   ]
  },
  {
   "cell_type": "code",
   "execution_count": 48,
   "metadata": {},
   "outputs": [],
   "source": [
    "X_train, X_validation, y_train, y_validation = train_test_split(X_train, y_train, test_size=0.2, random_state=666)"
   ]
  },
  {
   "cell_type": "code",
   "execution_count": 49,
   "metadata": {},
   "outputs": [],
   "source": [
    "train = d.H_alphaSequences(X_train, y_train)\n",
    "valid = d.H_alphaSequences(X_validation, y_validation)\n",
    "test = d.H_alphaSequences(X_test, y_test)"
   ]
  },
  {
   "cell_type": "code",
   "execution_count": 50,
   "metadata": {},
   "outputs": [],
   "source": [
    "train_loader = torch.utils.data.DataLoader(dataset = train, batch_size=512, shuffle=True)\n",
    "valid_loader = torch.utils.data.DataLoader(dataset = valid, batch_size=512, shuffle=True)"
   ]
  },
  {
   "cell_type": "code",
   "execution_count": 51,
   "metadata": {},
   "outputs": [
    {
     "data": {
      "text/plain": [
       "{'with_centering': True,\n",
       " 'with_scaling': True,\n",
       " 'quantile_range': (25.0, 75.0),\n",
       " 'copy': True,\n",
       " 'center_': array([ 7.57052205e-01, -9.75971436e-04,  4.62379578e-04,  7.59820060e-01,\n",
       "         7.62030538e-01,  7.62700924e-01,  7.63305767e-01,  7.62163191e-01,\n",
       "         7.61376262e-01,  7.61347926e-01,  6.53664985e-01,  5.95234821e-01,\n",
       "         5.43589543e-01,  4.97168308e-01,  4.55740570e-01,  4.19610353e-01,\n",
       "         3.87514742e-01,  1.47109883e-03,  1.71995368e-03,  1.93611755e-03,\n",
       "         2.12938344e-03,  2.33138068e-03,  2.50169730e-03,  2.67065562e-03,\n",
       "         2.84640982e-03,  3.02459783e-03,  3.18005887e-03,  3.32942749e-03,\n",
       "         3.48481734e-03]),\n",
       " 'scale_': array([0.57630414, 0.01369458, 0.00919271, 0.56743685, 0.56287884,\n",
       "        0.55910696, 0.55559377, 0.55362712, 0.55214722, 0.55014138,\n",
       "        0.48773622, 0.44029612, 0.39966551, 0.3640042 , 0.33393052,\n",
       "        0.30716095, 0.28320795, 0.00348108, 0.00401186, 0.00449096,\n",
       "        0.00495415, 0.00537281, 0.00578786, 0.00620324, 0.00654692,\n",
       "        0.00689978, 0.0072544 , 0.0076345 , 0.00803491])}"
      ]
     },
     "execution_count": 51,
     "metadata": {},
     "output_type": "execute_result"
    }
   ],
   "source": [
    "vars(scaler)"
   ]
  },
  {
   "cell_type": "code",
   "execution_count": 92,
   "metadata": {},
   "outputs": [],
   "source": [
    "model = nn.Sequential(\n",
    "            nn.Linear(in_features=29, out_features=64),\n",
    "            nn.BatchNorm1d(num_features=64),\n",
    "            nn.Dropout(p=0.3),\n",
    "            nn.Sigmoid(),\n",
    "            nn.Linear(in_features=64, out_features=64),\n",
    "            nn.BatchNorm1d(num_features=64),\n",
    "            nn.Dropout(p=0.3),\n",
    "            nn.Sigmoid(),#nn.LeakyReLU(),\n",
    "            nn.Linear(in_features=64, out_features=64),\n",
    "            nn.BatchNorm1d(num_features=64),\n",
    "            nn.Dropout(p=0.3),\n",
    "            nn.Sigmoid(),#nn.LeakyReLU(),\n",
    "            nn.Linear(in_features=64, out_features=4)\n",
    ")"
   ]
  },
  {
   "cell_type": "code",
   "execution_count": 93,
   "metadata": {},
   "outputs": [],
   "source": [
    "optimizer= torch.optim.Adam(model.parameters(), lr=1e-3)"
   ]
  },
  {
   "cell_type": "code",
   "execution_count": 94,
   "metadata": {},
   "outputs": [
    {
     "name": "stdout",
     "output_type": "stream",
     "text": [
      "cuda:0\n"
     ]
    }
   ],
   "source": [
    "m1 = Trainer(\n",
    "        model=model,\n",
    "        optimizer=optimizer,\n",
    "        loss_function=nn.CrossEntropyLoss(),\n",
    "        #scheduler=torch.optim.lr_scheduler.MultiStepLR(optimizer, milestones=[5,20], gamma=0.5),\n",
    "        tensorboard=True,\n",
    "        model_name=\"NN_3x64_BN__Drop=3_sigmoid_lr=1e-3_bs=512\",\n",
    "        verbose=True\n",
    "        )"
   ]
  },
  {
   "cell_type": "code",
   "execution_count": 95,
   "metadata": {},
   "outputs": [
    {
     "name": "stdout",
     "output_type": "stream",
     "text": [
      "Epoch [1/100], average_loss:0.7340, validation_loss:0.5455, val_accuracy:0.8047\n",
      "Epoch [2/100], average_loss:0.5330, validation_loss:0.4750, val_accuracy:0.7891\n",
      "Epoch [3/100], average_loss:0.4759, validation_loss:0.4492, val_accuracy:0.8047\n",
      "Epoch [4/100], average_loss:0.4470, validation_loss:0.4105, val_accuracy:0.8516\n",
      "Epoch [5/100], average_loss:0.4263, validation_loss:0.4163, val_accuracy:0.8438\n",
      "Epoch [6/100], average_loss:0.4137, validation_loss:0.3999, val_accuracy:0.8672\n",
      "Epoch [7/100], average_loss:0.4059, validation_loss:0.4238, val_accuracy:0.7969\n",
      "Epoch [8/100], average_loss:0.4002, validation_loss:0.4242, val_accuracy:0.8203\n",
      "Epoch [9/100], average_loss:0.3955, validation_loss:0.3709, val_accuracy:0.8125\n",
      "Epoch [10/100], average_loss:0.3909, validation_loss:0.3749, val_accuracy:0.8047\n",
      "Epoch [11/100], average_loss:0.3924, validation_loss:0.3842, val_accuracy:0.8594\n",
      "Epoch [12/100], average_loss:0.3887, validation_loss:0.3917, val_accuracy:0.8281\n",
      "Epoch [13/100], average_loss:0.3873, validation_loss:0.3634, val_accuracy:0.8984\n",
      "Epoch [14/100], average_loss:0.3833, validation_loss:0.3749, val_accuracy:0.8672\n",
      "Epoch [15/100], average_loss:0.3839, validation_loss:0.3700, val_accuracy:0.8516\n",
      "Epoch [16/100], average_loss:0.3800, validation_loss:0.3835, val_accuracy:0.8516\n",
      "Epoch [17/100], average_loss:0.3813, validation_loss:0.3727, val_accuracy:0.8672\n",
      "Epoch [18/100], average_loss:0.3769, validation_loss:0.3835, val_accuracy:0.8594\n",
      "Epoch [19/100], average_loss:0.3773, validation_loss:0.3659, val_accuracy:0.8750\n",
      "Epoch [20/100], average_loss:0.3746, validation_loss:0.3723, val_accuracy:0.8203\n",
      "Epoch [21/100], average_loss:0.3765, validation_loss:0.3573, val_accuracy:0.8359\n",
      "Epoch [22/100], average_loss:0.3753, validation_loss:0.3740, val_accuracy:0.7969\n",
      "Epoch [23/100], average_loss:0.3741, validation_loss:0.3767, val_accuracy:0.8125\n",
      "Epoch [24/100], average_loss:0.3731, validation_loss:0.3617, val_accuracy:0.8125\n",
      "Epoch [25/100], average_loss:0.3730, validation_loss:0.3614, val_accuracy:0.8125\n",
      "Epoch [26/100], average_loss:0.3743, validation_loss:0.3597, val_accuracy:0.8828\n",
      "Epoch [27/100], average_loss:0.3718, validation_loss:0.3541, val_accuracy:0.8359\n",
      "Epoch [28/100], average_loss:0.3705, validation_loss:0.3900, val_accuracy:0.8438\n",
      "Epoch [29/100], average_loss:0.3684, validation_loss:0.3541, val_accuracy:0.8750\n",
      "Epoch [30/100], average_loss:0.3710, validation_loss:0.3673, val_accuracy:0.8672\n",
      "Epoch [31/100], average_loss:0.3693, validation_loss:0.3645, val_accuracy:0.8750\n",
      "Epoch [32/100], average_loss:0.3676, validation_loss:0.3676, val_accuracy:0.8516\n",
      "Epoch [33/100], average_loss:0.3691, validation_loss:0.3548, val_accuracy:0.8594\n",
      "Epoch [34/100], average_loss:0.3675, validation_loss:0.3515, val_accuracy:0.8516\n",
      "Epoch [35/100], average_loss:0.3662, validation_loss:0.3846, val_accuracy:0.8594\n",
      "Epoch [36/100], average_loss:0.3659, validation_loss:0.3509, val_accuracy:0.8984\n",
      "Epoch [37/100], average_loss:0.3653, validation_loss:0.3498, val_accuracy:0.8672\n",
      "Epoch [38/100], average_loss:0.3673, validation_loss:0.3539, val_accuracy:0.8438\n",
      "Epoch [39/100], average_loss:0.3654, validation_loss:0.3625, val_accuracy:0.8125\n",
      "Epoch [40/100], average_loss:0.3653, validation_loss:0.3629, val_accuracy:0.8281\n",
      "Epoch [41/100], average_loss:0.3646, validation_loss:0.3523, val_accuracy:0.8906\n",
      "Epoch [42/100], average_loss:0.3652, validation_loss:0.3606, val_accuracy:0.8438\n",
      "Epoch [43/100], average_loss:0.3634, validation_loss:0.3497, val_accuracy:0.8281\n",
      "Epoch [44/100], average_loss:0.3633, validation_loss:0.3503, val_accuracy:0.8750\n",
      "Epoch [45/100], average_loss:0.3643, validation_loss:0.3482, val_accuracy:0.8047\n",
      "Epoch [46/100], average_loss:0.3625, validation_loss:0.3665, val_accuracy:0.8359\n",
      "Epoch [47/100], average_loss:0.3643, validation_loss:0.3936, val_accuracy:0.8359\n",
      "Epoch [48/100], average_loss:0.3599, validation_loss:0.3559, val_accuracy:0.8359\n",
      "Epoch [49/100], average_loss:0.3618, validation_loss:0.3604, val_accuracy:0.8672\n",
      "Epoch [50/100], average_loss:0.3612, validation_loss:0.3399, val_accuracy:0.8984\n",
      "Epoch [51/100], average_loss:0.3624, validation_loss:0.3667, val_accuracy:0.8125\n",
      "Epoch [52/100], average_loss:0.3603, validation_loss:0.3639, val_accuracy:0.8281\n",
      "Epoch [53/100], average_loss:0.3581, validation_loss:0.3623, val_accuracy:0.7969\n",
      "Epoch [54/100], average_loss:0.3602, validation_loss:0.3635, val_accuracy:0.8281\n",
      "Epoch [55/100], average_loss:0.3613, validation_loss:0.3382, val_accuracy:0.8984\n",
      "Epoch [56/100], average_loss:0.3609, validation_loss:0.3477, val_accuracy:0.8672\n",
      "Epoch [57/100], average_loss:0.3616, validation_loss:0.3459, val_accuracy:0.7891\n",
      "Epoch [58/100], average_loss:0.3591, validation_loss:0.3594, val_accuracy:0.8516\n",
      "Epoch [59/100], average_loss:0.3589, validation_loss:0.3478, val_accuracy:0.9062\n",
      "Epoch [60/100], average_loss:0.3583, validation_loss:0.3412, val_accuracy:0.8984\n",
      "Epoch [61/100], average_loss:0.3584, validation_loss:0.3387, val_accuracy:0.8516\n",
      "Epoch [62/100], average_loss:0.3588, validation_loss:0.3764, val_accuracy:0.8281\n",
      "Epoch [63/100], average_loss:0.3606, validation_loss:0.3544, val_accuracy:0.8594\n",
      "Epoch [64/100], average_loss:0.3571, validation_loss:0.3567, val_accuracy:0.8281\n",
      "Epoch [65/100], average_loss:0.3578, validation_loss:0.3558, val_accuracy:0.8750\n",
      "Epoch [66/100], average_loss:0.3576, validation_loss:0.3491, val_accuracy:0.7891\n",
      "Epoch [67/100], average_loss:0.3572, validation_loss:0.3606, val_accuracy:0.8281\n",
      "Epoch [68/100], average_loss:0.3568, validation_loss:0.3450, val_accuracy:0.8516\n",
      "Epoch [69/100], average_loss:0.3577, validation_loss:0.3765, val_accuracy:0.8203\n",
      "Epoch [70/100], average_loss:0.3553, validation_loss:0.3851, val_accuracy:0.8438\n",
      "Epoch [71/100], average_loss:0.3580, validation_loss:0.3596, val_accuracy:0.8828\n",
      "Epoch [72/100], average_loss:0.3555, validation_loss:0.3375, val_accuracy:0.8594\n",
      "Epoch [73/100], average_loss:0.3537, validation_loss:0.3376, val_accuracy:0.8438\n",
      "Epoch [74/100], average_loss:0.3563, validation_loss:0.3416, val_accuracy:0.8516\n",
      "Epoch [75/100], average_loss:0.3544, validation_loss:0.3410, val_accuracy:0.8203\n",
      "Epoch [76/100], average_loss:0.3546, validation_loss:0.3499, val_accuracy:0.8203\n",
      "Epoch [77/100], average_loss:0.3529, validation_loss:0.3506, val_accuracy:0.8828\n",
      "Epoch [78/100], average_loss:0.3532, validation_loss:0.3609, val_accuracy:0.8516\n",
      "Epoch [79/100], average_loss:0.3531, validation_loss:0.3363, val_accuracy:0.8516\n",
      "Epoch [80/100], average_loss:0.3520, validation_loss:0.3650, val_accuracy:0.8672\n",
      "Epoch [81/100], average_loss:0.3528, validation_loss:0.3629, val_accuracy:0.8594\n",
      "Epoch [82/100], average_loss:0.3536, validation_loss:0.3395, val_accuracy:0.8594\n",
      "Epoch [83/100], average_loss:0.3538, validation_loss:0.3444, val_accuracy:0.8906\n",
      "Epoch [84/100], average_loss:0.3526, validation_loss:0.3328, val_accuracy:0.8906\n",
      "Epoch [85/100], average_loss:0.3521, validation_loss:0.3550, val_accuracy:0.8281\n",
      "Epoch [86/100], average_loss:0.3522, validation_loss:0.3385, val_accuracy:0.8438\n",
      "Epoch [87/100], average_loss:0.3529, validation_loss:0.3479, val_accuracy:0.8828\n",
      "Epoch [88/100], average_loss:0.3512, validation_loss:0.3486, val_accuracy:0.8438\n",
      "Epoch [89/100], average_loss:0.3522, validation_loss:0.3656, val_accuracy:0.8438\n",
      "Epoch [90/100], average_loss:0.3500, validation_loss:0.3356, val_accuracy:0.8516\n",
      "Epoch [91/100], average_loss:0.3522, validation_loss:0.3677, val_accuracy:0.8516\n",
      "Epoch [92/100], average_loss:0.3518, validation_loss:0.3262, val_accuracy:0.8281\n",
      "Epoch [93/100], average_loss:0.3500, validation_loss:0.3336, val_accuracy:0.8281\n",
      "Epoch [94/100], average_loss:0.3502, validation_loss:0.3499, val_accuracy:0.9062\n",
      "Epoch [95/100], average_loss:0.3487, validation_loss:0.3488, val_accuracy:0.8438\n",
      "Epoch [96/100], average_loss:0.3482, validation_loss:0.3686, val_accuracy:0.8438\n",
      "Epoch [97/100], average_loss:0.3478, validation_loss:0.3432, val_accuracy:0.8750\n",
      "Epoch [98/100], average_loss:0.3500, validation_loss:0.3371, val_accuracy:0.8672\n",
      "Epoch [99/100], average_loss:0.3511, validation_loss:0.3397, val_accuracy:0.8438\n",
      "Epoch [100/100], average_loss:0.3493, validation_loss:0.3529, val_accuracy:0.8516\n"
     ]
    }
   ],
   "source": [
    "lh = m1(epochs=range(100), train_loader=train_loader, validation_loader=valid_loader)"
   ]
  },
  {
   "cell_type": "code",
   "execution_count": 101,
   "metadata": {},
   "outputs": [],
   "source": [
    "m1.tb.close()"
   ]
  },
  {
   "cell_type": "code",
   "execution_count": 96,
   "metadata": {},
   "outputs": [],
   "source": [
    "m1.model.eval()\n",
    "with torch.no_grad():\n",
    "    x_pred = np.argmax(m1.model(torch.tensor(X_test).float().cuda()).cpu().detach(), axis=1)"
   ]
  },
  {
   "cell_type": "code",
   "execution_count": 97,
   "metadata": {
    "scrolled": false
   },
   "outputs": [
    {
     "data": {
      "text/plain": [
       "tensor([1, 0, 1,  ..., 1, 0, 1])"
      ]
     },
     "execution_count": 97,
     "metadata": {},
     "output_type": "execute_result"
    }
   ],
   "source": [
    "x_pred"
   ]
  },
  {
   "cell_type": "code",
   "execution_count": 98,
   "metadata": {},
   "outputs": [
    {
     "data": {
      "text/plain": [
       "0.792632182988572"
      ]
     },
     "execution_count": 98,
     "metadata": {},
     "output_type": "execute_result"
    }
   ],
   "source": [
    "f1_score(y_true=y_test, y_pred=x_pred,average=\"macro\")"
   ]
  },
  {
   "cell_type": "code",
   "execution_count": 99,
   "metadata": {},
   "outputs": [
    {
     "data": {
      "text/plain": [
       "0.8507738095238095"
      ]
     },
     "execution_count": 99,
     "metadata": {},
     "output_type": "execute_result"
    }
   ],
   "source": [
    "accuracy_score(y_true=y_test, y_pred=x_pred)"
   ]
  },
  {
   "cell_type": "code",
   "execution_count": 100,
   "metadata": {},
   "outputs": [
    {
     "data": {
      "text/plain": [
       "array([[2754, 1105,   59,  237],\n",
       "       [ 407, 9867,   74,  249],\n",
       "       [   9,   54,  408,   21],\n",
       "       [ 181,   81,   30, 1264]], dtype=int64)"
      ]
     },
     "execution_count": 100,
     "metadata": {},
     "output_type": "execute_result"
    }
   ],
   "source": [
    "cf1 = confusion_matrix(y_true=y_test, y_pred=x_pred)\n",
    "cf1"
   ]
  },
  {
   "cell_type": "markdown",
   "metadata": {},
   "source": [
    "# wider"
   ]
  },
  {
   "cell_type": "code",
   "execution_count": 102,
   "metadata": {},
   "outputs": [],
   "source": [
    "model = nn.Sequential(\n",
    "            nn.Linear(in_features=29, out_features=128),\n",
    "            nn.BatchNorm1d(num_features=128),\n",
    "            nn.Dropout(p=0.3),\n",
    "            nn.Sigmoid(),\n",
    "            nn.Linear(in_features=128, out_features=128),\n",
    "            nn.BatchNorm1d(num_features=128),\n",
    "            nn.Dropout(p=0.3),\n",
    "            nn.Sigmoid(),#nn.LeakyReLU(),\n",
    "            nn.Linear(in_features=128, out_features=64),\n",
    "            nn.BatchNorm1d(num_features=64),\n",
    "            nn.Dropout(p=0.3),\n",
    "            nn.Sigmoid(),#nn.LeakyReLU(),\n",
    "            nn.Linear(in_features=64, out_features=4)\n",
    ")"
   ]
  },
  {
   "cell_type": "code",
   "execution_count": 103,
   "metadata": {},
   "outputs": [],
   "source": [
    "optimizer= torch.optim.Adam(model.parameters(), lr=1e-3)"
   ]
  },
  {
   "cell_type": "code",
   "execution_count": 104,
   "metadata": {},
   "outputs": [
    {
     "name": "stdout",
     "output_type": "stream",
     "text": [
      "cuda:0\n"
     ]
    }
   ],
   "source": [
    "m2 = Trainer(\n",
    "        model=model,\n",
    "        optimizer=optimizer,\n",
    "        loss_function=nn.CrossEntropyLoss(),\n",
    "        #scheduler=torch.optim.lr_scheduler.MultiStepLR(optimizer, milestones=[5,20], gamma=0.5),\n",
    "        tensorboard=True,\n",
    "        model_name=\"NN_2x128+64_BN__Drop=3_sigmoid_lr=1e-3_bs=512\",\n",
    "        verbose=True\n",
    "        )"
   ]
  },
  {
   "cell_type": "code",
   "execution_count": 105,
   "metadata": {},
   "outputs": [
    {
     "name": "stdout",
     "output_type": "stream",
     "text": [
      "Epoch [1/100], average_loss:0.6986, validation_loss:0.5281, val_accuracy:0.7891\n",
      "Epoch [2/100], average_loss:0.5049, validation_loss:0.4605, val_accuracy:0.8047\n",
      "Epoch [3/100], average_loss:0.4556, validation_loss:0.4726, val_accuracy:0.8047\n",
      "Epoch [4/100], average_loss:0.4300, validation_loss:0.4081, val_accuracy:0.8516\n",
      "Epoch [5/100], average_loss:0.4145, validation_loss:0.3831, val_accuracy:0.8438\n",
      "Epoch [6/100], average_loss:0.4028, validation_loss:0.4670, val_accuracy:0.7344\n",
      "Epoch [7/100], average_loss:0.3969, validation_loss:0.4447, val_accuracy:0.8672\n",
      "Epoch [8/100], average_loss:0.3908, validation_loss:0.3643, val_accuracy:0.8516\n",
      "Epoch [9/100], average_loss:0.3850, validation_loss:0.4736, val_accuracy:0.8359\n",
      "Epoch [10/100], average_loss:0.3826, validation_loss:0.3974, val_accuracy:0.7500\n",
      "Epoch [11/100], average_loss:0.3783, validation_loss:0.3844, val_accuracy:0.8203\n",
      "Epoch [12/100], average_loss:0.3767, validation_loss:0.3663, val_accuracy:0.8125\n",
      "Epoch [13/100], average_loss:0.3740, validation_loss:0.3760, val_accuracy:0.8984\n",
      "Epoch [14/100], average_loss:0.3723, validation_loss:0.4376, val_accuracy:0.7812\n",
      "Epoch [15/100], average_loss:0.3739, validation_loss:0.4755, val_accuracy:0.7656\n",
      "Epoch [16/100], average_loss:0.3703, validation_loss:0.3487, val_accuracy:0.8359\n",
      "Epoch [17/100], average_loss:0.3695, validation_loss:0.3621, val_accuracy:0.8438\n",
      "Epoch [18/100], average_loss:0.3676, validation_loss:0.3680, val_accuracy:0.8828\n",
      "Epoch [19/100], average_loss:0.3660, validation_loss:0.3552, val_accuracy:0.8438\n",
      "Epoch [20/100], average_loss:0.3649, validation_loss:0.3682, val_accuracy:0.8438\n",
      "Epoch [21/100], average_loss:0.3651, validation_loss:0.3814, val_accuracy:0.8281\n",
      "Epoch [22/100], average_loss:0.3661, validation_loss:0.3446, val_accuracy:0.8672\n",
      "Epoch [23/100], average_loss:0.3654, validation_loss:0.3482, val_accuracy:0.7812\n",
      "Epoch [24/100], average_loss:0.3633, validation_loss:0.3609, val_accuracy:0.8672\n",
      "Epoch [25/100], average_loss:0.3637, validation_loss:0.3472, val_accuracy:0.8359\n",
      "Epoch [26/100], average_loss:0.3615, validation_loss:0.3527, val_accuracy:0.8125\n",
      "Epoch [27/100], average_loss:0.3600, validation_loss:0.3684, val_accuracy:0.8125\n",
      "Epoch [28/100], average_loss:0.3606, validation_loss:0.3414, val_accuracy:0.8750\n",
      "Epoch [29/100], average_loss:0.3611, validation_loss:0.3595, val_accuracy:0.8438\n",
      "Epoch [30/100], average_loss:0.3587, validation_loss:0.3440, val_accuracy:0.8750\n",
      "Epoch [31/100], average_loss:0.3582, validation_loss:0.3427, val_accuracy:0.8750\n",
      "Epoch [32/100], average_loss:0.3593, validation_loss:0.3576, val_accuracy:0.8125\n",
      "Epoch [33/100], average_loss:0.3575, validation_loss:0.3624, val_accuracy:0.8984\n",
      "Epoch [34/100], average_loss:0.3568, validation_loss:0.3528, val_accuracy:0.7891\n",
      "Epoch [35/100], average_loss:0.3553, validation_loss:0.3764, val_accuracy:0.7969\n",
      "Epoch [36/100], average_loss:0.3561, validation_loss:0.3694, val_accuracy:0.8438\n",
      "Epoch [37/100], average_loss:0.3578, validation_loss:0.3520, val_accuracy:0.8672\n",
      "Epoch [38/100], average_loss:0.3549, validation_loss:0.3411, val_accuracy:0.8516\n",
      "Epoch [39/100], average_loss:0.3547, validation_loss:0.3399, val_accuracy:0.8359\n",
      "Epoch [40/100], average_loss:0.3532, validation_loss:0.3448, val_accuracy:0.9141\n",
      "Epoch [41/100], average_loss:0.3540, validation_loss:0.3497, val_accuracy:0.8906\n",
      "Epoch [42/100], average_loss:0.3553, validation_loss:0.3383, val_accuracy:0.8672\n",
      "Epoch [43/100], average_loss:0.3536, validation_loss:0.3795, val_accuracy:0.8203\n",
      "Epoch [44/100], average_loss:0.3540, validation_loss:0.3583, val_accuracy:0.8594\n",
      "Epoch [45/100], average_loss:0.3550, validation_loss:0.3513, val_accuracy:0.8672\n",
      "Epoch [46/100], average_loss:0.3545, validation_loss:0.3586, val_accuracy:0.8438\n",
      "Epoch [47/100], average_loss:0.3518, validation_loss:0.3380, val_accuracy:0.8438\n",
      "Epoch [48/100], average_loss:0.3522, validation_loss:0.3381, val_accuracy:0.8125\n",
      "Epoch [49/100], average_loss:0.3516, validation_loss:0.3514, val_accuracy:0.8438\n",
      "Epoch [50/100], average_loss:0.3510, validation_loss:0.3739, val_accuracy:0.8281\n",
      "Epoch [51/100], average_loss:0.3518, validation_loss:0.3618, val_accuracy:0.8516\n",
      "Epoch [52/100], average_loss:0.3512, validation_loss:0.3541, val_accuracy:0.8203\n",
      "Epoch [53/100], average_loss:0.3503, validation_loss:0.3500, val_accuracy:0.8750\n",
      "Epoch [54/100], average_loss:0.3496, validation_loss:0.3895, val_accuracy:0.8750\n",
      "Epoch [55/100], average_loss:0.3490, validation_loss:0.3408, val_accuracy:0.8984\n",
      "Epoch [56/100], average_loss:0.3499, validation_loss:0.3424, val_accuracy:0.8594\n",
      "Epoch [57/100], average_loss:0.3488, validation_loss:0.3424, val_accuracy:0.9219\n",
      "Epoch [58/100], average_loss:0.3478, validation_loss:0.3556, val_accuracy:0.8281\n",
      "Epoch [59/100], average_loss:0.3486, validation_loss:0.3404, val_accuracy:0.8594\n",
      "Epoch [60/100], average_loss:0.3461, validation_loss:0.3388, val_accuracy:0.8594\n",
      "Epoch [61/100], average_loss:0.3460, validation_loss:0.3351, val_accuracy:0.8047\n",
      "Epoch [62/100], average_loss:0.3482, validation_loss:0.3395, val_accuracy:0.9141\n",
      "Epoch [63/100], average_loss:0.3475, validation_loss:0.3458, val_accuracy:0.8984\n",
      "Epoch [64/100], average_loss:0.3466, validation_loss:0.3336, val_accuracy:0.8750\n",
      "Epoch [65/100], average_loss:0.3487, validation_loss:0.3657, val_accuracy:0.8281\n",
      "Epoch [66/100], average_loss:0.3457, validation_loss:0.3583, val_accuracy:0.8359\n",
      "Epoch [67/100], average_loss:0.3445, validation_loss:0.3301, val_accuracy:0.8594\n",
      "Epoch [68/100], average_loss:0.3448, validation_loss:0.3368, val_accuracy:0.8828\n",
      "Epoch [69/100], average_loss:0.3456, validation_loss:0.3490, val_accuracy:0.8438\n",
      "Epoch [70/100], average_loss:0.3441, validation_loss:0.3481, val_accuracy:0.8359\n",
      "Epoch [71/100], average_loss:0.3421, validation_loss:0.3408, val_accuracy:0.7734\n",
      "Epoch [72/100], average_loss:0.3449, validation_loss:0.3366, val_accuracy:0.8125\n",
      "Epoch [73/100], average_loss:0.3434, validation_loss:0.3289, val_accuracy:0.8750\n",
      "Epoch [74/100], average_loss:0.3423, validation_loss:0.3233, val_accuracy:0.8672\n",
      "Epoch [75/100], average_loss:0.3426, validation_loss:0.3425, val_accuracy:0.8438\n",
      "Epoch [76/100], average_loss:0.3429, validation_loss:0.3244, val_accuracy:0.8594\n",
      "Epoch [77/100], average_loss:0.3412, validation_loss:0.3353, val_accuracy:0.9219\n",
      "Epoch [78/100], average_loss:0.3432, validation_loss:0.3463, val_accuracy:0.8125\n",
      "Epoch [79/100], average_loss:0.3439, validation_loss:0.3550, val_accuracy:0.7969\n",
      "Epoch [80/100], average_loss:0.3409, validation_loss:0.3279, val_accuracy:0.8672\n",
      "Epoch [81/100], average_loss:0.3419, validation_loss:0.3296, val_accuracy:0.8281\n",
      "Epoch [82/100], average_loss:0.3401, validation_loss:0.3244, val_accuracy:0.8828\n",
      "Epoch [83/100], average_loss:0.3413, validation_loss:0.3488, val_accuracy:0.8125\n",
      "Epoch [84/100], average_loss:0.3425, validation_loss:0.3315, val_accuracy:0.8203\n",
      "Epoch [85/100], average_loss:0.3402, validation_loss:0.3360, val_accuracy:0.8203\n",
      "Epoch [86/100], average_loss:0.3393, validation_loss:0.4075, val_accuracy:0.7969\n",
      "Epoch [87/100], average_loss:0.3400, validation_loss:0.3238, val_accuracy:0.8203\n",
      "Epoch [88/100], average_loss:0.3411, validation_loss:0.3217, val_accuracy:0.9297\n",
      "Epoch [89/100], average_loss:0.3396, validation_loss:0.3255, val_accuracy:0.8125\n",
      "Epoch [90/100], average_loss:0.3395, validation_loss:0.3226, val_accuracy:0.8672\n",
      "Epoch [91/100], average_loss:0.3394, validation_loss:0.3235, val_accuracy:0.8672\n",
      "Epoch [92/100], average_loss:0.3400, validation_loss:0.3460, val_accuracy:0.8203\n",
      "Epoch [93/100], average_loss:0.3398, validation_loss:0.3324, val_accuracy:0.8750\n",
      "Epoch [94/100], average_loss:0.3379, validation_loss:0.3477, val_accuracy:0.8906\n",
      "Epoch [95/100], average_loss:0.3392, validation_loss:0.3360, val_accuracy:0.8828\n",
      "Epoch [96/100], average_loss:0.3409, validation_loss:0.3333, val_accuracy:0.8594\n",
      "Epoch [97/100], average_loss:0.3390, validation_loss:0.3341, val_accuracy:0.8516\n",
      "Epoch [98/100], average_loss:0.3369, validation_loss:0.3392, val_accuracy:0.8438\n",
      "Epoch [99/100], average_loss:0.3371, validation_loss:0.3424, val_accuracy:0.8438\n",
      "Epoch [100/100], average_loss:0.3383, validation_loss:0.3333, val_accuracy:0.8828\n"
     ]
    }
   ],
   "source": [
    "lh = m2(epochs=range(100), train_loader=train_loader, validation_loader=valid_loader)"
   ]
  },
  {
   "cell_type": "code",
   "execution_count": 106,
   "metadata": {},
   "outputs": [],
   "source": [
    "m2.tb.close()"
   ]
  },
  {
   "cell_type": "code",
   "execution_count": 107,
   "metadata": {},
   "outputs": [],
   "source": [
    "m2.model.eval()\n",
    "with torch.no_grad():\n",
    "    x_pred = np.argmax(m2.model(torch.tensor(X_test).float().cuda()).cpu().detach(), axis=1)"
   ]
  },
  {
   "cell_type": "code",
   "execution_count": 108,
   "metadata": {
    "scrolled": false
   },
   "outputs": [
    {
     "data": {
      "text/plain": [
       "tensor([1, 0, 1,  ..., 1, 0, 1])"
      ]
     },
     "execution_count": 108,
     "metadata": {},
     "output_type": "execute_result"
    }
   ],
   "source": [
    "x_pred"
   ]
  },
  {
   "cell_type": "code",
   "execution_count": 109,
   "metadata": {},
   "outputs": [
    {
     "data": {
      "text/plain": [
       "0.8007112220390913"
      ]
     },
     "execution_count": 109,
     "metadata": {},
     "output_type": "execute_result"
    }
   ],
   "source": [
    "f1_score(y_true=y_test, y_pred=x_pred,average=\"macro\")"
   ]
  },
  {
   "cell_type": "code",
   "execution_count": 110,
   "metadata": {},
   "outputs": [
    {
     "data": {
      "text/plain": [
       "0.8576785714285714"
      ]
     },
     "execution_count": 110,
     "metadata": {},
     "output_type": "execute_result"
    }
   ],
   "source": [
    "accuracy_score(y_true=y_test, y_pred=x_pred)"
   ]
  },
  {
   "cell_type": "code",
   "execution_count": 111,
   "metadata": {},
   "outputs": [
    {
     "data": {
      "text/plain": [
       "array([[2943,  901,   43,  268],\n",
       "       [ 526, 9788,   67,  216],\n",
       "       [  15,   59,  398,   20],\n",
       "       [ 154,   85,   37, 1280]], dtype=int64)"
      ]
     },
     "execution_count": 111,
     "metadata": {},
     "output_type": "execute_result"
    }
   ],
   "source": [
    "cf1 = confusion_matrix(y_true=y_test, y_pred=x_pred)\n",
    "cf1"
   ]
  },
  {
   "cell_type": "markdown",
   "metadata": {},
   "source": [
    "# without BN"
   ]
  },
  {
   "cell_type": "code",
   "execution_count": 112,
   "metadata": {},
   "outputs": [],
   "source": [
    "model = nn.Sequential(\n",
    "            nn.Linear(in_features=29, out_features=64),\n",
    "            #nn.BatchNorm1d(num_features=128),\n",
    "            nn.Dropout(p=0.3),\n",
    "            nn.Sigmoid(),\n",
    "            nn.Linear(in_features=64, out_features=64),\n",
    "            #nn.BatchNorm1d(num_features=128),\n",
    "            nn.Dropout(p=0.3),\n",
    "            nn.Sigmoid(),#nn.LeakyReLU(),\n",
    "            nn.Linear(in_features=64, out_features=64),\n",
    "            #nn.BatchNorm1d(num_features=64),\n",
    "            nn.Dropout(p=0.3),\n",
    "            nn.Sigmoid(),#nn.LeakyReLU(),\n",
    "            nn.Linear(in_features=64, out_features=4)\n",
    ")"
   ]
  },
  {
   "cell_type": "code",
   "execution_count": 113,
   "metadata": {},
   "outputs": [],
   "source": [
    "optimizer= torch.optim.Adam(model.parameters(), lr=1e-3)"
   ]
  },
  {
   "cell_type": "code",
   "execution_count": 114,
   "metadata": {},
   "outputs": [
    {
     "name": "stdout",
     "output_type": "stream",
     "text": [
      "cuda:0\n"
     ]
    }
   ],
   "source": [
    "m3 = Trainer(\n",
    "        model=model,\n",
    "        optimizer=optimizer,\n",
    "        loss_function=nn.CrossEntropyLoss(),\n",
    "        #scheduler=torch.optim.lr_scheduler.MultiStepLR(optimizer, milestones=[5,20], gamma=0.5),\n",
    "        tensorboard=True,\n",
    "        model_name=\"NN_3x64_Drop=3_sigmoid_lr=1e-3_bs=512\",\n",
    "        verbose=True\n",
    "        )"
   ]
  },
  {
   "cell_type": "code",
   "execution_count": 115,
   "metadata": {},
   "outputs": [
    {
     "name": "stdout",
     "output_type": "stream",
     "text": [
      "Epoch [1/100], average_loss:1.0389, validation_loss:0.9032, val_accuracy:0.6484\n",
      "Epoch [2/100], average_loss:0.7663, validation_loss:0.6301, val_accuracy:0.8047\n",
      "Epoch [3/100], average_loss:0.6120, validation_loss:0.5695, val_accuracy:0.8203\n",
      "Epoch [4/100], average_loss:0.5515, validation_loss:0.5018, val_accuracy:0.8516\n",
      "Epoch [5/100], average_loss:0.4937, validation_loss:0.4602, val_accuracy:0.7891\n",
      "Epoch [6/100], average_loss:0.4595, validation_loss:0.4491, val_accuracy:0.8359\n",
      "Epoch [7/100], average_loss:0.4463, validation_loss:0.4431, val_accuracy:0.7969\n",
      "Epoch [8/100], average_loss:0.4398, validation_loss:0.4496, val_accuracy:0.8203\n",
      "Epoch [9/100], average_loss:0.4332, validation_loss:0.4331, val_accuracy:0.8281\n",
      "Epoch [10/100], average_loss:0.4294, validation_loss:0.4267, val_accuracy:0.8516\n",
      "Epoch [11/100], average_loss:0.4257, validation_loss:0.4200, val_accuracy:0.7969\n",
      "Epoch [12/100], average_loss:0.4187, validation_loss:0.4114, val_accuracy:0.8125\n",
      "Epoch [13/100], average_loss:0.4102, validation_loss:0.4058, val_accuracy:0.7969\n",
      "Epoch [14/100], average_loss:0.4000, validation_loss:0.3767, val_accuracy:0.8750\n",
      "Epoch [15/100], average_loss:0.3846, validation_loss:0.3734, val_accuracy:0.8438\n",
      "Epoch [16/100], average_loss:0.3710, validation_loss:0.3663, val_accuracy:0.8828\n",
      "Epoch [17/100], average_loss:0.3668, validation_loss:0.3579, val_accuracy:0.8828\n",
      "Epoch [18/100], average_loss:0.3615, validation_loss:0.3500, val_accuracy:0.8984\n",
      "Epoch [19/100], average_loss:0.3601, validation_loss:0.3550, val_accuracy:0.8594\n",
      "Epoch [20/100], average_loss:0.3581, validation_loss:0.3564, val_accuracy:0.8594\n",
      "Epoch [21/100], average_loss:0.3538, validation_loss:0.3496, val_accuracy:0.8359\n",
      "Epoch [22/100], average_loss:0.3552, validation_loss:0.3518, val_accuracy:0.8359\n",
      "Epoch [23/100], average_loss:0.3554, validation_loss:0.3541, val_accuracy:0.8594\n",
      "Epoch [24/100], average_loss:0.3542, validation_loss:0.3473, val_accuracy:0.9141\n",
      "Epoch [25/100], average_loss:0.3507, validation_loss:0.3667, val_accuracy:0.8438\n",
      "Epoch [26/100], average_loss:0.3511, validation_loss:0.3505, val_accuracy:0.8750\n",
      "Epoch [27/100], average_loss:0.3498, validation_loss:0.3599, val_accuracy:0.8750\n",
      "Epoch [28/100], average_loss:0.3499, validation_loss:0.3587, val_accuracy:0.8516\n",
      "Epoch [29/100], average_loss:0.3483, validation_loss:0.3577, val_accuracy:0.8828\n",
      "Epoch [30/100], average_loss:0.3472, validation_loss:0.3486, val_accuracy:0.8672\n",
      "Epoch [31/100], average_loss:0.3463, validation_loss:0.3474, val_accuracy:0.8594\n",
      "Epoch [32/100], average_loss:0.3480, validation_loss:0.3574, val_accuracy:0.8125\n",
      "Epoch [33/100], average_loss:0.3465, validation_loss:0.3557, val_accuracy:0.8438\n",
      "Epoch [34/100], average_loss:0.3460, validation_loss:0.3602, val_accuracy:0.8281\n",
      "Epoch [35/100], average_loss:0.3467, validation_loss:0.3524, val_accuracy:0.8438\n",
      "Epoch [36/100], average_loss:0.3450, validation_loss:0.3468, val_accuracy:0.8984\n",
      "Epoch [37/100], average_loss:0.3454, validation_loss:0.3480, val_accuracy:0.8750\n",
      "Epoch [38/100], average_loss:0.3448, validation_loss:0.3489, val_accuracy:0.9062\n",
      "Epoch [39/100], average_loss:0.3443, validation_loss:0.3478, val_accuracy:0.8750\n",
      "Epoch [40/100], average_loss:0.3421, validation_loss:0.3440, val_accuracy:0.8359\n",
      "Epoch [41/100], average_loss:0.3426, validation_loss:0.3480, val_accuracy:0.8750\n",
      "Epoch [42/100], average_loss:0.3405, validation_loss:0.3454, val_accuracy:0.9141\n",
      "Epoch [43/100], average_loss:0.3414, validation_loss:0.3519, val_accuracy:0.8203\n",
      "Epoch [44/100], average_loss:0.3410, validation_loss:0.3500, val_accuracy:0.8281\n",
      "Epoch [45/100], average_loss:0.3393, validation_loss:0.3436, val_accuracy:0.8594\n",
      "Epoch [46/100], average_loss:0.3408, validation_loss:0.3565, val_accuracy:0.8672\n",
      "Epoch [47/100], average_loss:0.3413, validation_loss:0.3510, val_accuracy:0.7891\n",
      "Epoch [48/100], average_loss:0.3395, validation_loss:0.3349, val_accuracy:0.8359\n",
      "Epoch [49/100], average_loss:0.3375, validation_loss:0.3481, val_accuracy:0.8125\n",
      "Epoch [50/100], average_loss:0.3401, validation_loss:0.3401, val_accuracy:0.8672\n",
      "Epoch [51/100], average_loss:0.3380, validation_loss:0.3424, val_accuracy:0.8672\n",
      "Epoch [52/100], average_loss:0.3404, validation_loss:0.3436, val_accuracy:0.8672\n",
      "Epoch [53/100], average_loss:0.3372, validation_loss:0.3439, val_accuracy:0.8594\n",
      "Epoch [54/100], average_loss:0.3374, validation_loss:0.3517, val_accuracy:0.8516\n",
      "Epoch [55/100], average_loss:0.3369, validation_loss:0.3423, val_accuracy:0.8828\n",
      "Epoch [56/100], average_loss:0.3374, validation_loss:0.3408, val_accuracy:0.8047\n",
      "Epoch [57/100], average_loss:0.3369, validation_loss:0.3378, val_accuracy:0.8984\n",
      "Epoch [58/100], average_loss:0.3352, validation_loss:0.3447, val_accuracy:0.8828\n",
      "Epoch [59/100], average_loss:0.3363, validation_loss:0.3406, val_accuracy:0.8594\n",
      "Epoch [60/100], average_loss:0.3364, validation_loss:0.3370, val_accuracy:0.8359\n",
      "Epoch [61/100], average_loss:0.3364, validation_loss:0.3361, val_accuracy:0.9219\n",
      "Epoch [62/100], average_loss:0.3355, validation_loss:0.3410, val_accuracy:0.9062\n",
      "Epoch [63/100], average_loss:0.3350, validation_loss:0.3319, val_accuracy:0.9062\n",
      "Epoch [64/100], average_loss:0.3319, validation_loss:0.3346, val_accuracy:0.8281\n",
      "Epoch [65/100], average_loss:0.3343, validation_loss:0.3421, val_accuracy:0.8203\n",
      "Epoch [66/100], average_loss:0.3334, validation_loss:0.3424, val_accuracy:0.8672\n",
      "Epoch [67/100], average_loss:0.3341, validation_loss:0.3390, val_accuracy:0.8750\n",
      "Epoch [68/100], average_loss:0.3339, validation_loss:0.3402, val_accuracy:0.8281\n",
      "Epoch [69/100], average_loss:0.3317, validation_loss:0.3390, val_accuracy:0.8828\n",
      "Epoch [70/100], average_loss:0.3345, validation_loss:0.3338, val_accuracy:0.9062\n",
      "Epoch [71/100], average_loss:0.3336, validation_loss:0.3503, val_accuracy:0.8516\n",
      "Epoch [72/100], average_loss:0.3313, validation_loss:0.3449, val_accuracy:0.8672\n",
      "Epoch [73/100], average_loss:0.3338, validation_loss:0.3443, val_accuracy:0.9062\n",
      "Epoch [74/100], average_loss:0.3318, validation_loss:0.3332, val_accuracy:0.8750\n",
      "Epoch [75/100], average_loss:0.3313, validation_loss:0.3399, val_accuracy:0.8672\n",
      "Epoch [76/100], average_loss:0.3324, validation_loss:0.3391, val_accuracy:0.8750\n",
      "Epoch [77/100], average_loss:0.3311, validation_loss:0.3387, val_accuracy:0.8516\n",
      "Epoch [78/100], average_loss:0.3291, validation_loss:0.3330, val_accuracy:0.8672\n",
      "Epoch [79/100], average_loss:0.3303, validation_loss:0.3337, val_accuracy:0.8906\n",
      "Epoch [80/100], average_loss:0.3298, validation_loss:0.3365, val_accuracy:0.8359\n",
      "Epoch [81/100], average_loss:0.3305, validation_loss:0.3320, val_accuracy:0.9062\n",
      "Epoch [82/100], average_loss:0.3287, validation_loss:0.3370, val_accuracy:0.8984\n",
      "Epoch [83/100], average_loss:0.3293, validation_loss:0.3354, val_accuracy:0.8828\n",
      "Epoch [84/100], average_loss:0.3299, validation_loss:0.3431, val_accuracy:0.8750\n",
      "Epoch [85/100], average_loss:0.3312, validation_loss:0.3382, val_accuracy:0.8203\n",
      "Epoch [86/100], average_loss:0.3294, validation_loss:0.3444, val_accuracy:0.8281\n",
      "Epoch [87/100], average_loss:0.3295, validation_loss:0.3436, val_accuracy:0.8594\n",
      "Epoch [88/100], average_loss:0.3286, validation_loss:0.3356, val_accuracy:0.8906\n",
      "Epoch [89/100], average_loss:0.3291, validation_loss:0.3357, val_accuracy:0.8672\n",
      "Epoch [90/100], average_loss:0.3269, validation_loss:0.3305, val_accuracy:0.8984\n",
      "Epoch [91/100], average_loss:0.3286, validation_loss:0.3407, val_accuracy:0.8828\n",
      "Epoch [92/100], average_loss:0.3279, validation_loss:0.3317, val_accuracy:0.8984\n",
      "Epoch [93/100], average_loss:0.3281, validation_loss:0.3425, val_accuracy:0.8594\n",
      "Epoch [94/100], average_loss:0.3267, validation_loss:0.3406, val_accuracy:0.8594\n",
      "Epoch [95/100], average_loss:0.3282, validation_loss:0.3435, val_accuracy:0.8281\n",
      "Epoch [96/100], average_loss:0.3264, validation_loss:0.3342, val_accuracy:0.8516\n",
      "Epoch [97/100], average_loss:0.3265, validation_loss:0.3279, val_accuracy:0.9062\n",
      "Epoch [98/100], average_loss:0.3270, validation_loss:0.3289, val_accuracy:0.8984\n",
      "Epoch [99/100], average_loss:0.3276, validation_loss:0.3311, val_accuracy:0.8594\n",
      "Epoch [100/100], average_loss:0.3261, validation_loss:0.3432, val_accuracy:0.8594\n"
     ]
    }
   ],
   "source": [
    "lh = m3(epochs=range(100), train_loader=train_loader, validation_loader=valid_loader)"
   ]
  },
  {
   "cell_type": "code",
   "execution_count": 123,
   "metadata": {},
   "outputs": [],
   "source": [
    "m3.tb.close()"
   ]
  },
  {
   "cell_type": "code",
   "execution_count": 116,
   "metadata": {},
   "outputs": [],
   "source": [
    "m3.model.eval()\n",
    "with torch.no_grad():\n",
    "    x_pred = np.argmax(m3.model(torch.tensor(X_test).float().cuda()).cpu().detach(), axis=1)"
   ]
  },
  {
   "cell_type": "code",
   "execution_count": 117,
   "metadata": {
    "scrolled": false
   },
   "outputs": [
    {
     "data": {
      "text/plain": [
       "tensor([1, 0, 1,  ..., 1, 0, 1])"
      ]
     },
     "execution_count": 117,
     "metadata": {},
     "output_type": "execute_result"
    }
   ],
   "source": [
    "x_pred"
   ]
  },
  {
   "cell_type": "code",
   "execution_count": 118,
   "metadata": {},
   "outputs": [
    {
     "data": {
      "text/plain": [
       "0.8164482557063294"
      ]
     },
     "execution_count": 118,
     "metadata": {},
     "output_type": "execute_result"
    }
   ],
   "source": [
    "f1_score(y_true=y_test, y_pred=x_pred,average=\"macro\")"
   ]
  },
  {
   "cell_type": "code",
   "execution_count": 119,
   "metadata": {},
   "outputs": [
    {
     "data": {
      "text/plain": [
       "0.8720238095238095"
      ]
     },
     "execution_count": 119,
     "metadata": {},
     "output_type": "execute_result"
    }
   ],
   "source": [
    "accuracy_score(y_true=y_test, y_pred=x_pred)"
   ]
  },
  {
   "cell_type": "code",
   "execution_count": 120,
   "metadata": {},
   "outputs": [
    {
     "data": {
      "text/plain": [
       "array([[3835,  116,   43,  161],\n",
       "       [1090, 9170,  103,  234],\n",
       "       [  18,   29,  426,   19],\n",
       "       [ 224,   56,   57, 1219]], dtype=int64)"
      ]
     },
     "execution_count": 120,
     "metadata": {},
     "output_type": "execute_result"
    }
   ],
   "source": [
    "cf1 = confusion_matrix(y_true=y_test, y_pred=x_pred)\n",
    "cf1"
   ]
  },
  {
   "cell_type": "code",
   "execution_count": 122,
   "metadata": {
    "collapsed": true
   },
   "outputs": [
    {
     "name": "stderr",
     "output_type": "stream",
     "text": [
      "C:\\Users\\ghost_000\\Miniconda3\\envs\\Pytorch\\lib\\site-packages\\torch\\serialization.py:292: UserWarning: Couldn't retrieve source code for container of type Sequential. It won't be checked for correctness upon loading.\n",
      "  \"type \" + obj.__name__ + \". It won't be checked \"\n",
      "C:\\Users\\ghost_000\\Miniconda3\\envs\\Pytorch\\lib\\site-packages\\torch\\serialization.py:292: UserWarning: Couldn't retrieve source code for container of type Linear. It won't be checked for correctness upon loading.\n",
      "  \"type \" + obj.__name__ + \". It won't be checked \"\n",
      "C:\\Users\\ghost_000\\Miniconda3\\envs\\Pytorch\\lib\\site-packages\\torch\\serialization.py:292: UserWarning: Couldn't retrieve source code for container of type Dropout. It won't be checked for correctness upon loading.\n",
      "  \"type \" + obj.__name__ + \". It won't be checked \"\n",
      "C:\\Users\\ghost_000\\Miniconda3\\envs\\Pytorch\\lib\\site-packages\\torch\\serialization.py:292: UserWarning: Couldn't retrieve source code for container of type Sigmoid. It won't be checked for correctness upon loading.\n",
      "  \"type \" + obj.__name__ + \". It won't be checked \"\n"
     ]
    }
   ],
   "source": [
    "#torch.save(m3.model, \"models_and_losses/NN_3x64_Drop=3_sigmoid_lr=1e-3_bs=512_epoch-100.pt\")\n",
    "#torch.save(m3.model.state_dict(), \"models_and_losses/NN_3x64_Drop=3_sigmoid_lr=1e-3_bs=512_epoch-100_state_dict.pt\")"
   ]
  },
  {
   "cell_type": "markdown",
   "metadata": {},
   "source": [
    "# Without BN deeper"
   ]
  },
  {
   "cell_type": "code",
   "execution_count": 125,
   "metadata": {},
   "outputs": [],
   "source": [
    "model = nn.Sequential(\n",
    "            nn.Linear(in_features=29, out_features=64),\n",
    "            #nn.BatchNorm1d(num_features=128),\n",
    "            nn.Dropout(p=0.3),\n",
    "            nn.Sigmoid(),\n",
    "            nn.Linear(in_features=64, out_features=64),\n",
    "            #nn.BatchNorm1d(num_features=128),\n",
    "            nn.Dropout(p=0.3),\n",
    "            nn.Sigmoid(),#nn.LeakyReLU(),\n",
    "            nn.Linear(in_features=64, out_features=64),\n",
    "            #nn.BatchNorm1d(num_features=64),\n",
    "            nn.Dropout(p=0.3),\n",
    "            nn.Sigmoid(),#nn.LeakyReLU(),\n",
    "            nn.Linear(in_features=64, out_features=64),\n",
    "            #nn.BatchNorm1d(num_features=64),\n",
    "            nn.Dropout(p=0.3),\n",
    "            nn.Sigmoid(),\n",
    "            nn.Linear(in_features=64, out_features=4)\n",
    ")"
   ]
  },
  {
   "cell_type": "code",
   "execution_count": 126,
   "metadata": {},
   "outputs": [],
   "source": [
    "optimizer= torch.optim.Adam(model.parameters(), lr=1e-3)"
   ]
  },
  {
   "cell_type": "code",
   "execution_count": 127,
   "metadata": {},
   "outputs": [
    {
     "name": "stdout",
     "output_type": "stream",
     "text": [
      "cuda:0\n"
     ]
    }
   ],
   "source": [
    "m3 = Trainer(\n",
    "        model=model,\n",
    "        optimizer=optimizer,\n",
    "        loss_function=nn.CrossEntropyLoss(),\n",
    "        #scheduler=torch.optim.lr_scheduler.MultiStepLR(optimizer, milestones=[5,20], gamma=0.5),\n",
    "        tensorboard=True,\n",
    "        model_name=\"NN_4x64_Drop=3_sigmoid_lr=1e-3_bs=512\",\n",
    "        verbose=True\n",
    "        )"
   ]
  },
  {
   "cell_type": "code",
   "execution_count": 128,
   "metadata": {},
   "outputs": [
    {
     "name": "stdout",
     "output_type": "stream",
     "text": [
      "Epoch [1/100], average_loss:1.0039, validation_loss:0.9589, val_accuracy:0.5781\n",
      "Epoch [2/100], average_loss:0.8350, validation_loss:0.6105, val_accuracy:0.8438\n",
      "Epoch [3/100], average_loss:0.5985, validation_loss:0.5622, val_accuracy:0.7734\n",
      "Epoch [4/100], average_loss:0.5230, validation_loss:0.4893, val_accuracy:0.7891\n",
      "Epoch [5/100], average_loss:0.4724, validation_loss:0.4678, val_accuracy:0.8281\n",
      "Epoch [6/100], average_loss:0.4577, validation_loss:0.4627, val_accuracy:0.7969\n",
      "Epoch [7/100], average_loss:0.4476, validation_loss:0.4497, val_accuracy:0.8750\n",
      "Epoch [8/100], average_loss:0.4415, validation_loss:0.4587, val_accuracy:0.8203\n",
      "Epoch [9/100], average_loss:0.4388, validation_loss:0.4622, val_accuracy:0.7500\n",
      "Epoch [10/100], average_loss:0.4360, validation_loss:0.4549, val_accuracy:0.7656\n",
      "Epoch [11/100], average_loss:0.4312, validation_loss:0.4506, val_accuracy:0.8047\n",
      "Epoch [12/100], average_loss:0.4293, validation_loss:0.4399, val_accuracy:0.8594\n",
      "Epoch [13/100], average_loss:0.4267, validation_loss:0.4349, val_accuracy:0.8125\n",
      "Epoch [14/100], average_loss:0.4239, validation_loss:0.4306, val_accuracy:0.8750\n",
      "Epoch [15/100], average_loss:0.4236, validation_loss:0.4383, val_accuracy:0.7969\n",
      "Epoch [16/100], average_loss:0.4220, validation_loss:0.4415, val_accuracy:0.7578\n",
      "Epoch [17/100], average_loss:0.4198, validation_loss:0.4385, val_accuracy:0.7656\n",
      "Epoch [18/100], average_loss:0.4168, validation_loss:0.4288, val_accuracy:0.8359\n",
      "Epoch [19/100], average_loss:0.4161, validation_loss:0.4200, val_accuracy:0.7969\n",
      "Epoch [20/100], average_loss:0.4131, validation_loss:0.4149, val_accuracy:0.8516\n",
      "Epoch [21/100], average_loss:0.4110, validation_loss:0.4289, val_accuracy:0.8594\n",
      "Epoch [22/100], average_loss:0.4081, validation_loss:0.4006, val_accuracy:0.8672\n",
      "Epoch [23/100], average_loss:0.4034, validation_loss:0.4045, val_accuracy:0.8672\n",
      "Epoch [24/100], average_loss:0.4001, validation_loss:0.4027, val_accuracy:0.8281\n",
      "Epoch [25/100], average_loss:0.3953, validation_loss:0.3817, val_accuracy:0.8594\n",
      "Epoch [26/100], average_loss:0.3914, validation_loss:0.3799, val_accuracy:0.9141\n",
      "Epoch [27/100], average_loss:0.3857, validation_loss:0.3838, val_accuracy:0.8594\n",
      "Epoch [28/100], average_loss:0.3785, validation_loss:0.3695, val_accuracy:0.8125\n",
      "Epoch [29/100], average_loss:0.3706, validation_loss:0.3686, val_accuracy:0.8125\n",
      "Epoch [30/100], average_loss:0.3617, validation_loss:0.3721, val_accuracy:0.8828\n",
      "Epoch [31/100], average_loss:0.3599, validation_loss:0.3712, val_accuracy:0.8594\n",
      "Epoch [32/100], average_loss:0.3602, validation_loss:0.3684, val_accuracy:0.8516\n",
      "Epoch [33/100], average_loss:0.3572, validation_loss:0.3688, val_accuracy:0.8984\n",
      "Epoch [34/100], average_loss:0.3556, validation_loss:0.3695, val_accuracy:0.8906\n",
      "Epoch [35/100], average_loss:0.3578, validation_loss:0.3571, val_accuracy:0.9219\n",
      "Epoch [36/100], average_loss:0.3541, validation_loss:0.3723, val_accuracy:0.8594\n",
      "Epoch [37/100], average_loss:0.3544, validation_loss:0.3698, val_accuracy:0.8594\n",
      "Epoch [38/100], average_loss:0.3543, validation_loss:0.3665, val_accuracy:0.8672\n",
      "Epoch [39/100], average_loss:0.3516, validation_loss:0.3720, val_accuracy:0.8125\n",
      "Epoch [40/100], average_loss:0.3492, validation_loss:0.3658, val_accuracy:0.8828\n",
      "Epoch [41/100], average_loss:0.3522, validation_loss:0.3645, val_accuracy:0.8984\n",
      "Epoch [42/100], average_loss:0.3490, validation_loss:0.3648, val_accuracy:0.8672\n",
      "Epoch [43/100], average_loss:0.3492, validation_loss:0.3613, val_accuracy:0.8516\n",
      "Epoch [44/100], average_loss:0.3489, validation_loss:0.3607, val_accuracy:0.9219\n",
      "Epoch [45/100], average_loss:0.3470, validation_loss:0.3637, val_accuracy:0.8281\n",
      "Epoch [46/100], average_loss:0.3457, validation_loss:0.3682, val_accuracy:0.8516\n",
      "Epoch [47/100], average_loss:0.3475, validation_loss:0.3621, val_accuracy:0.8438\n",
      "Epoch [48/100], average_loss:0.3464, validation_loss:0.3497, val_accuracy:0.8672\n",
      "Epoch [49/100], average_loss:0.3437, validation_loss:0.3591, val_accuracy:0.8672\n",
      "Epoch [50/100], average_loss:0.3444, validation_loss:0.3710, val_accuracy:0.8828\n",
      "Epoch [51/100], average_loss:0.3422, validation_loss:0.3591, val_accuracy:0.8359\n",
      "Epoch [52/100], average_loss:0.3434, validation_loss:0.3562, val_accuracy:0.8672\n",
      "Epoch [53/100], average_loss:0.3439, validation_loss:0.3582, val_accuracy:0.8281\n",
      "Epoch [54/100], average_loss:0.3440, validation_loss:0.3556, val_accuracy:0.8203\n",
      "Epoch [55/100], average_loss:0.3432, validation_loss:0.3672, val_accuracy:0.8672\n",
      "Epoch [56/100], average_loss:0.3418, validation_loss:0.3493, val_accuracy:0.9062\n",
      "Epoch [57/100], average_loss:0.3423, validation_loss:0.3564, val_accuracy:0.8672\n",
      "Epoch [58/100], average_loss:0.3426, validation_loss:0.3626, val_accuracy:0.8047\n",
      "Epoch [59/100], average_loss:0.3409, validation_loss:0.3616, val_accuracy:0.8594\n",
      "Epoch [60/100], average_loss:0.3395, validation_loss:0.3521, val_accuracy:0.8516\n",
      "Epoch [61/100], average_loss:0.3417, validation_loss:0.3559, val_accuracy:0.8906\n",
      "Epoch [62/100], average_loss:0.3410, validation_loss:0.3547, val_accuracy:0.9062\n",
      "Epoch [63/100], average_loss:0.3371, validation_loss:0.3535, val_accuracy:0.8828\n",
      "Epoch [64/100], average_loss:0.3380, validation_loss:0.3582, val_accuracy:0.8750\n",
      "Epoch [65/100], average_loss:0.3397, validation_loss:0.3552, val_accuracy:0.8438\n",
      "Epoch [66/100], average_loss:0.3374, validation_loss:0.3579, val_accuracy:0.8359\n",
      "Epoch [67/100], average_loss:0.3380, validation_loss:0.3458, val_accuracy:0.8203\n",
      "Epoch [68/100], average_loss:0.3367, validation_loss:0.3479, val_accuracy:0.8438\n",
      "Epoch [69/100], average_loss:0.3378, validation_loss:0.3570, val_accuracy:0.8438\n",
      "Epoch [70/100], average_loss:0.3360, validation_loss:0.3434, val_accuracy:0.9141\n",
      "Epoch [71/100], average_loss:0.3374, validation_loss:0.3343, val_accuracy:0.9141\n",
      "Epoch [72/100], average_loss:0.3380, validation_loss:0.3351, val_accuracy:0.8672\n",
      "Epoch [73/100], average_loss:0.3367, validation_loss:0.3462, val_accuracy:0.9375\n",
      "Epoch [74/100], average_loss:0.3357, validation_loss:0.3590, val_accuracy:0.8281\n",
      "Epoch [75/100], average_loss:0.3350, validation_loss:0.3492, val_accuracy:0.9219\n",
      "Epoch [76/100], average_loss:0.3347, validation_loss:0.3460, val_accuracy:0.8516\n",
      "Epoch [77/100], average_loss:0.3365, validation_loss:0.3480, val_accuracy:0.8594\n",
      "Epoch [78/100], average_loss:0.3351, validation_loss:0.3512, val_accuracy:0.8984\n",
      "Epoch [79/100], average_loss:0.3353, validation_loss:0.3516, val_accuracy:0.8906\n",
      "Epoch [80/100], average_loss:0.3359, validation_loss:0.3513, val_accuracy:0.8516\n",
      "Epoch [81/100], average_loss:0.3344, validation_loss:0.3522, val_accuracy:0.8438\n",
      "Epoch [82/100], average_loss:0.3348, validation_loss:0.3405, val_accuracy:0.8594\n",
      "Epoch [83/100], average_loss:0.3339, validation_loss:0.3427, val_accuracy:0.8281\n",
      "Epoch [84/100], average_loss:0.3359, validation_loss:0.3429, val_accuracy:0.8672\n",
      "Epoch [85/100], average_loss:0.3345, validation_loss:0.3574, val_accuracy:0.7969\n",
      "Epoch [86/100], average_loss:0.3338, validation_loss:0.3391, val_accuracy:0.8281\n",
      "Epoch [87/100], average_loss:0.3333, validation_loss:0.3333, val_accuracy:0.8750\n",
      "Epoch [88/100], average_loss:0.3347, validation_loss:0.3375, val_accuracy:0.9141\n",
      "Epoch [89/100], average_loss:0.3314, validation_loss:0.3591, val_accuracy:0.8906\n",
      "Epoch [90/100], average_loss:0.3311, validation_loss:0.3491, val_accuracy:0.9219\n",
      "Epoch [91/100], average_loss:0.3314, validation_loss:0.3428, val_accuracy:0.8750\n",
      "Epoch [92/100], average_loss:0.3307, validation_loss:0.3466, val_accuracy:0.8750\n",
      "Epoch [93/100], average_loss:0.3318, validation_loss:0.3534, val_accuracy:0.8906\n",
      "Epoch [94/100], average_loss:0.3330, validation_loss:0.3298, val_accuracy:0.9062\n",
      "Epoch [95/100], average_loss:0.3309, validation_loss:0.3436, val_accuracy:0.8594\n",
      "Epoch [96/100], average_loss:0.3317, validation_loss:0.3439, val_accuracy:0.8672\n",
      "Epoch [97/100], average_loss:0.3300, validation_loss:0.3496, val_accuracy:0.8516\n",
      "Epoch [98/100], average_loss:0.3301, validation_loss:0.3384, val_accuracy:0.8984\n",
      "Epoch [99/100], average_loss:0.3303, validation_loss:0.3502, val_accuracy:0.9141\n",
      "Epoch [100/100], average_loss:0.3305, validation_loss:0.3518, val_accuracy:0.7812\n"
     ]
    }
   ],
   "source": [
    "lh = m3(epochs=range(100), train_loader=train_loader, validation_loader=valid_loader)"
   ]
  },
  {
   "cell_type": "code",
   "execution_count": 129,
   "metadata": {},
   "outputs": [],
   "source": [
    "m3.tb.close()"
   ]
  },
  {
   "cell_type": "code",
   "execution_count": 130,
   "metadata": {},
   "outputs": [],
   "source": [
    "m3.model.eval()\n",
    "with torch.no_grad():\n",
    "    x_pred = np.argmax(m3.model(torch.tensor(X_test).float().cuda()).cpu().detach(), axis=1)"
   ]
  },
  {
   "cell_type": "code",
   "execution_count": 131,
   "metadata": {
    "scrolled": false
   },
   "outputs": [
    {
     "data": {
      "text/plain": [
       "tensor([1, 0, 1,  ..., 1, 0, 1])"
      ]
     },
     "execution_count": 131,
     "metadata": {},
     "output_type": "execute_result"
    }
   ],
   "source": [
    "x_pred"
   ]
  },
  {
   "cell_type": "code",
   "execution_count": 132,
   "metadata": {},
   "outputs": [
    {
     "data": {
      "text/plain": [
       "0.811118113027148"
      ]
     },
     "execution_count": 132,
     "metadata": {},
     "output_type": "execute_result"
    }
   ],
   "source": [
    "f1_score(y_true=y_test, y_pred=x_pred,average=\"macro\")"
   ]
  },
  {
   "cell_type": "code",
   "execution_count": 133,
   "metadata": {},
   "outputs": [
    {
     "data": {
      "text/plain": [
       "0.8693452380952381"
      ]
     },
     "execution_count": 133,
     "metadata": {},
     "output_type": "execute_result"
    }
   ],
   "source": [
    "accuracy_score(y_true=y_test, y_pred=x_pred)"
   ]
  },
  {
   "cell_type": "code",
   "execution_count": 134,
   "metadata": {},
   "outputs": [
    {
     "data": {
      "text/plain": [
       "array([[3786,  112,   66,  191],\n",
       "       [1084, 9146,  118,  249],\n",
       "       [  13,   28,  426,   25],\n",
       "       [ 214,   54,   41, 1247]], dtype=int64)"
      ]
     },
     "execution_count": 134,
     "metadata": {},
     "output_type": "execute_result"
    }
   ],
   "source": [
    "cf1 = confusion_matrix(y_true=y_test, y_pred=x_pred)\n",
    "cf1"
   ]
  },
  {
   "cell_type": "markdown",
   "metadata": {},
   "source": [
    "# deeper with bottlenecks"
   ]
  },
  {
   "cell_type": "code",
   "execution_count": 136,
   "metadata": {},
   "outputs": [],
   "source": [
    "model = nn.Sequential(\n",
    "            nn.Linear(in_features=29, out_features=64),\n",
    "            #nn.BatchNorm1d(num_features=128),\n",
    "            nn.Dropout(p=0.3),\n",
    "            nn.Sigmoid(),\n",
    "            nn.Linear(in_features=64, out_features=128),\n",
    "            #nn.BatchNorm1d(num_features=128),\n",
    "            nn.Dropout(p=0.3),\n",
    "            nn.Sigmoid(),#nn.LeakyReLU(),\n",
    "            nn.Linear(in_features=128, out_features=32),\n",
    "            #nn.BatchNorm1d(num_features=64),\n",
    "            nn.Dropout(p=0.3),\n",
    "            nn.Sigmoid(),#nn.LeakyReLU(),\n",
    "            nn.Linear(in_features=32, out_features=128),\n",
    "            #nn.BatchNorm1d(num_features=64),\n",
    "            nn.Dropout(p=0.3),\n",
    "            nn.Sigmoid(),\n",
    "            nn.Linear(in_features=128, out_features=64),\n",
    "            #nn.BatchNorm1d(num_features=64),\n",
    "            nn.Dropout(p=0.3),\n",
    "            nn.Sigmoid(),\n",
    "            nn.Linear(in_features=64, out_features=4)\n",
    ")"
   ]
  },
  {
   "cell_type": "code",
   "execution_count": 137,
   "metadata": {},
   "outputs": [],
   "source": [
    "optimizer= torch.optim.Adam(model.parameters(), lr=1e-3)"
   ]
  },
  {
   "cell_type": "code",
   "execution_count": 138,
   "metadata": {},
   "outputs": [
    {
     "name": "stdout",
     "output_type": "stream",
     "text": [
      "cuda:0\n"
     ]
    }
   ],
   "source": [
    "m3 = Trainer(\n",
    "        model=model,\n",
    "        optimizer=optimizer,\n",
    "        loss_function=nn.CrossEntropyLoss(),\n",
    "        #scheduler=torch.optim.lr_scheduler.MultiStepLR(optimizer, milestones=[5,20], gamma=0.5),\n",
    "        tensorboard=True,\n",
    "        model_name=\"NN_[64-128-32-128-64]_Drop=3_sigmoid_lr=1e-3_bs=512\",\n",
    "        verbose=True\n",
    "        )"
   ]
  },
  {
   "cell_type": "code",
   "execution_count": 139,
   "metadata": {},
   "outputs": [
    {
     "name": "stdout",
     "output_type": "stream",
     "text": [
      "Epoch [1/100], average_loss:1.0063, validation_loss:0.9742, val_accuracy:0.6328\n",
      "Epoch [2/100], average_loss:0.9015, validation_loss:0.6452, val_accuracy:0.7422\n",
      "Epoch [3/100], average_loss:0.6241, validation_loss:0.6378, val_accuracy:0.7578\n",
      "Epoch [4/100], average_loss:0.5889, validation_loss:0.6122, val_accuracy:0.8281\n",
      "Epoch [5/100], average_loss:0.5732, validation_loss:0.6032, val_accuracy:0.7656\n",
      "Epoch [6/100], average_loss:0.5571, validation_loss:0.6130, val_accuracy:0.7734\n",
      "Epoch [7/100], average_loss:0.5430, validation_loss:0.6031, val_accuracy:0.8281\n",
      "Epoch [8/100], average_loss:0.5250, validation_loss:0.5791, val_accuracy:0.8594\n",
      "Epoch [9/100], average_loss:0.5001, validation_loss:0.5414, val_accuracy:0.7812\n",
      "Epoch [10/100], average_loss:0.4757, validation_loss:0.5183, val_accuracy:0.8984\n",
      "Epoch [11/100], average_loss:0.4622, validation_loss:0.5372, val_accuracy:0.7969\n",
      "Epoch [12/100], average_loss:0.4564, validation_loss:0.5141, val_accuracy:0.8203\n",
      "Epoch [13/100], average_loss:0.4514, validation_loss:0.5084, val_accuracy:0.8438\n",
      "Epoch [14/100], average_loss:0.4460, validation_loss:0.4984, val_accuracy:0.8047\n",
      "Epoch [15/100], average_loss:0.4397, validation_loss:0.5094, val_accuracy:0.8516\n",
      "Epoch [16/100], average_loss:0.4385, validation_loss:0.4911, val_accuracy:0.8359\n",
      "Epoch [17/100], average_loss:0.4325, validation_loss:0.4773, val_accuracy:0.8672\n",
      "Epoch [18/100], average_loss:0.4319, validation_loss:0.4909, val_accuracy:0.8750\n",
      "Epoch [19/100], average_loss:0.4288, validation_loss:0.4879, val_accuracy:0.8281\n",
      "Epoch [20/100], average_loss:0.4257, validation_loss:0.4703, val_accuracy:0.8359\n",
      "Epoch [21/100], average_loss:0.4233, validation_loss:0.4745, val_accuracy:0.8516\n",
      "Epoch [22/100], average_loss:0.4195, validation_loss:0.4632, val_accuracy:0.8359\n",
      "Epoch [23/100], average_loss:0.4167, validation_loss:0.4508, val_accuracy:0.8516\n",
      "Epoch [24/100], average_loss:0.4178, validation_loss:0.4637, val_accuracy:0.8359\n",
      "Epoch [25/100], average_loss:0.4147, validation_loss:0.4635, val_accuracy:0.8438\n",
      "Epoch [26/100], average_loss:0.4124, validation_loss:0.4568, val_accuracy:0.8438\n",
      "Epoch [27/100], average_loss:0.4114, validation_loss:0.4689, val_accuracy:0.8594\n",
      "Epoch [28/100], average_loss:0.4082, validation_loss:0.4385, val_accuracy:0.8672\n",
      "Epoch [29/100], average_loss:0.4083, validation_loss:0.4349, val_accuracy:0.8594\n",
      "Epoch [30/100], average_loss:0.4044, validation_loss:0.4439, val_accuracy:0.8516\n",
      "Epoch [31/100], average_loss:0.4029, validation_loss:0.4378, val_accuracy:0.8750\n",
      "Epoch [32/100], average_loss:0.3976, validation_loss:0.4431, val_accuracy:0.8672\n",
      "Epoch [33/100], average_loss:0.3946, validation_loss:0.4103, val_accuracy:0.8594\n",
      "Epoch [34/100], average_loss:0.3904, validation_loss:0.3967, val_accuracy:0.8750\n",
      "Epoch [35/100], average_loss:0.3831, validation_loss:0.4191, val_accuracy:0.7734\n",
      "Epoch [36/100], average_loss:0.3783, validation_loss:0.4067, val_accuracy:0.8438\n",
      "Epoch [37/100], average_loss:0.3733, validation_loss:0.4049, val_accuracy:0.9219\n",
      "Epoch [38/100], average_loss:0.3696, validation_loss:0.4220, val_accuracy:0.9219\n",
      "Epoch [39/100], average_loss:0.3670, validation_loss:0.4118, val_accuracy:0.8594\n",
      "Epoch [40/100], average_loss:0.3659, validation_loss:0.4150, val_accuracy:0.8516\n",
      "Epoch [41/100], average_loss:0.3649, validation_loss:0.4095, val_accuracy:0.8125\n",
      "Epoch [42/100], average_loss:0.3622, validation_loss:0.4007, val_accuracy:0.8359\n",
      "Epoch [43/100], average_loss:0.3597, validation_loss:0.4140, val_accuracy:0.8203\n",
      "Epoch [44/100], average_loss:0.3563, validation_loss:0.4063, val_accuracy:0.8125\n",
      "Epoch [45/100], average_loss:0.3581, validation_loss:0.3963, val_accuracy:0.9062\n",
      "Epoch [46/100], average_loss:0.3571, validation_loss:0.3970, val_accuracy:0.8828\n",
      "Epoch [47/100], average_loss:0.3553, validation_loss:0.3786, val_accuracy:0.8906\n",
      "Epoch [48/100], average_loss:0.3576, validation_loss:0.3997, val_accuracy:0.8672\n",
      "Epoch [49/100], average_loss:0.3534, validation_loss:0.3887, val_accuracy:0.8516\n",
      "Epoch [50/100], average_loss:0.3550, validation_loss:0.3814, val_accuracy:0.8047\n",
      "Epoch [51/100], average_loss:0.3554, validation_loss:0.3801, val_accuracy:0.8359\n",
      "Epoch [52/100], average_loss:0.3538, validation_loss:0.3831, val_accuracy:0.8672\n",
      "Epoch [53/100], average_loss:0.3524, validation_loss:0.3843, val_accuracy:0.8438\n",
      "Epoch [54/100], average_loss:0.3512, validation_loss:0.3814, val_accuracy:0.8750\n",
      "Epoch [55/100], average_loss:0.3497, validation_loss:0.3815, val_accuracy:0.8672\n",
      "Epoch [56/100], average_loss:0.3470, validation_loss:0.3674, val_accuracy:0.8828\n",
      "Epoch [57/100], average_loss:0.3501, validation_loss:0.3877, val_accuracy:0.8281\n",
      "Epoch [58/100], average_loss:0.3489, validation_loss:0.3779, val_accuracy:0.8594\n",
      "Epoch [59/100], average_loss:0.3471, validation_loss:0.3848, val_accuracy:0.8438\n",
      "Epoch [60/100], average_loss:0.3490, validation_loss:0.3740, val_accuracy:0.8828\n",
      "Epoch [61/100], average_loss:0.3475, validation_loss:0.3870, val_accuracy:0.9219\n",
      "Epoch [62/100], average_loss:0.3479, validation_loss:0.3736, val_accuracy:0.8906\n",
      "Epoch [63/100], average_loss:0.3477, validation_loss:0.3890, val_accuracy:0.8281\n",
      "Epoch [64/100], average_loss:0.3461, validation_loss:0.4033, val_accuracy:0.8281\n",
      "Epoch [65/100], average_loss:0.3473, validation_loss:0.3773, val_accuracy:0.8516\n",
      "Epoch [66/100], average_loss:0.3473, validation_loss:0.3743, val_accuracy:0.9062\n",
      "Epoch [67/100], average_loss:0.3469, validation_loss:0.3875, val_accuracy:0.9141\n",
      "Epoch [68/100], average_loss:0.3460, validation_loss:0.3808, val_accuracy:0.8594\n",
      "Epoch [69/100], average_loss:0.3453, validation_loss:0.3698, val_accuracy:0.8594\n",
      "Epoch [70/100], average_loss:0.3440, validation_loss:0.3812, val_accuracy:0.8672\n",
      "Epoch [71/100], average_loss:0.3439, validation_loss:0.3864, val_accuracy:0.8906\n",
      "Epoch [72/100], average_loss:0.3443, validation_loss:0.3816, val_accuracy:0.8828\n",
      "Epoch [73/100], average_loss:0.3437, validation_loss:0.3750, val_accuracy:0.8672\n",
      "Epoch [74/100], average_loss:0.3437, validation_loss:0.3649, val_accuracy:0.8281\n",
      "Epoch [75/100], average_loss:0.3439, validation_loss:0.3686, val_accuracy:0.8359\n",
      "Epoch [76/100], average_loss:0.3413, validation_loss:0.3803, val_accuracy:0.8516\n",
      "Epoch [77/100], average_loss:0.3426, validation_loss:0.3837, val_accuracy:0.8906\n",
      "Epoch [78/100], average_loss:0.3424, validation_loss:0.3781, val_accuracy:0.8516\n",
      "Epoch [79/100], average_loss:0.3426, validation_loss:0.3812, val_accuracy:0.8516\n",
      "Epoch [80/100], average_loss:0.3421, validation_loss:0.3798, val_accuracy:0.8594\n",
      "Epoch [81/100], average_loss:0.3420, validation_loss:0.3514, val_accuracy:0.9062\n",
      "Epoch [82/100], average_loss:0.3420, validation_loss:0.3635, val_accuracy:0.8359\n",
      "Epoch [83/100], average_loss:0.3417, validation_loss:0.3811, val_accuracy:0.8672\n",
      "Epoch [84/100], average_loss:0.3416, validation_loss:0.3756, val_accuracy:0.8516\n",
      "Epoch [85/100], average_loss:0.3384, validation_loss:0.3663, val_accuracy:0.9219\n",
      "Epoch [86/100], average_loss:0.3375, validation_loss:0.3846, val_accuracy:0.8359\n",
      "Epoch [87/100], average_loss:0.3414, validation_loss:0.3713, val_accuracy:0.8438\n",
      "Epoch [88/100], average_loss:0.3399, validation_loss:0.3752, val_accuracy:0.8750\n",
      "Epoch [89/100], average_loss:0.3394, validation_loss:0.3708, val_accuracy:0.8828\n",
      "Epoch [90/100], average_loss:0.3386, validation_loss:0.3694, val_accuracy:0.8750\n",
      "Epoch [91/100], average_loss:0.3392, validation_loss:0.3517, val_accuracy:0.8906\n",
      "Epoch [92/100], average_loss:0.3415, validation_loss:0.3650, val_accuracy:0.8594\n",
      "Epoch [93/100], average_loss:0.3399, validation_loss:0.3705, val_accuracy:0.8750\n",
      "Epoch [94/100], average_loss:0.3384, validation_loss:0.3834, val_accuracy:0.8984\n",
      "Epoch [95/100], average_loss:0.3394, validation_loss:0.3672, val_accuracy:0.8828\n",
      "Epoch [96/100], average_loss:0.3374, validation_loss:0.3685, val_accuracy:0.9297\n",
      "Epoch [97/100], average_loss:0.3406, validation_loss:0.3783, val_accuracy:0.7969\n",
      "Epoch [98/100], average_loss:0.3371, validation_loss:0.3648, val_accuracy:0.8516\n",
      "Epoch [99/100], average_loss:0.3398, validation_loss:0.3577, val_accuracy:0.8906\n",
      "Epoch [100/100], average_loss:0.3381, validation_loss:0.3658, val_accuracy:0.8750\n"
     ]
    }
   ],
   "source": [
    "lh = m3(epochs=range(100), train_loader=train_loader, validation_loader=valid_loader)"
   ]
  },
  {
   "cell_type": "code",
   "execution_count": 145,
   "metadata": {},
   "outputs": [
    {
     "name": "stdout",
     "output_type": "stream",
     "text": [
      "Epoch [101/200], average_loss:0.3394, validation_loss:0.3744, val_accuracy:0.8828\n",
      "Epoch [102/200], average_loss:0.3398, validation_loss:0.3555, val_accuracy:0.8438\n",
      "Epoch [103/200], average_loss:0.3388, validation_loss:0.3665, val_accuracy:0.8359\n",
      "Epoch [104/200], average_loss:0.3350, validation_loss:0.3708, val_accuracy:0.8281\n",
      "Epoch [105/200], average_loss:0.3364, validation_loss:0.3495, val_accuracy:0.8828\n",
      "Epoch [106/200], average_loss:0.3347, validation_loss:0.3694, val_accuracy:0.8438\n",
      "Epoch [107/200], average_loss:0.3383, validation_loss:0.3706, val_accuracy:0.8750\n",
      "Epoch [108/200], average_loss:0.3355, validation_loss:0.3706, val_accuracy:0.8125\n",
      "Epoch [109/200], average_loss:0.3366, validation_loss:0.3691, val_accuracy:0.8438\n",
      "Epoch [110/200], average_loss:0.3347, validation_loss:0.3487, val_accuracy:0.8516\n",
      "Epoch [111/200], average_loss:0.3340, validation_loss:0.3640, val_accuracy:0.8594\n",
      "Epoch [112/200], average_loss:0.3349, validation_loss:0.3800, val_accuracy:0.8750\n",
      "Epoch [113/200], average_loss:0.3370, validation_loss:0.3480, val_accuracy:0.8750\n",
      "Epoch [114/200], average_loss:0.3340, validation_loss:0.3541, val_accuracy:0.8594\n",
      "Epoch [115/200], average_loss:0.3334, validation_loss:0.3511, val_accuracy:0.9141\n",
      "Epoch [116/200], average_loss:0.3340, validation_loss:0.3557, val_accuracy:0.8516\n",
      "Epoch [117/200], average_loss:0.3351, validation_loss:0.3617, val_accuracy:0.9141\n",
      "Epoch [118/200], average_loss:0.3368, validation_loss:0.3504, val_accuracy:0.8594\n",
      "Epoch [119/200], average_loss:0.3337, validation_loss:0.3547, val_accuracy:0.8828\n",
      "Epoch [120/200], average_loss:0.3359, validation_loss:0.3520, val_accuracy:0.8828\n",
      "Epoch [121/200], average_loss:0.3358, validation_loss:0.3658, val_accuracy:0.8594\n",
      "Epoch [122/200], average_loss:0.3337, validation_loss:0.3454, val_accuracy:0.8828\n",
      "Epoch [123/200], average_loss:0.3335, validation_loss:0.3618, val_accuracy:0.7969\n",
      "Epoch [124/200], average_loss:0.3343, validation_loss:0.3416, val_accuracy:0.8203\n",
      "Epoch [125/200], average_loss:0.3333, validation_loss:0.3649, val_accuracy:0.8438\n",
      "Epoch [126/200], average_loss:0.3336, validation_loss:0.3480, val_accuracy:0.8828\n",
      "Epoch [127/200], average_loss:0.3324, validation_loss:0.3544, val_accuracy:0.9062\n",
      "Epoch [128/200], average_loss:0.3321, validation_loss:0.3577, val_accuracy:0.8125\n",
      "Epoch [129/200], average_loss:0.3360, validation_loss:0.3676, val_accuracy:0.8906\n",
      "Epoch [130/200], average_loss:0.3318, validation_loss:0.3569, val_accuracy:0.8594\n",
      "Epoch [131/200], average_loss:0.3301, validation_loss:0.3602, val_accuracy:0.8438\n",
      "Epoch [132/200], average_loss:0.3345, validation_loss:0.3734, val_accuracy:0.8125\n",
      "Epoch [133/200], average_loss:0.3342, validation_loss:0.3548, val_accuracy:0.8516\n",
      "Epoch [134/200], average_loss:0.3305, validation_loss:0.3727, val_accuracy:0.8359\n",
      "Epoch [135/200], average_loss:0.3292, validation_loss:0.3455, val_accuracy:0.8359\n",
      "Epoch [136/200], average_loss:0.3315, validation_loss:0.3712, val_accuracy:0.8438\n",
      "Epoch [137/200], average_loss:0.3327, validation_loss:0.3548, val_accuracy:0.9062\n",
      "Epoch [138/200], average_loss:0.3326, validation_loss:0.3495, val_accuracy:0.8516\n",
      "Epoch [139/200], average_loss:0.3322, validation_loss:0.3612, val_accuracy:0.8516\n",
      "Epoch [140/200], average_loss:0.3317, validation_loss:0.3445, val_accuracy:0.8672\n",
      "Epoch [141/200], average_loss:0.3315, validation_loss:0.3556, val_accuracy:0.8750\n",
      "Epoch [142/200], average_loss:0.3291, validation_loss:0.3507, val_accuracy:0.8672\n",
      "Epoch [143/200], average_loss:0.3300, validation_loss:0.3679, val_accuracy:0.8594\n",
      "Epoch [144/200], average_loss:0.3305, validation_loss:0.3521, val_accuracy:0.8828\n",
      "Epoch [145/200], average_loss:0.3309, validation_loss:0.3485, val_accuracy:0.8984\n",
      "Epoch [146/200], average_loss:0.3307, validation_loss:0.3498, val_accuracy:0.8516\n",
      "Epoch [147/200], average_loss:0.3312, validation_loss:0.3472, val_accuracy:0.8750\n",
      "Epoch [148/200], average_loss:0.3306, validation_loss:0.3631, val_accuracy:0.8594\n",
      "Epoch [149/200], average_loss:0.3316, validation_loss:0.3511, val_accuracy:0.8594\n",
      "Epoch [150/200], average_loss:0.3305, validation_loss:0.3404, val_accuracy:0.9062\n",
      "Epoch [151/200], average_loss:0.3273, validation_loss:0.3613, val_accuracy:0.8828\n",
      "Epoch [152/200], average_loss:0.3306, validation_loss:0.3567, val_accuracy:0.8203\n",
      "Epoch [153/200], average_loss:0.3325, validation_loss:0.3495, val_accuracy:0.8594\n",
      "Epoch [154/200], average_loss:0.3297, validation_loss:0.3438, val_accuracy:0.8906\n",
      "Epoch [155/200], average_loss:0.3310, validation_loss:0.3451, val_accuracy:0.8438\n",
      "Epoch [156/200], average_loss:0.3301, validation_loss:0.3548, val_accuracy:0.8828\n",
      "Epoch [157/200], average_loss:0.3288, validation_loss:0.3572, val_accuracy:0.8828\n",
      "Epoch [158/200], average_loss:0.3303, validation_loss:0.3419, val_accuracy:0.8906\n",
      "Epoch [159/200], average_loss:0.3284, validation_loss:0.3343, val_accuracy:0.8750\n",
      "Epoch [160/200], average_loss:0.3273, validation_loss:0.3585, val_accuracy:0.8203\n",
      "Epoch [161/200], average_loss:0.3298, validation_loss:0.3435, val_accuracy:0.8594\n",
      "Epoch [162/200], average_loss:0.3283, validation_loss:0.3445, val_accuracy:0.9062\n",
      "Epoch [163/200], average_loss:0.3292, validation_loss:0.3585, val_accuracy:0.8828\n",
      "Epoch [164/200], average_loss:0.3256, validation_loss:0.3550, val_accuracy:0.8281\n",
      "Epoch [165/200], average_loss:0.3291, validation_loss:0.3620, val_accuracy:0.8984\n",
      "Epoch [166/200], average_loss:0.3275, validation_loss:0.3413, val_accuracy:0.8828\n",
      "Epoch [167/200], average_loss:0.3256, validation_loss:0.3546, val_accuracy:0.8984\n",
      "Epoch [168/200], average_loss:0.3272, validation_loss:0.3617, val_accuracy:0.8594\n",
      "Epoch [169/200], average_loss:0.3283, validation_loss:0.3440, val_accuracy:0.8672\n",
      "Epoch [170/200], average_loss:0.3279, validation_loss:0.3577, val_accuracy:0.8281\n",
      "Epoch [171/200], average_loss:0.3287, validation_loss:0.3440, val_accuracy:0.7969\n",
      "Epoch [172/200], average_loss:0.3281, validation_loss:0.3462, val_accuracy:0.8672\n",
      "Epoch [173/200], average_loss:0.3294, validation_loss:0.3472, val_accuracy:0.7891\n",
      "Epoch [174/200], average_loss:0.3255, validation_loss:0.3441, val_accuracy:0.8516\n",
      "Epoch [175/200], average_loss:0.3279, validation_loss:0.3598, val_accuracy:0.8516\n",
      "Epoch [176/200], average_loss:0.3251, validation_loss:0.3637, val_accuracy:0.8906\n",
      "Epoch [177/200], average_loss:0.3277, validation_loss:0.3511, val_accuracy:0.8750\n",
      "Epoch [178/200], average_loss:0.3262, validation_loss:0.3531, val_accuracy:0.8516\n",
      "Epoch [179/200], average_loss:0.3290, validation_loss:0.3667, val_accuracy:0.8438\n",
      "Epoch [180/200], average_loss:0.3293, validation_loss:0.3460, val_accuracy:0.8281\n",
      "Epoch [181/200], average_loss:0.3259, validation_loss:0.3489, val_accuracy:0.9062\n",
      "Epoch [182/200], average_loss:0.3254, validation_loss:0.3369, val_accuracy:0.8750\n",
      "Epoch [183/200], average_loss:0.3265, validation_loss:0.3361, val_accuracy:0.8906\n",
      "Epoch [184/200], average_loss:0.3247, validation_loss:0.3521, val_accuracy:0.8984\n",
      "Epoch [185/200], average_loss:0.3276, validation_loss:0.3390, val_accuracy:0.8750\n",
      "Epoch [186/200], average_loss:0.3247, validation_loss:0.3537, val_accuracy:0.8594\n",
      "Epoch [187/200], average_loss:0.3262, validation_loss:0.3512, val_accuracy:0.8125\n",
      "Epoch [188/200], average_loss:0.3265, validation_loss:0.3488, val_accuracy:0.8359\n",
      "Epoch [189/200], average_loss:0.3257, validation_loss:0.3550, val_accuracy:0.8750\n",
      "Epoch [190/200], average_loss:0.3250, validation_loss:0.3546, val_accuracy:0.8516\n",
      "Epoch [191/200], average_loss:0.3240, validation_loss:0.3469, val_accuracy:0.8906\n",
      "Epoch [192/200], average_loss:0.3252, validation_loss:0.3397, val_accuracy:0.8984\n",
      "Epoch [193/200], average_loss:0.3266, validation_loss:0.3496, val_accuracy:0.8672\n",
      "Epoch [194/200], average_loss:0.3255, validation_loss:0.3434, val_accuracy:0.8047\n",
      "Epoch [195/200], average_loss:0.3237, validation_loss:0.3409, val_accuracy:0.8516\n",
      "Epoch [196/200], average_loss:0.3244, validation_loss:0.3443, val_accuracy:0.8359\n",
      "Epoch [197/200], average_loss:0.3238, validation_loss:0.3508, val_accuracy:0.8750\n",
      "Epoch [198/200], average_loss:0.3261, validation_loss:0.3453, val_accuracy:0.9297\n",
      "Epoch [199/200], average_loss:0.3270, validation_loss:0.3416, val_accuracy:0.9297\n",
      "Epoch [200/200], average_loss:0.3255, validation_loss:0.3444, val_accuracy:0.9297\n"
     ]
    }
   ],
   "source": [
    "lh = m3(epochs=range(100,200), train_loader=train_loader, validation_loader=valid_loader)"
   ]
  },
  {
   "cell_type": "code",
   "execution_count": 154,
   "metadata": {},
   "outputs": [],
   "source": [
    "m3.tb.close()"
   ]
  },
  {
   "cell_type": "code",
   "execution_count": 146,
   "metadata": {},
   "outputs": [],
   "source": [
    "m3.model.eval()\n",
    "with torch.no_grad():\n",
    "    x_pred = np.argmax(m3.model(torch.tensor(X_test).float().cuda()).cpu().detach(), axis=1)"
   ]
  },
  {
   "cell_type": "code",
   "execution_count": 147,
   "metadata": {
    "scrolled": false
   },
   "outputs": [
    {
     "data": {
      "text/plain": [
       "tensor([1, 0, 1,  ..., 1, 0, 1])"
      ]
     },
     "execution_count": 147,
     "metadata": {},
     "output_type": "execute_result"
    }
   ],
   "source": [
    "x_pred"
   ]
  },
  {
   "cell_type": "code",
   "execution_count": 148,
   "metadata": {},
   "outputs": [
    {
     "data": {
      "text/plain": [
       "0.8175120934534321"
      ]
     },
     "execution_count": 148,
     "metadata": {},
     "output_type": "execute_result"
    }
   ],
   "source": [
    "f1_score(y_true=y_test, y_pred=x_pred,average=\"macro\")"
   ]
  },
  {
   "cell_type": "code",
   "execution_count": 149,
   "metadata": {},
   "outputs": [
    {
     "data": {
      "text/plain": [
       "0.8744047619047619"
      ]
     },
     "execution_count": 149,
     "metadata": {},
     "output_type": "execute_result"
    }
   ],
   "source": [
    "accuracy_score(y_true=y_test, y_pred=x_pred)"
   ]
  },
  {
   "cell_type": "code",
   "execution_count": 150,
   "metadata": {},
   "outputs": [
    {
     "data": {
      "text/plain": [
       "array([[3782,  115,   60,  198],\n",
       "       [1035, 9214,  115,  233],\n",
       "       [  13,   23,  435,   21],\n",
       "       [ 195,   50,   52, 1259]], dtype=int64)"
      ]
     },
     "execution_count": 150,
     "metadata": {},
     "output_type": "execute_result"
    }
   ],
   "source": [
    "cf1 = confusion_matrix(y_true=y_test, y_pred=x_pred)\n",
    "cf1"
   ]
  },
  {
   "cell_type": "code",
   "execution_count": 151,
   "metadata": {},
   "outputs": [],
   "source": [
    "#torch.save(m3.model, \"models_and_losses/NN_[64-128-32-128-64]_Drop=3_sigmoid_lr=1e-3_bs=512_epoch-200.pt\")\n",
    "#torch.save(m3.model.state_dict(), \"models_and_losses/NN_[64-128-32-128-64]_Drop=3_sigmoid_lr=1e-3_bs=512_epoch-200_state_dict.pt\")"
   ]
  },
  {
   "cell_type": "code",
   "execution_count": 152,
   "metadata": {},
   "outputs": [
    {
     "data": {
      "text/plain": [
       "Sequential(\n",
       "  (0): Linear(in_features=29, out_features=64, bias=True)\n",
       "  (1): Dropout(p=0.3, inplace=False)\n",
       "  (2): Sigmoid()\n",
       "  (3): Linear(in_features=64, out_features=128, bias=True)\n",
       "  (4): Dropout(p=0.3, inplace=False)\n",
       "  (5): Sigmoid()\n",
       "  (6): Linear(in_features=128, out_features=32, bias=True)\n",
       "  (7): Dropout(p=0.3, inplace=False)\n",
       "  (8): Sigmoid()\n",
       "  (9): Linear(in_features=32, out_features=128, bias=True)\n",
       "  (10): Dropout(p=0.3, inplace=False)\n",
       "  (11): Sigmoid()\n",
       "  (12): Linear(in_features=128, out_features=64, bias=True)\n",
       "  (13): Dropout(p=0.3, inplace=False)\n",
       "  (14): Sigmoid()\n",
       "  (15): Linear(in_features=64, out_features=4, bias=True)\n",
       ")"
      ]
     },
     "execution_count": 152,
     "metadata": {},
     "output_type": "execute_result"
    }
   ],
   "source": [
    "m3.model"
   ]
  },
  {
   "cell_type": "markdown",
   "metadata": {},
   "source": [
    "# simpler model"
   ]
  },
  {
   "cell_type": "code",
   "execution_count": 2,
   "metadata": {},
   "outputs": [],
   "source": [
    "model = nn.Sequential(\n",
    "            nn.Linear(in_features=29, out_features=128),\n",
    "            #nn.BatchNorm1d(num_features=128),\n",
    "            nn.Dropout(p=0.3),\n",
    "            nn.Sigmoid(),\n",
    "            nn.Linear(in_features=128, out_features=128),\n",
    "            #nn.BatchNorm1d(num_features=128),\n",
    "            nn.Dropout(p=0.3),\n",
    "            nn.Sigmoid(),\n",
    "            nn.Linear(in_features=128, out_features=4)\n",
    ")"
   ]
  },
  {
   "cell_type": "code",
   "execution_count": 3,
   "metadata": {},
   "outputs": [
    {
     "data": {
      "text/plain": [
       "Sequential(\n",
       "  (0): Linear(in_features=29, out_features=128, bias=True)\n",
       "  (1): Dropout(p=0.3, inplace=False)\n",
       "  (2): Sigmoid()\n",
       "  (3): Linear(in_features=128, out_features=128, bias=True)\n",
       "  (4): Dropout(p=0.3, inplace=False)\n",
       "  (5): Sigmoid()\n",
       "  (6): Linear(in_features=128, out_features=4, bias=True)\n",
       ")"
      ]
     },
     "execution_count": 3,
     "metadata": {},
     "output_type": "execute_result"
    }
   ],
   "source": [
    "model"
   ]
  },
  {
   "cell_type": "code",
   "execution_count": 155,
   "metadata": {},
   "outputs": [],
   "source": [
    "optimizer= torch.optim.Adam(model.parameters(), lr=1e-3)"
   ]
  },
  {
   "cell_type": "code",
   "execution_count": 156,
   "metadata": {},
   "outputs": [
    {
     "name": "stdout",
     "output_type": "stream",
     "text": [
      "cuda:0\n"
     ]
    }
   ],
   "source": [
    "m3 = Trainer(\n",
    "        model=model,\n",
    "        optimizer=optimizer,\n",
    "        loss_function=nn.CrossEntropyLoss(),\n",
    "        #scheduler=torch.optim.lr_scheduler.MultiStepLR(optimizer, milestones=[5,20], gamma=0.5),\n",
    "        tensorboard=True,\n",
    "        model_name=\"NN_2x128_Drop=3_sigmoid_lr=1e-3_bs=512\",\n",
    "        verbose=True\n",
    "        )"
   ]
  },
  {
   "cell_type": "code",
   "execution_count": 157,
   "metadata": {},
   "outputs": [
    {
     "name": "stdout",
     "output_type": "stream",
     "text": [
      "Epoch [1/100], average_loss:0.7731, validation_loss:0.4978, val_accuracy:0.8594\n",
      "Epoch [2/100], average_loss:0.4757, validation_loss:0.4431, val_accuracy:0.8125\n",
      "Epoch [3/100], average_loss:0.4292, validation_loss:0.4039, val_accuracy:0.7734\n",
      "Epoch [4/100], average_loss:0.3968, validation_loss:0.3898, val_accuracy:0.8125\n",
      "Epoch [5/100], average_loss:0.3759, validation_loss:0.3695, val_accuracy:0.8203\n",
      "Epoch [6/100], average_loss:0.3643, validation_loss:0.3647, val_accuracy:0.8594\n",
      "Epoch [7/100], average_loss:0.3573, validation_loss:0.3661, val_accuracy:0.8984\n",
      "Epoch [8/100], average_loss:0.3541, validation_loss:0.3587, val_accuracy:0.8125\n",
      "Epoch [9/100], average_loss:0.3499, validation_loss:0.3548, val_accuracy:0.7891\n",
      "Epoch [10/100], average_loss:0.3482, validation_loss:0.3588, val_accuracy:0.8516\n",
      "Epoch [11/100], average_loss:0.3462, validation_loss:0.3566, val_accuracy:0.8594\n",
      "Epoch [12/100], average_loss:0.3442, validation_loss:0.3576, val_accuracy:0.8281\n",
      "Epoch [13/100], average_loss:0.3430, validation_loss:0.3488, val_accuracy:0.8984\n",
      "Epoch [14/100], average_loss:0.3408, validation_loss:0.3568, val_accuracy:0.8594\n",
      "Epoch [15/100], average_loss:0.3409, validation_loss:0.3573, val_accuracy:0.8672\n",
      "Epoch [16/100], average_loss:0.3385, validation_loss:0.3574, val_accuracy:0.8750\n",
      "Epoch [17/100], average_loss:0.3382, validation_loss:0.3554, val_accuracy:0.8672\n",
      "Epoch [18/100], average_loss:0.3381, validation_loss:0.3638, val_accuracy:0.8281\n",
      "Epoch [19/100], average_loss:0.3371, validation_loss:0.3483, val_accuracy:0.8828\n",
      "Epoch [20/100], average_loss:0.3352, validation_loss:0.3581, val_accuracy:0.8203\n",
      "Epoch [21/100], average_loss:0.3355, validation_loss:0.3476, val_accuracy:0.8438\n",
      "Epoch [22/100], average_loss:0.3345, validation_loss:0.3621, val_accuracy:0.8672\n",
      "Epoch [23/100], average_loss:0.3322, validation_loss:0.3493, val_accuracy:0.8594\n",
      "Epoch [24/100], average_loss:0.3324, validation_loss:0.3550, val_accuracy:0.8438\n",
      "Epoch [25/100], average_loss:0.3308, validation_loss:0.3384, val_accuracy:0.8438\n",
      "Epoch [26/100], average_loss:0.3291, validation_loss:0.3470, val_accuracy:0.8672\n",
      "Epoch [27/100], average_loss:0.3310, validation_loss:0.3428, val_accuracy:0.8828\n",
      "Epoch [28/100], average_loss:0.3295, validation_loss:0.3599, val_accuracy:0.8281\n",
      "Epoch [29/100], average_loss:0.3278, validation_loss:0.3496, val_accuracy:0.8594\n",
      "Epoch [30/100], average_loss:0.3286, validation_loss:0.3428, val_accuracy:0.8281\n",
      "Epoch [31/100], average_loss:0.3281, validation_loss:0.3619, val_accuracy:0.8828\n",
      "Epoch [32/100], average_loss:0.3278, validation_loss:0.3471, val_accuracy:0.8984\n",
      "Epoch [33/100], average_loss:0.3273, validation_loss:0.3499, val_accuracy:0.8672\n",
      "Epoch [34/100], average_loss:0.3262, validation_loss:0.3434, val_accuracy:0.8672\n",
      "Epoch [35/100], average_loss:0.3255, validation_loss:0.3405, val_accuracy:0.8203\n",
      "Epoch [36/100], average_loss:0.3246, validation_loss:0.3523, val_accuracy:0.8281\n",
      "Epoch [37/100], average_loss:0.3251, validation_loss:0.3358, val_accuracy:0.8516\n",
      "Epoch [38/100], average_loss:0.3232, validation_loss:0.3403, val_accuracy:0.8750\n",
      "Epoch [39/100], average_loss:0.3224, validation_loss:0.3380, val_accuracy:0.8359\n",
      "Epoch [40/100], average_loss:0.3225, validation_loss:0.3500, val_accuracy:0.8203\n",
      "Epoch [41/100], average_loss:0.3232, validation_loss:0.3417, val_accuracy:0.8828\n",
      "Epoch [42/100], average_loss:0.3213, validation_loss:0.3463, val_accuracy:0.8828\n",
      "Epoch [43/100], average_loss:0.3224, validation_loss:0.3441, val_accuracy:0.8828\n",
      "Epoch [44/100], average_loss:0.3212, validation_loss:0.3315, val_accuracy:0.8359\n",
      "Epoch [45/100], average_loss:0.3209, validation_loss:0.3527, val_accuracy:0.8281\n",
      "Epoch [46/100], average_loss:0.3204, validation_loss:0.3497, val_accuracy:0.8438\n",
      "Epoch [47/100], average_loss:0.3202, validation_loss:0.3330, val_accuracy:0.8672\n",
      "Epoch [48/100], average_loss:0.3197, validation_loss:0.3374, val_accuracy:0.9453\n",
      "Epoch [49/100], average_loss:0.3199, validation_loss:0.3350, val_accuracy:0.8281\n",
      "Epoch [50/100], average_loss:0.3194, validation_loss:0.3490, val_accuracy:0.8906\n",
      "Epoch [51/100], average_loss:0.3187, validation_loss:0.3542, val_accuracy:0.8672\n",
      "Epoch [52/100], average_loss:0.3181, validation_loss:0.3394, val_accuracy:0.8750\n",
      "Epoch [53/100], average_loss:0.3180, validation_loss:0.3279, val_accuracy:0.8984\n",
      "Epoch [54/100], average_loss:0.3170, validation_loss:0.3427, val_accuracy:0.8047\n",
      "Epoch [55/100], average_loss:0.3163, validation_loss:0.3366, val_accuracy:0.8516\n",
      "Epoch [56/100], average_loss:0.3168, validation_loss:0.3284, val_accuracy:0.9062\n",
      "Epoch [57/100], average_loss:0.3154, validation_loss:0.3352, val_accuracy:0.8281\n",
      "Epoch [58/100], average_loss:0.3152, validation_loss:0.3354, val_accuracy:0.8672\n",
      "Epoch [59/100], average_loss:0.3143, validation_loss:0.3327, val_accuracy:0.8828\n",
      "Epoch [60/100], average_loss:0.3134, validation_loss:0.3389, val_accuracy:0.8594\n",
      "Epoch [61/100], average_loss:0.3132, validation_loss:0.3320, val_accuracy:0.8516\n",
      "Epoch [62/100], average_loss:0.3140, validation_loss:0.3252, val_accuracy:0.8672\n",
      "Epoch [63/100], average_loss:0.3132, validation_loss:0.3390, val_accuracy:0.8750\n",
      "Epoch [64/100], average_loss:0.3128, validation_loss:0.3330, val_accuracy:0.8672\n",
      "Epoch [65/100], average_loss:0.3136, validation_loss:0.3451, val_accuracy:0.8359\n",
      "Epoch [66/100], average_loss:0.3146, validation_loss:0.3285, val_accuracy:0.8984\n",
      "Epoch [67/100], average_loss:0.3131, validation_loss:0.3266, val_accuracy:0.9062\n",
      "Epoch [68/100], average_loss:0.3134, validation_loss:0.3330, val_accuracy:0.8828\n",
      "Epoch [69/100], average_loss:0.3132, validation_loss:0.3329, val_accuracy:0.8516\n",
      "Epoch [70/100], average_loss:0.3128, validation_loss:0.3301, val_accuracy:0.8828\n",
      "Epoch [71/100], average_loss:0.3103, validation_loss:0.3268, val_accuracy:0.9375\n",
      "Epoch [72/100], average_loss:0.3135, validation_loss:0.3494, val_accuracy:0.8203\n",
      "Epoch [73/100], average_loss:0.3125, validation_loss:0.3260, val_accuracy:0.9219\n",
      "Epoch [74/100], average_loss:0.3110, validation_loss:0.3242, val_accuracy:0.8828\n",
      "Epoch [75/100], average_loss:0.3105, validation_loss:0.3389, val_accuracy:0.8516\n",
      "Epoch [76/100], average_loss:0.3105, validation_loss:0.3322, val_accuracy:0.8125\n",
      "Epoch [77/100], average_loss:0.3094, validation_loss:0.3366, val_accuracy:0.8359\n",
      "Epoch [78/100], average_loss:0.3094, validation_loss:0.3243, val_accuracy:0.8828\n",
      "Epoch [79/100], average_loss:0.3095, validation_loss:0.3329, val_accuracy:0.8906\n",
      "Epoch [80/100], average_loss:0.3086, validation_loss:0.3165, val_accuracy:0.8984\n",
      "Epoch [81/100], average_loss:0.3089, validation_loss:0.3344, val_accuracy:0.8984\n",
      "Epoch [82/100], average_loss:0.3094, validation_loss:0.3325, val_accuracy:0.8203\n",
      "Epoch [83/100], average_loss:0.3082, validation_loss:0.3346, val_accuracy:0.8672\n",
      "Epoch [84/100], average_loss:0.3086, validation_loss:0.3291, val_accuracy:0.8516\n",
      "Epoch [85/100], average_loss:0.3102, validation_loss:0.3445, val_accuracy:0.8516\n",
      "Epoch [86/100], average_loss:0.3099, validation_loss:0.3326, val_accuracy:0.8516\n",
      "Epoch [87/100], average_loss:0.3096, validation_loss:0.3338, val_accuracy:0.7969\n",
      "Epoch [88/100], average_loss:0.3071, validation_loss:0.3203, val_accuracy:0.8672\n",
      "Epoch [89/100], average_loss:0.3056, validation_loss:0.3318, val_accuracy:0.8203\n",
      "Epoch [90/100], average_loss:0.3094, validation_loss:0.3165, val_accuracy:0.8828\n",
      "Epoch [91/100], average_loss:0.3083, validation_loss:0.3398, val_accuracy:0.8828\n",
      "Epoch [92/100], average_loss:0.3061, validation_loss:0.3222, val_accuracy:0.9141\n",
      "Epoch [93/100], average_loss:0.3063, validation_loss:0.3248, val_accuracy:0.8750\n",
      "Epoch [94/100], average_loss:0.3058, validation_loss:0.3388, val_accuracy:0.8359\n",
      "Epoch [95/100], average_loss:0.3059, validation_loss:0.3298, val_accuracy:0.8984\n",
      "Epoch [96/100], average_loss:0.3064, validation_loss:0.3292, val_accuracy:0.8750\n",
      "Epoch [97/100], average_loss:0.3057, validation_loss:0.3336, val_accuracy:0.8672\n",
      "Epoch [98/100], average_loss:0.3069, validation_loss:0.3443, val_accuracy:0.8828\n",
      "Epoch [99/100], average_loss:0.3036, validation_loss:0.3286, val_accuracy:0.8438\n",
      "Epoch [100/100], average_loss:0.3059, validation_loss:0.3276, val_accuracy:0.8906\n"
     ]
    }
   ],
   "source": [
    "lh = m3(epochs=range(100), train_loader=train_loader, validation_loader=valid_loader)"
   ]
  },
  {
   "cell_type": "code",
   "execution_count": 158,
   "metadata": {},
   "outputs": [],
   "source": [
    "m3.model.eval()\n",
    "with torch.no_grad():\n",
    "    x_pred = np.argmax(m3.model(torch.tensor(X_test).float().cuda()).cpu().detach(), axis=1)"
   ]
  },
  {
   "cell_type": "code",
   "execution_count": 159,
   "metadata": {
    "scrolled": false
   },
   "outputs": [
    {
     "data": {
      "text/plain": [
       "tensor([1, 0, 1,  ..., 1, 0, 1])"
      ]
     },
     "execution_count": 159,
     "metadata": {},
     "output_type": "execute_result"
    }
   ],
   "source": [
    "x_pred"
   ]
  },
  {
   "cell_type": "code",
   "execution_count": 160,
   "metadata": {},
   "outputs": [
    {
     "data": {
      "text/plain": [
       "0.8203182056679881"
      ]
     },
     "execution_count": 160,
     "metadata": {},
     "output_type": "execute_result"
    }
   ],
   "source": [
    "f1_score(y_true=y_test, y_pred=x_pred,average=\"macro\")"
   ]
  },
  {
   "cell_type": "code",
   "execution_count": 161,
   "metadata": {},
   "outputs": [
    {
     "data": {
      "text/plain": [
       "0.8757738095238096"
      ]
     },
     "execution_count": 161,
     "metadata": {},
     "output_type": "execute_result"
    }
   ],
   "source": [
    "accuracy_score(y_true=y_test, y_pred=x_pred)"
   ]
  },
  {
   "cell_type": "code",
   "execution_count": 162,
   "metadata": {},
   "outputs": [
    {
     "data": {
      "text/plain": [
       "array([[3788,  138,   47,  182],\n",
       "       [ 998, 9237,  113,  249],\n",
       "       [  17,   23,  434,   18],\n",
       "       [ 198,   52,   52, 1254]], dtype=int64)"
      ]
     },
     "execution_count": 162,
     "metadata": {},
     "output_type": "execute_result"
    }
   ],
   "source": [
    "cf1 = confusion_matrix(y_true=y_test, y_pred=x_pred)\n",
    "cf1"
   ]
  },
  {
   "cell_type": "code",
   "execution_count": 164,
   "metadata": {},
   "outputs": [],
   "source": [
    "#torch.save(m3.model, \"models_and_losses/NN_2x128_Drop=3_sigmoid_lr=1e-3_bs=512_epoch-100.pt\")\n",
    "#torch.save(m3.model.state_dict(), \"models_and_losses/NN_2x128_Drop=3_sigmoid_lr=1e-3_bs=512_epoch-100_state_dict.pt\")"
   ]
  },
  {
   "cell_type": "code",
   "execution_count": 165,
   "metadata": {},
   "outputs": [
    {
     "name": "stdout",
     "output_type": "stream",
     "text": [
      "Epoch [101/200], average_loss:0.3059, validation_loss:0.3298, val_accuracy:0.8906\n",
      "Epoch [102/200], average_loss:0.3056, validation_loss:0.3184, val_accuracy:0.8984\n",
      "Epoch [103/200], average_loss:0.3046, validation_loss:0.3198, val_accuracy:0.8750\n",
      "Epoch [104/200], average_loss:0.3049, validation_loss:0.3298, val_accuracy:0.8828\n",
      "Epoch [105/200], average_loss:0.3054, validation_loss:0.3425, val_accuracy:0.8359\n",
      "Epoch [106/200], average_loss:0.3040, validation_loss:0.3235, val_accuracy:0.8516\n",
      "Epoch [107/200], average_loss:0.3051, validation_loss:0.3172, val_accuracy:0.9141\n",
      "Epoch [108/200], average_loss:0.3031, validation_loss:0.3287, val_accuracy:0.8438\n",
      "Epoch [109/200], average_loss:0.3033, validation_loss:0.3312, val_accuracy:0.8828\n",
      "Epoch [110/200], average_loss:0.3047, validation_loss:0.3297, val_accuracy:0.9141\n",
      "Epoch [111/200], average_loss:0.3022, validation_loss:0.3296, val_accuracy:0.9062\n",
      "Epoch [112/200], average_loss:0.3039, validation_loss:0.3338, val_accuracy:0.8594\n",
      "Epoch [113/200], average_loss:0.3020, validation_loss:0.3179, val_accuracy:0.8984\n",
      "Epoch [114/200], average_loss:0.3025, validation_loss:0.3232, val_accuracy:0.8359\n",
      "Epoch [115/200], average_loss:0.3033, validation_loss:0.3213, val_accuracy:0.8203\n",
      "Epoch [116/200], average_loss:0.3036, validation_loss:0.3243, val_accuracy:0.8984\n",
      "Epoch [117/200], average_loss:0.3019, validation_loss:0.3192, val_accuracy:0.9062\n",
      "Epoch [118/200], average_loss:0.3016, validation_loss:0.3203, val_accuracy:0.8906\n",
      "Epoch [119/200], average_loss:0.3019, validation_loss:0.3146, val_accuracy:0.8984\n",
      "Epoch [120/200], average_loss:0.3022, validation_loss:0.3213, val_accuracy:0.8672\n",
      "Epoch [121/200], average_loss:0.3012, validation_loss:0.3260, val_accuracy:0.8828\n",
      "Epoch [122/200], average_loss:0.3022, validation_loss:0.3270, val_accuracy:0.8359\n",
      "Epoch [123/200], average_loss:0.3013, validation_loss:0.3233, val_accuracy:0.8672\n",
      "Epoch [124/200], average_loss:0.3004, validation_loss:0.3287, val_accuracy:0.8594\n",
      "Epoch [125/200], average_loss:0.3006, validation_loss:0.3234, val_accuracy:0.8750\n",
      "Epoch [126/200], average_loss:0.3018, validation_loss:0.3146, val_accuracy:0.9141\n",
      "Epoch [127/200], average_loss:0.3005, validation_loss:0.3137, val_accuracy:0.8750\n",
      "Epoch [128/200], average_loss:0.3012, validation_loss:0.3236, val_accuracy:0.8750\n",
      "Epoch [129/200], average_loss:0.3010, validation_loss:0.3183, val_accuracy:0.8594\n",
      "Epoch [130/200], average_loss:0.3008, validation_loss:0.3187, val_accuracy:0.9375\n",
      "Epoch [131/200], average_loss:0.2989, validation_loss:0.3181, val_accuracy:0.8672\n",
      "Epoch [132/200], average_loss:0.3001, validation_loss:0.3073, val_accuracy:0.9062\n",
      "Epoch [133/200], average_loss:0.3019, validation_loss:0.3227, val_accuracy:0.9141\n",
      "Epoch [134/200], average_loss:0.2998, validation_loss:0.3144, val_accuracy:0.8906\n",
      "Epoch [135/200], average_loss:0.3008, validation_loss:0.3126, val_accuracy:0.8828\n",
      "Epoch [136/200], average_loss:0.2999, validation_loss:0.3233, val_accuracy:0.9141\n",
      "Epoch [137/200], average_loss:0.2995, validation_loss:0.3119, val_accuracy:0.8594\n",
      "Epoch [138/200], average_loss:0.2999, validation_loss:0.3299, val_accuracy:0.8750\n",
      "Epoch [139/200], average_loss:0.2987, validation_loss:0.3226, val_accuracy:0.8750\n",
      "Epoch [140/200], average_loss:0.2984, validation_loss:0.3249, val_accuracy:0.8828\n",
      "Epoch [141/200], average_loss:0.2981, validation_loss:0.3245, val_accuracy:0.8750\n",
      "Epoch [142/200], average_loss:0.2994, validation_loss:0.3144, val_accuracy:0.9375\n",
      "Epoch [143/200], average_loss:0.2991, validation_loss:0.3261, val_accuracy:0.9062\n",
      "Epoch [144/200], average_loss:0.2996, validation_loss:0.3137, val_accuracy:0.9062\n",
      "Epoch [145/200], average_loss:0.2981, validation_loss:0.3191, val_accuracy:0.8828\n",
      "Epoch [146/200], average_loss:0.2982, validation_loss:0.3232, val_accuracy:0.8672\n",
      "Epoch [147/200], average_loss:0.2995, validation_loss:0.3166, val_accuracy:0.9141\n",
      "Epoch [148/200], average_loss:0.2977, validation_loss:0.3123, val_accuracy:0.9141\n",
      "Epoch [149/200], average_loss:0.2976, validation_loss:0.3133, val_accuracy:0.8906\n",
      "Epoch [150/200], average_loss:0.2985, validation_loss:0.3176, val_accuracy:0.8906\n",
      "Epoch [151/200], average_loss:0.2983, validation_loss:0.3092, val_accuracy:0.8984\n",
      "Epoch [152/200], average_loss:0.2985, validation_loss:0.3318, val_accuracy:0.8516\n",
      "Epoch [153/200], average_loss:0.2961, validation_loss:0.3218, val_accuracy:0.8828\n",
      "Epoch [154/200], average_loss:0.2972, validation_loss:0.3397, val_accuracy:0.8672\n",
      "Epoch [155/200], average_loss:0.2968, validation_loss:0.3167, val_accuracy:0.8906\n",
      "Epoch [156/200], average_loss:0.2963, validation_loss:0.3078, val_accuracy:0.8828\n",
      "Epoch [157/200], average_loss:0.2968, validation_loss:0.3124, val_accuracy:0.8516\n",
      "Epoch [158/200], average_loss:0.2958, validation_loss:0.3289, val_accuracy:0.8281\n",
      "Epoch [159/200], average_loss:0.2979, validation_loss:0.3209, val_accuracy:0.8906\n",
      "Epoch [160/200], average_loss:0.2967, validation_loss:0.3084, val_accuracy:0.8828\n",
      "Epoch [161/200], average_loss:0.2975, validation_loss:0.3208, val_accuracy:0.8672\n",
      "Epoch [162/200], average_loss:0.2962, validation_loss:0.3160, val_accuracy:0.9062\n",
      "Epoch [163/200], average_loss:0.2969, validation_loss:0.3249, val_accuracy:0.8750\n",
      "Epoch [164/200], average_loss:0.2966, validation_loss:0.3263, val_accuracy:0.8828\n",
      "Epoch [165/200], average_loss:0.2971, validation_loss:0.3131, val_accuracy:0.9219\n",
      "Epoch [166/200], average_loss:0.2956, validation_loss:0.3159, val_accuracy:0.9219\n",
      "Epoch [167/200], average_loss:0.2959, validation_loss:0.3195, val_accuracy:0.9062\n",
      "Epoch [168/200], average_loss:0.2960, validation_loss:0.3162, val_accuracy:0.8906\n",
      "Epoch [169/200], average_loss:0.2961, validation_loss:0.3293, val_accuracy:0.8203\n",
      "Epoch [170/200], average_loss:0.2969, validation_loss:0.3267, val_accuracy:0.8828\n",
      "Epoch [171/200], average_loss:0.2968, validation_loss:0.3056, val_accuracy:0.8906\n",
      "Epoch [172/200], average_loss:0.2963, validation_loss:0.3296, val_accuracy:0.8516\n",
      "Epoch [173/200], average_loss:0.2966, validation_loss:0.3118, val_accuracy:0.8750\n",
      "Epoch [174/200], average_loss:0.2943, validation_loss:0.3168, val_accuracy:0.8594\n",
      "Epoch [175/200], average_loss:0.2958, validation_loss:0.3293, val_accuracy:0.8984\n",
      "Epoch [176/200], average_loss:0.2947, validation_loss:0.3195, val_accuracy:0.9375\n",
      "Epoch [177/200], average_loss:0.2945, validation_loss:0.3123, val_accuracy:0.9062\n",
      "Epoch [178/200], average_loss:0.2970, validation_loss:0.3122, val_accuracy:0.8828\n",
      "Epoch [179/200], average_loss:0.2957, validation_loss:0.3141, val_accuracy:0.9062\n",
      "Epoch [180/200], average_loss:0.2956, validation_loss:0.3095, val_accuracy:0.8672\n",
      "Epoch [181/200], average_loss:0.2957, validation_loss:0.3183, val_accuracy:0.8594\n",
      "Epoch [182/200], average_loss:0.2962, validation_loss:0.3129, val_accuracy:0.8594\n",
      "Epoch [183/200], average_loss:0.2943, validation_loss:0.3174, val_accuracy:0.8359\n",
      "Epoch [184/200], average_loss:0.2932, validation_loss:0.3157, val_accuracy:0.9141\n",
      "Epoch [185/200], average_loss:0.2953, validation_loss:0.3101, val_accuracy:0.9141\n",
      "Epoch [186/200], average_loss:0.2934, validation_loss:0.3210, val_accuracy:0.8281\n",
      "Epoch [187/200], average_loss:0.2932, validation_loss:0.3185, val_accuracy:0.8281\n",
      "Epoch [188/200], average_loss:0.2952, validation_loss:0.3156, val_accuracy:0.8750\n",
      "Epoch [189/200], average_loss:0.2943, validation_loss:0.3247, val_accuracy:0.8906\n",
      "Epoch [190/200], average_loss:0.2947, validation_loss:0.3238, val_accuracy:0.8984\n",
      "Epoch [191/200], average_loss:0.2936, validation_loss:0.3182, val_accuracy:0.8750\n",
      "Epoch [192/200], average_loss:0.2960, validation_loss:0.3217, val_accuracy:0.8594\n",
      "Epoch [193/200], average_loss:0.2941, validation_loss:0.3378, val_accuracy:0.8359\n",
      "Epoch [194/200], average_loss:0.2951, validation_loss:0.3132, val_accuracy:0.8750\n",
      "Epoch [195/200], average_loss:0.2927, validation_loss:0.3188, val_accuracy:0.8906\n",
      "Epoch [196/200], average_loss:0.2949, validation_loss:0.3265, val_accuracy:0.8750\n",
      "Epoch [197/200], average_loss:0.2937, validation_loss:0.3138, val_accuracy:0.8906\n",
      "Epoch [198/200], average_loss:0.2938, validation_loss:0.3127, val_accuracy:0.9062\n",
      "Epoch [199/200], average_loss:0.2925, validation_loss:0.3247, val_accuracy:0.8203\n",
      "Epoch [200/200], average_loss:0.2928, validation_loss:0.3097, val_accuracy:0.9062\n"
     ]
    }
   ],
   "source": [
    "lh = m3(epochs=range(100,200), train_loader=train_loader, validation_loader=valid_loader)"
   ]
  },
  {
   "cell_type": "code",
   "execution_count": 166,
   "metadata": {},
   "outputs": [],
   "source": [
    "m3.model.eval()\n",
    "with torch.no_grad():\n",
    "    x_pred = np.argmax(m3.model(torch.tensor(X_test).float().cuda()).cpu().detach(), axis=1)"
   ]
  },
  {
   "cell_type": "code",
   "execution_count": 167,
   "metadata": {
    "scrolled": false
   },
   "outputs": [
    {
     "data": {
      "text/plain": [
       "tensor([1, 0, 1,  ..., 1, 0, 1])"
      ]
     },
     "execution_count": 167,
     "metadata": {},
     "output_type": "execute_result"
    }
   ],
   "source": [
    "x_pred"
   ]
  },
  {
   "cell_type": "code",
   "execution_count": 168,
   "metadata": {},
   "outputs": [
    {
     "data": {
      "text/plain": [
       "0.8284568712860796"
      ]
     },
     "execution_count": 168,
     "metadata": {},
     "output_type": "execute_result"
    }
   ],
   "source": [
    "f1_score(y_true=y_test, y_pred=x_pred,average=\"macro\")"
   ]
  },
  {
   "cell_type": "code",
   "execution_count": 169,
   "metadata": {},
   "outputs": [
    {
     "data": {
      "text/plain": [
       "0.8805952380952381"
      ]
     },
     "execution_count": 169,
     "metadata": {},
     "output_type": "execute_result"
    }
   ],
   "source": [
    "accuracy_score(y_true=y_test, y_pred=x_pred)"
   ]
  },
  {
   "cell_type": "code",
   "execution_count": 170,
   "metadata": {},
   "outputs": [
    {
     "data": {
      "text/plain": [
       "array([[3790,  138,   47,  180],\n",
       "       [ 996, 9332,   82,  187],\n",
       "       [  17,   34,  419,   22],\n",
       "       [ 193,   71,   39, 1253]], dtype=int64)"
      ]
     },
     "execution_count": 170,
     "metadata": {},
     "output_type": "execute_result"
    }
   ],
   "source": [
    "cf1 = confusion_matrix(y_true=y_test, y_pred=x_pred)\n",
    "cf1"
   ]
  },
  {
   "cell_type": "code",
   "execution_count": 171,
   "metadata": {},
   "outputs": [],
   "source": [
    "#torch.save(m3.model, \"models_and_losses/NN_2x128_Drop=3_sigmoid_lr=1e-3_bs=512_epoch-200.pt\")\n",
    "#torch.save(m3.model.state_dict(), \"models_and_losses/NN_2x128_Drop=3_sigmoid_lr=1e-3_bs=512_epoch-200_state_dict.pt\")"
   ]
  },
  {
   "cell_type": "code",
   "execution_count": 172,
   "metadata": {},
   "outputs": [
    {
     "name": "stdout",
     "output_type": "stream",
     "text": [
      "Epoch [201/300], average_loss:0.2927, validation_loss:0.3124, val_accuracy:0.8750\n",
      "Epoch [202/300], average_loss:0.2926, validation_loss:0.3193, val_accuracy:0.7891\n",
      "Epoch [203/300], average_loss:0.2934, validation_loss:0.3131, val_accuracy:0.8750\n",
      "Epoch [204/300], average_loss:0.2932, validation_loss:0.3192, val_accuracy:0.9062\n",
      "Epoch [205/300], average_loss:0.2924, validation_loss:0.3201, val_accuracy:0.8750\n",
      "Epoch [206/300], average_loss:0.2912, validation_loss:0.3376, val_accuracy:0.8672\n",
      "Epoch [207/300], average_loss:0.2922, validation_loss:0.3118, val_accuracy:0.8359\n",
      "Epoch [208/300], average_loss:0.2929, validation_loss:0.3099, val_accuracy:0.9297\n",
      "Epoch [209/300], average_loss:0.2928, validation_loss:0.3159, val_accuracy:0.8984\n",
      "Epoch [210/300], average_loss:0.2930, validation_loss:0.3276, val_accuracy:0.8672\n",
      "Epoch [211/300], average_loss:0.2932, validation_loss:0.3162, val_accuracy:0.8828\n",
      "Epoch [212/300], average_loss:0.2929, validation_loss:0.3161, val_accuracy:0.8203\n",
      "Epoch [213/300], average_loss:0.2914, validation_loss:0.3093, val_accuracy:0.8984\n",
      "Epoch [214/300], average_loss:0.2918, validation_loss:0.3060, val_accuracy:0.8984\n",
      "Epoch [215/300], average_loss:0.2912, validation_loss:0.3212, val_accuracy:0.8906\n",
      "Epoch [216/300], average_loss:0.2931, validation_loss:0.3326, val_accuracy:0.8672\n",
      "Epoch [217/300], average_loss:0.2910, validation_loss:0.3171, val_accuracy:0.8750\n",
      "Epoch [218/300], average_loss:0.2938, validation_loss:0.3096, val_accuracy:0.8984\n",
      "Epoch [219/300], average_loss:0.2924, validation_loss:0.3149, val_accuracy:0.8906\n",
      "Epoch [220/300], average_loss:0.2914, validation_loss:0.3107, val_accuracy:0.8828\n",
      "Epoch [221/300], average_loss:0.2927, validation_loss:0.3100, val_accuracy:0.8594\n",
      "Epoch [222/300], average_loss:0.2923, validation_loss:0.3136, val_accuracy:0.8750\n",
      "Epoch [223/300], average_loss:0.2920, validation_loss:0.3165, val_accuracy:0.8750\n",
      "Epoch [224/300], average_loss:0.2930, validation_loss:0.3232, val_accuracy:0.9062\n",
      "Epoch [225/300], average_loss:0.2901, validation_loss:0.3069, val_accuracy:0.8750\n",
      "Epoch [226/300], average_loss:0.2907, validation_loss:0.3134, val_accuracy:0.8828\n",
      "Epoch [227/300], average_loss:0.2922, validation_loss:0.3133, val_accuracy:0.8750\n",
      "Epoch [228/300], average_loss:0.2916, validation_loss:0.3294, val_accuracy:0.8281\n",
      "Epoch [229/300], average_loss:0.2907, validation_loss:0.3153, val_accuracy:0.9141\n",
      "Epoch [230/300], average_loss:0.2896, validation_loss:0.3238, val_accuracy:0.8438\n",
      "Epoch [231/300], average_loss:0.2912, validation_loss:0.3251, val_accuracy:0.8125\n",
      "Epoch [232/300], average_loss:0.2913, validation_loss:0.3151, val_accuracy:0.9062\n",
      "Epoch [233/300], average_loss:0.2922, validation_loss:0.3102, val_accuracy:0.8984\n",
      "Epoch [234/300], average_loss:0.2905, validation_loss:0.3175, val_accuracy:0.8359\n",
      "Epoch [235/300], average_loss:0.2902, validation_loss:0.3147, val_accuracy:0.8906\n",
      "Epoch [236/300], average_loss:0.2907, validation_loss:0.3137, val_accuracy:0.9141\n",
      "Epoch [237/300], average_loss:0.2919, validation_loss:0.3150, val_accuracy:0.9062\n",
      "Epoch [238/300], average_loss:0.2917, validation_loss:0.3265, val_accuracy:0.8281\n",
      "Epoch [239/300], average_loss:0.2906, validation_loss:0.3168, val_accuracy:0.8828\n",
      "Epoch [240/300], average_loss:0.2908, validation_loss:0.3185, val_accuracy:0.8906\n",
      "Epoch [241/300], average_loss:0.2894, validation_loss:0.3233, val_accuracy:0.8516\n",
      "Epoch [242/300], average_loss:0.2894, validation_loss:0.3225, val_accuracy:0.8594\n",
      "Epoch [243/300], average_loss:0.2899, validation_loss:0.3238, val_accuracy:0.8984\n",
      "Epoch [244/300], average_loss:0.2896, validation_loss:0.3229, val_accuracy:0.8828\n",
      "Epoch [245/300], average_loss:0.2885, validation_loss:0.3093, val_accuracy:0.8984\n",
      "Epoch [246/300], average_loss:0.2894, validation_loss:0.3047, val_accuracy:0.9062\n",
      "Epoch [247/300], average_loss:0.2899, validation_loss:0.3092, val_accuracy:0.9219\n",
      "Epoch [248/300], average_loss:0.2898, validation_loss:0.3196, val_accuracy:0.9375\n",
      "Epoch [249/300], average_loss:0.2894, validation_loss:0.3084, val_accuracy:0.8516\n",
      "Epoch [250/300], average_loss:0.2872, validation_loss:0.3147, val_accuracy:0.8750\n",
      "Epoch [251/300], average_loss:0.2913, validation_loss:0.3092, val_accuracy:0.8672\n",
      "Epoch [252/300], average_loss:0.2885, validation_loss:0.3155, val_accuracy:0.8438\n",
      "Epoch [253/300], average_loss:0.2895, validation_loss:0.3143, val_accuracy:0.8672\n",
      "Epoch [254/300], average_loss:0.2887, validation_loss:0.3217, val_accuracy:0.8984\n",
      "Epoch [255/300], average_loss:0.2896, validation_loss:0.3125, val_accuracy:0.8828\n",
      "Epoch [256/300], average_loss:0.2882, validation_loss:0.2976, val_accuracy:0.8984\n",
      "Epoch [257/300], average_loss:0.2883, validation_loss:0.3134, val_accuracy:0.9062\n",
      "Epoch [258/300], average_loss:0.2880, validation_loss:0.3105, val_accuracy:0.8828\n",
      "Epoch [259/300], average_loss:0.2894, validation_loss:0.3080, val_accuracy:0.8828\n",
      "Epoch [260/300], average_loss:0.2899, validation_loss:0.3154, val_accuracy:0.8750\n",
      "Epoch [261/300], average_loss:0.2885, validation_loss:0.3211, val_accuracy:0.7969\n",
      "Epoch [262/300], average_loss:0.2902, validation_loss:0.3076, val_accuracy:0.8750\n",
      "Epoch [263/300], average_loss:0.2895, validation_loss:0.3147, val_accuracy:0.9375\n",
      "Epoch [264/300], average_loss:0.2892, validation_loss:0.3162, val_accuracy:0.8594\n",
      "Epoch [265/300], average_loss:0.2897, validation_loss:0.3140, val_accuracy:0.9062\n",
      "Epoch [266/300], average_loss:0.2889, validation_loss:0.3090, val_accuracy:0.8750\n",
      "Epoch [267/300], average_loss:0.2897, validation_loss:0.3157, val_accuracy:0.8203\n",
      "Epoch [268/300], average_loss:0.2893, validation_loss:0.3082, val_accuracy:0.9297\n",
      "Epoch [269/300], average_loss:0.2890, validation_loss:0.3174, val_accuracy:0.9062\n",
      "Epoch [270/300], average_loss:0.2877, validation_loss:0.3165, val_accuracy:0.8828\n",
      "Epoch [271/300], average_loss:0.2884, validation_loss:0.3106, val_accuracy:0.8438\n",
      "Epoch [272/300], average_loss:0.2893, validation_loss:0.3171, val_accuracy:0.9062\n",
      "Epoch [273/300], average_loss:0.2881, validation_loss:0.3054, val_accuracy:0.8906\n",
      "Epoch [274/300], average_loss:0.2886, validation_loss:0.3168, val_accuracy:0.8516\n",
      "Epoch [275/300], average_loss:0.2887, validation_loss:0.3175, val_accuracy:0.8203\n",
      "Epoch [276/300], average_loss:0.2892, validation_loss:0.3149, val_accuracy:0.8516\n",
      "Epoch [277/300], average_loss:0.2878, validation_loss:0.3100, val_accuracy:0.8750\n",
      "Epoch [278/300], average_loss:0.2878, validation_loss:0.3070, val_accuracy:0.8672\n",
      "Epoch [279/300], average_loss:0.2897, validation_loss:0.3054, val_accuracy:0.9062\n",
      "Epoch [280/300], average_loss:0.2885, validation_loss:0.3137, val_accuracy:0.8359\n",
      "Epoch [281/300], average_loss:0.2880, validation_loss:0.3123, val_accuracy:0.9375\n",
      "Epoch [282/300], average_loss:0.2880, validation_loss:0.3141, val_accuracy:0.8516\n",
      "Epoch [283/300], average_loss:0.2875, validation_loss:0.3139, val_accuracy:0.8750\n",
      "Epoch [284/300], average_loss:0.2898, validation_loss:0.3107, val_accuracy:0.8672\n",
      "Epoch [285/300], average_loss:0.2879, validation_loss:0.3110, val_accuracy:0.8672\n",
      "Epoch [286/300], average_loss:0.2875, validation_loss:0.3165, val_accuracy:0.8516\n",
      "Epoch [287/300], average_loss:0.2871, validation_loss:0.3083, val_accuracy:0.9141\n",
      "Epoch [288/300], average_loss:0.2889, validation_loss:0.3144, val_accuracy:0.8438\n",
      "Epoch [289/300], average_loss:0.2872, validation_loss:0.3159, val_accuracy:0.8906\n",
      "Epoch [290/300], average_loss:0.2862, validation_loss:0.3185, val_accuracy:0.8516\n",
      "Epoch [291/300], average_loss:0.2870, validation_loss:0.3084, val_accuracy:0.8906\n",
      "Epoch [292/300], average_loss:0.2865, validation_loss:0.3117, val_accuracy:0.8828\n",
      "Epoch [293/300], average_loss:0.2885, validation_loss:0.3020, val_accuracy:0.8438\n",
      "Epoch [294/300], average_loss:0.2879, validation_loss:0.3148, val_accuracy:0.8516\n",
      "Epoch [295/300], average_loss:0.2884, validation_loss:0.3073, val_accuracy:0.8594\n",
      "Epoch [296/300], average_loss:0.2871, validation_loss:0.3145, val_accuracy:0.8906\n",
      "Epoch [297/300], average_loss:0.2876, validation_loss:0.3151, val_accuracy:0.8750\n",
      "Epoch [298/300], average_loss:0.2883, validation_loss:0.3226, val_accuracy:0.8750\n",
      "Epoch [299/300], average_loss:0.2882, validation_loss:0.3052, val_accuracy:0.8984\n",
      "Epoch [300/300], average_loss:0.2878, validation_loss:0.3151, val_accuracy:0.8750\n"
     ]
    }
   ],
   "source": [
    "lh = m3(epochs=range(200,300), train_loader=train_loader, validation_loader=valid_loader)"
   ]
  },
  {
   "cell_type": "code",
   "execution_count": 166,
   "metadata": {},
   "outputs": [],
   "source": [
    "m3.model.eval()\n",
    "with torch.no_grad():\n",
    "    x_pred = np.argmax(m3.model(torch.tensor(X_test).float().cuda()).cpu().detach(), axis=1)"
   ]
  },
  {
   "cell_type": "code",
   "execution_count": null,
   "metadata": {
    "scrolled": false
   },
   "outputs": [],
   "source": [
    "x_pred"
   ]
  },
  {
   "cell_type": "code",
   "execution_count": null,
   "metadata": {},
   "outputs": [],
   "source": [
    "f1_score(y_true=y_test, y_pred=x_pred,average=\"macro\")"
   ]
  },
  {
   "cell_type": "code",
   "execution_count": null,
   "metadata": {},
   "outputs": [],
   "source": [
    "accuracy_score(y_true=y_test, y_pred=x_pred)"
   ]
  },
  {
   "cell_type": "code",
   "execution_count": null,
   "metadata": {},
   "outputs": [],
   "source": [
    "cf1 = confusion_matrix(y_true=y_test, y_pred=x_pred)\n",
    "cf1"
   ]
  },
  {
   "cell_type": "code",
   "execution_count": null,
   "metadata": {},
   "outputs": [],
   "source": []
  }
 ],
 "metadata": {
  "kernelspec": {
   "display_name": "Pytorch",
   "language": "python",
   "name": "pytorch"
  },
  "language_info": {
   "codemirror_mode": {
    "name": "ipython",
    "version": 3
   },
   "file_extension": ".py",
   "mimetype": "text/x-python",
   "name": "python",
   "nbconvert_exporter": "python",
   "pygments_lexer": "ipython3",
   "version": "3.6.9"
  }
 },
 "nbformat": 4,
 "nbformat_minor": 2
}
